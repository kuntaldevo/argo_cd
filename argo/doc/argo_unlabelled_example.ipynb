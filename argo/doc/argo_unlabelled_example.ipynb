{
 "cells": [
  {
   "cell_type": "markdown",
   "metadata": {},
   "source": [
    "# ARGO Example (using an unlabelled dataset)"
   ]
  },
  {
   "cell_type": "markdown",
   "metadata": {},
   "source": [
    "This notebook contains an example of how the ARGO package can be used to:\n",
    "\n",
    "* Optimise existing rules\n",
    "* Identify unnecessary rules\n",
    "* Test final rule set on test data\n",
    "* Generate/update the system-ready configs of the final rule set\n",
    "* Update the Simility environment with the final rule set\n",
    "\n",
    "**Currently, ARGO is unable to generate rules or scores using an unlabelled dataset.**"
   ]
  },
  {
   "cell_type": "markdown",
   "metadata": {},
   "source": [
    "## Requirements"
   ]
  },
  {
   "cell_type": "markdown",
   "metadata": {},
   "source": [
    "To run, you'll need the following:\n",
    "\n",
    "* Install the ARGO package - see the readme for more information.\n",
    "* A raw, unlabelled dataset."
   ]
  },
  {
   "cell_type": "markdown",
   "metadata": {},
   "source": [
    "---"
   ]
  },
  {
   "cell_type": "markdown",
   "metadata": {},
   "source": [
    "## Table of contents\n",
    "1. [Read/process data](#ReadProcessData)\n",
    "2. [Rule Optimisation](#RuleOptimisation)\n",
    "3. [Identify unnecessary rules](#CombineRules)\n",
    "4. [Remove filtered rules from rule set](#RemoveFiltered)\n",
    "5. [Test final rule set on test data](#TestFinal)\n",
    "7. [Update the system-ready configs of the rules](#GenUpdateSysConfigs)\n",
    "8. [Update the Simility environment with the final rule set](#UpdateSimility)\t"
   ]
  },
  {
   "cell_type": "markdown",
   "metadata": {},
   "source": [
    "----"
   ]
  },
  {
   "cell_type": "markdown",
   "metadata": {},
   "source": [
    "## Import packages"
   ]
  },
  {
   "cell_type": "code",
   "execution_count": 4,
   "metadata": {},
   "outputs": [],
   "source": [
    "from simility_apis.set_password import set_password\n",
    "from argo.read_data import DataReader\n",
    "from argo.simility_requests import ReturnPipelineOutputDatatypes, ReturnCassandraPipelineOutputMapping, ReturnRuleConditionsFromSimility, ReturnRuleConfigsFromSimility, UpdateRulesInSimility\n",
    "from argo.rule_optimisation import RuleOptimiser, AlertsPerDay\n",
    "from argo.rules import Rules\n",
    "from argo.correlation_reduction import AgglomerativeClusteringFeatureReduction, JaccardSimilarity\n",
    "from argo.rule_filtering import FilterRules, FilterCorrelatedRules\n",
    "from argo.system_config_generation import UpdateExistingConfigs\n",
    "from argo.rule_application import ArgoRuleApplier, SimRuleApplier\n",
    "\n",
    "import pandas as pd\n",
    "import numpy as np\n",
    "from sklearn.model_selection import train_test_split"
   ]
  },
  {
   "cell_type": "markdown",
   "metadata": {},
   "source": [
    "---"
   ]
  },
  {
   "cell_type": "markdown",
   "metadata": {},
   "source": [
    "## Read/process data <a name=\"ReadProcessData\"></a>"
   ]
  },
  {
   "cell_type": "markdown",
   "metadata": {},
   "source": [
    "### Read in data"
   ]
  },
  {
   "cell_type": "markdown",
   "metadata": {},
   "source": [
    "Note: If using the in-built APIs in ARGO to update rules in the system, it's important that the datatypes used in the data align to the Cassandra datatypes in the system. For this, use the *read_data* module (not that if this isn't required, you can use Panda's standard reading methods).\n",
    "\n",
    "First, you need to set the password you use to log in to the Simility environment:"
   ]
  },
  {
   "cell_type": "code",
   "execution_count": 5,
   "metadata": {},
   "outputs": [
    {
     "name": "stdin",
     "output_type": "stream",
     "text": [
      "Please provide your password for logging into the Simility platform:  ·········\n"
     ]
    }
   ],
   "source": [
    "set_password()"
   ]
  },
  {
   "cell_type": "markdown",
   "metadata": {},
   "source": [
    "Now let's define some credential-related variables (as these are used in multiple classes throughout the example):"
   ]
  },
  {
   "cell_type": "code",
   "execution_count": 6,
   "metadata": {},
   "outputs": [],
   "source": [
    "url = 'http://sim-ds.us-central1.gcp.dev.paypalinc.com'\n",
    "app_prefix = 'james_testing'\n",
    "user = 'james@simility.com'\n",
    "base_entity = 'transaction'"
   ]
  },
  {
   "cell_type": "markdown",
   "metadata": {},
   "source": [
    "Now we can use the *DataReader* class from the *read_data* module to read in the raw, unlabelled dummy pipeline output data (stored as a CSV file). **Note that the CSV should not contain duplicate records**:"
   ]
  },
  {
   "cell_type": "code",
   "execution_count": 7,
   "metadata": {},
   "outputs": [],
   "source": [
    "dr = DataReader(url=url,\n",
    "                app_prefix=app_prefix,\n",
    "                user=user,\n",
    "                base_entity=base_entity)"
   ]
  },
  {
   "cell_type": "code",
   "execution_count": 8,
   "metadata": {},
   "outputs": [],
   "source": [
    "data = dr.read_csv(filepath='dummy_data/dummy_pipeline_output_data_unlabelled.csv',\n",
    "                   index_col='eid')"
   ]
  },
  {
   "cell_type": "code",
   "execution_count": 9,
   "metadata": {},
   "outputs": [
    {
     "data": {
      "text/plain": [
       "(13276, 63)"
      ]
     },
     "execution_count": 9,
     "metadata": {},
     "output_type": "execute_result"
    }
   ],
   "source": [
    "data.shape"
   ]
  },
  {
   "cell_type": "markdown",
   "metadata": {},
   "source": [
    "### Process the data"
   ]
  },
  {
   "cell_type": "markdown",
   "metadata": {},
   "source": [
    "#### Train/test split"
   ]
  },
  {
   "cell_type": "markdown",
   "metadata": {},
   "source": [
    "Before applying any data processing steps, we should split the data into training and test sets:"
   ]
  },
  {
   "cell_type": "code",
   "execution_count": 10,
   "metadata": {},
   "outputs": [],
   "source": [
    "X_train, X_test = train_test_split(data, test_size=0.33, random_state=0)"
   ]
  },
  {
   "cell_type": "markdown",
   "metadata": {},
   "source": [
    "----"
   ]
  },
  {
   "cell_type": "markdown",
   "metadata": {},
   "source": [
    "## Rule Optimisation <a name=\"RuleOptimisation\"></a>"
   ]
  },
  {
   "cell_type": "markdown",
   "metadata": {},
   "source": [
    "### Setting rule optimisation function"
   ]
  },
  {
   "cell_type": "markdown",
   "metadata": {},
   "source": [
    "For rule optimisation, you'll need to specify the optimisation function (which calculates a metric which the algorithm optimises for each rule). Here we're using the *.fit()* method from the *AlertsPerDay* class, which calculates the negative squared difference between the daily number of records a rule flags vs the targetted daily number of records flagged. This means that when the rule optimiser comes to maximise this metric, it will try to minimise the difference between the actual number of records flagged and the targetted number of records flagged.\n",
    "\n",
    "See the *optimisation_functions_example* example notebook in the *rule_optimisation* sub-package for more information on additional optimisation functions that can be used on unlabelled datasets."
   ]
  },
  {
   "cell_type": "code",
   "execution_count": 11,
   "metadata": {},
   "outputs": [],
   "source": [
    "apd = AlertsPerDay(n_alerts_expected_per_day=10, no_of_days_in_file=10)"
   ]
  },
  {
   "cell_type": "markdown",
   "metadata": {},
   "source": [
    "Now we can optimise rules which currently reside in the Simility environment. This process involves the following steps:\n",
    "\n",
    "1. Fetch the system rule conditions from the Simility environment.\n",
    "2. Convert these conditions into an ARGO-readable format.\n",
    "3. Optimise the thresholds of these rules.\n",
    "4. Visualise the performance uplift.\n",
    "5. Apply the optimised rules to the dataset.\n",
    "6. Get the binary columns for the un-optimised rules"
   ]
  },
  {
   "cell_type": "markdown",
   "metadata": {},
   "source": [
    "### 1. Fetch the rule conditions from the Simility environment"
   ]
  },
  {
   "cell_type": "markdown",
   "metadata": {},
   "source": [
    "To pull the system rule conditions, we'll use the *return_rule_conditions_from_simility* module in the *simility_requests* sub-package:"
   ]
  },
  {
   "cell_type": "code",
   "execution_count": 12,
   "metadata": {},
   "outputs": [],
   "source": [
    "rrc = ReturnRuleConditionsFromSimility(url=url,\n",
    "                                       app_prefix=app_prefix,\n",
    "                                       user=user,\n",
    "                                       entity=base_entity, \n",
    "                                       keep_active_only=True)"
   ]
  },
  {
   "cell_type": "code",
   "execution_count": 13,
   "metadata": {},
   "outputs": [],
   "source": [
    "orig_sys_conditions = rrc.request()"
   ]
  },
  {
   "cell_type": "markdown",
   "metadata": {},
   "source": [
    "#### Outputs"
   ]
  },
  {
   "cell_type": "markdown",
   "metadata": {},
   "source": [
    "The *.request()* method returns a dictionary of the system rule names (keys) and their conditions (values)."
   ]
  },
  {
   "cell_type": "markdown",
   "metadata": {},
   "source": [
    "### 2. Convert rule conditions into an ARGO-readable format"
   ]
  },
  {
   "cell_type": "markdown",
   "metadata": {},
   "source": [
    "Now that we have the system rule conditions, we need to convert them to an ARGO-readable format. To do this, we'll use the *rules* module - this module allows us to define a set of rules using a given format, then convert this rule set to a difference format. In this case, we'll be converting from the system-ready format to the standard ARGO lambda expression format.\n",
    "\n",
    "The standard ARGO lambda expression format allows new values to be injected into the condition string of a rule. This means that the rule's performance can be evaluated with new values (which is used in the Rule Optimisation step)."
   ]
  },
  {
   "cell_type": "code",
   "execution_count": 14,
   "metadata": {},
   "outputs": [],
   "source": [
    "system_rules = Rules(system_dicts=orig_sys_conditions)"
   ]
  },
  {
   "cell_type": "code",
   "execution_count": 15,
   "metadata": {},
   "outputs": [
    {
     "name": "stderr",
     "output_type": "stream",
     "text": [
      "/Users/jlaidler/venvs/argov2/lib/python3.7/site-packages/rules/convert_system_dicts_to_rule_dicts.py:79: UserWarning: JavaEL : Operator `java_el` is not currently supported in ARGO. Rule cannot be parsed.\n",
      "  warnings.warn(f'{rule_name} : {e}')\n"
     ]
    }
   ],
   "source": [
    "system_lambdas = system_rules.as_rule_lambdas(as_numpy=False, with_kwargs=True)"
   ]
  },
  {
   "cell_type": "markdown",
   "metadata": {},
   "source": [
    "**Note that there may be rules which could not be converted into the standard ARGO lambda expression format, as they contain unsupported operators. The list of rule names that could not be converted are stored in the class attribute *unparsed_rules*:**"
   ]
  },
  {
   "cell_type": "code",
   "execution_count": 16,
   "metadata": {},
   "outputs": [
    {
     "data": {
      "text/plain": [
       "['JavaEL']"
      ]
     },
     "execution_count": 16,
     "metadata": {},
     "output_type": "execute_result"
    }
   ],
   "source": [
    "system_rules.unparsed_rules"
   ]
  },
  {
   "cell_type": "markdown",
   "metadata": {},
   "source": [
    "#### Outputs"
   ]
  },
  {
   "cell_type": "markdown",
   "metadata": {},
   "source": [
    "The *.as_rule_lambdas()* method returns a dictionary of the set of rules defined using the standard ARGO lambda expression format (values) and their names (keys). It also saves this dictionary as the class attribute *rule_lambdas*.\n",
    "\n",
    "Three useful attributes created by running the *.as_rule_lambdas()* method are:\n",
    "\n",
    "- lambda_kwargs (dict): For each rule (keys), a dictionary containing the features used in the rule (keys) and the current values (values). **Only populates when .as_rule_lambdas() is used with the keyword argument with_kwargs=True.**\n",
    "- lambda_args (dict): For each rule (keys), a list containing the current values used in the rule. **Only populates when .as_rule_lambdas() is used with the keyword argument with_kwargs=False.**\n",
    "- rule_features (dict): For each rule (keys), a list containing the features used in the rule. **Only populates when .as_rule_lambdas() is used with the keyword argument with_kwargs=False.**\n",
    "- unparsed_rules (list): List of rules which could not be parsed to an ARGO-ready format (due to unsupported operators)."
   ]
  },
  {
   "cell_type": "markdown",
   "metadata": {},
   "source": [
    "### 3. Optimise the thresholds of these rules"
   ]
  },
  {
   "cell_type": "markdown",
   "metadata": {},
   "source": [
    "**Note that rules containing a high number of *contains* operators can take longer to optimise.**\n",
    "\n",
    "Now that we have the system rules stored in the standard ARGO lambda expression format, we can feed these into the Rule Optimiser to optimise their thresholds:"
   ]
  },
  {
   "cell_type": "code",
   "execution_count": 17,
   "metadata": {},
   "outputs": [],
   "source": [
    "system_opt = RuleOptimiser(rule_lambdas=system_lambdas,\n",
    "                           lambda_kwargs=system_rules.lambda_kwargs,\n",
    "                           opt_func=apd.fit,\n",
    "                           n_iter=30)"
   ]
  },
  {
   "cell_type": "code",
   "execution_count": 18,
   "metadata": {},
   "outputs": [
    {
     "name": "stdout",
     "output_type": "stream",
     "text": [
      "100%|██████████| 30/30 [00:00<00:00, 180.71trial/s, best loss: 0.09000000000000043]\n",
      "100%|██████████| 30/30 [00:00<00:00, 497.99trial/s, best loss: 0.489999999999999]\n",
      "100%|██████████| 30/30 [00:00<00:00, 200.09trial/s, best loss: 0.009999999999999929]\n",
      "100%|██████████| 30/30 [00:00<00:00, 562.50trial/s, best loss: 57.76]\n",
      "100%|██████████| 30/30 [00:00<00:00, 252.38trial/s, best loss: 1.0]\n",
      "100%|██████████| 30/30 [00:00<00:00, 211.69trial/s, best loss: 7.290000000000001]\n",
      "100%|██████████| 30/30 [00:00<00:00, 378.26trial/s, best loss: 25.0]\n",
      "100%|██████████| 30/30 [00:00<00:00, 188.79trial/s, best loss: 67.24]            \n",
      "100%|██████████| 30/30 [00:00<00:00, 198.73trial/s, best loss: 0.3599999999999996]\n",
      "100%|██████████| 30/30 [00:00<00:00, 224.72trial/s, best loss: 22.090000000000003]\n",
      "100%|██████████| 30/30 [00:00<00:00, 140.57trial/s, best loss: 29.160000000000004]\n",
      "100%|██████████| 30/30 [00:00<00:00, 181.81trial/s, best loss: 37.209999999999994]\n",
      "100%|██████████| 30/30 [00:00<00:00, 188.14trial/s, best loss: 26.009999999999998]\n",
      "100%|██████████| 30/30 [00:00<00:00, 187.24trial/s, best loss: 12.25]             \n",
      "100%|██████████| 30/30 [00:00<00:00, 214.08trial/s, best loss: 96.04000000000002]\n",
      "100%|██████████| 30/30 [00:00<00:00, 199.99trial/s, best loss: 33.64]             \n",
      "100%|██████████| 30/30 [00:00<00:00, 284.10trial/s, best loss: 3.2400000000000024]\n",
      "100%|██████████| 30/30 [00:00<00:00, 165.86trial/s, best loss: 0.6400000000000011]\n",
      "100%|██████████| 30/30 [00:00<00:00, 182.61trial/s, best loss: 0.039999999999999716]\n",
      "100%|██████████| 30/30 [00:00<00:00, 149.10trial/s, best loss: 1.0]\n"
     ]
    }
   ],
   "source": [
    "opt_rule_strings = system_opt.fit(X=X_train)"
   ]
  },
  {
   "cell_type": "markdown",
   "metadata": {},
   "source": [
    "### Outputs"
   ]
  },
  {
   "cell_type": "markdown",
   "metadata": {},
   "source": [
    "The *.fit()* method returns a dictionary of optimised rules stored in the standard ARGO string format (values) and their names (keys)\n",
    "\n",
    "Useful attributes created by running the *.fit()* method are:\n",
    "\n",
    "* opt_rule_strings (dict): The optimised rules stored in the standard ARGO string format (values) and their names (keys).    \n",
    "* rule_names_missing_features (list): Names of rules which use features that are not present in the dataset (and therefore can't be optimised or applied).\n",
    "* rule_names_no_opt_conditions (list): Names of rules which have no optimisable conditions (e.g. rules that only contain string-based conditions).\n",
    "* rule_names_zero_var_features (list): Names of rules which exclusively contain zero variance features (based on *X*), so cannot be optimised.\n",
    "* rules (object): Class containing the optimised rules stored in the standard ARGO string format. Methods from this class can be used to convert the rules into the standard ARGO dictionary or lambda expression representations. See the rules module for more information.\n",
    "* opt_rule_performances (dict): The optimisation metric (values) calculated for each optimised rule (keys).\n",
    "* orig_rule_performances (dict): The optimisation metric (values) calculated for each original rule (keys)."
   ]
  },
  {
   "cell_type": "markdown",
   "metadata": {},
   "source": [
    "### 4. Visualise the performance uplift"
   ]
  },
  {
   "cell_type": "markdown",
   "metadata": {},
   "source": [
    "We can visualise the performance uplift of the optimised rules using the *.plot_performance_uplift()* and *.plot_performance_uplift_distribution()* methods:\n",
    "\n",
    "* *.plot_performance_uplift()*: Generates a scatterplot showing the performance of each rule before and after optimisation.\n",
    "* *.plot_performance_uplift_distribution()*: Generates a boxplot showing the distribution of performance uplifts (original rules vs optimised rules)."
   ]
  },
  {
   "cell_type": "markdown",
   "metadata": {},
   "source": [
    "#### On the training set"
   ]
  },
  {
   "cell_type": "markdown",
   "metadata": {},
   "source": [
    "To visualise the uplift on the training set, we can use the class attributes *orig_rule_performances* and *opt_rule_performances* in the plotting methods, as these were generated as part of the optimisation process:"
   ]
  },
  {
   "cell_type": "code",
   "execution_count": 19,
   "metadata": {},
   "outputs": [
    {
     "data": {
      "image/png": "[encoded data removed]",
      "text/plain": [
       "<Figure size 720x360 with 1 Axes>"
      ]
     },
     "metadata": {
      "needs_background": "light"
     },
     "output_type": "display_data"
    }
   ],
   "source": [
    "system_opt.plot_performance_uplift(orig_rule_performances=system_opt.orig_rule_performances,\n",
    "                                   opt_rule_performances=system_opt.opt_rule_performances,\n",
    "                                   figsize=(10, 5))"
   ]
  },
  {
   "cell_type": "code",
   "execution_count": 20,
   "metadata": {},
   "outputs": [
    {
     "data": {
      "image/png": "[encoded data removed]",
      "text/plain": [
       "<Figure size 216x504 with 1 Axes>"
      ]
     },
     "metadata": {
      "needs_background": "light"
     },
     "output_type": "display_data"
    }
   ],
   "source": [
    "system_opt.plot_performance_uplift_distribution(orig_rule_performances=system_opt.orig_rule_performances,\n",
    "                                                opt_rule_performances=system_opt.opt_rule_performances,\n",
    "                                                figsize=(3, 7))"
   ]
  },
  {
   "cell_type": "markdown",
   "metadata": {},
   "source": [
    "#### On the test set"
   ]
  },
  {
   "cell_type": "markdown",
   "metadata": {},
   "source": [
    "To visualise the uplift on the test set, we first need to generate the *orig_rule_performances* and *opt_rule_performances* parameters used in the plotting methods as these aren't created as part of the optimisation process. To do this, we need to apply both the original rules and the optimised rules to the test set. **Note that before we apply the original rules, we need to remove those containing features that are missing in *X_train*:**"
   ]
  },
  {
   "cell_type": "code",
   "execution_count": 21,
   "metadata": {},
   "outputs": [
    {
     "name": "stderr",
     "output_type": "stream",
     "text": [
      "/Users/jlaidler/venvs/argov2/lib/python3.7/site-packages/rules/convert_system_dicts_to_rule_dicts.py:79: UserWarning: JavaEL : Operator `java_el` is not currently supported in ARGO. Rule cannot be parsed.\n",
      "  warnings.warn(f'{rule_name} : {e}')\n"
     ]
    }
   ],
   "source": [
    "# Original rules\n",
    "system_rules.filter_rules(exclude=system_opt.rule_names_missing_features)\n",
    "orig_sys_rule_strings = system_rules.as_rule_strings(as_numpy=False)\n",
    "orig_ra = ArgoRuleApplier(rule_strings=orig_sys_rule_strings, \n",
    "                          opt_func=apd.fit)\n",
    "_ = orig_ra.apply(X=X_test)\n",
    "orig_rule_performances_test = orig_ra.rule_descriptions['OptMetric']"
   ]
  },
  {
   "cell_type": "code",
   "execution_count": 22,
   "metadata": {},
   "outputs": [],
   "source": [
    "# Optimised rules\n",
    "opt_ra = ArgoRuleApplier(rule_strings=opt_rule_strings, \n",
    "                         opt_func=apd.fit)\n",
    "_ = opt_ra.apply(X=X_test)\n",
    "opt_rule_performances_test = opt_ra.rule_descriptions['OptMetric']"
   ]
  },
  {
   "cell_type": "code",
   "execution_count": 23,
   "metadata": {},
   "outputs": [
    {
     "data": {
      "image/png": "[encoded data removed]",
      "text/plain": [
       "<Figure size 720x360 with 1 Axes>"
      ]
     },
     "metadata": {
      "needs_background": "light"
     },
     "output_type": "display_data"
    }
   ],
   "source": [
    "system_opt.plot_performance_uplift(orig_rule_performances=orig_rule_performances_test,\n",
    "                                   opt_rule_performances=opt_rule_performances_test,\n",
    "                                   figsize=(10, 5))"
   ]
  },
  {
   "cell_type": "code",
   "execution_count": 24,
   "metadata": {},
   "outputs": [
    {
     "data": {
      "image/png": "[encoded data removed]",
      "text/plain": [
       "<Figure size 216x504 with 1 Axes>"
      ]
     },
     "metadata": {
      "needs_background": "light"
     },
     "output_type": "display_data"
    }
   ],
   "source": [
    "system_opt.plot_performance_uplift_distribution(orig_rule_performances=orig_rule_performances_test,\n",
    "                                                opt_rule_performances=opt_rule_performances_test,\n",
    "                                                figsize=(3, 7))"
   ]
  },
  {
   "cell_type": "markdown",
   "metadata": {},
   "source": [
    "### 5. Apply the optimised rules to the dataset"
   ]
  },
  {
   "cell_type": "markdown",
   "metadata": {},
   "source": [
    "Now that we have the optimised rules, we can apply them to the dataset:"
   ]
  },
  {
   "cell_type": "code",
   "execution_count": 25,
   "metadata": {},
   "outputs": [],
   "source": [
    "X_rules_opt_sys_train = system_opt.apply(X=X_train)"
   ]
  },
  {
   "cell_type": "markdown",
   "metadata": {},
   "source": [
    "### Outputs"
   ]
  },
  {
   "cell_type": "markdown",
   "metadata": {},
   "source": [
    "The *.apply()* method returns a dataframe giving the binary columns of the rules as applied to the given dataset.\n",
    "\n",
    "A useful attribute created by running the *.apply()* method is:\n",
    "\n",
    "* rule_descriptions: A dataframe showing the logic of the optimised rules and their performance metrics as applied to the given dataset."
   ]
  },
  {
   "cell_type": "markdown",
   "metadata": {},
   "source": [
    "### 6. Get the binary columns for the un-optimised rules"
   ]
  },
  {
   "cell_type": "markdown",
   "metadata": {},
   "source": [
    "For the rules which either:\n",
    "\n",
    "1. ARGO couldn't convert into the standard ARGO lambda expression format, or; \n",
    "2. ARGO couldn't apply to the dataset due to missing features\n",
    "\n",
    "we can use the *SimRuleApplier* class from the *rule_application* sub-package to apply these rules to a dataset and get their performance, using the *sim_ll* column:"
   ]
  },
  {
   "cell_type": "code",
   "execution_count": 26,
   "metadata": {},
   "outputs": [],
   "source": [
    "rules_cannot_be_applied = system_rules.unparsed_rules + system_opt.rule_names_missing_features"
   ]
  },
  {
   "cell_type": "code",
   "execution_count": 27,
   "metadata": {},
   "outputs": [
    {
     "name": "stderr",
     "output_type": "stream",
     "text": [
      "/Users/jlaidler/venvs/argov2/lib/python3.7/site-packages/pandas/core/series.py:4535: SettingWithCopyWarning: \n",
      "A value is trying to be set on a copy of a slice from a DataFrame\n",
      "\n",
      "See the caveats in the documentation: https://pandas.pydata.org/pandas-docs/stable/user_guide/indexing.html#returning-a-view-versus-a-copy\n",
      "  downcast=downcast,\n"
     ]
    }
   ],
   "source": [
    "sra = SimRuleApplier(opt_func=apd.fit, sim_ll_column='sim_ll', rules=rules_cannot_be_applied)\n",
    "X_rules_unopt_sys_train = sra.apply(X=X_train)"
   ]
  },
  {
   "cell_type": "markdown",
   "metadata": {},
   "source": [
    "### Outputs"
   ]
  },
  {
   "cell_type": "markdown",
   "metadata": {},
   "source": [
    "The *.apply()* method returns a dataframe giving the binary columns of the rules as applied to the given dataset.\n",
    "\n",
    "A useful attribute created by running the *.apply()* method is:\n",
    "\n",
    "* rule_descriptions: A dataframe showing the logic of the rules and their performance metrics as applied to the given dataset.\n",
    "* rules_not_in_sim_ll: List of rule names that were provided in the *rules* class constructor parameter but could not be found in the *sim_ll* column."
   ]
  },
  {
   "cell_type": "markdown",
   "metadata": {},
   "source": [
    "---"
   ]
  },
  {
   "cell_type": "markdown",
   "metadata": {},
   "source": [
    "## Identify uneccessary rules <a name=\"CombineRules\"></a>"
   ]
  },
  {
   "cell_type": "markdown",
   "metadata": {},
   "source": [
    "We now have two sets of rules:\n",
    "\n",
    "1. Optimised system rules\n",
    "2. Unoptimised system rules\n",
    "\n",
    "We can combine these rules, then apply correlation reduction and filtering methods to remove those which are unneccesary. To do this, we'll use the binary columns and the performance dataframes of the rules."
   ]
  },
  {
   "cell_type": "markdown",
   "metadata": {},
   "source": [
    "### Combine binary columns and performance dataframes of rules"
   ]
  },
  {
   "cell_type": "code",
   "execution_count": 28,
   "metadata": {},
   "outputs": [],
   "source": [
    "X_rules_train = pd.concat([X_rules_opt_sys_train, X_rules_unopt_sys_train], axis=1)"
   ]
  },
  {
   "cell_type": "code",
   "execution_count": 29,
   "metadata": {},
   "outputs": [],
   "source": [
    "rule_descriptions_train = pd.concat([system_opt.rule_descriptions, sra.rule_descriptions], axis=0)"
   ]
  },
  {
   "cell_type": "code",
   "execution_count": 30,
   "metadata": {},
   "outputs": [
    {
     "data": {
      "text/plain": [
       "((8894, 21), (21, 4))"
      ]
     },
     "execution_count": 30,
     "metadata": {},
     "output_type": "execute_result"
    }
   ],
   "source": [
    "X_rules_train.shape, rule_descriptions_train.shape"
   ]
  },
  {
   "cell_type": "markdown",
   "metadata": {},
   "source": [
    "### Standard filter"
   ]
  },
  {
   "cell_type": "markdown",
   "metadata": {},
   "source": [
    "We can use the *FilterRules* class from the *rule_filters* module to filter out rules whose performance is below a desired threshold. In this example, we'll filter out rules with a negative squared difference between the daily number of records a rule flags vs the targetted daily number of records flagged below -70. Let's first set up our filters - **note that we use the key 'OptMetric' for this metric (since this is the metric that we used to optimise the rules):**"
   ]
  },
  {
   "cell_type": "code",
   "execution_count": 31,
   "metadata": {},
   "outputs": [],
   "source": [
    "filters = {\n",
    "    'OptMetric': {\n",
    "        'Operator': '>=',\n",
    "        'Value': -70\n",
    "    }\n",
    "}"
   ]
  },
  {
   "cell_type": "markdown",
   "metadata": {},
   "source": [
    "Now we can instantiate the *FilterRules* class and run the *fit_transform()* method to remove the rules which do not meet the filter requirements and apply the filtered rule set to the dataset:"
   ]
  },
  {
   "cell_type": "code",
   "execution_count": 32,
   "metadata": {},
   "outputs": [],
   "source": [
    "fr = FilterRules(filters=filters, rule_descriptions=rule_descriptions_train)"
   ]
  },
  {
   "cell_type": "code",
   "execution_count": 33,
   "metadata": {},
   "outputs": [],
   "source": [
    "X_rules_train = fr.fit_transform(X_rules=X_rules_train)"
   ]
  },
  {
   "cell_type": "markdown",
   "metadata": {},
   "source": [
    "#### Outputs"
   ]
  },
  {
   "cell_type": "markdown",
   "metadata": {},
   "source": [
    "The *.fit_transform()* method returns a dataframe containing the filtered rule binary columns. It also creates the following useful attributes:\n",
    "\n",
    "- rules_to_keep (list): List of rules which remain after the filters have been applied.\n",
    "- rule_descriptions (pd.DataFrame): The standard performance metrics dataframe associated with the filtered rules.\n",
    "\n",
    "We can assign the *rule_descriptions* dataframe from the class to our variable, ensuring that the filtered rules are removed from the dataframe:"
   ]
  },
  {
   "cell_type": "code",
   "execution_count": 34,
   "metadata": {},
   "outputs": [],
   "source": [
    "rule_descriptions_train = fr.rule_descriptions"
   ]
  },
  {
   "cell_type": "code",
   "execution_count": 35,
   "metadata": {},
   "outputs": [
    {
     "data": {
      "text/plain": [
       "((8894, 20), (20, 4))"
      ]
     },
     "execution_count": 35,
     "metadata": {},
     "output_type": "execute_result"
    }
   ],
   "source": [
    "X_rules_train.shape, rule_descriptions_train.shape"
   ]
  },
  {
   "cell_type": "markdown",
   "metadata": {},
   "source": [
    "### Remove correlated rules"
   ]
  },
  {
   "cell_type": "markdown",
   "metadata": {},
   "source": [
    "We can use the *FilterCorrelatedRules* class from the *rule_filters* module along with a correlation reduction class to remove correlated rules - see the *correlation_reduction_methods* module in the *correlation_reduction* sub-package for more information on these classes. \n",
    "\n",
    "In this example, we'll be using the *AgglomerativeClusteringFeatureReduction* class from that module. To instantiate this class, we also need to define a similarity function - see the *similarity_functions* module in the *correlation_reduction* sub-package for more information. In this example, we'll use the Jaccard similarity:"
   ]
  },
  {
   "cell_type": "code",
   "execution_count": 36,
   "metadata": {},
   "outputs": [],
   "source": [
    "js = JaccardSimilarity()"
   ]
  },
  {
   "cell_type": "code",
   "execution_count": 37,
   "metadata": {},
   "outputs": [],
   "source": [
    "acfr = AgglomerativeClusteringFeatureReduction(threshold=0.5,\n",
    "                                               strategy='bottom_up', \n",
    "                                               similarity_function=js.fit, \n",
    "                                               columns_performance=rule_descriptions_train['OptMetric'])"
   ]
  },
  {
   "cell_type": "markdown",
   "metadata": {},
   "source": [
    "Now we can instantiate the *FilterCorrelatedRules* class, and run the *fit_transform()* method to remove correlated rules and apply the filtered rule set to the dataset:"
   ]
  },
  {
   "cell_type": "code",
   "execution_count": 38,
   "metadata": {},
   "outputs": [],
   "source": [
    "fcr = FilterCorrelatedRules(correlation_reduction_class=acfr, \n",
    "                            rule_descriptions=rule_descriptions_train)"
   ]
  },
  {
   "cell_type": "code",
   "execution_count": 39,
   "metadata": {},
   "outputs": [],
   "source": [
    "X_rules_train = fcr.fit_transform(X_rules=X_rules_train)"
   ]
  },
  {
   "cell_type": "markdown",
   "metadata": {},
   "source": [
    "#### Outputs"
   ]
  },
  {
   "cell_type": "markdown",
   "metadata": {},
   "source": [
    "The *.fit_transform()* method returns a dataframe containing the binary columns of the uncorrelated rules. It also creates the following useful attributes:\n",
    "\n",
    "- rules_to_keep (list): List of rules which remain after the correlation reduction has been applied.\n",
    "- rule_descriptions (pd.DataFrame): The standard performance metrics dataframe associated with the uncorrelated rules.\n",
    "\n",
    "We can assign the *rule_descriptions* dataframe from the class to our variable, ensuring that the correlated rules are removed from the dataframe:"
   ]
  },
  {
   "cell_type": "code",
   "execution_count": 40,
   "metadata": {},
   "outputs": [],
   "source": [
    "rule_descriptions_train = fcr.rule_descriptions"
   ]
  },
  {
   "cell_type": "code",
   "execution_count": 41,
   "metadata": {},
   "outputs": [
    {
     "data": {
      "text/plain": [
       "((8894, 14), (14, 4))"
      ]
     },
     "execution_count": 41,
     "metadata": {},
     "output_type": "execute_result"
    }
   ],
   "source": [
    "X_rules_train.shape, rule_descriptions_train.shape"
   ]
  },
  {
   "cell_type": "markdown",
   "metadata": {},
   "source": [
    "---"
   ]
  },
  {
   "cell_type": "markdown",
   "metadata": {},
   "source": [
    "## Remove filtered rules from rule set <a name=\"RemoveFiltered\"></a>"
   ]
  },
  {
   "cell_type": "markdown",
   "metadata": {},
   "source": [
    "Now that we have our final rule set, we can remove the filtered rules from each of our rule set (which are saved in the *rules* attribute in our rule optimiser class):"
   ]
  },
  {
   "cell_type": "code",
   "execution_count": 42,
   "metadata": {},
   "outputs": [],
   "source": [
    "final_rule_names = X_rules_train.columns.tolist()"
   ]
  },
  {
   "cell_type": "code",
   "execution_count": 43,
   "metadata": {},
   "outputs": [],
   "source": [
    "system_opt.rules.filter_rules(include=final_rule_names)"
   ]
  },
  {
   "cell_type": "markdown",
   "metadata": {},
   "source": [
    "We also need to remove the filtered rules from the original list of unparsed rules. To do this, we'll use a simple list comprehension:"
   ]
  },
  {
   "cell_type": "code",
   "execution_count": 44,
   "metadata": {},
   "outputs": [],
   "source": [
    "final_rules_cannot_be_applied = [rule_name for rule_name in rules_cannot_be_applied if rule_name in final_rule_names]"
   ]
  },
  {
   "cell_type": "code",
   "execution_count": 45,
   "metadata": {},
   "outputs": [
    {
     "data": {
      "text/plain": [
       "(13, 1)"
      ]
     },
     "execution_count": 45,
     "metadata": {},
     "output_type": "execute_result"
    }
   ],
   "source": [
    "len(system_opt.rules.rule_strings), len(final_rules_cannot_be_applied)"
   ]
  },
  {
   "cell_type": "markdown",
   "metadata": {},
   "source": [
    "---"
   ]
  },
  {
   "cell_type": "markdown",
   "metadata": {},
   "source": [
    "## Test final rule set <a name=\"TestFinal\"></a>"
   ]
  },
  {
   "cell_type": "markdown",
   "metadata": {},
   "source": [
    "Now that we have our final rule set, we can apply these to the test set to ensure they perform as expected."
   ]
  },
  {
   "cell_type": "markdown",
   "metadata": {},
   "source": [
    "### Apply rules"
   ]
  },
  {
   "cell_type": "markdown",
   "metadata": {},
   "source": [
    "First, we apply the rules themselves. Since we have a combination of optimised and unparsed rules, we need to apply them separately."
   ]
  },
  {
   "cell_type": "markdown",
   "metadata": {},
   "source": [
    "#### Optimised rules"
   ]
  },
  {
   "cell_type": "markdown",
   "metadata": {},
   "source": [
    "Again, we apply the rules by using the *rule_strings* attribute (which correponds to the optimised rules stored in the standard ARGO-string format) from the rule optimiser class:"
   ]
  },
  {
   "cell_type": "code",
   "execution_count": 46,
   "metadata": {},
   "outputs": [],
   "source": [
    "ara_opt = ArgoRuleApplier(rule_strings=system_opt.rules.rule_strings, opt_func=apd.fit)"
   ]
  },
  {
   "cell_type": "code",
   "execution_count": 47,
   "metadata": {},
   "outputs": [],
   "source": [
    "X_rules_opt_test = ara_opt.apply(X_test)"
   ]
  },
  {
   "cell_type": "markdown",
   "metadata": {},
   "source": [
    "#### Unoptimised rules "
   ]
  },
  {
   "cell_type": "markdown",
   "metadata": {},
   "source": [
    "In this case, we pass the list of final unparsed rules to the *SimRuleApplier* class:"
   ]
  },
  {
   "cell_type": "code",
   "execution_count": 48,
   "metadata": {},
   "outputs": [],
   "source": [
    "sra = SimRuleApplier(opt_func=apd.fit, sim_ll_column='sim_ll', rules=final_rules_cannot_be_applied)"
   ]
  },
  {
   "cell_type": "code",
   "execution_count": 49,
   "metadata": {},
   "outputs": [
    {
     "name": "stderr",
     "output_type": "stream",
     "text": [
      "/Users/jlaidler/venvs/argov2/lib/python3.7/site-packages/pandas/core/series.py:4535: SettingWithCopyWarning: \n",
      "A value is trying to be set on a copy of a slice from a DataFrame\n",
      "\n",
      "See the caveats in the documentation: https://pandas.pydata.org/pandas-docs/stable/user_guide/indexing.html#returning-a-view-versus-a-copy\n",
      "  downcast=downcast,\n"
     ]
    }
   ],
   "source": [
    "X_rules_unopt_sys_test = sra.apply(X=X_test)"
   ]
  },
  {
   "cell_type": "markdown",
   "metadata": {},
   "source": [
    "#### Outputs"
   ]
  },
  {
   "cell_type": "markdown",
   "metadata": {},
   "source": [
    "The *.apply()* method returns a dataframe giving the binary columns of the rules as applied to the given dataset.\n",
    "\n",
    "A useful attribute created by running the *.apply()* method is:\n",
    "\n",
    "* rule_descriptions: A dataframe showing the logic of the generated rules and their performance metrics as applied to the given dataset."
   ]
  },
  {
   "cell_type": "markdown",
   "metadata": {},
   "source": [
    "---"
   ]
  },
  {
   "cell_type": "markdown",
   "metadata": {},
   "source": [
    "## Update the system-ready configs of the rules <a name=\"GenUpdateSysConfigs\"></a>"
   ]
  },
  {
   "cell_type": "markdown",
   "metadata": {},
   "source": [
    "Now that we have our final system-ready rule set, we can generate system-ready configs for the rules. How we do this depends on the type of rule:\n",
    "\n",
    "* Optimised system rules: We use the *UpdateExistingConfigs* class from the *update_existing_configs* module in the *system_config_generation* sub-package to update the threshold values of the existing system-ready JSON configs.\n",
    "* Unoptimised rules: We don't have to do anything here, since we haven't updated the thresholds of these rules.\n",
    "* Inactivate system rules no longer required: We use the *UpdateExistingConfigs* class from the *update_existing_configs* module in the *system_config_generation* sub-package to update the status of the system rules that were originally active in the system, but have now been deemed unnecessary (either due to being correlated or poorly performing):"
   ]
  },
  {
   "cell_type": "markdown",
   "metadata": {},
   "source": [
    "Before we can instatiate the *UpdateExistingConfigs* class, we need to get the Cassandra datatypes and field names for each pipeline output field used in the rule set. To do this, we can use the *ReturnPipelineOutputDatatypes* and *ReturnCassandraPipelineOutputMapping* classes from the *cassandra_requests* module in the *simility_requests* sub-package:"
   ]
  },
  {
   "cell_type": "code",
   "execution_count": 48,
   "metadata": {},
   "outputs": [],
   "source": [
    "rpodt = ReturnPipelineOutputDatatypes(url=url,\n",
    "                                      app_prefix=app_prefix,\n",
    "                                      user=user,\n",
    "                                      base_entity=base_entity)"
   ]
  },
  {
   "cell_type": "code",
   "execution_count": 49,
   "metadata": {},
   "outputs": [],
   "source": [
    "po_dtypes = rpodt.request()"
   ]
  },
  {
   "cell_type": "code",
   "execution_count": 50,
   "metadata": {},
   "outputs": [],
   "source": [
    "rcpom = ReturnCassandraPipelineOutputMapping(url=url,\n",
    "                                             app_prefix=app_prefix,\n",
    "                                             user=user,\n",
    "                                             base_entity=base_entity)"
   ]
  },
  {
   "cell_type": "code",
   "execution_count": 51,
   "metadata": {},
   "outputs": [],
   "source": [
    "cassandra_field_names = rcpom.request()"
   ]
  },
  {
   "cell_type": "markdown",
   "metadata": {},
   "source": [
    "### Optimised rules"
   ]
  },
  {
   "cell_type": "markdown",
   "metadata": {},
   "source": [
    "Before we can instatiate the *UpdateExistingConfigs* class, we need to get the original rule configurations from the Simility environment, so that the conditions can be updated within the configurations. To do this, we can use the *ReturnRuleConfigsFromSimility* class from the *rule_requests* module in the *simility_requests* sub-package:"
   ]
  },
  {
   "cell_type": "code",
   "execution_count": 52,
   "metadata": {},
   "outputs": [],
   "source": [
    "rrcfs = ReturnRuleConfigsFromSimility(url=url,\n",
    "                                      app_prefix=app_prefix,\n",
    "                                      user=user,\n",
    "                                      entity=base_entity,\n",
    "                                      rules=system_opt.rules.rule_strings.keys()\n",
    "                                     )"
   ]
  },
  {
   "cell_type": "code",
   "execution_count": 53,
   "metadata": {},
   "outputs": [],
   "source": [
    "opt_rules_sys_configs = rrcfs.request()"
   ]
  },
  {
   "cell_type": "markdown",
   "metadata": {},
   "source": [
    "We can use the Cassandra datatypes and field names for each pipeline output field (generated in the previous step) to convert the conditions of the optimised rules into the system-ready format:"
   ]
  },
  {
   "cell_type": "code",
   "execution_count": 54,
   "metadata": {},
   "outputs": [],
   "source": [
    "final_opt_rules_sys_dicts = system_opt.rules.as_system_dicts(field_datatypes=po_dtypes, \n",
    "                                                             cassandra_field_names=cassandra_field_names)"
   ]
  },
  {
   "cell_type": "markdown",
   "metadata": {},
   "source": [
    "Now that we have the original configurations and the optimised rule coniditions in the system-ready format, we can update the configurations to reflect the optimised thresholds:"
   ]
  },
  {
   "cell_type": "code",
   "execution_count": 55,
   "metadata": {},
   "outputs": [],
   "source": [
    "uec = UpdateExistingConfigs(rule_configs=opt_rules_sys_configs, \n",
    "                            updated_conditions=final_opt_rules_sys_dicts)"
   ]
  },
  {
   "cell_type": "code",
   "execution_count": 56,
   "metadata": {},
   "outputs": [],
   "source": [
    "final_opt_rule_configs = uec.update()"
   ]
  },
  {
   "cell_type": "markdown",
   "metadata": {},
   "source": [
    "#### Outputs"
   ]
  },
  {
   "cell_type": "markdown",
   "metadata": {},
   "source": [
    "The *.update()* method returns a dictionary of the updated system-ready JSON configurations for each rule. It also saves this dictionary as the class attribute *updated_rule_configs*. These configurations can be used with the *update_rules_in_simility* module in the *simility_requests* sub-package to update the provided rules in a given Simility instance."
   ]
  },
  {
   "cell_type": "markdown",
   "metadata": {},
   "source": [
    "### System rules no longer required"
   ]
  },
  {
   "cell_type": "markdown",
   "metadata": {},
   "source": [
    "Before we can instatiate the *UpdateExistingConfigs* class, we need to know which system rules were in the original set that were fetched for the rule optimisation process, that are no longer in the final set of rules. To do this, we can iterate through the original rule names and check for those that aren't present in either the final optimised rule set or the final unparsed rule set:"
   ]
  },
  {
   "cell_type": "code",
   "execution_count": 57,
   "metadata": {},
   "outputs": [],
   "source": [
    "sys_rules_inactivate = [rule_name for rule_name in orig_sys_conditions.keys() \n",
    "                        if rule_name not in system_opt.rules.rule_strings.keys() and rule_name not in final_rules_cannot_be_applied]"
   ]
  },
  {
   "cell_type": "markdown",
   "metadata": {},
   "source": [
    "Now that we have the list of rule names we need to inactivate, we can return their original configurations:"
   ]
  },
  {
   "cell_type": "code",
   "execution_count": 58,
   "metadata": {},
   "outputs": [],
   "source": [
    "rrcfs = ReturnRuleConfigsFromSimility(url=url,\n",
    "                                      app_prefix=app_prefix,\n",
    "                                      user=user,\n",
    "                                      entity=base_entity,\n",
    "                                      rules=sys_rules_inactivate\n",
    "                                     )"
   ]
  },
  {
   "cell_type": "code",
   "execution_count": 59,
   "metadata": {},
   "outputs": [],
   "source": [
    "sys_rules_inactivate_configs = rrcfs.request()"
   ]
  },
  {
   "cell_type": "markdown",
   "metadata": {},
   "source": [
    "Finally, we can update the configurations to reflect the change in status:"
   ]
  },
  {
   "cell_type": "code",
   "execution_count": 60,
   "metadata": {},
   "outputs": [],
   "source": [
    "uec = UpdateExistingConfigs(rule_configs=sys_rules_inactivate_configs, \n",
    "                            make_inactive=True)"
   ]
  },
  {
   "cell_type": "code",
   "execution_count": 61,
   "metadata": {},
   "outputs": [],
   "source": [
    "final_sys_rules_inactivate_configs = uec.update()"
   ]
  },
  {
   "cell_type": "markdown",
   "metadata": {},
   "source": [
    "#### Outputs"
   ]
  },
  {
   "cell_type": "markdown",
   "metadata": {},
   "source": [
    "The *.update()* method returns a dictionary of the updated system-ready JSON configurations for each rule. It also saves this dictionary as the class attribute *updated_rule_configs*. These configurations can be used with the *update_rules_in_simility* module in the *simility_requests* sub-package to update the provided rules in a given Simility instance."
   ]
  },
  {
   "cell_type": "code",
   "execution_count": 62,
   "metadata": {},
   "outputs": [
    {
     "data": {
      "text/plain": [
       "(13, 7)"
      ]
     },
     "execution_count": 62,
     "metadata": {},
     "output_type": "execute_result"
    }
   ],
   "source": [
    "len(final_opt_rule_configs), len(final_sys_rules_inactivate_configs)"
   ]
  },
  {
   "cell_type": "markdown",
   "metadata": {},
   "source": [
    "---"
   ]
  },
  {
   "cell_type": "markdown",
   "metadata": {},
   "source": [
    "## Update the Simility environment with the final rule set <a name=\"UpdateSimility\"></a>"
   ]
  },
  {
   "cell_type": "markdown",
   "metadata": {},
   "source": [
    "Now that we have the system-ready configurations for our optimised and inactivated rules, we can update the Simility environment with the final rule set. Note that we also need to inactivate the system rules that were originally active in the system, but have now been deemed uneccessary (either due to being correlated or poorly performing):"
   ]
  },
  {
   "cell_type": "markdown",
   "metadata": {},
   "source": [
    "### Optimised rules"
   ]
  },
  {
   "cell_type": "code",
   "execution_count": 211,
   "metadata": {},
   "outputs": [],
   "source": [
    "uris = UpdateRulesInSimility(url=url,\n",
    "                             app_prefix=app_prefix,\n",
    "                             user=user)"
   ]
  },
  {
   "cell_type": "code",
   "execution_count": 212,
   "metadata": {},
   "outputs": [],
   "source": [
    "uris.request(rule_configs=final_opt_rule_configs)"
   ]
  },
  {
   "cell_type": "markdown",
   "metadata": {},
   "source": [
    "### System rules no longer required"
   ]
  },
  {
   "cell_type": "code",
   "execution_count": 223,
   "metadata": {},
   "outputs": [],
   "source": [
    "uris.request(rule_configs=final_sys_rules_inactivate_configs)"
   ]
  },
  {
   "cell_type": "markdown",
   "metadata": {},
   "source": [
    "#### Outputs"
   ]
  },
  {
   "cell_type": "markdown",
   "metadata": {},
   "source": [
    "The *.request()* method does not return a value; however, once it has ran successfully, you should see the rules have been updated in the Simility environment specified."
   ]
  },
  {
   "cell_type": "markdown",
   "metadata": {},
   "source": [
    "---"
   ]
  },
  {
   "cell_type": "markdown",
   "metadata": {},
   "source": [
    "## The End"
   ]
  },
  {
   "cell_type": "markdown",
   "metadata": {},
   "source": [
    "That's it folks - if you have any queries or suggestions please put them in the *#sim-datatools-help* Slack channel or email James directly."
   ]
  }
 ],
 "metadata": {
  "kernelspec": {
   "display_name": "argov2",
   "language": "python",
   "name": "argov2"
  },
  "language_info": {
   "codemirror_mode": {
    "name": "ipython",
    "version": 3
   },
   "file_extension": ".py",
   "mimetype": "text/x-python",
   "name": "python",
   "nbconvert_exporter": "python",
   "pygments_lexer": "ipython3",
   "version": "3.7.7"
  }
 },
 "nbformat": 4,
 "nbformat_minor": 4
}
