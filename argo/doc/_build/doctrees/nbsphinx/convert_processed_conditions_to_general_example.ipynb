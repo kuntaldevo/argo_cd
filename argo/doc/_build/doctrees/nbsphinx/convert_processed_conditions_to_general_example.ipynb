{
 "cells": [
  {
   "cell_type": "markdown",
   "metadata": {},
   "source": [
    "# Convert Processed Conditions to General Example"
   ]
  },
  {
   "cell_type": "markdown",
   "metadata": {},
   "source": [
    "This notebook contains an example of how the Convert Processed Conditions to General module can be used to convert rule conditions that leverage processed features (either imputed values or OHE values) into rule conditions that leverage the unprocessed features. These converted rules can then be uploaded directly to a Simility environment. \n",
    "\n",
    "Applying this module is required when you need to upload rules to a Simility environment that have been generated using one of the rule generator modules. This is because the inputs to these rule generator modules require features to be imputed and (in the case of categorical variables), one hot encoded. The resulting rules cannot be uploaded to a Simility environment as is, since the rule conditions use these processed features. \n",
    "\n",
    "The Convert Processed Conditions to General module converts the rule conditions that leverage processed features (either imputed values or OHE values) into rule conditions that leverage the unprocessed features. These converted rules can then be uploaded directly to a Simility environment. "
   ]
  },
  {
   "cell_type": "markdown",
   "metadata": {},
   "source": [
    "## Requirements"
   ]
  },
  {
   "cell_type": "markdown",
   "metadata": {},
   "source": [
    "To run, you'll need the following:\n",
    "\n",
    "* Install the Rules package - see the readme for more information.\n",
    "* A rule set (stored in the standard ARGO string format) that contains processed features."
   ]
  },
  {
   "cell_type": "markdown",
   "metadata": {},
   "source": [
    "----"
   ]
  },
  {
   "cell_type": "markdown",
   "metadata": {},
   "source": [
    "## Import packages"
   ]
  },
  {
   "cell_type": "code",
   "execution_count": 2,
   "metadata": {},
   "outputs": [],
   "source": [
    "from rules.convert_processed_conditions_to_general import ConvertProcessedConditionsToGeneral, ReturnMappings\n",
    "\n",
    "import pandas as pd\n",
    "import numpy as np"
   ]
  },
  {
   "cell_type": "markdown",
   "metadata": {},
   "source": [
    "---"
   ]
  },
  {
   "cell_type": "markdown",
   "metadata": {},
   "source": [
    "## Read in dataset"
   ]
  },
  {
   "cell_type": "markdown",
   "metadata": {},
   "source": [
    "Let's first read in some datasets - *X* represents the raw pipeline output, while *y* represents the updated fraud labels:"
   ]
  },
  {
   "cell_type": "code",
   "execution_count": 3,
   "metadata": {},
   "outputs": [],
   "source": [
    "X = pd.read_csv('dummy_data/X.csv', index_col='eid')\n",
    "y = pd.read_csv('dummy_data/y.csv', index_col='eid').squeeze()"
   ]
  },
  {
   "cell_type": "markdown",
   "metadata": {},
   "source": [
    "## Processing the data"
   ]
  },
  {
   "cell_type": "markdown",
   "metadata": {},
   "source": [
    "Now we'll apply the standard data cleaning processes that need to be carried out before feeding the data into one of the rule generator modules - **namely, imputing nulls and OHE encoding the categorical columns:**"
   ]
  },
  {
   "cell_type": "code",
   "execution_count": 4,
   "metadata": {},
   "outputs": [],
   "source": [
    "imputed_values = {\n",
    "    'num_items': -1,\n",
    "    'country': 'missing'\n",
    "}\n",
    "X_processed = X.fillna(imputed_values)\n",
    "X_processed = pd.get_dummies(X_processed)"
   ]
  },
  {
   "cell_type": "code",
   "execution_count": 5,
   "metadata": {},
   "outputs": [
    {
     "data": {
      "text/html": [
       "<div>\n",
       "<style scoped>\n",
       "    .dataframe tbody tr th:only-of-type {\n",
       "        vertical-align: middle;\n",
       "    }\n",
       "\n",
       "    .dataframe tbody tr th {\n",
       "        vertical-align: top;\n",
       "    }\n",
       "\n",
       "    .dataframe thead th {\n",
       "        text-align: right;\n",
       "    }\n",
       "</style>\n",
       "<table border=\"1\" class=\"dataframe\">\n",
       "  <thead>\n",
       "    <tr style=\"text-align: right;\">\n",
       "      <th></th>\n",
       "      <th>num_items</th>\n",
       "      <th>country_FR</th>\n",
       "      <th>country_GB</th>\n",
       "      <th>country_US</th>\n",
       "      <th>country_missing</th>\n",
       "    </tr>\n",
       "    <tr>\n",
       "      <th>eid</th>\n",
       "      <th></th>\n",
       "      <th></th>\n",
       "      <th></th>\n",
       "      <th></th>\n",
       "      <th></th>\n",
       "    </tr>\n",
       "  </thead>\n",
       "  <tbody>\n",
       "    <tr>\n",
       "      <th>0</th>\n",
       "      <td>1.0</td>\n",
       "      <td>0</td>\n",
       "      <td>1</td>\n",
       "      <td>0</td>\n",
       "      <td>0</td>\n",
       "    </tr>\n",
       "    <tr>\n",
       "      <th>1</th>\n",
       "      <td>2.0</td>\n",
       "      <td>0</td>\n",
       "      <td>0</td>\n",
       "      <td>1</td>\n",
       "      <td>0</td>\n",
       "    </tr>\n",
       "    <tr>\n",
       "      <th>2</th>\n",
       "      <td>-1.0</td>\n",
       "      <td>1</td>\n",
       "      <td>0</td>\n",
       "      <td>0</td>\n",
       "      <td>0</td>\n",
       "    </tr>\n",
       "    <tr>\n",
       "      <th>3</th>\n",
       "      <td>3.0</td>\n",
       "      <td>0</td>\n",
       "      <td>0</td>\n",
       "      <td>0</td>\n",
       "      <td>1</td>\n",
       "    </tr>\n",
       "    <tr>\n",
       "      <th>4</th>\n",
       "      <td>1.0</td>\n",
       "      <td>0</td>\n",
       "      <td>1</td>\n",
       "      <td>0</td>\n",
       "      <td>0</td>\n",
       "    </tr>\n",
       "  </tbody>\n",
       "</table>\n",
       "</div>"
      ],
      "text/plain": [
       "     num_items  country_FR  country_GB  country_US  country_missing\n",
       "eid                                                                \n",
       "0          1.0           0           1           0                0\n",
       "1          2.0           0           0           1                0\n",
       "2         -1.0           1           0           0                0\n",
       "3          3.0           0           0           0                1\n",
       "4          1.0           0           1           0                0"
      ]
     },
     "execution_count": 5,
     "metadata": {},
     "output_type": "execute_result"
    }
   ],
   "source": [
    "X_processed.head()"
   ]
  },
  {
   "cell_type": "markdown",
   "metadata": {},
   "source": [
    "---"
   ]
  },
  {
   "cell_type": "markdown",
   "metadata": {},
   "source": [
    "## Generating rules"
   ]
  },
  {
   "cell_type": "markdown",
   "metadata": {},
   "source": [
    "Now let's say we ran one of the ARGO rule generators on the processed dataset and generated the following rules:"
   ]
  },
  {
   "cell_type": "code",
   "execution_count": 6,
   "metadata": {},
   "outputs": [],
   "source": [
    "rule_strings = {\n",
    "    'Rule1': \"(X['num_items']<2)\",\n",
    "    'Rule2': \"(X['country_missing']==True)\",\n",
    "    'Rule3': \"(X['country_US']==True)\",\n",
    "    'Rule4': \"(X['num_items']<0)&(X['country_missing']==True)\"\n",
    "}"
   ]
  },
  {
   "cell_type": "markdown",
   "metadata": {},
   "source": [
    "These rule conditions all contain processed features - they have either been imputed or one hot encoded. So, if we tried to convert them to the system-ready format and then create them directly in the Simility instance, it would either:\n",
    "\n",
    "- Create inaccurate representations of the rules if they use only imputed numeric values (since the rule conditions may include the imputed value, but this wouldn't be accounted for in the system).\n",
    "- Cause the request to create the rules to fail, since the one hot encoded variables don't exist in the Simility system.\n",
    "\n",
    "Hence, we need to convert the conditions which leverage processed features into conditions which use the original, unprocessed features."
   ]
  },
  {
   "cell_type": "markdown",
   "metadata": {},
   "source": [
    "---"
   ]
  },
  {
   "cell_type": "markdown",
   "metadata": {},
   "source": [
    "## Converting rule conditions"
   ]
  },
  {
   "cell_type": "markdown",
   "metadata": {},
   "source": [
    "First, let's instantiate the *ConvertProcessedConditionsToGeneral* class. To do this, we need to provide the imputed values and the mapping of OHE columns to categories. For small datasets, this is relatively straightforward; however for larger datasets where multiple imputed values have been used, or a large number of columns have been OHE'd, this can be time consuming to do manually. Instead, we can use the *ReturnMapping* class to calculate this information:"
   ]
  },
  {
   "cell_type": "code",
   "execution_count": 7,
   "metadata": {},
   "outputs": [],
   "source": [
    "rm = ReturnMappings()"
   ]
  },
  {
   "cell_type": "markdown",
   "metadata": {},
   "source": [
    "Let's first return the imputed values used for each field:"
   ]
  },
  {
   "cell_type": "code",
   "execution_count": 8,
   "metadata": {},
   "outputs": [],
   "source": [
    "imputed_values_mapping = rm.return_imputed_values_mapping([['num_items'], -1], [['country'], 'missing'])"
   ]
  },
  {
   "cell_type": "markdown",
   "metadata": {},
   "source": [
    "Now let's return the category that relates to each OHE'd column:"
   ]
  },
  {
   "cell_type": "code",
   "execution_count": 9,
   "metadata": {},
   "outputs": [],
   "source": [
    "ohe_categories_mapping = rm.return_ohe_categories_mapping(pre_ohe_cols=X.columns, \n",
    "                                                          post_ohe_cols=X_processed.columns, \n",
    "                                                          pre_ohe_dtypes=X.dtypes)"
   ]
  },
  {
   "cell_type": "markdown",
   "metadata": {},
   "source": [
    "Once we have these mappings, we can instantiate the *ConvertProcessedConditionsToGeneral* class:"
   ]
  },
  {
   "cell_type": "code",
   "execution_count": 10,
   "metadata": {},
   "outputs": [],
   "source": [
    "c = ConvertProcessedConditionsToGeneral(imputed_values=imputed_values_mapping, ohe_categories=ohe_categories_mapping)"
   ]
  },
  {
   "cell_type": "markdown",
   "metadata": {},
   "source": [
    "Now we can run the *.convert()* method to convert the conditions in the rules generated above from using the processed features to using the original, unprocessed features:"
   ]
  },
  {
   "cell_type": "code",
   "execution_count": 11,
   "metadata": {},
   "outputs": [],
   "source": [
    "general_rule_strings = c.convert(rule_strings=rule_strings, X=X_processed)"
   ]
  },
  {
   "cell_type": "code",
   "execution_count": 12,
   "metadata": {},
   "outputs": [
    {
     "data": {
      "text/plain": [
       "{'Rule1': \"((X['num_items']<2)|(X['num_items'].isna()))\",\n",
       " 'Rule2': \"(X['country'].isna())\",\n",
       " 'Rule3': \"(X['country']=='US')\",\n",
       " 'Rule4': \"(X['num_items'].isna())&(X['country'].isna())\"}"
      ]
     },
     "execution_count": 12,
     "metadata": {},
     "output_type": "execute_result"
    }
   ],
   "source": [
    "general_rule_strings"
   ]
  },
  {
   "cell_type": "markdown",
   "metadata": {},
   "source": [
    "### Outputs"
   ]
  },
  {
   "cell_type": "markdown",
   "metadata": {},
   "source": [
    "The *.convert()* method returns a dictionary containing the set of rules which account for imputed/OHE variables, defined using the standard ARGO string format (values) and their names (keys). \n",
    "\n",
    "**Note the following:**\n",
    "\n",
    "- If a numeric rule condition initially had a threshold such that the imputed null values were included in the condition, the converted condition has an additional condition to check whether the feature is also null. \n",
    "    - E.g. *Rule1* was intially *(X['num_items']<2)*, which included the imputed value of 0. The converted rule is now *((X['num_items']<2)|(X['num_items'].isna()))*, with an additional condition to check for nulls.\n",
    "- If a categorical rule condition checks whether the value is the imputed null category, the converted condition is such that it will explicitly check for null values. \n",
    "    - E.g. *Rule2* was initially *(X['country_missing']==True)*. The converted rule is now *(X['country'].isna())*, such that it explicitly checks for null values.\n",
    "- For categorical rule conditions, the converted condition is such that it will explicitly check for the category. \n",
    "    - E.g. *Rule3* was initially *(X['country_US']==False)*. The converted rule is now *(X['country']!='US')*, such that it explicitly checks whether the 'country' column is not equal to the 'US' category.\n",
    "\n",
    "A useful attribute created by running the *.convert()* method is:\n",
    "\n",
    "* rules: Class containing the rules stored in the standard ARGO string format. Methods from this class can be used to convert the rules into the standard ARGO dictionary or lambda expression representations. See the *rules* module for more information."
   ]
  },
  {
   "cell_type": "code",
   "execution_count": 13,
   "metadata": {},
   "outputs": [
    {
     "data": {
      "text/plain": [
       "{'Rule1': \"((X['num_items']<2)|(X['num_items'].isna()))\",\n",
       " 'Rule2': \"(X['country'].isna())\",\n",
       " 'Rule3': \"(X['country']=='US')\",\n",
       " 'Rule4': \"(X['num_items'].isna())&(X['country'].isna())\"}"
      ]
     },
     "execution_count": 13,
     "metadata": {},
     "output_type": "execute_result"
    }
   ],
   "source": [
    "general_rule_strings"
   ]
  },
  {
   "cell_type": "markdown",
   "metadata": {},
   "source": [
    "### Creating the rules in the system"
   ]
  },
  {
   "cell_type": "markdown",
   "metadata": {
    "jupyter": {
     "outputs_hidden": true
    }
   },
   "source": [
    "The generalised rules created above can now be converted to the system-ready format using the *.as_system_dicts()* method from the Rules class. \n",
    "\n",
    "**Note that you need to provide the Cassandra datatypes and field names for each pipeline output field name to convert the rules into the system-ready format. In this example, they're defined manually, but in practise you can use the *ReturnPipelineOutputDatatypes* and *ReturnCassandraPipelineOutputMapping* classes from the *cassandra_requests* module in the *simility_requests* sub-package:**"
   ]
  },
  {
   "cell_type": "code",
   "execution_count": 14,
   "metadata": {},
   "outputs": [],
   "source": [
    "field_datatypes = {\n",
    "    'num_items': 'INT',\n",
    "    'country': 'TEXT'\n",
    "}\n",
    "cassandra_field_names = {\n",
    "    'num_items': 'num_items',\n",
    "    'country': 'country'\n",
    "}"
   ]
  },
  {
   "cell_type": "code",
   "execution_count": 15,
   "metadata": {},
   "outputs": [],
   "source": [
    "system_conditions = c.rules.as_system_dicts(field_datatypes=field_datatypes, cassandra_field_names=cassandra_field_names)"
   ]
  },
  {
   "cell_type": "markdown",
   "metadata": {},
   "source": [
    "These system-ready conditions can be used to generate system-ready rule configurations using the *system_config_generation* sub-package. Once these have been created, the *simility_requests* sub-package can be used to create the rules in the system. See the documentation of these sub-packages for more information."
   ]
  },
  {
   "cell_type": "markdown",
   "metadata": {},
   "source": [
    "----"
   ]
  },
  {
   "cell_type": "markdown",
   "metadata": {},
   "source": [
    "## The End"
   ]
  },
  {
   "cell_type": "markdown",
   "metadata": {},
   "source": [
    "That's it folks - if you have any queries or suggestions please put them in the *#sim-datatools-help* Slack channel or email James directly."
   ]
  }
 ],
 "metadata": {
  "kernelspec": {
   "display_name": "rules",
   "language": "python",
   "name": "rules"
  },
  "language_info": {
   "codemirror_mode": {
    "name": "ipython",
    "version": 3
   },
   "file_extension": ".py",
   "mimetype": "text/x-python",
   "name": "python",
   "nbconvert_exporter": "python",
   "pygments_lexer": "ipython3",
   "version": "3.7.7"
  }
 },
 "nbformat": 4,
 "nbformat_minor": 4
}
