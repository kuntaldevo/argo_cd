{
 "cells": [
  {
   "cell_type": "markdown",
   "metadata": {},
   "source": [
    "# Simility Cassandra Requests Example"
   ]
  },
  {
   "cell_type": "markdown",
   "metadata": {},
   "source": [
    "This notebook contains an example of how the Simility Cassandra Requests sub-package can be used to return information related to Cassandra entities in a Simility environment."
   ]
  },
  {
   "cell_type": "markdown",
   "metadata": {},
   "source": [
    "## Requirements"
   ]
  },
  {
   "cell_type": "markdown",
   "metadata": {},
   "source": [
    "To run, you'll need the following:\n",
    "\n",
    "* Install the Simility Requests package - see the readme for more information."
   ]
  },
  {
   "cell_type": "markdown",
   "metadata": {},
   "source": [
    "----"
   ]
  },
  {
   "cell_type": "markdown",
   "metadata": {},
   "source": [
    "## Import packages"
   ]
  },
  {
   "cell_type": "code",
   "execution_count": 2,
   "metadata": {},
   "outputs": [],
   "source": [
    "from simility_requests.cassandra_requests import ReturnCassandraDatatypes, ReturnCassandraPipelineOutputMapping, ReturnPipelineOutputDatatypes\n",
    "from simility_apis.set_password import set_password\n",
    "\n",
    "import pandas as pd\n",
    "import numpy as np\n",
    "import json"
   ]
  },
  {
   "cell_type": "markdown",
   "metadata": {},
   "source": [
    "---"
   ]
  },
  {
   "cell_type": "markdown",
   "metadata": {},
   "source": [
    "## Set your password"
   ]
  },
  {
   "cell_type": "markdown",
   "metadata": {},
   "source": [
    "Before using the *cassandra_requests* module, you need to provide your password that you use to log in to the Simility environment:"
   ]
  },
  {
   "cell_type": "code",
   "execution_count": 3,
   "metadata": {},
   "outputs": [
    {
     "name": "stdin",
     "output_type": "stream",
     "text": [
      "Please provide your password for logging into the Simility platform:  ·········\n"
     ]
    }
   ],
   "source": [
    "set_password()"
   ]
  },
  {
   "cell_type": "markdown",
   "metadata": {},
   "source": [
    "---"
   ]
  },
  {
   "cell_type": "markdown",
   "metadata": {},
   "source": [
    "## ReturnCassandraDatatypes"
   ]
  },
  {
   "cell_type": "markdown",
   "metadata": {},
   "source": [
    "This class returns the Cassandra datatypes of the fields present in both Cassandra and pipeline output."
   ]
  },
  {
   "cell_type": "markdown",
   "metadata": {},
   "source": [
    "Firstly, we need to instantiate the ReturnCassandraDatatypes class. To do this, we need to provide the *url*, *app_prefix*, *user* and *base_entity* for the environment we're interested in."
   ]
  },
  {
   "cell_type": "code",
   "execution_count": 4,
   "metadata": {},
   "outputs": [],
   "source": [
    "params = {\n",
    "    \"url\": 'http://sim-ds.us-central1.gcp.dev.paypalinc.com',\n",
    "    \"app_prefix\": 'james_testing',\n",
    "    \"user\": 'james@simility.com',\n",
    "    \"base_entity\": 'transaction'\n",
    "}"
   ]
  },
  {
   "cell_type": "code",
   "execution_count": 5,
   "metadata": {},
   "outputs": [],
   "source": [
    "r = ReturnCassandraDatatypes(**params)"
   ]
  },
  {
   "cell_type": "markdown",
   "metadata": {},
   "source": [
    "Then we can run the *.request()* method to return the Cassandra datatypes of the fields present in pipeline output for a given base entity:"
   ]
  },
  {
   "cell_type": "code",
   "execution_count": 6,
   "metadata": {},
   "outputs": [],
   "source": [
    "cass_dtypes = r.request()"
   ]
  },
  {
   "cell_type": "markdown",
   "metadata": {},
   "source": [
    "### Outputs"
   ]
  },
  {
   "cell_type": "markdown",
   "metadata": {},
   "source": [
    "The *.request()* method returns a dataframe containing the Cassandra datatypes of the fields present in both Cassandra and pipeline output:"
   ]
  },
  {
   "cell_type": "code",
   "execution_count": 7,
   "metadata": {},
   "outputs": [
    {
     "data": {
      "text/html": [
       "<div>\n",
       "<style scoped>\n",
       "    .dataframe tbody tr th:only-of-type {\n",
       "        vertical-align: middle;\n",
       "    }\n",
       "\n",
       "    .dataframe tbody tr th {\n",
       "        vertical-align: top;\n",
       "    }\n",
       "\n",
       "    .dataframe thead th {\n",
       "        text-align: right;\n",
       "    }\n",
       "</style>\n",
       "<table border=\"1\" class=\"dataframe\">\n",
       "  <thead>\n",
       "    <tr style=\"text-align: right;\">\n",
       "      <th></th>\n",
       "      <th></th>\n",
       "      <th></th>\n",
       "      <th>PipelineOutputFieldName</th>\n",
       "      <th>CassandraDatatype</th>\n",
       "    </tr>\n",
       "    <tr>\n",
       "      <th>Entity</th>\n",
       "      <th>ReferenceField</th>\n",
       "      <th>CassandraFieldName</th>\n",
       "      <th></th>\n",
       "      <th></th>\n",
       "    </tr>\n",
       "  </thead>\n",
       "  <tbody>\n",
       "    <tr>\n",
       "      <th rowspan=\"5\" valign=\"top\">account_number</th>\n",
       "      <th rowspan=\"5\" valign=\"top\">account_number</th>\n",
       "      <th>avg_order_total_per_account_number_1day</th>\n",
       "      <td>account_number_avg_order_total_per_account_num...</td>\n",
       "      <td>DOUBLE</td>\n",
       "    </tr>\n",
       "    <tr>\n",
       "      <th>avg_order_total_per_account_number_30day</th>\n",
       "      <td>account_number_avg_order_total_per_account_num...</td>\n",
       "      <td>DOUBLE</td>\n",
       "    </tr>\n",
       "    <tr>\n",
       "      <th>avg_order_total_per_account_number_7day</th>\n",
       "      <td>account_number_avg_order_total_per_account_num...</td>\n",
       "      <td>DOUBLE</td>\n",
       "    </tr>\n",
       "    <tr>\n",
       "      <th>avg_order_total_per_account_number_90day</th>\n",
       "      <td>account_number_avg_order_total_per_account_num...</td>\n",
       "      <td>DOUBLE</td>\n",
       "    </tr>\n",
       "    <tr>\n",
       "      <th>eid</th>\n",
       "      <td>account_number_eid</td>\n",
       "      <td>TEXT</td>\n",
       "    </tr>\n",
       "  </tbody>\n",
       "</table>\n",
       "</div>"
      ],
      "text/plain": [
       "                                                                                                  PipelineOutputFieldName  \\\n",
       "Entity         ReferenceField CassandraFieldName                                                                            \n",
       "account_number account_number avg_order_total_per_account_number_1day   account_number_avg_order_total_per_account_num...   \n",
       "                              avg_order_total_per_account_number_30day  account_number_avg_order_total_per_account_num...   \n",
       "                              avg_order_total_per_account_number_7day   account_number_avg_order_total_per_account_num...   \n",
       "                              avg_order_total_per_account_number_90day  account_number_avg_order_total_per_account_num...   \n",
       "                              eid                                                                      account_number_eid   \n",
       "\n",
       "                                                                       CassandraDatatype  \n",
       "Entity         ReferenceField CassandraFieldName                                          \n",
       "account_number account_number avg_order_total_per_account_number_1day             DOUBLE  \n",
       "                              avg_order_total_per_account_number_30day            DOUBLE  \n",
       "                              avg_order_total_per_account_number_7day             DOUBLE  \n",
       "                              avg_order_total_per_account_number_90day            DOUBLE  \n",
       "                              eid                                                   TEXT  "
      ]
     },
     "execution_count": 7,
     "metadata": {},
     "output_type": "execute_result"
    }
   ],
   "source": [
    "cass_dtypes.head()"
   ]
  },
  {
   "cell_type": "markdown",
   "metadata": {},
   "source": [
    "---"
   ]
  },
  {
   "cell_type": "markdown",
   "metadata": {},
   "source": [
    "## ReturnPipelineOutputDatatypes"
   ]
  },
  {
   "cell_type": "markdown",
   "metadata": {},
   "source": [
    "This class returns the Cassandra datatype associated with each field in pipeline output."
   ]
  },
  {
   "cell_type": "markdown",
   "metadata": {},
   "source": [
    "Firstly, we need to instantiate the ReturnPipelineOutputDatatypes class. To do this, we need to provide the *url*, *app_prefix*, *user* and *base_entity* for the environment we're interested in."
   ]
  },
  {
   "cell_type": "code",
   "execution_count": 8,
   "metadata": {},
   "outputs": [],
   "source": [
    "params = {\n",
    "    \"url\": 'http://sim-ds.us-central1.gcp.dev.paypalinc.com',\n",
    "    \"app_prefix\": 'james_testing',\n",
    "    \"user\": 'james@simility.com',\n",
    "    \"base_entity\": 'transaction'\n",
    "}"
   ]
  },
  {
   "cell_type": "code",
   "execution_count": 9,
   "metadata": {},
   "outputs": [],
   "source": [
    "r = ReturnPipelineOutputDatatypes(**params)"
   ]
  },
  {
   "cell_type": "markdown",
   "metadata": {},
   "source": [
    "Then we can run the *.request()* method to return the Cassandra datatype associated with each field in pipeline output."
   ]
  },
  {
   "cell_type": "code",
   "execution_count": 10,
   "metadata": {},
   "outputs": [],
   "source": [
    "po_dtypes = r.request()"
   ]
  },
  {
   "cell_type": "markdown",
   "metadata": {},
   "source": [
    "### Outputs"
   ]
  },
  {
   "cell_type": "markdown",
   "metadata": {},
   "source": [
    "The *.request()* method a dictionary of the Cassandra datatype (values) associated with each field in pipeline output (keys):"
   ]
  },
  {
   "cell_type": "code",
   "execution_count": 11,
   "metadata": {
    "collapsed": true,
    "jupyter": {
     "outputs_hidden": true
    }
   },
   "outputs": [
    {
     "data": {
      "text/plain": [
       "{'account_number_avg_order_total_per_account_number_1day': 'DOUBLE',\n",
       " 'account_number_avg_order_total_per_account_number_30day': 'DOUBLE',\n",
       " 'account_number_avg_order_total_per_account_number_7day': 'DOUBLE',\n",
       " 'account_number_avg_order_total_per_account_number_90day': 'DOUBLE',\n",
       " 'account_number_eid': 'TEXT',\n",
       " 'account_number_num_distinct_transaction_per_account_number_1day': 'INT',\n",
       " 'account_number_num_distinct_transaction_per_account_number_30day': 'INT',\n",
       " 'account_number_num_distinct_transaction_per_account_number_7day': 'INT',\n",
       " 'account_number_num_distinct_transaction_per_account_number_90day': 'INT',\n",
       " 'account_number_num_fraud_transactions_per_account_number_1day': 'INT',\n",
       " 'account_number_num_fraud_transactions_per_account_number_30day': 'INT',\n",
       " 'account_number_num_fraud_transactions_per_account_number_7day': 'INT',\n",
       " 'account_number_num_fraud_transactions_per_account_number_90day': 'INT',\n",
       " 'account_number_num_fraud_transactions_per_account_number_lifetime': 'INT',\n",
       " 'account_number_num_order_items_per_account_number_1day': 'INT',\n",
       " 'account_number_num_order_items_per_account_number_30day': 'INT',\n",
       " 'account_number_num_order_items_per_account_number_7day': 'INT',\n",
       " 'account_number_num_order_items_per_account_number_90day': 'INT',\n",
       " 'account_number_num_order_items_per_account_number_lifetime': 'INT',\n",
       " 'account_number_sim_bl': 'BOOLEAN',\n",
       " 'account_number_sim_created_at': 'TIMESTAMP',\n",
       " 'account_number_sim_creation_date': 'TEXT',\n",
       " 'account_number_sim_dc': 'SET',\n",
       " 'account_number_sim_dc_reasons': 'SET',\n",
       " 'account_number_sim_frequently_used': 'BOOLEAN',\n",
       " 'account_number_sim_is_fraud': 'INT',\n",
       " 'account_number_sim_ladt': 'TIMESTAMP',\n",
       " 'account_number_sim_ll': 'MAP',\n",
       " 'account_number_sim_local_feedback_status': 'TEXT',\n",
       " 'account_number_sim_map_tombstones': 'MAP',\n",
       " 'account_number_sim_ps': 'TEXT',\n",
       " 'account_number_sim_ps1': 'SET',\n",
       " 'account_number_sim_ps2': 'SET',\n",
       " 'account_number_sim_ps_error': 'SET',\n",
       " 'account_number_sim_q': 'TEXT',\n",
       " 'account_number_sim_qadtr': 'TEXT',\n",
       " 'account_number_sim_qnote': 'TEXT',\n",
       " 'account_number_sim_queues': 'SET',\n",
       " 'account_number_sim_sc': 'FLOAT',\n",
       " 'account_number_sim_sc_ml': 'FLOAT',\n",
       " 'account_number_sim_updated_at': 'TIMESTAMP',\n",
       " 'account_number_sim_updated_customer': 'TIMESTAMP',\n",
       " 'account_number_sim_updated_internal': 'TIMESTAMP',\n",
       " 'account_number_sim_updated_user_email': 'TEXT',\n",
       " 'account_number_sim_wl': 'SET',\n",
       " 'account_number_sim_wl2': 'TEXT',\n",
       " 'account_number_sum_order_total_per_account_number_1day': 'DOUBLE',\n",
       " 'account_number_sum_order_total_per_account_number_30day': 'DOUBLE',\n",
       " 'account_number_sum_order_total_per_account_number_7day': 'DOUBLE',\n",
       " 'account_number_sum_order_total_per_account_number_90day': 'DOUBLE',\n",
       " 'account_number_transaction_proto': 'BLOB',\n",
       " 'account_number_transaction_proto_aggregations': 'TEXT',\n",
       " 'account_number_transaction_proto_num_order_items_aggregations': 'TEXT',\n",
       " 'account_number_transaction_proto_sim_is_fraud_aggregations': 'TEXT',\n",
       " 'shipping_city_eid': 'TEXT',\n",
       " 'shipping_city_sim_bl': 'BOOLEAN',\n",
       " 'shipping_city_sim_created_at': 'TIMESTAMP',\n",
       " 'shipping_city_sim_creation_date': 'TEXT',\n",
       " 'shipping_city_sim_dc': 'SET',\n",
       " 'shipping_city_sim_dc_reasons': 'SET',\n",
       " 'shipping_city_sim_frequently_used': 'BOOLEAN',\n",
       " 'shipping_city_sim_is_fraud': 'INT',\n",
       " 'shipping_city_sim_ladt': 'TIMESTAMP',\n",
       " 'shipping_city_sim_ll': 'MAP',\n",
       " 'shipping_city_sim_local_feedback_status': 'TEXT',\n",
       " 'shipping_city_sim_map_tombstones': 'MAP',\n",
       " 'shipping_city_sim_ps': 'TEXT',\n",
       " 'shipping_city_sim_ps1': 'SET',\n",
       " 'shipping_city_sim_ps2': 'SET',\n",
       " 'shipping_city_sim_ps_error': 'SET',\n",
       " 'shipping_city_sim_q': 'TEXT',\n",
       " 'shipping_city_sim_qadtr': 'TEXT',\n",
       " 'shipping_city_sim_qnote': 'TEXT',\n",
       " 'shipping_city_sim_queues': 'SET',\n",
       " 'shipping_city_sim_sc': 'FLOAT',\n",
       " 'shipping_city_sim_sc_ml': 'FLOAT',\n",
       " 'shipping_city_sim_updated_at': 'TIMESTAMP',\n",
       " 'shipping_city_sim_updated_customer': 'TIMESTAMP',\n",
       " 'shipping_city_sim_updated_internal': 'TIMESTAMP',\n",
       " 'shipping_city_sim_updated_user_email': 'TEXT',\n",
       " 'shipping_city_sim_wl': 'SET',\n",
       " 'shipping_city_sim_wl2': 'TEXT',\n",
       " 'account_number': 'TEXT',\n",
       " 'billing_city': 'TEXT',\n",
       " 'eid': 'TEXT',\n",
       " 'is_billing_shipping_city_same': 'BOOLEAN',\n",
       " 'is_existing_user': 'BOOLEAN',\n",
       " 'num_order_items': 'INT',\n",
       " 'order_total': 'DOUBLE',\n",
       " 'shipping_city': 'TEXT',\n",
       " 'sim_bl': 'BOOLEAN',\n",
       " 'sim_created_at': 'TIMESTAMP',\n",
       " 'sim_creation_date': 'TEXT',\n",
       " 'sim_dc': 'SET',\n",
       " 'sim_dc_reasons': 'SET',\n",
       " 'sim_frequently_used': 'BOOLEAN',\n",
       " 'sim_is_fraud': 'INT',\n",
       " 'sim_ladt': 'TIMESTAMP',\n",
       " 'sim_ll': 'MAP',\n",
       " 'sim_local_feedback_status': 'TEXT',\n",
       " 'sim_map_tombstones': 'MAP',\n",
       " 'sim_ps': 'TEXT',\n",
       " 'sim_ps1': 'SET',\n",
       " 'sim_ps2': 'SET',\n",
       " 'sim_ps_error': 'SET',\n",
       " 'sim_q': 'TEXT',\n",
       " 'sim_qadtr': 'TEXT',\n",
       " 'sim_qnote': 'TEXT',\n",
       " 'sim_queues': 'SET',\n",
       " 'sim_sc': 'FLOAT',\n",
       " 'sim_sc_ml': 'FLOAT',\n",
       " 'sim_updated_at': 'TIMESTAMP',\n",
       " 'sim_updated_customer': 'TIMESTAMP',\n",
       " 'sim_updated_internal': 'TIMESTAMP',\n",
       " 'sim_updated_user_email': 'TEXT',\n",
       " 'sim_wl': 'SET',\n",
       " 'sim_wl2': 'TEXT',\n",
       " 'status': 'TEXT'}"
      ]
     },
     "execution_count": 11,
     "metadata": {},
     "output_type": "execute_result"
    }
   ],
   "source": [
    "po_dtypes"
   ]
  },
  {
   "cell_type": "markdown",
   "metadata": {},
   "source": [
    "---"
   ]
  },
  {
   "cell_type": "markdown",
   "metadata": {},
   "source": [
    "## ReturnCassandraPipelineOutputMapping"
   ]
  },
  {
   "cell_type": "markdown",
   "metadata": {},
   "source": [
    "This class returns the Cassandra field name associated with each field in pipeline output."
   ]
  },
  {
   "cell_type": "markdown",
   "metadata": {},
   "source": [
    "Firstly, we need to instantiate the ReturnCassandraPipelineOutputMapping class. To do this, we need to provide the *url*, *app_prefix*, *user* and *base_entity* for the environment we're interested in."
   ]
  },
  {
   "cell_type": "code",
   "execution_count": 12,
   "metadata": {},
   "outputs": [],
   "source": [
    "params = {\n",
    "    \"url\": 'http://sim-ds.us-central1.gcp.dev.paypalinc.com',\n",
    "    \"app_prefix\": 'james_testing',\n",
    "    \"user\": 'james@simility.com',\n",
    "    \"base_entity\": 'transaction'\n",
    "}"
   ]
  },
  {
   "cell_type": "code",
   "execution_count": 13,
   "metadata": {},
   "outputs": [],
   "source": [
    "r = ReturnCassandraPipelineOutputMapping(**params)"
   ]
  },
  {
   "cell_type": "markdown",
   "metadata": {},
   "source": [
    "Then we can run the *.request()* method to return the Cassandra field name associated with each field in pipeline output."
   ]
  },
  {
   "cell_type": "code",
   "execution_count": 14,
   "metadata": {},
   "outputs": [],
   "source": [
    "cass_po_mapping = r.request()"
   ]
  },
  {
   "cell_type": "markdown",
   "metadata": {},
   "source": [
    "### Outputs"
   ]
  },
  {
   "cell_type": "markdown",
   "metadata": {},
   "source": [
    "The *.request()* method a dictionary of the Cassandra field name (values) associated with each pipeline output field (keys)."
   ]
  },
  {
   "cell_type": "code",
   "execution_count": 15,
   "metadata": {
    "collapsed": true,
    "jupyter": {
     "outputs_hidden": true
    }
   },
   "outputs": [
    {
     "data": {
      "text/plain": [
       "{'account_number_avg_order_total_per_account_number_1day': 'account_number.avg_order_total_per_account_number_1day',\n",
       " 'account_number_avg_order_total_per_account_number_30day': 'account_number.avg_order_total_per_account_number_30day',\n",
       " 'account_number_avg_order_total_per_account_number_7day': 'account_number.avg_order_total_per_account_number_7day',\n",
       " 'account_number_avg_order_total_per_account_number_90day': 'account_number.avg_order_total_per_account_number_90day',\n",
       " 'account_number_eid': 'account_number.eid',\n",
       " 'account_number_num_distinct_transaction_per_account_number_1day': 'account_number.num_distinct_transaction_per_account_number_1day',\n",
       " 'account_number_num_distinct_transaction_per_account_number_30day': 'account_number.num_distinct_transaction_per_account_number_30day',\n",
       " 'account_number_num_distinct_transaction_per_account_number_7day': 'account_number.num_distinct_transaction_per_account_number_7day',\n",
       " 'account_number_num_distinct_transaction_per_account_number_90day': 'account_number.num_distinct_transaction_per_account_number_90day',\n",
       " 'account_number_num_fraud_transactions_per_account_number_1day': 'account_number.num_fraud_transactions_per_account_number_1day',\n",
       " 'account_number_num_fraud_transactions_per_account_number_30day': 'account_number.num_fraud_transactions_per_account_number_30day',\n",
       " 'account_number_num_fraud_transactions_per_account_number_7day': 'account_number.num_fraud_transactions_per_account_number_7day',\n",
       " 'account_number_num_fraud_transactions_per_account_number_90day': 'account_number.num_fraud_transactions_per_account_number_90day',\n",
       " 'account_number_num_fraud_transactions_per_account_number_lifetime': 'account_number.num_fraud_transactions_per_account_number_lifetime',\n",
       " 'account_number_num_order_items_per_account_number_1day': 'account_number.num_order_items_per_account_number_1day',\n",
       " 'account_number_num_order_items_per_account_number_30day': 'account_number.num_order_items_per_account_number_30day',\n",
       " 'account_number_num_order_items_per_account_number_7day': 'account_number.num_order_items_per_account_number_7day',\n",
       " 'account_number_num_order_items_per_account_number_90day': 'account_number.num_order_items_per_account_number_90day',\n",
       " 'account_number_num_order_items_per_account_number_lifetime': 'account_number.num_order_items_per_account_number_lifetime',\n",
       " 'account_number_sim_bl': 'account_number.sim_bl',\n",
       " 'account_number_sim_created_at': 'account_number.sim_created_at',\n",
       " 'account_number_sim_creation_date': 'account_number.sim_creation_date',\n",
       " 'account_number_sim_dc': 'account_number.sim_dc',\n",
       " 'account_number_sim_dc_reasons': 'account_number.sim_dc_reasons',\n",
       " 'account_number_sim_frequently_used': 'account_number.sim_frequently_used',\n",
       " 'account_number_sim_is_fraud': 'account_number.sim_is_fraud',\n",
       " 'account_number_sim_ladt': 'account_number.sim_ladt',\n",
       " 'account_number_sim_ll': 'account_number.sim_ll',\n",
       " 'account_number_sim_local_feedback_status': 'account_number.sim_local_feedback_status',\n",
       " 'account_number_sim_map_tombstones': 'account_number.sim_map_tombstones',\n",
       " 'account_number_sim_ps': 'account_number.sim_ps',\n",
       " 'account_number_sim_ps1': 'account_number.sim_ps1',\n",
       " 'account_number_sim_ps2': 'account_number.sim_ps2',\n",
       " 'account_number_sim_ps_error': 'account_number.sim_ps_error',\n",
       " 'account_number_sim_q': 'account_number.sim_q',\n",
       " 'account_number_sim_qadtr': 'account_number.sim_qadtr',\n",
       " 'account_number_sim_qnote': 'account_number.sim_qnote',\n",
       " 'account_number_sim_queues': 'account_number.sim_queues',\n",
       " 'account_number_sim_sc': 'account_number.sim_sc',\n",
       " 'account_number_sim_sc_ml': 'account_number.sim_sc_ml',\n",
       " 'account_number_sim_updated_at': 'account_number.sim_updated_at',\n",
       " 'account_number_sim_updated_customer': 'account_number.sim_updated_customer',\n",
       " 'account_number_sim_updated_internal': 'account_number.sim_updated_internal',\n",
       " 'account_number_sim_updated_user_email': 'account_number.sim_updated_user_email',\n",
       " 'account_number_sim_wl': 'account_number.sim_wl',\n",
       " 'account_number_sim_wl2': 'account_number.sim_wl2',\n",
       " 'account_number_sum_order_total_per_account_number_1day': 'account_number.sum_order_total_per_account_number_1day',\n",
       " 'account_number_sum_order_total_per_account_number_30day': 'account_number.sum_order_total_per_account_number_30day',\n",
       " 'account_number_sum_order_total_per_account_number_7day': 'account_number.sum_order_total_per_account_number_7day',\n",
       " 'account_number_sum_order_total_per_account_number_90day': 'account_number.sum_order_total_per_account_number_90day',\n",
       " 'account_number_transaction_proto': 'account_number.transaction_proto',\n",
       " 'account_number_transaction_proto_aggregations': 'account_number.transaction_proto_aggregations',\n",
       " 'account_number_transaction_proto_num_order_items_aggregations': 'account_number.transaction_proto_num_order_items_aggregations',\n",
       " 'account_number_transaction_proto_sim_is_fraud_aggregations': 'account_number.transaction_proto_sim_is_fraud_aggregations',\n",
       " 'shipping_city_eid': 'shipping_city.eid',\n",
       " 'shipping_city_sim_bl': 'shipping_city.sim_bl',\n",
       " 'shipping_city_sim_created_at': 'shipping_city.sim_created_at',\n",
       " 'shipping_city_sim_creation_date': 'shipping_city.sim_creation_date',\n",
       " 'shipping_city_sim_dc': 'shipping_city.sim_dc',\n",
       " 'shipping_city_sim_dc_reasons': 'shipping_city.sim_dc_reasons',\n",
       " 'shipping_city_sim_frequently_used': 'shipping_city.sim_frequently_used',\n",
       " 'shipping_city_sim_is_fraud': 'shipping_city.sim_is_fraud',\n",
       " 'shipping_city_sim_ladt': 'shipping_city.sim_ladt',\n",
       " 'shipping_city_sim_ll': 'shipping_city.sim_ll',\n",
       " 'shipping_city_sim_local_feedback_status': 'shipping_city.sim_local_feedback_status',\n",
       " 'shipping_city_sim_map_tombstones': 'shipping_city.sim_map_tombstones',\n",
       " 'shipping_city_sim_ps': 'shipping_city.sim_ps',\n",
       " 'shipping_city_sim_ps1': 'shipping_city.sim_ps1',\n",
       " 'shipping_city_sim_ps2': 'shipping_city.sim_ps2',\n",
       " 'shipping_city_sim_ps_error': 'shipping_city.sim_ps_error',\n",
       " 'shipping_city_sim_q': 'shipping_city.sim_q',\n",
       " 'shipping_city_sim_qadtr': 'shipping_city.sim_qadtr',\n",
       " 'shipping_city_sim_qnote': 'shipping_city.sim_qnote',\n",
       " 'shipping_city_sim_queues': 'shipping_city.sim_queues',\n",
       " 'shipping_city_sim_sc': 'shipping_city.sim_sc',\n",
       " 'shipping_city_sim_sc_ml': 'shipping_city.sim_sc_ml',\n",
       " 'shipping_city_sim_updated_at': 'shipping_city.sim_updated_at',\n",
       " 'shipping_city_sim_updated_customer': 'shipping_city.sim_updated_customer',\n",
       " 'shipping_city_sim_updated_internal': 'shipping_city.sim_updated_internal',\n",
       " 'shipping_city_sim_updated_user_email': 'shipping_city.sim_updated_user_email',\n",
       " 'shipping_city_sim_wl': 'shipping_city.sim_wl',\n",
       " 'shipping_city_sim_wl2': 'shipping_city.sim_wl2',\n",
       " 'account_number': 'account_number',\n",
       " 'billing_city': 'billing_city',\n",
       " 'eid': 'eid',\n",
       " 'is_billing_shipping_city_same': 'is_billing_shipping_city_same',\n",
       " 'is_existing_user': 'is_existing_user',\n",
       " 'num_order_items': 'num_order_items',\n",
       " 'order_total': 'order_total',\n",
       " 'shipping_city': 'shipping_city',\n",
       " 'sim_bl': 'sim_bl',\n",
       " 'sim_created_at': 'sim_created_at',\n",
       " 'sim_creation_date': 'sim_creation_date',\n",
       " 'sim_dc': 'sim_dc',\n",
       " 'sim_dc_reasons': 'sim_dc_reasons',\n",
       " 'sim_frequently_used': 'sim_frequently_used',\n",
       " 'sim_is_fraud': 'sim_is_fraud',\n",
       " 'sim_ladt': 'sim_ladt',\n",
       " 'sim_ll': 'sim_ll',\n",
       " 'sim_local_feedback_status': 'sim_local_feedback_status',\n",
       " 'sim_map_tombstones': 'sim_map_tombstones',\n",
       " 'sim_ps': 'sim_ps',\n",
       " 'sim_ps1': 'sim_ps1',\n",
       " 'sim_ps2': 'sim_ps2',\n",
       " 'sim_ps_error': 'sim_ps_error',\n",
       " 'sim_q': 'sim_q',\n",
       " 'sim_qadtr': 'sim_qadtr',\n",
       " 'sim_qnote': 'sim_qnote',\n",
       " 'sim_queues': 'sim_queues',\n",
       " 'sim_sc': 'sim_sc',\n",
       " 'sim_sc_ml': 'sim_sc_ml',\n",
       " 'sim_updated_at': 'sim_updated_at',\n",
       " 'sim_updated_customer': 'sim_updated_customer',\n",
       " 'sim_updated_internal': 'sim_updated_internal',\n",
       " 'sim_updated_user_email': 'sim_updated_user_email',\n",
       " 'sim_wl': 'sim_wl',\n",
       " 'sim_wl2': 'sim_wl2',\n",
       " 'status': 'status'}"
      ]
     },
     "execution_count": 15,
     "metadata": {},
     "output_type": "execute_result"
    }
   ],
   "source": [
    "cass_po_mapping"
   ]
  },
  {
   "cell_type": "markdown",
   "metadata": {},
   "source": [
    "----"
   ]
  },
  {
   "cell_type": "markdown",
   "metadata": {},
   "source": [
    "## The End"
   ]
  },
  {
   "cell_type": "markdown",
   "metadata": {},
   "source": [
    "That's it folks - if you have any queries or suggestions please put them in the *#sim-datatools-help* Slack channel or email James directly."
   ]
  }
 ],
 "metadata": {
  "kernelspec": {
   "display_name": "argov2",
   "language": "python",
   "name": "argov2"
  },
  "language_info": {
   "codemirror_mode": {
    "name": "ipython",
    "version": 3
   },
   "file_extension": ".py",
   "mimetype": "text/x-python",
   "name": "python",
   "nbconvert_exporter": "python",
   "pygments_lexer": "ipython3",
   "version": "3.7.7"
  }
 },
 "nbformat": 4,
 "nbformat_minor": 4
}
