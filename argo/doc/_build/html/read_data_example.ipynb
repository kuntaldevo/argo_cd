{
 "cells": [
  {
   "cell_type": "markdown",
   "metadata": {},
   "source": [
    "# Simility Read Data Example"
   ]
  },
  {
   "cell_type": "markdown",
   "metadata": {},
   "source": [
    "This notebook contains an example of how the Simility Read Data sub-package can be used to read pipeline output data stored in various formats, while accounting for the Cassandra datatypes of the fields in a Simility environment."
   ]
  },
  {
   "cell_type": "markdown",
   "metadata": {},
   "source": [
    "## Requirements"
   ]
  },
  {
   "cell_type": "markdown",
   "metadata": {},
   "source": [
    "To run, you'll need the following:\n",
    "\n",
    "* Install the Simility Read Data package - see the readme for more information.\n",
    "* Be connected to the PayPal VPN"
   ]
  },
  {
   "cell_type": "markdown",
   "metadata": {},
   "source": [
    "----"
   ]
  },
  {
   "cell_type": "markdown",
   "metadata": {},
   "source": [
    "## Import packages"
   ]
  },
  {
   "cell_type": "code",
   "execution_count": 2,
   "metadata": {},
   "outputs": [],
   "source": [
    "from read_data.read_data import DataReader\n",
    "from simility_apis.set_password import set_password\n",
    "\n",
    "import pandas as pd\n",
    "import numpy as np\n",
    "import json"
   ]
  },
  {
   "cell_type": "markdown",
   "metadata": {},
   "source": [
    "---"
   ]
  },
  {
   "cell_type": "markdown",
   "metadata": {},
   "source": [
    "## Set your password"
   ]
  },
  {
   "cell_type": "markdown",
   "metadata": {},
   "source": [
    "Before using the read_data module, you need to provide your password that you use to log in to the Simility environment (this is so the Cassandra datatypes of each pipeline output field can be fetched):"
   ]
  },
  {
   "cell_type": "code",
   "execution_count": 3,
   "metadata": {},
   "outputs": [
    {
     "name": "stdin",
     "output_type": "stream",
     "text": [
      "Please provide your password for logging into the Simility platform:  ·········\n"
     ]
    }
   ],
   "source": [
    "set_password()"
   ]
  },
  {
   "cell_type": "markdown",
   "metadata": {},
   "source": [
    "---"
   ]
  },
  {
   "cell_type": "markdown",
   "metadata": {},
   "source": [
    "## Read CSV"
   ]
  },
  {
   "cell_type": "markdown",
   "metadata": {},
   "source": [
    "We can read a CSV file and ensure the datatypes of the fields align to Cassandra by using the *read_csv* method from the *DataReader* class. \n",
    "\n",
    "First, we instantiate the *DataReader* class with parameters relating to the Simility environment in question:"
   ]
  },
  {
   "cell_type": "code",
   "execution_count": 4,
   "metadata": {},
   "outputs": [],
   "source": [
    "params = {\n",
    "    \"url\": 'http://sim-ds.us-central1.gcp.dev.paypalinc.com',\n",
    "    \"app_prefix\": 'james_testing',\n",
    "    \"user\": 'james@simility.com',\n",
    "    \"base_entity\": 'transaction'\n",
    "}"
   ]
  },
  {
   "cell_type": "code",
   "execution_count": 5,
   "metadata": {},
   "outputs": [],
   "source": [
    "dr = DataReader(**params)"
   ]
  },
  {
   "cell_type": "markdown",
   "metadata": {},
   "source": [
    "Now we can read in the CSV file, outlining any keyword arguments that need to be passed to the Pandas read_csv method:"
   ]
  },
  {
   "cell_type": "code",
   "execution_count": 6,
   "metadata": {},
   "outputs": [],
   "source": [
    "data = dr.read_csv(filepath='dummy_data/dummy_pipeline_output_data.csv',\n",
    "                   index_col='eid')"
   ]
  },
  {
   "cell_type": "markdown",
   "metadata": {},
   "source": [
    "### Outputs"
   ]
  },
  {
   "cell_type": "markdown",
   "metadata": {},
   "source": [
    "The *.read_csv()* method returns a dataframe of the CSV file, using the Cassandra equivalent datatypes in Pandas:"
   ]
  },
  {
   "cell_type": "code",
   "execution_count": 7,
   "metadata": {},
   "outputs": [
    {
     "data": {
      "text/html": [
       "<div>\n",
       "<style scoped>\n",
       "    .dataframe tbody tr th:only-of-type {\n",
       "        vertical-align: middle;\n",
       "    }\n",
       "\n",
       "    .dataframe tbody tr th {\n",
       "        vertical-align: top;\n",
       "    }\n",
       "\n",
       "    .dataframe thead th {\n",
       "        text-align: right;\n",
       "    }\n",
       "</style>\n",
       "<table border=\"1\" class=\"dataframe\">\n",
       "  <thead>\n",
       "    <tr style=\"text-align: right;\">\n",
       "      <th></th>\n",
       "      <th>account_number</th>\n",
       "      <th>account_number_avg_order_total_per_account_number_1day</th>\n",
       "      <th>account_number_avg_order_total_per_account_number_30day</th>\n",
       "      <th>account_number_avg_order_total_per_account_number_7day</th>\n",
       "      <th>account_number_avg_order_total_per_account_number_90day</th>\n",
       "      <th>account_number_eid</th>\n",
       "      <th>account_number_num_distinct_transaction_per_account_number_1day</th>\n",
       "      <th>account_number_num_distinct_transaction_per_account_number_30day</th>\n",
       "      <th>account_number_num_distinct_transaction_per_account_number_7day</th>\n",
       "      <th>account_number_num_distinct_transaction_per_account_number_90day</th>\n",
       "      <th>...</th>\n",
       "      <th>sim_queues</th>\n",
       "      <th>sim_sc</th>\n",
       "      <th>sim_sc_ml</th>\n",
       "      <th>sim_updated_at</th>\n",
       "      <th>sim_updated_customer</th>\n",
       "      <th>sim_updated_internal</th>\n",
       "      <th>sim_updated_user_email</th>\n",
       "      <th>sim_wl</th>\n",
       "      <th>sim_wl2</th>\n",
       "      <th>status</th>\n",
       "    </tr>\n",
       "    <tr>\n",
       "      <th>eid</th>\n",
       "      <th></th>\n",
       "      <th></th>\n",
       "      <th></th>\n",
       "      <th></th>\n",
       "      <th></th>\n",
       "      <th></th>\n",
       "      <th></th>\n",
       "      <th></th>\n",
       "      <th></th>\n",
       "      <th></th>\n",
       "      <th></th>\n",
       "      <th></th>\n",
       "      <th></th>\n",
       "      <th></th>\n",
       "      <th></th>\n",
       "      <th></th>\n",
       "      <th></th>\n",
       "      <th></th>\n",
       "      <th></th>\n",
       "      <th></th>\n",
       "      <th></th>\n",
       "    </tr>\n",
       "  </thead>\n",
       "  <tbody>\n",
       "    <tr>\n",
       "      <th>147-5738036-4442504</th>\n",
       "      <td>f2a99b2c64eed603165eec3590d8e162</td>\n",
       "      <td>NaN</td>\n",
       "      <td>0.0</td>\n",
       "      <td>0.0</td>\n",
       "      <td>0.0</td>\n",
       "      <td>f2a99b2c64eed603165eec3590d8e162</td>\n",
       "      <td>1</td>\n",
       "      <td>1</td>\n",
       "      <td>1</td>\n",
       "      <td>1</td>\n",
       "      <td>...</td>\n",
       "      <td>[]</td>\n",
       "      <td>NaN</td>\n",
       "      <td>NaN</td>\n",
       "      <td>1574372761000.0</td>\n",
       "      <td>1582237359410.0</td>\n",
       "      <td>NaN</td>\n",
       "      <td>james_testing_api_admin@james_testing.com</td>\n",
       "      <td>['Closed']</td>\n",
       "      <td>NaN</td>\n",
       "      <td>New</td>\n",
       "    </tr>\n",
       "    <tr>\n",
       "      <th>254-3871443-0481877</th>\n",
       "      <td>1e83c43e316ecdc539f5611410c366fa</td>\n",
       "      <td>0.0</td>\n",
       "      <td>0.0</td>\n",
       "      <td>0.0</td>\n",
       "      <td>0.0</td>\n",
       "      <td>1e83c43e316ecdc539f5611410c366fa</td>\n",
       "      <td>1</td>\n",
       "      <td>1</td>\n",
       "      <td>1</td>\n",
       "      <td>1</td>\n",
       "      <td>...</td>\n",
       "      <td>[]</td>\n",
       "      <td>NaN</td>\n",
       "      <td>NaN</td>\n",
       "      <td>1574372778000.0</td>\n",
       "      <td>1582237359934.0</td>\n",
       "      <td>NaN</td>\n",
       "      <td>james_testing_api_admin@james_testing.com</td>\n",
       "      <td>['Closed']</td>\n",
       "      <td>NaN</td>\n",
       "      <td>New</td>\n",
       "    </tr>\n",
       "    <tr>\n",
       "      <th>404-7064563-8888834</th>\n",
       "      <td>d421fb1e54650501ac29f8a139fb7f4d</td>\n",
       "      <td>0.0</td>\n",
       "      <td>0.0</td>\n",
       "      <td>0.0</td>\n",
       "      <td>0.0</td>\n",
       "      <td>d421fb1e54650501ac29f8a139fb7f4d</td>\n",
       "      <td>1</td>\n",
       "      <td>1</td>\n",
       "      <td>1</td>\n",
       "      <td>1</td>\n",
       "      <td>...</td>\n",
       "      <td>[]</td>\n",
       "      <td>NaN</td>\n",
       "      <td>NaN</td>\n",
       "      <td>1574372811000.0</td>\n",
       "      <td>1582237360396.0</td>\n",
       "      <td>NaN</td>\n",
       "      <td>james_testing_api_admin@james_testing.com</td>\n",
       "      <td>['Closed']</td>\n",
       "      <td>NaN</td>\n",
       "      <td>New</td>\n",
       "    </tr>\n",
       "    <tr>\n",
       "      <th>775-5355315-3130338</th>\n",
       "      <td>c9b125ebddcae943eb4145f02e9cf7d4</td>\n",
       "      <td>0.0</td>\n",
       "      <td>0.0</td>\n",
       "      <td>0.0</td>\n",
       "      <td>0.0</td>\n",
       "      <td>c9b125ebddcae943eb4145f02e9cf7d4</td>\n",
       "      <td>1</td>\n",
       "      <td>1</td>\n",
       "      <td>1</td>\n",
       "      <td>1</td>\n",
       "      <td>...</td>\n",
       "      <td>[]</td>\n",
       "      <td>NaN</td>\n",
       "      <td>NaN</td>\n",
       "      <td>1574373202000.0</td>\n",
       "      <td>1582237360917.0</td>\n",
       "      <td>NaN</td>\n",
       "      <td>james_testing_api_admin@james_testing.com</td>\n",
       "      <td>['Closed']</td>\n",
       "      <td>NaN</td>\n",
       "      <td>New</td>\n",
       "    </tr>\n",
       "    <tr>\n",
       "      <th>899-4723735-1420281</th>\n",
       "      <td>e6d7963551958b0e6cab027dfa20c318</td>\n",
       "      <td>0.0</td>\n",
       "      <td>0.0</td>\n",
       "      <td>0.0</td>\n",
       "      <td>0.0</td>\n",
       "      <td>e6d7963551958b0e6cab027dfa20c318</td>\n",
       "      <td>1</td>\n",
       "      <td>1</td>\n",
       "      <td>1</td>\n",
       "      <td>1</td>\n",
       "      <td>...</td>\n",
       "      <td>[]</td>\n",
       "      <td>NaN</td>\n",
       "      <td>NaN</td>\n",
       "      <td>1574373315000.0</td>\n",
       "      <td>1582237361352.0</td>\n",
       "      <td>NaN</td>\n",
       "      <td>james_testing_api_admin@james_testing.com</td>\n",
       "      <td>['Closed']</td>\n",
       "      <td>NaN</td>\n",
       "      <td>New</td>\n",
       "    </tr>\n",
       "  </tbody>\n",
       "</table>\n",
       "<p>5 rows × 64 columns</p>\n",
       "</div>"
      ],
      "text/plain": [
       "                                       account_number  \\\n",
       "eid                                                     \n",
       "147-5738036-4442504  f2a99b2c64eed603165eec3590d8e162   \n",
       "254-3871443-0481877  1e83c43e316ecdc539f5611410c366fa   \n",
       "404-7064563-8888834  d421fb1e54650501ac29f8a139fb7f4d   \n",
       "775-5355315-3130338  c9b125ebddcae943eb4145f02e9cf7d4   \n",
       "899-4723735-1420281  e6d7963551958b0e6cab027dfa20c318   \n",
       "\n",
       "                     account_number_avg_order_total_per_account_number_1day  \\\n",
       "eid                                                                           \n",
       "147-5738036-4442504                                                NaN        \n",
       "254-3871443-0481877                                                0.0        \n",
       "404-7064563-8888834                                                0.0        \n",
       "775-5355315-3130338                                                0.0        \n",
       "899-4723735-1420281                                                0.0        \n",
       "\n",
       "                     account_number_avg_order_total_per_account_number_30day  \\\n",
       "eid                                                                            \n",
       "147-5738036-4442504                                                0.0         \n",
       "254-3871443-0481877                                                0.0         \n",
       "404-7064563-8888834                                                0.0         \n",
       "775-5355315-3130338                                                0.0         \n",
       "899-4723735-1420281                                                0.0         \n",
       "\n",
       "                     account_number_avg_order_total_per_account_number_7day  \\\n",
       "eid                                                                           \n",
       "147-5738036-4442504                                                0.0        \n",
       "254-3871443-0481877                                                0.0        \n",
       "404-7064563-8888834                                                0.0        \n",
       "775-5355315-3130338                                                0.0        \n",
       "899-4723735-1420281                                                0.0        \n",
       "\n",
       "                     account_number_avg_order_total_per_account_number_90day  \\\n",
       "eid                                                                            \n",
       "147-5738036-4442504                                                0.0         \n",
       "254-3871443-0481877                                                0.0         \n",
       "404-7064563-8888834                                                0.0         \n",
       "775-5355315-3130338                                                0.0         \n",
       "899-4723735-1420281                                                0.0         \n",
       "\n",
       "                                   account_number_eid  \\\n",
       "eid                                                     \n",
       "147-5738036-4442504  f2a99b2c64eed603165eec3590d8e162   \n",
       "254-3871443-0481877  1e83c43e316ecdc539f5611410c366fa   \n",
       "404-7064563-8888834  d421fb1e54650501ac29f8a139fb7f4d   \n",
       "775-5355315-3130338  c9b125ebddcae943eb4145f02e9cf7d4   \n",
       "899-4723735-1420281  e6d7963551958b0e6cab027dfa20c318   \n",
       "\n",
       "                     account_number_num_distinct_transaction_per_account_number_1day  \\\n",
       "eid                                                                                    \n",
       "147-5738036-4442504                                                  1                 \n",
       "254-3871443-0481877                                                  1                 \n",
       "404-7064563-8888834                                                  1                 \n",
       "775-5355315-3130338                                                  1                 \n",
       "899-4723735-1420281                                                  1                 \n",
       "\n",
       "                     account_number_num_distinct_transaction_per_account_number_30day  \\\n",
       "eid                                                                                     \n",
       "147-5738036-4442504                                                  1                  \n",
       "254-3871443-0481877                                                  1                  \n",
       "404-7064563-8888834                                                  1                  \n",
       "775-5355315-3130338                                                  1                  \n",
       "899-4723735-1420281                                                  1                  \n",
       "\n",
       "                     account_number_num_distinct_transaction_per_account_number_7day  \\\n",
       "eid                                                                                    \n",
       "147-5738036-4442504                                                  1                 \n",
       "254-3871443-0481877                                                  1                 \n",
       "404-7064563-8888834                                                  1                 \n",
       "775-5355315-3130338                                                  1                 \n",
       "899-4723735-1420281                                                  1                 \n",
       "\n",
       "                     account_number_num_distinct_transaction_per_account_number_90day  \\\n",
       "eid                                                                                     \n",
       "147-5738036-4442504                                                  1                  \n",
       "254-3871443-0481877                                                  1                  \n",
       "404-7064563-8888834                                                  1                  \n",
       "775-5355315-3130338                                                  1                  \n",
       "899-4723735-1420281                                                  1                  \n",
       "\n",
       "                     ...  sim_queues  sim_sc  sim_sc_ml   sim_updated_at  \\\n",
       "eid                  ...                                                   \n",
       "147-5738036-4442504  ...          []     NaN        NaN  1574372761000.0   \n",
       "254-3871443-0481877  ...          []     NaN        NaN  1574372778000.0   \n",
       "404-7064563-8888834  ...          []     NaN        NaN  1574372811000.0   \n",
       "775-5355315-3130338  ...          []     NaN        NaN  1574373202000.0   \n",
       "899-4723735-1420281  ...          []     NaN        NaN  1574373315000.0   \n",
       "\n",
       "                     sim_updated_customer  sim_updated_internal  \\\n",
       "eid                                                               \n",
       "147-5738036-4442504       1582237359410.0                   NaN   \n",
       "254-3871443-0481877       1582237359934.0                   NaN   \n",
       "404-7064563-8888834       1582237360396.0                   NaN   \n",
       "775-5355315-3130338       1582237360917.0                   NaN   \n",
       "899-4723735-1420281       1582237361352.0                   NaN   \n",
       "\n",
       "                                        sim_updated_user_email      sim_wl  \\\n",
       "eid                                                                          \n",
       "147-5738036-4442504  james_testing_api_admin@james_testing.com  ['Closed']   \n",
       "254-3871443-0481877  james_testing_api_admin@james_testing.com  ['Closed']   \n",
       "404-7064563-8888834  james_testing_api_admin@james_testing.com  ['Closed']   \n",
       "775-5355315-3130338  james_testing_api_admin@james_testing.com  ['Closed']   \n",
       "899-4723735-1420281  james_testing_api_admin@james_testing.com  ['Closed']   \n",
       "\n",
       "                     sim_wl2  status  \n",
       "eid                                   \n",
       "147-5738036-4442504      NaN     New  \n",
       "254-3871443-0481877      NaN     New  \n",
       "404-7064563-8888834      NaN     New  \n",
       "775-5355315-3130338      NaN     New  \n",
       "899-4723735-1420281      NaN     New  \n",
       "\n",
       "[5 rows x 64 columns]"
      ]
     },
     "execution_count": 7,
     "metadata": {},
     "output_type": "execute_result"
    }
   ],
   "source": [
    "data.head()"
   ]
  },
  {
   "cell_type": "code",
   "execution_count": 8,
   "metadata": {},
   "outputs": [
    {
     "data": {
      "text/plain": [
       "account_number                                              object\n",
       "account_number_avg_order_total_per_account_number_1day     float64\n",
       "account_number_avg_order_total_per_account_number_30day    float64\n",
       "account_number_avg_order_total_per_account_number_7day     float64\n",
       "account_number_avg_order_total_per_account_number_90day    float64\n",
       "                                                            ...   \n",
       "sim_updated_internal                                        object\n",
       "sim_updated_user_email                                      object\n",
       "sim_wl                                                      object\n",
       "sim_wl2                                                     object\n",
       "status                                                      object\n",
       "Length: 64, dtype: object"
      ]
     },
     "execution_count": 8,
     "metadata": {},
     "output_type": "execute_result"
    }
   ],
   "source": [
    "data.dtypes"
   ]
  },
  {
   "cell_type": "markdown",
   "metadata": {},
   "source": [
    "### Specify your own datatype mapping"
   ]
  },
  {
   "cell_type": "markdown",
   "metadata": {},
   "source": [
    "The DataReader class uses a default Cassandra-Pandas mapping when reading a file (see the class docstring for more information). However, you can specify your own mapping - just ensure that each Cassandra datatype is covered:"
   ]
  },
  {
   "cell_type": "code",
   "execution_count": 9,
   "metadata": {},
   "outputs": [],
   "source": [
    "new_mapping = {\n",
    "    'DOUBLE': float,\n",
    "    'TEXT': object,\n",
    "    'INT': float,\n",
    "    'BOOLEAN': object,\n",
    "    'TIMESTAMP': object,\n",
    "    'SET': object,\n",
    "    'MAP': object,\n",
    "    'FLOAT': float,\n",
    "    'BLOB': object\n",
    "}"
   ]
  },
  {
   "cell_type": "code",
   "execution_count": 10,
   "metadata": {},
   "outputs": [],
   "source": [
    "params = {\n",
    "    \"url\": 'http://sim-ds.us-central1.gcp.dev.paypalinc.com',\n",
    "    \"app_prefix\": 'james_testing',\n",
    "    \"user\": 'james@simility.com',\n",
    "    \"base_entity\": 'transaction',\n",
    "    \"cass_python_dtype_mapping\": new_mapping\n",
    "}"
   ]
  },
  {
   "cell_type": "code",
   "execution_count": 11,
   "metadata": {},
   "outputs": [],
   "source": [
    "dr = DataReader(**params)"
   ]
  },
  {
   "cell_type": "code",
   "execution_count": 12,
   "metadata": {},
   "outputs": [],
   "source": [
    "data = dr.read_csv(filepath='dummy_data/dummy_pipeline_output_data.csv',\n",
    "                   index_col='eid')"
   ]
  },
  {
   "cell_type": "code",
   "execution_count": 13,
   "metadata": {},
   "outputs": [
    {
     "data": {
      "text/plain": [
       "account_number                                              object\n",
       "account_number_avg_order_total_per_account_number_1day     float64\n",
       "account_number_avg_order_total_per_account_number_30day    float64\n",
       "account_number_avg_order_total_per_account_number_7day     float64\n",
       "account_number_avg_order_total_per_account_number_90day    float64\n",
       "                                                            ...   \n",
       "sim_updated_internal                                        object\n",
       "sim_updated_user_email                                      object\n",
       "sim_wl                                                      object\n",
       "sim_wl2                                                     object\n",
       "status                                                      object\n",
       "Length: 64, dtype: object"
      ]
     },
     "execution_count": 13,
     "metadata": {},
     "output_type": "execute_result"
    }
   ],
   "source": [
    "data.dtypes"
   ]
  },
  {
   "cell_type": "markdown",
   "metadata": {},
   "source": [
    "---"
   ]
  },
  {
   "cell_type": "markdown",
   "metadata": {},
   "source": [
    "## The End"
   ]
  },
  {
   "cell_type": "markdown",
   "metadata": {},
   "source": [
    "That's it folks - if you have any queries or suggestions please put them in the *#sim-datatools-help* Slack channel or email James directly."
   ]
  }
 ],
 "metadata": {
  "kernelspec": {
   "display_name": "read_data",
   "language": "python",
   "name": "read_data"
  },
  "language_info": {
   "codemirror_mode": {
    "name": "ipython",
    "version": 3
   },
   "file_extension": ".py",
   "mimetype": "text/x-python",
   "name": "python",
   "nbconvert_exporter": "python",
   "pygments_lexer": "ipython3",
   "version": "3.7.7"
  }
 },
 "nbformat": 4,
 "nbformat_minor": 4
}
