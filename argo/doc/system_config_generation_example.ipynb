{
 "cells": [
  {
   "cell_type": "markdown",
   "metadata": {},
   "source": [
    "# System Config Generation Example"
   ]
  },
  {
   "cell_type": "markdown",
   "metadata": {},
   "source": [
    "This notebook contains an example of how the System Config Generation package can be used to generate system-ready rule configurations for two separate use cases:\n",
    "\n",
    "- Creating new rules in the system.\n",
    "- Updating existing system rules with new conditions, scores or both."
   ]
  },
  {
   "cell_type": "markdown",
   "metadata": {},
   "source": [
    "## Requirements"
   ]
  },
  {
   "cell_type": "markdown",
   "metadata": {},
   "source": [
    "To run, you'll need the following:\n",
    "\n",
    "* Install the System Config Generation package - see the readme for more information."
   ]
  },
  {
   "cell_type": "markdown",
   "metadata": {},
   "source": [
    "----"
   ]
  },
  {
   "cell_type": "markdown",
   "metadata": {},
   "source": [
    "## Import packages"
   ]
  },
  {
   "cell_type": "code",
   "execution_count": 3,
   "metadata": {},
   "outputs": [],
   "source": [
    "from system_config_generation.create_new_configs import CreateNewConfigs\n",
    "from system_config_generation.update_existing_configs import UpdateExistingConfigs\n",
    "\n",
    "import pandas as pd\n",
    "import numpy as np\n",
    "import pickle"
   ]
  },
  {
   "cell_type": "markdown",
   "metadata": {},
   "source": [
    "----"
   ]
  },
  {
   "cell_type": "markdown",
   "metadata": {},
   "source": [
    "## Creating system configurations for new rules"
   ]
  },
  {
   "cell_type": "markdown",
   "metadata": {},
   "source": [
    "Let's say that we have the following set of system-ready rule conditions. **Note that to create system-ready rule conditions for newly generated/optimised rules, see the *rules* sub-package**:"
   ]
  },
  {
   "cell_type": "code",
   "execution_count": 4,
   "metadata": {},
   "outputs": [],
   "source": [
    "with open('system_conditions.pkl', 'rb') as f:\n",
    "    system_conditions = pickle.load(f)"
   ]
  },
  {
   "cell_type": "code",
   "execution_count": 5,
   "metadata": {},
   "outputs": [
    {
     "data": {
      "text/plain": [
       "{'Rule1': {'condition': 'AND',\n",
       "  'rules': [{'field': 'account_number.avg_order_total_per_account_number_1day',\n",
       "    'operator': 'greater',\n",
       "    'value': 'value.1.0',\n",
       "    'id': 'account_number.avg_order_total_per_account_number_1day',\n",
       "    'type': 'double'}]},\n",
       " 'Rule2': {'condition': 'AND',\n",
       "  'rules': [{'field': 'sim_sc_ml',\n",
       "    'operator': 'greater',\n",
       "    'value': 'value.0.5',\n",
       "    'id': 'sim_sc_ml',\n",
       "    'type': 'float'}]},\n",
       " 'Rule3': {'condition': 'AND',\n",
       "  'rules': [{'field': 'is_billing_shipping_city_same',\n",
       "    'operator': 'equal',\n",
       "    'value': '1',\n",
       "    'id': 'is_billing_shipping_city_same',\n",
       "    'type': 'boolean',\n",
       "    'input': 'radio'}]}}"
      ]
     },
     "execution_count": 5,
     "metadata": {},
     "output_type": "execute_result"
    }
   ],
   "source": [
    "system_conditions"
   ]
  },
  {
   "cell_type": "markdown",
   "metadata": {},
   "source": [
    "And we also have a set of scores for the rule set:"
   ]
  },
  {
   "cell_type": "code",
   "execution_count": 6,
   "metadata": {},
   "outputs": [],
   "source": [
    "rule_scores = {\n",
    "    'Rule1': -10,\n",
    "    'Rule2': -20,\n",
    "    'Rule3': -5\n",
    "}"
   ]
  },
  {
   "cell_type": "markdown",
   "metadata": {},
   "source": [
    "We can use these variables along with the *CreateNewConfigs* class to generate the system-ready configurations:"
   ]
  },
  {
   "cell_type": "code",
   "execution_count": 7,
   "metadata": {},
   "outputs": [],
   "source": [
    "cnc = CreateNewConfigs(conditions=system_conditions, scores=rule_scores, app_prefix='james_testing', entity='transaction', make_active=True)"
   ]
  },
  {
   "cell_type": "code",
   "execution_count": 8,
   "metadata": {},
   "outputs": [],
   "source": [
    "rule_configs = cnc.generate()"
   ]
  },
  {
   "cell_type": "markdown",
   "metadata": {},
   "source": [
    "### Outputs"
   ]
  },
  {
   "cell_type": "markdown",
   "metadata": {},
   "source": [
    "The *.generate()* method returns a dictionary of the system-ready JSON configurations for each rule. It also saves this dictionary as the class attribute *rule_configs*. These configurations can be used with the *create_rules_in_simility* module in the *simility_requests* sub-package to generate the provided rules in a given Simility instance."
   ]
  },
  {
   "cell_type": "code",
   "execution_count": 9,
   "metadata": {},
   "outputs": [
    {
     "data": {
      "text/plain": [
       "{'Rule1': {'createdBy': 'argo@simility.com',\n",
       "  'createdOn': '2021-02-26T16:20:13',\n",
       "  'appPrefix': 'james_testing',\n",
       "  'entityName': 'transaction',\n",
       "  'name': 'Rule1',\n",
       "  'conditions': '{\"condition\": \"AND\", \"rules\": [{\"field\": \"account_number.avg_order_total_per_account_number_1day\", \"operator\": \"greater\", \"value\": \"value.1.0\", \"id\": \"account_number.avg_order_total_per_account_number_1day\", \"type\": \"double\"}]}',\n",
       "  'score': -10,\n",
       "  'status': 'ACTIVE',\n",
       "  'isAutoGenerated': True},\n",
       " 'Rule2': {'createdBy': 'argo@simility.com',\n",
       "  'createdOn': '2021-02-26T16:20:13',\n",
       "  'appPrefix': 'james_testing',\n",
       "  'entityName': 'transaction',\n",
       "  'name': 'Rule2',\n",
       "  'conditions': '{\"condition\": \"AND\", \"rules\": [{\"field\": \"sim_sc_ml\", \"operator\": \"greater\", \"value\": \"value.0.5\", \"id\": \"sim_sc_ml\", \"type\": \"float\"}]}',\n",
       "  'score': -20,\n",
       "  'status': 'ACTIVE',\n",
       "  'isAutoGenerated': True},\n",
       " 'Rule3': {'createdBy': 'argo@simility.com',\n",
       "  'createdOn': '2021-02-26T16:20:13',\n",
       "  'appPrefix': 'james_testing',\n",
       "  'entityName': 'transaction',\n",
       "  'name': 'Rule3',\n",
       "  'conditions': '{\"condition\": \"AND\", \"rules\": [{\"field\": \"is_billing_shipping_city_same\", \"operator\": \"equal\", \"value\": \"1\", \"id\": \"is_billing_shipping_city_same\", \"type\": \"boolean\", \"input\": \"radio\"}]}',\n",
       "  'score': -5,\n",
       "  'status': 'ACTIVE',\n",
       "  'isAutoGenerated': True}}"
      ]
     },
     "execution_count": 9,
     "metadata": {},
     "output_type": "execute_result"
    }
   ],
   "source": [
    "rule_configs"
   ]
  },
  {
   "cell_type": "markdown",
   "metadata": {},
   "source": [
    "---"
   ]
  },
  {
   "cell_type": "markdown",
   "metadata": {},
   "source": [
    "## Updating system configurations of existing rules"
   ]
  },
  {
   "cell_type": "markdown",
   "metadata": {},
   "source": [
    "Now let's say that we have an optimised set of system-ready conditions and scores for a rule set that already exists in Simility, and we want to update the existing configurations (used in the previous example) with these new conditions and scores:"
   ]
  },
  {
   "cell_type": "code",
   "execution_count": 10,
   "metadata": {},
   "outputs": [],
   "source": [
    "with open('opt_system_conditions.pkl', 'rb') as f:\n",
    "    opt_system_conditions = pickle.load(f)"
   ]
  },
  {
   "cell_type": "code",
   "execution_count": 11,
   "metadata": {},
   "outputs": [
    {
     "data": {
      "text/plain": [
       "{'Rule1': {'condition': 'AND',\n",
       "  'rules': [{'field': 'account_number.avg_order_total_per_account_number_1day',\n",
       "    'operator': 'greater',\n",
       "    'value': 'value.3.0',\n",
       "    'id': 'account_number.avg_order_total_per_account_number_1day',\n",
       "    'type': 'double'}]},\n",
       " 'Rule2': {'condition': 'AND',\n",
       "  'rules': [{'field': 'sim_sc_ml',\n",
       "    'operator': 'greater',\n",
       "    'value': 'value.0.75',\n",
       "    'id': 'sim_sc_ml',\n",
       "    'type': 'float'}]},\n",
       " 'Rule3': {'condition': 'AND',\n",
       "  'rules': [{'field': 'is_billing_shipping_city_same',\n",
       "    'operator': 'equal',\n",
       "    'value': '0',\n",
       "    'id': 'is_billing_shipping_city_same',\n",
       "    'type': 'boolean',\n",
       "    'input': 'radio'}]}}"
      ]
     },
     "execution_count": 11,
     "metadata": {},
     "output_type": "execute_result"
    }
   ],
   "source": [
    "opt_system_conditions"
   ]
  },
  {
   "cell_type": "code",
   "execution_count": 12,
   "metadata": {},
   "outputs": [],
   "source": [
    "opt_rule_scores = {\n",
    "    'Rule1': -20,\n",
    "    'Rule2': -50,\n",
    "    'Rule3': -10\n",
    "}"
   ]
  },
  {
   "cell_type": "markdown",
   "metadata": {},
   "source": [
    "We can use these variables along with the *UpdateExistingConfigs* class to update the existing system-ready configurations:"
   ]
  },
  {
   "cell_type": "code",
   "execution_count": 13,
   "metadata": {},
   "outputs": [],
   "source": [
    "uec = UpdateExistingConfigs(rule_configs=rule_configs, updated_conditions=opt_system_conditions, updated_scores=opt_rule_scores)"
   ]
  },
  {
   "cell_type": "code",
   "execution_count": 14,
   "metadata": {},
   "outputs": [],
   "source": [
    "updated_rule_configs = uec.update()"
   ]
  },
  {
   "cell_type": "markdown",
   "metadata": {},
   "source": [
    "### Outputs"
   ]
  },
  {
   "cell_type": "markdown",
   "metadata": {},
   "source": [
    "The *.update()* method returns a dictionary of the updated system-ready JSON configurations for each rule. It also saves this dictionary as the class attribute *updated_rule_configs*. These configurations can be used with the *update_rules_in_simility* module in the *simility_requests* sub-package to update the provided rules in a given Simility instance."
   ]
  },
  {
   "cell_type": "code",
   "execution_count": 15,
   "metadata": {},
   "outputs": [
    {
     "data": {
      "text/plain": [
       "{'Rule1': {'createdBy': 'argo@simility.com',\n",
       "  'createdOn': '2021-02-26T16:20:13',\n",
       "  'appPrefix': 'james_testing',\n",
       "  'entityName': 'transaction',\n",
       "  'name': 'Rule1',\n",
       "  'conditions': '{\"condition\": \"AND\", \"rules\": [{\"field\": \"account_number.avg_order_total_per_account_number_1day\", \"operator\": \"greater\", \"value\": \"value.3.0\", \"id\": \"account_number.avg_order_total_per_account_number_1day\", \"type\": \"double\"}]}',\n",
       "  'score': -20,\n",
       "  'status': 'ACTIVE',\n",
       "  'isAutoGenerated': True,\n",
       "  'modifiedBy': 'argo@simility.com',\n",
       "  'modifiedOn': '2021-02-26T16:20:13'},\n",
       " 'Rule2': {'createdBy': 'argo@simility.com',\n",
       "  'createdOn': '2021-02-26T16:20:13',\n",
       "  'appPrefix': 'james_testing',\n",
       "  'entityName': 'transaction',\n",
       "  'name': 'Rule2',\n",
       "  'conditions': '{\"condition\": \"AND\", \"rules\": [{\"field\": \"sim_sc_ml\", \"operator\": \"greater\", \"value\": \"value.0.75\", \"id\": \"sim_sc_ml\", \"type\": \"float\"}]}',\n",
       "  'score': -50,\n",
       "  'status': 'ACTIVE',\n",
       "  'isAutoGenerated': True,\n",
       "  'modifiedBy': 'argo@simility.com',\n",
       "  'modifiedOn': '2021-02-26T16:20:13'},\n",
       " 'Rule3': {'createdBy': 'argo@simility.com',\n",
       "  'createdOn': '2021-02-26T16:20:13',\n",
       "  'appPrefix': 'james_testing',\n",
       "  'entityName': 'transaction',\n",
       "  'name': 'Rule3',\n",
       "  'conditions': '{\"condition\": \"AND\", \"rules\": [{\"field\": \"is_billing_shipping_city_same\", \"operator\": \"equal\", \"value\": \"0\", \"id\": \"is_billing_shipping_city_same\", \"type\": \"boolean\", \"input\": \"radio\"}]}',\n",
       "  'score': -10,\n",
       "  'status': 'ACTIVE',\n",
       "  'isAutoGenerated': True,\n",
       "  'modifiedBy': 'argo@simility.com',\n",
       "  'modifiedOn': '2021-02-26T16:20:13'}}"
      ]
     },
     "execution_count": 15,
     "metadata": {},
     "output_type": "execute_result"
    }
   ],
   "source": [
    "updated_rule_configs"
   ]
  },
  {
   "cell_type": "markdown",
   "metadata": {},
   "source": [
    "----"
   ]
  },
  {
   "cell_type": "markdown",
   "metadata": {},
   "source": [
    "## The End"
   ]
  },
  {
   "cell_type": "markdown",
   "metadata": {},
   "source": [
    "That's it folks - if you have any queries or suggestions please put them in the *#sim-datatools-help* Slack channel or email James directly."
   ]
  }
 ],
 "metadata": {
  "kernelspec": {
   "display_name": "system_config_generation",
   "language": "python",
   "name": "system_config_generation"
  },
  "language_info": {
   "codemirror_mode": {
    "name": "ipython",
    "version": 3
   },
   "file_extension": ".py",
   "mimetype": "text/x-python",
   "name": "python",
   "nbconvert_exporter": "python",
   "pygments_lexer": "ipython3",
   "version": "3.7.7"
  }
 },
 "nbformat": 4,
 "nbformat_minor": 4
}
