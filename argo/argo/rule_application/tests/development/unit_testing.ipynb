{
 "cells": [
  {
   "cell_type": "code",
   "execution_count": 1,
   "metadata": {},
   "outputs": [],
   "source": [
    "%load_ext autoreload\n",
    "%autoreload 2"
   ]
  },
  {
   "cell_type": "code",
   "execution_count": 2,
   "metadata": {},
   "outputs": [],
   "source": [
    "import pandas as pd\n",
    "import numpy as np\n",
    "import random\n",
    "import pytest\n",
    "from sklearn.ensemble import RandomForestClassifier\n",
    "from rule_optimisation.optimisation_functions import FScore\n",
    "from rule_application.argo_rule_applier import ArgoRuleApplier\n",
    "from sklearn.metrics import precision_score, recall_score\n",
    "\n",
    "\n",
    "def create_data():\n",
    "    def return_random_num(y, fraud_min, fraud_max, nonfraud_min, nonfraud_max, rand_func):\n",
    "        data = [rand_func(fraud_min, fraud_max) if i == 1 else rand_func(\n",
    "            nonfraud_min, nonfraud_max) for i in y]\n",
    "        return data\n",
    "\n",
    "    random.seed(0)\n",
    "    np.random.seed(0)\n",
    "    y = pd.Series(data=[0]*980 + [1]*20, index=list(range(0, 1000)))\n",
    "    X = pd.DataFrame(data={\n",
    "        \"num_distinct_txn_per_email_1day\": [round(max(i, 0)) for i in return_random_num(y, 2, 1, 1, 2, np.random.normal)],\n",
    "        \"num_distinct_txn_per_email_7day\": [round(max(i, 0)) for i in return_random_num(y, 4, 2, 2, 3, np.random.normal)],\n",
    "        \"ip_country_us\": [round(min(i, 1)) for i in [max(i, 0) for i in return_random_num(y, 0.3, 0.4, 0.5, 0.5, np.random.normal)]],\n",
    "        \"email_kb_distance\": [min(i, 1) for i in [max(i, 0) for i in return_random_num(y, 0.2, 0.5, 0.6, 0.4, np.random.normal)]],\n",
    "        \"email_alpharatio\":  [min(i, 1) for i in [max(i, 0) for i in return_random_num(y, 0.33, 0.1, 0.5, 0.2, np.random.normal)]],\n",
    "    },\n",
    "        index=list(range(0, 1000))\n",
    "    )\n",
    "    X = X.astype(float)\n",
    "    weights = y.apply(lambda x: 1000 if x == 1 else 1)\n",
    "    return [X, y, weights]\n",
    "\n",
    "\n",
    "def return_dummy_rules():\n",
    "    rules = {\n",
    "        'Rule1': \"X['num_distinct_txn_per_email_7day']>=7\",\n",
    "        'Rule2': \"X['email_alpharatio']<=0.5\",\n",
    "        'Rule3': \"X['num_distinct_txn_per_email_1day']>=1\",\n",
    "        'Rule4': \"X['email_kb_distance']<=0.5\",\n",
    "        'Rule5': \"X['ip_country_us']==False\",\n",
    "        'Rule6': \"X['num_distinct_txn_per_email_1day']<=3\",\n",
    "        'Rule7': \"X['num_distinct_txn_per_email_7day']<=5\",\n",
    "        'Rule8': \"X['email_kb_distance']>=0.61\",\n",
    "        'Rule9': \"X['email_alpharatio']>=0.5\"\n",
    "    }\n",
    "    return rules\n",
    "\n",
    "\n",
    "def return_dummy_rules_np():\n",
    "    rules = {\n",
    "        'Rule1': \"(X['num_distinct_txn_per_email_7day'].to_numpy(na_value=np.nan)>=7.0)\",\n",
    "        'Rule2': \"(X['email_alpharatio'].to_numpy(na_value=np.nan)<=0.5)\",\n",
    "        'Rule3': \"(X['num_distinct_txn_per_email_1day'].to_numpy(na_value=np.nan)>=1.0)\",\n",
    "        'Rule4': \"(X['email_kb_distance'].to_numpy(na_value=np.nan)<=0.5)\",\n",
    "        'Rule5': \"(X['ip_country_us'].to_numpy(na_value=np.nan)==False)\",\n",
    "        'Rule6': \"(X['num_distinct_txn_per_email_1day'].to_numpy(na_value=np.nan)<=3.0)\",\n",
    "        'Rule7': \"(X['num_distinct_txn_per_email_7day'].to_numpy(na_value=np.nan)<=5.0)\",\n",
    "        'Rule8': \"(X['email_kb_distance'].to_numpy(na_value=np.nan)>=0.61)\",\n",
    "        'Rule9': \"(X['email_alpharatio'].to_numpy(na_value=np.nan)>=0.5)\"\n",
    "    }\n",
    "    return rules\n",
    "\n",
    "\n",
    "def fs_instantiated():\n",
    "    fs = FScore(1)\n",
    "    return fs\n",
    "\n",
    "\n",
    "def ara_instantiated(return_dummy_rules, fs_instantiated):\n",
    "    fs = fs_instantiated\n",
    "    rules = return_dummy_rules\n",
    "    ara = ArgoRuleApplier(rules, fs.fit)\n",
    "    return ara\n",
    "\n",
    "\n",
    "def ara_instantiated_np(return_dummy_rules_np, fs_instantiated):\n",
    "    fs = fs_instantiated\n",
    "    rules = return_dummy_rules_np\n",
    "    ara = ArgoRuleApplier(rules, fs.fit)\n",
    "    return ara"
   ]
  },
  {
   "cell_type": "code",
   "execution_count": 70,
   "metadata": {},
   "outputs": [],
   "source": [
    "X, y, weights = create_data()"
   ]
  },
  {
   "cell_type": "code",
   "execution_count": 71,
   "metadata": {},
   "outputs": [],
   "source": [
    "f1 = fs_instantiated()"
   ]
  },
  {
   "cell_type": "code",
   "execution_count": 72,
   "metadata": {},
   "outputs": [],
   "source": [
    "rule_strings = return_dummy_rules()"
   ]
  },
  {
   "cell_type": "code",
   "execution_count": 73,
   "metadata": {},
   "outputs": [
    {
     "data": {
      "text/plain": [
       "0.03578528827037773"
      ]
     },
     "execution_count": 73,
     "metadata": {},
     "output_type": "execute_result"
    }
   ],
   "source": [
    "precision_score(y_true=y, y_pred=X['email_alpharatio']<=0.5)"
   ]
  },
  {
   "cell_type": "code",
   "execution_count": 74,
   "metadata": {},
   "outputs": [],
   "source": [
    "from rule_optimisation.optimisation_functions import AlertsPerDay"
   ]
  },
  {
   "cell_type": "code",
   "execution_count": 80,
   "metadata": {},
   "outputs": [],
   "source": [
    "apd = AlertsPerDay(n_alerts_expected_per_day=5, no_of_days_in_file=10)"
   ]
  },
  {
   "cell_type": "code",
   "execution_count": 84,
   "metadata": {},
   "outputs": [],
   "source": [
    "ara = ArgoRuleApplier(rule_strings=rule_strings, opt_func=f1.fit)#apd.fit)"
   ]
  },
  {
   "cell_type": "code",
   "execution_count": 85,
   "metadata": {},
   "outputs": [],
   "source": [
    "X_rules = ara.apply(X, y, weights)"
   ]
  },
  {
   "cell_type": "code",
   "execution_count": 87,
   "metadata": {},
   "outputs": [
    {
     "data": {
      "text/plain": [
       "Index(['Rule3', 'Rule6', 'Rule2', 'Rule5', 'Rule7', 'Rule4', 'Rule8', 'Rule1',\n",
       "       'Rule9'],\n",
       "      dtype='object', name='Rule')"
      ]
     },
     "execution_count": 87,
     "metadata": {},
     "output_type": "execute_result"
    }
   ],
   "source": [
    "ara.rule_descriptions.index"
   ]
  },
  {
   "cell_type": "code",
   "execution_count": 54,
   "metadata": {},
   "outputs": [],
   "source": [
    "# # X_rules_ = pd.DataFrame(columns = [f'Rule{i}' for i in range(1, 11)])\n",
    "# for rule_name, rule_string in rule_strings.items():\n",
    "#     print(rule_string)\n",
    "#     X_rules_[rule_name] = eval(rule_string)"
   ]
  },
  {
   "cell_type": "code",
   "execution_count": 55,
   "metadata": {},
   "outputs": [],
   "source": [
    "# y_preds = X_rules_\n",
    "# opt_func = apd.fit"
   ]
  },
  {
   "cell_type": "code",
   "execution_count": 56,
   "metadata": {},
   "outputs": [
    {
     "data": {
      "text/plain": [
       "{'Rule6': 902,\n",
       " 'Rule7': 882,\n",
       " 'Rule3': 584,\n",
       " 'Rule5': 529,\n",
       " 'Rule2': 503,\n",
       " 'Rule9': 497,\n",
       " 'Rule8': 467,\n",
       " 'Rule4': 424,\n",
       " 'Rule1': 71}"
      ]
     },
     "execution_count": 56,
     "metadata": {},
     "output_type": "execute_result"
    }
   ],
   "source": [
    "X_rules.sum().to_dict()"
   ]
  },
  {
   "cell_type": "code",
   "execution_count": 57,
   "metadata": {},
   "outputs": [],
   "source": [
    "from sklearn.metrics import fbeta_score"
   ]
  },
  {
   "cell_type": "code",
   "execution_count": 58,
   "metadata": {},
   "outputs": [],
   "source": [
    "# for rule_name, row in ara.rule_descriptions.iterrows():\n",
    "#     assert precision_score(y_true=y, y_pred=eval(row['Logic'])) == row['Precision']\n",
    "#     assert recall_score(y_true=y, y_pred=eval(row['Logic'])) == row['Recall']\n",
    "#     assert fbeta_score(y_true=y, y_pred=eval(row['Logic']), beta=1) == row['OptMetric']\n",
    "#     assert eval(row['Logic']).mean() == row['PercDataFlagged']"
   ]
  },
  {
   "cell_type": "code",
   "execution_count": 61,
   "metadata": {},
   "outputs": [],
   "source": [
    "for rule_name, row in ara.rule_descriptions.iterrows():\n",
    "#     assert precision_score(y_true=y, y_pred=eval(row['Logic']), sample_weight=weights) == row['Precision']\n",
    "#     assert recall_score(y_true=y, y_pred=eval(row['Logic']),sample_weight=weights) == row['Recall']\n",
    "    assert apd.fit(y_pred=eval(row['Logic'])) == row['OptMetric']\n",
    "    assert eval(row['Logic']).mean() == row['PercDataFlagged']"
   ]
  },
  {
   "cell_type": "code",
   "execution_count": 36,
   "metadata": {},
   "outputs": [
    {
     "data": {
      "text/plain": [
       "array([[0.9725734292939117, 1.0, 0.584, 0.9860960457548565,\n",
       "        \"X['num_distinct_txn_per_email_1day']>=1\", 1],\n",
       "       [0.9577626664112633, 1.0, 0.902, 0.9784257130277384,\n",
       "        \"X['num_distinct_txn_per_email_1day']<=3\", 1],\n",
       "       [0.9737625101433595, 0.9, 0.503, 0.9354293880732754,\n",
       "        \"X['email_alpharatio']<=0.5\", 1],\n",
       "       [0.9707629054362723, 0.85, 0.529, 0.9063766261462998,\n",
       "        \"X['ip_country_us']==False\", 1],\n",
       "       [0.9515813042261405, 0.85, 0.882, 0.8979268453717154,\n",
       "        \"X['num_distinct_txn_per_email_7day']<=5\", 1],\n",
       "       [0.9715475364330326, 0.7, 0.424, 0.8137169427492007,\n",
       "        \"X['email_kb_distance']<=0.5\", 1],\n",
       "       [0.9286488159727596, 0.3, 0.467, 0.4534976002418654,\n",
       "        \"X['email_kb_distance']>=0.61\", 1],\n",
       "       [0.9778357235984355, 0.15, 0.071, 0.2601005722212589,\n",
       "        \"X['num_distinct_txn_per_email_7day']>=7\", 1],\n",
       "       [0.8016032064128257, 0.1, 0.497, 0.17781729273171817,\n",
       "        \"X['email_alpharatio']>=0.5\", 1]], dtype=object)"
      ]
     },
     "execution_count": 36,
     "metadata": {},
     "output_type": "execute_result"
    }
   ],
   "source": [
    "ara.rule_descriptions.values"
   ]
  },
  {
   "cell_type": "code",
   "execution_count": 24,
   "metadata": {},
   "outputs": [],
   "source": [
    "test = pd.DataFrame(\n",
    "        np.array([[0.03578528827037773, 0.9, 0.503, 0.06883365200764818,\n",
    "                   \"X['email_alpharatio']<=0.5\", 1],\n",
    "                  [0.03424657534246575, 1.0, 0.584, 0.06622516556291391,\n",
    "                   \"X['num_distinct_txn_per_email_1day']>=1\", 1],\n",
    "                  [0.04225352112676056, 0.15, 0.071, 0.06593406593406594,\n",
    "                   \"X['num_distinct_txn_per_email_7day']>=7\", 1],\n",
    "                  [0.0330188679245283, 0.7, 0.424, 0.06306306306306306,\n",
    "                   \"X['email_kb_distance']<=0.5\", 1],\n",
    "                  [0.03213610586011342, 0.85, 0.529, 0.06193078324225866,\n",
    "                   \"X['ip_country_us']==False\", 1],\n",
    "                  [0.022172949002217297, 1.0, 0.902, 0.04338394793926247,\n",
    "                   \"X['num_distinct_txn_per_email_1day']<=3\", 1],\n",
    "                  [0.01927437641723356, 0.85, 0.882, 0.037694013303769404,\n",
    "                   \"X['num_distinct_txn_per_email_7day']<=5\", 1],\n",
    "                  [0.01284796573875803, 0.3, 0.467, 0.024640657084188913,\n",
    "                   \"X['email_kb_distance']>=0.61\", 1],\n",
    "                  [0.004024144869215292, 0.1, 0.497, 0.007736943907156674,\n",
    "                   \"X['email_alpharatio']>=0.5\", 1]], dtype=object),\n",
    "        columns=['Precision', 'Recall', 'PercDataFlagged', 'OptMetric', 'Logic',\n",
    "                 'nConditions'],\n",
    "        index=['Rule2', 'Rule3', 'Rule1', 'Rule4', 'Rule5', 'Rule6', 'Rule7', 'Rule8',\n",
    "               'Rule9'],\n",
    "    )\n"
   ]
  },
  {
   "cell_type": "code",
   "execution_count": 25,
   "metadata": {},
   "outputs": [],
   "source": [
    "test.index.name = 'Rule'"
   ]
  },
  {
   "cell_type": "code",
   "execution_count": 26,
   "metadata": {},
   "outputs": [
    {
     "data": {
      "text/html": [
       "<div>\n",
       "<style scoped>\n",
       "    .dataframe tbody tr th:only-of-type {\n",
       "        vertical-align: middle;\n",
       "    }\n",
       "\n",
       "    .dataframe tbody tr th {\n",
       "        vertical-align: top;\n",
       "    }\n",
       "\n",
       "    .dataframe thead th {\n",
       "        text-align: right;\n",
       "    }\n",
       "</style>\n",
       "<table border=\"1\" class=\"dataframe\">\n",
       "  <thead>\n",
       "    <tr style=\"text-align: right;\">\n",
       "      <th></th>\n",
       "      <th>Precision</th>\n",
       "      <th>Recall</th>\n",
       "      <th>PercDataFlagged</th>\n",
       "      <th>OptMetric</th>\n",
       "      <th>Logic</th>\n",
       "      <th>nConditions</th>\n",
       "    </tr>\n",
       "    <tr>\n",
       "      <th>Rule</th>\n",
       "      <th></th>\n",
       "      <th></th>\n",
       "      <th></th>\n",
       "      <th></th>\n",
       "      <th></th>\n",
       "      <th></th>\n",
       "    </tr>\n",
       "  </thead>\n",
       "  <tbody>\n",
       "    <tr>\n",
       "      <th>Rule2</th>\n",
       "      <td>0.0357853</td>\n",
       "      <td>0.9</td>\n",
       "      <td>0.503</td>\n",
       "      <td>0.0688337</td>\n",
       "      <td>X['email_alpharatio']&lt;=0.5</td>\n",
       "      <td>1</td>\n",
       "    </tr>\n",
       "    <tr>\n",
       "      <th>Rule3</th>\n",
       "      <td>0.0342466</td>\n",
       "      <td>1</td>\n",
       "      <td>0.584</td>\n",
       "      <td>0.0662252</td>\n",
       "      <td>X['num_distinct_txn_per_email_1day']&gt;=1</td>\n",
       "      <td>1</td>\n",
       "    </tr>\n",
       "    <tr>\n",
       "      <th>Rule1</th>\n",
       "      <td>0.0422535</td>\n",
       "      <td>0.15</td>\n",
       "      <td>0.071</td>\n",
       "      <td>0.0659341</td>\n",
       "      <td>X['num_distinct_txn_per_email_7day']&gt;=7</td>\n",
       "      <td>1</td>\n",
       "    </tr>\n",
       "    <tr>\n",
       "      <th>Rule4</th>\n",
       "      <td>0.0330189</td>\n",
       "      <td>0.7</td>\n",
       "      <td>0.424</td>\n",
       "      <td>0.0630631</td>\n",
       "      <td>X['email_kb_distance']&lt;=0.5</td>\n",
       "      <td>1</td>\n",
       "    </tr>\n",
       "    <tr>\n",
       "      <th>Rule5</th>\n",
       "      <td>0.0321361</td>\n",
       "      <td>0.85</td>\n",
       "      <td>0.529</td>\n",
       "      <td>0.0619308</td>\n",
       "      <td>X['ip_country_us']==False</td>\n",
       "      <td>1</td>\n",
       "    </tr>\n",
       "    <tr>\n",
       "      <th>Rule6</th>\n",
       "      <td>0.0221729</td>\n",
       "      <td>1</td>\n",
       "      <td>0.902</td>\n",
       "      <td>0.0433839</td>\n",
       "      <td>X['num_distinct_txn_per_email_1day']&lt;=3</td>\n",
       "      <td>1</td>\n",
       "    </tr>\n",
       "    <tr>\n",
       "      <th>Rule7</th>\n",
       "      <td>0.0192744</td>\n",
       "      <td>0.85</td>\n",
       "      <td>0.882</td>\n",
       "      <td>0.037694</td>\n",
       "      <td>X['num_distinct_txn_per_email_7day']&lt;=5</td>\n",
       "      <td>1</td>\n",
       "    </tr>\n",
       "    <tr>\n",
       "      <th>Rule8</th>\n",
       "      <td>0.012848</td>\n",
       "      <td>0.3</td>\n",
       "      <td>0.467</td>\n",
       "      <td>0.0246407</td>\n",
       "      <td>X['email_kb_distance']&gt;=0.61</td>\n",
       "      <td>1</td>\n",
       "    </tr>\n",
       "    <tr>\n",
       "      <th>Rule9</th>\n",
       "      <td>0.00402414</td>\n",
       "      <td>0.1</td>\n",
       "      <td>0.497</td>\n",
       "      <td>0.00773694</td>\n",
       "      <td>X['email_alpharatio']&gt;=0.5</td>\n",
       "      <td>1</td>\n",
       "    </tr>\n",
       "  </tbody>\n",
       "</table>\n",
       "</div>"
      ],
      "text/plain": [
       "        Precision Recall PercDataFlagged   OptMetric  \\\n",
       "Rule                                                   \n",
       "Rule2   0.0357853    0.9           0.503   0.0688337   \n",
       "Rule3   0.0342466      1           0.584   0.0662252   \n",
       "Rule1   0.0422535   0.15           0.071   0.0659341   \n",
       "Rule4   0.0330189    0.7           0.424   0.0630631   \n",
       "Rule5   0.0321361   0.85           0.529   0.0619308   \n",
       "Rule6   0.0221729      1           0.902   0.0433839   \n",
       "Rule7   0.0192744   0.85           0.882    0.037694   \n",
       "Rule8    0.012848    0.3           0.467   0.0246407   \n",
       "Rule9  0.00402414    0.1           0.497  0.00773694   \n",
       "\n",
       "                                         Logic nConditions  \n",
       "Rule                                                        \n",
       "Rule2               X['email_alpharatio']<=0.5           1  \n",
       "Rule3  X['num_distinct_txn_per_email_1day']>=1           1  \n",
       "Rule1  X['num_distinct_txn_per_email_7day']>=7           1  \n",
       "Rule4              X['email_kb_distance']<=0.5           1  \n",
       "Rule5                X['ip_country_us']==False           1  \n",
       "Rule6  X['num_distinct_txn_per_email_1day']<=3           1  \n",
       "Rule7  X['num_distinct_txn_per_email_7day']<=5           1  \n",
       "Rule8             X['email_kb_distance']>=0.61           1  \n",
       "Rule9               X['email_alpharatio']>=0.5           1  "
      ]
     },
     "execution_count": 26,
     "metadata": {},
     "output_type": "execute_result"
    }
   ],
   "source": [
    "test"
   ]
  },
  {
   "cell_type": "markdown",
   "metadata": {},
   "source": [
    "# Unlabelled"
   ]
  },
  {
   "cell_type": "code",
   "execution_count": 95,
   "metadata": {},
   "outputs": [],
   "source": [
    "import json\n",
    "from rule_application.sim_rule_applier import SimRuleApplier\n",
    "from rule_optimisation.optimisation_functions import AlertsPerDay"
   ]
  },
  {
   "cell_type": "code",
   "execution_count": 91,
   "metadata": {},
   "outputs": [],
   "source": [
    "def create_data():\n",
    "    np.random.seed(0)\n",
    "    X = pd.DataFrame({\n",
    "        'eid': list(range(0, 10)),\n",
    "        'sim_ll': [\n",
    "            json.dumps({'A': 10, 'B': -1}),\n",
    "            json.dumps({'A': 10, 'C': -2}),\n",
    "            json.dumps({'B': -1, 'D': -1}),\n",
    "            json.dumps({'A': 10, 'B': -1}),\n",
    "            json.dumps({'A': 10, 'D': -1}),\n",
    "            json.dumps({'B': -1, 'E': 2}),\n",
    "            json.dumps({'A': 10, 'B': -1, 'D': -1}),\n",
    "            json.dumps({'A': 10, 'B': -1}),\n",
    "            json.dumps({'A': 10, 'B': -1}),\n",
    "            json.dumps({'A': 10, 'B': -1}),\n",
    "        ]\n",
    "    })\n",
    "    X.set_index('eid', inplace=True)\n",
    "    y = pd.Series(np.random.randint(0, 2, 10), list(\n",
    "        range(0, 10)), name='sim_is_fraud')\n",
    "    weights = y * 10\n",
    "    return X, y, weights\n",
    "\n",
    "def expected_results():\n",
    "    X_rules = pd.DataFrame({\n",
    "        \"A\": [1, 1, 0, 1, 1, 0, 1, 1, 1, 1],\n",
    "        \"B\": [1, 0, 1, 1, 0, 1, 1, 1, 1, 1],\n",
    "        \"D\": [0, 0, 1, 0, 1, 0, 1, 0, 0, 0],\n",
    "        \"C\": [0, 1, 0, 0, 0, 0, 0, 0, 0, 0],\n",
    "        \"E\": [0, 0, 0, 0, 0, 1, 0, 0, 0, 0]\n",
    "    }\n",
    "    )\n",
    "    return X_rules"
   ]
  },
  {
   "cell_type": "code",
   "execution_count": 92,
   "metadata": {},
   "outputs": [],
   "source": [
    "X, y, weights = create_data()"
   ]
  },
  {
   "cell_type": "code",
   "execution_count": 93,
   "metadata": {},
   "outputs": [],
   "source": [
    "X_rules = expected_results()"
   ]
  },
  {
   "cell_type": "code",
   "execution_count": 96,
   "metadata": {},
   "outputs": [],
   "source": [
    "apd = AlertsPerDay(n_alerts_expected_per_day=10, no_of_days_in_file=10)"
   ]
  },
  {
   "cell_type": "code",
   "execution_count": 121,
   "metadata": {},
   "outputs": [],
   "source": [
    "sra = SimRuleApplier(opt_func=f1.fit)"
   ]
  },
  {
   "cell_type": "code",
   "execution_count": 122,
   "metadata": {},
   "outputs": [
    {
     "data": {
      "text/html": [
       "<div>\n",
       "<style scoped>\n",
       "    .dataframe tbody tr th:only-of-type {\n",
       "        vertical-align: middle;\n",
       "    }\n",
       "\n",
       "    .dataframe tbody tr th {\n",
       "        vertical-align: top;\n",
       "    }\n",
       "\n",
       "    .dataframe thead th {\n",
       "        text-align: right;\n",
       "    }\n",
       "</style>\n",
       "<table border=\"1\" class=\"dataframe\">\n",
       "  <thead>\n",
       "    <tr style=\"text-align: right;\">\n",
       "      <th></th>\n",
       "      <th>A</th>\n",
       "      <th>B</th>\n",
       "      <th>D</th>\n",
       "      <th>C</th>\n",
       "      <th>E</th>\n",
       "    </tr>\n",
       "  </thead>\n",
       "  <tbody>\n",
       "    <tr>\n",
       "      <th>0</th>\n",
       "      <td>1</td>\n",
       "      <td>1</td>\n",
       "      <td>0</td>\n",
       "      <td>0</td>\n",
       "      <td>0</td>\n",
       "    </tr>\n",
       "    <tr>\n",
       "      <th>1</th>\n",
       "      <td>1</td>\n",
       "      <td>0</td>\n",
       "      <td>0</td>\n",
       "      <td>1</td>\n",
       "      <td>0</td>\n",
       "    </tr>\n",
       "    <tr>\n",
       "      <th>2</th>\n",
       "      <td>0</td>\n",
       "      <td>1</td>\n",
       "      <td>1</td>\n",
       "      <td>0</td>\n",
       "      <td>0</td>\n",
       "    </tr>\n",
       "    <tr>\n",
       "      <th>3</th>\n",
       "      <td>1</td>\n",
       "      <td>1</td>\n",
       "      <td>0</td>\n",
       "      <td>0</td>\n",
       "      <td>0</td>\n",
       "    </tr>\n",
       "    <tr>\n",
       "      <th>4</th>\n",
       "      <td>1</td>\n",
       "      <td>0</td>\n",
       "      <td>1</td>\n",
       "      <td>0</td>\n",
       "      <td>0</td>\n",
       "    </tr>\n",
       "    <tr>\n",
       "      <th>5</th>\n",
       "      <td>0</td>\n",
       "      <td>1</td>\n",
       "      <td>0</td>\n",
       "      <td>0</td>\n",
       "      <td>1</td>\n",
       "    </tr>\n",
       "    <tr>\n",
       "      <th>6</th>\n",
       "      <td>1</td>\n",
       "      <td>1</td>\n",
       "      <td>1</td>\n",
       "      <td>0</td>\n",
       "      <td>0</td>\n",
       "    </tr>\n",
       "    <tr>\n",
       "      <th>7</th>\n",
       "      <td>1</td>\n",
       "      <td>1</td>\n",
       "      <td>0</td>\n",
       "      <td>0</td>\n",
       "      <td>0</td>\n",
       "    </tr>\n",
       "    <tr>\n",
       "      <th>8</th>\n",
       "      <td>1</td>\n",
       "      <td>1</td>\n",
       "      <td>0</td>\n",
       "      <td>0</td>\n",
       "      <td>0</td>\n",
       "    </tr>\n",
       "    <tr>\n",
       "      <th>9</th>\n",
       "      <td>1</td>\n",
       "      <td>1</td>\n",
       "      <td>0</td>\n",
       "      <td>0</td>\n",
       "      <td>0</td>\n",
       "    </tr>\n",
       "  </tbody>\n",
       "</table>\n",
       "</div>"
      ],
      "text/plain": [
       "   A  B  D  C  E\n",
       "0  1  1  0  0  0\n",
       "1  1  0  0  1  0\n",
       "2  0  1  1  0  0\n",
       "3  1  1  0  0  0\n",
       "4  1  0  1  0  0\n",
       "5  0  1  0  0  1\n",
       "6  1  1  1  0  0\n",
       "7  1  1  0  0  0\n",
       "8  1  1  0  0  0\n",
       "9  1  1  0  0  0"
      ]
     },
     "execution_count": 122,
     "metadata": {},
     "output_type": "execute_result"
    }
   ],
   "source": [
    "sra.apply(X=X,y=y,sample_weight=weights)"
   ]
  },
  {
   "cell_type": "code",
   "execution_count": 124,
   "metadata": {},
   "outputs": [
    {
     "data": {
      "text/plain": [
       "array([[1.        , 0.75      , 0.8       , 0.85714286],\n",
       "       [1.        , 0.75      , 0.8       , 0.85714286],\n",
       "       [1.        , 0.375     , 0.3       , 0.54545455],\n",
       "       [1.        , 0.125     , 0.1       , 0.22222222],\n",
       "       [1.        , 0.125     , 0.1       , 0.22222222]])"
      ]
     },
     "execution_count": 124,
     "metadata": {},
     "output_type": "execute_result"
    }
   ],
   "source": [
    "sra.rule_descriptions.values"
   ]
  },
  {
   "cell_type": "code",
   "execution_count": 110,
   "metadata": {},
   "outputs": [
    {
     "ename": "TypeError",
     "evalue": "fit() missing 1 required positional argument: 'y_true'",
     "output_type": "error",
     "traceback": [
      "\u001b[0;31m---------------------------------------------------------------------------\u001b[0m",
      "\u001b[0;31mTypeError\u001b[0m                                 Traceback (most recent call last)",
      "\u001b[0;32m<ipython-input-110-4ad03e47dcc8>\u001b[0m in \u001b[0;36m<module>\u001b[0;34m\u001b[0m\n\u001b[0;32m----> 1\u001b[0;31m \u001b[0mrd\u001b[0m\u001b[0;34m,\u001b[0m \u001b[0mxr\u001b[0m \u001b[0;34m=\u001b[0m \u001b[0msra\u001b[0m\u001b[0;34m.\u001b[0m\u001b[0m_get_rule_descriptions_unlabelled\u001b[0m\u001b[0;34m(\u001b[0m\u001b[0mX_rules\u001b[0m\u001b[0;34m)\u001b[0m\u001b[0;34m\u001b[0m\u001b[0;34m\u001b[0m\u001b[0m\n\u001b[0m",
      "\u001b[0;32m~/Documents/tigress/tigress/argo/argo/rule_application/rule_application/sim_rule_applier.py\u001b[0m in \u001b[0;36m_get_rule_descriptions_unlabelled\u001b[0;34m(self, X_rules)\u001b[0m\n\u001b[1;32m    129\u001b[0m \u001b[0;34m\u001b[0m\u001b[0m\n\u001b[1;32m    130\u001b[0m         opt_func_results = argo_utils.return_opt_func_perf(\n\u001b[0;32m--> 131\u001b[0;31m             opt_func=self.opt_func, y_preds=X_rules)\n\u001b[0m\u001b[1;32m    132\u001b[0m         rule_descriptions = pd.DataFrame({\n\u001b[1;32m    133\u001b[0m             \u001b[0;34m'Rule'\u001b[0m\u001b[0;34m:\u001b[0m \u001b[0mX_rules\u001b[0m\u001b[0;34m.\u001b[0m\u001b[0mcolumns\u001b[0m\u001b[0;34m.\u001b[0m\u001b[0mtolist\u001b[0m\u001b[0;34m(\u001b[0m\u001b[0;34m)\u001b[0m\u001b[0;34m,\u001b[0m\u001b[0;34m\u001b[0m\u001b[0;34m\u001b[0m\u001b[0m\n",
      "\u001b[0;32m~/Documents/tigress/tigress/argo/argo/argo_utils/argo_utils/argo_utils.py\u001b[0m in \u001b[0;36mreturn_opt_func_perf\u001b[0;34m(opt_func, y_preds, y_true, sample_weight)\u001b[0m\n\u001b[1;32m    193\u001b[0m     \u001b[0;32melif\u001b[0m \u001b[0my_preds\u001b[0m\u001b[0;34m.\u001b[0m\u001b[0mndim\u001b[0m \u001b[0;34m!=\u001b[0m \u001b[0;36m1\u001b[0m \u001b[0;32mand\u001b[0m \u001b[0my_true\u001b[0m \u001b[0;32mis\u001b[0m \u001b[0;32mNone\u001b[0m\u001b[0;34m:\u001b[0m\u001b[0;34m\u001b[0m\u001b[0;34m\u001b[0m\u001b[0m\n\u001b[1;32m    194\u001b[0m         opt_metric_results = np.array(\n\u001b[0;32m--> 195\u001b[0;31m             [opt_func(y_pred=y_preds[:, i]) for i in range(0, y_preds.shape[1])])\n\u001b[0m\u001b[1;32m    196\u001b[0m     \u001b[0;32mreturn\u001b[0m \u001b[0mopt_metric_results\u001b[0m\u001b[0;34m\u001b[0m\u001b[0;34m\u001b[0m\u001b[0m\n\u001b[1;32m    197\u001b[0m \u001b[0;34m\u001b[0m\u001b[0m\n",
      "\u001b[0;32m~/Documents/tigress/tigress/argo/argo/argo_utils/argo_utils/argo_utils.py\u001b[0m in \u001b[0;36m<listcomp>\u001b[0;34m(.0)\u001b[0m\n\u001b[1;32m    193\u001b[0m     \u001b[0;32melif\u001b[0m \u001b[0my_preds\u001b[0m\u001b[0;34m.\u001b[0m\u001b[0mndim\u001b[0m \u001b[0;34m!=\u001b[0m \u001b[0;36m1\u001b[0m \u001b[0;32mand\u001b[0m \u001b[0my_true\u001b[0m \u001b[0;32mis\u001b[0m \u001b[0;32mNone\u001b[0m\u001b[0;34m:\u001b[0m\u001b[0;34m\u001b[0m\u001b[0;34m\u001b[0m\u001b[0m\n\u001b[1;32m    194\u001b[0m         opt_metric_results = np.array(\n\u001b[0;32m--> 195\u001b[0;31m             [opt_func(y_pred=y_preds[:, i]) for i in range(0, y_preds.shape[1])])\n\u001b[0m\u001b[1;32m    196\u001b[0m     \u001b[0;32mreturn\u001b[0m \u001b[0mopt_metric_results\u001b[0m\u001b[0;34m\u001b[0m\u001b[0;34m\u001b[0m\u001b[0m\n\u001b[1;32m    197\u001b[0m \u001b[0;34m\u001b[0m\u001b[0m\n",
      "\u001b[0;31mTypeError\u001b[0m: fit() missing 1 required positional argument: 'y_true'"
     ]
    }
   ],
   "source": [
    "rd, xr = sra._get_rule_descriptions_unlabelled(X_rules)"
   ]
  },
  {
   "cell_type": "code",
   "execution_count": 108,
   "metadata": {},
   "outputs": [
    {
     "data": {
      "text/html": [
       "<div>\n",
       "<style scoped>\n",
       "    .dataframe tbody tr th:only-of-type {\n",
       "        vertical-align: middle;\n",
       "    }\n",
       "\n",
       "    .dataframe tbody tr th {\n",
       "        vertical-align: top;\n",
       "    }\n",
       "\n",
       "    .dataframe thead th {\n",
       "        text-align: right;\n",
       "    }\n",
       "</style>\n",
       "<table border=\"1\" class=\"dataframe\">\n",
       "  <thead>\n",
       "    <tr style=\"text-align: right;\">\n",
       "      <th></th>\n",
       "      <th>A</th>\n",
       "      <th>B</th>\n",
       "      <th>D</th>\n",
       "      <th>C</th>\n",
       "      <th>E</th>\n",
       "    </tr>\n",
       "  </thead>\n",
       "  <tbody>\n",
       "    <tr>\n",
       "      <th>0</th>\n",
       "      <td>1</td>\n",
       "      <td>1</td>\n",
       "      <td>0</td>\n",
       "      <td>0</td>\n",
       "      <td>0</td>\n",
       "    </tr>\n",
       "    <tr>\n",
       "      <th>1</th>\n",
       "      <td>1</td>\n",
       "      <td>0</td>\n",
       "      <td>0</td>\n",
       "      <td>1</td>\n",
       "      <td>0</td>\n",
       "    </tr>\n",
       "    <tr>\n",
       "      <th>2</th>\n",
       "      <td>0</td>\n",
       "      <td>1</td>\n",
       "      <td>1</td>\n",
       "      <td>0</td>\n",
       "      <td>0</td>\n",
       "    </tr>\n",
       "    <tr>\n",
       "      <th>3</th>\n",
       "      <td>1</td>\n",
       "      <td>1</td>\n",
       "      <td>0</td>\n",
       "      <td>0</td>\n",
       "      <td>0</td>\n",
       "    </tr>\n",
       "    <tr>\n",
       "      <th>4</th>\n",
       "      <td>1</td>\n",
       "      <td>0</td>\n",
       "      <td>1</td>\n",
       "      <td>0</td>\n",
       "      <td>0</td>\n",
       "    </tr>\n",
       "    <tr>\n",
       "      <th>5</th>\n",
       "      <td>0</td>\n",
       "      <td>1</td>\n",
       "      <td>0</td>\n",
       "      <td>0</td>\n",
       "      <td>1</td>\n",
       "    </tr>\n",
       "    <tr>\n",
       "      <th>6</th>\n",
       "      <td>1</td>\n",
       "      <td>1</td>\n",
       "      <td>1</td>\n",
       "      <td>0</td>\n",
       "      <td>0</td>\n",
       "    </tr>\n",
       "    <tr>\n",
       "      <th>7</th>\n",
       "      <td>1</td>\n",
       "      <td>1</td>\n",
       "      <td>0</td>\n",
       "      <td>0</td>\n",
       "      <td>0</td>\n",
       "    </tr>\n",
       "    <tr>\n",
       "      <th>8</th>\n",
       "      <td>1</td>\n",
       "      <td>1</td>\n",
       "      <td>0</td>\n",
       "      <td>0</td>\n",
       "      <td>0</td>\n",
       "    </tr>\n",
       "    <tr>\n",
       "      <th>9</th>\n",
       "      <td>1</td>\n",
       "      <td>1</td>\n",
       "      <td>0</td>\n",
       "      <td>0</td>\n",
       "      <td>0</td>\n",
       "    </tr>\n",
       "  </tbody>\n",
       "</table>\n",
       "</div>"
      ],
      "text/plain": [
       "   A  B  D  C  E\n",
       "0  1  1  0  0  0\n",
       "1  1  0  0  1  0\n",
       "2  0  1  1  0  0\n",
       "3  1  1  0  0  0\n",
       "4  1  0  1  0  0\n",
       "5  0  1  0  0  1\n",
       "6  1  1  1  0  0\n",
       "7  1  1  0  0  0\n",
       "8  1  1  0  0  0\n",
       "9  1  1  0  0  0"
      ]
     },
     "execution_count": 108,
     "metadata": {},
     "output_type": "execute_result"
    }
   ],
   "source": [
    "xr"
   ]
  },
  {
   "cell_type": "code",
   "execution_count": null,
   "metadata": {},
   "outputs": [],
   "source": []
  }
 ],
 "metadata": {
  "kernelspec": {
   "display_name": "argo",
   "language": "python",
   "name": "argo"
  },
  "language_info": {
   "codemirror_mode": {
    "name": "ipython",
    "version": 3
   },
   "file_extension": ".py",
   "mimetype": "text/x-python",
   "name": "python",
   "nbconvert_exporter": "python",
   "pygments_lexer": "ipython3",
   "version": "3.7.3"
  }
 },
 "nbformat": 4,
 "nbformat_minor": 4
}
