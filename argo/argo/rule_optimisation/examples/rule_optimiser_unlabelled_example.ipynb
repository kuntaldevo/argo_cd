{
 "cells": [
  {
   "cell_type": "markdown",
   "metadata": {},
   "source": [
    "# Rule Optimiser (unlabelled) Example"
   ]
  },
  {
   "cell_type": "markdown",
   "metadata": {},
   "source": [
    "This notebook contains an example of how the Rule Optimiser module can be used to optimise the thresholds of an existing set of rules, given an **unlabelled** dataset.\n",
    "\n",
    "The Rule Optimiser is able to interpret and optimise rules with the following characteristics:\n",
    "\n",
    "### As in ARGO v1\n",
    "* Conditions joined with the AND operator\n",
    "* Numeric conditions with the following operators:\n",
    "    - Greater than (or equal to)\n",
    "    - Less than (or equal to)\n",
    "    - Equal\n",
    "    - Not equal\n",
    "\n",
    "### New in ARGO v2\n",
    "* Nested conditions\n",
    "* Conditions joined with the OR operator\n",
    "* Conditions that employ the following operators (and all complimentary NOT versions):\n",
    "    - begins with \n",
    "    - ends with \n",
    "    - contains \n",
    "    - is in\n",
    "    - is empty \n",
    "    - is null \n",
    "    - field comparisons\n",
    "\n",
    "#### Note that non-numeric thresholds aren't optimised, but they are considered as part of the rule’s logic. For example, a rule such as *order_amount>500* & *ip_country=='US'* will only optimise the threshold of the *order_amount* condition, but will consider the *ip_country=='US'* condition when optimising the *order_amount* condition."
   ]
  },
  {
   "cell_type": "markdown",
   "metadata": {},
   "source": [
    "## Requirements"
   ]
  },
  {
   "cell_type": "markdown",
   "metadata": {},
   "source": [
    "To run, you'll need the following:\n",
    "\n",
    "* Install the Rule Optimisation package - see the readme for more information.\n",
    "* A rule set stored in the standard ARGO lambda expression format, along with the keyword arguments for each lambda expression (more information on how to do this later)\n",
    "* An unlabelled dataset containing the features present in the rule set."
   ]
  },
  {
   "cell_type": "markdown",
   "metadata": {},
   "source": [
    "----"
   ]
  },
  {
   "cell_type": "markdown",
   "metadata": {},
   "source": [
    "## Import packages"
   ]
  },
  {
   "cell_type": "code",
   "execution_count": 2,
   "metadata": {},
   "outputs": [],
   "source": [
    "from rule_optimisation.rule_optimiser import RuleOptimiser\n",
    "from rules.rules import Rules\n",
    "from rule_application.argo_rule_applier import ArgoRuleApplier\n",
    "\n",
    "import pandas as pd\n",
    "import numpy as np\n",
    "from sklearn.model_selection import train_test_split"
   ]
  },
  {
   "cell_type": "markdown",
   "metadata": {},
   "source": [
    "## Read in data"
   ]
  },
  {
   "cell_type": "markdown",
   "metadata": {},
   "source": [
    "Firstly, we need to read in the raw data containing the features:"
   ]
  },
  {
   "cell_type": "code",
   "execution_count": 3,
   "metadata": {},
   "outputs": [],
   "source": [
    "data = pd.read_csv('dummy_data/dummy_pipeline_output_data.csv', index_col='eid')"
   ]
  },
  {
   "cell_type": "markdown",
   "metadata": {},
   "source": [
    "Then we can split the dataset into training and test sets:"
   ]
  },
  {
   "cell_type": "code",
   "execution_count": 4,
   "metadata": {},
   "outputs": [],
   "source": [
    "X_train, X_test = train_test_split(data, test_size=0.33, random_state=0)"
   ]
  },
  {
   "cell_type": "markdown",
   "metadata": {},
   "source": [
    "## Read in system-ready rule conditions"
   ]
  },
  {
   "cell_type": "markdown",
   "metadata": {},
   "source": [
    "In this example, we'll read in the rule conditions from a pickle file. However, in practise, it's likely that you'll need to fetch the rule conditions from a Simility environment. See the *ReturnRuleConditionsFromSimility* class in the *rule_requests* module of the *simility_requests* sub-package for more information."
   ]
  },
  {
   "cell_type": "code",
   "execution_count": 5,
   "metadata": {},
   "outputs": [],
   "source": [
    "import pickle\n",
    "with open('dummy_data/rule_system_conditions.pkl', 'rb') as f:\n",
    "    rule_system_conditions = pickle.load(f)"
   ]
  },
  {
   "cell_type": "markdown",
   "metadata": {},
   "source": [
    "Now that we have the system-ready rule conditions, we need to convert them to the standard ARGO lambda expression format. This format allows new threshold values to be injected into the rule condition before being evaluated - this is how the rule optimiser finds the optimal threshold values:"
   ]
  },
  {
   "cell_type": "code",
   "execution_count": 6,
   "metadata": {},
   "outputs": [],
   "source": [
    "rules = Rules(system_dicts=rule_system_conditions)"
   ]
  },
  {
   "cell_type": "code",
   "execution_count": 7,
   "metadata": {},
   "outputs": [
    {
     "name": "stderr",
     "output_type": "stream",
     "text": [
      "/Users/jlaidler/venvs/rule_optimisation/lib/python3.7/site-packages/rules/convert_system_dicts_to_rule_dicts.py:79: UserWarning: JavaEL : Operator `java_el` is not currently supported in ARGO. Rule cannot be parsed.\n",
      "  warnings.warn(f'{rule_name} : {e}')\n"
     ]
    }
   ],
   "source": [
    "rule_lambdas = rules.as_rule_lambdas(as_numpy=False, with_kwargs=True)"
   ]
  },
  {
   "cell_type": "markdown",
   "metadata": {},
   "source": [
    "By converting the rule conditions to the standard ARGO lambda expression format, we also generate a dictionary which gives the keyword arguments to each lambda expression (this dictionary is saved as the class attribute *lambda_kwargs*). Using these keyword arguments as inputs to the lambda expressions will convert them into the standard ARGO string format."
   ]
  },
  {
   "cell_type": "markdown",
   "metadata": {},
   "source": [
    "**Note that there was one rule that could not be converted into the standard ARGO lambda expression format, as it contains an unsupported operator. The list of rule names that could not be converted are stored in the class attribute *unparsed_rules*:**"
   ]
  },
  {
   "cell_type": "code",
   "execution_count": 8,
   "metadata": {},
   "outputs": [
    {
     "data": {
      "text/plain": [
       "['JavaEL']"
      ]
     },
     "execution_count": 8,
     "metadata": {},
     "output_type": "execute_result"
    }
   ],
   "source": [
    "rules.unparsed_rules"
   ]
  },
  {
   "cell_type": "markdown",
   "metadata": {},
   "source": [
    "----"
   ]
  },
  {
   "cell_type": "markdown",
   "metadata": {},
   "source": [
    "## Optimise rules"
   ]
  },
  {
   "cell_type": "markdown",
   "metadata": {},
   "source": [
    "### Set up class parameters"
   ]
  },
  {
   "cell_type": "markdown",
   "metadata": {},
   "source": [
    "Now we can set our class parameters for the Rule Optimiser. Here we're using the *.fit()* method from the *AlertsPerDay* class, which calculates the negative squared difference between the daily number of records a rule flags vs the targetted daily number of records flagged. This means that when the rule optimiser comes to maximise this metric, it will try to minimise the difference between the actual number of records flagged and the targetted number of records flagged.\n",
    "\n",
    "See the *optimisation_functions_example* example notebook in this sub-package for more information on additional optimisation functions that can be used on unlabelled datasets.\n",
    "\n",
    "**Please see the class docstring for more information on each parameter.**"
   ]
  },
  {
   "cell_type": "code",
   "execution_count": 9,
   "metadata": {},
   "outputs": [],
   "source": [
    "from rule_optimisation.optimisation_functions import AlertsPerDay\n",
    "apd = AlertsPerDay(n_alerts_expected_per_day=10, no_of_days_in_file=10)"
   ]
  },
  {
   "cell_type": "code",
   "execution_count": 10,
   "metadata": {},
   "outputs": [],
   "source": [
    "params = {\n",
    "    'rule_lambdas': rule_lambdas,\n",
    "    'lambda_kwargs': rules.lambda_kwargs,\n",
    "    'opt_func': apd.fit,\n",
    "    'n_iter': 30,\n",
    "    'show_progressbar': True\n",
    "}"
   ]
  },
  {
   "cell_type": "markdown",
   "metadata": {},
   "source": [
    "### Instantiate class and run fit method"
   ]
  },
  {
   "cell_type": "markdown",
   "metadata": {},
   "source": [
    "Once the parameters have been set, we can run the *.fit()* method to optimise the rules."
   ]
  },
  {
   "cell_type": "code",
   "execution_count": 11,
   "metadata": {},
   "outputs": [
    {
     "name": "stdout",
     "output_type": "stream",
     "text": [
      "100%|██████████| 30/30 [00:00<00:00, 90.29trial/s, best loss: 0.09000000000000043]\n",
      "100%|██████████| 30/30 [00:00<00:00, 124.09trial/s, best loss: 0.009999999999999929]\n",
      "100%|██████████| 30/30 [00:00<00:00, 459.63trial/s, best loss: 57.76]\n",
      "100%|██████████| 30/30 [00:00<00:00, 245.84trial/s, best loss: 1.0]\n",
      "100%|██████████| 30/30 [00:00<00:00, 201.03trial/s, best loss: 7.290000000000001]\n",
      "100%|██████████| 30/30 [00:00<00:00, 281.05trial/s, best loss: 25.0]\n",
      "100%|██████████| 30/30 [00:00<00:00, 178.61trial/s, best loss: 67.24]            \n",
      "100%|██████████| 30/30 [00:00<00:00, 152.41trial/s, best loss: 0.3599999999999996]\n",
      "100%|██████████| 30/30 [00:00<00:00, 203.48trial/s, best loss: 22.090000000000003]\n",
      "100%|██████████| 30/30 [00:00<00:00, 180.57trial/s, best loss: 29.160000000000004]\n",
      "100%|██████████| 30/30 [00:00<00:00, 171.06trial/s, best loss: 37.209999999999994]\n",
      "100%|██████████| 30/30 [00:00<00:00, 171.22trial/s, best loss: 26.009999999999998]\n",
      "100%|██████████| 30/30 [00:00<00:00, 186.19trial/s, best loss: 12.25]             \n",
      "100%|██████████| 30/30 [00:00<00:00, 218.52trial/s, best loss: 96.04000000000002]\n",
      "100%|██████████| 30/30 [00:00<00:00, 158.55trial/s, best loss: 33.64]             \n",
      "100%|██████████| 30/30 [00:00<00:00, 227.31trial/s, best loss: 3.2400000000000024]\n",
      "100%|██████████| 30/30 [00:00<00:00, 203.15trial/s, best loss: 0.6400000000000011]\n",
      "100%|██████████| 30/30 [00:00<00:00, 196.43trial/s, best loss: 0.039999999999999716]\n",
      "100%|██████████| 30/30 [00:00<00:00, 128.27trial/s, best loss: 1.0]\n"
     ]
    }
   ],
   "source": [
    "ro = RuleOptimiser(**params)\n",
    "opt_rule_strings = ro.fit(X=X_train)"
   ]
  },
  {
   "cell_type": "markdown",
   "metadata": {},
   "source": [
    "### Outputs"
   ]
  },
  {
   "cell_type": "markdown",
   "metadata": {},
   "source": [
    "The *.fit()* method returns a dictionary of optimised rules stored in the standard ARGO string format (values) and their names (keys). It also creates the following attributes:\n",
    "\n",
    "* opt_rule_strings (dict): The optimised rules stored in the standard ARGO string format (values) and their names (keys).\n",
    "* rule_names_missing_features (list): Names of rules which use features that are not present in the dataset (and therefore can't be optimised or applied).\n",
    "* rule_names_no_opt_conditions (list): Names of rules which have no optimisable conditions (e.g.rules that only contain string-based conditions).\n",
    "* rule_names_zero_var_features (list): Names of rules which exclusively contain zero variance features (based on `X`), so cannot be optimised.\n",
    "* rules (object): Class containing the optimised rules stored in the standard ARGO string format. Methods from this class can be used to convert the rules into other representations. See the rules module for more information.\n",
    "* opt_rule_performances (dict): The optimisation metric (values) calculated for each optimised rule (keys).\n",
    "* orig_rule_performances (dict): The optimisation metric (values) calculated for each original rule (keys)."
   ]
  },
  {
   "cell_type": "code",
   "execution_count": 12,
   "metadata": {},
   "outputs": [
    {
     "data": {
      "text/plain": [
       "{'RGDT_Rule137': \"((X['account_number_avg_order_total_per_account_number_7day']<=235.77924922263912)|(X['account_number_avg_order_total_per_account_number_7day'].isna()))&(X['account_number_num_fraud_transactions_per_account_number_1day']>=1)&(X['account_number_num_fraud_transactions_per_account_number_90day']>=1)&((X['account_number_sum_order_total_per_account_number_1day']<=3273.978958931867)|(X['account_number_sum_order_total_per_account_number_1day'].isna()))\",\n",
       " 'RGDT_Rule81': \"(X['account_number_avg_order_total_per_account_number_1day']>729.0157066766448)&(X['account_number_num_fraud_transactions_per_account_number_lifetime']>=0)&((X['account_number_num_order_items_per_account_number_30day']<=5)|(X['account_number_num_order_items_per_account_number_30day'].isna()))&((X['account_number_sum_order_total_per_account_number_1day']<=2496.2529968931435)|(X['account_number_sum_order_total_per_account_number_1day'].isna()))\",\n",
       " 'HighFraudTxnPerAccountNum': \"(X['account_number_num_fraud_transactions_per_account_number_1day']>=2)\",\n",
       " 'RGDT_Rule256': \"(X['account_number_num_fraud_transactions_per_account_number_1day']>=1)&((X['account_number_sum_order_total_per_account_number_90day']<=2401.0472870173962)|(X['account_number_sum_order_total_per_account_number_90day'].isna()))&(X['is_billing_shipping_city_same']==False)\",\n",
       " 'RGDT_Rule35': \"(X['account_number_num_fraud_transactions_per_account_number_7day']>=0)&(X['account_number_num_fraud_transactions_per_account_number_lifetime']>=1)&((X['account_number_num_order_items_per_account_number_lifetime']<=9)|(X['account_number_num_order_items_per_account_number_lifetime'].isna()))&(X['is_existing_user']==True)\",\n",
       " 'RGDT_Rule193': \"(X['account_number_num_distinct_transaction_per_account_number_30day']>=2.0)&(X['account_number_num_fraud_transactions_per_account_number_lifetime']>=2.0)\",\n",
       " 'RGDT_Rule241': \"(X['account_number_avg_order_total_per_account_number_90day']>153.949)&(X['account_number_num_fraud_transactions_per_account_number_1day']>=1.0)&((X['account_number_sum_order_total_per_account_number_1day']<=623.10999)|(X['account_number_sum_order_total_per_account_number_1day'].isna()))&(X['account_number_sum_order_total_per_account_number_30day']>329.12)\",\n",
       " 'RGDT_Rule263': \"(X['account_number_num_fraud_transactions_per_account_number_30day']>=0)&((X['account_number_sum_order_total_per_account_number_1day']<=1837.558384451298)|(X['account_number_sum_order_total_per_account_number_1day'].isna()))&(X['account_number_sum_order_total_per_account_number_7day']>885.4399379165117)&((X['account_number_sum_order_total_per_account_number_90day']<=3327.687437166159)|(X['account_number_sum_order_total_per_account_number_90day'].isna()))\",\n",
       " 'RGDT_Rule313': \"(X['account_number_num_fraud_transactions_per_account_number_1day']>=0)&(X['account_number_sum_order_total_per_account_number_30day']>948.2974014046503)&(X['account_number_sum_order_total_per_account_number_90day']>765.1830069535499)&(X['is_existing_user']==True)\",\n",
       " 'RGDT_Rule195': \"(X['account_number_num_fraud_transactions_per_account_number_1day']>=0)&(X['account_number_num_fraud_transactions_per_account_number_30day']>=2)&(X['account_number_num_fraud_transactions_per_account_number_lifetime']>=2)&(X['account_number_num_order_items_per_account_number_7day']>=0)\",\n",
       " 'RGDT_Rule153': \"(X['account_number_avg_order_total_per_account_number_90day']>186.6722587333886)&(X['account_number_num_fraud_transactions_per_account_number_1day']>=1)&(X['account_number_num_order_items_per_account_number_lifetime']>=3)&((X['order_total']<=1824.5846949202348)|(X['order_total'].isna()))\",\n",
       " 'RGDT_Rule112': \"(X['account_number_num_distinct_transaction_per_account_number_90day']>=2)&(X['account_number_num_fraud_transactions_per_account_number_30day']>=1)&(X['account_number_num_fraud_transactions_per_account_number_lifetime']>=2)&((X['account_number_num_order_items_per_account_number_90day']<=12)|(X['account_number_num_order_items_per_account_number_90day'].isna()))\",\n",
       " 'RGDT_Rule2': \"((X['account_number_num_distinct_transaction_per_account_number_1day']<=8)|(X['account_number_num_distinct_transaction_per_account_number_1day'].isna()))&(X['account_number_num_fraud_transactions_per_account_number_7day']>=1)&((X['account_number_num_fraud_transactions_per_account_number_lifetime']<=6)|(X['account_number_num_fraud_transactions_per_account_number_lifetime'].isna()))&(X['is_existing_user']==True)\",\n",
       " 'RGDT_Rule65': \"(X['account_number_num_fraud_transactions_per_account_number_1day']>=1.0)&((X['account_number_sum_order_total_per_account_number_1day']<=950.89999)|(X['account_number_sum_order_total_per_account_number_1day'].isna()))&(X['account_number_sum_order_total_per_account_number_30day']>766.82501)&(X['is_billing_shipping_city_same']==False)\",\n",
       " 'RGDT_Rule45': \"((X['account_number_avg_order_total_per_account_number_1day']<=1561.8965582295737)|(X['account_number_avg_order_total_per_account_number_1day'].isna()))&(X['account_number_num_fraud_transactions_per_account_number_90day']>=2)&(X['account_number_num_fraud_transactions_per_account_number_lifetime']>=1)&(X['account_number_sum_order_total_per_account_number_90day']>2.6371929553035898)\",\n",
       " 'RGDT_Rule162': \"(X['account_number_num_fraud_transactions_per_account_number_90day']>=1)&(X['num_order_items']>=1)&(X['order_total']>611.5506555826788)\",\n",
       " 'RGDT_Rule272': \"((X['account_number_avg_order_total_per_account_number_90day']<=1624.2836833824722)|(X['account_number_avg_order_total_per_account_number_90day'].isna()))&(X['account_number_num_distinct_transaction_per_account_number_30day']>=3)&(X['account_number_num_fraud_transactions_per_account_number_30day']>=0)&(X['account_number_num_fraud_transactions_per_account_number_lifetime']>=0)\",\n",
       " 'RGDT_Rule24': \"(X['account_number_avg_order_total_per_account_number_90day']>729.0157066766448)&(X['account_number_num_fraud_transactions_per_account_number_lifetime']>=0)&((X['account_number_num_order_items_per_account_number_lifetime']<=5)|(X['account_number_num_order_items_per_account_number_lifetime'].isna()))&((X['account_number_sum_order_total_per_account_number_7day']<=2496.2529968931435)|(X['account_number_sum_order_total_per_account_number_7day'].isna()))\",\n",
       " 'ComplicatedRule': \"(X['num_order_items']>2)&(((X['order_total']>1816.1469372400325)&(X['is_existing_user']==True))|((X['order_total']>191.04029715550308)&(X['is_existing_user']==False))|((X['billing_city'].str.startswith('B', na=False))))\"}"
      ]
     },
     "execution_count": 12,
     "metadata": {},
     "output_type": "execute_result"
    }
   ],
   "source": [
    "opt_rule_strings"
   ]
  },
  {
   "cell_type": "markdown",
   "metadata": {},
   "source": [
    "---"
   ]
  },
  {
   "cell_type": "markdown",
   "metadata": {},
   "source": [
    "## *Aside - improved coverage*"
   ]
  },
  {
   "cell_type": "markdown",
   "metadata": {},
   "source": [
    "To highlight the improvements made in the new version of the Rule Optimiser, let's first look at the conditions for the rule named *ComplicatedRule*:"
   ]
  },
  {
   "cell_type": "code",
   "execution_count": 13,
   "metadata": {},
   "outputs": [
    {
     "data": {
      "text/plain": [
       "{'condition': 'AND',\n",
       " 'rules': [{'field': 'num_order_items', 'operator': 'greater', 'value': 5.0},\n",
       "  {'condition': 'OR',\n",
       "   'rules': [{'condition': 'AND',\n",
       "     'rules': [{'field': 'order_total',\n",
       "       'operator': 'greater',\n",
       "       'value': 1000.0},\n",
       "      {'field': 'is_existing_user', 'operator': 'equal', 'value': True}]},\n",
       "    {'condition': 'AND',\n",
       "     'rules': [{'field': 'order_total', 'operator': 'greater', 'value': 500.0},\n",
       "      {'field': 'is_existing_user', 'operator': 'equal', 'value': False}]},\n",
       "    {'condition': 'OR',\n",
       "     'rules': [{'field': 'billing_city',\n",
       "       'operator': 'begins_with',\n",
       "       'value': 'B'}]}]}]}"
      ]
     },
     "execution_count": 13,
     "metadata": {},
     "output_type": "execute_result"
    }
   ],
   "source": [
    "rules.rule_dicts['ComplicatedRule']"
   ]
  },
  {
   "cell_type": "markdown",
   "metadata": {},
   "source": [
    "This rule contains all of the characteristics that the new Rule Optimiser covers:\n",
    "\n",
    "* Nested conditions\n",
    "* Conditions joined with the OR operator\n",
    "* A complex operator (in this case, *begins with*)\n",
    "\n",
    "Now, if we look at the optimised version of the rule, we can see that the threshold values of the numeric conditions have been optimised:"
   ]
  },
  {
   "cell_type": "code",
   "execution_count": 14,
   "metadata": {},
   "outputs": [
    {
     "data": {
      "text/plain": [
       "{'condition': 'AND',\n",
       " 'rules': [{'field': 'num_order_items', 'operator': 'greater', 'value': 2.0},\n",
       "  {'condition': 'OR',\n",
       "   'rules': [{'condition': 'AND',\n",
       "     'rules': [{'field': 'order_total',\n",
       "       'operator': 'greater',\n",
       "       'value': 1816.1469372400325},\n",
       "      {'field': 'is_existing_user', 'operator': 'equal', 'value': True}]},\n",
       "    {'condition': 'AND',\n",
       "     'rules': [{'field': 'order_total',\n",
       "       'operator': 'greater',\n",
       "       'value': 191.04029715550308},\n",
       "      {'field': 'is_existing_user', 'operator': 'equal', 'value': False}]},\n",
       "    {'field': 'billing_city', 'operator': 'begins_with', 'value': 'B'}]}]}"
      ]
     },
     "execution_count": 14,
     "metadata": {},
     "output_type": "execute_result"
    }
   ],
   "source": [
    "opt_rule_dicts = ro.rules.as_rule_dicts()\n",
    "opt_rule_dicts['ComplicatedRule']"
   ]
  },
  {
   "cell_type": "markdown",
   "metadata": {},
   "source": [
    "By comparing the performance (in this case, the negative squared difference between the daily number of records a rule flags vs the targetted daily number of records flagged) before and after optimisation, we can see that there has indeed been an uplift:"
   ]
  },
  {
   "cell_type": "code",
   "execution_count": 15,
   "metadata": {},
   "outputs": [
    {
     "name": "stdout",
     "output_type": "stream",
     "text": [
      "Original negative squared difference: -100.0\n"
     ]
    }
   ],
   "source": [
    "print('Original negative squared difference:', ro.orig_rule_performances['ComplicatedRule'])"
   ]
  },
  {
   "cell_type": "code",
   "execution_count": 16,
   "metadata": {},
   "outputs": [
    {
     "name": "stdout",
     "output_type": "stream",
     "text": [
      "Original negative squared difference: -1.0\n"
     ]
    }
   ],
   "source": [
    "print('Original negative squared difference:', ro.opt_rule_performances['ComplicatedRule'])"
   ]
  },
  {
   "cell_type": "markdown",
   "metadata": {},
   "source": [
    "i.e. the original rule flagged $\\sqrt100 = 10$ records over/under the target of 10 records per day, whereas the optimised rule flags only $\\sqrt1 = 1$ records over/under the target of 10 records per day, which is an improvement."
   ]
  },
  {
   "cell_type": "markdown",
   "metadata": {},
   "source": [
    "----"
   ]
  },
  {
   "cell_type": "markdown",
   "metadata": {},
   "source": [
    "## Apply rules to a separate dataset"
   ]
  },
  {
   "cell_type": "markdown",
   "metadata": {},
   "source": [
    "Use the *.apply()* method to apply the optimised rules to a separate dataset:"
   ]
  },
  {
   "cell_type": "code",
   "execution_count": 17,
   "metadata": {},
   "outputs": [],
   "source": [
    "X_rules_applied = ro.apply(X=X_test)"
   ]
  },
  {
   "cell_type": "markdown",
   "metadata": {},
   "source": [
    "### Outputs"
   ]
  },
  {
   "cell_type": "markdown",
   "metadata": {},
   "source": [
    "The *.apply()* method returns a dataframe giving the binary columns of the rules as applied to the given dataset.\n",
    "\n",
    "A useful attribute created by running the *.apply()* method is:\n",
    "\n",
    "* rule_descriptions: A dataframe showing the logic of the optimised rules and their performance metrics as applied to the given dataset."
   ]
  },
  {
   "cell_type": "code",
   "execution_count": 18,
   "metadata": {},
   "outputs": [
    {
     "data": {
      "text/html": [
       "<div>\n",
       "<style scoped>\n",
       "    .dataframe tbody tr th:only-of-type {\n",
       "        vertical-align: middle;\n",
       "    }\n",
       "\n",
       "    .dataframe tbody tr th {\n",
       "        vertical-align: top;\n",
       "    }\n",
       "\n",
       "    .dataframe thead th {\n",
       "        text-align: right;\n",
       "    }\n",
       "</style>\n",
       "<table border=\"1\" class=\"dataframe\">\n",
       "  <thead>\n",
       "    <tr style=\"text-align: right;\">\n",
       "      <th></th>\n",
       "      <th>PercDataFlagged</th>\n",
       "      <th>OptMetric</th>\n",
       "      <th>Logic</th>\n",
       "      <th>nConditions</th>\n",
       "    </tr>\n",
       "    <tr>\n",
       "      <th>Rule</th>\n",
       "      <th></th>\n",
       "      <th></th>\n",
       "      <th></th>\n",
       "      <th></th>\n",
       "    </tr>\n",
       "  </thead>\n",
       "  <tbody>\n",
       "    <tr>\n",
       "      <th>RGDT_Rule24</th>\n",
       "      <td>0.011639</td>\n",
       "      <td>-24.01</td>\n",
       "      <td>(X['account_number_avg_order_total_per_account...</td>\n",
       "      <td>6</td>\n",
       "    </tr>\n",
       "    <tr>\n",
       "      <th>RGDT_Rule81</th>\n",
       "      <td>0.011639</td>\n",
       "      <td>-24.01</td>\n",
       "      <td>(X['account_number_avg_order_total_per_account...</td>\n",
       "      <td>6</td>\n",
       "    </tr>\n",
       "    <tr>\n",
       "      <th>RGDT_Rule137</th>\n",
       "      <td>0.011182</td>\n",
       "      <td>-26.01</td>\n",
       "      <td>((X['account_number_avg_order_total_per_accoun...</td>\n",
       "      <td>6</td>\n",
       "    </tr>\n",
       "    <tr>\n",
       "      <th>RGDT_Rule263</th>\n",
       "      <td>0.011182</td>\n",
       "      <td>-26.01</td>\n",
       "      <td>(X['account_number_num_fraud_transactions_per_...</td>\n",
       "      <td>6</td>\n",
       "    </tr>\n",
       "    <tr>\n",
       "      <th>RGDT_Rule256</th>\n",
       "      <td>0.010497</td>\n",
       "      <td>-29.16</td>\n",
       "      <td>(X['account_number_num_fraud_transactions_per_...</td>\n",
       "      <td>4</td>\n",
       "    </tr>\n",
       "  </tbody>\n",
       "</table>\n",
       "</div>"
      ],
      "text/plain": [
       "              PercDataFlagged  OptMetric  \\\n",
       "Rule                                       \n",
       "RGDT_Rule24          0.011639     -24.01   \n",
       "RGDT_Rule81          0.011639     -24.01   \n",
       "RGDT_Rule137         0.011182     -26.01   \n",
       "RGDT_Rule263         0.011182     -26.01   \n",
       "RGDT_Rule256         0.010497     -29.16   \n",
       "\n",
       "                                                          Logic  nConditions  \n",
       "Rule                                                                          \n",
       "RGDT_Rule24   (X['account_number_avg_order_total_per_account...            6  \n",
       "RGDT_Rule81   (X['account_number_avg_order_total_per_account...            6  \n",
       "RGDT_Rule137  ((X['account_number_avg_order_total_per_accoun...            6  \n",
       "RGDT_Rule263  (X['account_number_num_fraud_transactions_per_...            6  \n",
       "RGDT_Rule256  (X['account_number_num_fraud_transactions_per_...            4  "
      ]
     },
     "execution_count": 18,
     "metadata": {},
     "output_type": "execute_result"
    }
   ],
   "source": [
    "ro.rule_descriptions.head()"
   ]
  },
  {
   "cell_type": "code",
   "execution_count": 19,
   "metadata": {},
   "outputs": [
    {
     "data": {
      "text/html": [
       "<div>\n",
       "<style scoped>\n",
       "    .dataframe tbody tr th:only-of-type {\n",
       "        vertical-align: middle;\n",
       "    }\n",
       "\n",
       "    .dataframe tbody tr th {\n",
       "        vertical-align: top;\n",
       "    }\n",
       "\n",
       "    .dataframe thead th {\n",
       "        text-align: right;\n",
       "    }\n",
       "</style>\n",
       "<table border=\"1\" class=\"dataframe\">\n",
       "  <thead>\n",
       "    <tr style=\"text-align: right;\">\n",
       "      <th>Rule</th>\n",
       "      <th>RGDT_Rule24</th>\n",
       "      <th>RGDT_Rule81</th>\n",
       "      <th>RGDT_Rule137</th>\n",
       "      <th>RGDT_Rule263</th>\n",
       "      <th>RGDT_Rule256</th>\n",
       "      <th>RGDT_Rule35</th>\n",
       "      <th>RGDT_Rule2</th>\n",
       "      <th>RGDT_Rule272</th>\n",
       "      <th>RGDT_Rule162</th>\n",
       "      <th>RGDT_Rule313</th>\n",
       "      <th>ComplicatedRule</th>\n",
       "      <th>RGDT_Rule112</th>\n",
       "      <th>RGDT_Rule153</th>\n",
       "      <th>RGDT_Rule193</th>\n",
       "      <th>RGDT_Rule195</th>\n",
       "      <th>RGDT_Rule45</th>\n",
       "      <th>RGDT_Rule241</th>\n",
       "      <th>HighFraudTxnPerAccountNum</th>\n",
       "      <th>RGDT_Rule65</th>\n",
       "    </tr>\n",
       "    <tr>\n",
       "      <th>eid</th>\n",
       "      <th></th>\n",
       "      <th></th>\n",
       "      <th></th>\n",
       "      <th></th>\n",
       "      <th></th>\n",
       "      <th></th>\n",
       "      <th></th>\n",
       "      <th></th>\n",
       "      <th></th>\n",
       "      <th></th>\n",
       "      <th></th>\n",
       "      <th></th>\n",
       "      <th></th>\n",
       "      <th></th>\n",
       "      <th></th>\n",
       "      <th></th>\n",
       "      <th></th>\n",
       "      <th></th>\n",
       "      <th></th>\n",
       "    </tr>\n",
       "  </thead>\n",
       "  <tbody>\n",
       "    <tr>\n",
       "      <th>533-3553708-0918604</th>\n",
       "      <td>0</td>\n",
       "      <td>0</td>\n",
       "      <td>0</td>\n",
       "      <td>0</td>\n",
       "      <td>0</td>\n",
       "      <td>0</td>\n",
       "      <td>0</td>\n",
       "      <td>0</td>\n",
       "      <td>0</td>\n",
       "      <td>0</td>\n",
       "      <td>0</td>\n",
       "      <td>0</td>\n",
       "      <td>0</td>\n",
       "      <td>0</td>\n",
       "      <td>0</td>\n",
       "      <td>0</td>\n",
       "      <td>0</td>\n",
       "      <td>0</td>\n",
       "      <td>0</td>\n",
       "    </tr>\n",
       "    <tr>\n",
       "      <th>455-3498977-3144749</th>\n",
       "      <td>0</td>\n",
       "      <td>0</td>\n",
       "      <td>0</td>\n",
       "      <td>0</td>\n",
       "      <td>0</td>\n",
       "      <td>0</td>\n",
       "      <td>0</td>\n",
       "      <td>0</td>\n",
       "      <td>0</td>\n",
       "      <td>0</td>\n",
       "      <td>0</td>\n",
       "      <td>0</td>\n",
       "      <td>0</td>\n",
       "      <td>0</td>\n",
       "      <td>0</td>\n",
       "      <td>0</td>\n",
       "      <td>0</td>\n",
       "      <td>0</td>\n",
       "      <td>0</td>\n",
       "    </tr>\n",
       "    <tr>\n",
       "      <th>585-6596459-3918216</th>\n",
       "      <td>0</td>\n",
       "      <td>0</td>\n",
       "      <td>0</td>\n",
       "      <td>0</td>\n",
       "      <td>0</td>\n",
       "      <td>0</td>\n",
       "      <td>0</td>\n",
       "      <td>0</td>\n",
       "      <td>0</td>\n",
       "      <td>0</td>\n",
       "      <td>0</td>\n",
       "      <td>0</td>\n",
       "      <td>0</td>\n",
       "      <td>0</td>\n",
       "      <td>0</td>\n",
       "      <td>0</td>\n",
       "      <td>0</td>\n",
       "      <td>0</td>\n",
       "      <td>0</td>\n",
       "    </tr>\n",
       "    <tr>\n",
       "      <th>685-6642742-5806657</th>\n",
       "      <td>0</td>\n",
       "      <td>0</td>\n",
       "      <td>0</td>\n",
       "      <td>0</td>\n",
       "      <td>0</td>\n",
       "      <td>0</td>\n",
       "      <td>0</td>\n",
       "      <td>0</td>\n",
       "      <td>0</td>\n",
       "      <td>0</td>\n",
       "      <td>0</td>\n",
       "      <td>0</td>\n",
       "      <td>0</td>\n",
       "      <td>0</td>\n",
       "      <td>0</td>\n",
       "      <td>0</td>\n",
       "      <td>0</td>\n",
       "      <td>0</td>\n",
       "      <td>0</td>\n",
       "    </tr>\n",
       "    <tr>\n",
       "      <th>956-2823525-9957253</th>\n",
       "      <td>0</td>\n",
       "      <td>0</td>\n",
       "      <td>0</td>\n",
       "      <td>0</td>\n",
       "      <td>0</td>\n",
       "      <td>0</td>\n",
       "      <td>0</td>\n",
       "      <td>0</td>\n",
       "      <td>0</td>\n",
       "      <td>0</td>\n",
       "      <td>0</td>\n",
       "      <td>0</td>\n",
       "      <td>0</td>\n",
       "      <td>0</td>\n",
       "      <td>0</td>\n",
       "      <td>0</td>\n",
       "      <td>0</td>\n",
       "      <td>0</td>\n",
       "      <td>0</td>\n",
       "    </tr>\n",
       "  </tbody>\n",
       "</table>\n",
       "</div>"
      ],
      "text/plain": [
       "Rule                 RGDT_Rule24  RGDT_Rule81  RGDT_Rule137  RGDT_Rule263  \\\n",
       "eid                                                                         \n",
       "533-3553708-0918604            0            0             0             0   \n",
       "455-3498977-3144749            0            0             0             0   \n",
       "585-6596459-3918216            0            0             0             0   \n",
       "685-6642742-5806657            0            0             0             0   \n",
       "956-2823525-9957253            0            0             0             0   \n",
       "\n",
       "Rule                 RGDT_Rule256  RGDT_Rule35  RGDT_Rule2  RGDT_Rule272  \\\n",
       "eid                                                                        \n",
       "533-3553708-0918604             0            0           0             0   \n",
       "455-3498977-3144749             0            0           0             0   \n",
       "585-6596459-3918216             0            0           0             0   \n",
       "685-6642742-5806657             0            0           0             0   \n",
       "956-2823525-9957253             0            0           0             0   \n",
       "\n",
       "Rule                 RGDT_Rule162  RGDT_Rule313  ComplicatedRule  \\\n",
       "eid                                                                \n",
       "533-3553708-0918604             0             0                0   \n",
       "455-3498977-3144749             0             0                0   \n",
       "585-6596459-3918216             0             0                0   \n",
       "685-6642742-5806657             0             0                0   \n",
       "956-2823525-9957253             0             0                0   \n",
       "\n",
       "Rule                 RGDT_Rule112  RGDT_Rule153  RGDT_Rule193  RGDT_Rule195  \\\n",
       "eid                                                                           \n",
       "533-3553708-0918604             0             0             0             0   \n",
       "455-3498977-3144749             0             0             0             0   \n",
       "585-6596459-3918216             0             0             0             0   \n",
       "685-6642742-5806657             0             0             0             0   \n",
       "956-2823525-9957253             0             0             0             0   \n",
       "\n",
       "Rule                 RGDT_Rule45  RGDT_Rule241  HighFraudTxnPerAccountNum  \\\n",
       "eid                                                                         \n",
       "533-3553708-0918604            0             0                          0   \n",
       "455-3498977-3144749            0             0                          0   \n",
       "585-6596459-3918216            0             0                          0   \n",
       "685-6642742-5806657            0             0                          0   \n",
       "956-2823525-9957253            0             0                          0   \n",
       "\n",
       "Rule                 RGDT_Rule65  \n",
       "eid                               \n",
       "533-3553708-0918604            0  \n",
       "455-3498977-3144749            0  \n",
       "585-6596459-3918216            0  \n",
       "685-6642742-5806657            0  \n",
       "956-2823525-9957253            0  "
      ]
     },
     "execution_count": 19,
     "metadata": {},
     "output_type": "execute_result"
    }
   ],
   "source": [
    "X_rules_applied.head()"
   ]
  },
  {
   "cell_type": "markdown",
   "metadata": {},
   "source": [
    "---"
   ]
  },
  {
   "cell_type": "markdown",
   "metadata": {},
   "source": [
    "## Plotting the performance uplift"
   ]
  },
  {
   "cell_type": "markdown",
   "metadata": {},
   "source": [
    "We can visualise the performance uplift of the optimised rules using the *.plot_performance_uplift()* and *.plot_performance_uplift_distribution()* methods:\n",
    "\n",
    "* *.plot_performance_uplift()*: Generates a scatterplot showing the performance of each rule before and after optimisation.\n",
    "* *.plot_performance_uplift_distribution()*: Generates a boxplot showing the distribution of performance uplifts (original rules vs optimised rules)."
   ]
  },
  {
   "cell_type": "markdown",
   "metadata": {},
   "source": [
    "#### On the training set"
   ]
  },
  {
   "cell_type": "markdown",
   "metadata": {},
   "source": [
    "To visualise the uplift on the training set, we can use the class attributes *orig_rule_performances* and *opt_rule_performances* in the plotting methods, as these were generated as part of the optimisation process:"
   ]
  },
  {
   "cell_type": "code",
   "execution_count": 20,
   "metadata": {},
   "outputs": [
    {
     "data": {
      "image/png": "[encoded data removed]",
      "text/plain": [
       "<Figure size 720x360 with 1 Axes>"
      ]
     },
     "metadata": {
      "needs_background": "light"
     },
     "output_type": "display_data"
    }
   ],
   "source": [
    "ro.plot_performance_uplift(orig_rule_performances=ro.orig_rule_performances,\n",
    "                           opt_rule_performances=ro.opt_rule_performances,\n",
    "                           figsize=(10, 5))"
   ]
  },
  {
   "cell_type": "code",
   "execution_count": 21,
   "metadata": {},
   "outputs": [
    {
     "data": {
      "image/png": "[encoded data removed]",
      "text/plain": [
       "<Figure size 216x504 with 1 Axes>"
      ]
     },
     "metadata": {
      "needs_background": "light"
     },
     "output_type": "display_data"
    }
   ],
   "source": [
    "ro.plot_performance_uplift_distribution(orig_rule_performances=ro.orig_rule_performances,\n",
    "                                        opt_rule_performances=ro.opt_rule_performances,\n",
    "                                        figsize=(3, 7))"
   ]
  },
  {
   "cell_type": "markdown",
   "metadata": {},
   "source": [
    "#### On the test set"
   ]
  },
  {
   "cell_type": "markdown",
   "metadata": {},
   "source": [
    "To visualise the uplift on the test set, we first need to generate the *orig_rule_performances* and *opt_rule_performances* parameters used in the plotting methods as these aren't created as part of the optimisation process. To do this, we need to apply both the original rules and the optimised rules to the test set. **Note that before we apply the original rules, we need to remove those containing features that are missing in *X_train*:**"
   ]
  },
  {
   "cell_type": "code",
   "execution_count": 22,
   "metadata": {},
   "outputs": [
    {
     "name": "stderr",
     "output_type": "stream",
     "text": [
      "/Users/jlaidler/venvs/rule_optimisation/lib/python3.7/site-packages/rules/convert_system_dicts_to_rule_dicts.py:79: UserWarning: JavaEL : Operator `java_el` is not currently supported in ARGO. Rule cannot be parsed.\n",
      "  warnings.warn(f'{rule_name} : {e}')\n"
     ]
    }
   ],
   "source": [
    "# Original rules\n",
    "rules.filter_rules(exclude=ro.rule_names_missing_features)\n",
    "orig_sys_rule_strings = rules.as_rule_strings(as_numpy=False)\n",
    "orig_ra = ArgoRuleApplier(rule_strings=orig_sys_rule_strings, \n",
    "                          opt_func=apd.fit)\n",
    "_ = orig_ra.apply(X=X_test)\n",
    "orig_rule_performances_test = orig_ra.rule_descriptions['OptMetric']"
   ]
  },
  {
   "cell_type": "code",
   "execution_count": 23,
   "metadata": {},
   "outputs": [],
   "source": [
    "# Optimised rules\n",
    "opt_ra = ArgoRuleApplier(rule_strings=opt_rule_strings, \n",
    "                         opt_func=apd.fit)\n",
    "_ = opt_ra.apply(X=X_test)\n",
    "opt_rule_performances_test = opt_ra.rule_descriptions['OptMetric']"
   ]
  },
  {
   "cell_type": "code",
   "execution_count": 24,
   "metadata": {},
   "outputs": [
    {
     "data": {
      "image/png": "[encoded data removed]",
      "text/plain": [
       "<Figure size 720x360 with 1 Axes>"
      ]
     },
     "metadata": {
      "needs_background": "light"
     },
     "output_type": "display_data"
    }
   ],
   "source": [
    "ro.plot_performance_uplift(orig_rule_performances=orig_rule_performances_test,\n",
    "                           opt_rule_performances=opt_rule_performances_test,\n",
    "                           figsize=(10, 5))"
   ]
  },
  {
   "cell_type": "code",
   "execution_count": 25,
   "metadata": {},
   "outputs": [
    {
     "data": {
      "image/png": "[encoded data removed]",
      "text/plain": [
       "<Figure size 216x504 with 1 Axes>"
      ]
     },
     "metadata": {
      "needs_background": "light"
     },
     "output_type": "display_data"
    }
   ],
   "source": [
    "ro.plot_performance_uplift_distribution(orig_rule_performances=orig_rule_performances_test,\n",
    "                                        opt_rule_performances=opt_rule_performances_test,\n",
    "                                        figsize=(3, 7))"
   ]
  },
  {
   "cell_type": "markdown",
   "metadata": {},
   "source": [
    "----"
   ]
  },
  {
   "cell_type": "markdown",
   "metadata": {},
   "source": [
    "## The End"
   ]
  },
  {
   "cell_type": "markdown",
   "metadata": {},
   "source": [
    "That's it folks - if you have any queries or suggestions please put them in the *#sim-datatools-help* Slack channel or email James directly."
   ]
  }
 ],
 "metadata": {
  "kernelspec": {
   "display_name": "rule_optimisation",
   "language": "python",
   "name": "rule_optimisation"
  },
  "language_info": {
   "codemirror_mode": {
    "name": "ipython",
    "version": 3
   },
   "file_extension": ".py",
   "mimetype": "text/x-python",
   "name": "python",
   "nbconvert_exporter": "python",
   "pygments_lexer": "ipython3",
   "version": "3.7.7"
  }
 },
 "nbformat": 4,
 "nbformat_minor": 4
}