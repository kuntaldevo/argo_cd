{
 "cells": [
  {
   "cell_type": "code",
   "execution_count": 32,
   "metadata": {},
   "outputs": [],
   "source": [
    "import pandas as pd\n",
    "import numpy as np"
   ]
  },
  {
   "cell_type": "code",
   "execution_count": 7,
   "metadata": {},
   "outputs": [],
   "source": [
    "from bayesian_optimiser_example import BayesianRuleOptimiser\n",
    "from rule_optimisation.optimisation_functions import FScore"
   ]
  },
  {
   "cell_type": "code",
   "execution_count": 8,
   "metadata": {},
   "outputs": [],
   "source": [
    "# For optimisation function, we'll use F1 score in this example (from ARGO, as it's faster than sklearn's)\n",
    "f1 = FScore(1)"
   ]
  },
  {
   "cell_type": "code",
   "execution_count": 9,
   "metadata": {},
   "outputs": [],
   "source": [
    "bo = BayesianRuleOptimiser(rule_list=[], rule_features_list=[], opt_func=f1.fit, n_iter=30)"
   ]
  },
  {
   "cell_type": "code",
   "execution_count": 10,
   "metadata": {},
   "outputs": [],
   "source": [
    "df_test = pd.read_csv('X_dummy.csv',dtype={'float_var_with_nulls': 'float', 'int_var_with_nulls': 'Int64', 'bool_var_with_nulls': 'boolean', 'string_var_with_nulls': str})"
   ]
  },
  {
   "cell_type": "code",
   "execution_count": 11,
   "metadata": {},
   "outputs": [
    {
     "data": {
      "text/html": [
       "<div>\n",
       "<style scoped>\n",
       "    .dataframe tbody tr th:only-of-type {\n",
       "        vertical-align: middle;\n",
       "    }\n",
       "\n",
       "    .dataframe tbody tr th {\n",
       "        vertical-align: top;\n",
       "    }\n",
       "\n",
       "    .dataframe thead th {\n",
       "        text-align: right;\n",
       "    }\n",
       "</style>\n",
       "<table border=\"1\" class=\"dataframe\">\n",
       "  <thead>\n",
       "    <tr style=\"text-align: right;\">\n",
       "      <th></th>\n",
       "      <th>float_var_with_nulls</th>\n",
       "      <th>int_var_with_nulls</th>\n",
       "      <th>bool_var_with_nulls</th>\n",
       "      <th>string_var_with_nulls</th>\n",
       "      <th>float_var_no_nulls</th>\n",
       "      <th>int_var_no_nulls</th>\n",
       "      <th>bool_var_no_nulls</th>\n",
       "      <th>string_var_no_nulls</th>\n",
       "    </tr>\n",
       "  </thead>\n",
       "  <tbody>\n",
       "    <tr>\n",
       "      <th>0</th>\n",
       "      <td>0.1</td>\n",
       "      <td>1</td>\n",
       "      <td>True</td>\n",
       "      <td>'maybe'</td>\n",
       "      <td>0.1</td>\n",
       "      <td>1</td>\n",
       "      <td>True</td>\n",
       "      <td>'maybe'</td>\n",
       "    </tr>\n",
       "    <tr>\n",
       "      <th>1</th>\n",
       "      <td>NaN</td>\n",
       "      <td>2</td>\n",
       "      <td>True</td>\n",
       "      <td>'no'</td>\n",
       "      <td>0.2</td>\n",
       "      <td>2</td>\n",
       "      <td>True</td>\n",
       "      <td>'no'</td>\n",
       "    </tr>\n",
       "    <tr>\n",
       "      <th>2</th>\n",
       "      <td>0.1</td>\n",
       "      <td>&lt;NA&gt;</td>\n",
       "      <td>True</td>\n",
       "      <td>'yes'</td>\n",
       "      <td>0.1</td>\n",
       "      <td>3</td>\n",
       "      <td>True</td>\n",
       "      <td>'yes'</td>\n",
       "    </tr>\n",
       "    <tr>\n",
       "      <th>3</th>\n",
       "      <td>0.1</td>\n",
       "      <td>1</td>\n",
       "      <td>&lt;NA&gt;</td>\n",
       "      <td>'yes'</td>\n",
       "      <td>0.1</td>\n",
       "      <td>1</td>\n",
       "      <td>False</td>\n",
       "      <td>'yes'</td>\n",
       "    </tr>\n",
       "    <tr>\n",
       "      <th>4</th>\n",
       "      <td>0.1</td>\n",
       "      <td>1</td>\n",
       "      <td>True</td>\n",
       "      <td>NaN</td>\n",
       "      <td>0.1</td>\n",
       "      <td>1</td>\n",
       "      <td>True</td>\n",
       "      <td>'maybe'</td>\n",
       "    </tr>\n",
       "    <tr>\n",
       "      <th>5</th>\n",
       "      <td>0.1</td>\n",
       "      <td>1</td>\n",
       "      <td>False</td>\n",
       "      <td>'no'</td>\n",
       "      <td>0.1</td>\n",
       "      <td>1</td>\n",
       "      <td>False</td>\n",
       "      <td>'no'</td>\n",
       "    </tr>\n",
       "    <tr>\n",
       "      <th>6</th>\n",
       "      <td>0.1</td>\n",
       "      <td>1</td>\n",
       "      <td>False</td>\n",
       "      <td>'no'</td>\n",
       "      <td>0.1</td>\n",
       "      <td>1</td>\n",
       "      <td>False</td>\n",
       "      <td>'no'</td>\n",
       "    </tr>\n",
       "    <tr>\n",
       "      <th>7</th>\n",
       "      <td>0.1</td>\n",
       "      <td>1</td>\n",
       "      <td>True</td>\n",
       "      <td>'yes'</td>\n",
       "      <td>0.1</td>\n",
       "      <td>1</td>\n",
       "      <td>True</td>\n",
       "      <td>'yes'</td>\n",
       "    </tr>\n",
       "    <tr>\n",
       "      <th>8</th>\n",
       "      <td>0.1</td>\n",
       "      <td>1</td>\n",
       "      <td>True</td>\n",
       "      <td>'maybe'</td>\n",
       "      <td>0.1</td>\n",
       "      <td>1</td>\n",
       "      <td>True</td>\n",
       "      <td>'maybe'</td>\n",
       "    </tr>\n",
       "  </tbody>\n",
       "</table>\n",
       "</div>"
      ],
      "text/plain": [
       "   float_var_with_nulls  int_var_with_nulls  bool_var_with_nulls  \\\n",
       "0                   0.1                   1                 True   \n",
       "1                   NaN                   2                 True   \n",
       "2                   0.1                <NA>                 True   \n",
       "3                   0.1                   1                 <NA>   \n",
       "4                   0.1                   1                 True   \n",
       "5                   0.1                   1                False   \n",
       "6                   0.1                   1                False   \n",
       "7                   0.1                   1                 True   \n",
       "8                   0.1                   1                 True   \n",
       "\n",
       "  string_var_with_nulls  float_var_no_nulls  int_var_no_nulls  \\\n",
       "0               'maybe'                 0.1                 1   \n",
       "1                  'no'                 0.2                 2   \n",
       "2                 'yes'                 0.1                 3   \n",
       "3                 'yes'                 0.1                 1   \n",
       "4                   NaN                 0.1                 1   \n",
       "5                  'no'                 0.1                 1   \n",
       "6                  'no'                 0.1                 1   \n",
       "7                 'yes'                 0.1                 1   \n",
       "8               'maybe'                 0.1                 1   \n",
       "\n",
       "   bool_var_no_nulls string_var_no_nulls  \n",
       "0               True             'maybe'  \n",
       "1               True                'no'  \n",
       "2               True               'yes'  \n",
       "3              False               'yes'  \n",
       "4               True             'maybe'  \n",
       "5              False                'no'  \n",
       "6              False                'no'  \n",
       "7               True               'yes'  \n",
       "8               True             'maybe'  "
      ]
     },
     "execution_count": 11,
     "metadata": {},
     "output_type": "execute_result"
    }
   ],
   "source": [
    "df_test"
   ]
  },
  {
   "cell_type": "code",
   "execution_count": 12,
   "metadata": {},
   "outputs": [
    {
     "data": {
      "text/html": [
       "<div>\n",
       "<style scoped>\n",
       "    .dataframe tbody tr th:only-of-type {\n",
       "        vertical-align: middle;\n",
       "    }\n",
       "\n",
       "    .dataframe tbody tr th {\n",
       "        vertical-align: top;\n",
       "    }\n",
       "\n",
       "    .dataframe thead th {\n",
       "        text-align: right;\n",
       "    }\n",
       "</style>\n",
       "<table border=\"1\" class=\"dataframe\">\n",
       "  <thead>\n",
       "    <tr style=\"text-align: right;\">\n",
       "      <th></th>\n",
       "      <th>float_var_with_nulls</th>\n",
       "      <th>int_var_with_nulls</th>\n",
       "      <th>bool_var_with_nulls</th>\n",
       "      <th>string_var_with_nulls</th>\n",
       "      <th>float_var_no_nulls</th>\n",
       "      <th>int_var_no_nulls</th>\n",
       "      <th>bool_var_no_nulls</th>\n",
       "      <th>string_var_no_nulls</th>\n",
       "    </tr>\n",
       "  </thead>\n",
       "  <tbody>\n",
       "    <tr>\n",
       "      <th>0</th>\n",
       "      <td>False</td>\n",
       "      <td>False</td>\n",
       "      <td>False</td>\n",
       "      <td>False</td>\n",
       "      <td>False</td>\n",
       "      <td>False</td>\n",
       "      <td>False</td>\n",
       "      <td>False</td>\n",
       "    </tr>\n",
       "    <tr>\n",
       "      <th>1</th>\n",
       "      <td>True</td>\n",
       "      <td>False</td>\n",
       "      <td>False</td>\n",
       "      <td>False</td>\n",
       "      <td>False</td>\n",
       "      <td>False</td>\n",
       "      <td>False</td>\n",
       "      <td>False</td>\n",
       "    </tr>\n",
       "    <tr>\n",
       "      <th>2</th>\n",
       "      <td>False</td>\n",
       "      <td>True</td>\n",
       "      <td>False</td>\n",
       "      <td>False</td>\n",
       "      <td>False</td>\n",
       "      <td>False</td>\n",
       "      <td>False</td>\n",
       "      <td>False</td>\n",
       "    </tr>\n",
       "    <tr>\n",
       "      <th>3</th>\n",
       "      <td>False</td>\n",
       "      <td>False</td>\n",
       "      <td>True</td>\n",
       "      <td>False</td>\n",
       "      <td>False</td>\n",
       "      <td>False</td>\n",
       "      <td>False</td>\n",
       "      <td>False</td>\n",
       "    </tr>\n",
       "    <tr>\n",
       "      <th>4</th>\n",
       "      <td>False</td>\n",
       "      <td>False</td>\n",
       "      <td>False</td>\n",
       "      <td>True</td>\n",
       "      <td>False</td>\n",
       "      <td>False</td>\n",
       "      <td>False</td>\n",
       "      <td>False</td>\n",
       "    </tr>\n",
       "    <tr>\n",
       "      <th>5</th>\n",
       "      <td>False</td>\n",
       "      <td>False</td>\n",
       "      <td>False</td>\n",
       "      <td>False</td>\n",
       "      <td>False</td>\n",
       "      <td>False</td>\n",
       "      <td>False</td>\n",
       "      <td>False</td>\n",
       "    </tr>\n",
       "    <tr>\n",
       "      <th>6</th>\n",
       "      <td>False</td>\n",
       "      <td>False</td>\n",
       "      <td>False</td>\n",
       "      <td>False</td>\n",
       "      <td>False</td>\n",
       "      <td>False</td>\n",
       "      <td>False</td>\n",
       "      <td>False</td>\n",
       "    </tr>\n",
       "    <tr>\n",
       "      <th>7</th>\n",
       "      <td>False</td>\n",
       "      <td>False</td>\n",
       "      <td>False</td>\n",
       "      <td>False</td>\n",
       "      <td>False</td>\n",
       "      <td>False</td>\n",
       "      <td>False</td>\n",
       "      <td>False</td>\n",
       "    </tr>\n",
       "    <tr>\n",
       "      <th>8</th>\n",
       "      <td>False</td>\n",
       "      <td>False</td>\n",
       "      <td>False</td>\n",
       "      <td>False</td>\n",
       "      <td>False</td>\n",
       "      <td>False</td>\n",
       "      <td>False</td>\n",
       "      <td>False</td>\n",
       "    </tr>\n",
       "  </tbody>\n",
       "</table>\n",
       "</div>"
      ],
      "text/plain": [
       "   float_var_with_nulls  int_var_with_nulls  bool_var_with_nulls  \\\n",
       "0                 False               False                False   \n",
       "1                  True               False                False   \n",
       "2                 False                True                False   \n",
       "3                 False               False                 True   \n",
       "4                 False               False                False   \n",
       "5                 False               False                False   \n",
       "6                 False               False                False   \n",
       "7                 False               False                False   \n",
       "8                 False               False                False   \n",
       "\n",
       "   string_var_with_nulls  float_var_no_nulls  int_var_no_nulls  \\\n",
       "0                  False               False             False   \n",
       "1                  False               False             False   \n",
       "2                  False               False             False   \n",
       "3                  False               False             False   \n",
       "4                   True               False             False   \n",
       "5                  False               False             False   \n",
       "6                  False               False             False   \n",
       "7                  False               False             False   \n",
       "8                  False               False             False   \n",
       "\n",
       "   bool_var_no_nulls  string_var_no_nulls  \n",
       "0              False                False  \n",
       "1              False                False  \n",
       "2              False                False  \n",
       "3              False                False  \n",
       "4              False                False  \n",
       "5              False                False  \n",
       "6              False                False  \n",
       "7              False                False  \n",
       "8              False                False  "
      ]
     },
     "execution_count": 12,
     "metadata": {},
     "output_type": "execute_result"
    }
   ],
   "source": [
    "df_test.isna()"
   ]
  },
  {
   "cell_type": "code",
   "execution_count": 46,
   "metadata": {},
   "outputs": [
    {
     "data": {
      "text/plain": [
       "(['int_var_with_nulls', 'int_var_no_nulls'],\n",
       " ['float_var_with_nulls', 'float_var_no_nulls'],\n",
       " ['bool_var_with_nulls', 'bool_var_no_nulls'],\n",
       " ['string_var_with_nulls', 'string_var_no_nulls'])"
      ]
     },
     "execution_count": 46,
     "metadata": {},
     "output_type": "execute_result"
    }
   ],
   "source": [
    "bo._return_column_dtypes(df_test)"
   ]
  },
  {
   "cell_type": "code",
   "execution_count": 14,
   "metadata": {},
   "outputs": [],
   "source": [
    "df_test_no_force_dtype = pd.read_csv('X_dummy.csv')"
   ]
  },
  {
   "cell_type": "code",
   "execution_count": 15,
   "metadata": {},
   "outputs": [
    {
     "data": {
      "text/plain": [
       "float_var_with_nulls     float64\n",
       "int_var_with_nulls       float64\n",
       "bool_var_with_nulls       object\n",
       "string_var_with_nulls     object\n",
       "float_var_no_nulls       float64\n",
       "int_var_no_nulls           int64\n",
       "bool_var_no_nulls           bool\n",
       "string_var_no_nulls       object\n",
       "dtype: object"
      ]
     },
     "execution_count": 15,
     "metadata": {},
     "output_type": "execute_result"
    }
   ],
   "source": [
    "df_test_no_force_dtype.dtypes"
   ]
  },
  {
   "cell_type": "code",
   "execution_count": 17,
   "metadata": {},
   "outputs": [
    {
     "data": {
      "text/plain": [
       "False"
      ]
     },
     "execution_count": 17,
     "metadata": {},
     "output_type": "execute_result"
    }
   ],
   "source": [
    "pd.api.types.is_bool_dtype(df_test_no_force_dtype['bool_var_with_nulls'])"
   ]
  },
  {
   "cell_type": "code",
   "execution_count": 19,
   "metadata": {},
   "outputs": [
    {
     "data": {
      "text/plain": [
       "0     True\n",
       "1     True\n",
       "2     True\n",
       "3    False\n",
       "4     True\n",
       "5    False\n",
       "6    False\n",
       "7     True\n",
       "8     True\n",
       "Name: bool_var_with_nulls, dtype: bool"
      ]
     },
     "execution_count": 19,
     "metadata": {},
     "output_type": "execute_result"
    }
   ],
   "source": [
    "df_test_no_force_dtype['bool_var_with_nulls']==True"
   ]
  },
  {
   "cell_type": "code",
   "execution_count": 47,
   "metadata": {},
   "outputs": [
    {
     "data": {
      "text/plain": [
       "(['int_var_no_nulls', 'int_var_with_nulls'],\n",
       " ['float_var_with_nulls', 'float_var_no_nulls'],\n",
       " ['bool_var_no_nulls', 'bool_var_with_nulls'],\n",
       " ['string_var_with_nulls', 'string_var_no_nulls'])"
      ]
     },
     "execution_count": 47,
     "metadata": {},
     "output_type": "execute_result"
    }
   ],
   "source": [
    "bo._return_column_dtypes(df_test_no_force_dtype)"
   ]
  },
  {
   "cell_type": "code",
   "execution_count": 21,
   "metadata": {},
   "outputs": [
    {
     "data": {
      "text/html": [
       "<div>\n",
       "<style scoped>\n",
       "    .dataframe tbody tr th:only-of-type {\n",
       "        vertical-align: middle;\n",
       "    }\n",
       "\n",
       "    .dataframe tbody tr th {\n",
       "        vertical-align: top;\n",
       "    }\n",
       "\n",
       "    .dataframe thead th {\n",
       "        text-align: right;\n",
       "    }\n",
       "</style>\n",
       "<table border=\"1\" class=\"dataframe\">\n",
       "  <thead>\n",
       "    <tr style=\"text-align: right;\">\n",
       "      <th></th>\n",
       "      <th>bool_var_with_nulls</th>\n",
       "      <th>string_var_with_nulls</th>\n",
       "      <th>string_var_no_nulls</th>\n",
       "    </tr>\n",
       "  </thead>\n",
       "  <tbody>\n",
       "    <tr>\n",
       "      <th>0</th>\n",
       "      <td>True</td>\n",
       "      <td>'maybe'</td>\n",
       "      <td>'maybe'</td>\n",
       "    </tr>\n",
       "    <tr>\n",
       "      <th>1</th>\n",
       "      <td>True</td>\n",
       "      <td>'no'</td>\n",
       "      <td>'no'</td>\n",
       "    </tr>\n",
       "    <tr>\n",
       "      <th>2</th>\n",
       "      <td>True</td>\n",
       "      <td>'yes'</td>\n",
       "      <td>'yes'</td>\n",
       "    </tr>\n",
       "    <tr>\n",
       "      <th>3</th>\n",
       "      <td>NaN</td>\n",
       "      <td>'yes'</td>\n",
       "      <td>'yes'</td>\n",
       "    </tr>\n",
       "    <tr>\n",
       "      <th>4</th>\n",
       "      <td>True</td>\n",
       "      <td>NaN</td>\n",
       "      <td>'maybe'</td>\n",
       "    </tr>\n",
       "    <tr>\n",
       "      <th>5</th>\n",
       "      <td>False</td>\n",
       "      <td>'no'</td>\n",
       "      <td>'no'</td>\n",
       "    </tr>\n",
       "    <tr>\n",
       "      <th>6</th>\n",
       "      <td>False</td>\n",
       "      <td>'no'</td>\n",
       "      <td>'no'</td>\n",
       "    </tr>\n",
       "    <tr>\n",
       "      <th>7</th>\n",
       "      <td>True</td>\n",
       "      <td>'yes'</td>\n",
       "      <td>'yes'</td>\n",
       "    </tr>\n",
       "    <tr>\n",
       "      <th>8</th>\n",
       "      <td>True</td>\n",
       "      <td>'maybe'</td>\n",
       "      <td>'maybe'</td>\n",
       "    </tr>\n",
       "  </tbody>\n",
       "</table>\n",
       "</div>"
      ],
      "text/plain": [
       "  bool_var_with_nulls string_var_with_nulls string_var_no_nulls\n",
       "0                True               'maybe'             'maybe'\n",
       "1                True                  'no'                'no'\n",
       "2                True                 'yes'               'yes'\n",
       "3                 NaN                 'yes'               'yes'\n",
       "4                True                   NaN             'maybe'\n",
       "5               False                  'no'                'no'\n",
       "6               False                  'no'                'no'\n",
       "7                True                 'yes'               'yes'\n",
       "8                True               'maybe'             'maybe'"
      ]
     },
     "execution_count": 21,
     "metadata": {},
     "output_type": "execute_result"
    }
   ],
   "source": [
    "df_test_no_force_dtype.select_dtypes(include='object')"
   ]
  },
  {
   "cell_type": "code",
   "execution_count": 22,
   "metadata": {},
   "outputs": [
    {
     "data": {
      "text/plain": [
       "True"
      ]
     },
     "execution_count": 22,
     "metadata": {},
     "output_type": "execute_result"
    }
   ],
   "source": [
    "pd.api.types.is_bool_dtype(df_test_no_force_dtype['bool_var_with_nulls'].fillna(False))"
   ]
  },
  {
   "cell_type": "code",
   "execution_count": 23,
   "metadata": {},
   "outputs": [
    {
     "data": {
      "text/plain": [
       "False"
      ]
     },
     "execution_count": 23,
     "metadata": {},
     "output_type": "execute_result"
    }
   ],
   "source": [
    "pd.api.types.is_bool_dtype(df_test_no_force_dtype['string_var_with_nulls'].fillna(False))"
   ]
  },
  {
   "cell_type": "code",
   "execution_count": 24,
   "metadata": {},
   "outputs": [
    {
     "data": {
      "text/plain": [
       "False"
      ]
     },
     "execution_count": 24,
     "metadata": {},
     "output_type": "execute_result"
    }
   ],
   "source": [
    "pd.api.types.is_bool_dtype(df_test_no_force_dtype['string_var_with_nulls'].fillna(False))"
   ]
  },
  {
   "cell_type": "code",
   "execution_count": 25,
   "metadata": {},
   "outputs": [
    {
     "data": {
      "text/plain": [
       "float_var_with_nulls     float64\n",
       "int_var_with_nulls         Int64\n",
       "bool_var_with_nulls      boolean\n",
       "string_var_with_nulls     object\n",
       "float_var_no_nulls       float64\n",
       "int_var_no_nulls           int64\n",
       "bool_var_no_nulls           bool\n",
       "string_var_no_nulls       object\n",
       "dtype: object"
      ]
     },
     "execution_count": 25,
     "metadata": {},
     "output_type": "execute_result"
    }
   ],
   "source": [
    "df_test.dtypes"
   ]
  },
  {
   "cell_type": "code",
   "execution_count": 36,
   "metadata": {},
   "outputs": [],
   "source": [
    "from argo_utils.argo_utils import return_columns_types"
   ]
  },
  {
   "cell_type": "code",
   "execution_count": 37,
   "metadata": {},
   "outputs": [],
   "source": [
    "# X.select_dtypes(include=np.number)"
   ]
  },
  {
   "cell_type": "code",
   "execution_count": 38,
   "metadata": {},
   "outputs": [],
   "source": [
    "# X.select_dtypes(include=[np.number, bool])"
   ]
  },
  {
   "cell_type": "code",
   "execution_count": 39,
   "metadata": {},
   "outputs": [],
   "source": [
    "# return_columns_types(X.select_dtypes(include=[np.number, bool]))"
   ]
  },
  {
   "cell_type": "code",
   "execution_count": 40,
   "metadata": {},
   "outputs": [],
   "source": [
    "arr = pd.array([1, 2, None], dtype=pd.Int64Dtype())"
   ]
  },
  {
   "cell_type": "code",
   "execution_count": 41,
   "metadata": {},
   "outputs": [],
   "source": [
    "df = pd.DataFrame(arr)"
   ]
  },
  {
   "cell_type": "code",
   "execution_count": 42,
   "metadata": {},
   "outputs": [
    {
     "data": {
      "text/plain": [
       "0    Int64\n",
       "dtype: object"
      ]
     },
     "execution_count": 42,
     "metadata": {},
     "output_type": "execute_result"
    }
   ],
   "source": [
    "df.dtypes"
   ]
  },
  {
   "cell_type": "code",
   "execution_count": 43,
   "metadata": {},
   "outputs": [
    {
     "data": {
      "text/plain": [
       "array([1, 2, nan], dtype=object)"
      ]
     },
     "execution_count": 43,
     "metadata": {},
     "output_type": "execute_result"
    }
   ],
   "source": [
    "df.to_numpy(na_value=np.nan)[:,0]"
   ]
  },
  {
   "cell_type": "code",
   "execution_count": 44,
   "metadata": {},
   "outputs": [
    {
     "data": {
      "text/plain": [
       "array([1, 2, <NA>], dtype=object)"
      ]
     },
     "execution_count": 44,
     "metadata": {},
     "output_type": "execute_result"
    }
   ],
   "source": [
    "df.values[:,0]"
   ]
  },
  {
   "cell_type": "code",
   "execution_count": 45,
   "metadata": {},
   "outputs": [
    {
     "data": {
      "text/plain": [
       "0     True\n",
       "1    False\n",
       "2      NaN\n",
       "dtype: object"
      ]
     },
     "execution_count": 45,
     "metadata": {},
     "output_type": "execute_result"
    }
   ],
   "source": [
    "pd.Series([True, False, np.nan])"
   ]
  },
  {
   "cell_type": "code",
   "execution_count": null,
   "metadata": {},
   "outputs": [],
   "source": []
  }
 ],
 "metadata": {
  "kernelspec": {
   "display_name": "argo",
   "language": "python",
   "name": "argo"
  },
  "language_info": {
   "codemirror_mode": {
    "name": "ipython",
    "version": 3
   },
   "file_extension": ".py",
   "mimetype": "text/x-python",
   "name": "python",
   "nbconvert_exporter": "python",
   "pygments_lexer": "ipython3",
   "version": "3.7.3"
  }
 },
 "nbformat": 4,
 "nbformat_minor": 4
}
