{
 "cells": [
  {
   "cell_type": "code",
   "execution_count": 9,
   "metadata": {},
   "outputs": [
    {
     "name": "stdout",
     "output_type": "stream",
     "text": [
      "The autoreload extension is already loaded. To reload it, use:\n",
      "  %reload_ext autoreload\n"
     ]
    }
   ],
   "source": [
    "%load_ext autoreload\n",
    "%autoreload 2"
   ]
  },
  {
   "cell_type": "markdown",
   "metadata": {},
   "source": [
    "# Rule Optimiser Example"
   ]
  },
  {
   "cell_type": "markdown",
   "metadata": {},
   "source": [
    "This notebook contains an example of how the Rule Optimiser module can be used to optimise the thresholds of an existing set of rules, given a labelled dataset."
   ]
  },
  {
   "cell_type": "markdown",
   "metadata": {},
   "source": [
    "## Requirements"
   ]
  },
  {
   "cell_type": "markdown",
   "metadata": {},
   "source": [
    "To run, you'll need the following:\n",
    "* Install the Rule Optimisation package - see the readme for more information.\n",
    "* A rule set stored in the standard ARGO lambda expression format, along with the keyword arguments for each lambda expression (more information on how to do this later)\n",
    "* A labelled dataset containing the features present in the rule set."
   ]
  },
  {
   "cell_type": "markdown",
   "metadata": {},
   "source": [
    "----"
   ]
  },
  {
   "cell_type": "markdown",
   "metadata": {},
   "source": [
    "## Import packages"
   ]
  },
  {
   "cell_type": "code",
   "execution_count": 10,
   "metadata": {},
   "outputs": [],
   "source": [
    "from rule_optimisation.rule_optimiser import RuleOptimiser\n",
    "from simility_requests.rule_requests import ReturnRuleConditionsFromSimility, ReturnRuleConfigsFromSimility, CreateRulesInSimility, UpdateRulesInSimility\n",
    "from rules.rules import Rules\n",
    "from simility_apis.set_password import set_password\n",
    "from rule_optimisation.optimisation_functions import FScore\n",
    "from rule_application.argo_rule_applier import ArgoRuleApplier\n",
    "\n",
    "import pandas as pd\n",
    "import numpy as np\n",
    "from sklearn.model_selection import train_test_split"
   ]
  },
  {
   "cell_type": "markdown",
   "metadata": {},
   "source": [
    "## Read in data"
   ]
  },
  {
   "cell_type": "markdown",
   "metadata": {},
   "source": [
    "Firstly, we need to read in the raw data containing the features and the fraud label:"
   ]
  },
  {
   "cell_type": "code",
   "execution_count": 11,
   "metadata": {},
   "outputs": [],
   "source": [
    "data = pd.read_csv('../../examples/dummy_data/dummy_pipeline_output_data.csv', index_col='eid')"
   ]
  },
  {
   "cell_type": "markdown",
   "metadata": {},
   "source": [
    "Then we need to split out the dataset into the features (*X*) and the target column (*y*):"
   ]
  },
  {
   "cell_type": "code",
   "execution_count": 12,
   "metadata": {},
   "outputs": [],
   "source": [
    "fraud_column = 'sim_is_fraud'\n",
    "X = data.drop(fraud_column, axis=1)\n",
    "y = data[fraud_column]"
   ]
  },
  {
   "cell_type": "markdown",
   "metadata": {},
   "source": [
    "Finally, we can split the features and target column into training and test sets:"
   ]
  },
  {
   "cell_type": "code",
   "execution_count": 13,
   "metadata": {},
   "outputs": [],
   "source": [
    "X_train, X_test, y_train, y_test = train_test_split(X, y, test_size=0.33, random_state=0)"
   ]
  },
  {
   "cell_type": "markdown",
   "metadata": {},
   "source": [
    "# Rule Optimisation <a name=\"RuleOptimisation\"></a>"
   ]
  },
  {
   "cell_type": "markdown",
   "metadata": {},
   "source": [
    "Now we can optimise rules which currently reside in the Simility environment. This process involves the following steps:\n",
    "\n",
    "1. Fetch the system rule conditions from the Simility environment.\n",
    "2. Convert these conditions into an ARGO-readable format.\n",
    "3. Optimise the thresholds of these rules.\n",
    "4. Apply the optimised rules to the dataset.\n",
    "5. Get the binary columns for the un-optimised rules"
   ]
  },
  {
   "cell_type": "markdown",
   "metadata": {},
   "source": [
    "## 1. Fetch the rule conditions from the Simility environment"
   ]
  },
  {
   "cell_type": "markdown",
   "metadata": {},
   "source": [
    "To pull the system rule conditions, we'll use the *return_rule_conditions_from_simility* module in the *simility_requests* sub-package:"
   ]
  },
  {
   "cell_type": "code",
   "execution_count": 14,
   "metadata": {},
   "outputs": [
    {
     "name": "stdin",
     "output_type": "stream",
     "text": [
      "Please provide your password for logging into the Simility platform:  ·········\n"
     ]
    }
   ],
   "source": [
    "set_password()"
   ]
  },
  {
   "cell_type": "code",
   "execution_count": 17,
   "metadata": {},
   "outputs": [],
   "source": [
    "rrc = ReturnRuleConditionsFromSimility(url='http://sim-ds.us-central1.gcp.dev.paypalinc.com',\n",
    "                                       app_prefix='james_testing',\n",
    "                                       user='james@simility.com',\n",
    "                                       entity='transaction',\n",
    "                                       keep_active_only=True)"
   ]
  },
  {
   "cell_type": "code",
   "execution_count": 18,
   "metadata": {},
   "outputs": [],
   "source": [
    "orig_sys_conditions = rrc.request()"
   ]
  },
  {
   "cell_type": "markdown",
   "metadata": {},
   "source": [
    "### Outputs"
   ]
  },
  {
   "cell_type": "markdown",
   "metadata": {},
   "source": [
    "The *.request()* method returns a dictionary of the system rule names (keys) and their conditions (values)."
   ]
  },
  {
   "cell_type": "code",
   "execution_count": 19,
   "metadata": {},
   "outputs": [
    {
     "data": {
      "text/plain": [
       "{'condition': 'AND',\n",
       " 'rules': [{'id': 'num_order_items',\n",
       "   'field': 'num_order_items',\n",
       "   'type': 'integer',\n",
       "   'operator': 'greater',\n",
       "   'value': 'value.5',\n",
       "   'data': {}},\n",
       "  {'condition': 'OR',\n",
       "   'rules': [{'condition': 'AND',\n",
       "     'rules': [{'id': 'order_total',\n",
       "       'field': 'order_total',\n",
       "       'type': 'double',\n",
       "       'operator': 'greater',\n",
       "       'value': 'value.1000'},\n",
       "      {'id': 'is_existing_user',\n",
       "       'field': 'is_existing_user',\n",
       "       'type': 'boolean',\n",
       "       'input': 'radio',\n",
       "       'operator': 'equal',\n",
       "       'value': '1'}]},\n",
       "    {'condition': 'AND',\n",
       "     'rules': [{'id': 'order_total',\n",
       "       'field': 'order_total',\n",
       "       'type': 'double',\n",
       "       'operator': 'greater',\n",
       "       'value': 'value.500'},\n",
       "      {'id': 'is_existing_user',\n",
       "       'field': 'is_existing_user',\n",
       "       'type': 'boolean',\n",
       "       'input': 'radio',\n",
       "       'operator': 'equal',\n",
       "       'value': '0'}]},\n",
       "    {'condition': 'OR',\n",
       "     'rules': [{'id': 'billing_city',\n",
       "       'field': 'billing_city',\n",
       "       'type': 'string',\n",
       "       'operator': 'begins_with',\n",
       "       'value': 'value.B'}]}],\n",
       "   'data': {}}]}"
      ]
     },
     "execution_count": 19,
     "metadata": {},
     "output_type": "execute_result"
    }
   ],
   "source": [
    "orig_sys_conditions['ComplicatedRule']"
   ]
  },
  {
   "cell_type": "markdown",
   "metadata": {},
   "source": [
    "## 2. Convert rule conditions into an ARGO-readable format"
   ]
  },
  {
   "cell_type": "markdown",
   "metadata": {},
   "source": [
    "Now that we have the system rule conditions, we need to convert them to an ARGO-readable format. To do this, we'll use the *rules* module - this module allows us to define a set of rules using a given format, then convert this rule set to a difference format. In this case, we'll be converting from the system-ready format to the standard ARGO lambda expression format.\n",
    "\n",
    "The standard ARGO lambda expression format allows new values to be injected into the condition string of a rule. This means that the rule's performance can be evaluated with new values (which is used in the Rule Optimisation step)."
   ]
  },
  {
   "cell_type": "code",
   "execution_count": 20,
   "metadata": {},
   "outputs": [],
   "source": [
    "system_rules = Rules(system_dicts=orig_sys_conditions)"
   ]
  },
  {
   "cell_type": "code",
   "execution_count": 21,
   "metadata": {},
   "outputs": [
    {
     "name": "stderr",
     "output_type": "stream",
     "text": [
      "/Users/jlaidler/Documents/tigress/tigress/argo/argo/rules/rules/convert_system_dicts_to_rule_dicts.py:74: UserWarning: JavaEL : Operator `java_el` is not currently supported in ARGO. Rule cannot be parsed.\n",
      "  warnings.warn(f'{rule_name} : {e}')\n"
     ]
    }
   ],
   "source": [
    "system_lambdas = system_rules.as_rule_lambdas(as_numpy=False, with_kwargs=True)"
   ]
  },
  {
   "cell_type": "code",
   "execution_count": 22,
   "metadata": {},
   "outputs": [
    {
     "data": {
      "text/plain": [
       "{'RGDT_Rule137': <function rules.convert_rule_dicts_to_rule_strings.ConvertRuleDictsToRuleStrings._convert_to_lambda.<locals>._make_lambda.<locals>.<lambda>(**kwargs)>,\n",
       " 'CreateRuleTest2': <function rules.convert_rule_dicts_to_rule_strings.ConvertRuleDictsToRuleStrings._convert_to_lambda.<locals>._make_lambda.<locals>.<lambda>(**kwargs)>,\n",
       " 'RGDT_Rule81': <function rules.convert_rule_dicts_to_rule_strings.ConvertRuleDictsToRuleStrings._convert_to_lambda.<locals>._make_lambda.<locals>.<lambda>(**kwargs)>,\n",
       " 'HighFraudTxnPerAccountNum': <function rules.convert_rule_dicts_to_rule_strings.ConvertRuleDictsToRuleStrings._convert_to_lambda.<locals>._make_lambda.<locals>.<lambda>(**kwargs)>,\n",
       " 'RGDT_Rule256': <function rules.convert_rule_dicts_to_rule_strings.ConvertRuleDictsToRuleStrings._convert_to_lambda.<locals>._make_lambda.<locals>.<lambda>(**kwargs)>,\n",
       " 'RGDT_Rule35': <function rules.convert_rule_dicts_to_rule_strings.ConvertRuleDictsToRuleStrings._convert_to_lambda.<locals>._make_lambda.<locals>.<lambda>(**kwargs)>,\n",
       " 'RGDT_Rule193': <function rules.convert_rule_dicts_to_rule_strings.ConvertRuleDictsToRuleStrings._convert_to_lambda.<locals>._make_lambda.<locals>.<lambda>(**kwargs)>,\n",
       " 'RGDT_Rule241': <function rules.convert_rule_dicts_to_rule_strings.ConvertRuleDictsToRuleStrings._convert_to_lambda.<locals>._make_lambda.<locals>.<lambda>(**kwargs)>,\n",
       " 'RGDT_Rule263': <function rules.convert_rule_dicts_to_rule_strings.ConvertRuleDictsToRuleStrings._convert_to_lambda.<locals>._make_lambda.<locals>.<lambda>(**kwargs)>,\n",
       " 'RGDT_Rule313': <function rules.convert_rule_dicts_to_rule_strings.ConvertRuleDictsToRuleStrings._convert_to_lambda.<locals>._make_lambda.<locals>.<lambda>(**kwargs)>,\n",
       " 'RGDT_Rule195': <function rules.convert_rule_dicts_to_rule_strings.ConvertRuleDictsToRuleStrings._convert_to_lambda.<locals>._make_lambda.<locals>.<lambda>(**kwargs)>,\n",
       " 'RGDT_Rule153': <function rules.convert_rule_dicts_to_rule_strings.ConvertRuleDictsToRuleStrings._convert_to_lambda.<locals>._make_lambda.<locals>.<lambda>(**kwargs)>,\n",
       " 'RGDT_Rule112': <function rules.convert_rule_dicts_to_rule_strings.ConvertRuleDictsToRuleStrings._convert_to_lambda.<locals>._make_lambda.<locals>.<lambda>(**kwargs)>,\n",
       " 'RGDT_Rule2': <function rules.convert_rule_dicts_to_rule_strings.ConvertRuleDictsToRuleStrings._convert_to_lambda.<locals>._make_lambda.<locals>.<lambda>(**kwargs)>,\n",
       " 'RGDT_Rule65': <function rules.convert_rule_dicts_to_rule_strings.ConvertRuleDictsToRuleStrings._convert_to_lambda.<locals>._make_lambda.<locals>.<lambda>(**kwargs)>,\n",
       " 'RGDT_Rule45': <function rules.convert_rule_dicts_to_rule_strings.ConvertRuleDictsToRuleStrings._convert_to_lambda.<locals>._make_lambda.<locals>.<lambda>(**kwargs)>,\n",
       " 'RGDT_Rule162': <function rules.convert_rule_dicts_to_rule_strings.ConvertRuleDictsToRuleStrings._convert_to_lambda.<locals>._make_lambda.<locals>.<lambda>(**kwargs)>,\n",
       " 'RGDT_Rule272': <function rules.convert_rule_dicts_to_rule_strings.ConvertRuleDictsToRuleStrings._convert_to_lambda.<locals>._make_lambda.<locals>.<lambda>(**kwargs)>,\n",
       " 'RGDT_Rule24': <function rules.convert_rule_dicts_to_rule_strings.ConvertRuleDictsToRuleStrings._convert_to_lambda.<locals>._make_lambda.<locals>.<lambda>(**kwargs)>,\n",
       " 'ComplicatedRule': <function rules.convert_rule_dicts_to_rule_strings.ConvertRuleDictsToRuleStrings._convert_to_lambda.<locals>._make_lambda.<locals>.<lambda>(**kwargs)>}"
      ]
     },
     "execution_count": 22,
     "metadata": {},
     "output_type": "execute_result"
    }
   ],
   "source": [
    "system_lambdas"
   ]
  },
  {
   "cell_type": "markdown",
   "metadata": {},
   "source": [
    "**Note that there was one rule that could not be converted into the standard ARGO lambda expression format, as it contains an unsupported operator. The list of rule names that could not be converted are stored in the class attribute *unparsed_rules*.**"
   ]
  },
  {
   "cell_type": "markdown",
   "metadata": {},
   "source": [
    "### Outputs"
   ]
  },
  {
   "cell_type": "markdown",
   "metadata": {},
   "source": [
    "The *.as_rule_lambdas()* method returns a dictionary of the set of rules defined using the standard ARGO lambda expression format (values) and their names (keys). It also saves this dictionary as the class attribute *rule_lambdas*.\n",
    "\n",
    "Three useful attributes created by running the *.as_rule_lambdas()* method are:\n",
    "- lambda_kwargs (dict): For each rule (keys), a dictionary containing the features used in the rule (keys) and the current values (values). **Only populates when .as_rule_lambdas() is used with the keyword argument with_kwargs=True.**\n",
    "- lambda_args (dict): For each rule (keys), a list containing the current values used in the rule. **Only populates when .as_rule_lambdas() is used with the keyword argument with_kwargs=False.**\n",
    "- rule_features (dict): For each rule (keys), a list containing the features used in the rule. **Only populates when .as_rule_lambdas() is used with the keyword argument with_kwargs=False.**\n",
    "- unparsed_rules (list): List of rules which could not be parsed to an ARGO-ready format (due to unsupported operators)."
   ]
  },
  {
   "cell_type": "markdown",
   "metadata": {},
   "source": [
    "## 3. Run the Rule Optimiser on the rules"
   ]
  },
  {
   "cell_type": "markdown",
   "metadata": {},
   "source": [
    "Now that we have the system rules stored in the standard ARGO lambda expression format, we can feed these into the Rule Optimiser to optimise their thresholds:"
   ]
  },
  {
   "cell_type": "code",
   "execution_count": 23,
   "metadata": {},
   "outputs": [],
   "source": [
    "f1 = FScore(beta=1)"
   ]
  },
  {
   "cell_type": "code",
   "execution_count": 26,
   "metadata": {},
   "outputs": [],
   "source": [
    "system_opt = RuleOptimiser(rule_lambdas=system_rules.rule_lambdas,\n",
    "                           lambda_kwargs=system_rules.lambda_kwargs,\n",
    "                           opt_func=f1.fit,\n",
    "                           n_iter=30)"
   ]
  },
  {
   "cell_type": "markdown",
   "metadata": {},
   "source": [
    "**Note that for the feature set, we use the original, raw dataset - this is so the rules are applied to the same data as in the Simility system (e.g. if the rule conditions check for nulls, we need to have nulls present in the dataset):**"
   ]
  },
  {
   "cell_type": "code",
   "execution_count": 27,
   "metadata": {},
   "outputs": [
    {
     "name": "stdout",
     "output_type": "stream",
     "text": [
      "100%|██████████| 30/30 [00:00<00:00, 101.78trial/s, best loss: -0.9665271966527197] \n",
      "100%|██████████| 30/30 [00:00<00:00, 194.06trial/s, best loss: -0.39690721649484534]\n",
      "100%|██████████| 30/30 [00:00<00:00, 97.98trial/s, best loss: -0.765]              \n",
      "100%|██████████| 30/30 [00:00<00:00, 216.70trial/s, best loss: -0.9959349593495934]\n",
      "100%|██████████| 30/30 [00:00<00:00, 151.56trial/s, best loss: -0.5373134328358209]\n",
      "100%|██████████| 30/30 [00:00<00:00, 117.94trial/s, best loss: -0.3836477987421383] \n",
      "100%|██████████| 30/30 [00:00<00:00, 154.63trial/s, best loss: -0.3389830508474576]\n",
      "100%|██████████| 30/30 [00:00<00:00, 93.39trial/s, best loss: -0.032128514056224904] \n",
      "100%|██████████| 30/30 [00:00<00:00, 91.27trial/s, best loss: -0.7197943444730077] \n",
      "100%|██████████| 30/30 [00:00<00:00, 123.56trial/s, best loss: -0.1879194630872483] \n",
      "100%|██████████| 30/30 [00:00<00:00, 103.57trial/s, best loss: -0.9740518962075848]\n",
      "100%|██████████| 30/30 [00:00<00:00, 64.44trial/s, best loss: -0.367816091954023]  \n",
      "100%|██████████| 30/30 [00:00<00:00, 101.27trial/s, best loss: -0.9798387096774194] \n",
      "100%|██████████| 30/30 [00:00<00:00, 112.05trial/s, best loss: -0.40645161290322573]\n",
      "100%|██████████| 30/30 [00:00<00:00, 124.97trial/s, best loss: -0.3032258064516129]  \n",
      "100%|██████████| 30/30 [00:00<00:00, 105.76trial/s, best loss: -0.2926829268292683]\n",
      "100%|██████████| 30/30 [00:00<00:00, 127.78trial/s, best loss: -0.4954128440366973] \n",
      "100%|██████████| 30/30 [00:00<00:00, 104.34trial/s, best loss: -0.9798387096774194] \n",
      "100%|██████████| 30/30 [00:00<00:00, 102.58trial/s, best loss: -0.7722772277227724]\n",
      "100%|██████████| 30/30 [00:00<00:00, 84.37trial/s, best loss: -0.3197586726998492]  \n"
     ]
    }
   ],
   "source": [
    "opt_rule_strings = system_opt.fit(X=X_train,\n",
    "                                  y=y_train)"
   ]
  },
  {
   "cell_type": "code",
   "execution_count": 28,
   "metadata": {},
   "outputs": [
    {
     "data": {
      "image/png": "[encoded data removed]",
      "text/plain": [
       "<Figure size 1440x720 with 1 Axes>"
      ]
     },
     "metadata": {
      "needs_background": "light"
     },
     "output_type": "display_data"
    }
   ],
   "source": [
    "system_opt.plot_performance_uplift(orig_rule_performances=system_opt.orig_rule_performances, \n",
    "                                   opt_rule_performances=system_opt.opt_rule_performances)"
   ]
  },
  {
   "cell_type": "code",
   "execution_count": 29,
   "metadata": {},
   "outputs": [
    {
     "data": {
      "image/png": "[encoded data removed]",
      "text/plain": [
       "<Figure size 576x720 with 1 Axes>"
      ]
     },
     "metadata": {
      "needs_background": "light"
     },
     "output_type": "display_data"
    }
   ],
   "source": [
    "system_opt.plot_performance_uplift_distribution(orig_rule_performances=system_opt.orig_rule_performances, \n",
    "                                               opt_rule_performances=system_opt.opt_rule_performances)"
   ]
  },
  {
   "cell_type": "markdown",
   "metadata": {},
   "source": [
    "## Outputs"
   ]
  },
  {
   "cell_type": "markdown",
   "metadata": {},
   "source": [
    "The *.fit()* method returns a dictionary of optimised rules stored in the standard ARGO string format (values) and their names (keys)\n",
    "\n",
    "Useful attributes created by running the *.fit()* method are:\n",
    "* opt_rule_performances (dict): The optimisation metric (values) calculated for each optimised rule (keys).\n",
    "* orig_rule_performances (dict): The optimisation metric (values) calculated for each original rule (keys).\n",
    "* rules (object): Class containing the optimised rules stored in the standard ARGO string format. Methods from this class can be used to convert the rules into the standard ARGO dictionary or lambda expression representations. See the *rules* module for more information."
   ]
  },
  {
   "cell_type": "code",
   "execution_count": 30,
   "metadata": {},
   "outputs": [
    {
     "data": {
      "text/plain": [
       "{'RGDT_Rule137': \"((X['account_number_avg_order_total_per_account_number_7day']<=1980.9589551284853)|(X['account_number_avg_order_total_per_account_number_7day'].isna()))&(X['account_number_num_fraud_transactions_per_account_number_1day']>=1)&(X['account_number_num_fraud_transactions_per_account_number_90day']>=1)&((X['account_number_sum_order_total_per_account_number_1day']<=1428.4957963964864)|(X['account_number_sum_order_total_per_account_number_1day'].isna()))\",\n",
       " 'CreateRuleTest2': \"(X['order_total']>=621.0956418583902)\",\n",
       " 'RGDT_Rule81': \"(X['account_number_avg_order_total_per_account_number_1day']>180.4121799788064)&(X['account_number_num_fraud_transactions_per_account_number_lifetime']>=1)&((X['account_number_num_order_items_per_account_number_30day']<=13)|(X['account_number_num_order_items_per_account_number_30day'].isna()))&((X['account_number_sum_order_total_per_account_number_1day']<=2256.132531934174)|(X['account_number_sum_order_total_per_account_number_1day'].isna()))\",\n",
       " 'HighFraudTxnPerAccountNum': \"(X['account_number_num_fraud_transactions_per_account_number_1day']>=1.0)\",\n",
       " 'RGDT_Rule256': \"(X['account_number_num_fraud_transactions_per_account_number_1day']>=1)&((X['account_number_sum_order_total_per_account_number_90day']<=2401.0472870173962)|(X['account_number_sum_order_total_per_account_number_90day'].isna()))&(X['is_billing_shipping_city_same']==False)\",\n",
       " 'RGDT_Rule35': \"(X['account_number_num_fraud_transactions_per_account_number_7day']>=0)&(X['account_number_num_fraud_transactions_per_account_number_lifetime']>=1)&((X['account_number_num_order_items_per_account_number_lifetime']<=9)|(X['account_number_num_order_items_per_account_number_lifetime'].isna()))&(X['is_existing_user']==True)\",\n",
       " 'RGDT_Rule193': \"(X['account_number_num_distinct_transaction_per_account_number_30day']>=2.0)&(X['account_number_num_fraud_transactions_per_account_number_lifetime']>=2.0)\",\n",
       " 'RGDT_Rule241': \"(X['account_number_avg_order_total_per_account_number_90day']>153.949)&(X['account_number_num_fraud_transactions_per_account_number_1day']>=1.0)&((X['account_number_sum_order_total_per_account_number_1day']<=623.10999)|(X['account_number_sum_order_total_per_account_number_1day'].isna()))&(X['account_number_sum_order_total_per_account_number_30day']>329.12)\",\n",
       " 'RGDT_Rule263': \"(X['account_number_num_fraud_transactions_per_account_number_30day']>=1)&((X['account_number_sum_order_total_per_account_number_1day']<=1207.4733236183067)|(X['account_number_sum_order_total_per_account_number_1day'].isna()))&(X['account_number_sum_order_total_per_account_number_7day']>204.2462231976666)&((X['account_number_sum_order_total_per_account_number_90day']<=1865.0658585195677)|(X['account_number_sum_order_total_per_account_number_90day'].isna()))\",\n",
       " 'RGDT_Rule313': \"(X['account_number_num_fraud_transactions_per_account_number_1day']>=1.0)&(X['account_number_sum_order_total_per_account_number_30day']>957.84998)&(X['account_number_sum_order_total_per_account_number_90day']>622.19)&(X['is_existing_user']==True)\",\n",
       " 'RGDT_Rule195': \"(X['account_number_num_fraud_transactions_per_account_number_1day']>=0)&(X['account_number_num_fraud_transactions_per_account_number_30day']>=0)&(X['account_number_num_fraud_transactions_per_account_number_lifetime']>=1)&(X['account_number_num_order_items_per_account_number_7day']>=0)\",\n",
       " 'RGDT_Rule153': \"(X['account_number_avg_order_total_per_account_number_90day']>472.76628307476096)&(X['account_number_num_fraud_transactions_per_account_number_1day']>=0)&(X['account_number_num_order_items_per_account_number_lifetime']>=2)&((X['order_total']<=1537.7963117579684)|(X['order_total'].isna()))\",\n",
       " 'RGDT_Rule112': \"(X['account_number_num_distinct_transaction_per_account_number_90day']>=1)&(X['account_number_num_fraud_transactions_per_account_number_30day']>=1)&(X['account_number_num_fraud_transactions_per_account_number_lifetime']>=1)&((X['account_number_num_order_items_per_account_number_90day']<=13)|(X['account_number_num_order_items_per_account_number_90day'].isna()))\",\n",
       " 'RGDT_Rule2': \"((X['account_number_num_distinct_transaction_per_account_number_1day']<=8)|(X['account_number_num_distinct_transaction_per_account_number_1day'].isna()))&(X['account_number_num_fraud_transactions_per_account_number_7day']>=1)&((X['account_number_num_fraud_transactions_per_account_number_lifetime']<=6)|(X['account_number_num_fraud_transactions_per_account_number_lifetime'].isna()))&(X['is_existing_user']==True)\",\n",
       " 'RGDT_Rule65': \"(X['account_number_num_fraud_transactions_per_account_number_1day']>=0)&((X['account_number_sum_order_total_per_account_number_1day']<=1616.257853809209)|(X['account_number_sum_order_total_per_account_number_1day'].isna()))&(X['account_number_sum_order_total_per_account_number_30day']>565.4798018341841)&(X['is_billing_shipping_city_same']==False)\",\n",
       " 'RGDT_Rule45': \"((X['account_number_avg_order_total_per_account_number_1day']<=1561.8965582295737)|(X['account_number_avg_order_total_per_account_number_1day'].isna()))&(X['account_number_num_fraud_transactions_per_account_number_90day']>=2)&(X['account_number_num_fraud_transactions_per_account_number_lifetime']>=1)&(X['account_number_sum_order_total_per_account_number_90day']>2.6371929553035898)\",\n",
       " 'RGDT_Rule162': \"(X['account_number_num_fraud_transactions_per_account_number_90day']>=1)&(X['num_order_items']>=1)&(X['order_total']>611.5506555826788)\",\n",
       " 'RGDT_Rule272': \"((X['account_number_avg_order_total_per_account_number_90day']<=1440.785560491801)|(X['account_number_avg_order_total_per_account_number_90day'].isna()))&(X['account_number_num_distinct_transaction_per_account_number_30day']>=1)&(X['account_number_num_fraud_transactions_per_account_number_30day']>=1)&(X['account_number_num_fraud_transactions_per_account_number_lifetime']>=1)\",\n",
       " 'RGDT_Rule24': \"(X['account_number_avg_order_total_per_account_number_90day']>180.4121799788064)&(X['account_number_num_fraud_transactions_per_account_number_lifetime']>=1)&((X['account_number_num_order_items_per_account_number_lifetime']<=13)|(X['account_number_num_order_items_per_account_number_lifetime'].isna()))&((X['account_number_sum_order_total_per_account_number_7day']<=2256.132531934174)|(X['account_number_sum_order_total_per_account_number_7day'].isna()))\",\n",
       " 'ComplicatedRule': \"(X['num_order_items']>1)&(((X['order_total']>944.1083735769027)&(X['is_existing_user']==True))|((X['order_total']>358.07180606648365)&(X['is_existing_user']==False))|((X['billing_city'].str.startswith('B', na=False))))\"}"
      ]
     },
     "execution_count": 30,
     "metadata": {},
     "output_type": "execute_result"
    }
   ],
   "source": [
    "opt_rule_strings"
   ]
  },
  {
   "cell_type": "markdown",
   "metadata": {},
   "source": [
    "----"
   ]
  },
  {
   "cell_type": "markdown",
   "metadata": {},
   "source": [
    "# Apply rules to a separate dataset"
   ]
  },
  {
   "cell_type": "markdown",
   "metadata": {},
   "source": [
    "Use the *.apply()* method to apply the optimised rules to a separate dataset:"
   ]
  },
  {
   "cell_type": "code",
   "execution_count": 31,
   "metadata": {},
   "outputs": [],
   "source": [
    "X_rules_applied = system_opt.apply(X=X_test, y=y_test, sample_weight=None)"
   ]
  },
  {
   "cell_type": "markdown",
   "metadata": {},
   "source": [
    "## Outputs"
   ]
  },
  {
   "cell_type": "markdown",
   "metadata": {},
   "source": [
    "The *.apply()* method returns a dataframe giving the binary columns of the rules as applied to the given dataset.\n",
    "\n",
    "A useful attribute created by running the *.apply()* method is:\n",
    "* rule_descriptions: A dataframe showing the logic of the optimised rules and their performance metrics as applied to the given dataset."
   ]
  },
  {
   "cell_type": "code",
   "execution_count": 32,
   "metadata": {},
   "outputs": [
    {
     "data": {
      "text/html": [
       "<div>\n",
       "<style scoped>\n",
       "    .dataframe tbody tr th:only-of-type {\n",
       "        vertical-align: middle;\n",
       "    }\n",
       "\n",
       "    .dataframe tbody tr th {\n",
       "        vertical-align: top;\n",
       "    }\n",
       "\n",
       "    .dataframe thead th {\n",
       "        text-align: right;\n",
       "    }\n",
       "</style>\n",
       "<table border=\"1\" class=\"dataframe\">\n",
       "  <thead>\n",
       "    <tr style=\"text-align: right;\">\n",
       "      <th></th>\n",
       "      <th>Precision</th>\n",
       "      <th>Recall</th>\n",
       "      <th>PercDataFlagged</th>\n",
       "      <th>OptMetric</th>\n",
       "      <th>Logic</th>\n",
       "      <th>nConditions</th>\n",
       "    </tr>\n",
       "    <tr>\n",
       "      <th>Rule</th>\n",
       "      <th></th>\n",
       "      <th></th>\n",
       "      <th></th>\n",
       "      <th></th>\n",
       "      <th></th>\n",
       "      <th></th>\n",
       "    </tr>\n",
       "  </thead>\n",
       "  <tbody>\n",
       "    <tr>\n",
       "      <th>HighFraudTxnPerAccountNum</th>\n",
       "      <td>0.991304</td>\n",
       "      <td>1.000000</td>\n",
       "      <td>0.026244</td>\n",
       "      <td>0.995633</td>\n",
       "      <td>(X['account_number_num_fraud_transactions_per_...</td>\n",
       "      <td>1</td>\n",
       "    </tr>\n",
       "    <tr>\n",
       "      <th>RGDT_Rule112</th>\n",
       "      <td>0.965812</td>\n",
       "      <td>0.991228</td>\n",
       "      <td>0.026700</td>\n",
       "      <td>0.978355</td>\n",
       "      <td>(X['account_number_num_distinct_transaction_pe...</td>\n",
       "      <td>5</td>\n",
       "    </tr>\n",
       "    <tr>\n",
       "      <th>RGDT_Rule272</th>\n",
       "      <td>0.965812</td>\n",
       "      <td>0.991228</td>\n",
       "      <td>0.026700</td>\n",
       "      <td>0.978355</td>\n",
       "      <td>((X['account_number_avg_order_total_per_accoun...</td>\n",
       "      <td>5</td>\n",
       "    </tr>\n",
       "    <tr>\n",
       "      <th>RGDT_Rule195</th>\n",
       "      <td>0.957627</td>\n",
       "      <td>0.991228</td>\n",
       "      <td>0.026928</td>\n",
       "      <td>0.974138</td>\n",
       "      <td>(X['account_number_num_fraud_transactions_per_...</td>\n",
       "      <td>4</td>\n",
       "    </tr>\n",
       "    <tr>\n",
       "      <th>RGDT_Rule137</th>\n",
       "      <td>0.990909</td>\n",
       "      <td>0.956140</td>\n",
       "      <td>0.025103</td>\n",
       "      <td>0.973214</td>\n",
       "      <td>((X['account_number_avg_order_total_per_accoun...</td>\n",
       "      <td>6</td>\n",
       "    </tr>\n",
       "  </tbody>\n",
       "</table>\n",
       "</div>"
      ],
      "text/plain": [
       "                           Precision    Recall  PercDataFlagged  OptMetric  \\\n",
       "Rule                                                                         \n",
       "HighFraudTxnPerAccountNum   0.991304  1.000000         0.026244   0.995633   \n",
       "RGDT_Rule112                0.965812  0.991228         0.026700   0.978355   \n",
       "RGDT_Rule272                0.965812  0.991228         0.026700   0.978355   \n",
       "RGDT_Rule195                0.957627  0.991228         0.026928   0.974138   \n",
       "RGDT_Rule137                0.990909  0.956140         0.025103   0.973214   \n",
       "\n",
       "                                                                       Logic  \\\n",
       "Rule                                                                           \n",
       "HighFraudTxnPerAccountNum  (X['account_number_num_fraud_transactions_per_...   \n",
       "RGDT_Rule112               (X['account_number_num_distinct_transaction_pe...   \n",
       "RGDT_Rule272               ((X['account_number_avg_order_total_per_accoun...   \n",
       "RGDT_Rule195               (X['account_number_num_fraud_transactions_per_...   \n",
       "RGDT_Rule137               ((X['account_number_avg_order_total_per_accoun...   \n",
       "\n",
       "                           nConditions  \n",
       "Rule                                    \n",
       "HighFraudTxnPerAccountNum            1  \n",
       "RGDT_Rule112                         5  \n",
       "RGDT_Rule272                         5  \n",
       "RGDT_Rule195                         4  \n",
       "RGDT_Rule137                         6  "
      ]
     },
     "execution_count": 32,
     "metadata": {},
     "output_type": "execute_result"
    }
   ],
   "source": [
    "system_opt.rule_descriptions.head()"
   ]
  },
  {
   "cell_type": "code",
   "execution_count": 33,
   "metadata": {},
   "outputs": [],
   "source": [
    "opt_rule_performances_test = system_opt.rule_descriptions['OptMetric'].to_dict()"
   ]
  },
  {
   "cell_type": "markdown",
   "metadata": {},
   "source": [
    "## Apply original rule strings"
   ]
  },
  {
   "cell_type": "code",
   "execution_count": 34,
   "metadata": {},
   "outputs": [
    {
     "name": "stderr",
     "output_type": "stream",
     "text": [
      "/Users/jlaidler/Documents/tigress/tigress/argo/argo/rules/rules/convert_system_dicts_to_rule_dicts.py:74: UserWarning: JavaEL : Operator `java_el` is not currently supported in ARGO. Rule cannot be parsed.\n",
      "  warnings.warn(f'{rule_name} : {e}')\n"
     ]
    }
   ],
   "source": [
    "orig_system_rule_strings = system_rules.as_rule_strings(as_numpy=False)"
   ]
  },
  {
   "cell_type": "code",
   "execution_count": 35,
   "metadata": {},
   "outputs": [],
   "source": [
    "ara = ArgoRuleApplier(rule_strings=orig_system_rule_strings, opt_func=f1.fit)"
   ]
  },
  {
   "cell_type": "code",
   "execution_count": 36,
   "metadata": {},
   "outputs": [],
   "source": [
    "X_rules_orig_applied = ara.apply(X=X_test, y=y_test)"
   ]
  },
  {
   "cell_type": "code",
   "execution_count": 37,
   "metadata": {},
   "outputs": [],
   "source": [
    "orig_rule_performances_test = ara.rule_descriptions['OptMetric'].to_dict()"
   ]
  },
  {
   "cell_type": "markdown",
   "metadata": {},
   "source": [
    "## Plot performance uplift of rules (on test set)"
   ]
  },
  {
   "cell_type": "code",
   "execution_count": 38,
   "metadata": {},
   "outputs": [
    {
     "data": {
      "image/png": "[encoded data removed]",
      "text/plain": [
       "<Figure size 1440x720 with 1 Axes>"
      ]
     },
     "metadata": {
      "needs_background": "light"
     },
     "output_type": "display_data"
    }
   ],
   "source": [
    "system_opt.plot_performance_uplift(orig_rule_performances=orig_rule_performances_test,\n",
    "                                   opt_rule_performances=opt_rule_performances_test)"
   ]
  },
  {
   "cell_type": "code",
   "execution_count": 39,
   "metadata": {},
   "outputs": [
    {
     "data": {
      "image/png": "[encoded data removed]",
      "text/plain": [
       "<Figure size 576x720 with 1 Axes>"
      ]
     },
     "metadata": {
      "needs_background": "light"
     },
     "output_type": "display_data"
    }
   ],
   "source": [
    "system_opt.plot_performance_uplift_distribution(orig_rule_performances=orig_rule_performances_test,\n",
    "                                                opt_rule_performances=opt_rule_performances_test)"
   ]
  },
  {
   "cell_type": "markdown",
   "metadata": {},
   "source": [
    "----"
   ]
  },
  {
   "cell_type": "markdown",
   "metadata": {},
   "source": [
    "# The End"
   ]
  },
  {
   "cell_type": "markdown",
   "metadata": {},
   "source": [
    "That's it folks - if you have any queries or suggestions please put them in the *#sim-datatools-help* Slack channel or email James directly."
   ]
  },
  {
   "cell_type": "code",
   "execution_count": null,
   "metadata": {},
   "outputs": [],
   "source": []
  }
 ],
 "metadata": {
  "kernelspec": {
   "display_name": "argo",
   "language": "python",
   "name": "argo"
  },
  "language_info": {
   "codemirror_mode": {
    "name": "ipython",
    "version": 3
   },
   "file_extension": ".py",
   "mimetype": "text/x-python",
   "name": "python",
   "nbconvert_exporter": "python",
   "pygments_lexer": "ipython3",
   "version": "3.7.3"
  }
 },
 "nbformat": 4,
 "nbformat_minor": 4
}
