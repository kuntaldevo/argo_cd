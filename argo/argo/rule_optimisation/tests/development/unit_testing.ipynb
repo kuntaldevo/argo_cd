{
 "cells": [
  {
   "cell_type": "code",
   "execution_count": 1,
   "metadata": {},
   "outputs": [],
   "source": [
    "%load_ext autoreload\n",
    "%autoreload 2"
   ]
  },
  {
   "cell_type": "markdown",
   "metadata": {},
   "source": [
    "# unit testing"
   ]
  },
  {
   "cell_type": "code",
   "execution_count": 2,
   "metadata": {},
   "outputs": [],
   "source": [
    "from rule_optimisation.rule_optimiser import RuleOptimiser\n",
    "import pandas as pd\n",
    "import numpy as np\n",
    "from rule_optimisation.optimisation_functions import FScore"
   ]
  },
  {
   "cell_type": "code",
   "execution_count": 3,
   "metadata": {},
   "outputs": [],
   "source": [
    "def _create_data():\n",
    "    np.random.seed(0)\n",
    "    X = pd.DataFrame({\n",
    "        'A': np.random.randint(0, 10, 10000),\n",
    "        'B': np.random.randint(0, 100, 10000),\n",
    "        'C': np.random.uniform(0, 1, 10000),\n",
    "        'D': [True, False] * 5000,\n",
    "        'E': ['yes', 'no'] * 5000,\n",
    "        'AllNa': [np.nan] * 10000,\n",
    "        'ZeroVar': [1] * 10000\n",
    "    })\n",
    "    X.loc[10000] = [np.nan, np.nan, np.nan, np.nan, np.nan, np.nan, np.nan]\n",
    "    X['A'] = X['A'].astype('Int64')\n",
    "    X['B'] = X['B'].astype('Int64')\n",
    "    X['D'] = X['D'].astype('boolean')\n",
    "    y = pd.Series(np.random.randint(0, 2, 10001))\n",
    "    sample_weight = np.where((X['A']>7).fillna(False)&(y==0), 100, 1)#y * 5\n",
    "    return X, y, sample_weight\n",
    "\n",
    "\n",
    "def _create_inputs():\n",
    "    rule_lambdas = {\n",
    "        'integer': lambda **kwargs: \"(X['A']>{A})\".format(**kwargs),\n",
    "        'float': lambda **kwargs: \"(X['C']>{C})\".format(**kwargs),\n",
    "        'categoric': lambda **kwargs: \"(X['E']=='yes')\".format(**kwargs),\n",
    "        'boolean': lambda **kwargs: \"(X['D']==True)\".format(**kwargs),\n",
    "        'is_na': lambda **kwargs: \"(X['A']>{A})|(X['A'].isna())\".format(**kwargs),\n",
    "        'mixed': lambda **kwargs: \"((X['A']>{A})&(X['C']>{C})&(X['E']=='yes')&(X['D']==True))|(X['C']>{C%0})\".format(**kwargs),\n",
    "        'missing_col': lambda **kwargs: \"(X['Z']>{Z})\".format(**kwargs),\n",
    "        'all_na': lambda **kwargs: \"(X['AllNa']>{AllNa})\".format(**kwargs),\n",
    "        'zero_var': lambda **kwargs: \"(X['ZeroVar']>{ZeroVar})\".format(**kwargs),\n",
    "        'already_optimal': lambda **kwargs: \"(X['A']>{A})\".format(**kwargs),\n",
    "    }\n",
    "    lambda_kwargs = {\n",
    "        'integer': {'A': 9},\n",
    "        'float': {'C': 1.5},\n",
    "        'categoric': {},\n",
    "        'boolean': {},\n",
    "        'is_na': {'A': 9},\n",
    "        'mixed': {'A': 1, 'C': 1.5, 'C%0': 2.5},\n",
    "        'missing_col': {'Z': 1},\n",
    "        'all_na': {'AllNa': 5},\n",
    "        'zero_var': {'ZeroVar': 1},\n",
    "        'already_optimal': {'A': 0}\n",
    "    }\n",
    "    return rule_lambdas, lambda_kwargs"
   ]
  },
  {
   "cell_type": "code",
   "execution_count": 4,
   "metadata": {},
   "outputs": [],
   "source": [
    "X, y, sample_weight = _create_data()"
   ]
  },
  {
   "cell_type": "code",
   "execution_count": 5,
   "metadata": {},
   "outputs": [
    {
     "data": {
      "text/plain": [
       "((10001, 7), (10001,))"
      ]
     },
     "execution_count": 5,
     "metadata": {},
     "output_type": "execute_result"
    }
   ],
   "source": [
    "X.shape, y.shape"
   ]
  },
  {
   "cell_type": "code",
   "execution_count": 6,
   "metadata": {},
   "outputs": [],
   "source": [
    "rule_lambdas, lambda_kwargs = _create_inputs()"
   ]
  },
  {
   "cell_type": "code",
   "execution_count": 7,
   "metadata": {},
   "outputs": [],
   "source": [
    "from rule_optimisation.rule_optimiser import RuleOptimiser"
   ]
  },
  {
   "cell_type": "code",
   "execution_count": 8,
   "metadata": {},
   "outputs": [],
   "source": [
    "f1 = FScore(beta=1)\n",
    "ro = RuleOptimiser(rule_lambdas=rule_lambdas,\n",
    "                   lambda_kwargs=lambda_kwargs, opt_func=f1.fit, n_iter=30)"
   ]
  },
  {
   "cell_type": "code",
   "execution_count": 141,
   "metadata": {},
   "outputs": [
    {
     "name": "stdout",
     "output_type": "stream",
     "text": [
      "100%|██████████| 30/30 [00:00<00:00, 181.56trial/s, best loss: -0.07737844641675759]"
     ]
    },
    {
     "name": "stderr",
     "output_type": "stream",
     "text": [
      "/Users/jlaidler/Documents/tigress/tigress/argo/argo/rule_optimisation/rule_optimisation/rule_optimiser.py:290: UserWarning: Rules `missing_col` use features that are missing from `X` - unable to optimise or apply these rules\n",
      "  f'Rules `{\"`, `\".join(rule_names_missing_features)}` use features that are missing from `X` - unable to optimise or apply these rules')\n",
      "/Users/jlaidler/Documents/tigress/tigress/argo/argo/rule_optimisation/rule_optimisation/rule_optimiser.py:217: UserWarning: Rules `categoric`, `boolean`, `all_na` have no optimisable conditions - unable to optimise these rules\n",
      "  f'Rules `{\"`, `\".join(rule_names_no_opt_conditions)}` have no optimisable conditions - unable to optimise these rules')\n",
      "/Users/jlaidler/Documents/tigress/tigress/argo/argo/rule_optimisation/rule_optimisation/rule_optimiser.py:265: UserWarning: Rules `zero_var` have all zero variance features based on the dataset `X` - unable to optimise these rules\n",
      "  f'Rules `{\"`, `\".join(rule_names_zero_var_features)}` have all zero variance features based on the dataset `X` - unable to optimise these rules')\n"
     ]
    },
    {
     "name": "stdout",
     "output_type": "stream",
     "text": [
      "\n",
      "100%|██████████| 30/30 [00:00<00:00, 195.00trial/s, best loss: -0.0864948723631455]\n",
      "100%|██████████| 30/30 [00:00<00:00, 201.41trial/s, best loss: -0.07737778159635708]\n",
      "100%|██████████| 30/30 [00:00<00:00, 107.04trial/s, best loss: -0.0864948723631455] \n",
      "100%|██████████| 30/30 [00:00<00:00, 187.56trial/s, best loss: -0.07737844641675759]\n"
     ]
    },
    {
     "data": {
      "text/plain": [
       "{'integer': \"(X['A']>0)\",\n",
       " 'float': \"(X['C']>0.14437974242018892)\",\n",
       " 'is_na': \"(X['A']>0)|(X['A'].isna())\",\n",
       " 'mixed': \"((X['A']>3)&(X['C']>0.3449413915707924)&(X['E']=='yes')&(X['D']==True))|(X['C']>0.14437974242018892)\",\n",
       " 'already_optimal': \"(X['A']>0.0)\",\n",
       " 'categoric': \"(X['E']=='yes')\",\n",
       " 'boolean': \"(X['D']==True)\",\n",
       " 'all_na': \"(X['AllNa']>5.0)\",\n",
       " 'zero_var': \"(X['ZeroVar']>1.0)\"}"
      ]
     },
     "execution_count": 141,
     "metadata": {},
     "output_type": "execute_result"
    }
   ],
   "source": [
    "ro.fit(X=X, y=y, sample_weight=sample_weight)"
   ]
  },
  {
   "cell_type": "code",
   "execution_count": 144,
   "metadata": {},
   "outputs": [],
   "source": [
    "# for i in range(0, 10):\n",
    "#     print(i, f1.fit(y_pred=(X['A']>i).fillna(False).astype(int), y_true=y, sample_weight=sample_weight))"
   ]
  },
  {
   "cell_type": "code",
   "execution_count": 152,
   "metadata": {},
   "outputs": [],
   "source": [
    "orig_rule_performances = {\n",
    "        'Rule1': 0.1,\n",
    "        'Rule2': 0.2,\n",
    "        'Rule3': 0.3\n",
    "    }    \n",
    "opt_rule_performances = {\n",
    "    'Rule1': 0.2,\n",
    "    'Rule2': 0.4,\n",
    "    'Rule3': 0.3\n",
    "}"
   ]
  },
  {
   "cell_type": "code",
   "execution_count": 159,
   "metadata": {},
   "outputs": [
    {
     "data": {
      "text/plain": [
       "array([[0.1, 0.2],\n",
       "       [0.2, 0.4],\n",
       "       [0.3, 0.3]])"
      ]
     },
     "execution_count": 159,
     "metadata": {},
     "output_type": "execute_result"
    }
   ],
   "source": [
    "pd.DataFrame([orig_rule_performances, opt_rule_performances]).T.values"
   ]
  },
  {
   "cell_type": "code",
   "execution_count": 145,
   "metadata": {},
   "outputs": [
    {
     "data": {
      "text/plain": [
       "{'already_optimal': 0.07737844641675759,\n",
       " 'integer': 0.0,\n",
       " 'float': 0.0,\n",
       " 'is_na': 0.0,\n",
       " 'mixed': 0.0}"
      ]
     },
     "execution_count": 145,
     "metadata": {},
     "output_type": "execute_result"
    }
   ],
   "source": [
    "ro.orig_rule_performances"
   ]
  },
  {
   "cell_type": "code",
   "execution_count": 147,
   "metadata": {},
   "outputs": [
    {
     "data": {
      "text/plain": [
       "{'float': 0.0864948723631455,\n",
       " 'mixed': 0.0864948723631455,\n",
       " 'integer': 0.07737844641675759,\n",
       " 'already_optimal': 0.07737844641675759,\n",
       " 'is_na': 0.07737778159635708}"
      ]
     },
     "execution_count": 147,
     "metadata": {},
     "output_type": "execute_result"
    }
   ],
   "source": [
    "ro.opt_rule_performances"
   ]
  },
  {
   "cell_type": "code",
   "execution_count": 65,
   "metadata": {},
   "outputs": [
    {
     "data": {
      "text/plain": [
       "['missing_col']"
      ]
     },
     "execution_count": 65,
     "metadata": {},
     "output_type": "execute_result"
    }
   ],
   "source": [
    "ro.rule_names_missing_features"
   ]
  },
  {
   "cell_type": "code",
   "execution_count": 66,
   "metadata": {},
   "outputs": [
    {
     "data": {
      "text/plain": [
       "['categoric', 'boolean', 'all_na']"
      ]
     },
     "execution_count": 66,
     "metadata": {},
     "output_type": "execute_result"
    }
   ],
   "source": [
    "ro.rule_names_no_opt_conditions"
   ]
  },
  {
   "cell_type": "code",
   "execution_count": 67,
   "metadata": {},
   "outputs": [
    {
     "data": {
      "text/plain": [
       "['zero_var']"
      ]
     },
     "execution_count": 67,
     "metadata": {},
     "output_type": "execute_result"
    }
   ],
   "source": [
    "ro.rule_names_zero_var_features"
   ]
  },
  {
   "cell_type": "code",
   "execution_count": 148,
   "metadata": {},
   "outputs": [
    {
     "name": "stderr",
     "output_type": "stream",
     "text": [
      "/Users/jlaidler/Documents/tigress/tigress/argo/argo/rule_optimisation/rule_optimisation/rule_optimiser.py:217: UserWarning: Rules `categoric`, `boolean`, `all_na` have no optimisable conditions - unable to optimise these rules\n",
      "  f'Rules `{\"`, `\".join(rule_names_no_opt_conditions)}` have no optimisable conditions - unable to optimise these rules')\n"
     ]
    },
    {
     "data": {
      "text/plain": [
       "(['Z', 'A', 'ZeroVar', 'C%0', 'C'], ['categoric', 'boolean', 'all_na'])"
      ]
     },
     "execution_count": 148,
     "metadata": {},
     "output_type": "execute_result"
    }
   ],
   "source": [
    "ro._return_all_optimisable_rule_features(lambda_kwargs=lambda_kwargs, X=X)"
   ]
  },
  {
   "cell_type": "code",
   "execution_count": 149,
   "metadata": {},
   "outputs": [],
   "source": [
    "exp_all_features = ['Z', 'A', 'ZeroVar', 'C%0', 'C']\n",
    "exp_rule_name_no_opt_conds = ['categoric', 'boolean', 'all_na']\n",
    "exp_all_features.sort()\n",
    "exp_rule_name_no_opt_conds.sort()"
   ]
  },
  {
   "cell_type": "code",
   "execution_count": 151,
   "metadata": {},
   "outputs": [
    {
     "data": {
      "text/plain": [
       "['all_na', 'boolean', 'categoric']"
      ]
     },
     "execution_count": 151,
     "metadata": {},
     "output_type": "execute_result"
    }
   ],
   "source": [
    "ro._return_rules_with_zero_var_features(lambda_kwargs=lambda_kwargs, all_space_funcs=)"
   ]
  },
  {
   "cell_type": "code",
   "execution_count": 32,
   "metadata": {},
   "outputs": [],
   "source": [
    "from rules.rules import Rules\n",
    "from rule_application.argo_rule_applier import ArgoRuleApplier"
   ]
  },
  {
   "cell_type": "code",
   "execution_count": 30,
   "metadata": {},
   "outputs": [],
   "source": [
    "r_ = Rules(rule_lambdas=rule_lambdas, lambda_kwargs=lambda_kwargs)"
   ]
  },
  {
   "cell_type": "code",
   "execution_count": 37,
   "metadata": {},
   "outputs": [],
   "source": [
    "r_.filter_rules(exclude=['missing_col'])"
   ]
  },
  {
   "cell_type": "code",
   "execution_count": 38,
   "metadata": {},
   "outputs": [],
   "source": [
    "rule_strings = r_.as_rule_strings(as_numpy=False)"
   ]
  },
  {
   "cell_type": "code",
   "execution_count": 41,
   "metadata": {},
   "outputs": [],
   "source": [
    "ara = ArgoRuleApplier(rule_strings=rule_strings, opt_func=f1.fit)"
   ]
  },
  {
   "cell_type": "code",
   "execution_count": 42,
   "metadata": {},
   "outputs": [
    {
     "data": {
      "text/html": [
       "<div>\n",
       "<style scoped>\n",
       "    .dataframe tbody tr th:only-of-type {\n",
       "        vertical-align: middle;\n",
       "    }\n",
       "\n",
       "    .dataframe tbody tr th {\n",
       "        vertical-align: top;\n",
       "    }\n",
       "\n",
       "    .dataframe thead th {\n",
       "        text-align: right;\n",
       "    }\n",
       "</style>\n",
       "<table border=\"1\" class=\"dataframe\">\n",
       "  <thead>\n",
       "    <tr style=\"text-align: right;\">\n",
       "      <th></th>\n",
       "      <th>categoric</th>\n",
       "      <th>boolean</th>\n",
       "      <th>integer</th>\n",
       "      <th>float</th>\n",
       "      <th>is_na</th>\n",
       "      <th>mixed</th>\n",
       "      <th>all_na</th>\n",
       "      <th>zero_var</th>\n",
       "    </tr>\n",
       "  </thead>\n",
       "  <tbody>\n",
       "    <tr>\n",
       "      <th>0</th>\n",
       "      <td>1</td>\n",
       "      <td>1</td>\n",
       "      <td>0</td>\n",
       "      <td>0</td>\n",
       "      <td>0</td>\n",
       "      <td>0</td>\n",
       "      <td>0</td>\n",
       "      <td>0</td>\n",
       "    </tr>\n",
       "    <tr>\n",
       "      <th>1</th>\n",
       "      <td>0</td>\n",
       "      <td>0</td>\n",
       "      <td>0</td>\n",
       "      <td>0</td>\n",
       "      <td>0</td>\n",
       "      <td>0</td>\n",
       "      <td>0</td>\n",
       "      <td>0</td>\n",
       "    </tr>\n",
       "    <tr>\n",
       "      <th>2</th>\n",
       "      <td>1</td>\n",
       "      <td>1</td>\n",
       "      <td>0</td>\n",
       "      <td>0</td>\n",
       "      <td>0</td>\n",
       "      <td>0</td>\n",
       "      <td>0</td>\n",
       "      <td>0</td>\n",
       "    </tr>\n",
       "    <tr>\n",
       "      <th>3</th>\n",
       "      <td>0</td>\n",
       "      <td>0</td>\n",
       "      <td>0</td>\n",
       "      <td>0</td>\n",
       "      <td>0</td>\n",
       "      <td>0</td>\n",
       "      <td>0</td>\n",
       "      <td>0</td>\n",
       "    </tr>\n",
       "    <tr>\n",
       "      <th>4</th>\n",
       "      <td>1</td>\n",
       "      <td>1</td>\n",
       "      <td>0</td>\n",
       "      <td>0</td>\n",
       "      <td>0</td>\n",
       "      <td>0</td>\n",
       "      <td>0</td>\n",
       "      <td>0</td>\n",
       "    </tr>\n",
       "    <tr>\n",
       "      <th>...</th>\n",
       "      <td>...</td>\n",
       "      <td>...</td>\n",
       "      <td>...</td>\n",
       "      <td>...</td>\n",
       "      <td>...</td>\n",
       "      <td>...</td>\n",
       "      <td>...</td>\n",
       "      <td>...</td>\n",
       "    </tr>\n",
       "    <tr>\n",
       "      <th>9996</th>\n",
       "      <td>1</td>\n",
       "      <td>1</td>\n",
       "      <td>0</td>\n",
       "      <td>0</td>\n",
       "      <td>0</td>\n",
       "      <td>0</td>\n",
       "      <td>0</td>\n",
       "      <td>0</td>\n",
       "    </tr>\n",
       "    <tr>\n",
       "      <th>9997</th>\n",
       "      <td>0</td>\n",
       "      <td>0</td>\n",
       "      <td>0</td>\n",
       "      <td>0</td>\n",
       "      <td>0</td>\n",
       "      <td>0</td>\n",
       "      <td>0</td>\n",
       "      <td>0</td>\n",
       "    </tr>\n",
       "    <tr>\n",
       "      <th>9998</th>\n",
       "      <td>1</td>\n",
       "      <td>1</td>\n",
       "      <td>0</td>\n",
       "      <td>0</td>\n",
       "      <td>0</td>\n",
       "      <td>0</td>\n",
       "      <td>0</td>\n",
       "      <td>0</td>\n",
       "    </tr>\n",
       "    <tr>\n",
       "      <th>9999</th>\n",
       "      <td>0</td>\n",
       "      <td>0</td>\n",
       "      <td>0</td>\n",
       "      <td>0</td>\n",
       "      <td>0</td>\n",
       "      <td>0</td>\n",
       "      <td>0</td>\n",
       "      <td>0</td>\n",
       "    </tr>\n",
       "    <tr>\n",
       "      <th>10000</th>\n",
       "      <td>0</td>\n",
       "      <td>0</td>\n",
       "      <td>0</td>\n",
       "      <td>0</td>\n",
       "      <td>1</td>\n",
       "      <td>0</td>\n",
       "      <td>0</td>\n",
       "      <td>0</td>\n",
       "    </tr>\n",
       "  </tbody>\n",
       "</table>\n",
       "<p>10001 rows × 8 columns</p>\n",
       "</div>"
      ],
      "text/plain": [
       "       categoric  boolean  integer  float  is_na  mixed  all_na  zero_var\n",
       "0              1        1        0      0      0      0       0         0\n",
       "1              0        0        0      0      0      0       0         0\n",
       "2              1        1        0      0      0      0       0         0\n",
       "3              0        0        0      0      0      0       0         0\n",
       "4              1        1        0      0      0      0       0         0\n",
       "...          ...      ...      ...    ...    ...    ...     ...       ...\n",
       "9996           1        1        0      0      0      0       0         0\n",
       "9997           0        0        0      0      0      0       0         0\n",
       "9998           1        1        0      0      0      0       0         0\n",
       "9999           0        0        0      0      0      0       0         0\n",
       "10000          0        0        0      0      1      0       0         0\n",
       "\n",
       "[10001 rows x 8 columns]"
      ]
     },
     "execution_count": 42,
     "metadata": {},
     "output_type": "execute_result"
    }
   ],
   "source": [
    "ara.apply(X, y)"
   ]
  },
  {
   "cell_type": "code",
   "execution_count": 43,
   "metadata": {},
   "outputs": [
    {
     "data": {
      "text/html": [
       "<div>\n",
       "<style scoped>\n",
       "    .dataframe tbody tr th:only-of-type {\n",
       "        vertical-align: middle;\n",
       "    }\n",
       "\n",
       "    .dataframe tbody tr th {\n",
       "        vertical-align: top;\n",
       "    }\n",
       "\n",
       "    .dataframe thead th {\n",
       "        text-align: right;\n",
       "    }\n",
       "</style>\n",
       "<table border=\"1\" class=\"dataframe\">\n",
       "  <thead>\n",
       "    <tr style=\"text-align: right;\">\n",
       "      <th></th>\n",
       "      <th>Precision</th>\n",
       "      <th>Recall</th>\n",
       "      <th>PercDataFlagged</th>\n",
       "      <th>OptMetric</th>\n",
       "      <th>Logic</th>\n",
       "      <th>nConditions</th>\n",
       "    </tr>\n",
       "    <tr>\n",
       "      <th>Rule</th>\n",
       "      <th></th>\n",
       "      <th></th>\n",
       "      <th></th>\n",
       "      <th></th>\n",
       "      <th></th>\n",
       "      <th></th>\n",
       "    </tr>\n",
       "  </thead>\n",
       "  <tbody>\n",
       "    <tr>\n",
       "      <th>categoric</th>\n",
       "      <td>0.5054</td>\n",
       "      <td>0.506413</td>\n",
       "      <td>0.49995</td>\n",
       "      <td>0.505906</td>\n",
       "      <td>(X['E']=='yes')</td>\n",
       "      <td>1</td>\n",
       "    </tr>\n",
       "    <tr>\n",
       "      <th>boolean</th>\n",
       "      <td>0.5054</td>\n",
       "      <td>0.506413</td>\n",
       "      <td>0.49995</td>\n",
       "      <td>0.505906</td>\n",
       "      <td>(X['D']==True)</td>\n",
       "      <td>1</td>\n",
       "    </tr>\n",
       "    <tr>\n",
       "      <th>integer</th>\n",
       "      <td>0.0000</td>\n",
       "      <td>0.000000</td>\n",
       "      <td>0.00000</td>\n",
       "      <td>0.000000</td>\n",
       "      <td>(X['A']&gt;9.0)</td>\n",
       "      <td>1</td>\n",
       "    </tr>\n",
       "    <tr>\n",
       "      <th>float</th>\n",
       "      <td>0.0000</td>\n",
       "      <td>0.000000</td>\n",
       "      <td>0.00000</td>\n",
       "      <td>0.000000</td>\n",
       "      <td>(X['C']&gt;1.5)</td>\n",
       "      <td>1</td>\n",
       "    </tr>\n",
       "    <tr>\n",
       "      <th>is_na</th>\n",
       "      <td>0.0000</td>\n",
       "      <td>0.000000</td>\n",
       "      <td>0.00010</td>\n",
       "      <td>0.000000</td>\n",
       "      <td>(X['A']&gt;9.0)|(X['A'].isna())</td>\n",
       "      <td>2</td>\n",
       "    </tr>\n",
       "    <tr>\n",
       "      <th>mixed</th>\n",
       "      <td>0.0000</td>\n",
       "      <td>0.000000</td>\n",
       "      <td>0.00000</td>\n",
       "      <td>0.000000</td>\n",
       "      <td>((X['A']&gt;1.0)&amp;(X['C']&gt;1.5)&amp;(X['E']=='yes')&amp;(X[...</td>\n",
       "      <td>5</td>\n",
       "    </tr>\n",
       "    <tr>\n",
       "      <th>all_na</th>\n",
       "      <td>0.0000</td>\n",
       "      <td>0.000000</td>\n",
       "      <td>0.00000</td>\n",
       "      <td>0.000000</td>\n",
       "      <td>(X['AllNa']&gt;5.0)</td>\n",
       "      <td>1</td>\n",
       "    </tr>\n",
       "    <tr>\n",
       "      <th>zero_var</th>\n",
       "      <td>0.0000</td>\n",
       "      <td>0.000000</td>\n",
       "      <td>0.00000</td>\n",
       "      <td>0.000000</td>\n",
       "      <td>(X['ZeroVar']&gt;1.0)</td>\n",
       "      <td>1</td>\n",
       "    </tr>\n",
       "  </tbody>\n",
       "</table>\n",
       "</div>"
      ],
      "text/plain": [
       "           Precision    Recall  PercDataFlagged  OptMetric                                              Logic  nConditions\n",
       "Rule                                                                                                                      \n",
       "categoric     0.5054  0.506413          0.49995   0.505906                                    (X['E']=='yes')            1\n",
       "boolean       0.5054  0.506413          0.49995   0.505906                                     (X['D']==True)            1\n",
       "integer       0.0000  0.000000          0.00000   0.000000                                       (X['A']>9.0)            1\n",
       "float         0.0000  0.000000          0.00000   0.000000                                       (X['C']>1.5)            1\n",
       "is_na         0.0000  0.000000          0.00010   0.000000                       (X['A']>9.0)|(X['A'].isna())            2\n",
       "mixed         0.0000  0.000000          0.00000   0.000000  ((X['A']>1.0)&(X['C']>1.5)&(X['E']=='yes')&(X[...            5\n",
       "all_na        0.0000  0.000000          0.00000   0.000000                                   (X['AllNa']>5.0)            1\n",
       "zero_var      0.0000  0.000000          0.00000   0.000000                                 (X['ZeroVar']>1.0)            1"
      ]
     },
     "execution_count": 43,
     "metadata": {},
     "output_type": "execute_result"
    }
   ],
   "source": [
    "ara.rule_descriptions"
   ]
  },
  {
   "cell_type": "code",
   "execution_count": 49,
   "metadata": {},
   "outputs": [
    {
     "name": "stdout",
     "output_type": "stream",
     "text": [
      "integer 0\n",
      "float 0\n",
      "categoric 0.5059059059059059\n",
      "boolean 0.5059059059059059\n",
      "is_na 0\n",
      "mixed 0\n",
      "all_na 0\n",
      "zero_var 0\n"
     ]
    }
   ],
   "source": [
    "for rule_name, rule_string in rule_strings.items():\n",
    "    print(rule_name, f1.fit(y_pred=eval(rule_string).fillna(False).astype(int), y_true=y))"
   ]
  },
  {
   "cell_type": "code",
   "execution_count": 44,
   "metadata": {},
   "outputs": [
    {
     "data": {
      "text/plain": [
       "{'integer': 0, 'float': 0, 'is_na': 0, 'mixed': 0}"
      ]
     },
     "execution_count": 44,
     "metadata": {},
     "output_type": "execute_result"
    }
   ],
   "source": [
    "ro.orig_rule_performances"
   ]
  },
  {
   "cell_type": "code",
   "execution_count": 27,
   "metadata": {},
   "outputs": [
    {
     "data": {
      "text/plain": [
       "{'float': 0.6642155224279698,\n",
       " 'mixed': 0.6642155224279698,\n",
       " 'integer': 0.6422306211224418,\n",
       " 'is_na': 0.6421848260125499}"
      ]
     },
     "execution_count": 27,
     "metadata": {},
     "output_type": "execute_result"
    }
   ],
   "source": [
    "ro.opt_rule_performances"
   ]
  },
  {
   "cell_type": "markdown",
   "metadata": {},
   "source": [
    "# Unlabelled"
   ]
  },
  {
   "cell_type": "code",
   "execution_count": 9,
   "metadata": {},
   "outputs": [],
   "source": [
    "from rule_optimisation.optimisation_functions import AlertsPerDay"
   ]
  },
  {
   "cell_type": "code",
   "execution_count": 12,
   "metadata": {},
   "outputs": [],
   "source": [
    "apd = AlertsPerDay(n_alerts_expected_per_day=10, no_of_days_in_file=10)\n",
    "ro = RuleOptimiser(rule_lambdas=rule_lambdas,\n",
    "                   lambda_kwargs=lambda_kwargs, opt_func= apd.fit, n_iter=30)"
   ]
  },
  {
   "cell_type": "code",
   "execution_count": 13,
   "metadata": {},
   "outputs": [
    {
     "name": "stdout",
     "output_type": "stream",
     "text": [
      "100%|██████████| 30/30 [00:00<00:00, 267.96trial/s, best loss: 8892.49]\n",
      "  0%|          | 0/30 [00:00<?, ?trial/s, best loss=?]"
     ]
    },
    {
     "name": "stderr",
     "output_type": "stream",
     "text": [
      "/Users/jlaidler/Documents/tigress/tigress/argo/argo/rule_optimisation/rule_optimisation/rule_optimiser.py:356: UserWarning: Rules `missing_col` use features that are missing from `X` - unable to optimise or apply these rules\n",
      "  f'Rules `{\"`, `\".join(rule_names_missing_features)}` use features that are missing from `X` - unable to optimise or apply these rules')\n",
      "/Users/jlaidler/Documents/tigress/tigress/argo/argo/rule_optimisation/rule_optimisation/rule_optimiser.py:268: UserWarning: Rules `categoric`, `boolean`, `all_na` have no optimisable conditions - unable to optimise these rules\n",
      "  f'Rules `{\"`, `\".join(rule_names_no_opt_conditions)}` have no optimisable conditions - unable to optimise these rules')\n",
      "/Users/jlaidler/Documents/tigress/tigress/argo/argo/rule_optimisation/rule_optimisation/rule_optimiser.py:320: UserWarning: Rules `zero_var` have all zero variance features based on the dataset `X` - unable to optimise these rules\n",
      "  f'Rules `{\"`, `\".join(rule_names_zero_var_features)}` have all zero variance features based on the dataset `X` - unable to optimise these rules')\n"
     ]
    },
    {
     "name": "stdout",
     "output_type": "stream",
     "text": [
      "100%|██████████| 30/30 [00:00<00:00, 348.18trial/s, best loss: 16.0]\n",
      "100%|██████████| 30/30 [00:00<00:00, 288.36trial/s, best loss: 8911.36]\n",
      "100%|██████████| 30/30 [00:00<00:00, 138.79trial/s, best loss: 985.9599999999999]\n",
      "100%|██████████| 30/30 [00:00<00:00, 364.31trial/s, best loss: 8892.49]\n"
     ]
    },
    {
     "data": {
      "text/plain": [
       "{'integer': \"(X['A']>9.0)\",\n",
       " 'float': \"(X['C']>0.9934712038306385)\",\n",
       " 'is_na': \"(X['A']>9.0)|(X['A'].isna())\",\n",
       " 'mixed': \"((X['A']>1.0)&(X['C']>1.5)&(X['E']=='yes')&(X['D']==True))|(X['C']>2.5)\",\n",
       " 'already_optimal': \"(X['A']>8)\",\n",
       " 'categoric': \"(X['E']=='yes')\",\n",
       " 'boolean': \"(X['D']==True)\",\n",
       " 'all_na': \"(X['AllNa']>5.0)\",\n",
       " 'zero_var': \"(X['ZeroVar']>1.0)\"}"
      ]
     },
     "execution_count": 13,
     "metadata": {},
     "output_type": "execute_result"
    }
   ],
   "source": [
    "ro.fit(X=X)"
   ]
  },
  {
   "cell_type": "code",
   "execution_count": 15,
   "metadata": {},
   "outputs": [
    {
     "data": {
      "text/plain": [
       "{'float': -16.0,\n",
       " 'mixed': -100.0,\n",
       " 'integer': -100.0,\n",
       " 'already_optimal': -8892.49,\n",
       " 'is_na': -98.01}"
      ]
     },
     "execution_count": 15,
     "metadata": {},
     "output_type": "execute_result"
    }
   ],
   "source": [
    "ro.opt_rule_performances"
   ]
  },
  {
   "cell_type": "code",
   "execution_count": null,
   "metadata": {},
   "outputs": [],
   "source": []
  }
 ],
 "metadata": {
  "kernelspec": {
   "display_name": "argo",
   "language": "python",
   "name": "argo"
  },
  "language_info": {
   "codemirror_mode": {
    "name": "ipython",
    "version": 3
   },
   "file_extension": ".py",
   "mimetype": "text/x-python",
   "name": "python",
   "nbconvert_exporter": "python",
   "pygments_lexer": "ipython3",
   "version": "3.7.3"
  }
 },
 "nbformat": 4,
 "nbformat_minor": 4
}
