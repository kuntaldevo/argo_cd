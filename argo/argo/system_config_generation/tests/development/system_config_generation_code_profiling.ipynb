{
 "cells": [
  {
   "cell_type": "code",
   "execution_count": 18,
   "metadata": {},
   "outputs": [],
   "source": [
    "from system_config_generation.create_new_configs import CreateNewConfigs\n",
    "from system_config_generation.update_existing_configs import UpdateExistingConfigs\n",
    "from rules.rules import Rules\n",
    "\n",
    "import pandas as pd\n",
    "import numpy as np\n",
    "import random\n",
    "import cProfile, pstats"
   ]
  },
  {
   "cell_type": "code",
   "execution_count": 2,
   "metadata": {},
   "outputs": [],
   "source": [
    "rule_logic_list = [\n",
    "    \"(X['account_number_avg_order_total_per_account_number_1day']>1)\",\n",
    "    \"(X['sim_sc_ml']>0.5)\",\n",
    "    \"(X['is_billing_shipping_city_same']==True)\"\n",
    "]"
   ]
  },
  {
   "cell_type": "code",
   "execution_count": 23,
   "metadata": {},
   "outputs": [],
   "source": [
    "rule_strings = {}\n",
    "rule_scores = {}\n",
    "for i in range(0, 1000000):\n",
    "    rule_strings[f'Rule{i}'] = rule_logic_list[random.randint(0, 2)]\n",
    "    rule_scores[f'Rule{i}'] = random.randint(-100, 0)"
   ]
  },
  {
   "cell_type": "markdown",
   "metadata": {},
   "source": [
    "First, we need to convert the rule conditions in to the system-ready format. For this, we can use the Rules class - first instantiate the class with the rule conditions:"
   ]
  },
  {
   "cell_type": "code",
   "execution_count": 24,
   "metadata": {},
   "outputs": [],
   "source": [
    "rules = Rules(rule_strings=rule_strings)"
   ]
  },
  {
   "cell_type": "markdown",
   "metadata": {},
   "source": [
    "Then convert the conditions to the system-ready format using the *.as_system_dicts()* method. Note that for this step, you'll need to provide the Cassandra datatypes and Cassandra field names of each field present in the rule set (use the *return_cassandra_dtypes* module in the *simility_requests* sub-package to gather this information):"
   ]
  },
  {
   "cell_type": "code",
   "execution_count": 25,
   "metadata": {},
   "outputs": [],
   "source": [
    "field_datatypes = {\n",
    "    'account_number_avg_order_total_per_account_number_1day': 'DOUBLE',\n",
    "    'sim_sc_ml': 'FLOAT',\n",
    "    'is_billing_shipping_city_same': 'BOOLEAN'\n",
    "}\n",
    "cassandra_field_names = {\n",
    "    'account_number_avg_order_total_per_account_number_1day': 'account_number.avg_order_total_per_account_number_1day',\n",
    "    'sim_sc_ml': 'sim_sc_ml',\n",
    "    'is_billing_shipping_city_same': 'is_billing_shipping_city_same'\n",
    "}"
   ]
  },
  {
   "cell_type": "code",
   "execution_count": 26,
   "metadata": {},
   "outputs": [],
   "source": [
    "system_conditions = rules.as_system_dicts(field_datatypes=field_datatypes, cassandra_field_names=cassandra_field_names)"
   ]
  },
  {
   "cell_type": "markdown",
   "metadata": {},
   "source": [
    "Now that we have our rule conditions in the system-ready format, we can use the CreateNewConfigs class to generate the system-ready configurations:"
   ]
  },
  {
   "cell_type": "code",
   "execution_count": 28,
   "metadata": {},
   "outputs": [],
   "source": [
    "cnc = CreateNewConfigs(conditions=system_conditions, scores=rule_scores, app_prefix='james_testing', entity='transaction', make_active=True)"
   ]
  },
  {
   "cell_type": "code",
   "execution_count": 29,
   "metadata": {},
   "outputs": [],
   "source": [
    "rule_configs = cnc.generate()"
   ]
  },
  {
   "cell_type": "markdown",
   "metadata": {},
   "source": [
    "## OLD"
   ]
  },
  {
   "cell_type": "code",
   "execution_count": 30,
   "metadata": {},
   "outputs": [],
   "source": [
    "filename = 'system_config_gen_old.dat'"
   ]
  },
  {
   "cell_type": "code",
   "execution_count": 31,
   "metadata": {},
   "outputs": [],
   "source": [
    "cnc = CreateNewConfigs(conditions=system_conditions, scores=rule_scores, app_prefix='james_testing', entity='transaction', make_active=True)\n",
    "cProfile.run('rule_configs = cnc.generate()', sort='cumtime', filename=f'{filename}.dat')"
   ]
  },
  {
   "cell_type": "code",
   "execution_count": 32,
   "metadata": {},
   "outputs": [
    {
     "name": "stdout",
     "output_type": "stream",
     "text": [
      "Wed Jan 13 15:22:03 2021    system_config_gen_old.dat.dat\n",
      "\n",
      "         8000005 function calls in 10.080 seconds\n",
      "\n",
      "   Ordered by: cumulative time\n",
      "\n",
      "   ncalls  tottime  percall  cumtime  percall filename:lineno(function)\n",
      "        1    0.000    0.000   10.080   10.080 {built-in method builtins.exec}\n",
      "        1    0.489    0.489   10.080   10.080 <string>:1(<module>)\n",
      "        1    0.705    0.705    9.591    9.591 /Users/jlaidler/Documents/tigress/tigress/argo/argo/system_config_generation/system_config_generation/create_new_configs.py:51(generate)\n",
      "  1000000    1.533    0.000    8.886    0.000 /Users/jlaidler/Documents/tigress/tigress/argo/argo/system_config_generation/system_config_generation/create_new_configs.py:66(_create_config)\n",
      "  1000000    0.536    0.000    7.118    0.000 //anaconda3/lib/python3.7/json/__init__.py:183(dumps)\n",
      "  1000000    1.157    0.000    6.582    0.000 //anaconda3/lib/python3.7/json/encoder.py:182(encode)\n",
      "  1000000    5.034    0.000    5.034    0.000 //anaconda3/lib/python3.7/json/encoder.py:204(iterencode)\n",
      "  2000000    0.287    0.000    0.287    0.000 {built-in method builtins.isinstance}\n",
      "  1000000    0.235    0.000    0.235    0.000 {method 'copy' of 'dict' objects}\n",
      "  1000000    0.104    0.000    0.104    0.000 {method 'join' of 'str' objects}\n",
      "        1    0.000    0.000    0.000    0.000 {method 'keys' of 'dict' objects}\n",
      "        1    0.000    0.000    0.000    0.000 {method 'disable' of '_lsprof.Profiler' objects}\n",
      "\n",
      "\n"
     ]
    },
    {
     "data": {
      "text/plain": [
       "<pstats.Stats at 0x11d6135c0>"
      ]
     },
     "execution_count": 32,
     "metadata": {},
     "output_type": "execute_result"
    }
   ],
   "source": [
    "p = pstats.Stats(f'{filename}.dat')\n",
    "p.sort_stats('cumtime').print_stats()"
   ]
  },
  {
   "cell_type": "markdown",
   "metadata": {},
   "source": [
    "Can't really make any quicker..."
   ]
  },
  {
   "cell_type": "markdown",
   "metadata": {},
   "source": [
    "---"
   ]
  },
  {
   "cell_type": "markdown",
   "metadata": {},
   "source": [
    "# Updating system configurations of existing rules"
   ]
  },
  {
   "cell_type": "code",
   "execution_count": 33,
   "metadata": {},
   "outputs": [],
   "source": [
    "cnc = CreateNewConfigs(conditions=system_conditions, scores=rule_scores, app_prefix='james_testing', entity='transaction', make_active=True)\n",
    "rule_configs = cnc.generate()"
   ]
  },
  {
   "cell_type": "markdown",
   "metadata": {},
   "source": [
    "The optimised conditions and scores are:"
   ]
  },
  {
   "cell_type": "code",
   "execution_count": 34,
   "metadata": {},
   "outputs": [],
   "source": [
    "opt_rule_strings = {}\n",
    "opt_rule_scores = {}\n",
    "for i in range(0, 1000000):\n",
    "    opt_rule_strings[f'Rule{i}'] = rule_logic_list[random.randint(0, 2)]\n",
    "    opt_rule_scores[f'Rule{i}'] = random.randint(-100, 0)"
   ]
  },
  {
   "cell_type": "markdown",
   "metadata": {},
   "source": [
    "First, we need to convert the optimised rule conditions in to the system-ready format. For this, we can use the Rules class - first instantiate the class with the rule conditions:"
   ]
  },
  {
   "cell_type": "code",
   "execution_count": 35,
   "metadata": {},
   "outputs": [],
   "source": [
    "rules = Rules(rule_strings=opt_rule_strings)"
   ]
  },
  {
   "cell_type": "markdown",
   "metadata": {},
   "source": [
    "Then convert the conditions to the system-ready format using the *.as_system_dicts()* method. Note that for this step, you'll need to provide the Cassandra datatypes and Cassandra field names of each field present in the rule set (use the *return_cassandra_dtypes* module in the *simility_requests* sub-package to gather this information):"
   ]
  },
  {
   "cell_type": "code",
   "execution_count": 36,
   "metadata": {},
   "outputs": [],
   "source": [
    "field_datatypes = {\n",
    "    'account_number_avg_order_total_per_account_number_1day': 'DOUBLE',\n",
    "    'sim_sc_ml': 'FLOAT',\n",
    "    'is_billing_shipping_city_same': 'BOOLEAN'\n",
    "}\n",
    "cassandra_field_names = {\n",
    "    'account_number_avg_order_total_per_account_number_1day': 'account_number.avg_order_total_per_account_number_1day',\n",
    "    'sim_sc_ml': 'sim_sc_ml',\n",
    "    'is_billing_shipping_city_same': 'is_billing_shipping_city_same'\n",
    "}"
   ]
  },
  {
   "cell_type": "code",
   "execution_count": 37,
   "metadata": {},
   "outputs": [],
   "source": [
    "opt_system_conditions = rules.as_system_dicts(field_datatypes=field_datatypes, cassandra_field_names=cassandra_field_names)"
   ]
  },
  {
   "cell_type": "code",
   "execution_count": 38,
   "metadata": {},
   "outputs": [],
   "source": [
    "# opt_system_conditions"
   ]
  },
  {
   "cell_type": "markdown",
   "metadata": {},
   "source": [
    "Now that we have our rule conditions in the system-ready format, we can use the UpdateExistingConfigs class to generate the system-ready configurations:"
   ]
  },
  {
   "cell_type": "code",
   "execution_count": 39,
   "metadata": {},
   "outputs": [],
   "source": [
    "uec = UpdateExistingConfigs(rule_configs=rule_configs, updated_conditions=opt_system_conditions, updated_scores=opt_rule_scores)"
   ]
  },
  {
   "cell_type": "code",
   "execution_count": 40,
   "metadata": {},
   "outputs": [],
   "source": [
    "updated_rule_configs = uec.update()"
   ]
  },
  {
   "cell_type": "markdown",
   "metadata": {},
   "source": [
    "## OLD"
   ]
  },
  {
   "cell_type": "code",
   "execution_count": 41,
   "metadata": {},
   "outputs": [],
   "source": [
    "filename = 'system_config_update_old.dat'"
   ]
  },
  {
   "cell_type": "code",
   "execution_count": 42,
   "metadata": {},
   "outputs": [],
   "source": [
    "uec = UpdateExistingConfigs(rule_configs=rule_configs, updated_conditions=opt_system_conditions, updated_scores=opt_rule_scores)\n",
    "cProfile.run('uec.update()', sort='cumtime', filename=f'{filename}.dat')"
   ]
  },
  {
   "cell_type": "code",
   "execution_count": 43,
   "metadata": {},
   "outputs": [
    {
     "name": "stdout",
     "output_type": "stream",
     "text": [
      "Wed Jan 13 15:28:18 2021    system_config_update_old.dat.dat\n",
      "\n",
      "         11000005 function calls in 11.183 seconds\n",
      "\n",
      "   Ordered by: cumulative time\n",
      "\n",
      "   ncalls  tottime  percall  cumtime  percall filename:lineno(function)\n",
      "        1    0.000    0.000   11.183   11.183 {built-in method builtins.exec}\n",
      "        1    0.000    0.000   11.183   11.183 <string>:1(<module>)\n",
      "        1    0.723    0.723   11.183   11.183 /Users/jlaidler/Documents/tigress/tigress/argo/argo/system_config_generation/system_config_generation/update_existing_configs.py:44(update)\n",
      "  1000000    3.408    0.000   10.460    0.000 /Users/jlaidler/Documents/tigress/tigress/argo/argo/system_config_generation/system_config_generation/update_existing_configs.py:60(_update_config)\n",
      "  1000000    0.539    0.000    6.469    0.000 //anaconda3/lib/python3.7/json/__init__.py:183(dumps)\n",
      "  1000000    1.120    0.000    5.930    0.000 //anaconda3/lib/python3.7/json/encoder.py:182(encode)\n",
      "  1000000    4.410    0.000    4.410    0.000 //anaconda3/lib/python3.7/json/encoder.py:204(iterencode)\n",
      "  4000000    0.583    0.000    0.583    0.000 {method 'pop' of 'dict' objects}\n",
      "  2000000    0.291    0.000    0.291    0.000 {built-in method builtins.isinstance}\n",
      "  1000000    0.108    0.000    0.108    0.000 {method 'join' of 'str' objects}\n",
      "        1    0.000    0.000    0.000    0.000 {method 'keys' of 'dict' objects}\n",
      "        1    0.000    0.000    0.000    0.000 {method 'disable' of '_lsprof.Profiler' objects}\n",
      "\n",
      "\n"
     ]
    },
    {
     "data": {
      "text/plain": [
       "<pstats.Stats at 0x11d5d89b0>"
      ]
     },
     "execution_count": 43,
     "metadata": {},
     "output_type": "execute_result"
    }
   ],
   "source": [
    "p = pstats.Stats(f'{filename}.dat')\n",
    "p.sort_stats('cumtime').print_stats()"
   ]
  },
  {
   "cell_type": "markdown",
   "metadata": {},
   "source": [
    "## NEW"
   ]
  },
  {
   "cell_type": "code",
   "execution_count": 44,
   "metadata": {},
   "outputs": [],
   "source": [
    "filename = 'system_config_update_new.dat'"
   ]
  },
  {
   "cell_type": "code",
   "execution_count": 45,
   "metadata": {},
   "outputs": [],
   "source": [
    "uec = UpdateExistingConfigs(rule_configs=rule_configs, updated_conditions=opt_system_conditions, updated_scores=opt_rule_scores)\n",
    "cProfile.run('uec.update()', sort='cumtime', filename=f'{filename}.dat')"
   ]
  },
  {
   "cell_type": "code",
   "execution_count": 46,
   "metadata": {},
   "outputs": [
    {
     "name": "stdout",
     "output_type": "stream",
     "text": [
      "Wed Jan 13 15:31:40 2021    system_config_update_new.dat.dat\n",
      "\n",
      "         11000005 function calls in 11.645 seconds\n",
      "\n",
      "   Ordered by: cumulative time\n",
      "\n",
      "   ncalls  tottime  percall  cumtime  percall filename:lineno(function)\n",
      "        1    0.000    0.000   11.645   11.645 {built-in method builtins.exec}\n",
      "        1    0.000    0.000   11.645   11.645 <string>:1(<module>)\n",
      "        1    0.688    0.688   11.645   11.645 /Users/jlaidler/Documents/tigress/tigress/argo/argo/system_config_generation/system_config_generation/update_existing_configs.py:44(update)\n",
      "  1000000    3.397    0.000   10.957    0.000 /Users/jlaidler/Documents/tigress/tigress/argo/argo/system_config_generation/system_config_generation/update_existing_configs.py:60(_update_config)\n",
      "  1000000    0.524    0.000    6.999    0.000 //anaconda3/lib/python3.7/json/__init__.py:183(dumps)\n",
      "  1000000    1.079    0.000    6.475    0.000 //anaconda3/lib/python3.7/json/encoder.py:182(encode)\n",
      "  1000000    5.014    0.000    5.014    0.000 //anaconda3/lib/python3.7/json/encoder.py:204(iterencode)\n",
      "  4000000    0.561    0.000    0.561    0.000 {method 'pop' of 'dict' objects}\n",
      "  2000000    0.276    0.000    0.276    0.000 {built-in method builtins.isinstance}\n",
      "  1000000    0.105    0.000    0.105    0.000 {method 'join' of 'str' objects}\n",
      "        1    0.000    0.000    0.000    0.000 {method 'keys' of 'dict' objects}\n",
      "        1    0.000    0.000    0.000    0.000 {method 'disable' of '_lsprof.Profiler' objects}\n",
      "\n",
      "\n"
     ]
    },
    {
     "data": {
      "text/plain": [
       "<pstats.Stats at 0x11ee9e278>"
      ]
     },
     "execution_count": 46,
     "metadata": {},
     "output_type": "execute_result"
    }
   ],
   "source": [
    "p = pstats.Stats(f'{filename}.dat')\n",
    "p.sort_stats('cumtime').print_stats()"
   ]
  },
  {
   "cell_type": "markdown",
   "metadata": {},
   "source": [
    "##  Can't really improve runtime"
   ]
  },
  {
   "cell_type": "code",
   "execution_count": null,
   "metadata": {},
   "outputs": [],
   "source": []
  }
 ],
 "metadata": {
  "kernelspec": {
   "display_name": "argo",
   "language": "python",
   "name": "argo"
  },
  "language_info": {
   "codemirror_mode": {
    "name": "ipython",
    "version": 3
   },
   "file_extension": ".py",
   "mimetype": "text/x-python",
   "name": "python",
   "nbconvert_exporter": "python",
   "pygments_lexer": "ipython3",
   "version": "3.7.3"
  }
 },
 "nbformat": 4,
 "nbformat_minor": 4
}
