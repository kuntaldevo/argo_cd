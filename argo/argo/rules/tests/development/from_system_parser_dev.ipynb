{
 "cells": [
  {
   "cell_type": "code",
   "execution_count": 2,
   "metadata": {},
   "outputs": [],
   "source": [
    "%load_ext autoreload\n",
    "%autoreload 2"
   ]
  },
  {
   "cell_type": "code",
   "execution_count": 3,
   "metadata": {},
   "outputs": [],
   "source": [
    "from simility_requests.return_rule_info_from_simility import ReturnRuleInfoFromSimility\n",
    "from simility_apis.set_password import set_password\n",
    "import pandas as pd\n",
    "import numpy as np\n",
    "import json"
   ]
  },
  {
   "cell_type": "code",
   "execution_count": 4,
   "metadata": {},
   "outputs": [],
   "source": [
    "# set_password()\n",
    "\n",
    "# params = {\n",
    "#     'url': 'https://eu.simility.com',\n",
    "#     'app_prefix': 'omnyex',\n",
    "#     'user': 'jlaidler@paypal.com',\n",
    "#     'entity': 'orders'\n",
    "# }\n",
    "\n",
    "# rri = ReturnRuleInfoFromSimility(**params)\n",
    "\n",
    "# rule_info = rri.request()\n",
    "\n",
    "# pd.DataFrame(rule_info['jsonConfig'].apply(lambda x: x['conditions'])).to_csv('omnyex_rule_conditions.csv', )"
   ]
  },
  {
   "cell_type": "code",
   "execution_count": 5,
   "metadata": {},
   "outputs": [],
   "source": [
    "# conditions = pd.read_csv('rw_rule_conditions.csv', index_col=[0])\n",
    "# conditions = pd.read_csv('omnyex_rule_conditions.csv', index_col=[0])\n",
    "conditions = pd.read_json('quoka_rules.json'); conditions.set_index('name', inplace=True); conditions = pd.DataFrame(conditions['conditions']); conditions.columns = ['jsonConfig']"
   ]
  },
  {
   "cell_type": "code",
   "execution_count": 6,
   "metadata": {},
   "outputs": [],
   "source": [
    "# conditions"
   ]
  },
  {
   "cell_type": "code",
   "execution_count": 7,
   "metadata": {},
   "outputs": [],
   "source": [
    "conditions_dicts = conditions['jsonConfig'].apply(lambda x: json.loads(x))"
   ]
  },
  {
   "cell_type": "code",
   "execution_count": 14,
   "metadata": {},
   "outputs": [
    {
     "name": "stdout",
     "output_type": "stream",
     "text": [
      "{'condition': 'AND', 'rules': [{'id': 'ad_price_type', 'field': 'ad_price_type', 'type': 'string', 'operator': 'not_in', 'value': 'value.FREE,NEGOTIATION'}]}\n"
     ]
    }
   ],
   "source": [
    "for rn, r in conditions_dicts.items():\n",
    "    if \"not_in\" in str(r):\n",
    "        print(r)"
   ]
  },
  {
   "cell_type": "code",
   "execution_count": 80,
   "metadata": {},
   "outputs": [],
   "source": [
    "from rule_parsing.from_system_parser import FromSystemParser"
   ]
  },
  {
   "cell_type": "code",
   "execution_count": 81,
   "metadata": {},
   "outputs": [
    {
     "name": "stdout",
     "output_type": "stream",
     "text": [
      "174\r"
     ]
    }
   ],
   "source": [
    "rule_dicts = {}\n",
    "for i, (rule_name, condition_dict) in enumerate(conditions_dicts.iteritems()):\n",
    "    print(i, end='\\r')\n",
    "    try:\n",
    "        sp = FromSystemParser(conditions_dict=condition_dict)\n",
    "        rule_dicts[rule_name] = sp.convert()\n",
    "    except:\n",
    "        rule_dicts[rule_name] = None"
   ]
  },
  {
   "cell_type": "code",
   "execution_count": 82,
   "metadata": {},
   "outputs": [
    {
     "data": {
      "text/plain": [
       "(175, 175)"
      ]
     },
     "execution_count": 82,
     "metadata": {},
     "output_type": "execute_result"
    }
   ],
   "source": [
    "len(rule_dicts.keys()), len(conditions_dicts.keys())"
   ]
  },
  {
   "cell_type": "code",
   "execution_count": 83,
   "metadata": {},
   "outputs": [
    {
     "data": {
      "text/plain": [
       "{'condition': 'OR',\n",
       " 'rules': [{'id': 'java_el',\n",
       "   'field': 'java_el',\n",
       "   'type': 'string',\n",
       "   'input': 'text',\n",
       "   'operator': 'java_el',\n",
       "   'value': '${table_values.$shipping_address_2.toLowerCase().matches(\".*(aim)\\\\\\\\b.*\") }'},\n",
       "  {'id': 'java_el',\n",
       "   'field': 'java_el',\n",
       "   'type': 'string',\n",
       "   'input': 'text',\n",
       "   'operator': 'java_el',\n",
       "   'value': '${table_values.$shipping_address_1.toLowerCase().matches(\".*(3501|12208 ky highway 36 w)\\\\\\\\b.*\") }'},\n",
       "  {'id': 'shipping_address_1.ln_shipping_address_1_escalate',\n",
       "   'field': 'shipping_address_1.ln_shipping_address_1_escalate',\n",
       "   'type': 'integer',\n",
       "   'operator': 'equal',\n",
       "   'value': 'value.1'},\n",
       "  {'id': 'shipping_address_2.ln_shipping_address_2_escalate',\n",
       "   'field': 'shipping_address_2.ln_shipping_address_2_escalate',\n",
       "   'type': 'integer',\n",
       "   'operator': 'equal',\n",
       "   'value': 'value.1'},\n",
       "  {'id': 'shipping_address_full.ln_shipping_address_full_escalate',\n",
       "   'field': 'shipping_address_full.ln_shipping_address_full_escalate',\n",
       "   'type': 'integer',\n",
       "   'operator': 'equal',\n",
       "   'value': 'value.1'},\n",
       "  {'id': 'shipping_zip.ln_shipping_zip_escalate',\n",
       "   'field': 'shipping_zip.ln_shipping_zip_escalate',\n",
       "   'type': 'integer',\n",
       "   'operator': 'equal',\n",
       "   'value': 'value.1'}]}"
      ]
     },
     "execution_count": 83,
     "metadata": {},
     "output_type": "execute_result"
    }
   ],
   "source": [
    "'''\n",
    "37, 53, 138, 153\n",
    "'''\n",
    "'''\n",
    "Omnyex: 3, 4, 14, 15, 113, 135, 163, 167, 168\n",
    "'''\n",
    "conditions_dicts[49]"
   ]
  },
  {
   "cell_type": "code",
   "execution_count": 84,
   "metadata": {},
   "outputs": [],
   "source": [
    "list(rule_dicts.values())[49]"
   ]
  },
  {
   "cell_type": "markdown",
   "metadata": {},
   "source": [
    "# Test dict to string class"
   ]
  },
  {
   "cell_type": "code",
   "execution_count": 85,
   "metadata": {},
   "outputs": [],
   "source": [
    "from rule.rule import ConvertRuleDictToString"
   ]
  },
  {
   "cell_type": "code",
   "execution_count": 86,
   "metadata": {},
   "outputs": [
    {
     "name": "stdout",
     "output_type": "stream",
     "text": [
      "174\r"
     ]
    }
   ],
   "source": [
    "rule_strings = {}\n",
    "for i, (rule_name, rule_dict) in enumerate(rule_dicts.items()):\n",
    "    print(i, end='\\r')\n",
    "    if rule_dict is None:\n",
    "        rule_strings[rule_name] = None\n",
    "    else:\n",
    "        converter = ConvertRuleDictToString(rule_dict)\n",
    "        rule_strings[rule_name] = converter.convert(as_numpy=True)"
   ]
  },
  {
   "cell_type": "code",
   "execution_count": 87,
   "metadata": {},
   "outputs": [
    {
     "data": {
      "text/plain": [
       "175"
      ]
     },
     "execution_count": 87,
     "metadata": {},
     "output_type": "execute_result"
    }
   ],
   "source": [
    "len(rule_strings)"
   ]
  },
  {
   "cell_type": "code",
   "execution_count": 88,
   "metadata": {},
   "outputs": [
    {
     "data": {
      "text/plain": [
       "{'condition': 'AND',\n",
       " 'rules': [{'field': 'billing_address_full_num_distinct_full_name_per_billing_address_full_1day',\n",
       "   'operator': 'greater_or_equal',\n",
       "   'value': 1.0},\n",
       "  {'field': 'billing_address_full_num_distinct_full_name_per_billing_address_full_7day',\n",
       "   'operator': 'greater_or_equal',\n",
       "   'value': 1.0},\n",
       "  {'field': 'billing_address_full_num_distinct_full_name_per_billing_address_full_30day',\n",
       "   'operator': 'greater_or_equal',\n",
       "   'value': 3.0}]}"
      ]
     },
     "execution_count": 88,
     "metadata": {},
     "output_type": "execute_result"
    }
   ],
   "source": [
    "list(rule_dicts.values())[6]"
   ]
  },
  {
   "cell_type": "code",
   "execution_count": 89,
   "metadata": {},
   "outputs": [
    {
     "data": {
      "text/plain": [
       "\"(X['billing_address_full_num_distinct_full_name_per_billing_address_full_1day'].values>=1.0)&(X['billing_address_full_num_distinct_full_name_per_billing_address_full_7day'].values>=1.0)&(X['billing_address_full_num_distinct_full_name_per_billing_address_full_30day'].values>=3.0)\""
      ]
     },
     "execution_count": 89,
     "metadata": {},
     "output_type": "execute_result"
    }
   ],
   "source": [
    "list(rule_strings.values())[6]"
   ]
  },
  {
   "cell_type": "markdown",
   "metadata": {},
   "source": [
    "# Test dict to lambda class"
   ]
  },
  {
   "cell_type": "code",
   "execution_count": 90,
   "metadata": {},
   "outputs": [],
   "source": [
    "from rule.rule import ConvertRuleDictToLambda"
   ]
  },
  {
   "cell_type": "code",
   "execution_count": 91,
   "metadata": {},
   "outputs": [
    {
     "name": "stdout",
     "output_type": "stream",
     "text": [
      "174\r"
     ]
    }
   ],
   "source": [
    "rule_lambdas = {}\n",
    "for i, (rule_name, rule_dict) in enumerate(rule_dicts.items()):\n",
    "    print(i, end='\\r')\n",
    "    if rule_dict is None:\n",
    "        rule_lambdas[rule_name] = None\n",
    "    else:\n",
    "        converter = ConvertRuleDictToLambda(rule_dict)\n",
    "        rule_lambdas[rule_name] = converter.convert(as_numpy=True, with_kwargs=False)"
   ]
  },
  {
   "cell_type": "code",
   "execution_count": 92,
   "metadata": {},
   "outputs": [
    {
     "data": {
      "text/plain": [
       "\"(X['billing_address_full_num_distinct_full_name_per_billing_address_full_1day'].values>=60)&(X['billing_address_full_num_distinct_full_name_per_billing_address_full_7day'].values>=120)&(X['billing_address_full_num_distinct_full_name_per_billing_address_full_30day'].values>=500)\""
      ]
     },
     "execution_count": 92,
     "metadata": {},
     "output_type": "execute_result"
    }
   ],
   "source": [
    "# rule_lambda_list[0]({'payer_id_sum_approved_txn_amt_per_paypalid_1day': 60, 'payer_id_sum_approved_txn_amt_per_paypalid_7day': 120, 'payer_id_sum_approved_txn_amt_per_paypalid_30day': 500, 'num_items': 1, 'total_num_items_ordered':2})\n",
    "list(rule_lambdas.values())[6](60, 120, 500, 1, 2, 6, 7)"
   ]
  },
  {
   "cell_type": "markdown",
   "metadata": {},
   "source": [
    "# Test string to dict"
   ]
  },
  {
   "cell_type": "code",
   "execution_count": 93,
   "metadata": {},
   "outputs": [],
   "source": [
    "from rule.rule import ConvertRuleStringToDict"
   ]
  },
  {
   "cell_type": "code",
   "execution_count": 97,
   "metadata": {},
   "outputs": [],
   "source": [
    "# test = \"((np.char.contains(X['message_text_1'].values, ' web de '))|(np.char.contains(X['message_text_1'].values, ' ( ] '))|(np.char.contains(X['message_text_1'].values, ' .at. '))|(np.char.contains(X['message_text_1'].values, ' [ ] '))|(np.char.contains(X['message_text_1'].values, ' (a) '))|(np.char.contains(X['message_text_1'].values, ' att '))|(np.char.contains(X['message_text_1'].values, ' ett '))|(np.char.contains(X['message_text_1'].values, ' .et. '))|(np.char.contains(X['message_text_1'].values, ' -at- '))|(np.char.contains(X['message_text_1'].values, ' (et) '))|(np.char.contains(X['message_text_1'].values, ' -et- '))|(np.char.contains(X['message_text_1'].values, 'liksmail'))|(np.char.contains(X['message_text_1'].values, 'posteo.net'))|(np.char.contains(X['message_text_1'].values, '[at]'))|(np.char.contains(X['message_text_1'].values, '[punkt]')))&((X['user_sender_email_domain'].values=='jeepmails.com')|(X['user_sender_email_domain'].values=='outlook.com')|(X['user_sender_email_domain'].values=='tutamail.com')|(X['user_sender_email_domain'].values=='web.de')|(X['user_sender_email_domain'].values=='gmx.de')|(X['user_sender_email_domain'].values=='gmx.at')|(X['user_sender_email_domain'].values=='gmx.ch')|(X['user_sender_email_domain'].values=='gmx.net'))&((~np.char.startswith(X['user_sender_id_eid'].values, '1'))&(~np.char.startswith(X['user_sender_id_eid'].values, '20'))&(~np.char.startswith(X['user_sender_id_eid'].values, '21'))&(~np.char.startswith(X['user_sender_id_eid'].values, '22')))&((~np.char.contains(X['message_text_1'].values, 'gesendet mit der web.de mail app')))\"\n"
   ]
  },
  {
   "cell_type": "code",
   "execution_count": 98,
   "metadata": {},
   "outputs": [],
   "source": [
    "# c = ConvertRuleStringToDict(rule_string = test)\n",
    "# c.convert()"
   ]
  },
  {
   "cell_type": "code",
   "execution_count": 99,
   "metadata": {},
   "outputs": [
    {
     "name": "stdout",
     "output_type": "stream",
     "text": [
      "IP Proxymailer_1553604171340perssFullrerrsFull\r"
     ]
    }
   ],
   "source": [
    "rule_dicts_from_strings = {}\n",
    "rule_dicts_equal = {}\n",
    "for i, (rule_name, rule_string) in enumerate(rule_strings.items()):\n",
    "#     print(i, end='\\r')\n",
    "    print(rule_name, end='\\r')\n",
    "    if rule_string is None:\n",
    "        rule_dicts_from_strings[rule_name] = None\n",
    "    else:\n",
    "        c = ConvertRuleStringToDict(rule_string = rule_string)\n",
    "        rule_dict_from_str = c.convert()\n",
    "        rule_dicts_from_strings[rule_name] = rule_dict_from_str\n",
    "        rule_dicts_equal[rule_name] = rule_dict_from_str == rule_dicts[rule_name]"
   ]
  },
  {
   "cell_type": "code",
   "execution_count": 100,
   "metadata": {},
   "outputs": [
    {
     "data": {
      "text/plain": [
       "0.9681528662420382"
      ]
     },
     "execution_count": 100,
     "metadata": {},
     "output_type": "execute_result"
    }
   ],
   "source": [
    "np.array(list(rule_dicts_equal.values())).mean()"
   ]
  },
  {
   "cell_type": "code",
   "execution_count": 101,
   "metadata": {},
   "outputs": [],
   "source": [
    "rule_names_dicts_not_equal = []\n",
    "for rule_name, equal in rule_dicts_equal.items():\n",
    "    rule_dict_str = str(rule_dicts[rule_name])\n",
    "    rule_dict_from_string_str = str(rule_dicts_from_strings[rule_name])\n",
    "    if not equal and rule_dict_str.count(\"'contains'\") > 1 and rule_dict_from_string_str.count(\"'contains'\") > 1:\n",
    "        rule_names_dicts_not_equal.append(rule_name)"
   ]
  },
  {
   "cell_type": "code",
   "execution_count": 102,
   "metadata": {},
   "outputs": [
    {
     "data": {
      "text/plain": [
       "[]"
      ]
     },
     "execution_count": 102,
     "metadata": {},
     "output_type": "execute_result"
    }
   ],
   "source": [
    "rule_names_dicts_not_equal"
   ]
  },
  {
   "cell_type": "code",
   "execution_count": 104,
   "metadata": {},
   "outputs": [],
   "source": [
    "# rule_strings['LoanCreditFraud_new']"
   ]
  },
  {
   "cell_type": "code",
   "execution_count": 105,
   "metadata": {},
   "outputs": [],
   "source": [
    "# rule_dicts['LoanCreditFraud_new']"
   ]
  },
  {
   "cell_type": "code",
   "execution_count": 106,
   "metadata": {},
   "outputs": [],
   "source": [
    "# rule_dicts_from_strings['LoanCreditFraud_new']"
   ]
  },
  {
   "cell_type": "markdown",
   "metadata": {},
   "source": [
    "# Test dict to string (from dicts converted using string to dict)"
   ]
  },
  {
   "cell_type": "code",
   "execution_count": 107,
   "metadata": {},
   "outputs": [
    {
     "name": "stdout",
     "output_type": "stream",
     "text": [
      "IP Proxymailer_1553604171340perssFullrerrsFull\r"
     ]
    }
   ],
   "source": [
    "rule_strings_from_dicts = {}\n",
    "rule_strings_equal = {}\n",
    "for rule_name, rule_dict in rule_dicts_from_strings.items():\n",
    "    print(rule_name, end='\\r')\n",
    "    if rule_dict is None:\n",
    "        rule_strings_from_dicts[rule_name] = None\n",
    "    else:\n",
    "        c = ConvertRuleDictToString(rule_dict=rule_dict)\n",
    "        rule_str = c.convert(as_numpy=True)\n",
    "        rule_strings_from_dicts[rule_name] = rule_str\n",
    "        rule_strings_equal[rule_name] = rule_str == rule_strings[rule_name]\n",
    "        "
   ]
  },
  {
   "cell_type": "code",
   "execution_count": 108,
   "metadata": {},
   "outputs": [
    {
     "data": {
      "text/plain": [
       "0.9808917197452229"
      ]
     },
     "execution_count": 108,
     "metadata": {},
     "output_type": "execute_result"
    }
   ],
   "source": [
    "np.array(list(rule_strings_equal.values())).mean()"
   ]
  },
  {
   "cell_type": "code",
   "execution_count": 109,
   "metadata": {},
   "outputs": [],
   "source": [
    "rule_strings_not_equal = []\n",
    "for rule_name, equal in rule_strings_equal.items():\n",
    "    if not equal:\n",
    "        rule_strings_not_equal.append(rule_name)"
   ]
  },
  {
   "cell_type": "code",
   "execution_count": 110,
   "metadata": {},
   "outputs": [
    {
     "data": {
      "text/plain": [
       "['Rule_Suggester_1553604152209',\n",
       " 'Rule_Suggester_1553604164562',\n",
       " 'Rule_Suggester_1553604168748']"
      ]
     },
     "execution_count": 110,
     "metadata": {},
     "output_type": "execute_result"
    }
   ],
   "source": [
    "rule_strings_not_equal"
   ]
  },
  {
   "cell_type": "code",
   "execution_count": 114,
   "metadata": {},
   "outputs": [
    {
     "data": {
      "text/plain": [
       "\"((X['submitter_full_name_num_distinct_account_number_per_full_name_30day'].values>=4.0))&((X['account_number_variability_shipping_zip_to_account_number_1day'].values>=0.4))\""
      ]
     },
     "execution_count": 114,
     "metadata": {},
     "output_type": "execute_result"
    }
   ],
   "source": [
    "rule_strings['Rule_Suggester_1553604164562']"
   ]
  },
  {
   "cell_type": "code",
   "execution_count": 113,
   "metadata": {},
   "outputs": [
    {
     "data": {
      "text/plain": [
       "\"(X['submitter_full_name_num_distinct_account_number_per_full_name_30day'].values>=4.0)&(X['account_number_variability_shipping_zip_to_account_number_1day'].values>=0.4)\""
      ]
     },
     "execution_count": 113,
     "metadata": {},
     "output_type": "execute_result"
    }
   ],
   "source": [
    "rule_strings_from_dicts['Rule_Suggester_1553604164562']"
   ]
  },
  {
   "cell_type": "code",
   "execution_count": null,
   "metadata": {},
   "outputs": [],
   "source": []
  },
  {
   "cell_type": "code",
   "execution_count": null,
   "metadata": {},
   "outputs": [],
   "source": []
  },
  {
   "cell_type": "code",
   "execution_count": 25,
   "metadata": {},
   "outputs": [],
   "source": [
    "from rules.rules import Rules\n",
    "from rules.convert_rule_string_to_rule_dict import ConvertRuleStringToRuleDict"
   ]
  },
  {
   "cell_type": "code",
   "execution_count": 26,
   "metadata": {},
   "outputs": [],
   "source": [
    "rule_strings = {\n",
    "        'Rule1': \"((X['A']>=60.0)|(X['B'].str.startswith('foo', na=False))|(X['C'].isna()))&(X['D'].isin(['foo', 'bar']))&(X['E']==X['F'])&(X['G'].fillna('')=='')\",\n",
    "        'Rule2': \"((X['A']<=60.0)|(~X['B'].str.startswith('foo', na=False))|(~X['C'].isna()))&(~X['D'].isin(['foo', 'bar']))&(X['E']!=X['F'])&(X['G'].fillna('')!='')\"\n",
    "    }"
   ]
  },
  {
   "cell_type": "code",
   "execution_count": 30,
   "metadata": {},
   "outputs": [],
   "source": [
    "r = Rules(rule_strings=rule_strings)"
   ]
  },
  {
   "cell_type": "code",
   "execution_count": 32,
   "metadata": {},
   "outputs": [
    {
     "data": {
      "text/plain": [
       "{}"
      ]
     },
     "execution_count": 32,
     "metadata": {},
     "output_type": "execute_result"
    }
   ],
   "source": [
    "r.system_dicts"
   ]
  },
  {
   "cell_type": "code",
   "execution_count": 33,
   "metadata": {},
   "outputs": [
    {
     "data": {
      "text/plain": [
       "{}"
      ]
     },
     "execution_count": 33,
     "metadata": {},
     "output_type": "execute_result"
    }
   ],
   "source": [
    "# r._rule_strings_to_rule_dicts()\n",
    "r.as_rule_dicts()"
   ]
  },
  {
   "cell_type": "code",
   "execution_count": 29,
   "metadata": {},
   "outputs": [
    {
     "data": {
      "text/plain": [
       "{}"
      ]
     },
     "execution_count": 29,
     "metadata": {},
     "output_type": "execute_result"
    }
   ],
   "source": [
    "r.rule_dicts"
   ]
  },
  {
   "cell_type": "code",
   "execution_count": 7,
   "metadata": {},
   "outputs": [],
   "source": [
    "converter = ConvertRuleStringToRuleDict(rule_string=rule_strings['Rule1'])"
   ]
  },
  {
   "cell_type": "code",
   "execution_count": 8,
   "metadata": {},
   "outputs": [
    {
     "data": {
      "text/plain": [
       "{'condition': 'AND',\n",
       " 'rules': [{'condition': 'OR',\n",
       "   'rules': [{'field': 'A', 'operator': 'greater_or_equal', 'value': 60.0},\n",
       "    {'field': 'B', 'operator': 'begins_with', 'value': 'foo'},\n",
       "    {'field': 'C', 'operator': 'is_null', 'value': None}]},\n",
       "  {'field': 'D', 'operator': 'in', 'value': ['foo', 'bar']},\n",
       "  {'field': 'E', 'operator': 'equal_field', 'value': 'F'},\n",
       "  {'field': 'G', 'operator': 'is_empty', 'value': None}]}"
      ]
     },
     "execution_count": 8,
     "metadata": {},
     "output_type": "execute_result"
    }
   ],
   "source": [
    "converter.convert()"
   ]
  },
  {
   "cell_type": "code",
   "execution_count": null,
   "metadata": {},
   "outputs": [],
   "source": []
  }
 ],
 "metadata": {
  "kernelspec": {
   "display_name": "argo",
   "language": "python",
   "name": "argo"
  },
  "language_info": {
   "codemirror_mode": {
    "name": "ipython",
    "version": 3
   },
   "file_extension": ".py",
   "mimetype": "text/x-python",
   "name": "python",
   "nbconvert_exporter": "python",
   "pygments_lexer": "ipython3",
   "version": "3.7.3"
  }
 },
 "nbformat": 4,
 "nbformat_minor": 4
}
