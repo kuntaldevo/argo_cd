{
 "cells": [
  {
   "cell_type": "code",
   "execution_count": 1,
   "metadata": {},
   "outputs": [],
   "source": [
    "%load_ext autoreload\n",
    "%autoreload 2"
   ]
  },
  {
   "cell_type": "code",
   "execution_count": 2,
   "metadata": {},
   "outputs": [],
   "source": [
    "import pandas as pd\n",
    "import numpy as np\n",
    "import json\n",
    "from rule.rules import Rules"
   ]
  },
  {
   "cell_type": "markdown",
   "metadata": {},
   "source": [
    "---"
   ]
  },
  {
   "cell_type": "markdown",
   "metadata": {},
   "source": [
    "# Omnyex"
   ]
  },
  {
   "cell_type": "markdown",
   "metadata": {},
   "source": [
    "# Summary of results\n",
    "- With as_numpy = True -> SUCCESS\n",
    "- With as_numpy = False -> SUCCESS"
   ]
  },
  {
   "cell_type": "code",
   "execution_count": 3,
   "metadata": {},
   "outputs": [],
   "source": [
    "from simility_requests.return_rule_info_from_simility import ReturnRuleInfoFromSimility\n",
    "from simility_apis.set_password import set_password"
   ]
  },
  {
   "cell_type": "code",
   "execution_count": 4,
   "metadata": {},
   "outputs": [
    {
     "name": "stdin",
     "output_type": "stream",
     "text": [
      "Please provide your password for logging into the Simility platform:  ·········\n"
     ]
    }
   ],
   "source": [
    "set_password()\n",
    "#088391CE2\n",
    "params = {\n",
    "    'url': 'https://eu.simility.com',\n",
    "    'app_prefix': 'omnyex',\n",
    "    'user': 'jlaidler@paypal.com',\n",
    "    'entity': 'orders'\n",
    "}\n",
    "rri = ReturnRuleInfoFromSimility(**params)\n",
    "rule_info = rri.request()"
   ]
  },
  {
   "cell_type": "code",
   "execution_count": 5,
   "metadata": {},
   "outputs": [],
   "source": [
    "conditions_dicts = rule_info['jsonConfig'].apply(lambda x: json.loads(x['conditions'])).to_dict()"
   ]
  },
  {
   "cell_type": "markdown",
   "metadata": {},
   "source": [
    "# From system format to dict format"
   ]
  },
  {
   "cell_type": "code",
   "execution_count": 6,
   "metadata": {},
   "outputs": [],
   "source": [
    "from rule_parsing.from_system_parser import FromSystemParser"
   ]
  },
  {
   "cell_type": "code",
   "execution_count": 7,
   "metadata": {},
   "outputs": [
    {
     "name": "stderr",
     "output_type": "stream",
     "text": [
      "/Users/jlaidler/Documents/tigress/tigress/argo/argo/rule_parsing/rule_parsing/from_system_parser.py:70: UserWarning: HighAmountPerCustomerEmail : Operator not currently supported in ARGO. Rule cannot be parsed.\n",
      "  warnings.warn(f'{rule_name} : {e}')\n",
      "/Users/jlaidler/Documents/tigress/tigress/argo/argo/rule_parsing/rule_parsing/from_system_parser.py:70: UserWarning: HighAmountPerCardID : Operator not currently supported in ARGO. Rule cannot be parsed.\n",
      "  warnings.warn(f'{rule_name} : {e}')\n",
      "/Users/jlaidler/Documents/tigress/tigress/argo/argo/rule_parsing/rule_parsing/from_system_parser.py:70: UserWarning: HighAmountPerDevice : Operator not currently supported in ARGO. Rule cannot be parsed.\n",
      "  warnings.warn(f'{rule_name} : {e}')\n",
      "/Users/jlaidler/Documents/tigress/tigress/argo/argo/rule_parsing/rule_parsing/from_system_parser.py:70: UserWarning: ForeignBrowserLanguageUsed : Operator not currently supported in ARGO. Rule cannot be parsed.\n",
      "  warnings.warn(f'{rule_name} : {e}')\n",
      "/Users/jlaidler/Documents/tigress/tigress/argo/argo/rule_parsing/rule_parsing/from_system_parser.py:70: UserWarning: HighAmountPerPayPalID : Operator not currently supported in ARGO. Rule cannot be parsed.\n",
      "  warnings.warn(f'{rule_name} : {e}')\n",
      "/Users/jlaidler/Documents/tigress/tigress/argo/argo/rule_parsing/rule_parsing/from_system_parser.py:70: UserWarning: HighAmountPerIP : Operator not currently supported in ARGO. Rule cannot be parsed.\n",
      "  warnings.warn(f'{rule_name} : {e}')\n",
      "/Users/jlaidler/Documents/tigress/tigress/argo/argo/rule_parsing/rule_parsing/from_system_parser.py:70: UserWarning: 202010_US_PayPal_FIFA21_VPN : Operator not currently supported in ARGO. Rule cannot be parsed.\n",
      "  warnings.warn(f'{rule_name} : {e}')\n",
      "/Users/jlaidler/Documents/tigress/tigress/argo/argo/rule_parsing/rule_parsing/from_system_parser.py:70: UserWarning: 202010_US_PayPal_Null_FIFA21 : Operator not currently supported in ARGO. Rule cannot be parsed.\n",
      "  warnings.warn(f'{rule_name} : {e}')\n"
     ]
    }
   ],
   "source": [
    "sp = FromSystemParser(conditions_dicts)\n",
    "rule_dicts = sp.parse()"
   ]
  },
  {
   "cell_type": "code",
   "execution_count": 8,
   "metadata": {},
   "outputs": [
    {
     "data": {
      "text/plain": [
       "(170, 178)"
      ]
     },
     "execution_count": 8,
     "metadata": {},
     "output_type": "execute_result"
    }
   ],
   "source": [
    "len(rule_dicts.keys()), len(conditions_dicts.keys())"
   ]
  },
  {
   "cell_type": "markdown",
   "metadata": {},
   "source": [
    "# Compare rule strings to rule strings from lambda with_kwargs == True"
   ]
  },
  {
   "cell_type": "code",
   "execution_count": 9,
   "metadata": {},
   "outputs": [
    {
     "name": "stdout",
     "output_type": "stream",
     "text": [
      "% rule strings == lambda exp with_kwargs == True: 1.0\n",
      "% rule strings == lambda exp with_kwargs == True: 1.0\n"
     ]
    }
   ],
   "source": [
    "as_numpy = True\n",
    "with_kwargs = True\n",
    "r = Rules(rule_dicts=rule_dicts)\n",
    "rule_strings = r.as_string(as_numpy)\n",
    "rule_lambdas = r.as_lambda(as_numpy, with_kwargs=with_kwargs)\n",
    "\n",
    "kwargs_equal = {}\n",
    "for rule_name, rule_string in rule_strings.items():\n",
    "    eq = rule_string == rule_lambdas[rule_name](**r.lambda_kwargs[rule_name])\n",
    "    kwargs_equal[rule_name] = eq\n",
    "print('% rule strings == lambda exp with_kwargs == True: ' + str(np.array(list(kwargs_equal.values())).mean()))\n",
    "\n",
    "_ = r.as_dict()\n",
    "rule_strings_from_dicts = r.as_string(as_numpy)\n",
    "rule_lambdas_from_strings = r.as_lambda(as_numpy, with_kwargs=with_kwargs)\n",
    "for rule_name, rule_string in rule_strings.items():\n",
    "    eq1 = rule_string == rule_strings_from_dicts[rule_name] \n",
    "    eq2 = rule_string == rule_lambdas_from_strings[rule_name](**r.lambda_kwargs[rule_name])\n",
    "    kwargs_equal[rule_name] = eq1, eq2\n",
    "print('% rule strings == lambda exp with_kwargs == True: ' + str(np.array(list(kwargs_equal.values())).mean()))"
   ]
  },
  {
   "cell_type": "markdown",
   "metadata": {},
   "source": [
    "# Compare rule strings to rule strings from lambda with_kwargs == False"
   ]
  },
  {
   "cell_type": "code",
   "execution_count": 10,
   "metadata": {},
   "outputs": [
    {
     "name": "stdout",
     "output_type": "stream",
     "text": [
      "% rule strings == lambda exp with_args == False: 1.0\n",
      "% rule strings == lambda exp with_args == False: 1.0\n"
     ]
    }
   ],
   "source": [
    "as_numpy = True\n",
    "with_kwargs = False\n",
    "r = Rules(rule_dicts=rule_dicts)\n",
    "rule_strings = r.as_string(as_numpy)\n",
    "rule_lambdas = r.as_lambda(as_numpy, with_kwargs=with_kwargs)\n",
    "\n",
    "args_equal = {}\n",
    "_rule_strings = {}\n",
    "for rule_name, rule_string in rule_strings.items():\n",
    "    eq = rule_string == rule_lambdas[rule_name](*r.lambda_args[rule_name])\n",
    "    _rule_strings[rule_name] = (rule_string, rule_lambdas[rule_name](*r.lambda_args[rule_name]))\n",
    "    args_equal[rule_name] = eq\n",
    "    \n",
    "print('% rule strings == lambda exp with_args == False: ' + str(np.array(list(args_equal.values())).mean()))\n",
    "\n",
    "_ = r.as_dict()\n",
    "rule_strings_from_dicts = r.as_string(as_numpy)\n",
    "rule_lambdas_from_strings = r.as_lambda(as_numpy, with_kwargs=with_kwargs)\n",
    "for rule_name, rule_string in rule_strings.items():\n",
    "    eq1 = rule_string == rule_strings_from_dicts[rule_name] \n",
    "    eq2 = rule_string == rule_lambdas_from_strings[rule_name](*r.lambda_args[rule_name])\n",
    "    args_equal[rule_name] = eq1, eq2\n",
    "print('% rule strings == lambda exp with_args == False: ' + str(np.array(list(args_equal.values())).mean()))"
   ]
  },
  {
   "cell_type": "markdown",
   "metadata": {},
   "source": [
    "---"
   ]
  },
  {
   "cell_type": "markdown",
   "metadata": {},
   "source": [
    "# RW"
   ]
  },
  {
   "cell_type": "markdown",
   "metadata": {},
   "source": [
    "# Summary of results\n",
    "- With as_numpy = True -> SUCCESS\n",
    "- With as_numpy = False -> SUCCESS"
   ]
  },
  {
   "cell_type": "code",
   "execution_count": 11,
   "metadata": {},
   "outputs": [],
   "source": [
    "from simility_requests.return_rule_info_from_simility import ReturnRuleInfoFromSimility\n",
    "from simility_apis.set_password import set_password"
   ]
  },
  {
   "cell_type": "code",
   "execution_count": 12,
   "metadata": {},
   "outputs": [
    {
     "name": "stdin",
     "output_type": "stream",
     "text": [
      "Please provide your password for logging into the Simility platform:  ········\n"
     ]
    }
   ],
   "source": [
    "set_password()\n",
    "params = {\n",
    "    'url': 'https://app.simility.com',\n",
    "    'app_prefix': 'republic_wireless',\n",
    "    'user': 'james@simility.com',\n",
    "    'entity': 'transaction'\n",
    "}\n",
    "rri = ReturnRuleInfoFromSimility(**params)\n",
    "rule_info = rri.request()"
   ]
  },
  {
   "cell_type": "code",
   "execution_count": 13,
   "metadata": {},
   "outputs": [],
   "source": [
    "conditions_dicts = rule_info['jsonConfig'].apply(lambda x: json.loads(x['conditions'])).to_dict()"
   ]
  },
  {
   "cell_type": "markdown",
   "metadata": {},
   "source": [
    "# From system format to dict format"
   ]
  },
  {
   "cell_type": "code",
   "execution_count": 14,
   "metadata": {},
   "outputs": [],
   "source": [
    "from rule_parsing.from_system_parser import FromSystemParser"
   ]
  },
  {
   "cell_type": "code",
   "execution_count": 15,
   "metadata": {},
   "outputs": [
    {
     "name": "stderr",
     "output_type": "stream",
     "text": [
      "/Users/jlaidler/Documents/tigress/tigress/argo/argo/rule_parsing/rule_parsing/from_system_parser.py:70: UserWarning: ln_review_shipping_address_1 : Operator not currently supported in ARGO. Rule cannot be parsed.\n",
      "  warnings.warn(f'{rule_name} : {e}')\n",
      "/Users/jlaidler/Documents/tigress/tigress/argo/argo/rule_parsing/rule_parsing/from_system_parser.py:70: UserWarning: ln_review_city : Operator not currently supported in ARGO. Rule cannot be parsed.\n",
      "  warnings.warn(f'{rule_name} : {e}')\n",
      "/Users/jlaidler/Documents/tigress/tigress/argo/argo/rule_parsing/rule_parsing/from_system_parser.py:70: UserWarning: ln_review_order_items : Operator not currently supported in ARGO. Rule cannot be parsed.\n",
      "  warnings.warn(f'{rule_name} : {e}')\n",
      "/Users/jlaidler/Documents/tigress/tigress/argo/argo/rule_parsing/rule_parsing/from_system_parser.py:70: UserWarning: ln_escalate_shipping_address : Operator not currently supported in ARGO. Rule cannot be parsed.\n",
      "  warnings.warn(f'{rule_name} : {e}')\n",
      "/Users/jlaidler/Documents/tigress/tigress/argo/argo/rule_parsing/rule_parsing/from_system_parser.py:70: UserWarning: ln_escalate_billing_address : Operator not currently supported in ARGO. Rule cannot be parsed.\n",
      "  warnings.warn(f'{rule_name} : {e}')\n",
      "/Users/jlaidler/Documents/tigress/tigress/argo/argo/rule_parsing/rule_parsing/from_system_parser.py:70: UserWarning: ln_approve : Operator not currently supported in ARGO. Rule cannot be parsed.\n",
      "  warnings.warn(f'{rule_name} : {e}')\n",
      "/Users/jlaidler/Documents/tigress/tigress/argo/argo/rule_parsing/rule_parsing/from_system_parser.py:70: UserWarning: ln_review_full_name : Operator not currently supported in ARGO. Rule cannot be parsed.\n",
      "  warnings.warn(f'{rule_name} : {e}')\n",
      "/Users/jlaidler/Documents/tigress/tigress/argo/argo/rule_parsing/rule_parsing/from_system_parser.py:70: UserWarning: ln_review_ip_address : Operator not currently supported in ARGO. Rule cannot be parsed.\n",
      "  warnings.warn(f'{rule_name} : {e}')\n",
      "/Users/jlaidler/Documents/tigress/tigress/argo/argo/rule_parsing/rule_parsing/from_system_parser.py:70: UserWarning: ln_review_submitter_email : Operator not currently supported in ARGO. Rule cannot be parsed.\n",
      "  warnings.warn(f'{rule_name} : {e}')\n",
      "/Users/jlaidler/Documents/tigress/tigress/argo/argo/rule_parsing/rule_parsing/from_system_parser.py:70: UserWarning: ln_review_billing_address_1 : Operator not currently supported in ARGO. Rule cannot be parsed.\n",
      "  warnings.warn(f'{rule_name} : {e}')\n",
      "/Users/jlaidler/Documents/tigress/tigress/argo/argo/rule_parsing/rule_parsing/from_system_parser.py:70: UserWarning: ln_escalate_full_name : Operator not currently supported in ARGO. Rule cannot be parsed.\n",
      "  warnings.warn(f'{rule_name} : {e}')\n",
      "/Users/jlaidler/Documents/tigress/tigress/argo/argo/rule_parsing/rule_parsing/from_system_parser.py:70: UserWarning: ln_risky_billing_address_1 : Operator not currently supported in ARGO. Rule cannot be parsed.\n",
      "  warnings.warn(f'{rule_name} : {e}')\n",
      "/Users/jlaidler/Documents/tigress/tigress/argo/argo/rule_parsing/rule_parsing/from_system_parser.py:70: UserWarning: ln_risky_shipping_address_1 : Operator not currently supported in ARGO. Rule cannot be parsed.\n",
      "  warnings.warn(f'{rule_name} : {e}')\n",
      "/Users/jlaidler/Documents/tigress/tigress/argo/argo/rule_parsing/rule_parsing/from_system_parser.py:70: UserWarning: ln_risky_shipping_address_2 : Operator not currently supported in ARGO. Rule cannot be parsed.\n",
      "  warnings.warn(f'{rule_name} : {e}')\n",
      "/Users/jlaidler/Documents/tigress/tigress/argo/argo/rule_parsing/rule_parsing/from_system_parser.py:70: UserWarning: ln_risky_submitter_email : Operator not currently supported in ARGO. Rule cannot be parsed.\n",
      "  warnings.warn(f'{rule_name} : {e}')\n",
      "/Users/jlaidler/Documents/tigress/tigress/argo/argo/rule_parsing/rule_parsing/from_system_parser.py:70: UserWarning: ln_risky_full_name : Operator not currently supported in ARGO. Rule cannot be parsed.\n",
      "  warnings.warn(f'{rule_name} : {e}')\n",
      "/Users/jlaidler/Documents/tigress/tigress/argo/argo/rule_parsing/rule_parsing/from_system_parser.py:70: UserWarning: ln_risky_ip_address : Operator not currently supported in ARGO. Rule cannot be parsed.\n",
      "  warnings.warn(f'{rule_name} : {e}')\n",
      "/Users/jlaidler/Documents/tigress/tigress/argo/argo/rule_parsing/rule_parsing/from_system_parser.py:70: UserWarning: ln_risky_shipping_zip : Operator not currently supported in ARGO. Rule cannot be parsed.\n",
      "  warnings.warn(f'{rule_name} : {e}')\n"
     ]
    }
   ],
   "source": [
    "sp = FromSystemParser(conditions_dicts)\n",
    "rule_dicts = sp.parse()"
   ]
  },
  {
   "cell_type": "code",
   "execution_count": 16,
   "metadata": {},
   "outputs": [
    {
     "data": {
      "text/plain": [
       "(157, 175)"
      ]
     },
     "execution_count": 16,
     "metadata": {},
     "output_type": "execute_result"
    }
   ],
   "source": [
    "len(rule_dicts.keys()), len(conditions_dicts.keys())"
   ]
  },
  {
   "cell_type": "markdown",
   "metadata": {},
   "source": [
    "# Compare rule strings to rule strings from lambda with_kwargs == True"
   ]
  },
  {
   "cell_type": "code",
   "execution_count": 17,
   "metadata": {},
   "outputs": [
    {
     "name": "stdout",
     "output_type": "stream",
     "text": [
      "% rule strings == lambda exp with_kwargs == True: 1.0\n",
      "% rule strings == lambda exp with_kwargs == True: 1.0\n"
     ]
    }
   ],
   "source": [
    "as_numpy = True\n",
    "with_kwargs = True\n",
    "r = Rules(rule_dicts=rule_dicts)\n",
    "rule_strings = r.as_string(as_numpy)\n",
    "rule_lambdas = r.as_lambda(as_numpy, with_kwargs=with_kwargs)\n",
    "\n",
    "kwargs_equal = {}\n",
    "for rule_name, rule_string in rule_strings.items():\n",
    "    eq = rule_string == rule_lambdas[rule_name](**r.lambda_kwargs[rule_name])\n",
    "    kwargs_equal[rule_name] = eq\n",
    "print('% rule strings == lambda exp with_kwargs == True: ' + str(np.array(list(kwargs_equal.values())).mean()))\n",
    "\n",
    "_ = r.as_dict()\n",
    "rule_strings_from_dicts = r.as_string(as_numpy)\n",
    "rule_lambdas_from_strings = r.as_lambda(as_numpy, with_kwargs=with_kwargs)\n",
    "for rule_name, rule_string in rule_strings.items():\n",
    "    eq1 = rule_string == rule_strings_from_dicts[rule_name] \n",
    "    eq2 = rule_string == rule_lambdas_from_strings[rule_name](**r.lambda_kwargs[rule_name])\n",
    "    kwargs_equal[rule_name] = eq1, eq2\n",
    "print('% rule strings == lambda exp with_kwargs == True: ' + str(np.array(list(kwargs_equal.values())).mean()))"
   ]
  },
  {
   "cell_type": "markdown",
   "metadata": {},
   "source": [
    "# Compare rule strings to rule strings from lambda with_kwargs == False"
   ]
  },
  {
   "cell_type": "code",
   "execution_count": 18,
   "metadata": {},
   "outputs": [
    {
     "name": "stdout",
     "output_type": "stream",
     "text": [
      "% rule strings == lambda exp with_args == False: 1.0\n",
      "% rule strings == lambda exp with_args == False: 1.0\n"
     ]
    }
   ],
   "source": [
    "as_numpy = True\n",
    "with_kwargs = False\n",
    "r = Rules(rule_dicts=rule_dicts)\n",
    "rule_strings = r.as_string(as_numpy)\n",
    "rule_lambdas = r.as_lambda(as_numpy, with_kwargs=with_kwargs)\n",
    "\n",
    "args_equal = {}\n",
    "_rule_strings = {}\n",
    "for rule_name, rule_string in rule_strings.items():\n",
    "    eq = rule_string == rule_lambdas[rule_name](*r.lambda_args[rule_name])\n",
    "    _rule_strings[rule_name] = (rule_string, rule_lambdas[rule_name](*r.lambda_args[rule_name]))\n",
    "    args_equal[rule_name] = eq\n",
    "    \n",
    "print('% rule strings == lambda exp with_args == False: ' + str(np.array(list(args_equal.values())).mean()))\n",
    "\n",
    "_ = r.as_dict()\n",
    "rule_strings_from_dicts = r.as_string(as_numpy)\n",
    "rule_lambdas_from_strings = r.as_lambda(as_numpy, with_kwargs=with_kwargs)\n",
    "for rule_name, rule_string in rule_strings.items():\n",
    "    eq1 = rule_string == rule_strings_from_dicts[rule_name] \n",
    "    eq2 = rule_string == rule_lambdas_from_strings[rule_name](*r.lambda_args[rule_name])\n",
    "    args_equal[rule_name] = eq1, eq2\n",
    "print('% rule strings == lambda exp with_args == False: ' + str(np.array(list(args_equal.values())).mean()))"
   ]
  },
  {
   "cell_type": "code",
   "execution_count": null,
   "metadata": {},
   "outputs": [],
   "source": []
  }
 ],
 "metadata": {
  "kernelspec": {
   "display_name": "argo",
   "language": "python",
   "name": "argo"
  },
  "language_info": {
   "codemirror_mode": {
    "name": "ipython",
    "version": 3
   },
   "file_extension": ".py",
   "mimetype": "text/x-python",
   "name": "python",
   "nbconvert_exporter": "python",
   "pygments_lexer": "ipython3",
   "version": "3.7.3"
  }
 },
 "nbformat": 4,
 "nbformat_minor": 4
}
