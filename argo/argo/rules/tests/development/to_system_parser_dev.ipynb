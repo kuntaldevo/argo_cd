{
 "cells": [
  {
   "cell_type": "code",
   "execution_count": 43,
   "metadata": {},
   "outputs": [
    {
     "name": "stdout",
     "output_type": "stream",
     "text": [
      "The autoreload extension is already loaded. To reload it, use:\n",
      "  %reload_ext autoreload\n"
     ]
    }
   ],
   "source": [
    "%load_ext autoreload\n",
    "%autoreload 2"
   ]
  },
  {
   "cell_type": "code",
   "execution_count": 44,
   "metadata": {},
   "outputs": [],
   "source": [
    "from simility_requests.return_rule_info_from_simility import ReturnRuleInfoFromSimility\n",
    "from simility_requests.return_cassandra_dtypes import ReturnCassandraDatatypes\n",
    "from rule_parsing.from_system_parser import FromSystemParser\n",
    "from simility_apis.set_password import set_password\n",
    "import pandas as pd\n",
    "import numpy as np\n",
    "import json"
   ]
  },
  {
   "cell_type": "code",
   "execution_count": 45,
   "metadata": {},
   "outputs": [
    {
     "name": "stdin",
     "output_type": "stream",
     "text": [
      "Please provide your password for logging into the Simility platform:  ········\n"
     ]
    }
   ],
   "source": [
    "set_password()\n",
    "params = {\n",
    "    'url': 'https://app.simility.com',\n",
    "    'app_prefix': 'republic_wireless',\n",
    "    'user': 'james@simility.com',\n",
    "    'entity': 'transaction'\n",
    "}\n",
    "# 088391CE2\n",
    "# params = {\n",
    "#     'url': 'https://eu.simility.com',\n",
    "#     'app_prefix': 'omnyex',\n",
    "#     'user': 'jlaidler@paypal.com',\n",
    "#     'entity': 'orders'\n",
    "# }\n",
    "# params = {\n",
    "#     'url': 'https://eu.simility.com',\n",
    "#     'app_prefix': 'rebtel',\n",
    "#     'user': 'james@simility.com',\n",
    "#     'entity': 'orders'\n",
    "# }\n",
    "rri = ReturnRuleInfoFromSimility(**params)\n",
    "rule_info = rri.request()"
   ]
  },
  {
   "cell_type": "markdown",
   "metadata": {},
   "source": [
    "# Get system rule conditions"
   ]
  },
  {
   "cell_type": "code",
   "execution_count": 46,
   "metadata": {},
   "outputs": [],
   "source": [
    "conditions = rule_info['conditions'].apply(lambda x: json.loads(x)).to_dict()"
   ]
  },
  {
   "cell_type": "code",
   "execution_count": 47,
   "metadata": {},
   "outputs": [],
   "source": [
    "params = {\n",
    "    'url': 'https://app.simility.com',\n",
    "    'app_prefix': 'republic_wireless',\n",
    "    'user': 'james@simility.com',\n",
    "    'base_entity': 'transaction'\n",
    "}\n",
    "# params = {\n",
    "#     'url': 'https://eu.simility.com',\n",
    "#     'app_prefix': 'omnyex',\n",
    "#     'user': 'jlaidler@paypal.com',\n",
    "#     'base_entity': 'orders'\n",
    "# }\n",
    "# params = {\n",
    "#     'url': 'https://eu.simility.com',\n",
    "#     'app_prefix': 'rebtel',\n",
    "#     'user': 'james@simility.com',\n",
    "#     'base_entity': 'orders'\n",
    "# }"
   ]
  },
  {
   "cell_type": "code",
   "execution_count": 48,
   "metadata": {},
   "outputs": [],
   "source": [
    "rcdt = ReturnCassandraDatatypes(**params)"
   ]
  },
  {
   "cell_type": "code",
   "execution_count": 49,
   "metadata": {},
   "outputs": [],
   "source": [
    "rw_cass_dtypes = rcdt.request()"
   ]
  },
  {
   "cell_type": "code",
   "execution_count": 50,
   "metadata": {},
   "outputs": [
    {
     "data": {
      "text/plain": [
       "array(['FLOAT', 'BIGINT', 'TEXT', 'MAP', 'INT', 'DOUBLE', 'SET',\n",
       "       'BOOLEAN', 'TIMESTAMP', 'BLOB', 'LIST'], dtype=object)"
      ]
     },
     "execution_count": 50,
     "metadata": {},
     "output_type": "execute_result"
    }
   ],
   "source": [
    "rw_cass_dtypes['CassandraDatatype'].unique()"
   ]
  },
  {
   "cell_type": "code",
   "execution_count": 51,
   "metadata": {},
   "outputs": [
    {
     "data": {
      "text/html": [
       "<div>\n",
       "<style scoped>\n",
       "    .dataframe tbody tr th:only-of-type {\n",
       "        vertical-align: middle;\n",
       "    }\n",
       "\n",
       "    .dataframe tbody tr th {\n",
       "        vertical-align: top;\n",
       "    }\n",
       "\n",
       "    .dataframe thead th {\n",
       "        text-align: right;\n",
       "    }\n",
       "</style>\n",
       "<table border=\"1\" class=\"dataframe\">\n",
       "  <thead>\n",
       "    <tr style=\"text-align: right;\">\n",
       "      <th></th>\n",
       "      <th></th>\n",
       "      <th></th>\n",
       "      <th>PipelineOutputFieldName</th>\n",
       "      <th>CassandraDatatype</th>\n",
       "    </tr>\n",
       "    <tr>\n",
       "      <th>Entity</th>\n",
       "      <th>ReferenceField</th>\n",
       "      <th>CassandraFieldName</th>\n",
       "      <th></th>\n",
       "      <th></th>\n",
       "    </tr>\n",
       "  </thead>\n",
       "  <tbody>\n",
       "    <tr>\n",
       "      <th rowspan=\"5\" valign=\"top\">transaction</th>\n",
       "      <th rowspan=\"5\" valign=\"top\">-</th>\n",
       "      <th>user_agent_os_family</th>\n",
       "      <td>user_agent_os_family</td>\n",
       "      <td>TEXT</td>\n",
       "    </tr>\n",
       "    <tr>\n",
       "      <th>user_agent_os_vendor</th>\n",
       "      <td>user_agent_os_vendor</td>\n",
       "      <td>TEXT</td>\n",
       "    </tr>\n",
       "    <tr>\n",
       "      <th>vpn_high_1m_ratio</th>\n",
       "      <td>vpn_high_1m_ratio</td>\n",
       "      <td>DOUBLE</td>\n",
       "    </tr>\n",
       "    <tr>\n",
       "      <th>vpn_high_1w_ratio</th>\n",
       "      <td>vpn_high_1w_ratio</td>\n",
       "      <td>DOUBLE</td>\n",
       "    </tr>\n",
       "    <tr>\n",
       "      <th>vpn_high_2d_ratio</th>\n",
       "      <td>vpn_high_2d_ratio</td>\n",
       "      <td>DOUBLE</td>\n",
       "    </tr>\n",
       "  </tbody>\n",
       "</table>\n",
       "</div>"
      ],
      "text/plain": [
       "                                                PipelineOutputFieldName  \\\n",
       "Entity      ReferenceField CassandraFieldName                             \n",
       "transaction -              user_agent_os_family    user_agent_os_family   \n",
       "                           user_agent_os_vendor    user_agent_os_vendor   \n",
       "                           vpn_high_1m_ratio          vpn_high_1m_ratio   \n",
       "                           vpn_high_1w_ratio          vpn_high_1w_ratio   \n",
       "                           vpn_high_2d_ratio          vpn_high_2d_ratio   \n",
       "\n",
       "                                                CassandraDatatype  \n",
       "Entity      ReferenceField CassandraFieldName                      \n",
       "transaction -              user_agent_os_family              TEXT  \n",
       "                           user_agent_os_vendor              TEXT  \n",
       "                           vpn_high_1m_ratio               DOUBLE  \n",
       "                           vpn_high_1w_ratio               DOUBLE  \n",
       "                           vpn_high_2d_ratio               DOUBLE  "
      ]
     },
     "execution_count": 51,
     "metadata": {},
     "output_type": "execute_result"
    }
   ],
   "source": [
    "rw_cass_dtypes.tail()"
   ]
  },
  {
   "cell_type": "code",
   "execution_count": 52,
   "metadata": {},
   "outputs": [],
   "source": [
    "cassandra_field_names = rw_cass_dtypes.reset_index().apply(lambda x: x['CassandraFieldName'] if x['ReferenceField'] == '-' else f\"{x['ReferenceField']}.{x['CassandraFieldName']}\", axis=1)"
   ]
  },
  {
   "cell_type": "code",
   "execution_count": 53,
   "metadata": {},
   "outputs": [],
   "source": [
    "cassandra_field_names = pd.concat([rw_cass_dtypes.reset_index()['PipelineOutputFieldName'], cassandra_field_names], axis=1).set_index('PipelineOutputFieldName').squeeze().to_dict()"
   ]
  },
  {
   "cell_type": "markdown",
   "metadata": {},
   "source": [
    "# Convert to ARGO dict format "
   ]
  },
  {
   "cell_type": "code",
   "execution_count": 54,
   "metadata": {},
   "outputs": [],
   "source": [
    "fsp = FromSystemParser(system_dicts=conditions)"
   ]
  },
  {
   "cell_type": "code",
   "execution_count": 55,
   "metadata": {},
   "outputs": [
    {
     "name": "stderr",
     "output_type": "stream",
     "text": [
      "/Users/jlaidler/Documents/tigress/tigress/argo/argo/rule_parsing/rule_parsing/from_system_parser.py:76: UserWarning: ln_review_shipping_address_1 : Operator `java_el` is not currently supported in ARGO. Rule cannot be parsed.\n",
      "  warnings.warn(f'{rule_name} : {e}')\n",
      "/Users/jlaidler/Documents/tigress/tigress/argo/argo/rule_parsing/rule_parsing/from_system_parser.py:76: UserWarning: ln_review_city : Operator `java_el` is not currently supported in ARGO. Rule cannot be parsed.\n",
      "  warnings.warn(f'{rule_name} : {e}')\n",
      "/Users/jlaidler/Documents/tigress/tigress/argo/argo/rule_parsing/rule_parsing/from_system_parser.py:76: UserWarning: ln_review_order_items : Operator `java_el` is not currently supported in ARGO. Rule cannot be parsed.\n",
      "  warnings.warn(f'{rule_name} : {e}')\n",
      "/Users/jlaidler/Documents/tigress/tigress/argo/argo/rule_parsing/rule_parsing/from_system_parser.py:76: UserWarning: ln_escalate_shipping_address : Operator `java_el` is not currently supported in ARGO. Rule cannot be parsed.\n",
      "  warnings.warn(f'{rule_name} : {e}')\n",
      "/Users/jlaidler/Documents/tigress/tigress/argo/argo/rule_parsing/rule_parsing/from_system_parser.py:76: UserWarning: ln_escalate_billing_address : Operator `java_el` is not currently supported in ARGO. Rule cannot be parsed.\n",
      "  warnings.warn(f'{rule_name} : {e}')\n",
      "/Users/jlaidler/Documents/tigress/tigress/argo/argo/rule_parsing/rule_parsing/from_system_parser.py:76: UserWarning: ln_approve : Operator `java_el` is not currently supported in ARGO. Rule cannot be parsed.\n",
      "  warnings.warn(f'{rule_name} : {e}')\n",
      "/Users/jlaidler/Documents/tigress/tigress/argo/argo/rule_parsing/rule_parsing/from_system_parser.py:76: UserWarning: ln_review_full_name : Operator `java_el` is not currently supported in ARGO. Rule cannot be parsed.\n",
      "  warnings.warn(f'{rule_name} : {e}')\n",
      "/Users/jlaidler/Documents/tigress/tigress/argo/argo/rule_parsing/rule_parsing/from_system_parser.py:76: UserWarning: ln_review_ip_address : Operator `java_el` is not currently supported in ARGO. Rule cannot be parsed.\n",
      "  warnings.warn(f'{rule_name} : {e}')\n",
      "/Users/jlaidler/Documents/tigress/tigress/argo/argo/rule_parsing/rule_parsing/from_system_parser.py:76: UserWarning: ln_review_submitter_email : Operator `java_el` is not currently supported in ARGO. Rule cannot be parsed.\n",
      "  warnings.warn(f'{rule_name} : {e}')\n",
      "/Users/jlaidler/Documents/tigress/tigress/argo/argo/rule_parsing/rule_parsing/from_system_parser.py:76: UserWarning: ln_review_billing_address_1 : Operator `java_el` is not currently supported in ARGO. Rule cannot be parsed.\n",
      "  warnings.warn(f'{rule_name} : {e}')\n",
      "/Users/jlaidler/Documents/tigress/tigress/argo/argo/rule_parsing/rule_parsing/from_system_parser.py:76: UserWarning: ln_escalate_full_name : Operator `java_el` is not currently supported in ARGO. Rule cannot be parsed.\n",
      "  warnings.warn(f'{rule_name} : {e}')\n",
      "/Users/jlaidler/Documents/tigress/tigress/argo/argo/rule_parsing/rule_parsing/from_system_parser.py:76: UserWarning: ln_risky_billing_address_1 : Operator `java_el` is not currently supported in ARGO. Rule cannot be parsed.\n",
      "  warnings.warn(f'{rule_name} : {e}')\n",
      "/Users/jlaidler/Documents/tigress/tigress/argo/argo/rule_parsing/rule_parsing/from_system_parser.py:76: UserWarning: ln_risky_shipping_address_1 : Operator `java_el` is not currently supported in ARGO. Rule cannot be parsed.\n",
      "  warnings.warn(f'{rule_name} : {e}')\n",
      "/Users/jlaidler/Documents/tigress/tigress/argo/argo/rule_parsing/rule_parsing/from_system_parser.py:76: UserWarning: ln_risky_shipping_address_2 : Operator `java_el` is not currently supported in ARGO. Rule cannot be parsed.\n",
      "  warnings.warn(f'{rule_name} : {e}')\n",
      "/Users/jlaidler/Documents/tigress/tigress/argo/argo/rule_parsing/rule_parsing/from_system_parser.py:76: UserWarning: ln_risky_submitter_email : Operator `java_el` is not currently supported in ARGO. Rule cannot be parsed.\n",
      "  warnings.warn(f'{rule_name} : {e}')\n",
      "/Users/jlaidler/Documents/tigress/tigress/argo/argo/rule_parsing/rule_parsing/from_system_parser.py:76: UserWarning: ln_risky_full_name : Operator `java_el` is not currently supported in ARGO. Rule cannot be parsed.\n",
      "  warnings.warn(f'{rule_name} : {e}')\n",
      "/Users/jlaidler/Documents/tigress/tigress/argo/argo/rule_parsing/rule_parsing/from_system_parser.py:76: UserWarning: ln_risky_ip_address : Operator `black_listed` is not currently supported in ARGO. Rule cannot be parsed.\n",
      "  warnings.warn(f'{rule_name} : {e}')\n",
      "/Users/jlaidler/Documents/tigress/tigress/argo/argo/rule_parsing/rule_parsing/from_system_parser.py:76: UserWarning: ln_risky_shipping_zip : Operator `black_listed` is not currently supported in ARGO. Rule cannot be parsed.\n",
      "  warnings.warn(f'{rule_name} : {e}')\n"
     ]
    }
   ],
   "source": [
    "rule_dicts = fsp.parse()"
   ]
  },
  {
   "cell_type": "code",
   "execution_count": 56,
   "metadata": {},
   "outputs": [],
   "source": [
    "# [v for _, v in conditions.items() if \"java\" in str(v)]"
   ]
  },
  {
   "cell_type": "code",
   "execution_count": 57,
   "metadata": {},
   "outputs": [],
   "source": [
    "# rule_dicts['IP in VE']"
   ]
  },
  {
   "cell_type": "code",
   "execution_count": 58,
   "metadata": {},
   "outputs": [],
   "source": [
    "# conditions['IP in VE']"
   ]
  },
  {
   "cell_type": "markdown",
   "metadata": {},
   "source": [
    "# Convert back to system format"
   ]
  },
  {
   "cell_type": "code",
   "execution_count": 59,
   "metadata": {},
   "outputs": [],
   "source": [
    "from rule_parsing.to_system_parser import ToSystemParser"
   ]
  },
  {
   "cell_type": "code",
   "execution_count": 60,
   "metadata": {},
   "outputs": [],
   "source": [
    "tsp = ToSystemParser(rule_dicts=rule_dicts, field_datatypes=dict(rw_cass_dtypes.values), cassandra_field_names=cassandra_field_names)"
   ]
  },
  {
   "cell_type": "code",
   "execution_count": 61,
   "metadata": {},
   "outputs": [],
   "source": [
    "parsed_system_dicts = tsp.parse()"
   ]
  },
  {
   "cell_type": "code",
   "execution_count": 62,
   "metadata": {},
   "outputs": [],
   "source": [
    "results = {}\n",
    "for rule_name, rule_dict in conditions.items():\n",
    "    if rule_name in parsed_system_dicts.keys():\n",
    "        parsed_dict = parsed_system_dicts[rule_name]\n",
    "        results[rule_name] = parsed_dict == rule_dict"
   ]
  },
  {
   "cell_type": "code",
   "execution_count": 63,
   "metadata": {},
   "outputs": [
    {
     "data": {
      "text/plain": [
       "114"
      ]
     },
     "execution_count": 63,
     "metadata": {},
     "output_type": "execute_result"
    }
   ],
   "source": [
    "sum(list(results.values()))"
   ]
  },
  {
   "cell_type": "code",
   "execution_count": 64,
   "metadata": {},
   "outputs": [],
   "source": [
    "# results"
   ]
  },
  {
   "cell_type": "code",
   "execution_count": 65,
   "metadata": {},
   "outputs": [],
   "source": [
    "# conditions['IP in VE']"
   ]
  },
  {
   "cell_type": "code",
   "execution_count": 66,
   "metadata": {},
   "outputs": [],
   "source": [
    "# parsed_system_dicts['IP in VE']"
   ]
  },
  {
   "cell_type": "code",
   "execution_count": 67,
   "metadata": {},
   "outputs": [],
   "source": [
    "# rule_dicts['NodeviceId_Web_20201101']"
   ]
  },
  {
   "cell_type": "code",
   "execution_count": 68,
   "metadata": {},
   "outputs": [],
   "source": [
    "# conditions['NodeviceId_Web_20201101']"
   ]
  },
  {
   "cell_type": "code",
   "execution_count": 69,
   "metadata": {},
   "outputs": [],
   "source": [
    "# parsed_system_dicts['NodeviceId_Web_20201101']"
   ]
  },
  {
   "cell_type": "markdown",
   "metadata": {},
   "source": [
    "# Convert to ARGO rule dicts again, then apply to dataset"
   ]
  },
  {
   "cell_type": "code",
   "execution_count": 70,
   "metadata": {},
   "outputs": [],
   "source": [
    "fsp_p = FromSystemParser(system_dicts=parsed_system_dicts)"
   ]
  },
  {
   "cell_type": "code",
   "execution_count": 71,
   "metadata": {},
   "outputs": [],
   "source": [
    "parsed_rule_dicts = fsp_p.parse()"
   ]
  },
  {
   "cell_type": "code",
   "execution_count": 72,
   "metadata": {},
   "outputs": [],
   "source": [
    "results = {}\n",
    "mismatches = []\n",
    "for rule_name, rule_dict in rule_dicts.items():\n",
    "    parsed_dict = parsed_rule_dicts[rule_name]\n",
    "    results[rule_name] = parsed_dict == rule_dict\n",
    "    if parsed_dict != rule_dict:\n",
    "        mismatches = rule_name"
   ]
  },
  {
   "cell_type": "code",
   "execution_count": 73,
   "metadata": {},
   "outputs": [
    {
     "data": {
      "text/plain": [
       "[]"
      ]
     },
     "execution_count": 73,
     "metadata": {},
     "output_type": "execute_result"
    }
   ],
   "source": [
    "mismatches"
   ]
  },
  {
   "cell_type": "markdown",
   "metadata": {},
   "source": [
    "# Results"
   ]
  },
  {
   "cell_type": "markdown",
   "metadata": {},
   "source": [
    "- RW all match\n",
    "- Omnyex all match\n",
    "- Rebtel all match"
   ]
  },
  {
   "cell_type": "code",
   "execution_count": 32,
   "metadata": {},
   "outputs": [],
   "source": [
    "unit_test_rule_dicts = {'Rule1': {'condition': 'AND',\n",
    "                            'rules': [{'condition': 'OR',\n",
    "                                       'rules': [{'field': 'payer_id_sum_approved_txn_amt_per_paypalid_1day',\n",
    "                                                  'operator': 'greater_or_equal',\n",
    "                                                  'value': 60.0},\n",
    "                                                 {'field': 'payer_id_sum_approved_txn_amt_per_paypalid_7day',\n",
    "                                                  'operator': 'greater',\n",
    "                                                  'value': 120.0},\n",
    "                                                 {'field': 'payer_id_sum_approved_txn_amt_per_paypalid_30day',\n",
    "                                                  'operator': 'less_or_equal',\n",
    "                                                  'value': 500.0}]},\n",
    "                                      {'field': 'num_items', 'operator': 'equal', 'value': 1.0}]},\n",
    "                  'Rule2': {'condition': 'AND',\n",
    "                            'rules': [{'field': 'ml_cc_v0', 'operator': 'less', 'value': 0.315},\n",
    "                                      {'condition': 'OR',\n",
    "                                       'rules': [{'field': 'method_clean',\n",
    "                                                  'operator': 'equal',\n",
    "                                                  'value': 'checkout'},\n",
    "                                                 {'field': 'method_clean',\n",
    "                                                  'operator': 'begins_with', 'value': 'checkout'},\n",
    "                                                 {'field': 'method_clean',\n",
    "                                                  'operator': 'ends_with', 'value': 'checkout'},\n",
    "                                                 {'field': 'method_clean',\n",
    "                                                  'operator': 'contains', 'value': 'checkout'},\n",
    "                                                 {'field': 'ip_address',\n",
    "                                                  'operator': 'is_not_null', 'value': None},\n",
    "                                                 {'field': 'ip_isp', 'operator': 'is_not_empty', 'value': None}]}]},\n",
    "                  'Rule3': {'condition': 'AND',\n",
    "                            'rules': [{'field': 'method_clean',\n",
    "                                       'operator': 'not_begins_with',\n",
    "                                       'value': 'checkout'},\n",
    "                                      {'field': 'method_clean',\n",
    "                                       'operator': 'not_ends_with', 'value': 'checkout'},\n",
    "                                      {'field': 'method_clean',\n",
    "                                       'operator': 'not_contains', 'value': 'checkout'},\n",
    "                                      {'condition': 'OR',\n",
    "                                       'rules': [{'field': 'ip_address', 'operator': 'is_null', 'value': None},\n",
    "                                                 {'field': 'ip_isp', 'operator': 'is_empty', 'value': None}]}]},\n",
    "                  'Rule4': {'condition': 'AND',\n",
    "                            'rules': [{'field': 'forwarder_address', 'operator': 'equal', 'value': True},\n",
    "                                      {'field': 'is_shipping_billing_address_same',\n",
    "                                       'operator': 'equal',\n",
    "                                       'value': False}]},\n",
    "                  'Rule5': {'condition': 'AND',\n",
    "                            'rules': [{'field': 'ad_price_type',\n",
    "                                       'operator': 'not_in',\n",
    "                                       'value': ['FREE', 'NEGOTIATION']},\n",
    "                                      {'field': 'ad_price_type', 'operator': 'in', 'value': ['FOO', 'BAR']}]},\n",
    "                  'Rule6': {'condition': 'AND',\n",
    "                            'rules': [{'field': 'ip_country_iso_code',\n",
    "                                       'operator': 'equal_field',\n",
    "                                       'value': 'billing_country'},\n",
    "                                      {'field': 'country_id',\n",
    "                                       'operator': 'not_equal_field',\n",
    "                                       'value': 'ip_country_iso_code'}]}}"
   ]
  },
  {
   "cell_type": "code",
   "execution_count": 33,
   "metadata": {},
   "outputs": [],
   "source": [
    "unit_test_system_dicts = {'Rule1': {'condition': 'AND',\n",
    "                              'rules': [{'condition': 'OR',\n",
    "                                         'rules': [{'id': 'payer_id.sum_approved_txn_amt_per_paypalid_1day',\n",
    "                                                    'field': 'payer_id.sum_approved_txn_amt_per_paypalid_1day',\n",
    "                                                    'type': 'double',\n",
    "                                                    'operator': 'greater_or_equal',\n",
    "                                                    'value': 'value.60.0'},\n",
    "                                                   {'id': 'payer_id.sum_approved_txn_amt_per_paypalid_7day',\n",
    "                                                    'field': 'payer_id.sum_approved_txn_amt_per_paypalid_7day',\n",
    "                                                    'type': 'double',\n",
    "                                                    'operator': 'greater',\n",
    "                                                    'value': 'value.120.0'},\n",
    "                                                   {'id': 'payer_id.sum_approved_txn_amt_per_paypalid_30day',\n",
    "                                                    'field': 'payer_id.sum_approved_txn_amt_per_paypalid_30day',\n",
    "                                                    'type': 'double',\n",
    "                                                    'operator': 'less_or_equal',\n",
    "                                                    'value': 'value.500.0'}],\n",
    "                                         },\n",
    "                                        {'id': 'num_items',\n",
    "                                         'field': 'num_items',\n",
    "                                         'type': 'integer',\n",
    "                                         'operator': 'equal',\n",
    "                                         'value': 'value.1'},\n",
    "                                        ]},\n",
    "                    'Rule2': {'condition': 'AND',\n",
    "                                         'rules': [{'id': 'ml_cc_v0',\n",
    "                                                    'field': 'ml_cc_v0',\n",
    "                                                    'type': 'double',\n",
    "                                                    'operator': 'less',\n",
    "                                                    'value': 'value.0.315'},\n",
    "                                                   {'condition': 'OR',\n",
    "                                                    'rules': [{'id': 'method_clean',\n",
    "                                                               'field': 'method_clean',\n",
    "                                                               'type': 'string',\n",
    "                                                               'operator': 'equal',\n",
    "                                                               'value': 'value.checkout'},\n",
    "                                                              {'id': 'method_clean',\n",
    "                                                               'field': 'method_clean',\n",
    "                                                               'type': 'string',\n",
    "                                                               'operator': 'begins_with',\n",
    "                                                               'value': 'value.checkout'},\n",
    "                                                              {'id': 'method_clean',\n",
    "                                                               'field': 'method_clean',\n",
    "                                                               'type': 'string',\n",
    "                                                               'operator': 'ends_with',\n",
    "                                                               'value': 'value.checkout'},\n",
    "                                                              {'id': 'method_clean',\n",
    "                                                               'field': 'method_clean',\n",
    "                                                               'type': 'string',\n",
    "                                                               'operator': 'contains',\n",
    "                                                               'value': 'value.checkout'},\n",
    "                                                              {'id': 'ip_address',\n",
    "                                                               'field': 'ip_address',\n",
    "                                                               'type': 'string',\n",
    "                                                               'operator': 'is_not_null',\n",
    "                                                               'value': None},\n",
    "                                                              {'id': 'ip_isp',\n",
    "                                                               'field': 'ip_isp',\n",
    "                                                               'type': 'string',\n",
    "                                                               'operator': 'is_not_empty',\n",
    "                                                               'value': None}\n",
    "                                                              ]}]},\n",
    "                    'Rule3': {'condition': 'AND',\n",
    "                              'rules': [{'id': 'method_clean',\n",
    "                                         'field': 'method_clean',\n",
    "                                         'type': 'string',\n",
    "                                         'operator': 'not_begins_with',\n",
    "                                         'value': 'value.checkout'},\n",
    "                                        {'id': 'method_clean',\n",
    "                                         'field': 'method_clean',\n",
    "                                         'type': 'string',\n",
    "                                         'operator': 'not_ends_with',\n",
    "                                         'value': 'value.checkout'},\n",
    "                                        {'id': 'method_clean',\n",
    "                                         'field': 'method_clean',\n",
    "                                         'type': 'string',\n",
    "                                         'operator': 'not_contains',\n",
    "                                         'value': 'value.checkout'},\n",
    "                                        {'condition': 'OR',\n",
    "                                         'rules': [{'id': 'ip_address',\n",
    "                                                    'field': 'ip_address',\n",
    "                                                    'type': 'string',\n",
    "                                                    'operator': 'is_null',\n",
    "                                                    'value': None},\n",
    "                                                   {'id': 'ip_isp',\n",
    "                                                    'field': 'ip_isp',\n",
    "                                                    'type': 'string',\n",
    "                                                    'operator': 'is_empty',\n",
    "                                                    'value': None},\n",
    "                                                   ],\n",
    "                                         }]},\n",
    "                    'Rule4': {'condition': 'AND',\n",
    "                              'rules': [{'id': 'forwarder_address',\n",
    "                                         'field': 'forwarder_address',\n",
    "                                         'type': 'boolean',\n",
    "                                         'input': 'radio',\n",
    "                                         'operator': 'equal',\n",
    "                                         'value': '1'},\n",
    "                                        {'id': 'is_shipping_billing_address_same',\n",
    "                                         'field': 'is_shipping_billing_address_same',\n",
    "                                         'type': 'boolean',\n",
    "                                         'input': 'radio',\n",
    "                                         'operator': 'equal',\n",
    "                                         'value': '0'}]},\n",
    "                    'Rule5': {'condition': 'AND',\n",
    "                              'rules': [{'id': 'ad_price_type',\n",
    "                                         'field': 'ad_price_type',\n",
    "                                         'type': 'string',\n",
    "                                         'operator': 'not_in',\n",
    "                                         'value': 'value.FREE,NEGOTIATION'},\n",
    "                                        {'id': 'ad_price_type',\n",
    "                                         'field': 'ad_price_type',\n",
    "                                         'type': 'string',\n",
    "                                         'operator': 'in',\n",
    "                                         'value': 'value.FOO,BAR'}\n",
    "                                        ]},\n",
    "                    'Rule6': {'condition': 'AND',\n",
    "                              'rules': [{'id': 'ip_country_iso_code',\n",
    "                                         'field': 'ip_country_iso_code',\n",
    "                                         'type': 'string',\n",
    "                                         'operator': 'equal',\n",
    "                                         'value': 'field.billing_country',\n",
    "                                         },\n",
    "                                        {'id': 'country_id',\n",
    "                                         'field': 'country_id',\n",
    "                                         'type': 'string',\n",
    "                                         'operator': 'not_equal',\n",
    "                                         'value': 'field.ip_country_iso_code',\n",
    "                                         }]}}"
   ]
  },
  {
   "cell_type": "code",
   "execution_count": 34,
   "metadata": {},
   "outputs": [],
   "source": [
    "field_datatypes = {\n",
    "    'payer_id_sum_approved_txn_amt_per_paypalid_1day': 'DOUBLE',\n",
    "    'payer_id_sum_approved_txn_amt_per_paypalid_7day': 'DOUBLE',\n",
    "    'payer_id_sum_approved_txn_amt_per_paypalid_30day': 'DOUBLE',\n",
    "    'num_items': 'INT',\n",
    "    'ml_cc_v0': 'DOUBLE',\n",
    "    'method_clean': 'TEXT',\n",
    "    'method_clean': 'TEXT',\n",
    "    'method_clean': 'TEXT',\n",
    "    'method_clean': 'TEXT',\n",
    "    'ip_address': 'TEXT',\n",
    "    'ip_isp': 'TEXT',\n",
    "    'method_clean': 'TEXT',\n",
    "    'method_clean': 'TEXT',\n",
    "    'method_clean': 'TEXT',\n",
    "    'ip_address': 'TEXT',\n",
    "    'ip_isp': 'TEXT',\n",
    "    'forwarder_address': 'BOOLEAN',\n",
    "    'is_shipping_billing_address_same': 'BOOLEAN',\n",
    "    'ad_price_type': 'TEXT',\n",
    "    'ad_price_type': 'TEXT',\n",
    "    'ip_country_iso_code': 'TEXT',\n",
    "    'country_id': 'TEXT',\n",
    "    'billing_country': 'TEXT'\n",
    "}\n",
    "cassandra_field_names = {\n",
    "    'payer_id_sum_approved_txn_amt_per_paypalid_1day': 'payer_id.sum_approved_txn_amt_per_paypalid_1day',\n",
    "    'payer_id_sum_approved_txn_amt_per_paypalid_7day': 'payer_id.sum_approved_txn_amt_per_paypalid_7day',\n",
    "    'payer_id_sum_approved_txn_amt_per_paypalid_30day': 'payer_id.sum_approved_txn_amt_per_paypalid_30day',\n",
    "    'num_items': 'num_items',\n",
    "    'ml_cc_v0': 'ml_cc_v0',\n",
    "    'method_clean': 'method_clean',\n",
    "    'method_clean': 'method_clean',\n",
    "    'method_clean': 'method_clean',\n",
    "    'method_clean': 'method_clean',\n",
    "    'ip_address': 'ip_address',\n",
    "    'ip_isp': 'ip_isp',\n",
    "    'method_clean': 'method_clean',\n",
    "    'method_clean': 'method_clean',\n",
    "    'method_clean': 'method_clean',\n",
    "    'ip_address': 'ip_address',\n",
    "    'ip_isp': 'ip_isp',\n",
    "    'forwarder_address': 'forwarder_address',\n",
    "    'is_shipping_billing_address_same': 'is_shipping_billing_address_same',\n",
    "    'ad_price_type': 'ad_price_type',\n",
    "    'ad_price_type': 'ad_price_type',\n",
    "    'ip_country_iso_code': 'ip_country_iso_code',\n",
    "    'country_id': 'country_id',\n",
    "    'billing_country': 'billing_country'\n",
    "}"
   ]
  },
  {
   "cell_type": "code",
   "execution_count": 35,
   "metadata": {},
   "outputs": [],
   "source": [
    "# tsp = ToSystemParser(rule_dicts=unit_test_rule_dicts, field_datatypes=field_datatypes, cassandra_field_names=cassandra_field_names)\n",
    "\n",
    "# parsed_system_dicts = tsp.parse()\n",
    "\n",
    "# parsed_system_dicts == unit_test_system_dicts\n",
    "\n",
    "# mismatches = []\n",
    "# for rule_name, system_dict in unit_test_system_dicts.items():\n",
    "#     parsed_dict = parsed_system_dicts[rule_name]  \n",
    "#     if parsed_dict != system_dict:\n",
    "#         mismatches.append(rule_name)\n",
    "\n",
    "# mismatches"
   ]
  },
  {
   "cell_type": "code",
   "execution_count": 36,
   "metadata": {},
   "outputs": [],
   "source": [
    "from rules.rules import Rules"
   ]
  },
  {
   "cell_type": "code",
   "execution_count": 37,
   "metadata": {},
   "outputs": [
    {
     "name": "stdout",
     "output_type": "stream",
     "text": [
      "The autoreload extension is already loaded. To reload it, use:\n",
      "  %reload_ext autoreload\n"
     ]
    }
   ],
   "source": [
    "%load_ext autoreload\n",
    "%autoreload 2"
   ]
  },
  {
   "cell_type": "code",
   "execution_count": 38,
   "metadata": {},
   "outputs": [],
   "source": [
    "r = Rules(system_dicts=unit_test_system_dicts)"
   ]
  },
  {
   "cell_type": "code",
   "execution_count": 39,
   "metadata": {},
   "outputs": [
    {
     "data": {
      "text/plain": [
       "{'Rule1': {'condition': 'AND',\n",
       "  'rules': [{'condition': 'OR',\n",
       "    'rules': [{'field': 'payer_id_sum_approved_txn_amt_per_paypalid_1day',\n",
       "      'operator': 'greater_or_equal',\n",
       "      'value': 60.0},\n",
       "     {'field': 'payer_id_sum_approved_txn_amt_per_paypalid_7day',\n",
       "      'operator': 'greater',\n",
       "      'value': 120.0},\n",
       "     {'field': 'payer_id_sum_approved_txn_amt_per_paypalid_30day',\n",
       "      'operator': 'less_or_equal',\n",
       "      'value': 500.0}]},\n",
       "   {'field': 'num_items', 'operator': 'equal', 'value': 1.0}]},\n",
       " 'Rule2': {'condition': 'AND',\n",
       "  'rules': [{'field': 'ml_cc_v0', 'operator': 'less', 'value': 0.315},\n",
       "   {'condition': 'OR',\n",
       "    'rules': [{'field': 'method_clean',\n",
       "      'operator': 'equal',\n",
       "      'value': 'checkout'},\n",
       "     {'field': 'method_clean', 'operator': 'begins_with', 'value': 'checkout'},\n",
       "     {'field': 'method_clean', 'operator': 'ends_with', 'value': 'checkout'},\n",
       "     {'field': 'method_clean', 'operator': 'contains', 'value': 'checkout'},\n",
       "     {'field': 'ip_address', 'operator': 'is_not_null', 'value': None},\n",
       "     {'field': 'ip_isp', 'operator': 'is_not_empty', 'value': None}]}]},\n",
       " 'Rule3': {'condition': 'AND',\n",
       "  'rules': [{'field': 'method_clean',\n",
       "    'operator': 'not_begins_with',\n",
       "    'value': 'checkout'},\n",
       "   {'field': 'method_clean', 'operator': 'not_ends_with', 'value': 'checkout'},\n",
       "   {'field': 'method_clean', 'operator': 'not_contains', 'value': 'checkout'},\n",
       "   {'condition': 'OR',\n",
       "    'rules': [{'field': 'ip_address', 'operator': 'is_null', 'value': None},\n",
       "     {'field': 'ip_isp', 'operator': 'is_empty', 'value': None}]}]},\n",
       " 'Rule4': {'condition': 'AND',\n",
       "  'rules': [{'field': 'forwarder_address', 'operator': 'equal', 'value': True},\n",
       "   {'field': 'is_shipping_billing_address_same',\n",
       "    'operator': 'equal',\n",
       "    'value': False}]},\n",
       " 'Rule5': {'condition': 'AND',\n",
       "  'rules': [{'field': 'ad_price_type',\n",
       "    'operator': 'not_in',\n",
       "    'value': ['FREE', 'NEGOTIATION']},\n",
       "   {'field': 'ad_price_type', 'operator': 'in', 'value': ['FOO', 'BAR']}]},\n",
       " 'Rule6': {'condition': 'AND',\n",
       "  'rules': [{'field': 'ip_country_iso_code',\n",
       "    'operator': 'equal_field',\n",
       "    'value': 'billing_country'},\n",
       "   {'field': 'country_id',\n",
       "    'operator': 'not_equal_field',\n",
       "    'value': 'ip_country_iso_code'}]}}"
      ]
     },
     "execution_count": 39,
     "metadata": {},
     "output_type": "execute_result"
    }
   ],
   "source": [
    "r.as_rule_dicts()"
   ]
  },
  {
   "cell_type": "code",
   "execution_count": 41,
   "metadata": {},
   "outputs": [
    {
     "data": {
      "text/plain": [
       "{'Rule1': \"((X['payer_id_sum_approved_txn_amt_per_paypalid_1day'].to_numpy(na_value=np.nan)>=60.0)|(X['payer_id_sum_approved_txn_amt_per_paypalid_7day'].to_numpy(na_value=np.nan)>120.0)|(X['payer_id_sum_approved_txn_amt_per_paypalid_30day'].to_numpy(na_value=np.nan)<=500.0))&(X['num_items'].to_numpy(na_value=np.nan)==1.0)\",\n",
       " 'Rule2': \"(X['ml_cc_v0'].to_numpy(na_value=np.nan)<0.315)&((X['method_clean'].to_numpy(na_value=np.nan)=='checkout')|(X['method_clean'].str.startswith('checkout', na=False))|(X['method_clean'].str.endswith('checkout', na=False))|(X['method_clean'].str.contains('checkout', na=False))|(~pd.isna(X['ip_address'].to_numpy(na_value=np.nan)))|(X['ip_isp'].fillna('')!=''))\",\n",
       " 'Rule3': \"(~X['method_clean'].str.startswith('checkout', na=False))&(~X['method_clean'].str.endswith('checkout', na=False))&(~X['method_clean'].str.contains('checkout', na=False))&((pd.isna(X['ip_address'].to_numpy(na_value=np.nan)))|(X['ip_isp'].fillna('')==''))\",\n",
       " 'Rule4': \"(X['forwarder_address'].to_numpy(na_value=np.nan)==True)&(X['is_shipping_billing_address_same'].to_numpy(na_value=np.nan)==False)\",\n",
       " 'Rule5': \"(~X['ad_price_type'].isin(['FREE', 'NEGOTIATION']))&(X['ad_price_type'].isin(['FOO', 'BAR']))\",\n",
       " 'Rule6': \"(X['ip_country_iso_code'].to_numpy(na_value=np.nan)==X['billing_country'].to_numpy(na_value=np.nan))&(X['country_id'].to_numpy(na_value=np.nan)!=X['ip_country_iso_code'].to_numpy(na_value=np.nan))\"}"
      ]
     },
     "execution_count": 41,
     "metadata": {},
     "output_type": "execute_result"
    }
   ],
   "source": [
    "r.as_rule_strings(as_numpy=True)"
   ]
  },
  {
   "cell_type": "code",
   "execution_count": 28,
   "metadata": {},
   "outputs": [
    {
     "data": {
      "text/plain": [
       "True"
      ]
     },
     "execution_count": 28,
     "metadata": {},
     "output_type": "execute_result"
    }
   ],
   "source": [
    "unit_test_system_dicts == r.system_dicts"
   ]
  },
  {
   "cell_type": "code",
   "execution_count": null,
   "metadata": {},
   "outputs": [],
   "source": []
  }
 ],
 "metadata": {
  "kernelspec": {
   "display_name": "argo",
   "language": "python",
   "name": "argo"
  },
  "language_info": {
   "codemirror_mode": {
    "name": "ipython",
    "version": 3
   },
   "file_extension": ".py",
   "mimetype": "text/x-python",
   "name": "python",
   "nbconvert_exporter": "python",
   "pygments_lexer": "ipython3",
   "version": "3.7.3"
  }
 },
 "nbformat": 4,
 "nbformat_minor": 4
}
