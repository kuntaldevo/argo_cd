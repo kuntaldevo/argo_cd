{
 "cells": [
  {
   "cell_type": "code",
   "execution_count": 1,
   "metadata": {},
   "outputs": [],
   "source": [
    "%load_ext autoreload\n",
    "%autoreload 2"
   ]
  },
  {
   "cell_type": "markdown",
   "metadata": {},
   "source": [
    "Rule optimisation - would need to convert string rules to some sort of f string (replacing values with those from BO)\n",
    "Inputs: Rule login (without values)\n",
    "Outputs: Optimised rule\n",
    "\n",
    "Rule applier (best via eval-string implementation)\n",
    "Inputs: Rule logic\n",
    "Outputs: X_rules, rule_descriptions\n",
    "\n",
    "Rule filtering\n",
    "Inputs: X_rules, y\n",
    "Outputs: X_rules_filtered\n",
    "\n",
    "Rule Generation\n",
    "Inputs: X, y\n",
    "Outputs: Rules logic\n",
    "\n",
    "Rule scoring\n",
    "Inputs: X_rules, y\n",
    "Outputs: X_scores, Rule scores"
   ]
  },
  {
   "cell_type": "markdown",
   "metadata": {},
   "source": [
    "Bayesian Opt inputs\n",
    "* python string format of rule\n",
    "* optimisation function\n",
    "\n",
    "BO then does the following:\n",
    "* Extracts features from python string format\n",
    "* Calculates space to optimise for each feature\n",
    "* For the optimisation function within the BO class, it:\n",
    "    * Enters the value for each feature\n",
    "    * Evaluates string\n",
    "    * Calculates user defined optimisation metric (via provided function)"
   ]
  },
  {
   "cell_type": "markdown",
   "metadata": {},
   "source": [
    "# Suggested parsers/formats"
   ]
  },
  {
   "cell_type": "markdown",
   "metadata": {},
   "source": [
    "1) Start off with the raw JSON format (same as used in the system):"
   ]
  },
  {
   "cell_type": "markdown",
   "metadata": {},
   "source": [
    "{\n",
    "  \"condition\": \"AND\",\n",
    "  \"rules\": [\n",
    "    {\n",
    "      \"condition\": \"OR\",\n",
    "      \"rules\": [\n",
    "        {\n",
    "          \"id\": \"payer_id.sum_approved_txn_amt_per_paypalid_1day\",\n",
    "          \"field\": \"payer_id.sum_approved_txn_amt_per_paypalid_1day\",\n",
    "          \"type\": \"double\",\n",
    "          \"operator\": \"greater_or_equal\",\n",
    "          \"value\": \"value.60\"\n",
    "        },\n",
    "        {\n",
    "          \"id\": \"payer_id.sum_approved_txn_amt_per_paypalid_7day\",\n",
    "          \"field\": \"payer_id.sum_approved_txn_amt_per_paypalid_7day\",\n",
    "          \"type\": \"double\",\n",
    "          \"operator\": \"greater_or_equal\",\n",
    "          \"value\": \"value.120\"\n",
    "        },\n",
    "        {\n",
    "          \"id\": \"payer_id.sum_approved_txn_amt_per_paypalid_30day\",\n",
    "          \"field\": \"payer_id.sum_approved_txn_amt_per_paypalid_30day\",\n",
    "          \"type\": \"double\",\n",
    "          \"operator\": \"greater_or_equal\",\n",
    "          \"value\": \"value.500\"\n",
    "        }\n",
    "      ],\n",
    "      \"data\": {}\n",
    "    },\n",
    "    {\n",
    "      \"id\": \"num_items\",\n",
    "      \"field\": \"num_items\",\n",
    "      \"type\": \"integer\",\n",
    "      \"operator\": \"equal\",\n",
    "      \"value\": \"value.1\"\n",
    "    },\n",
    "    {\n",
    "      \"id\": \"total_num_items_ordered\",\n",
    "      \"field\": \"total_num_items_ordered\",\n",
    "      \"type\": \"integer\",\n",
    "      \"operator\": \"greater_or_equal\",\n",
    "      \"value\": \"value.2\"\n",
    "    }\n",
    "  ]\n",
    "}"
   ]
  },
  {
   "cell_type": "markdown",
   "metadata": {},
   "source": [
    "2) Then clean up to ARGO standard \"rule dictionary\" format (easier to read and removes unnecessary k-v pairs):"
   ]
  },
  {
   "cell_type": "markdown",
   "metadata": {},
   "source": [
    "{\n",
    "  \"condition\": \"&\",\n",
    "  \"rules\": [\n",
    "    {\n",
    "      \"condition\": \"|\",\n",
    "      \"rules\": [\n",
    "        {\n",
    "          \"field\": \"account_number_num_fraud_transactions_per_account_number_7day\",\n",
    "          \"operator\": \">=\",\n",
    "          \"value\": 60\n",
    "        },\n",
    "        {\n",
    "          \"field\": \"payer_id_sum_approved_txn_amt_per_paypalid_7day\",\n",
    "          \"operator\": \">=\",\n",
    "          \"value\": 120\n",
    "        },\n",
    "        {\n",
    "          \"field\": \"payer_id_sum_approved_txn_amt_per_paypalid_30day\",\n",
    "          \"operator\": \">=\",\n",
    "          \"value\": 500\n",
    "        }\n",
    "      ]\n",
    "    },\n",
    "    {    \n",
    "      \"field\": \"num_items\",      \n",
    "      \"operator\": \"==\",\n",
    "      \"value\": 1\n",
    "    },\n",
    "    {    \n",
    "      \"field\": \"total_num_items_ordered\",      \n",
    "      \"operator\": \">=\",\n",
    "      \"value\": 2\n",
    "    }\n",
    "  ]\n",
    "}"
   ]
  },
  {
   "cell_type": "markdown",
   "metadata": {},
   "source": [
    "Can use the above format when creating rules using ArgoDT/ArgoOpt"
   ]
  },
  {
   "cell_type": "markdown",
   "metadata": {},
   "source": [
    "3) Then have function to convert to string format. Useful for: \n",
    "* Applying rules to datasets - can just use eval() function)\n",
    "* More readable"
   ]
  },
  {
   "cell_type": "code",
   "execution_count": 3,
   "metadata": {},
   "outputs": [],
   "source": [
    "rule_str = \"((X['account_number_num_fraud_transactions_per_account_number_7day']>=60)|\\\n",
    "(X['payer_id_sum_approved_txn_amt_per_paypalid_7day']>=120)|\\\n",
    "(X['payer_id_sum_approved_txn_amt_per_paypalid_30day']>=500))&\\\n",
    "(X['num_items']==1)&\\\n",
    "(X['total_num_items_ordered']>=2)\""
   ]
  },
  {
   "cell_type": "markdown",
   "metadata": {},
   "source": [
    "4) Have a separate function to convert to a lambda expression (used for Bayesian Optimisation):"
   ]
  },
  {
   "cell_type": "code",
   "execution_count": 4,
   "metadata": {},
   "outputs": [],
   "source": [
    "rule_lambda = lambda *args: \"((X['account_number_num_fraud_transactions_per_account_number_7day']>={})|\\\n",
    "(X['payer_id_sum_approved_txn_amt_per_paypalid_7day']>={})|\\\n",
    "(X['payer_id_sum_approved_txn_amt_per_paypalid_30day']>={}))&\\\n",
    "(X['num_items']=={})&\\\n",
    "(X['total_num_items_ordered']>={})\".format(*args)"
   ]
  },
  {
   "cell_type": "code",
   "execution_count": 5,
   "metadata": {},
   "outputs": [
    {
     "data": {
      "text/plain": [
       "\"((X['account_number_num_fraud_transactions_per_account_number_7day']>=60)|(X['payer_id_sum_approved_txn_amt_per_paypalid_7day']>=120)|(X['payer_id_sum_approved_txn_amt_per_paypalid_30day']>=500))&(X['num_items']==1)&(X['total_num_items_ordered']>=2)\""
      ]
     },
     "execution_count": 5,
     "metadata": {},
     "output_type": "execute_result"
    }
   ],
   "source": [
    "rule_lambda(60, 120, 500, 1, 2)"
   ]
  },
  {
   "cell_type": "code",
   "execution_count": 6,
   "metadata": {},
   "outputs": [],
   "source": [
    "import pandas as pd\n",
    "import numpy as np"
   ]
  },
  {
   "cell_type": "code",
   "execution_count": 7,
   "metadata": {},
   "outputs": [],
   "source": [
    "X = pd.DataFrame({\n",
    "    'num_distinct_email_1day': np.random.randint(0, 10, 100),\n",
    "    'num_distinct_email_7day': np.random.randint(0, 15, 100),\n",
    "    'num_distinct_email_30day': np.random.randint(0, 20, 100)\n",
    "})"
   ]
  },
  {
   "cell_type": "code",
   "execution_count": 8,
   "metadata": {},
   "outputs": [],
   "source": [
    "rule_lambda = lambda *args: \"(X['num_distinct_email_1day']>{})&\\\n",
    "(X['num_distinct_email_7day']>{})&\\\n",
    "(X['num_distinct_email_30day']>{})\".format(*args)"
   ]
  },
  {
   "cell_type": "code",
   "execution_count": 9,
   "metadata": {},
   "outputs": [
    {
     "data": {
      "text/plain": [
       "0     False\n",
       "1     False\n",
       "2     False\n",
       "3     False\n",
       "4      True\n",
       "      ...  \n",
       "95    False\n",
       "96    False\n",
       "97     True\n",
       "98    False\n",
       "99     True\n",
       "Length: 100, dtype: bool"
      ]
     },
     "execution_count": 9,
     "metadata": {},
     "output_type": "execute_result"
    }
   ],
   "source": [
    "eval(rule_lambda(1, 2, 3))"
   ]
  },
  {
   "cell_type": "code",
   "execution_count": 10,
   "metadata": {},
   "outputs": [
    {
     "data": {
      "text/plain": [
       "\"(X['num_distinct_email_1day']>1)&(X['num_distinct_email_7day']>2)&(X['num_distinct_email_30day']>3)\""
      ]
     },
     "execution_count": 10,
     "metadata": {},
     "output_type": "execute_result"
    }
   ],
   "source": [
    "rule_lambda(1, 2, 3)"
   ]
  },
  {
   "cell_type": "markdown",
   "metadata": {},
   "source": [
    "---"
   ]
  },
  {
   "cell_type": "markdown",
   "metadata": {},
   "source": [
    "# Development"
   ]
  },
  {
   "cell_type": "code",
   "execution_count": 176,
   "metadata": {},
   "outputs": [],
   "source": [
    "import pandas as pd\n",
    "import numpy as np"
   ]
  },
  {
   "cell_type": "code",
   "execution_count": 177,
   "metadata": {},
   "outputs": [],
   "source": [
    "X = pd.DataFrame(\n",
    "    {\n",
    "        'A': np.random.randint(0, 1000, 10000),\n",
    "        'B': np.random.randint(0, 1000, 10000),\n",
    "        'C': np.random.randint(0, 1000, 10000),\n",
    "        'D': np.random.randint(0, 2, 10000),\n",
    "        'E': np.random.randint(0, 1000, 10000),\n",
    "        'F': np.random.randint(0, 1000, 10000),\n",
    "        'G': np.random.randint(0, 1000, 10000)\n",
    "    }\n",
    ")"
   ]
  },
  {
   "cell_type": "code",
   "execution_count": 209,
   "metadata": {},
   "outputs": [],
   "source": [
    "rule_dict = {\n",
    "  \"condition\": \"|\",\n",
    "  \"rules\": [\n",
    "    {\n",
    "      \"condition\": \"&\",\n",
    "      \"rules\": [\n",
    "          {\n",
    "           \"condition\": \"|\",\n",
    "           \"rules\": [\n",
    "                {\n",
    "                  \"field\": \"A\",\n",
    "                  \"operator\": \">=\",\n",
    "                  \"value\": 60\n",
    "                },\n",
    "                {\n",
    "                  \"field\": \"B\",\n",
    "                  \"operator\": \">=\",\n",
    "                  \"value\": 120\n",
    "                },\n",
    "                {\n",
    "                  \"field\": \"C\",\n",
    "                  \"operator\": \">=\",\n",
    "                  \"value\": 500\n",
    "                }\n",
    "               ]\n",
    "          },\n",
    "            {\n",
    "              \"field\": \"F\",\n",
    "              \"operator\": \">=\",\n",
    "              \"value\": 120\n",
    "            },\n",
    "            {\n",
    "              \"field\": \"G\",\n",
    "              \"operator\": \">=\",\n",
    "              \"value\": 500\n",
    "            }  \n",
    "      ]\n",
    "    },\n",
    "    {    \n",
    "      \"field\": \"D\",      \n",
    "      \"operator\": \"==\",\n",
    "      \"value\": 1\n",
    "    },\n",
    "    {    \n",
    "      \"field\": \"E\",      \n",
    "      \"operator\": \">=\",\n",
    "      \"value\": 2\n",
    "    }\n",
    "  ]\n",
    "}"
   ]
  },
  {
   "cell_type": "code",
   "execution_count": 210,
   "metadata": {},
   "outputs": [],
   "source": [
    "r = Rule(rule_dict=rule_dict)"
   ]
  },
  {
   "cell_type": "code",
   "execution_count": 211,
   "metadata": {},
   "outputs": [
    {
     "data": {
      "text/plain": [
       "\"(((X['A']>=60)|(X['B']>=120)|(X['C']>=500))&(X['F']>=120)&(X['G']>=500))|(X['D']==1)|(X['E']>=2)\""
      ]
     },
     "execution_count": 211,
     "metadata": {},
     "output_type": "execute_result"
    }
   ],
   "source": [
    "r.as_string(as_numpy=False)"
   ]
  },
  {
   "cell_type": "code",
   "execution_count": 214,
   "metadata": {},
   "outputs": [
    {
     "data": {
      "text/plain": [
       "{'condition': '|',\n",
       " 'rules': [{'condition': '&',\n",
       "   'rules': [{'condition': '|',\n",
       "     'rules': [{'field': 'A', 'operator': '>=', 'value': 60},\n",
       "      {'field': 'B', 'operator': '>=', 'value': 120},\n",
       "      {'field': 'C', 'operator': '>=', 'value': 500}]},\n",
       "    {'field': 'F', 'operator': '>=', 'value': 120},\n",
       "    {'field': 'G', 'operator': '>=', 'value': 500}]},\n",
       "  {'field': 'D', 'operator': '==', 'value': 1},\n",
       "  {'field': 'E', 'operator': '>=', 'value': 2}]}"
      ]
     },
     "execution_count": 214,
     "metadata": {},
     "output_type": "execute_result"
    }
   ],
   "source": [
    "r.as_dict()"
   ]
  },
  {
   "cell_type": "code",
   "execution_count": 225,
   "metadata": {},
   "outputs": [],
   "source": [
    "rule_lambda = r.as_lambda(as_numpy=False, with_kwargs=True)"
   ]
  },
  {
   "cell_type": "code",
   "execution_count": 226,
   "metadata": {},
   "outputs": [
    {
     "data": {
      "text/plain": [
       "\"(((X['A']>=1)|(X['B']>=2)|(X['C']>=3))&(X['F']>=6)&(X['G']>=7))|(X['D']==4)|(X['E']>=5)\""
      ]
     },
     "execution_count": 226,
     "metadata": {},
     "output_type": "execute_result"
    }
   ],
   "source": [
    "rule_lambda(**{'A':1,'B':2,'C':3,'D':4,'E':5,'F':6,'G':7})\n",
    "# rule_lambda(1,2,3,4,5,6,7)"
   ]
  },
  {
   "cell_type": "code",
   "execution_count": 239,
   "metadata": {},
   "outputs": [],
   "source": [
    "rule_string = \"(X['F']>1)\"\n",
    "# rule_string = \"(X['A']>1)&(X['C']>1)&(X['F']>1)\"\n",
    "# rule_string = \"((X['A']>1)|(X['B']>1))&((X['C']>1)|(X['D']>1))&((X['E']>1)|(X['F']>1))\""
   ]
  },
  {
   "cell_type": "code",
   "execution_count": 240,
   "metadata": {},
   "outputs": [],
   "source": [
    "r = Rule(rule_string=rule_string)"
   ]
  },
  {
   "cell_type": "code",
   "execution_count": 241,
   "metadata": {},
   "outputs": [
    {
     "data": {
      "text/plain": [
       "{'condition': 'AND', 'rules': [{'field': 'F', 'operator': '>', 'value': 1}]}"
      ]
     },
     "execution_count": 241,
     "metadata": {},
     "output_type": "execute_result"
    }
   ],
   "source": [
    "r.as_dict()"
   ]
  },
  {
   "cell_type": "code",
   "execution_count": 242,
   "metadata": {},
   "outputs": [
    {
     "data": {
      "text/plain": [
       "\"(X['F']>1)\""
      ]
     },
     "execution_count": 242,
     "metadata": {},
     "output_type": "execute_result"
    }
   ],
   "source": [
    "r.as_string(as_numpy=False)"
   ]
  },
  {
   "cell_type": "code",
   "execution_count": 243,
   "metadata": {},
   "outputs": [],
   "source": [
    "test=r.as_lambda(as_numpy=False)"
   ]
  },
  {
   "cell_type": "code",
   "execution_count": 31,
   "metadata": {},
   "outputs": [],
   "source": [
    "import numpy as np\n",
    "import pandas as pd\n",
    "arr = np.array(['ab', 'ac', 'ad', np.nan])"
   ]
  },
  {
   "cell_type": "code",
   "execution_count": 99,
   "metadata": {},
   "outputs": [
    {
     "data": {
      "text/plain": [
       "array([False,  True,  True,  True])"
      ]
     },
     "execution_count": 99,
     "metadata": {},
     "output_type": "execute_result"
    }
   ],
   "source": [
    "~np.char.endswith(arr, 'ab')"
   ]
  },
  {
   "cell_type": "code",
   "execution_count": 33,
   "metadata": {},
   "outputs": [
    {
     "data": {
      "text/plain": [
       "array([False, False,  True,  True])"
      ]
     },
     "execution_count": 33,
     "metadata": {},
     "output_type": "execute_result"
    }
   ],
   "source": [
    "~np.isin(arr, ['ab', 'ac'])"
   ]
  },
  {
   "cell_type": "code",
   "execution_count": 35,
   "metadata": {},
   "outputs": [
    {
     "data": {
      "text/plain": [
       "array(['ab', 'ac', 'ad', 'nan'], dtype='<U3')"
      ]
     },
     "execution_count": 35,
     "metadata": {},
     "output_type": "execute_result"
    }
   ],
   "source": [
    "arr"
   ]
  },
  {
   "cell_type": "code",
   "execution_count": 34,
   "metadata": {},
   "outputs": [
    {
     "data": {
      "text/plain": [
       "array([False, False, False, False])"
      ]
     },
     "execution_count": 34,
     "metadata": {},
     "output_type": "execute_result"
    }
   ],
   "source": [
    "pd.isna(arr)"
   ]
  },
  {
   "cell_type": "code",
   "execution_count": 86,
   "metadata": {},
   "outputs": [],
   "source": [
    "X = pd.DataFrame({\n",
    "    'A': ['ab', 'ac', 'ad', np.nan, 'bc', 'bac']\n",
    "})"
   ]
  },
  {
   "cell_type": "code",
   "execution_count": 87,
   "metadata": {},
   "outputs": [
    {
     "data": {
      "text/plain": [
       "0     True\n",
       "1    False\n",
       "2    False\n",
       "3      NaN\n",
       "4    False\n",
       "5    False\n",
       "Name: A, dtype: object"
      ]
     },
     "execution_count": 87,
     "metadata": {},
     "output_type": "execute_result"
    }
   ],
   "source": [
    "X['A'].str.endswith(('ab'))"
   ]
  },
  {
   "cell_type": "code",
   "execution_count": 88,
   "metadata": {},
   "outputs": [
    {
     "data": {
      "text/plain": [
       "0     True\n",
       "1     True\n",
       "2     True\n",
       "3      NaN\n",
       "4    False\n",
       "5    False\n",
       "Name: A, dtype: object"
      ]
     },
     "execution_count": 88,
     "metadata": {},
     "output_type": "execute_result"
    }
   ],
   "source": [
    "X.A.str.startswith('a')"
   ]
  },
  {
   "cell_type": "code",
   "execution_count": 89,
   "metadata": {},
   "outputs": [
    {
     "data": {
      "text/plain": [
       "0    False\n",
       "1    False\n",
       "2    False\n",
       "3     True\n",
       "4    False\n",
       "5    False\n",
       "Name: A, dtype: bool"
      ]
     },
     "execution_count": 89,
     "metadata": {},
     "output_type": "execute_result"
    }
   ],
   "source": [
    "pd.isna(X['A'])"
   ]
  },
  {
   "cell_type": "code",
   "execution_count": 102,
   "metadata": {},
   "outputs": [
    {
     "data": {
      "text/plain": [
       "0    False\n",
       "1    False\n",
       "2     True\n",
       "3     True\n",
       "4     True\n",
       "5     True\n",
       "Name: A, dtype: bool"
      ]
     },
     "execution_count": 102,
     "metadata": {},
     "output_type": "execute_result"
    }
   ],
   "source": [
    "~X['A'].isin(['ab', 'ac'])"
   ]
  }
 ],
 "metadata": {
  "kernelspec": {
   "display_name": "argo",
   "language": "python",
   "name": "argo"
  },
  "language_info": {
   "codemirror_mode": {
    "name": "ipython",
    "version": 3
   },
   "file_extension": ".py",
   "mimetype": "text/x-python",
   "name": "python",
   "nbconvert_exporter": "python",
   "pygments_lexer": "ipython3",
   "version": "3.7.3"
  }
 },
 "nbformat": 4,
 "nbformat_minor": 4
}
