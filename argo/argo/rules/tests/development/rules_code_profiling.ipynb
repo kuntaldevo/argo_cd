{
 "cells": [
  {
   "cell_type": "code",
   "execution_count": 1,
   "metadata": {},
   "outputs": [],
   "source": [
    "%load_ext autoreload\n",
    "%autoreload 2"
   ]
  },
  {
   "cell_type": "code",
   "execution_count": 2,
   "metadata": {},
   "outputs": [],
   "source": [
    "from rules.rules import Rules\n",
    "from rules.convert_rule_string_to_rule_dict import ConvertRuleStringToRuleDict\n",
    "\n",
    "import pandas as pd\n",
    "import numpy as np\n",
    "import random\n",
    "import cProfile, pstats"
   ]
  },
  {
   "cell_type": "code",
   "execution_count": 3,
   "metadata": {},
   "outputs": [],
   "source": [
    "rule_logic_list = [\n",
    "    \"(X['account_number_avg_order_total_per_account_number_1day']>1)\",\n",
    "    \"(X['sim_sc_ml']>0.5)\",\n",
    "    \"(X['is_billing_shipping_city_same']==True)\"\n",
    "]"
   ]
  },
  {
   "cell_type": "code",
   "execution_count": 149,
   "metadata": {},
   "outputs": [],
   "source": [
    "field_datatypes = {\n",
    "    'account_number_avg_order_total_per_account_number_1day': 'DOUBLE',\n",
    "    'sim_sc_ml': 'FLOAT',\n",
    "    'is_billing_shipping_city_same': 'BOOLEAN'\n",
    "}\n",
    "cassandra_field_names = {\n",
    "    'account_number_avg_order_total_per_account_number_1day': 'account_number.avg_order_total_per_account_number_1day',\n",
    "    'sim_sc_ml': 'sim_sc_ml',\n",
    "    'is_billing_shipping_city_same': 'is_billing_shipping_city_same'\n",
    "}"
   ]
  },
  {
   "cell_type": "code",
   "execution_count": 4,
   "metadata": {},
   "outputs": [],
   "source": [
    "rule_strings = {}\n",
    "rule_scores = {}\n",
    "for i in range(0, 1000000):\n",
    "    rule_strings[f'Rule{i}'] = rule_logic_list[random.randint(0, 2)]\n",
    "    rule_scores[f'Rule{i}'] = random.randint(-100, 0)"
   ]
  },
  {
   "cell_type": "markdown",
   "metadata": {},
   "source": [
    "# Rule strings to dicts"
   ]
  },
  {
   "cell_type": "markdown",
   "metadata": {},
   "source": [
    "## Old"
   ]
  },
  {
   "cell_type": "code",
   "execution_count": 7,
   "metadata": {},
   "outputs": [],
   "source": [
    "filename = 'Rules_rule_strings_to_dicts_old.dat'"
   ]
  },
  {
   "cell_type": "code",
   "execution_count": 8,
   "metadata": {},
   "outputs": [],
   "source": [
    "rules = Rules(rule_strings=rule_strings)\n",
    "cProfile.run('rules.as_rule_dicts()', sort='cumtime', filename=f'{filename}.dat')"
   ]
  },
  {
   "cell_type": "code",
   "execution_count": 9,
   "metadata": {
    "collapsed": true,
    "jupyter": {
     "outputs_hidden": true
    }
   },
   "outputs": [
    {
     "name": "stdout",
     "output_type": "stream",
     "text": [
      "Wed Jan 13 15:38:35 2021    Rules_rule_strings_to_dicts_old.dat.dat\n",
      "\n",
      "         17000006 function calls in 16.742 seconds\n",
      "\n",
      "   Ordered by: cumulative time\n",
      "\n",
      "   ncalls  tottime  percall  cumtime  percall filename:lineno(function)\n",
      "        1    0.000    0.000   16.742   16.742 {built-in method builtins.exec}\n",
      "        1    0.000    0.000   16.742   16.742 <string>:1(<module>)\n",
      "        1    0.000    0.000   16.742   16.742 /Users/jlaidler/Documents/tigress/tigress/argo/argo/rules/rules/rules.py:62(as_rule_dicts)\n",
      "        1    1.927    1.927   16.742   16.742 /Users/jlaidler/Documents/tigress/tigress/argo/argo/rules/rules/rules.py:196(_rule_strings_to_rule_dicts)\n",
      "  1000000    1.943    0.000   11.282    0.000 /Users/jlaidler/Documents/tigress/tigress/argo/argo/rules/rules/convert_rule_string_to_rule_dict.py:116(convert)\n",
      "  1000000    0.813    0.000    8.605    0.000 /Users/jlaidler/Documents/tigress/tigress/argo/argo/rules/rules/convert_rule_string_to_rule_dict.py:189(_create_condition_dict)\n",
      "  1000000    4.841    0.000    7.374    0.000 /Users/jlaidler/Documents/tigress/tigress/argo/argo/rules/rules/convert_rule_string_to_rule_dict.py:200(_extract_components_from_condition_string)\n",
      "  1000000    3.533    0.000    3.533    0.000 /Users/jlaidler/Documents/tigress/tigress/argo/argo/rules/rules/convert_rule_string_to_rule_dict.py:7(__init__)\n",
      "  3000000    1.265    0.000    1.265    0.000 {method 'split' of 'str' objects}\n",
      "  1000000    0.804    0.000    1.254    0.000 /Users/jlaidler/Documents/tigress/tigress/argo/argo/rules/rules/convert_rule_string_to_rule_dict.py:329(_return_value_for_standard_operators)\n",
      "  5000000    0.902    0.000    0.902    0.000 {method 'startswith' of 'str' objects}\n",
      "  1000000    0.253    0.000    0.253    0.000 /Users/jlaidler/Documents/tigress/tigress/argo/argo/rules/rules/convert_rule_string_to_rule_dict.py:293(_create_rule_condition_dict)\n",
      "  1000000    0.204    0.000    0.204    0.000 {method 'endswith' of 'str' objects}\n",
      "  1000000    0.139    0.000    0.139    0.000 {method 'append' of 'list' objects}\n",
      "  1000000    0.119    0.000    0.119    0.000 {method 'keys' of 'dict' objects}\n",
      "        1    0.000    0.000    0.000    0.000 {method 'items' of 'dict' objects}\n",
      "        1    0.000    0.000    0.000    0.000 {method 'disable' of '_lsprof.Profiler' objects}\n",
      "\n",
      "\n"
     ]
    },
    {
     "data": {
      "text/plain": [
       "<pstats.Stats at 0x1038d1a20>"
      ]
     },
     "execution_count": 9,
     "metadata": {},
     "output_type": "execute_result"
    }
   ],
   "source": [
    "p = pstats.Stats(f'{filename}.dat')\n",
    "p.sort_stats('cumtime').print_stats()"
   ]
  },
  {
   "cell_type": "markdown",
   "metadata": {},
   "source": [
    "## New"
   ]
  },
  {
   "cell_type": "code",
   "execution_count": 88,
   "metadata": {},
   "outputs": [],
   "source": [
    "filename = 'Rules_rule_strings_to_dicts_new.dat'"
   ]
  },
  {
   "cell_type": "code",
   "execution_count": 89,
   "metadata": {},
   "outputs": [],
   "source": [
    "rules = Rules(rule_strings=rule_strings)\n",
    "cProfile.run('rules.as_rule_dicts()', sort='cumtime', filename=f'{filename}.dat')"
   ]
  },
  {
   "cell_type": "code",
   "execution_count": 90,
   "metadata": {
    "collapsed": true,
    "jupyter": {
     "outputs_hidden": true
    }
   },
   "outputs": [
    {
     "name": "stdout",
     "output_type": "stream",
     "text": [
      "Thu Jan 14 17:08:54 2021    Rules_rule_strings_to_dicts_new.dat.dat\n",
      "\n",
      "         14000008 function calls in 11.666 seconds\n",
      "\n",
      "   Ordered by: cumulative time\n",
      "\n",
      "   ncalls  tottime  percall  cumtime  percall filename:lineno(function)\n",
      "        1    0.000    0.000   11.666   11.666 {built-in method builtins.exec}\n",
      "        1    0.000    0.000   11.666   11.666 <string>:1(<module>)\n",
      "        1    0.000    0.000   11.666   11.666 /Users/jlaidler/Documents/tigress/tigress/argo/argo/rules/rules/rules.py:62(as_rule_dicts)\n",
      "        1    0.000    0.000   11.666   11.666 /Users/jlaidler/Documents/tigress/tigress/argo/argo/rules/rules/rules.py:185(_rule_strings_to_rule_dicts)\n",
      "        1    0.677    0.677   11.666   11.666 /Users/jlaidler/Documents/tigress/tigress/argo/argo/rules/rules/convert_rule_strings_to_rule_dicts.py:122(convert)\n",
      "  1000000    1.128    0.000   10.989    0.000 /Users/jlaidler/Documents/tigress/tigress/argo/argo/rules/rules/convert_rule_strings_to_rule_dicts.py:136(_convert_rule)\n",
      "  1000000    1.064    0.000    9.729    0.000 /Users/jlaidler/Documents/tigress/tigress/argo/argo/rules/rules/convert_rule_strings_to_rule_dicts.py:203(_create_condition_dict)\n",
      "  1000000    6.006    0.000    7.984    0.000 /Users/jlaidler/Documents/tigress/tigress/argo/argo/rules/rules/convert_rule_strings_to_rule_dicts.py:214(_extract_components_from_condition_string)\n",
      "  1000000    0.710    0.000    1.147    0.000 /Users/jlaidler/Documents/tigress/tigress/argo/argo/rules/rules/convert_rule_strings_to_rule_dicts.py:344(_return_value_for_standard_operators)\n",
      "  3000000    0.818    0.000    0.818    0.000 {method 'split' of 'str' objects}\n",
      "  3000000    0.545    0.000    0.545    0.000 {method 'startswith' of 'str' objects}\n",
      "  1000000    0.292    0.000    0.292    0.000 /Users/jlaidler/Documents/tigress/tigress/argo/argo/rules/rules/convert_rule_strings_to_rule_dicts.py:308(_create_rule_condition_dict)\n",
      "  1000000    0.184    0.000    0.184    0.000 {method 'endswith' of 'str' objects}\n",
      "  1000000    0.132    0.000    0.132    0.000 {method 'append' of 'list' objects}\n",
      "  1000000    0.109    0.000    0.109    0.000 {method 'keys' of 'dict' objects}\n",
      "        1    0.000    0.000    0.000    0.000 /Users/jlaidler/Documents/tigress/tigress/argo/argo/rules/rules/convert_rule_strings_to_rule_dicts.py:11(__init__)\n",
      "        1    0.000    0.000    0.000    0.000 {method 'items' of 'dict' objects}\n",
      "        1    0.000    0.000    0.000    0.000 {method 'disable' of '_lsprof.Profiler' objects}\n",
      "\n",
      "\n"
     ]
    },
    {
     "data": {
      "text/plain": [
       "<pstats.Stats at 0x156802e48>"
      ]
     },
     "execution_count": 90,
     "metadata": {},
     "output_type": "execute_result"
    }
   ],
   "source": [
    "p = pstats.Stats(f'{filename}.dat')\n",
    "p.sort_stats('cumtime').print_stats()"
   ]
  },
  {
   "cell_type": "markdown",
   "metadata": {},
   "source": [
    "# Rule dicts to strings"
   ]
  },
  {
   "cell_type": "code",
   "execution_count": 97,
   "metadata": {},
   "outputs": [],
   "source": [
    "rules = Rules(rule_strings=rule_strings)\n",
    "rule_dicts = rules.as_rule_dicts()"
   ]
  },
  {
   "cell_type": "markdown",
   "metadata": {},
   "source": [
    "## Old"
   ]
  },
  {
   "cell_type": "code",
   "execution_count": 106,
   "metadata": {},
   "outputs": [],
   "source": [
    "filename = 'Rules_rule_dicts_to_strings_old.dat'"
   ]
  },
  {
   "cell_type": "code",
   "execution_count": 107,
   "metadata": {},
   "outputs": [],
   "source": [
    "rules = Rules(rule_dicts=rule_dicts)\n",
    "cProfile.run('rules.as_rule_strings(as_numpy=False)', sort='cumtime', filename=f'{filename}.dat')"
   ]
  },
  {
   "cell_type": "code",
   "execution_count": 108,
   "metadata": {
    "collapsed": true,
    "jupyter": {
     "outputs_hidden": true
    }
   },
   "outputs": [
    {
     "name": "stdout",
     "output_type": "stream",
     "text": [
      "Thu Jan 14 17:23:22 2021    Rules_rule_dicts_to_strings_old.dat.dat\n",
      "\n",
      "         92000018 function calls (77000018 primitive calls) in 35.154 seconds\n",
      "\n",
      "   Ordered by: cumulative time\n",
      "\n",
      "   ncalls  tottime  percall  cumtime  percall filename:lineno(function)\n",
      "        1    0.000    0.000   35.154   35.154 {built-in method builtins.exec}\n",
      "        1    0.000    0.000   35.154   35.154 <string>:1(<module>)\n",
      "        1    0.267    0.267   35.154   35.154 /Users/jlaidler/Documents/tigress/tigress/argo/argo/rules/rules/rules.py:78(as_rule_strings)\n",
      "        1    0.000    0.000   34.887   34.887 /Users/jlaidler/Documents/tigress/tigress/argo/argo/rules/rules/rules.py:177(_rule_dicts_to_rule_strings)\n",
      "        1    0.144    0.144   28.801   28.801 /Users/jlaidler/Documents/tigress/tigress/argo/argo/rules/rules/convert_rule_dicts_to_rule_strings.py:14(__init__)\n",
      "13000001/1   11.852    0.000   28.656   28.656 //anaconda3/lib/python3.7/copy.py:132(deepcopy)\n",
      "2000001/1    7.569    0.000   28.656   28.656 //anaconda3/lib/python3.7/copy.py:236(_deepcopy_dict)\n",
      "  1000000    1.041    0.000   15.651    0.000 //anaconda3/lib/python3.7/copy.py:210(_deepcopy_list)\n",
      "        1    0.621    0.621    6.086    6.086 /Users/jlaidler/Documents/tigress/tigress/argo/argo/rules/rules/convert_rule_dicts_to_rule_strings.py:133(convert)\n",
      "  1000000    0.537    0.000    5.465    0.000 /Users/jlaidler/Documents/tigress/tigress/argo/argo/rules/rules/convert_rule_dicts_to_rule_strings.py:191(_convert_rule)\n",
      "  1000000    0.907    0.000    4.929    0.000 /Users/jlaidler/Documents/tigress/tigress/argo/argo/rules/rules/convert_rule_dicts_to_rule_strings.py:202(_recurse_convert_rule_dict_conditions)\n",
      "  1000000    1.366    0.000    3.921    0.000 /Users/jlaidler/Documents/tigress/tigress/argo/argo/rules/rules/convert_rule_dicts_to_rule_strings.py:213(_convert_rule_dict_conditions)\n",
      " 26000002    3.652    0.000    3.652    0.000 {method 'get' of 'dict' objects}\n",
      "  1000000    1.082    0.000    2.207    0.000 /Users/jlaidler/Documents/tigress/tigress/argo/argo/rules/rules/convert_rule_dicts_to_rule_strings.py:237(_create_condition_string_from_dict)\n",
      "  3000001    1.358    0.000    1.901    0.000 //anaconda3/lib/python3.7/copy.py:252(_keep_alive)\n",
      " 19000004    1.653    0.000    1.653    0.000 {built-in method builtins.id}\n",
      " 10000000    0.911    0.000    0.911    0.000 //anaconda3/lib/python3.7/copy.py:190(_deepcopy_atomic)\n",
      "  1000000    0.595    0.000    0.595    0.000 /Users/jlaidler/Documents/tigress/tigress/argo/argo/rules/rules/convert_rule_dicts_to_rule_strings.py:337(_create_condition_string_for_standard_operators)\n",
      "  5000000    0.502    0.000    0.502    0.000 {method 'append' of 'list' objects}\n",
      "  1000000    0.284    0.000    0.436    0.000 /Users/jlaidler/Documents/tigress/tigress/argo/argo/rules/rules/convert_rule_dicts_to_rule_strings.py:285(_parse_value_string)\n",
      "  2000002    0.222    0.000    0.222    0.000 {method 'items' of 'dict' objects}\n",
      "  2000000    0.191    0.000    0.191    0.000 {method 'keys' of 'dict' objects}\n",
      "  1000000    0.152    0.000    0.152    0.000 {built-in method builtins.isinstance}\n",
      "  1000000    0.147    0.000    0.147    0.000 {method 'sort' of 'list' objects}\n",
      "  1000000    0.101    0.000    0.101    0.000 {method 'join' of 'str' objects}\n",
      "        1    0.000    0.000    0.000    0.000 {method 'disable' of '_lsprof.Profiler' objects}\n",
      "\n",
      "\n"
     ]
    },
    {
     "data": {
      "text/plain": [
       "<pstats.Stats at 0x1568149e8>"
      ]
     },
     "execution_count": 108,
     "metadata": {},
     "output_type": "execute_result"
    }
   ],
   "source": [
    "p = pstats.Stats(f'{filename}.dat')\n",
    "p.sort_stats('cumtime').print_stats()"
   ]
  },
  {
   "cell_type": "markdown",
   "metadata": {},
   "source": [
    "## New (deepcopy removed where not needed, replaced with json.dumps where needed)"
   ]
  },
  {
   "cell_type": "code",
   "execution_count": 240,
   "metadata": {},
   "outputs": [],
   "source": [
    "filename = 'Rules_rule_dicts_to_strings_new.dat'"
   ]
  },
  {
   "cell_type": "code",
   "execution_count": 241,
   "metadata": {},
   "outputs": [],
   "source": [
    "rules = Rules(rule_dicts=rule_dicts)\n",
    "cProfile.run('rules.as_rule_strings(as_numpy=False)', sort='cumtime', filename=f'{filename}.dat')"
   ]
  },
  {
   "cell_type": "code",
   "execution_count": 242,
   "metadata": {},
   "outputs": [
    {
     "name": "stdout",
     "output_type": "stream",
     "text": [
      "Thu Jan 14 18:56:44 2021    Rules_rule_dicts_to_strings_new.dat.dat\n",
      "\n",
      "         12000008 function calls in 7.233 seconds\n",
      "\n",
      "   Ordered by: cumulative time\n",
      "\n",
      "   ncalls  tottime  percall  cumtime  percall filename:lineno(function)\n",
      "        1    0.001    0.001    7.233    7.233 {built-in method builtins.exec}\n",
      "        1    0.001    0.001    7.232    7.232 <string>:1(<module>)\n",
      "        1    0.000    0.000    7.231    7.231 /Users/jlaidler/Documents/tigress/tigress/argo/argo/rules/rules/rules.py:74(as_rule_strings)\n",
      "        1    0.002    0.002    7.231    7.231 /Users/jlaidler/Documents/tigress/tigress/argo/argo/rules/rules/rules.py:173(_rule_dicts_to_rule_strings)\n",
      "        1    0.735    0.735    7.226    7.226 /Users/jlaidler/Documents/tigress/tigress/argo/argo/rules/rules/convert_rule_dicts_to_rule_strings.py:130(convert)\n",
      "  1000000    0.555    0.000    6.491    0.000 /Users/jlaidler/Documents/tigress/tigress/argo/argo/rules/rules/convert_rule_dicts_to_rule_strings.py:188(_convert_rule)\n",
      "  1000000    0.935    0.000    5.936    0.000 /Users/jlaidler/Documents/tigress/tigress/argo/argo/rules/rules/convert_rule_dicts_to_rule_strings.py:199(_recurse_convert_rule_dict_conditions)\n",
      "  1000000    1.499    0.000    4.894    0.000 /Users/jlaidler/Documents/tigress/tigress/argo/argo/rules/rules/convert_rule_dicts_to_rule_strings.py:210(_convert_rule_dict_conditions)\n",
      "  1000000    1.723    0.000    3.023    0.000 /Users/jlaidler/Documents/tigress/tigress/argo/argo/rules/rules/convert_rule_dicts_to_rule_strings.py:234(_create_condition_string_from_dict)\n",
      "  1000000    0.630    0.000    0.630    0.000 /Users/jlaidler/Documents/tigress/tigress/argo/argo/rules/rules/convert_rule_dicts_to_rule_strings.py:334(_create_condition_string_for_standard_operators)\n",
      "  1000000    0.407    0.000    0.569    0.000 /Users/jlaidler/Documents/tigress/tigress/argo/argo/rules/rules/convert_rule_dicts_to_rule_strings.py:282(_parse_value_string)\n",
      "  2000000    0.204    0.000    0.204    0.000 {method 'keys' of 'dict' objects}\n",
      "  1000000    0.163    0.000    0.163    0.000 {built-in method builtins.isinstance}\n",
      "  1000000    0.158    0.000    0.158    0.000 {method 'sort' of 'list' objects}\n",
      "  1000000    0.110    0.000    0.110    0.000 {method 'append' of 'list' objects}\n",
      "  1000000    0.107    0.000    0.107    0.000 {method 'join' of 'str' objects}\n",
      "        1    0.003    0.003    0.003    0.003 /Users/jlaidler/Documents/tigress/tigress/argo/argo/rules/rules/convert_rule_dicts_to_rule_strings.py:11(__init__)\n",
      "        1    0.000    0.000    0.000    0.000 {method 'items' of 'dict' objects}\n",
      "        1    0.000    0.000    0.000    0.000 {method 'disable' of '_lsprof.Profiler' objects}\n",
      "\n",
      "\n"
     ]
    },
    {
     "data": {
      "text/plain": [
       "<pstats.Stats at 0x31311cac8>"
      ]
     },
     "execution_count": 242,
     "metadata": {},
     "output_type": "execute_result"
    }
   ],
   "source": [
    "p = pstats.Stats(f'{filename}.dat')\n",
    "p.sort_stats('cumtime').print_stats()"
   ]
  },
  {
   "cell_type": "markdown",
   "metadata": {},
   "source": [
    "# ConvertRuleDictsToSystemDicts"
   ]
  },
  {
   "cell_type": "markdown",
   "metadata": {},
   "source": [
    "## Old"
   ]
  },
  {
   "cell_type": "code",
   "execution_count": 252,
   "metadata": {},
   "outputs": [],
   "source": [
    "filename = 'Rules_rule_dicts_to_system_dicts_old.dat'"
   ]
  },
  {
   "cell_type": "code",
   "execution_count": 253,
   "metadata": {},
   "outputs": [],
   "source": [
    "rules = Rules(rule_dicts=rule_dicts)\n",
    "cProfile.run('rules.as_system_dicts(field_datatypes=field_datatypes, cassandra_field_names=cassandra_field_names)', sort='cumtime', filename=f'{filename}.dat')"
   ]
  },
  {
   "cell_type": "code",
   "execution_count": 254,
   "metadata": {},
   "outputs": [
    {
     "name": "stdout",
     "output_type": "stream",
     "text": [
      "Thu Jan 14 19:06:13 2021    Rules_rule_dicts_to_system_dicts_old.dat.dat\n",
      "\n",
      "         8000024 function calls in 67.072 seconds\n",
      "\n",
      "   Ordered by: cumulative time\n",
      "\n",
      "   ncalls  tottime  percall  cumtime  percall filename:lineno(function)\n",
      "        1    0.000    0.000   67.072   67.072 {built-in method builtins.exec}\n",
      "        1    0.000    0.000   67.072   67.072 <string>:1(<module>)\n",
      "        1    0.028    0.028   67.072   67.072 /Users/jlaidler/Documents/tigress/tigress/argo/argo/rules/rules/rules.py:129(as_system_dicts)\n",
      "        1    0.000    0.000   67.044   67.044 /Users/jlaidler/Documents/tigress/tigress/argo/argo/rules/rules/rules.py:149(_rule_dicts_to_system_dicts)\n",
      "        1    0.019    0.019   61.576   61.576 /Users/jlaidler/Documents/tigress/tigress/argo/argo/rules/rules/convert_rule_dicts_to_system_dicts.py:15(__init__)\n",
      "        1    0.001    0.001   57.617   57.617 //anaconda3/lib/python3.7/json/__init__.py:299(loads)\n",
      "        1    0.000    0.000   57.616   57.616 //anaconda3/lib/python3.7/json/decoder.py:332(decode)\n",
      "        1   57.613   57.613   57.613   57.613 //anaconda3/lib/python3.7/json/decoder.py:343(raw_decode)\n",
      "        1    0.641    0.641    5.468    5.468 /Users/jlaidler/Documents/tigress/tigress/argo/argo/rules/rules/convert_rule_dicts_to_system_dicts.py:46(convert)\n",
      "  1000000    0.328    0.000    4.826    0.000 /Users/jlaidler/Documents/tigress/tigress/argo/argo/rules/rules/convert_rule_dicts_to_system_dicts.py:61(_convert_rule)\n",
      "  1000000    1.380    0.000    4.498    0.000 /Users/jlaidler/Documents/tigress/tigress/argo/argo/rules/rules/convert_rule_dicts_to_system_dicts.py:70(_recurse_parse_conditions_dict)\n",
      "        1    0.027    0.027    3.940    3.940 //anaconda3/lib/python3.7/json/__init__.py:183(dumps)\n",
      "        1    0.000    0.000    3.914    3.914 //anaconda3/lib/python3.7/json/encoder.py:182(encode)\n",
      "        1    3.707    3.707    3.707    3.707 //anaconda3/lib/python3.7/json/encoder.py:204(iterencode)\n",
      "  1000000    1.742    0.000    2.870    0.000 /Users/jlaidler/Documents/tigress/tigress/argo/argo/rules/rules/convert_rule_dicts_to_system_dicts.py:82(_parse_individual_condition)\n",
      "  1000000    0.762    0.000    0.926    0.000 /Users/jlaidler/Documents/tigress/tigress/argo/argo/rules/rules/convert_rule_dicts_to_system_dicts.py:87(_return_new_value)\n",
      "  2000000    0.366    0.000    0.366    0.000 {method 'endswith' of 'str' objects}\n",
      "        1    0.206    0.206    0.206    0.206 {method 'join' of 'str' objects}\n",
      "  1000000    0.143    0.000    0.143    0.000 {method 'sort' of 'list' objects}\n",
      "  1000000    0.105    0.000    0.105    0.000 {method 'keys' of 'dict' objects}\n",
      "        2    0.003    0.001    0.003    0.001 {method 'match' of 're.Pattern' objects}\n",
      "        3    0.000    0.000    0.000    0.000 {built-in method builtins.isinstance}\n",
      "        1    0.000    0.000    0.000    0.000 {method 'startswith' of 'str' objects}\n",
      "        1    0.000    0.000    0.000    0.000 {method 'disable' of '_lsprof.Profiler' objects}\n",
      "        1    0.000    0.000    0.000    0.000 {method 'items' of 'dict' objects}\n",
      "        1    0.000    0.000    0.000    0.000 {built-in method builtins.len}\n",
      "        2    0.000    0.000    0.000    0.000 {method 'end' of 're.Match' objects}\n",
      "\n",
      "\n"
     ]
    },
    {
     "data": {
      "text/plain": [
       "<pstats.Stats at 0x2eb944f98>"
      ]
     },
     "execution_count": 254,
     "metadata": {},
     "output_type": "execute_result"
    }
   ],
   "source": [
    "p = pstats.Stats(f'{filename}.dat')\n",
    "p.sort_stats('cumtime').print_stats()"
   ]
  },
  {
   "cell_type": "markdown",
   "metadata": {},
   "source": [
    "## New (with cPickle not json)"
   ]
  },
  {
   "cell_type": "code",
   "execution_count": 255,
   "metadata": {},
   "outputs": [],
   "source": [
    "filename = 'Rules_rule_dicts_to_system_dicts_new.dat'"
   ]
  },
  {
   "cell_type": "code",
   "execution_count": 256,
   "metadata": {},
   "outputs": [],
   "source": [
    "rules = Rules(rule_dicts=rule_dicts)\n",
    "cProfile.run('rules.as_system_dicts(field_datatypes=field_datatypes, cassandra_field_names=cassandra_field_names)', sort='cumtime', filename=f'{filename}.dat')"
   ]
  },
  {
   "cell_type": "code",
   "execution_count": 257,
   "metadata": {},
   "outputs": [
    {
     "name": "stdout",
     "output_type": "stream",
     "text": [
      "Thu Jan 14 19:07:06 2021    Rules_rule_dicts_to_system_dicts_new.dat.dat\n",
      "\n",
      "         8000010 function calls in 9.917 seconds\n",
      "\n",
      "   Ordered by: cumulative time\n",
      "\n",
      "   ncalls  tottime  percall  cumtime  percall filename:lineno(function)\n",
      "        1    0.001    0.001    9.917    9.917 {built-in method builtins.exec}\n",
      "        1    0.000    0.000    9.916    9.916 <string>:1(<module>)\n",
      "        1    0.032    0.032    9.916    9.916 /Users/jlaidler/Documents/tigress/tigress/argo/argo/rules/rules/rules.py:129(as_system_dicts)\n",
      "        1    0.000    0.000    9.884    9.884 /Users/jlaidler/Documents/tigress/tigress/argo/argo/rules/rules/rules.py:149(_rule_dicts_to_system_dicts)\n",
      "        1    0.014    0.014    5.199    5.199 /Users/jlaidler/Documents/tigress/tigress/argo/argo/rules/rules/convert_rule_dicts_to_system_dicts.py:15(__init__)\n",
      "        1    0.635    0.635    4.685    4.685 /Users/jlaidler/Documents/tigress/tigress/argo/argo/rules/rules/convert_rule_dicts_to_system_dicts.py:46(convert)\n",
      "  1000000    0.326    0.000    4.050    0.000 /Users/jlaidler/Documents/tigress/tigress/argo/argo/rules/rules/convert_rule_dicts_to_system_dicts.py:61(_convert_rule)\n",
      "  1000000    1.289    0.000    3.724    0.000 /Users/jlaidler/Documents/tigress/tigress/argo/argo/rules/rules/convert_rule_dicts_to_system_dicts.py:70(_recurse_parse_conditions_dict)\n",
      "        1    3.704    3.704    3.704    3.704 {built-in method _pickle.dumps}\n",
      "  1000000    1.180    0.000    2.196    0.000 /Users/jlaidler/Documents/tigress/tigress/argo/argo/rules/rules/convert_rule_dicts_to_system_dicts.py:82(_parse_individual_condition)\n",
      "        1    1.480    1.480    1.480    1.480 {built-in method _pickle.loads}\n",
      "  1000000    0.673    0.000    0.832    0.000 /Users/jlaidler/Documents/tigress/tigress/argo/argo/rules/rules/convert_rule_dicts_to_system_dicts.py:87(_return_new_value)\n",
      "  2000000    0.342    0.000    0.342    0.000 {method 'endswith' of 'str' objects}\n",
      "  1000000    0.141    0.000    0.141    0.000 {method 'sort' of 'list' objects}\n",
      "  1000000    0.099    0.000    0.099    0.000 {method 'keys' of 'dict' objects}\n",
      "        1    0.000    0.000    0.000    0.000 {method 'items' of 'dict' objects}\n",
      "        1    0.000    0.000    0.000    0.000 {method 'disable' of '_lsprof.Profiler' objects}\n",
      "\n",
      "\n"
     ]
    },
    {
     "data": {
      "text/plain": [
       "<pstats.Stats at 0x32adb30f0>"
      ]
     },
     "execution_count": 257,
     "metadata": {},
     "output_type": "execute_result"
    }
   ],
   "source": [
    "p = pstats.Stats(f'{filename}.dat')\n",
    "p.sort_stats('cumtime').print_stats()"
   ]
  },
  {
   "cell_type": "markdown",
   "metadata": {},
   "source": [
    "# ConvertSystemDictsToRuleDicts"
   ]
  },
  {
   "cell_type": "markdown",
   "metadata": {},
   "source": [
    "## Old"
   ]
  },
  {
   "cell_type": "code",
   "execution_count": 265,
   "metadata": {},
   "outputs": [],
   "source": [
    "filename = 'Rules_system_dicts_to_rule_dicts_old.dat'"
   ]
  },
  {
   "cell_type": "code",
   "execution_count": 266,
   "metadata": {},
   "outputs": [],
   "source": [
    "rules = Rules(rule_dicts=rule_dicts)\n",
    "system_dicts = rules.as_system_dicts(field_datatypes=field_datatypes, cassandra_field_names=cassandra_field_names)"
   ]
  },
  {
   "cell_type": "code",
   "execution_count": 267,
   "metadata": {},
   "outputs": [],
   "source": [
    "rules = Rules(system_dicts=system_dicts)\n",
    "cProfile.run('rules.as_rule_dicts()', sort='cumtime', filename=f'{filename}.dat')"
   ]
  },
  {
   "cell_type": "code",
   "execution_count": 268,
   "metadata": {
    "collapsed": true,
    "jupyter": {
     "outputs_hidden": true
    }
   },
   "outputs": [
    {
     "name": "stdout",
     "output_type": "stream",
     "text": [
      "Thu Jan 14 19:15:15 2021    Rules_system_dicts_to_rule_dicts_old.dat.dat\n",
      "\n",
      "         23000024 function calls in 72.016 seconds\n",
      "\n",
      "   Ordered by: cumulative time\n",
      "\n",
      "   ncalls  tottime  percall  cumtime  percall filename:lineno(function)\n",
      "        1    0.001    0.001   72.016   72.016 {built-in method builtins.exec}\n",
      "        1    0.000    0.000   72.015   72.015 <string>:1(<module>)\n",
      "        1    0.026    0.026   72.015   72.015 /Users/jlaidler/Documents/tigress/tigress/argo/argo/rules/rules/rules.py:58(as_rule_dicts)\n",
      "        1    0.001    0.001   71.989   71.989 /Users/jlaidler/Documents/tigress/tigress/argo/argo/rules/rules/rules.py:161(_system_dicts_to_rule_dicts)\n",
      "        1    0.023    0.023   61.509   61.509 /Users/jlaidler/Documents/tigress/tigress/argo/argo/rules/rules/convert_system_dicts_to_rule_dicts.py:16(__init__)\n",
      "        1    0.021    0.021   56.025   56.025 //anaconda3/lib/python3.7/json/__init__.py:183(dumps)\n",
      "        1    0.001    0.001   56.003   56.003 //anaconda3/lib/python3.7/json/encoder.py:182(encode)\n",
      "        1   55.828   55.828   55.828   55.828 //anaconda3/lib/python3.7/json/encoder.py:204(iterencode)\n",
      "        1    0.667    0.667   10.479   10.479 /Users/jlaidler/Documents/tigress/tigress/argo/argo/rules/rules/convert_system_dicts_to_rule_dicts.py:61(convert)\n",
      "  1000000    0.646    0.000    9.812    0.000 /Users/jlaidler/Documents/tigress/tigress/argo/argo/rules/rules/convert_system_dicts_to_rule_dicts.py:80(_convert_rule)\n",
      "  1000000    1.462    0.000    7.739    0.000 /Users/jlaidler/Documents/tigress/tigress/argo/argo/rules/rules/convert_system_dicts_to_rule_dicts.py:94(_recurse_parse_conditions_dict)\n",
      "  1000000    1.258    0.000    5.762    0.000 /Users/jlaidler/Documents/tigress/tigress/argo/argo/rules/rules/convert_system_dicts_to_rule_dicts.py:107(_parse_individual_condition)\n",
      "        1    0.000    0.000    5.462    5.462 //anaconda3/lib/python3.7/json/__init__.py:299(loads)\n",
      "        1    0.000    0.000    5.461    5.461 //anaconda3/lib/python3.7/json/decoder.py:332(decode)\n",
      "        1    5.461    5.461    5.461    5.461 //anaconda3/lib/python3.7/json/decoder.py:343(raw_decode)\n",
      "  1000000    1.093    0.000    1.506    0.000 /Users/jlaidler/Documents/tigress/tigress/argo/argo/rules/rules/convert_system_dicts_to_rule_dicts.py:138(_parse_value)\n",
      "  1000000    1.052    0.000    1.426    0.000 /Users/jlaidler/Documents/tigress/tigress/argo/argo/rules/rules/convert_system_dicts_to_rule_dicts.py:179(_remove_unnecessary_grouping)\n",
      "  1000000    0.767    0.000    1.329    0.000 /Users/jlaidler/Documents/tigress/tigress/argo/argo/rules/rules/convert_system_dicts_to_rule_dicts.py:170(_remove_unnecessary_fields)\n",
      "  1000000    0.676    0.000    1.004    0.000 /Users/jlaidler/Documents/tigress/tigress/argo/argo/rules/rules/convert_system_dicts_to_rule_dicts.py:120(_parse_operator)\n",
      "  5000000    0.763    0.000    0.763    0.000 {method 'pop' of 'dict' objects}\n",
      "  1000000    0.387    0.000    0.665    0.000 /Users/jlaidler/Documents/tigress/tigress/argo/argo/rules/rules/convert_system_dicts_to_rule_dicts.py:160(_parse_field_name)\n",
      "  2000000    0.511    0.000    0.511    0.000 {method 'replace' of 'str' objects}\n",
      "  2000001    0.395    0.000    0.395    0.000 {method 'startswith' of 'str' objects}\n",
      "  2000000    0.367    0.000    0.367    0.000 {method 'sort' of 'list' objects}\n",
      "  2000000    0.220    0.000    0.220    0.000 {method 'keys' of 'dict' objects}\n",
      "        1    0.174    0.174    0.174    0.174 {method 'join' of 'str' objects}\n",
      "  1000003    0.114    0.000    0.114    0.000 {built-in method builtins.isinstance}\n",
      "  1000001    0.102    0.000    0.102    0.000 {built-in method builtins.len}\n",
      "        2    0.000    0.000    0.000    0.000 {method 'match' of 're.Pattern' objects}\n",
      "        2    0.000    0.000    0.000    0.000 {method 'end' of 're.Match' objects}\n",
      "        1    0.000    0.000    0.000    0.000 {method 'items' of 'dict' objects}\n",
      "        1    0.000    0.000    0.000    0.000 {method 'disable' of '_lsprof.Profiler' objects}\n",
      "\n",
      "\n"
     ]
    },
    {
     "data": {
      "text/plain": [
       "<pstats.Stats at 0x410eb5e10>"
      ]
     },
     "execution_count": 268,
     "metadata": {},
     "output_type": "execute_result"
    }
   ],
   "source": [
    "p = pstats.Stats(f'{filename}.dat')\n",
    "p.sort_stats('cumtime').print_stats()"
   ]
  },
  {
   "cell_type": "markdown",
   "metadata": {},
   "source": [
    "## New (with cPickle not json)"
   ]
  },
  {
   "cell_type": "code",
   "execution_count": 262,
   "metadata": {},
   "outputs": [],
   "source": [
    "filename = 'Rules_system_dicts_to_rule_dicts_new.dat'"
   ]
  },
  {
   "cell_type": "code",
   "execution_count": 263,
   "metadata": {},
   "outputs": [],
   "source": [
    "rules = Rules(system_dicts=system_dicts)\n",
    "cProfile.run('rules.as_rule_dicts()', sort='cumtime', filename=f'{filename}.dat')"
   ]
  },
  {
   "cell_type": "code",
   "execution_count": 264,
   "metadata": {
    "collapsed": true,
    "jupyter": {
     "outputs_hidden": true
    }
   },
   "outputs": [
    {
     "name": "stdout",
     "output_type": "stream",
     "text": [
      "Thu Jan 14 19:12:23 2021    Rules_system_dicts_to_rule_dicts_new.dat.dat\n",
      "\n",
      "         23000010 function calls in 14.706 seconds\n",
      "\n",
      "   Ordered by: cumulative time\n",
      "\n",
      "   ncalls  tottime  percall  cumtime  percall filename:lineno(function)\n",
      "        1    0.000    0.000   14.706   14.706 {built-in method builtins.exec}\n",
      "        1    0.000    0.000   14.706   14.706 <string>:1(<module>)\n",
      "        1    0.033    0.033   14.706   14.706 /Users/jlaidler/Documents/tigress/tigress/argo/argo/rules/rules/rules.py:58(as_rule_dicts)\n",
      "        1    0.000    0.000   14.673   14.673 /Users/jlaidler/Documents/tigress/tigress/argo/argo/rules/rules/rules.py:161(_system_dicts_to_rule_dicts)\n",
      "        1    0.694    0.694    9.986    9.986 /Users/jlaidler/Documents/tigress/tigress/argo/argo/rules/rules/convert_system_dicts_to_rule_dicts.py:61(convert)\n",
      "  1000000    0.639    0.000    9.292    0.000 /Users/jlaidler/Documents/tigress/tigress/argo/argo/rules/rules/convert_system_dicts_to_rule_dicts.py:80(_convert_rule)\n",
      "  1000000    1.377    0.000    7.272    0.000 /Users/jlaidler/Documents/tigress/tigress/argo/argo/rules/rules/convert_system_dicts_to_rule_dicts.py:94(_recurse_parse_conditions_dict)\n",
      "  1000000    1.148    0.000    5.422    0.000 /Users/jlaidler/Documents/tigress/tigress/argo/argo/rules/rules/convert_system_dicts_to_rule_dicts.py:107(_parse_individual_condition)\n",
      "        1    0.009    0.009    4.688    4.688 /Users/jlaidler/Documents/tigress/tigress/argo/argo/rules/rules/convert_system_dicts_to_rule_dicts.py:16(__init__)\n",
      "        1    2.717    2.717    2.717    2.717 {built-in method _pickle.dumps}\n",
      "        1    1.962    1.962    1.962    1.962 {built-in method _pickle.loads}\n",
      "  1000000    1.027    0.000    1.420    0.000 /Users/jlaidler/Documents/tigress/tigress/argo/argo/rules/rules/convert_system_dicts_to_rule_dicts.py:138(_parse_value)\n",
      "  1000000    1.028    0.000    1.380    0.000 /Users/jlaidler/Documents/tigress/tigress/argo/argo/rules/rules/convert_system_dicts_to_rule_dicts.py:179(_remove_unnecessary_grouping)\n",
      "  1000000    0.701    0.000    1.239    0.000 /Users/jlaidler/Documents/tigress/tigress/argo/argo/rules/rules/convert_system_dicts_to_rule_dicts.py:170(_remove_unnecessary_fields)\n",
      "  1000000    0.637    0.000    0.958    0.000 /Users/jlaidler/Documents/tigress/tigress/argo/argo/rules/rules/convert_system_dicts_to_rule_dicts.py:120(_parse_operator)\n",
      "  5000000    0.709    0.000    0.709    0.000 {method 'pop' of 'dict' objects}\n",
      "  1000000    0.356    0.000    0.657    0.000 /Users/jlaidler/Documents/tigress/tigress/argo/argo/rules/rules/convert_system_dicts_to_rule_dicts.py:160(_parse_field_name)\n",
      "  2000000    0.520    0.000    0.520    0.000 {method 'replace' of 'str' objects}\n",
      "  2000000    0.383    0.000    0.383    0.000 {method 'startswith' of 'str' objects}\n",
      "  2000000    0.347    0.000    0.347    0.000 {method 'sort' of 'list' objects}\n",
      "  2000000    0.213    0.000    0.213    0.000 {method 'keys' of 'dict' objects}\n",
      "  1000000    0.113    0.000    0.113    0.000 {built-in method builtins.isinstance}\n",
      "  1000000    0.095    0.000    0.095    0.000 {built-in method builtins.len}\n",
      "        1    0.000    0.000    0.000    0.000 {method 'items' of 'dict' objects}\n",
      "        1    0.000    0.000    0.000    0.000 {method 'disable' of '_lsprof.Profiler' objects}\n",
      "\n",
      "\n"
     ]
    },
    {
     "data": {
      "text/plain": [
       "<pstats.Stats at 0x40c011a20>"
      ]
     },
     "execution_count": 264,
     "metadata": {},
     "output_type": "execute_result"
    }
   ],
   "source": [
    "p = pstats.Stats(f'{filename}.dat')\n",
    "p.sort_stats('cumtime').print_stats()"
   ]
  },
  {
   "cell_type": "markdown",
   "metadata": {},
   "source": [
    "# ConvertRuleDictsToRuleLambdas"
   ]
  },
  {
   "cell_type": "markdown",
   "metadata": {},
   "source": [
    "## Old"
   ]
  },
  {
   "cell_type": "code",
   "execution_count": 269,
   "metadata": {},
   "outputs": [],
   "source": [
    "filename = 'Rules_rule_dicts_to_rule_lambdas_old.dat'"
   ]
  },
  {
   "cell_type": "code",
   "execution_count": 270,
   "metadata": {},
   "outputs": [],
   "source": [
    "rules = Rules(rule_dicts=rule_dicts)\n",
    "cProfile.run('rules.as_rule_lambdas(as_numpy=False, with_kwargs=True)', sort='cumtime', filename=f'{filename}.dat')"
   ]
  },
  {
   "cell_type": "code",
   "execution_count": 271,
   "metadata": {},
   "outputs": [
    {
     "name": "stdout",
     "output_type": "stream",
     "text": [
      "Thu Jan 14 19:17:43 2021    Rules_rule_dicts_to_rule_lambdas_old.dat.dat\n",
      "\n",
      "         16000010 function calls in 16.651 seconds\n",
      "\n",
      "   Ordered by: cumulative time\n",
      "\n",
      "   ncalls  tottime  percall  cumtime  percall filename:lineno(function)\n",
      "        1    0.001    0.001   16.651   16.651 {built-in method builtins.exec}\n",
      "        1    0.000    0.000   16.650   16.650 <string>:1(<module>)\n",
      "        1    0.000    0.000   16.650   16.650 /Users/jlaidler/Documents/tigress/tigress/argo/argo/rules/rules/rules.py:98(as_rule_lambdas)\n",
      "        1    0.001    0.001   16.650   16.650 /Users/jlaidler/Documents/tigress/tigress/argo/argo/rules/rules/rules.py:197(_rule_dicts_to_rule_lambdas)\n",
      "        1    0.001    0.001   16.649   16.649 /Users/jlaidler/Documents/tigress/tigress/argo/argo/rules/rules/convert_rule_dicts_to_rule_lambdas.py:30(convert)\n",
      "        1    4.725    4.725   16.647   16.647 /Users/jlaidler/Documents/tigress/tigress/argo/argo/rules/rules/convert_rule_dicts_to_rule_strings.py:152(_convert_to_lambda)\n",
      "  1000000    2.464    0.000   10.988    0.000 /Users/jlaidler/Documents/tigress/tigress/argo/argo/rules/rules/convert_rule_dicts_to_rule_strings.py:199(_recurse_convert_rule_dict_conditions)\n",
      "  1000000    3.099    0.000    8.402    0.000 /Users/jlaidler/Documents/tigress/tigress/argo/argo/rules/rules/convert_rule_dicts_to_rule_strings.py:210(_convert_rule_dict_conditions)\n",
      "  1000000    1.970    0.000    4.780    0.000 /Users/jlaidler/Documents/tigress/tigress/argo/argo/rules/rules/convert_rule_dicts_to_rule_strings.py:234(_create_condition_string_from_dict)\n",
      "  1000000    1.962    0.000    2.285    0.000 /Users/jlaidler/Documents/tigress/tigress/argo/argo/rules/rules/convert_rule_dicts_to_rule_strings.py:256(_parse_value_lambda)\n",
      "  3000000    0.423    0.000    0.423    0.000 {method 'keys' of 'dict' objects}\n",
      "  1000000    0.408    0.000    0.408    0.000 /Users/jlaidler/Documents/tigress/tigress/argo/argo/rules/rules/convert_rule_dicts_to_rule_strings.py:334(_create_condition_string_for_standard_operators)\n",
      "  1000000    0.388    0.000    0.388    0.000 /Users/jlaidler/Documents/tigress/tigress/argo/argo/rules/rules/convert_rule_dicts_to_rule_strings.py:162(_make_lambda)\n",
      "  1000000    0.347    0.000    0.347    0.000 {method 'copy' of 'dict' objects}\n",
      "  1000000    0.209    0.000    0.209    0.000 {built-in method builtins.isinstance}\n",
      "  1000000    0.201    0.000    0.201    0.000 {method 'sort' of 'list' objects}\n",
      "  2000000    0.198    0.000    0.198    0.000 {method 'copy' of 'list' objects}\n",
      "  1000000    0.130    0.000    0.130    0.000 {method 'append' of 'list' objects}\n",
      "  1000000    0.122    0.000    0.122    0.000 {method 'join' of 'str' objects}\n",
      "        1    0.001    0.001    0.001    0.001 /Users/jlaidler/Documents/tigress/tigress/argo/argo/rules/rules/convert_rule_dicts_to_rule_strings.py:11(__init__)\n",
      "        1    0.000    0.000    0.000    0.000 {method 'items' of 'dict' objects}\n",
      "        1    0.000    0.000    0.000    0.000 /Users/jlaidler/Documents/tigress/tigress/argo/argo/rules/rules/convert_rule_dicts_to_rule_lambdas.py:21(__init__)\n",
      "        1    0.000    0.000    0.000    0.000 {method 'disable' of '_lsprof.Profiler' objects}\n",
      "\n",
      "\n"
     ]
    },
    {
     "data": {
      "text/plain": [
       "<pstats.Stats at 0x300ab78d0>"
      ]
     },
     "execution_count": 271,
     "metadata": {},
     "output_type": "execute_result"
    }
   ],
   "source": [
    "p = pstats.Stats(f'{filename}.dat')\n",
    "p.sort_stats('cumtime').print_stats()"
   ]
  },
  {
   "cell_type": "code",
   "execution_count": null,
   "metadata": {},
   "outputs": [],
   "source": []
  },
  {
   "cell_type": "markdown",
   "metadata": {},
   "source": [
    "# General testing"
   ]
  },
  {
   "cell_type": "code",
   "execution_count": 272,
   "metadata": {},
   "outputs": [],
   "source": [
    "from rules.convert_rule_strings_to_rule_dicts import ConvertRuleStringsToRuleDicts\n",
    "from rules.convert_rule_dicts_to_rule_strings import ConvertRuleDictsToRuleStrings\n",
    "from rules.convert_rule_dicts_to_system_dicts import ConvertRuleDictsToSystemDicts\n",
    "from rules.convert_system_dicts_to_rule_dicts import ConvertSystemDictsToRuleDicts\n",
    "from rules.convert_rule_dicts_to_rule_lambdas import ConvertRuleDictsToRuleLambdas"
   ]
  },
  {
   "cell_type": "code",
   "execution_count": 273,
   "metadata": {},
   "outputs": [],
   "source": [
    "c = ConvertRuleStringsToRuleDicts(rule_strings=rule_strings)"
   ]
  },
  {
   "cell_type": "code",
   "execution_count": 274,
   "metadata": {},
   "outputs": [],
   "source": [
    "rule_dicts = c.convert()"
   ]
  },
  {
   "cell_type": "code",
   "execution_count": 275,
   "metadata": {},
   "outputs": [
    {
     "data": {
      "text/plain": [
       "\"(X['is_billing_shipping_city_same']==True)\""
      ]
     },
     "execution_count": 275,
     "metadata": {},
     "output_type": "execute_result"
    }
   ],
   "source": [
    "rule_strings['Rule1']"
   ]
  },
  {
   "cell_type": "code",
   "execution_count": 276,
   "metadata": {},
   "outputs": [
    {
     "data": {
      "text/plain": [
       "{'condition': 'AND',\n",
       " 'rules': [{'field': 'is_billing_shipping_city_same',\n",
       "   'operator': 'equal',\n",
       "   'value': True}]}"
      ]
     },
     "execution_count": 276,
     "metadata": {},
     "output_type": "execute_result"
    }
   ],
   "source": [
    "rule_dicts['Rule1']"
   ]
  },
  {
   "cell_type": "code",
   "execution_count": 277,
   "metadata": {},
   "outputs": [],
   "source": [
    "c = ConvertRuleDictsToRuleStrings(rule_dicts=rule_dicts)"
   ]
  },
  {
   "cell_type": "code",
   "execution_count": 278,
   "metadata": {},
   "outputs": [],
   "source": [
    "rs = c.convert(as_numpy=False)"
   ]
  },
  {
   "cell_type": "code",
   "execution_count": 279,
   "metadata": {},
   "outputs": [
    {
     "data": {
      "text/plain": [
       "\"(X['is_billing_shipping_city_same']==True)\""
      ]
     },
     "execution_count": 279,
     "metadata": {},
     "output_type": "execute_result"
    }
   ],
   "source": [
    "rs['Rule1']"
   ]
  },
  {
   "cell_type": "code",
   "execution_count": 280,
   "metadata": {},
   "outputs": [
    {
     "data": {
      "text/plain": [
       "{'condition': 'AND',\n",
       " 'rules': [{'field': 'is_billing_shipping_city_same',\n",
       "   'operator': 'equal',\n",
       "   'value': True}]}"
      ]
     },
     "execution_count": 280,
     "metadata": {},
     "output_type": "execute_result"
    }
   ],
   "source": [
    "rule_dicts['Rule1']"
   ]
  },
  {
   "cell_type": "code",
   "execution_count": 281,
   "metadata": {},
   "outputs": [],
   "source": [
    "c = ConvertRuleDictsToSystemDicts(rule_dicts=rule_dicts, field_datatypes=field_datatypes, cassandra_field_names=cassandra_field_names)"
   ]
  },
  {
   "cell_type": "code",
   "execution_count": 282,
   "metadata": {},
   "outputs": [],
   "source": [
    "sd = c.convert()"
   ]
  },
  {
   "cell_type": "code",
   "execution_count": 283,
   "metadata": {},
   "outputs": [
    {
     "data": {
      "text/plain": [
       "{'condition': 'AND',\n",
       " 'rules': [{'field': 'is_billing_shipping_city_same',\n",
       "   'operator': 'equal',\n",
       "   'value': '1',\n",
       "   'id': 'is_billing_shipping_city_same',\n",
       "   'type': 'boolean',\n",
       "   'input': 'radio'}]}"
      ]
     },
     "execution_count": 283,
     "metadata": {},
     "output_type": "execute_result"
    }
   ],
   "source": [
    "sd['Rule1']"
   ]
  },
  {
   "cell_type": "code",
   "execution_count": 284,
   "metadata": {},
   "outputs": [
    {
     "data": {
      "text/plain": [
       "{'condition': 'AND',\n",
       " 'rules': [{'field': 'is_billing_shipping_city_same',\n",
       "   'operator': 'equal',\n",
       "   'value': True}]}"
      ]
     },
     "execution_count": 284,
     "metadata": {},
     "output_type": "execute_result"
    }
   ],
   "source": [
    "rule_dicts['Rule1']"
   ]
  },
  {
   "cell_type": "code",
   "execution_count": 285,
   "metadata": {},
   "outputs": [],
   "source": [
    "c = ConvertSystemDictsToRuleDicts(system_dicts=sd)"
   ]
  },
  {
   "cell_type": "code",
   "execution_count": 286,
   "metadata": {},
   "outputs": [],
   "source": [
    "rd = c.convert()"
   ]
  },
  {
   "cell_type": "code",
   "execution_count": 287,
   "metadata": {},
   "outputs": [
    {
     "data": {
      "text/plain": [
       "{'condition': 'AND',\n",
       " 'rules': [{'field': 'is_billing_shipping_city_same',\n",
       "   'operator': 'equal',\n",
       "   'value': True}]}"
      ]
     },
     "execution_count": 287,
     "metadata": {},
     "output_type": "execute_result"
    }
   ],
   "source": [
    "rd['Rule1']"
   ]
  },
  {
   "cell_type": "code",
   "execution_count": 288,
   "metadata": {},
   "outputs": [
    {
     "data": {
      "text/plain": [
       "{'condition': 'AND',\n",
       " 'rules': [{'field': 'is_billing_shipping_city_same',\n",
       "   'operator': 'equal',\n",
       "   'value': '1',\n",
       "   'id': 'is_billing_shipping_city_same',\n",
       "   'type': 'boolean',\n",
       "   'input': 'radio'}]}"
      ]
     },
     "execution_count": 288,
     "metadata": {},
     "output_type": "execute_result"
    }
   ],
   "source": [
    "sd['Rule1']"
   ]
  },
  {
   "cell_type": "code",
   "execution_count": null,
   "metadata": {},
   "outputs": [],
   "source": []
  },
  {
   "cell_type": "code",
   "execution_count": null,
   "metadata": {},
   "outputs": [],
   "source": []
  },
  {
   "cell_type": "code",
   "execution_count": 289,
   "metadata": {},
   "outputs": [],
   "source": [
    "rules = Rules(rule_strings=rule_strings)"
   ]
  },
  {
   "cell_type": "code",
   "execution_count": 290,
   "metadata": {},
   "outputs": [],
   "source": [
    "rs = rules.as_rule_strings(as_numpy=False)"
   ]
  },
  {
   "cell_type": "code",
   "execution_count": 291,
   "metadata": {},
   "outputs": [],
   "source": [
    "rd = rules.as_rule_dicts()"
   ]
  },
  {
   "cell_type": "code",
   "execution_count": 292,
   "metadata": {},
   "outputs": [
    {
     "data": {
      "text/plain": [
       "{'condition': 'AND',\n",
       " 'rules': [{'field': 'is_billing_shipping_city_same',\n",
       "   'operator': 'equal',\n",
       "   'value': True}]}"
      ]
     },
     "execution_count": 292,
     "metadata": {},
     "output_type": "execute_result"
    }
   ],
   "source": [
    "rd['Rule1']"
   ]
  },
  {
   "cell_type": "code",
   "execution_count": 293,
   "metadata": {},
   "outputs": [],
   "source": [
    "sd = rules.as_system_dicts(field_datatypes=field_datatypes, cassandra_field_names=cassandra_field_names)"
   ]
  },
  {
   "cell_type": "code",
   "execution_count": 294,
   "metadata": {},
   "outputs": [
    {
     "data": {
      "text/plain": [
       "{'condition': 'AND',\n",
       " 'rules': [{'field': 'is_billing_shipping_city_same',\n",
       "   'operator': 'equal',\n",
       "   'value': True}]}"
      ]
     },
     "execution_count": 294,
     "metadata": {},
     "output_type": "execute_result"
    }
   ],
   "source": [
    "rd['Rule1']"
   ]
  },
  {
   "cell_type": "code",
   "execution_count": 295,
   "metadata": {},
   "outputs": [],
   "source": [
    "rl = rules.as_rule_lambdas(as_numpy=False, with_kwargs=True)"
   ]
  },
  {
   "cell_type": "code",
   "execution_count": 296,
   "metadata": {},
   "outputs": [
    {
     "data": {
      "text/plain": [
       "\"(X['is_billing_shipping_city_same']==True)\""
      ]
     },
     "execution_count": 296,
     "metadata": {},
     "output_type": "execute_result"
    }
   ],
   "source": [
    "rs['Rule1']"
   ]
  },
  {
   "cell_type": "code",
   "execution_count": 297,
   "metadata": {},
   "outputs": [
    {
     "data": {
      "text/plain": [
       "{'condition': 'AND',\n",
       " 'rules': [{'field': 'is_billing_shipping_city_same',\n",
       "   'operator': 'equal',\n",
       "   'value': True}]}"
      ]
     },
     "execution_count": 297,
     "metadata": {},
     "output_type": "execute_result"
    }
   ],
   "source": [
    "rd['Rule1']"
   ]
  },
  {
   "cell_type": "code",
   "execution_count": 298,
   "metadata": {},
   "outputs": [
    {
     "data": {
      "text/plain": [
       "{'condition': 'AND',\n",
       " 'rules': [{'field': 'is_billing_shipping_city_same',\n",
       "   'operator': 'equal',\n",
       "   'value': '1',\n",
       "   'id': 'is_billing_shipping_city_same',\n",
       "   'type': 'boolean',\n",
       "   'input': 'radio'}]}"
      ]
     },
     "execution_count": 298,
     "metadata": {},
     "output_type": "execute_result"
    }
   ],
   "source": [
    "sd['Rule1']"
   ]
  },
  {
   "cell_type": "code",
   "execution_count": 299,
   "metadata": {},
   "outputs": [
    {
     "data": {
      "text/plain": [
       "\"(X['is_billing_shipping_city_same']==True)\""
      ]
     },
     "execution_count": 299,
     "metadata": {},
     "output_type": "execute_result"
    }
   ],
   "source": [
    "rl['Rule1'](**rules.lambda_kwargs['Rule1'])"
   ]
  },
  {
   "cell_type": "code",
   "execution_count": null,
   "metadata": {},
   "outputs": [],
   "source": []
  },
  {
   "cell_type": "code",
   "execution_count": 114,
   "metadata": {},
   "outputs": [],
   "source": [
    "import json\n",
    "_rule_dicts = json.loads(json.dumps(rule_dicts))"
   ]
  },
  {
   "cell_type": "code",
   "execution_count": 122,
   "metadata": {},
   "outputs": [
    {
     "name": "stdout",
     "output_type": "stream",
     "text": [
      "4.95 s ± 64.4 ms per loop (mean ± std. dev. of 7 runs, 1 loop each)\n"
     ]
    }
   ],
   "source": [
    "%timeit _rule_dicts = json.loads(json.dumps(rule_dicts))"
   ]
  },
  {
   "cell_type": "code",
   "execution_count": 124,
   "metadata": {},
   "outputs": [],
   "source": [
    "import copy"
   ]
  },
  {
   "cell_type": "code",
   "execution_count": 125,
   "metadata": {},
   "outputs": [
    {
     "name": "stdout",
     "output_type": "stream",
     "text": [
      "13.2 s ± 857 ms per loop (mean ± std. dev. of 7 runs, 1 loop each)\n"
     ]
    }
   ],
   "source": [
    "%timeit _rule_dicts = copy.deepcopy(rule_dicts)"
   ]
  },
  {
   "cell_type": "code",
   "execution_count": 127,
   "metadata": {},
   "outputs": [],
   "source": [
    "import _pickle as cPickle"
   ]
  },
  {
   "cell_type": "code",
   "execution_count": 130,
   "metadata": {},
   "outputs": [
    {
     "name": "stdout",
     "output_type": "stream",
     "text": [
      "3.42 s ± 283 ms per loop (mean ± std. dev. of 7 runs, 1 loop each)\n"
     ]
    }
   ],
   "source": [
    "%timeit _rule_dicts = cPickle.loads(cPickle.dumps(rule_dicts, -1))"
   ]
  },
  {
   "cell_type": "code",
   "execution_count": null,
   "metadata": {},
   "outputs": [],
   "source": []
  },
  {
   "cell_type": "code",
   "execution_count": 129,
   "metadata": {},
   "outputs": [
    {
     "data": {
      "text/plain": [
       "True"
      ]
     },
     "execution_count": 129,
     "metadata": {},
     "output_type": "execute_result"
    }
   ],
   "source": [
    "_rule_dicts == rule_dicts"
   ]
  },
  {
   "cell_type": "code",
   "execution_count": 119,
   "metadata": {},
   "outputs": [],
   "source": [
    "_rule_dicts['Rule0']['condition']='OR'"
   ]
  },
  {
   "cell_type": "code",
   "execution_count": 120,
   "metadata": {},
   "outputs": [
    {
     "data": {
      "text/plain": [
       "{'condition': 'OR',\n",
       " 'rules': [{'field': 'account_number_avg_order_total_per_account_number_1day',\n",
       "   'operator': 'greater',\n",
       "   'value': 1.0}]}"
      ]
     },
     "execution_count": 120,
     "metadata": {},
     "output_type": "execute_result"
    }
   ],
   "source": [
    "_rule_dicts['Rule0']"
   ]
  },
  {
   "cell_type": "code",
   "execution_count": 121,
   "metadata": {},
   "outputs": [
    {
     "data": {
      "text/plain": [
       "{'condition': 'AND',\n",
       " 'rules': [{'field': 'account_number_avg_order_total_per_account_number_1day',\n",
       "   'operator': 'greater',\n",
       "   'value': 1.0}]}"
      ]
     },
     "execution_count": 121,
     "metadata": {},
     "output_type": "execute_result"
    }
   ],
   "source": [
    "rule_dicts['Rule0']"
   ]
  },
  {
   "cell_type": "code",
   "execution_count": 111,
   "metadata": {},
   "outputs": [
    {
     "ename": "ModuleNotFoundError",
     "evalue": "No module named 'cPickle'",
     "output_type": "error",
     "traceback": [
      "\u001b[0;31m---------------------------------------------------------------------------\u001b[0m",
      "\u001b[0;31mModuleNotFoundError\u001b[0m                       Traceback (most recent call last)",
      "\u001b[0;32m<ipython-input-111-10f22ec840f4>\u001b[0m in \u001b[0;36m<module>\u001b[0;34m\u001b[0m\n\u001b[0;32m----> 1\u001b[0;31m \u001b[0;32mimport\u001b[0m \u001b[0mcPickle\u001b[0m\u001b[0;34m\u001b[0m\u001b[0;34m\u001b[0m\u001b[0m\n\u001b[0m",
      "\u001b[0;31mModuleNotFoundError\u001b[0m: No module named 'cPickle'"
     ]
    }
   ],
   "source": [
    "import cPickle"
   ]
  },
  {
   "cell_type": "code",
   "execution_count": 110,
   "metadata": {},
   "outputs": [
    {
     "ename": "NameError",
     "evalue": "name 'cPickle' is not defined",
     "output_type": "error",
     "traceback": [
      "\u001b[0;31m---------------------------------------------------------------------------\u001b[0m",
      "\u001b[0;31mNameError\u001b[0m                                 Traceback (most recent call last)",
      "\u001b[0;32m<ipython-input-110-bfe846ed8329>\u001b[0m in \u001b[0;36m<module>\u001b[0;34m\u001b[0m\n\u001b[0;32m----> 1\u001b[0;31m \u001b[0mg\u001b[0m \u001b[0;34m=\u001b[0m \u001b[0mcPickle\u001b[0m\u001b[0;34m.\u001b[0m\u001b[0mloads\u001b[0m\u001b[0;34m(\u001b[0m\u001b[0mcPickle\u001b[0m\u001b[0;34m.\u001b[0m\u001b[0mdumps\u001b[0m\u001b[0;34m(\u001b[0m\u001b[0ma\u001b[0m\u001b[0;34m,\u001b[0m \u001b[0;34m-\u001b[0m\u001b[0;36m1\u001b[0m\u001b[0;34m)\u001b[0m\u001b[0;34m)\u001b[0m\u001b[0;34m\u001b[0m\u001b[0;34m\u001b[0m\u001b[0m\n\u001b[0m",
      "\u001b[0;31mNameError\u001b[0m: name 'cPickle' is not defined"
     ]
    }
   ],
   "source": [
    "g = cPickle.loads(cPickle.dumps(a, -1))"
   ]
  },
  {
   "cell_type": "markdown",
   "metadata": {},
   "source": [
    "# General testing"
   ]
  },
  {
   "cell_type": "code",
   "execution_count": 97,
   "metadata": {},
   "outputs": [],
   "source": [
    "rules = Rules(rule_strings=rule_strings)"
   ]
  },
  {
   "cell_type": "code",
   "execution_count": 94,
   "metadata": {},
   "outputs": [],
   "source": [
    "rule_dicts = rules.as_rule_dicts()"
   ]
  },
  {
   "cell_type": "code",
   "execution_count": 95,
   "metadata": {},
   "outputs": [],
   "source": [
    "r2 = Rules(rule_dicts=rule_dicts)"
   ]
  },
  {
   "cell_type": "code",
   "execution_count": 101,
   "metadata": {},
   "outputs": [],
   "source": [
    "_ = r2.as_rule_dicts()"
   ]
  },
  {
   "cell_type": "code",
   "execution_count": 102,
   "metadata": {},
   "outputs": [],
   "source": [
    "r3 = Rules(rule_strings=rule_strings)"
   ]
  },
  {
   "cell_type": "code",
   "execution_count": 104,
   "metadata": {
    "collapsed": true,
    "jupyter": {
     "outputs_hidden": true
    }
   },
   "outputs": [
    {
     "data": {
      "text/plain": [
       "{'Rule0': \"(X['account_number_avg_order_total_per_account_number_1day']>1)\",\n",
       " 'Rule1': \"(X['is_billing_shipping_city_same']==True)\",\n",
       " 'Rule2': \"(X['sim_sc_ml']>0.5)\",\n",
       " 'Rule3': \"(X['is_billing_shipping_city_same']==True)\",\n",
       " 'Rule4': \"(X['sim_sc_ml']>0.5)\",\n",
       " 'Rule5': \"(X['account_number_avg_order_total_per_account_number_1day']>1)\",\n",
       " 'Rule6': \"(X['sim_sc_ml']>0.5)\",\n",
       " 'Rule7': \"(X['sim_sc_ml']>0.5)\",\n",
       " 'Rule8': \"(X['account_number_avg_order_total_per_account_number_1day']>1)\",\n",
       " 'Rule9': \"(X['sim_sc_ml']>0.5)\",\n",
       " 'Rule10': \"(X['is_billing_shipping_city_same']==True)\",\n",
       " 'Rule11': \"(X['sim_sc_ml']>0.5)\",\n",
       " 'Rule12': \"(X['is_billing_shipping_city_same']==True)\",\n",
       " 'Rule13': \"(X['account_number_avg_order_total_per_account_number_1day']>1)\",\n",
       " 'Rule14': \"(X['sim_sc_ml']>0.5)\",\n",
       " 'Rule15': \"(X['is_billing_shipping_city_same']==True)\",\n",
       " 'Rule16': \"(X['account_number_avg_order_total_per_account_number_1day']>1)\",\n",
       " 'Rule17': \"(X['is_billing_shipping_city_same']==True)\",\n",
       " 'Rule18': \"(X['sim_sc_ml']>0.5)\",\n",
       " 'Rule19': \"(X['account_number_avg_order_total_per_account_number_1day']>1)\",\n",
       " 'Rule20': \"(X['account_number_avg_order_total_per_account_number_1day']>1)\",\n",
       " 'Rule21': \"(X['sim_sc_ml']>0.5)\",\n",
       " 'Rule22': \"(X['is_billing_shipping_city_same']==True)\",\n",
       " 'Rule23': \"(X['is_billing_shipping_city_same']==True)\",\n",
       " 'Rule24': \"(X['account_number_avg_order_total_per_account_number_1day']>1)\",\n",
       " 'Rule25': \"(X['account_number_avg_order_total_per_account_number_1day']>1)\",\n",
       " 'Rule26': \"(X['is_billing_shipping_city_same']==True)\",\n",
       " 'Rule27': \"(X['account_number_avg_order_total_per_account_number_1day']>1)\",\n",
       " 'Rule28': \"(X['account_number_avg_order_total_per_account_number_1day']>1)\",\n",
       " 'Rule29': \"(X['account_number_avg_order_total_per_account_number_1day']>1)\",\n",
       " 'Rule30': \"(X['account_number_avg_order_total_per_account_number_1day']>1)\",\n",
       " 'Rule31': \"(X['is_billing_shipping_city_same']==True)\",\n",
       " 'Rule32': \"(X['is_billing_shipping_city_same']==True)\",\n",
       " 'Rule33': \"(X['is_billing_shipping_city_same']==True)\",\n",
       " 'Rule34': \"(X['sim_sc_ml']>0.5)\",\n",
       " 'Rule35': \"(X['is_billing_shipping_city_same']==True)\",\n",
       " 'Rule36': \"(X['is_billing_shipping_city_same']==True)\",\n",
       " 'Rule37': \"(X['is_billing_shipping_city_same']==True)\",\n",
       " 'Rule38': \"(X['is_billing_shipping_city_same']==True)\",\n",
       " 'Rule39': \"(X['account_number_avg_order_total_per_account_number_1day']>1)\",\n",
       " 'Rule40': \"(X['is_billing_shipping_city_same']==True)\",\n",
       " 'Rule41': \"(X['account_number_avg_order_total_per_account_number_1day']>1)\",\n",
       " 'Rule42': \"(X['sim_sc_ml']>0.5)\",\n",
       " 'Rule43': \"(X['account_number_avg_order_total_per_account_number_1day']>1)\",\n",
       " 'Rule44': \"(X['sim_sc_ml']>0.5)\",\n",
       " 'Rule45': \"(X['account_number_avg_order_total_per_account_number_1day']>1)\",\n",
       " 'Rule46': \"(X['sim_sc_ml']>0.5)\",\n",
       " 'Rule47': \"(X['account_number_avg_order_total_per_account_number_1day']>1)\",\n",
       " 'Rule48': \"(X['sim_sc_ml']>0.5)\",\n",
       " 'Rule49': \"(X['sim_sc_ml']>0.5)\",\n",
       " 'Rule50': \"(X['account_number_avg_order_total_per_account_number_1day']>1)\",\n",
       " 'Rule51': \"(X['sim_sc_ml']>0.5)\",\n",
       " 'Rule52': \"(X['sim_sc_ml']>0.5)\",\n",
       " 'Rule53': \"(X['is_billing_shipping_city_same']==True)\",\n",
       " 'Rule54': \"(X['sim_sc_ml']>0.5)\",\n",
       " 'Rule55': \"(X['is_billing_shipping_city_same']==True)\",\n",
       " 'Rule56': \"(X['is_billing_shipping_city_same']==True)\",\n",
       " 'Rule57': \"(X['sim_sc_ml']>0.5)\",\n",
       " 'Rule58': \"(X['account_number_avg_order_total_per_account_number_1day']>1)\",\n",
       " 'Rule59': \"(X['account_number_avg_order_total_per_account_number_1day']>1)\",\n",
       " 'Rule60': \"(X['sim_sc_ml']>0.5)\",\n",
       " 'Rule61': \"(X['is_billing_shipping_city_same']==True)\",\n",
       " 'Rule62': \"(X['account_number_avg_order_total_per_account_number_1day']>1)\",\n",
       " 'Rule63': \"(X['sim_sc_ml']>0.5)\",\n",
       " 'Rule64': \"(X['account_number_avg_order_total_per_account_number_1day']>1)\",\n",
       " 'Rule65': \"(X['is_billing_shipping_city_same']==True)\",\n",
       " 'Rule66': \"(X['account_number_avg_order_total_per_account_number_1day']>1)\",\n",
       " 'Rule67': \"(X['account_number_avg_order_total_per_account_number_1day']>1)\",\n",
       " 'Rule68': \"(X['account_number_avg_order_total_per_account_number_1day']>1)\",\n",
       " 'Rule69': \"(X['account_number_avg_order_total_per_account_number_1day']>1)\",\n",
       " 'Rule70': \"(X['is_billing_shipping_city_same']==True)\",\n",
       " 'Rule71': \"(X['is_billing_shipping_city_same']==True)\",\n",
       " 'Rule72': \"(X['sim_sc_ml']>0.5)\",\n",
       " 'Rule73': \"(X['account_number_avg_order_total_per_account_number_1day']>1)\",\n",
       " 'Rule74': \"(X['sim_sc_ml']>0.5)\",\n",
       " 'Rule75': \"(X['is_billing_shipping_city_same']==True)\",\n",
       " 'Rule76': \"(X['is_billing_shipping_city_same']==True)\",\n",
       " 'Rule77': \"(X['account_number_avg_order_total_per_account_number_1day']>1)\",\n",
       " 'Rule78': \"(X['is_billing_shipping_city_same']==True)\",\n",
       " 'Rule79': \"(X['is_billing_shipping_city_same']==True)\",\n",
       " 'Rule80': \"(X['sim_sc_ml']>0.5)\",\n",
       " 'Rule81': \"(X['account_number_avg_order_total_per_account_number_1day']>1)\",\n",
       " 'Rule82': \"(X['is_billing_shipping_city_same']==True)\",\n",
       " 'Rule83': \"(X['account_number_avg_order_total_per_account_number_1day']>1)\",\n",
       " 'Rule84': \"(X['account_number_avg_order_total_per_account_number_1day']>1)\",\n",
       " 'Rule85': \"(X['sim_sc_ml']>0.5)\",\n",
       " 'Rule86': \"(X['account_number_avg_order_total_per_account_number_1day']>1)\",\n",
       " 'Rule87': \"(X['account_number_avg_order_total_per_account_number_1day']>1)\",\n",
       " 'Rule88': \"(X['is_billing_shipping_city_same']==True)\",\n",
       " 'Rule89': \"(X['is_billing_shipping_city_same']==True)\",\n",
       " 'Rule90': \"(X['account_number_avg_order_total_per_account_number_1day']>1)\",\n",
       " 'Rule91': \"(X['is_billing_shipping_city_same']==True)\",\n",
       " 'Rule92': \"(X['is_billing_shipping_city_same']==True)\",\n",
       " 'Rule93': \"(X['sim_sc_ml']>0.5)\",\n",
       " 'Rule94': \"(X['account_number_avg_order_total_per_account_number_1day']>1)\",\n",
       " 'Rule95': \"(X['sim_sc_ml']>0.5)\",\n",
       " 'Rule96': \"(X['is_billing_shipping_city_same']==True)\",\n",
       " 'Rule97': \"(X['account_number_avg_order_total_per_account_number_1day']>1)\",\n",
       " 'Rule98': \"(X['is_billing_shipping_city_same']==True)\",\n",
       " 'Rule99': \"(X['account_number_avg_order_total_per_account_number_1day']>1)\",\n",
       " 'Rule100': \"(X['account_number_avg_order_total_per_account_number_1day']>1)\",\n",
       " 'Rule101': \"(X['sim_sc_ml']>0.5)\",\n",
       " 'Rule102': \"(X['sim_sc_ml']>0.5)\",\n",
       " 'Rule103': \"(X['is_billing_shipping_city_same']==True)\",\n",
       " 'Rule104': \"(X['sim_sc_ml']>0.5)\",\n",
       " 'Rule105': \"(X['sim_sc_ml']>0.5)\",\n",
       " 'Rule106': \"(X['is_billing_shipping_city_same']==True)\",\n",
       " 'Rule107': \"(X['sim_sc_ml']>0.5)\",\n",
       " 'Rule108': \"(X['is_billing_shipping_city_same']==True)\",\n",
       " 'Rule109': \"(X['sim_sc_ml']>0.5)\",\n",
       " 'Rule110': \"(X['account_number_avg_order_total_per_account_number_1day']>1)\",\n",
       " 'Rule111': \"(X['sim_sc_ml']>0.5)\",\n",
       " 'Rule112': \"(X['account_number_avg_order_total_per_account_number_1day']>1)\",\n",
       " 'Rule113': \"(X['account_number_avg_order_total_per_account_number_1day']>1)\",\n",
       " 'Rule114': \"(X['account_number_avg_order_total_per_account_number_1day']>1)\",\n",
       " 'Rule115': \"(X['sim_sc_ml']>0.5)\",\n",
       " 'Rule116': \"(X['is_billing_shipping_city_same']==True)\",\n",
       " 'Rule117': \"(X['account_number_avg_order_total_per_account_number_1day']>1)\",\n",
       " 'Rule118': \"(X['account_number_avg_order_total_per_account_number_1day']>1)\",\n",
       " 'Rule119': \"(X['is_billing_shipping_city_same']==True)\",\n",
       " 'Rule120': \"(X['is_billing_shipping_city_same']==True)\",\n",
       " 'Rule121': \"(X['sim_sc_ml']>0.5)\",\n",
       " 'Rule122': \"(X['account_number_avg_order_total_per_account_number_1day']>1)\",\n",
       " 'Rule123': \"(X['is_billing_shipping_city_same']==True)\",\n",
       " 'Rule124': \"(X['account_number_avg_order_total_per_account_number_1day']>1)\",\n",
       " 'Rule125': \"(X['is_billing_shipping_city_same']==True)\",\n",
       " 'Rule126': \"(X['is_billing_shipping_city_same']==True)\",\n",
       " 'Rule127': \"(X['is_billing_shipping_city_same']==True)\",\n",
       " 'Rule128': \"(X['is_billing_shipping_city_same']==True)\",\n",
       " 'Rule129': \"(X['account_number_avg_order_total_per_account_number_1day']>1)\",\n",
       " 'Rule130': \"(X['account_number_avg_order_total_per_account_number_1day']>1)\",\n",
       " 'Rule131': \"(X['account_number_avg_order_total_per_account_number_1day']>1)\",\n",
       " 'Rule132': \"(X['account_number_avg_order_total_per_account_number_1day']>1)\",\n",
       " 'Rule133': \"(X['sim_sc_ml']>0.5)\",\n",
       " 'Rule134': \"(X['sim_sc_ml']>0.5)\",\n",
       " 'Rule135': \"(X['is_billing_shipping_city_same']==True)\",\n",
       " 'Rule136': \"(X['account_number_avg_order_total_per_account_number_1day']>1)\",\n",
       " 'Rule137': \"(X['is_billing_shipping_city_same']==True)\",\n",
       " 'Rule138': \"(X['sim_sc_ml']>0.5)\",\n",
       " 'Rule139': \"(X['is_billing_shipping_city_same']==True)\",\n",
       " 'Rule140': \"(X['sim_sc_ml']>0.5)\",\n",
       " 'Rule141': \"(X['account_number_avg_order_total_per_account_number_1day']>1)\",\n",
       " 'Rule142': \"(X['is_billing_shipping_city_same']==True)\",\n",
       " 'Rule143': \"(X['sim_sc_ml']>0.5)\",\n",
       " 'Rule144': \"(X['account_number_avg_order_total_per_account_number_1day']>1)\",\n",
       " 'Rule145': \"(X['is_billing_shipping_city_same']==True)\",\n",
       " 'Rule146': \"(X['is_billing_shipping_city_same']==True)\",\n",
       " 'Rule147': \"(X['is_billing_shipping_city_same']==True)\",\n",
       " 'Rule148': \"(X['is_billing_shipping_city_same']==True)\",\n",
       " 'Rule149': \"(X['account_number_avg_order_total_per_account_number_1day']>1)\",\n",
       " 'Rule150': \"(X['is_billing_shipping_city_same']==True)\",\n",
       " 'Rule151': \"(X['sim_sc_ml']>0.5)\",\n",
       " 'Rule152': \"(X['sim_sc_ml']>0.5)\",\n",
       " 'Rule153': \"(X['account_number_avg_order_total_per_account_number_1day']>1)\",\n",
       " 'Rule154': \"(X['is_billing_shipping_city_same']==True)\",\n",
       " 'Rule155': \"(X['account_number_avg_order_total_per_account_number_1day']>1)\",\n",
       " 'Rule156': \"(X['sim_sc_ml']>0.5)\",\n",
       " 'Rule157': \"(X['account_number_avg_order_total_per_account_number_1day']>1)\",\n",
       " 'Rule158': \"(X['account_number_avg_order_total_per_account_number_1day']>1)\",\n",
       " 'Rule159': \"(X['account_number_avg_order_total_per_account_number_1day']>1)\",\n",
       " 'Rule160': \"(X['sim_sc_ml']>0.5)\",\n",
       " 'Rule161': \"(X['is_billing_shipping_city_same']==True)\",\n",
       " 'Rule162': \"(X['account_number_avg_order_total_per_account_number_1day']>1)\",\n",
       " 'Rule163': \"(X['is_billing_shipping_city_same']==True)\",\n",
       " 'Rule164': \"(X['sim_sc_ml']>0.5)\",\n",
       " 'Rule165': \"(X['is_billing_shipping_city_same']==True)\",\n",
       " 'Rule166': \"(X['is_billing_shipping_city_same']==True)\",\n",
       " 'Rule167': \"(X['is_billing_shipping_city_same']==True)\",\n",
       " 'Rule168': \"(X['sim_sc_ml']>0.5)\",\n",
       " 'Rule169': \"(X['is_billing_shipping_city_same']==True)\",\n",
       " 'Rule170': \"(X['sim_sc_ml']>0.5)\",\n",
       " 'Rule171': \"(X['sim_sc_ml']>0.5)\",\n",
       " 'Rule172': \"(X['account_number_avg_order_total_per_account_number_1day']>1)\",\n",
       " 'Rule173': \"(X['sim_sc_ml']>0.5)\",\n",
       " 'Rule174': \"(X['is_billing_shipping_city_same']==True)\",\n",
       " 'Rule175': \"(X['is_billing_shipping_city_same']==True)\",\n",
       " 'Rule176': \"(X['account_number_avg_order_total_per_account_number_1day']>1)\",\n",
       " 'Rule177': \"(X['is_billing_shipping_city_same']==True)\",\n",
       " 'Rule178': \"(X['account_number_avg_order_total_per_account_number_1day']>1)\",\n",
       " 'Rule179': \"(X['sim_sc_ml']>0.5)\",\n",
       " 'Rule180': \"(X['account_number_avg_order_total_per_account_number_1day']>1)\",\n",
       " 'Rule181': \"(X['account_number_avg_order_total_per_account_number_1day']>1)\",\n",
       " 'Rule182': \"(X['is_billing_shipping_city_same']==True)\",\n",
       " 'Rule183': \"(X['sim_sc_ml']>0.5)\",\n",
       " 'Rule184': \"(X['is_billing_shipping_city_same']==True)\",\n",
       " 'Rule185': \"(X['is_billing_shipping_city_same']==True)\",\n",
       " 'Rule186': \"(X['account_number_avg_order_total_per_account_number_1day']>1)\",\n",
       " 'Rule187': \"(X['account_number_avg_order_total_per_account_number_1day']>1)\",\n",
       " 'Rule188': \"(X['account_number_avg_order_total_per_account_number_1day']>1)\",\n",
       " 'Rule189': \"(X['is_billing_shipping_city_same']==True)\",\n",
       " 'Rule190': \"(X['sim_sc_ml']>0.5)\",\n",
       " 'Rule191': \"(X['is_billing_shipping_city_same']==True)\",\n",
       " 'Rule192': \"(X['sim_sc_ml']>0.5)\",\n",
       " 'Rule193': \"(X['account_number_avg_order_total_per_account_number_1day']>1)\",\n",
       " 'Rule194': \"(X['sim_sc_ml']>0.5)\",\n",
       " 'Rule195': \"(X['account_number_avg_order_total_per_account_number_1day']>1)\",\n",
       " 'Rule196': \"(X['sim_sc_ml']>0.5)\",\n",
       " 'Rule197': \"(X['is_billing_shipping_city_same']==True)\",\n",
       " 'Rule198': \"(X['is_billing_shipping_city_same']==True)\",\n",
       " 'Rule199': \"(X['sim_sc_ml']>0.5)\",\n",
       " 'Rule200': \"(X['account_number_avg_order_total_per_account_number_1day']>1)\",\n",
       " 'Rule201': \"(X['account_number_avg_order_total_per_account_number_1day']>1)\",\n",
       " 'Rule202': \"(X['is_billing_shipping_city_same']==True)\",\n",
       " 'Rule203': \"(X['sim_sc_ml']>0.5)\",\n",
       " 'Rule204': \"(X['is_billing_shipping_city_same']==True)\",\n",
       " 'Rule205': \"(X['is_billing_shipping_city_same']==True)\",\n",
       " 'Rule206': \"(X['account_number_avg_order_total_per_account_number_1day']>1)\",\n",
       " 'Rule207': \"(X['sim_sc_ml']>0.5)\",\n",
       " 'Rule208': \"(X['account_number_avg_order_total_per_account_number_1day']>1)\",\n",
       " 'Rule209': \"(X['account_number_avg_order_total_per_account_number_1day']>1)\",\n",
       " 'Rule210': \"(X['sim_sc_ml']>0.5)\",\n",
       " 'Rule211': \"(X['sim_sc_ml']>0.5)\",\n",
       " 'Rule212': \"(X['sim_sc_ml']>0.5)\",\n",
       " 'Rule213': \"(X['is_billing_shipping_city_same']==True)\",\n",
       " 'Rule214': \"(X['is_billing_shipping_city_same']==True)\",\n",
       " 'Rule215': \"(X['sim_sc_ml']>0.5)\",\n",
       " 'Rule216': \"(X['is_billing_shipping_city_same']==True)\",\n",
       " 'Rule217': \"(X['is_billing_shipping_city_same']==True)\",\n",
       " 'Rule218': \"(X['sim_sc_ml']>0.5)\",\n",
       " 'Rule219': \"(X['sim_sc_ml']>0.5)\",\n",
       " 'Rule220': \"(X['sim_sc_ml']>0.5)\",\n",
       " 'Rule221': \"(X['account_number_avg_order_total_per_account_number_1day']>1)\",\n",
       " 'Rule222': \"(X['sim_sc_ml']>0.5)\",\n",
       " 'Rule223': \"(X['sim_sc_ml']>0.5)\",\n",
       " 'Rule224': \"(X['is_billing_shipping_city_same']==True)\",\n",
       " 'Rule225': \"(X['account_number_avg_order_total_per_account_number_1day']>1)\",\n",
       " 'Rule226': \"(X['sim_sc_ml']>0.5)\",\n",
       " 'Rule227': \"(X['is_billing_shipping_city_same']==True)\",\n",
       " 'Rule228': \"(X['sim_sc_ml']>0.5)\",\n",
       " 'Rule229': \"(X['is_billing_shipping_city_same']==True)\",\n",
       " 'Rule230': \"(X['is_billing_shipping_city_same']==True)\",\n",
       " 'Rule231': \"(X['account_number_avg_order_total_per_account_number_1day']>1)\",\n",
       " 'Rule232': \"(X['sim_sc_ml']>0.5)\",\n",
       " 'Rule233': \"(X['sim_sc_ml']>0.5)\",\n",
       " 'Rule234': \"(X['sim_sc_ml']>0.5)\",\n",
       " 'Rule235': \"(X['is_billing_shipping_city_same']==True)\",\n",
       " 'Rule236': \"(X['is_billing_shipping_city_same']==True)\",\n",
       " 'Rule237': \"(X['sim_sc_ml']>0.5)\",\n",
       " 'Rule238': \"(X['is_billing_shipping_city_same']==True)\",\n",
       " 'Rule239': \"(X['account_number_avg_order_total_per_account_number_1day']>1)\",\n",
       " 'Rule240': \"(X['sim_sc_ml']>0.5)\",\n",
       " 'Rule241': \"(X['sim_sc_ml']>0.5)\",\n",
       " 'Rule242': \"(X['sim_sc_ml']>0.5)\",\n",
       " 'Rule243': \"(X['account_number_avg_order_total_per_account_number_1day']>1)\",\n",
       " 'Rule244': \"(X['sim_sc_ml']>0.5)\",\n",
       " 'Rule245': \"(X['account_number_avg_order_total_per_account_number_1day']>1)\",\n",
       " 'Rule246': \"(X['account_number_avg_order_total_per_account_number_1day']>1)\",\n",
       " 'Rule247': \"(X['sim_sc_ml']>0.5)\",\n",
       " 'Rule248': \"(X['sim_sc_ml']>0.5)\",\n",
       " 'Rule249': \"(X['account_number_avg_order_total_per_account_number_1day']>1)\",\n",
       " 'Rule250': \"(X['is_billing_shipping_city_same']==True)\",\n",
       " 'Rule251': \"(X['sim_sc_ml']>0.5)\",\n",
       " 'Rule252': \"(X['sim_sc_ml']>0.5)\",\n",
       " 'Rule253': \"(X['is_billing_shipping_city_same']==True)\",\n",
       " 'Rule254': \"(X['account_number_avg_order_total_per_account_number_1day']>1)\",\n",
       " 'Rule255': \"(X['sim_sc_ml']>0.5)\",\n",
       " 'Rule256': \"(X['account_number_avg_order_total_per_account_number_1day']>1)\",\n",
       " 'Rule257': \"(X['account_number_avg_order_total_per_account_number_1day']>1)\",\n",
       " 'Rule258': \"(X['sim_sc_ml']>0.5)\",\n",
       " 'Rule259': \"(X['account_number_avg_order_total_per_account_number_1day']>1)\",\n",
       " 'Rule260': \"(X['sim_sc_ml']>0.5)\",\n",
       " 'Rule261': \"(X['sim_sc_ml']>0.5)\",\n",
       " 'Rule262': \"(X['sim_sc_ml']>0.5)\",\n",
       " 'Rule263': \"(X['account_number_avg_order_total_per_account_number_1day']>1)\",\n",
       " 'Rule264': \"(X['is_billing_shipping_city_same']==True)\",\n",
       " 'Rule265': \"(X['sim_sc_ml']>0.5)\",\n",
       " 'Rule266': \"(X['is_billing_shipping_city_same']==True)\",\n",
       " 'Rule267': \"(X['account_number_avg_order_total_per_account_number_1day']>1)\",\n",
       " 'Rule268': \"(X['is_billing_shipping_city_same']==True)\",\n",
       " 'Rule269': \"(X['account_number_avg_order_total_per_account_number_1day']>1)\",\n",
       " 'Rule270': \"(X['account_number_avg_order_total_per_account_number_1day']>1)\",\n",
       " 'Rule271': \"(X['account_number_avg_order_total_per_account_number_1day']>1)\",\n",
       " 'Rule272': \"(X['account_number_avg_order_total_per_account_number_1day']>1)\",\n",
       " 'Rule273': \"(X['is_billing_shipping_city_same']==True)\",\n",
       " 'Rule274': \"(X['sim_sc_ml']>0.5)\",\n",
       " 'Rule275': \"(X['sim_sc_ml']>0.5)\",\n",
       " 'Rule276': \"(X['account_number_avg_order_total_per_account_number_1day']>1)\",\n",
       " 'Rule277': \"(X['sim_sc_ml']>0.5)\",\n",
       " 'Rule278': \"(X['sim_sc_ml']>0.5)\",\n",
       " 'Rule279': \"(X['sim_sc_ml']>0.5)\",\n",
       " 'Rule280': \"(X['sim_sc_ml']>0.5)\",\n",
       " 'Rule281': \"(X['is_billing_shipping_city_same']==True)\",\n",
       " 'Rule282': \"(X['account_number_avg_order_total_per_account_number_1day']>1)\",\n",
       " 'Rule283': \"(X['sim_sc_ml']>0.5)\",\n",
       " 'Rule284': \"(X['is_billing_shipping_city_same']==True)\",\n",
       " 'Rule285': \"(X['sim_sc_ml']>0.5)\",\n",
       " 'Rule286': \"(X['account_number_avg_order_total_per_account_number_1day']>1)\",\n",
       " 'Rule287': \"(X['sim_sc_ml']>0.5)\",\n",
       " 'Rule288': \"(X['sim_sc_ml']>0.5)\",\n",
       " 'Rule289': \"(X['account_number_avg_order_total_per_account_number_1day']>1)\",\n",
       " 'Rule290': \"(X['is_billing_shipping_city_same']==True)\",\n",
       " 'Rule291': \"(X['sim_sc_ml']>0.5)\",\n",
       " 'Rule292': \"(X['is_billing_shipping_city_same']==True)\",\n",
       " 'Rule293': \"(X['is_billing_shipping_city_same']==True)\",\n",
       " 'Rule294': \"(X['sim_sc_ml']>0.5)\",\n",
       " 'Rule295': \"(X['sim_sc_ml']>0.5)\",\n",
       " 'Rule296': \"(X['account_number_avg_order_total_per_account_number_1day']>1)\",\n",
       " 'Rule297': \"(X['sim_sc_ml']>0.5)\",\n",
       " 'Rule298': \"(X['account_number_avg_order_total_per_account_number_1day']>1)\",\n",
       " 'Rule299': \"(X['account_number_avg_order_total_per_account_number_1day']>1)\",\n",
       " 'Rule300': \"(X['is_billing_shipping_city_same']==True)\",\n",
       " 'Rule301': \"(X['is_billing_shipping_city_same']==True)\",\n",
       " 'Rule302': \"(X['sim_sc_ml']>0.5)\",\n",
       " 'Rule303': \"(X['account_number_avg_order_total_per_account_number_1day']>1)\",\n",
       " 'Rule304': \"(X['account_number_avg_order_total_per_account_number_1day']>1)\",\n",
       " 'Rule305': \"(X['account_number_avg_order_total_per_account_number_1day']>1)\",\n",
       " 'Rule306': \"(X['account_number_avg_order_total_per_account_number_1day']>1)\",\n",
       " 'Rule307': \"(X['account_number_avg_order_total_per_account_number_1day']>1)\",\n",
       " 'Rule308': \"(X['account_number_avg_order_total_per_account_number_1day']>1)\",\n",
       " 'Rule309': \"(X['account_number_avg_order_total_per_account_number_1day']>1)\",\n",
       " 'Rule310': \"(X['sim_sc_ml']>0.5)\",\n",
       " 'Rule311': \"(X['sim_sc_ml']>0.5)\",\n",
       " 'Rule312': \"(X['is_billing_shipping_city_same']==True)\",\n",
       " 'Rule313': \"(X['account_number_avg_order_total_per_account_number_1day']>1)\",\n",
       " 'Rule314': \"(X['sim_sc_ml']>0.5)\",\n",
       " 'Rule315': \"(X['is_billing_shipping_city_same']==True)\",\n",
       " 'Rule316': \"(X['is_billing_shipping_city_same']==True)\",\n",
       " 'Rule317': \"(X['sim_sc_ml']>0.5)\",\n",
       " 'Rule318': \"(X['is_billing_shipping_city_same']==True)\",\n",
       " 'Rule319': \"(X['is_billing_shipping_city_same']==True)\",\n",
       " 'Rule320': \"(X['sim_sc_ml']>0.5)\",\n",
       " 'Rule321': \"(X['account_number_avg_order_total_per_account_number_1day']>1)\",\n",
       " 'Rule322': \"(X['is_billing_shipping_city_same']==True)\",\n",
       " 'Rule323': \"(X['sim_sc_ml']>0.5)\",\n",
       " 'Rule324': \"(X['account_number_avg_order_total_per_account_number_1day']>1)\",\n",
       " 'Rule325': \"(X['sim_sc_ml']>0.5)\",\n",
       " 'Rule326': \"(X['sim_sc_ml']>0.5)\",\n",
       " 'Rule327': \"(X['account_number_avg_order_total_per_account_number_1day']>1)\",\n",
       " 'Rule328': \"(X['sim_sc_ml']>0.5)\",\n",
       " 'Rule329': \"(X['account_number_avg_order_total_per_account_number_1day']>1)\",\n",
       " 'Rule330': \"(X['sim_sc_ml']>0.5)\",\n",
       " 'Rule331': \"(X['is_billing_shipping_city_same']==True)\",\n",
       " 'Rule332': \"(X['sim_sc_ml']>0.5)\",\n",
       " 'Rule333': \"(X['is_billing_shipping_city_same']==True)\",\n",
       " 'Rule334': \"(X['account_number_avg_order_total_per_account_number_1day']>1)\",\n",
       " 'Rule335': \"(X['account_number_avg_order_total_per_account_number_1day']>1)\",\n",
       " 'Rule336': \"(X['is_billing_shipping_city_same']==True)\",\n",
       " 'Rule337': \"(X['is_billing_shipping_city_same']==True)\",\n",
       " 'Rule338': \"(X['sim_sc_ml']>0.5)\",\n",
       " 'Rule339': \"(X['is_billing_shipping_city_same']==True)\",\n",
       " 'Rule340': \"(X['is_billing_shipping_city_same']==True)\",\n",
       " 'Rule341': \"(X['account_number_avg_order_total_per_account_number_1day']>1)\",\n",
       " 'Rule342': \"(X['is_billing_shipping_city_same']==True)\",\n",
       " 'Rule343': \"(X['account_number_avg_order_total_per_account_number_1day']>1)\",\n",
       " 'Rule344': \"(X['account_number_avg_order_total_per_account_number_1day']>1)\",\n",
       " 'Rule345': \"(X['account_number_avg_order_total_per_account_number_1day']>1)\",\n",
       " 'Rule346': \"(X['account_number_avg_order_total_per_account_number_1day']>1)\",\n",
       " 'Rule347': \"(X['is_billing_shipping_city_same']==True)\",\n",
       " 'Rule348': \"(X['sim_sc_ml']>0.5)\",\n",
       " 'Rule349': \"(X['sim_sc_ml']>0.5)\",\n",
       " 'Rule350': \"(X['sim_sc_ml']>0.5)\",\n",
       " 'Rule351': \"(X['is_billing_shipping_city_same']==True)\",\n",
       " 'Rule352': \"(X['account_number_avg_order_total_per_account_number_1day']>1)\",\n",
       " 'Rule353': \"(X['is_billing_shipping_city_same']==True)\",\n",
       " 'Rule354': \"(X['sim_sc_ml']>0.5)\",\n",
       " 'Rule355': \"(X['is_billing_shipping_city_same']==True)\",\n",
       " 'Rule356': \"(X['account_number_avg_order_total_per_account_number_1day']>1)\",\n",
       " 'Rule357': \"(X['sim_sc_ml']>0.5)\",\n",
       " 'Rule358': \"(X['sim_sc_ml']>0.5)\",\n",
       " 'Rule359': \"(X['is_billing_shipping_city_same']==True)\",\n",
       " 'Rule360': \"(X['account_number_avg_order_total_per_account_number_1day']>1)\",\n",
       " 'Rule361': \"(X['account_number_avg_order_total_per_account_number_1day']>1)\",\n",
       " 'Rule362': \"(X['is_billing_shipping_city_same']==True)\",\n",
       " 'Rule363': \"(X['sim_sc_ml']>0.5)\",\n",
       " 'Rule364': \"(X['is_billing_shipping_city_same']==True)\",\n",
       " 'Rule365': \"(X['sim_sc_ml']>0.5)\",\n",
       " 'Rule366': \"(X['sim_sc_ml']>0.5)\",\n",
       " 'Rule367': \"(X['is_billing_shipping_city_same']==True)\",\n",
       " 'Rule368': \"(X['account_number_avg_order_total_per_account_number_1day']>1)\",\n",
       " 'Rule369': \"(X['is_billing_shipping_city_same']==True)\",\n",
       " 'Rule370': \"(X['account_number_avg_order_total_per_account_number_1day']>1)\",\n",
       " 'Rule371': \"(X['account_number_avg_order_total_per_account_number_1day']>1)\",\n",
       " 'Rule372': \"(X['is_billing_shipping_city_same']==True)\",\n",
       " 'Rule373': \"(X['is_billing_shipping_city_same']==True)\",\n",
       " 'Rule374': \"(X['is_billing_shipping_city_same']==True)\",\n",
       " 'Rule375': \"(X['sim_sc_ml']>0.5)\",\n",
       " 'Rule376': \"(X['is_billing_shipping_city_same']==True)\",\n",
       " 'Rule377': \"(X['sim_sc_ml']>0.5)\",\n",
       " 'Rule378': \"(X['account_number_avg_order_total_per_account_number_1day']>1)\",\n",
       " 'Rule379': \"(X['sim_sc_ml']>0.5)\",\n",
       " 'Rule380': \"(X['is_billing_shipping_city_same']==True)\",\n",
       " 'Rule381': \"(X['is_billing_shipping_city_same']==True)\",\n",
       " 'Rule382': \"(X['account_number_avg_order_total_per_account_number_1day']>1)\",\n",
       " 'Rule383': \"(X['sim_sc_ml']>0.5)\",\n",
       " 'Rule384': \"(X['account_number_avg_order_total_per_account_number_1day']>1)\",\n",
       " 'Rule385': \"(X['account_number_avg_order_total_per_account_number_1day']>1)\",\n",
       " 'Rule386': \"(X['sim_sc_ml']>0.5)\",\n",
       " 'Rule387': \"(X['is_billing_shipping_city_same']==True)\",\n",
       " 'Rule388': \"(X['sim_sc_ml']>0.5)\",\n",
       " 'Rule389': \"(X['account_number_avg_order_total_per_account_number_1day']>1)\",\n",
       " 'Rule390': \"(X['sim_sc_ml']>0.5)\",\n",
       " 'Rule391': \"(X['sim_sc_ml']>0.5)\",\n",
       " 'Rule392': \"(X['is_billing_shipping_city_same']==True)\",\n",
       " 'Rule393': \"(X['account_number_avg_order_total_per_account_number_1day']>1)\",\n",
       " 'Rule394': \"(X['is_billing_shipping_city_same']==True)\",\n",
       " 'Rule395': \"(X['is_billing_shipping_city_same']==True)\",\n",
       " 'Rule396': \"(X['is_billing_shipping_city_same']==True)\",\n",
       " 'Rule397': \"(X['is_billing_shipping_city_same']==True)\",\n",
       " 'Rule398': \"(X['is_billing_shipping_city_same']==True)\",\n",
       " 'Rule399': \"(X['sim_sc_ml']>0.5)\",\n",
       " 'Rule400': \"(X['sim_sc_ml']>0.5)\",\n",
       " 'Rule401': \"(X['account_number_avg_order_total_per_account_number_1day']>1)\",\n",
       " 'Rule402': \"(X['sim_sc_ml']>0.5)\",\n",
       " 'Rule403': \"(X['is_billing_shipping_city_same']==True)\",\n",
       " 'Rule404': \"(X['account_number_avg_order_total_per_account_number_1day']>1)\",\n",
       " 'Rule405': \"(X['account_number_avg_order_total_per_account_number_1day']>1)\",\n",
       " 'Rule406': \"(X['is_billing_shipping_city_same']==True)\",\n",
       " 'Rule407': \"(X['sim_sc_ml']>0.5)\",\n",
       " 'Rule408': \"(X['sim_sc_ml']>0.5)\",\n",
       " 'Rule409': \"(X['is_billing_shipping_city_same']==True)\",\n",
       " 'Rule410': \"(X['account_number_avg_order_total_per_account_number_1day']>1)\",\n",
       " 'Rule411': \"(X['is_billing_shipping_city_same']==True)\",\n",
       " 'Rule412': \"(X['sim_sc_ml']>0.5)\",\n",
       " 'Rule413': \"(X['sim_sc_ml']>0.5)\",\n",
       " 'Rule414': \"(X['is_billing_shipping_city_same']==True)\",\n",
       " 'Rule415': \"(X['is_billing_shipping_city_same']==True)\",\n",
       " 'Rule416': \"(X['sim_sc_ml']>0.5)\",\n",
       " 'Rule417': \"(X['sim_sc_ml']>0.5)\",\n",
       " 'Rule418': \"(X['account_number_avg_order_total_per_account_number_1day']>1)\",\n",
       " 'Rule419': \"(X['account_number_avg_order_total_per_account_number_1day']>1)\",\n",
       " 'Rule420': \"(X['sim_sc_ml']>0.5)\",\n",
       " 'Rule421': \"(X['account_number_avg_order_total_per_account_number_1day']>1)\",\n",
       " 'Rule422': \"(X['sim_sc_ml']>0.5)\",\n",
       " 'Rule423': \"(X['account_number_avg_order_total_per_account_number_1day']>1)\",\n",
       " 'Rule424': \"(X['is_billing_shipping_city_same']==True)\",\n",
       " 'Rule425': \"(X['account_number_avg_order_total_per_account_number_1day']>1)\",\n",
       " 'Rule426': \"(X['sim_sc_ml']>0.5)\",\n",
       " 'Rule427': \"(X['is_billing_shipping_city_same']==True)\",\n",
       " 'Rule428': \"(X['is_billing_shipping_city_same']==True)\",\n",
       " 'Rule429': \"(X['account_number_avg_order_total_per_account_number_1day']>1)\",\n",
       " 'Rule430': \"(X['sim_sc_ml']>0.5)\",\n",
       " 'Rule431': \"(X['is_billing_shipping_city_same']==True)\",\n",
       " 'Rule432': \"(X['account_number_avg_order_total_per_account_number_1day']>1)\",\n",
       " 'Rule433': \"(X['account_number_avg_order_total_per_account_number_1day']>1)\",\n",
       " 'Rule434': \"(X['sim_sc_ml']>0.5)\",\n",
       " 'Rule435': \"(X['account_number_avg_order_total_per_account_number_1day']>1)\",\n",
       " 'Rule436': \"(X['account_number_avg_order_total_per_account_number_1day']>1)\",\n",
       " 'Rule437': \"(X['account_number_avg_order_total_per_account_number_1day']>1)\",\n",
       " 'Rule438': \"(X['sim_sc_ml']>0.5)\",\n",
       " 'Rule439': \"(X['account_number_avg_order_total_per_account_number_1day']>1)\",\n",
       " 'Rule440': \"(X['account_number_avg_order_total_per_account_number_1day']>1)\",\n",
       " 'Rule441': \"(X['account_number_avg_order_total_per_account_number_1day']>1)\",\n",
       " 'Rule442': \"(X['sim_sc_ml']>0.5)\",\n",
       " 'Rule443': \"(X['sim_sc_ml']>0.5)\",\n",
       " 'Rule444': \"(X['account_number_avg_order_total_per_account_number_1day']>1)\",\n",
       " 'Rule445': \"(X['account_number_avg_order_total_per_account_number_1day']>1)\",\n",
       " 'Rule446': \"(X['is_billing_shipping_city_same']==True)\",\n",
       " 'Rule447': \"(X['account_number_avg_order_total_per_account_number_1day']>1)\",\n",
       " 'Rule448': \"(X['sim_sc_ml']>0.5)\",\n",
       " 'Rule449': \"(X['sim_sc_ml']>0.5)\",\n",
       " 'Rule450': \"(X['account_number_avg_order_total_per_account_number_1day']>1)\",\n",
       " 'Rule451': \"(X['sim_sc_ml']>0.5)\",\n",
       " 'Rule452': \"(X['is_billing_shipping_city_same']==True)\",\n",
       " 'Rule453': \"(X['sim_sc_ml']>0.5)\",\n",
       " 'Rule454': \"(X['is_billing_shipping_city_same']==True)\",\n",
       " 'Rule455': \"(X['sim_sc_ml']>0.5)\",\n",
       " 'Rule456': \"(X['is_billing_shipping_city_same']==True)\",\n",
       " 'Rule457': \"(X['account_number_avg_order_total_per_account_number_1day']>1)\",\n",
       " 'Rule458': \"(X['account_number_avg_order_total_per_account_number_1day']>1)\",\n",
       " 'Rule459': \"(X['account_number_avg_order_total_per_account_number_1day']>1)\",\n",
       " 'Rule460': \"(X['account_number_avg_order_total_per_account_number_1day']>1)\",\n",
       " 'Rule461': \"(X['account_number_avg_order_total_per_account_number_1day']>1)\",\n",
       " 'Rule462': \"(X['sim_sc_ml']>0.5)\",\n",
       " 'Rule463': \"(X['account_number_avg_order_total_per_account_number_1day']>1)\",\n",
       " 'Rule464': \"(X['sim_sc_ml']>0.5)\",\n",
       " 'Rule465': \"(X['sim_sc_ml']>0.5)\",\n",
       " 'Rule466': \"(X['sim_sc_ml']>0.5)\",\n",
       " 'Rule467': \"(X['account_number_avg_order_total_per_account_number_1day']>1)\",\n",
       " 'Rule468': \"(X['account_number_avg_order_total_per_account_number_1day']>1)\",\n",
       " 'Rule469': \"(X['account_number_avg_order_total_per_account_number_1day']>1)\",\n",
       " 'Rule470': \"(X['is_billing_shipping_city_same']==True)\",\n",
       " 'Rule471': \"(X['account_number_avg_order_total_per_account_number_1day']>1)\",\n",
       " 'Rule472': \"(X['sim_sc_ml']>0.5)\",\n",
       " 'Rule473': \"(X['sim_sc_ml']>0.5)\",\n",
       " 'Rule474': \"(X['is_billing_shipping_city_same']==True)\",\n",
       " 'Rule475': \"(X['is_billing_shipping_city_same']==True)\",\n",
       " 'Rule476': \"(X['account_number_avg_order_total_per_account_number_1day']>1)\",\n",
       " 'Rule477': \"(X['sim_sc_ml']>0.5)\",\n",
       " 'Rule478': \"(X['account_number_avg_order_total_per_account_number_1day']>1)\",\n",
       " 'Rule479': \"(X['account_number_avg_order_total_per_account_number_1day']>1)\",\n",
       " 'Rule480': \"(X['sim_sc_ml']>0.5)\",\n",
       " 'Rule481': \"(X['sim_sc_ml']>0.5)\",\n",
       " 'Rule482': \"(X['is_billing_shipping_city_same']==True)\",\n",
       " 'Rule483': \"(X['is_billing_shipping_city_same']==True)\",\n",
       " 'Rule484': \"(X['sim_sc_ml']>0.5)\",\n",
       " 'Rule485': \"(X['sim_sc_ml']>0.5)\",\n",
       " 'Rule486': \"(X['sim_sc_ml']>0.5)\",\n",
       " 'Rule487': \"(X['account_number_avg_order_total_per_account_number_1day']>1)\",\n",
       " 'Rule488': \"(X['sim_sc_ml']>0.5)\",\n",
       " 'Rule489': \"(X['sim_sc_ml']>0.5)\",\n",
       " 'Rule490': \"(X['is_billing_shipping_city_same']==True)\",\n",
       " 'Rule491': \"(X['account_number_avg_order_total_per_account_number_1day']>1)\",\n",
       " 'Rule492': \"(X['is_billing_shipping_city_same']==True)\",\n",
       " 'Rule493': \"(X['sim_sc_ml']>0.5)\",\n",
       " 'Rule494': \"(X['account_number_avg_order_total_per_account_number_1day']>1)\",\n",
       " 'Rule495': \"(X['is_billing_shipping_city_same']==True)\",\n",
       " 'Rule496': \"(X['sim_sc_ml']>0.5)\",\n",
       " 'Rule497': \"(X['account_number_avg_order_total_per_account_number_1day']>1)\",\n",
       " 'Rule498': \"(X['account_number_avg_order_total_per_account_number_1day']>1)\",\n",
       " 'Rule499': \"(X['sim_sc_ml']>0.5)\",\n",
       " 'Rule500': \"(X['is_billing_shipping_city_same']==True)\",\n",
       " 'Rule501': \"(X['sim_sc_ml']>0.5)\",\n",
       " 'Rule502': \"(X['sim_sc_ml']>0.5)\",\n",
       " 'Rule503': \"(X['is_billing_shipping_city_same']==True)\",\n",
       " 'Rule504': \"(X['account_number_avg_order_total_per_account_number_1day']>1)\",\n",
       " 'Rule505': \"(X['account_number_avg_order_total_per_account_number_1day']>1)\",\n",
       " 'Rule506': \"(X['sim_sc_ml']>0.5)\",\n",
       " 'Rule507': \"(X['account_number_avg_order_total_per_account_number_1day']>1)\",\n",
       " 'Rule508': \"(X['sim_sc_ml']>0.5)\",\n",
       " 'Rule509': \"(X['is_billing_shipping_city_same']==True)\",\n",
       " 'Rule510': \"(X['sim_sc_ml']>0.5)\",\n",
       " 'Rule511': \"(X['sim_sc_ml']>0.5)\",\n",
       " 'Rule512': \"(X['account_number_avg_order_total_per_account_number_1day']>1)\",\n",
       " 'Rule513': \"(X['account_number_avg_order_total_per_account_number_1day']>1)\",\n",
       " 'Rule514': \"(X['sim_sc_ml']>0.5)\",\n",
       " 'Rule515': \"(X['sim_sc_ml']>0.5)\",\n",
       " 'Rule516': \"(X['sim_sc_ml']>0.5)\",\n",
       " 'Rule517': \"(X['account_number_avg_order_total_per_account_number_1day']>1)\",\n",
       " 'Rule518': \"(X['is_billing_shipping_city_same']==True)\",\n",
       " 'Rule519': \"(X['account_number_avg_order_total_per_account_number_1day']>1)\",\n",
       " 'Rule520': \"(X['account_number_avg_order_total_per_account_number_1day']>1)\",\n",
       " 'Rule521': \"(X['account_number_avg_order_total_per_account_number_1day']>1)\",\n",
       " 'Rule522': \"(X['sim_sc_ml']>0.5)\",\n",
       " 'Rule523': \"(X['sim_sc_ml']>0.5)\",\n",
       " 'Rule524': \"(X['is_billing_shipping_city_same']==True)\",\n",
       " 'Rule525': \"(X['is_billing_shipping_city_same']==True)\",\n",
       " 'Rule526': \"(X['is_billing_shipping_city_same']==True)\",\n",
       " 'Rule527': \"(X['is_billing_shipping_city_same']==True)\",\n",
       " 'Rule528': \"(X['account_number_avg_order_total_per_account_number_1day']>1)\",\n",
       " 'Rule529': \"(X['account_number_avg_order_total_per_account_number_1day']>1)\",\n",
       " 'Rule530': \"(X['sim_sc_ml']>0.5)\",\n",
       " 'Rule531': \"(X['sim_sc_ml']>0.5)\",\n",
       " 'Rule532': \"(X['is_billing_shipping_city_same']==True)\",\n",
       " 'Rule533': \"(X['is_billing_shipping_city_same']==True)\",\n",
       " 'Rule534': \"(X['is_billing_shipping_city_same']==True)\",\n",
       " 'Rule535': \"(X['account_number_avg_order_total_per_account_number_1day']>1)\",\n",
       " 'Rule536': \"(X['is_billing_shipping_city_same']==True)\",\n",
       " 'Rule537': \"(X['is_billing_shipping_city_same']==True)\",\n",
       " 'Rule538': \"(X['sim_sc_ml']>0.5)\",\n",
       " 'Rule539': \"(X['is_billing_shipping_city_same']==True)\",\n",
       " 'Rule540': \"(X['sim_sc_ml']>0.5)\",\n",
       " 'Rule541': \"(X['account_number_avg_order_total_per_account_number_1day']>1)\",\n",
       " 'Rule542': \"(X['account_number_avg_order_total_per_account_number_1day']>1)\",\n",
       " 'Rule543': \"(X['account_number_avg_order_total_per_account_number_1day']>1)\",\n",
       " 'Rule544': \"(X['account_number_avg_order_total_per_account_number_1day']>1)\",\n",
       " 'Rule545': \"(X['account_number_avg_order_total_per_account_number_1day']>1)\",\n",
       " 'Rule546': \"(X['account_number_avg_order_total_per_account_number_1day']>1)\",\n",
       " 'Rule547': \"(X['account_number_avg_order_total_per_account_number_1day']>1)\",\n",
       " 'Rule548': \"(X['is_billing_shipping_city_same']==True)\",\n",
       " 'Rule549': \"(X['sim_sc_ml']>0.5)\",\n",
       " 'Rule550': \"(X['sim_sc_ml']>0.5)\",\n",
       " 'Rule551': \"(X['sim_sc_ml']>0.5)\",\n",
       " 'Rule552': \"(X['sim_sc_ml']>0.5)\",\n",
       " 'Rule553': \"(X['sim_sc_ml']>0.5)\",\n",
       " 'Rule554': \"(X['sim_sc_ml']>0.5)\",\n",
       " 'Rule555': \"(X['account_number_avg_order_total_per_account_number_1day']>1)\",\n",
       " 'Rule556': \"(X['sim_sc_ml']>0.5)\",\n",
       " 'Rule557': \"(X['is_billing_shipping_city_same']==True)\",\n",
       " 'Rule558': \"(X['sim_sc_ml']>0.5)\",\n",
       " 'Rule559': \"(X['account_number_avg_order_total_per_account_number_1day']>1)\",\n",
       " 'Rule560': \"(X['sim_sc_ml']>0.5)\",\n",
       " 'Rule561': \"(X['account_number_avg_order_total_per_account_number_1day']>1)\",\n",
       " 'Rule562': \"(X['account_number_avg_order_total_per_account_number_1day']>1)\",\n",
       " 'Rule563': \"(X['sim_sc_ml']>0.5)\",\n",
       " 'Rule564': \"(X['account_number_avg_order_total_per_account_number_1day']>1)\",\n",
       " 'Rule565': \"(X['sim_sc_ml']>0.5)\",\n",
       " 'Rule566': \"(X['account_number_avg_order_total_per_account_number_1day']>1)\",\n",
       " 'Rule567': \"(X['sim_sc_ml']>0.5)\",\n",
       " 'Rule568': \"(X['account_number_avg_order_total_per_account_number_1day']>1)\",\n",
       " 'Rule569': \"(X['is_billing_shipping_city_same']==True)\",\n",
       " 'Rule570': \"(X['sim_sc_ml']>0.5)\",\n",
       " 'Rule571': \"(X['account_number_avg_order_total_per_account_number_1day']>1)\",\n",
       " 'Rule572': \"(X['is_billing_shipping_city_same']==True)\",\n",
       " 'Rule573': \"(X['sim_sc_ml']>0.5)\",\n",
       " 'Rule574': \"(X['sim_sc_ml']>0.5)\",\n",
       " 'Rule575': \"(X['is_billing_shipping_city_same']==True)\",\n",
       " 'Rule576': \"(X['account_number_avg_order_total_per_account_number_1day']>1)\",\n",
       " 'Rule577': \"(X['account_number_avg_order_total_per_account_number_1day']>1)\",\n",
       " 'Rule578': \"(X['sim_sc_ml']>0.5)\",\n",
       " 'Rule579': \"(X['is_billing_shipping_city_same']==True)\",\n",
       " 'Rule580': \"(X['is_billing_shipping_city_same']==True)\",\n",
       " 'Rule581': \"(X['account_number_avg_order_total_per_account_number_1day']>1)\",\n",
       " 'Rule582': \"(X['is_billing_shipping_city_same']==True)\",\n",
       " 'Rule583': \"(X['is_billing_shipping_city_same']==True)\",\n",
       " 'Rule584': \"(X['is_billing_shipping_city_same']==True)\",\n",
       " 'Rule585': \"(X['sim_sc_ml']>0.5)\",\n",
       " 'Rule586': \"(X['sim_sc_ml']>0.5)\",\n",
       " 'Rule587': \"(X['account_number_avg_order_total_per_account_number_1day']>1)\",\n",
       " 'Rule588': \"(X['is_billing_shipping_city_same']==True)\",\n",
       " 'Rule589': \"(X['account_number_avg_order_total_per_account_number_1day']>1)\",\n",
       " 'Rule590': \"(X['sim_sc_ml']>0.5)\",\n",
       " 'Rule591': \"(X['sim_sc_ml']>0.5)\",\n",
       " 'Rule592': \"(X['sim_sc_ml']>0.5)\",\n",
       " 'Rule593': \"(X['sim_sc_ml']>0.5)\",\n",
       " 'Rule594': \"(X['is_billing_shipping_city_same']==True)\",\n",
       " 'Rule595': \"(X['sim_sc_ml']>0.5)\",\n",
       " 'Rule596': \"(X['is_billing_shipping_city_same']==True)\",\n",
       " 'Rule597': \"(X['sim_sc_ml']>0.5)\",\n",
       " 'Rule598': \"(X['account_number_avg_order_total_per_account_number_1day']>1)\",\n",
       " 'Rule599': \"(X['account_number_avg_order_total_per_account_number_1day']>1)\",\n",
       " 'Rule600': \"(X['sim_sc_ml']>0.5)\",\n",
       " 'Rule601': \"(X['is_billing_shipping_city_same']==True)\",\n",
       " 'Rule602': \"(X['sim_sc_ml']>0.5)\",\n",
       " 'Rule603': \"(X['sim_sc_ml']>0.5)\",\n",
       " 'Rule604': \"(X['is_billing_shipping_city_same']==True)\",\n",
       " 'Rule605': \"(X['is_billing_shipping_city_same']==True)\",\n",
       " 'Rule606': \"(X['is_billing_shipping_city_same']==True)\",\n",
       " 'Rule607': \"(X['is_billing_shipping_city_same']==True)\",\n",
       " 'Rule608': \"(X['sim_sc_ml']>0.5)\",\n",
       " 'Rule609': \"(X['account_number_avg_order_total_per_account_number_1day']>1)\",\n",
       " 'Rule610': \"(X['is_billing_shipping_city_same']==True)\",\n",
       " 'Rule611': \"(X['is_billing_shipping_city_same']==True)\",\n",
       " 'Rule612': \"(X['is_billing_shipping_city_same']==True)\",\n",
       " 'Rule613': \"(X['account_number_avg_order_total_per_account_number_1day']>1)\",\n",
       " 'Rule614': \"(X['is_billing_shipping_city_same']==True)\",\n",
       " 'Rule615': \"(X['sim_sc_ml']>0.5)\",\n",
       " 'Rule616': \"(X['is_billing_shipping_city_same']==True)\",\n",
       " 'Rule617': \"(X['is_billing_shipping_city_same']==True)\",\n",
       " 'Rule618': \"(X['account_number_avg_order_total_per_account_number_1day']>1)\",\n",
       " 'Rule619': \"(X['sim_sc_ml']>0.5)\",\n",
       " 'Rule620': \"(X['is_billing_shipping_city_same']==True)\",\n",
       " 'Rule621': \"(X['account_number_avg_order_total_per_account_number_1day']>1)\",\n",
       " 'Rule622': \"(X['sim_sc_ml']>0.5)\",\n",
       " 'Rule623': \"(X['is_billing_shipping_city_same']==True)\",\n",
       " 'Rule624': \"(X['account_number_avg_order_total_per_account_number_1day']>1)\",\n",
       " 'Rule625': \"(X['account_number_avg_order_total_per_account_number_1day']>1)\",\n",
       " 'Rule626': \"(X['account_number_avg_order_total_per_account_number_1day']>1)\",\n",
       " 'Rule627': \"(X['sim_sc_ml']>0.5)\",\n",
       " 'Rule628': \"(X['account_number_avg_order_total_per_account_number_1day']>1)\",\n",
       " 'Rule629': \"(X['is_billing_shipping_city_same']==True)\",\n",
       " 'Rule630': \"(X['account_number_avg_order_total_per_account_number_1day']>1)\",\n",
       " 'Rule631': \"(X['is_billing_shipping_city_same']==True)\",\n",
       " 'Rule632': \"(X['account_number_avg_order_total_per_account_number_1day']>1)\",\n",
       " 'Rule633': \"(X['sim_sc_ml']>0.5)\",\n",
       " 'Rule634': \"(X['account_number_avg_order_total_per_account_number_1day']>1)\",\n",
       " 'Rule635': \"(X['account_number_avg_order_total_per_account_number_1day']>1)\",\n",
       " 'Rule636': \"(X['account_number_avg_order_total_per_account_number_1day']>1)\",\n",
       " 'Rule637': \"(X['is_billing_shipping_city_same']==True)\",\n",
       " 'Rule638': \"(X['sim_sc_ml']>0.5)\",\n",
       " 'Rule639': \"(X['account_number_avg_order_total_per_account_number_1day']>1)\",\n",
       " 'Rule640': \"(X['is_billing_shipping_city_same']==True)\",\n",
       " 'Rule641': \"(X['sim_sc_ml']>0.5)\",\n",
       " 'Rule642': \"(X['sim_sc_ml']>0.5)\",\n",
       " 'Rule643': \"(X['sim_sc_ml']>0.5)\",\n",
       " 'Rule644': \"(X['sim_sc_ml']>0.5)\",\n",
       " 'Rule645': \"(X['sim_sc_ml']>0.5)\",\n",
       " 'Rule646': \"(X['account_number_avg_order_total_per_account_number_1day']>1)\",\n",
       " 'Rule647': \"(X['is_billing_shipping_city_same']==True)\",\n",
       " 'Rule648': \"(X['account_number_avg_order_total_per_account_number_1day']>1)\",\n",
       " 'Rule649': \"(X['is_billing_shipping_city_same']==True)\",\n",
       " 'Rule650': \"(X['account_number_avg_order_total_per_account_number_1day']>1)\",\n",
       " 'Rule651': \"(X['sim_sc_ml']>0.5)\",\n",
       " 'Rule652': \"(X['account_number_avg_order_total_per_account_number_1day']>1)\",\n",
       " 'Rule653': \"(X['is_billing_shipping_city_same']==True)\",\n",
       " 'Rule654': \"(X['is_billing_shipping_city_same']==True)\",\n",
       " 'Rule655': \"(X['account_number_avg_order_total_per_account_number_1day']>1)\",\n",
       " 'Rule656': \"(X['account_number_avg_order_total_per_account_number_1day']>1)\",\n",
       " 'Rule657': \"(X['is_billing_shipping_city_same']==True)\",\n",
       " 'Rule658': \"(X['is_billing_shipping_city_same']==True)\",\n",
       " 'Rule659': \"(X['sim_sc_ml']>0.5)\",\n",
       " 'Rule660': \"(X['sim_sc_ml']>0.5)\",\n",
       " 'Rule661': \"(X['sim_sc_ml']>0.5)\",\n",
       " 'Rule662': \"(X['is_billing_shipping_city_same']==True)\",\n",
       " 'Rule663': \"(X['account_number_avg_order_total_per_account_number_1day']>1)\",\n",
       " 'Rule664': \"(X['sim_sc_ml']>0.5)\",\n",
       " 'Rule665': \"(X['is_billing_shipping_city_same']==True)\",\n",
       " 'Rule666': \"(X['is_billing_shipping_city_same']==True)\",\n",
       " 'Rule667': \"(X['account_number_avg_order_total_per_account_number_1day']>1)\",\n",
       " 'Rule668': \"(X['account_number_avg_order_total_per_account_number_1day']>1)\",\n",
       " 'Rule669': \"(X['is_billing_shipping_city_same']==True)\",\n",
       " 'Rule670': \"(X['sim_sc_ml']>0.5)\",\n",
       " 'Rule671': \"(X['is_billing_shipping_city_same']==True)\",\n",
       " 'Rule672': \"(X['is_billing_shipping_city_same']==True)\",\n",
       " 'Rule673': \"(X['sim_sc_ml']>0.5)\",\n",
       " 'Rule674': \"(X['is_billing_shipping_city_same']==True)\",\n",
       " 'Rule675': \"(X['sim_sc_ml']>0.5)\",\n",
       " 'Rule676': \"(X['sim_sc_ml']>0.5)\",\n",
       " 'Rule677': \"(X['account_number_avg_order_total_per_account_number_1day']>1)\",\n",
       " 'Rule678': \"(X['sim_sc_ml']>0.5)\",\n",
       " 'Rule679': \"(X['sim_sc_ml']>0.5)\",\n",
       " 'Rule680': \"(X['account_number_avg_order_total_per_account_number_1day']>1)\",\n",
       " 'Rule681': \"(X['is_billing_shipping_city_same']==True)\",\n",
       " 'Rule682': \"(X['sim_sc_ml']>0.5)\",\n",
       " 'Rule683': \"(X['is_billing_shipping_city_same']==True)\",\n",
       " 'Rule684': \"(X['is_billing_shipping_city_same']==True)\",\n",
       " 'Rule685': \"(X['account_number_avg_order_total_per_account_number_1day']>1)\",\n",
       " 'Rule686': \"(X['sim_sc_ml']>0.5)\",\n",
       " 'Rule687': \"(X['account_number_avg_order_total_per_account_number_1day']>1)\",\n",
       " 'Rule688': \"(X['is_billing_shipping_city_same']==True)\",\n",
       " 'Rule689': \"(X['is_billing_shipping_city_same']==True)\",\n",
       " 'Rule690': \"(X['account_number_avg_order_total_per_account_number_1day']>1)\",\n",
       " 'Rule691': \"(X['account_number_avg_order_total_per_account_number_1day']>1)\",\n",
       " 'Rule692': \"(X['account_number_avg_order_total_per_account_number_1day']>1)\",\n",
       " 'Rule693': \"(X['sim_sc_ml']>0.5)\",\n",
       " 'Rule694': \"(X['sim_sc_ml']>0.5)\",\n",
       " 'Rule695': \"(X['sim_sc_ml']>0.5)\",\n",
       " 'Rule696': \"(X['is_billing_shipping_city_same']==True)\",\n",
       " 'Rule697': \"(X['account_number_avg_order_total_per_account_number_1day']>1)\",\n",
       " 'Rule698': \"(X['sim_sc_ml']>0.5)\",\n",
       " 'Rule699': \"(X['is_billing_shipping_city_same']==True)\",\n",
       " 'Rule700': \"(X['account_number_avg_order_total_per_account_number_1day']>1)\",\n",
       " 'Rule701': \"(X['sim_sc_ml']>0.5)\",\n",
       " 'Rule702': \"(X['sim_sc_ml']>0.5)\",\n",
       " 'Rule703': \"(X['is_billing_shipping_city_same']==True)\",\n",
       " 'Rule704': \"(X['is_billing_shipping_city_same']==True)\",\n",
       " 'Rule705': \"(X['is_billing_shipping_city_same']==True)\",\n",
       " 'Rule706': \"(X['account_number_avg_order_total_per_account_number_1day']>1)\",\n",
       " 'Rule707': \"(X['sim_sc_ml']>0.5)\",\n",
       " 'Rule708': \"(X['is_billing_shipping_city_same']==True)\",\n",
       " 'Rule709': \"(X['account_number_avg_order_total_per_account_number_1day']>1)\",\n",
       " 'Rule710': \"(X['account_number_avg_order_total_per_account_number_1day']>1)\",\n",
       " 'Rule711': \"(X['sim_sc_ml']>0.5)\",\n",
       " 'Rule712': \"(X['sim_sc_ml']>0.5)\",\n",
       " 'Rule713': \"(X['account_number_avg_order_total_per_account_number_1day']>1)\",\n",
       " 'Rule714': \"(X['sim_sc_ml']>0.5)\",\n",
       " 'Rule715': \"(X['is_billing_shipping_city_same']==True)\",\n",
       " 'Rule716': \"(X['is_billing_shipping_city_same']==True)\",\n",
       " 'Rule717': \"(X['account_number_avg_order_total_per_account_number_1day']>1)\",\n",
       " 'Rule718': \"(X['sim_sc_ml']>0.5)\",\n",
       " 'Rule719': \"(X['sim_sc_ml']>0.5)\",\n",
       " 'Rule720': \"(X['sim_sc_ml']>0.5)\",\n",
       " 'Rule721': \"(X['account_number_avg_order_total_per_account_number_1day']>1)\",\n",
       " 'Rule722': \"(X['account_number_avg_order_total_per_account_number_1day']>1)\",\n",
       " 'Rule723': \"(X['sim_sc_ml']>0.5)\",\n",
       " 'Rule724': \"(X['account_number_avg_order_total_per_account_number_1day']>1)\",\n",
       " 'Rule725': \"(X['sim_sc_ml']>0.5)\",\n",
       " 'Rule726': \"(X['is_billing_shipping_city_same']==True)\",\n",
       " 'Rule727': \"(X['account_number_avg_order_total_per_account_number_1day']>1)\",\n",
       " 'Rule728': \"(X['account_number_avg_order_total_per_account_number_1day']>1)\",\n",
       " 'Rule729': \"(X['sim_sc_ml']>0.5)\",\n",
       " 'Rule730': \"(X['is_billing_shipping_city_same']==True)\",\n",
       " 'Rule731': \"(X['account_number_avg_order_total_per_account_number_1day']>1)\",\n",
       " 'Rule732': \"(X['account_number_avg_order_total_per_account_number_1day']>1)\",\n",
       " 'Rule733': \"(X['sim_sc_ml']>0.5)\",\n",
       " 'Rule734': \"(X['account_number_avg_order_total_per_account_number_1day']>1)\",\n",
       " 'Rule735': \"(X['is_billing_shipping_city_same']==True)\",\n",
       " 'Rule736': \"(X['sim_sc_ml']>0.5)\",\n",
       " 'Rule737': \"(X['account_number_avg_order_total_per_account_number_1day']>1)\",\n",
       " 'Rule738': \"(X['sim_sc_ml']>0.5)\",\n",
       " 'Rule739': \"(X['account_number_avg_order_total_per_account_number_1day']>1)\",\n",
       " 'Rule740': \"(X['account_number_avg_order_total_per_account_number_1day']>1)\",\n",
       " 'Rule741': \"(X['sim_sc_ml']>0.5)\",\n",
       " 'Rule742': \"(X['account_number_avg_order_total_per_account_number_1day']>1)\",\n",
       " 'Rule743': \"(X['account_number_avg_order_total_per_account_number_1day']>1)\",\n",
       " 'Rule744': \"(X['sim_sc_ml']>0.5)\",\n",
       " 'Rule745': \"(X['is_billing_shipping_city_same']==True)\",\n",
       " 'Rule746': \"(X['sim_sc_ml']>0.5)\",\n",
       " 'Rule747': \"(X['account_number_avg_order_total_per_account_number_1day']>1)\",\n",
       " 'Rule748': \"(X['sim_sc_ml']>0.5)\",\n",
       " 'Rule749': \"(X['account_number_avg_order_total_per_account_number_1day']>1)\",\n",
       " 'Rule750': \"(X['is_billing_shipping_city_same']==True)\",\n",
       " 'Rule751': \"(X['sim_sc_ml']>0.5)\",\n",
       " 'Rule752': \"(X['sim_sc_ml']>0.5)\",\n",
       " 'Rule753': \"(X['sim_sc_ml']>0.5)\",\n",
       " 'Rule754': \"(X['sim_sc_ml']>0.5)\",\n",
       " 'Rule755': \"(X['is_billing_shipping_city_same']==True)\",\n",
       " 'Rule756': \"(X['is_billing_shipping_city_same']==True)\",\n",
       " 'Rule757': \"(X['account_number_avg_order_total_per_account_number_1day']>1)\",\n",
       " 'Rule758': \"(X['account_number_avg_order_total_per_account_number_1day']>1)\",\n",
       " 'Rule759': \"(X['is_billing_shipping_city_same']==True)\",\n",
       " 'Rule760': \"(X['is_billing_shipping_city_same']==True)\",\n",
       " 'Rule761': \"(X['sim_sc_ml']>0.5)\",\n",
       " 'Rule762': \"(X['is_billing_shipping_city_same']==True)\",\n",
       " 'Rule763': \"(X['account_number_avg_order_total_per_account_number_1day']>1)\",\n",
       " 'Rule764': \"(X['account_number_avg_order_total_per_account_number_1day']>1)\",\n",
       " 'Rule765': \"(X['account_number_avg_order_total_per_account_number_1day']>1)\",\n",
       " 'Rule766': \"(X['is_billing_shipping_city_same']==True)\",\n",
       " 'Rule767': \"(X['account_number_avg_order_total_per_account_number_1day']>1)\",\n",
       " 'Rule768': \"(X['sim_sc_ml']>0.5)\",\n",
       " 'Rule769': \"(X['is_billing_shipping_city_same']==True)\",\n",
       " 'Rule770': \"(X['account_number_avg_order_total_per_account_number_1day']>1)\",\n",
       " 'Rule771': \"(X['sim_sc_ml']>0.5)\",\n",
       " 'Rule772': \"(X['is_billing_shipping_city_same']==True)\",\n",
       " 'Rule773': \"(X['sim_sc_ml']>0.5)\",\n",
       " 'Rule774': \"(X['is_billing_shipping_city_same']==True)\",\n",
       " 'Rule775': \"(X['sim_sc_ml']>0.5)\",\n",
       " 'Rule776': \"(X['account_number_avg_order_total_per_account_number_1day']>1)\",\n",
       " 'Rule777': \"(X['account_number_avg_order_total_per_account_number_1day']>1)\",\n",
       " 'Rule778': \"(X['account_number_avg_order_total_per_account_number_1day']>1)\",\n",
       " 'Rule779': \"(X['account_number_avg_order_total_per_account_number_1day']>1)\",\n",
       " 'Rule780': \"(X['account_number_avg_order_total_per_account_number_1day']>1)\",\n",
       " 'Rule781': \"(X['account_number_avg_order_total_per_account_number_1day']>1)\",\n",
       " 'Rule782': \"(X['is_billing_shipping_city_same']==True)\",\n",
       " 'Rule783': \"(X['account_number_avg_order_total_per_account_number_1day']>1)\",\n",
       " 'Rule784': \"(X['account_number_avg_order_total_per_account_number_1day']>1)\",\n",
       " 'Rule785': \"(X['sim_sc_ml']>0.5)\",\n",
       " 'Rule786': \"(X['sim_sc_ml']>0.5)\",\n",
       " 'Rule787': \"(X['account_number_avg_order_total_per_account_number_1day']>1)\",\n",
       " 'Rule788': \"(X['account_number_avg_order_total_per_account_number_1day']>1)\",\n",
       " 'Rule789': \"(X['is_billing_shipping_city_same']==True)\",\n",
       " 'Rule790': \"(X['account_number_avg_order_total_per_account_number_1day']>1)\",\n",
       " 'Rule791': \"(X['account_number_avg_order_total_per_account_number_1day']>1)\",\n",
       " 'Rule792': \"(X['account_number_avg_order_total_per_account_number_1day']>1)\",\n",
       " 'Rule793': \"(X['is_billing_shipping_city_same']==True)\",\n",
       " 'Rule794': \"(X['account_number_avg_order_total_per_account_number_1day']>1)\",\n",
       " 'Rule795': \"(X['account_number_avg_order_total_per_account_number_1day']>1)\",\n",
       " 'Rule796': \"(X['sim_sc_ml']>0.5)\",\n",
       " 'Rule797': \"(X['account_number_avg_order_total_per_account_number_1day']>1)\",\n",
       " 'Rule798': \"(X['is_billing_shipping_city_same']==True)\",\n",
       " 'Rule799': \"(X['account_number_avg_order_total_per_account_number_1day']>1)\",\n",
       " 'Rule800': \"(X['sim_sc_ml']>0.5)\",\n",
       " 'Rule801': \"(X['sim_sc_ml']>0.5)\",\n",
       " 'Rule802': \"(X['account_number_avg_order_total_per_account_number_1day']>1)\",\n",
       " 'Rule803': \"(X['is_billing_shipping_city_same']==True)\",\n",
       " 'Rule804': \"(X['is_billing_shipping_city_same']==True)\",\n",
       " 'Rule805': \"(X['sim_sc_ml']>0.5)\",\n",
       " 'Rule806': \"(X['is_billing_shipping_city_same']==True)\",\n",
       " 'Rule807': \"(X['account_number_avg_order_total_per_account_number_1day']>1)\",\n",
       " 'Rule808': \"(X['is_billing_shipping_city_same']==True)\",\n",
       " 'Rule809': \"(X['account_number_avg_order_total_per_account_number_1day']>1)\",\n",
       " 'Rule810': \"(X['account_number_avg_order_total_per_account_number_1day']>1)\",\n",
       " 'Rule811': \"(X['account_number_avg_order_total_per_account_number_1day']>1)\",\n",
       " 'Rule812': \"(X['account_number_avg_order_total_per_account_number_1day']>1)\",\n",
       " 'Rule813': \"(X['account_number_avg_order_total_per_account_number_1day']>1)\",\n",
       " 'Rule814': \"(X['is_billing_shipping_city_same']==True)\",\n",
       " 'Rule815': \"(X['is_billing_shipping_city_same']==True)\",\n",
       " 'Rule816': \"(X['is_billing_shipping_city_same']==True)\",\n",
       " 'Rule817': \"(X['is_billing_shipping_city_same']==True)\",\n",
       " 'Rule818': \"(X['is_billing_shipping_city_same']==True)\",\n",
       " 'Rule819': \"(X['sim_sc_ml']>0.5)\",\n",
       " 'Rule820': \"(X['account_number_avg_order_total_per_account_number_1day']>1)\",\n",
       " 'Rule821': \"(X['is_billing_shipping_city_same']==True)\",\n",
       " 'Rule822': \"(X['account_number_avg_order_total_per_account_number_1day']>1)\",\n",
       " 'Rule823': \"(X['sim_sc_ml']>0.5)\",\n",
       " 'Rule824': \"(X['sim_sc_ml']>0.5)\",\n",
       " 'Rule825': \"(X['is_billing_shipping_city_same']==True)\",\n",
       " 'Rule826': \"(X['is_billing_shipping_city_same']==True)\",\n",
       " 'Rule827': \"(X['sim_sc_ml']>0.5)\",\n",
       " 'Rule828': \"(X['account_number_avg_order_total_per_account_number_1day']>1)\",\n",
       " 'Rule829': \"(X['sim_sc_ml']>0.5)\",\n",
       " 'Rule830': \"(X['is_billing_shipping_city_same']==True)\",\n",
       " 'Rule831': \"(X['is_billing_shipping_city_same']==True)\",\n",
       " 'Rule832': \"(X['sim_sc_ml']>0.5)\",\n",
       " 'Rule833': \"(X['is_billing_shipping_city_same']==True)\",\n",
       " 'Rule834': \"(X['account_number_avg_order_total_per_account_number_1day']>1)\",\n",
       " 'Rule835': \"(X['account_number_avg_order_total_per_account_number_1day']>1)\",\n",
       " 'Rule836': \"(X['is_billing_shipping_city_same']==True)\",\n",
       " 'Rule837': \"(X['account_number_avg_order_total_per_account_number_1day']>1)\",\n",
       " 'Rule838': \"(X['account_number_avg_order_total_per_account_number_1day']>1)\",\n",
       " 'Rule839': \"(X['is_billing_shipping_city_same']==True)\",\n",
       " 'Rule840': \"(X['account_number_avg_order_total_per_account_number_1day']>1)\",\n",
       " 'Rule841': \"(X['sim_sc_ml']>0.5)\",\n",
       " 'Rule842': \"(X['is_billing_shipping_city_same']==True)\",\n",
       " 'Rule843': \"(X['account_number_avg_order_total_per_account_number_1day']>1)\",\n",
       " 'Rule844': \"(X['account_number_avg_order_total_per_account_number_1day']>1)\",\n",
       " 'Rule845': \"(X['sim_sc_ml']>0.5)\",\n",
       " 'Rule846': \"(X['is_billing_shipping_city_same']==True)\",\n",
       " 'Rule847': \"(X['account_number_avg_order_total_per_account_number_1day']>1)\",\n",
       " 'Rule848': \"(X['account_number_avg_order_total_per_account_number_1day']>1)\",\n",
       " 'Rule849': \"(X['is_billing_shipping_city_same']==True)\",\n",
       " 'Rule850': \"(X['is_billing_shipping_city_same']==True)\",\n",
       " 'Rule851': \"(X['account_number_avg_order_total_per_account_number_1day']>1)\",\n",
       " 'Rule852': \"(X['is_billing_shipping_city_same']==True)\",\n",
       " 'Rule853': \"(X['sim_sc_ml']>0.5)\",\n",
       " 'Rule854': \"(X['is_billing_shipping_city_same']==True)\",\n",
       " 'Rule855': \"(X['is_billing_shipping_city_same']==True)\",\n",
       " 'Rule856': \"(X['is_billing_shipping_city_same']==True)\",\n",
       " 'Rule857': \"(X['account_number_avg_order_total_per_account_number_1day']>1)\",\n",
       " 'Rule858': \"(X['account_number_avg_order_total_per_account_number_1day']>1)\",\n",
       " 'Rule859': \"(X['account_number_avg_order_total_per_account_number_1day']>1)\",\n",
       " 'Rule860': \"(X['is_billing_shipping_city_same']==True)\",\n",
       " 'Rule861': \"(X['sim_sc_ml']>0.5)\",\n",
       " 'Rule862': \"(X['account_number_avg_order_total_per_account_number_1day']>1)\",\n",
       " 'Rule863': \"(X['is_billing_shipping_city_same']==True)\",\n",
       " 'Rule864': \"(X['sim_sc_ml']>0.5)\",\n",
       " 'Rule865': \"(X['is_billing_shipping_city_same']==True)\",\n",
       " 'Rule866': \"(X['is_billing_shipping_city_same']==True)\",\n",
       " 'Rule867': \"(X['sim_sc_ml']>0.5)\",\n",
       " 'Rule868': \"(X['account_number_avg_order_total_per_account_number_1day']>1)\",\n",
       " 'Rule869': \"(X['is_billing_shipping_city_same']==True)\",\n",
       " 'Rule870': \"(X['sim_sc_ml']>0.5)\",\n",
       " 'Rule871': \"(X['account_number_avg_order_total_per_account_number_1day']>1)\",\n",
       " 'Rule872': \"(X['is_billing_shipping_city_same']==True)\",\n",
       " 'Rule873': \"(X['account_number_avg_order_total_per_account_number_1day']>1)\",\n",
       " 'Rule874': \"(X['sim_sc_ml']>0.5)\",\n",
       " 'Rule875': \"(X['account_number_avg_order_total_per_account_number_1day']>1)\",\n",
       " 'Rule876': \"(X['is_billing_shipping_city_same']==True)\",\n",
       " 'Rule877': \"(X['account_number_avg_order_total_per_account_number_1day']>1)\",\n",
       " 'Rule878': \"(X['account_number_avg_order_total_per_account_number_1day']>1)\",\n",
       " 'Rule879': \"(X['account_number_avg_order_total_per_account_number_1day']>1)\",\n",
       " 'Rule880': \"(X['sim_sc_ml']>0.5)\",\n",
       " 'Rule881': \"(X['account_number_avg_order_total_per_account_number_1day']>1)\",\n",
       " 'Rule882': \"(X['account_number_avg_order_total_per_account_number_1day']>1)\",\n",
       " 'Rule883': \"(X['account_number_avg_order_total_per_account_number_1day']>1)\",\n",
       " 'Rule884': \"(X['account_number_avg_order_total_per_account_number_1day']>1)\",\n",
       " 'Rule885': \"(X['is_billing_shipping_city_same']==True)\",\n",
       " 'Rule886': \"(X['account_number_avg_order_total_per_account_number_1day']>1)\",\n",
       " 'Rule887': \"(X['sim_sc_ml']>0.5)\",\n",
       " 'Rule888': \"(X['sim_sc_ml']>0.5)\",\n",
       " 'Rule889': \"(X['is_billing_shipping_city_same']==True)\",\n",
       " 'Rule890': \"(X['sim_sc_ml']>0.5)\",\n",
       " 'Rule891': \"(X['account_number_avg_order_total_per_account_number_1day']>1)\",\n",
       " 'Rule892': \"(X['sim_sc_ml']>0.5)\",\n",
       " 'Rule893': \"(X['is_billing_shipping_city_same']==True)\",\n",
       " 'Rule894': \"(X['account_number_avg_order_total_per_account_number_1day']>1)\",\n",
       " 'Rule895': \"(X['account_number_avg_order_total_per_account_number_1day']>1)\",\n",
       " 'Rule896': \"(X['account_number_avg_order_total_per_account_number_1day']>1)\",\n",
       " 'Rule897': \"(X['is_billing_shipping_city_same']==True)\",\n",
       " 'Rule898': \"(X['is_billing_shipping_city_same']==True)\",\n",
       " 'Rule899': \"(X['account_number_avg_order_total_per_account_number_1day']>1)\",\n",
       " 'Rule900': \"(X['account_number_avg_order_total_per_account_number_1day']>1)\",\n",
       " 'Rule901': \"(X['is_billing_shipping_city_same']==True)\",\n",
       " 'Rule902': \"(X['is_billing_shipping_city_same']==True)\",\n",
       " 'Rule903': \"(X['is_billing_shipping_city_same']==True)\",\n",
       " 'Rule904': \"(X['is_billing_shipping_city_same']==True)\",\n",
       " 'Rule905': \"(X['is_billing_shipping_city_same']==True)\",\n",
       " 'Rule906': \"(X['sim_sc_ml']>0.5)\",\n",
       " 'Rule907': \"(X['sim_sc_ml']>0.5)\",\n",
       " 'Rule908': \"(X['sim_sc_ml']>0.5)\",\n",
       " 'Rule909': \"(X['account_number_avg_order_total_per_account_number_1day']>1)\",\n",
       " 'Rule910': \"(X['is_billing_shipping_city_same']==True)\",\n",
       " 'Rule911': \"(X['account_number_avg_order_total_per_account_number_1day']>1)\",\n",
       " 'Rule912': \"(X['account_number_avg_order_total_per_account_number_1day']>1)\",\n",
       " 'Rule913': \"(X['account_number_avg_order_total_per_account_number_1day']>1)\",\n",
       " 'Rule914': \"(X['account_number_avg_order_total_per_account_number_1day']>1)\",\n",
       " 'Rule915': \"(X['is_billing_shipping_city_same']==True)\",\n",
       " 'Rule916': \"(X['is_billing_shipping_city_same']==True)\",\n",
       " 'Rule917': \"(X['sim_sc_ml']>0.5)\",\n",
       " 'Rule918': \"(X['is_billing_shipping_city_same']==True)\",\n",
       " 'Rule919': \"(X['account_number_avg_order_total_per_account_number_1day']>1)\",\n",
       " 'Rule920': \"(X['is_billing_shipping_city_same']==True)\",\n",
       " 'Rule921': \"(X['account_number_avg_order_total_per_account_number_1day']>1)\",\n",
       " 'Rule922': \"(X['account_number_avg_order_total_per_account_number_1day']>1)\",\n",
       " 'Rule923': \"(X['is_billing_shipping_city_same']==True)\",\n",
       " 'Rule924': \"(X['account_number_avg_order_total_per_account_number_1day']>1)\",\n",
       " 'Rule925': \"(X['sim_sc_ml']>0.5)\",\n",
       " 'Rule926': \"(X['sim_sc_ml']>0.5)\",\n",
       " 'Rule927': \"(X['is_billing_shipping_city_same']==True)\",\n",
       " 'Rule928': \"(X['account_number_avg_order_total_per_account_number_1day']>1)\",\n",
       " 'Rule929': \"(X['sim_sc_ml']>0.5)\",\n",
       " 'Rule930': \"(X['is_billing_shipping_city_same']==True)\",\n",
       " 'Rule931': \"(X['is_billing_shipping_city_same']==True)\",\n",
       " 'Rule932': \"(X['is_billing_shipping_city_same']==True)\",\n",
       " 'Rule933': \"(X['sim_sc_ml']>0.5)\",\n",
       " 'Rule934': \"(X['account_number_avg_order_total_per_account_number_1day']>1)\",\n",
       " 'Rule935': \"(X['account_number_avg_order_total_per_account_number_1day']>1)\",\n",
       " 'Rule936': \"(X['is_billing_shipping_city_same']==True)\",\n",
       " 'Rule937': \"(X['is_billing_shipping_city_same']==True)\",\n",
       " 'Rule938': \"(X['is_billing_shipping_city_same']==True)\",\n",
       " 'Rule939': \"(X['account_number_avg_order_total_per_account_number_1day']>1)\",\n",
       " 'Rule940': \"(X['is_billing_shipping_city_same']==True)\",\n",
       " 'Rule941': \"(X['sim_sc_ml']>0.5)\",\n",
       " 'Rule942': \"(X['sim_sc_ml']>0.5)\",\n",
       " 'Rule943': \"(X['is_billing_shipping_city_same']==True)\",\n",
       " 'Rule944': \"(X['sim_sc_ml']>0.5)\",\n",
       " 'Rule945': \"(X['is_billing_shipping_city_same']==True)\",\n",
       " 'Rule946': \"(X['account_number_avg_order_total_per_account_number_1day']>1)\",\n",
       " 'Rule947': \"(X['account_number_avg_order_total_per_account_number_1day']>1)\",\n",
       " 'Rule948': \"(X['account_number_avg_order_total_per_account_number_1day']>1)\",\n",
       " 'Rule949': \"(X['account_number_avg_order_total_per_account_number_1day']>1)\",\n",
       " 'Rule950': \"(X['sim_sc_ml']>0.5)\",\n",
       " 'Rule951': \"(X['account_number_avg_order_total_per_account_number_1day']>1)\",\n",
       " 'Rule952': \"(X['sim_sc_ml']>0.5)\",\n",
       " 'Rule953': \"(X['account_number_avg_order_total_per_account_number_1day']>1)\",\n",
       " 'Rule954': \"(X['is_billing_shipping_city_same']==True)\",\n",
       " 'Rule955': \"(X['account_number_avg_order_total_per_account_number_1day']>1)\",\n",
       " 'Rule956': \"(X['is_billing_shipping_city_same']==True)\",\n",
       " 'Rule957': \"(X['account_number_avg_order_total_per_account_number_1day']>1)\",\n",
       " 'Rule958': \"(X['account_number_avg_order_total_per_account_number_1day']>1)\",\n",
       " 'Rule959': \"(X['account_number_avg_order_total_per_account_number_1day']>1)\",\n",
       " 'Rule960': \"(X['account_number_avg_order_total_per_account_number_1day']>1)\",\n",
       " 'Rule961': \"(X['is_billing_shipping_city_same']==True)\",\n",
       " 'Rule962': \"(X['is_billing_shipping_city_same']==True)\",\n",
       " 'Rule963': \"(X['account_number_avg_order_total_per_account_number_1day']>1)\",\n",
       " 'Rule964': \"(X['is_billing_shipping_city_same']==True)\",\n",
       " 'Rule965': \"(X['account_number_avg_order_total_per_account_number_1day']>1)\",\n",
       " 'Rule966': \"(X['account_number_avg_order_total_per_account_number_1day']>1)\",\n",
       " 'Rule967': \"(X['sim_sc_ml']>0.5)\",\n",
       " 'Rule968': \"(X['sim_sc_ml']>0.5)\",\n",
       " 'Rule969': \"(X['is_billing_shipping_city_same']==True)\",\n",
       " 'Rule970': \"(X['sim_sc_ml']>0.5)\",\n",
       " 'Rule971': \"(X['is_billing_shipping_city_same']==True)\",\n",
       " 'Rule972': \"(X['account_number_avg_order_total_per_account_number_1day']>1)\",\n",
       " 'Rule973': \"(X['sim_sc_ml']>0.5)\",\n",
       " 'Rule974': \"(X['account_number_avg_order_total_per_account_number_1day']>1)\",\n",
       " 'Rule975': \"(X['account_number_avg_order_total_per_account_number_1day']>1)\",\n",
       " 'Rule976': \"(X['account_number_avg_order_total_per_account_number_1day']>1)\",\n",
       " 'Rule977': \"(X['account_number_avg_order_total_per_account_number_1day']>1)\",\n",
       " 'Rule978': \"(X['is_billing_shipping_city_same']==True)\",\n",
       " 'Rule979': \"(X['is_billing_shipping_city_same']==True)\",\n",
       " 'Rule980': \"(X['is_billing_shipping_city_same']==True)\",\n",
       " 'Rule981': \"(X['account_number_avg_order_total_per_account_number_1day']>1)\",\n",
       " 'Rule982': \"(X['account_number_avg_order_total_per_account_number_1day']>1)\",\n",
       " 'Rule983': \"(X['sim_sc_ml']>0.5)\",\n",
       " 'Rule984': \"(X['sim_sc_ml']>0.5)\",\n",
       " 'Rule985': \"(X['is_billing_shipping_city_same']==True)\",\n",
       " 'Rule986': \"(X['is_billing_shipping_city_same']==True)\",\n",
       " 'Rule987': \"(X['is_billing_shipping_city_same']==True)\",\n",
       " 'Rule988': \"(X['account_number_avg_order_total_per_account_number_1day']>1)\",\n",
       " 'Rule989': \"(X['is_billing_shipping_city_same']==True)\",\n",
       " 'Rule990': \"(X['sim_sc_ml']>0.5)\",\n",
       " 'Rule991': \"(X['sim_sc_ml']>0.5)\",\n",
       " 'Rule992': \"(X['sim_sc_ml']>0.5)\",\n",
       " 'Rule993': \"(X['sim_sc_ml']>0.5)\",\n",
       " 'Rule994': \"(X['sim_sc_ml']>0.5)\",\n",
       " 'Rule995': \"(X['account_number_avg_order_total_per_account_number_1day']>1)\",\n",
       " 'Rule996': \"(X['account_number_avg_order_total_per_account_number_1day']>1)\",\n",
       " 'Rule997': \"(X['sim_sc_ml']>0.5)\",\n",
       " 'Rule998': \"(X['sim_sc_ml']>0.5)\",\n",
       " 'Rule999': \"(X['is_billing_shipping_city_same']==True)\",\n",
       " ...}"
      ]
     },
     "execution_count": 104,
     "metadata": {},
     "output_type": "execute_result"
    }
   ],
   "source": [
    "rule_strings"
   ]
  },
  {
   "cell_type": "code",
   "execution_count": 103,
   "metadata": {
    "collapsed": true,
    "jupyter": {
     "outputs_hidden": true
    }
   },
   "outputs": [
    {
     "data": {
      "text/plain": [
       "{'Rule0': \"(X['account_number_avg_order_total_per_account_number_1day'].to_numpy(na_value=np.nan)>1.0)\",\n",
       " 'Rule1': \"(X['is_billing_shipping_city_same'].to_numpy(na_value=np.nan)==True)\",\n",
       " 'Rule2': \"(X['sim_sc_ml'].to_numpy(na_value=np.nan)>0.5)\",\n",
       " 'Rule3': \"(X['is_billing_shipping_city_same'].to_numpy(na_value=np.nan)==True)\",\n",
       " 'Rule4': \"(X['sim_sc_ml'].to_numpy(na_value=np.nan)>0.5)\",\n",
       " 'Rule5': \"(X['account_number_avg_order_total_per_account_number_1day'].to_numpy(na_value=np.nan)>1.0)\",\n",
       " 'Rule6': \"(X['sim_sc_ml'].to_numpy(na_value=np.nan)>0.5)\",\n",
       " 'Rule7': \"(X['sim_sc_ml'].to_numpy(na_value=np.nan)>0.5)\",\n",
       " 'Rule8': \"(X['account_number_avg_order_total_per_account_number_1day'].to_numpy(na_value=np.nan)>1.0)\",\n",
       " 'Rule9': \"(X['sim_sc_ml'].to_numpy(na_value=np.nan)>0.5)\",\n",
       " 'Rule10': \"(X['is_billing_shipping_city_same'].to_numpy(na_value=np.nan)==True)\",\n",
       " 'Rule11': \"(X['sim_sc_ml'].to_numpy(na_value=np.nan)>0.5)\",\n",
       " 'Rule12': \"(X['is_billing_shipping_city_same'].to_numpy(na_value=np.nan)==True)\",\n",
       " 'Rule13': \"(X['account_number_avg_order_total_per_account_number_1day'].to_numpy(na_value=np.nan)>1.0)\",\n",
       " 'Rule14': \"(X['sim_sc_ml'].to_numpy(na_value=np.nan)>0.5)\",\n",
       " 'Rule15': \"(X['is_billing_shipping_city_same'].to_numpy(na_value=np.nan)==True)\",\n",
       " 'Rule16': \"(X['account_number_avg_order_total_per_account_number_1day'].to_numpy(na_value=np.nan)>1.0)\",\n",
       " 'Rule17': \"(X['is_billing_shipping_city_same'].to_numpy(na_value=np.nan)==True)\",\n",
       " 'Rule18': \"(X['sim_sc_ml'].to_numpy(na_value=np.nan)>0.5)\",\n",
       " 'Rule19': \"(X['account_number_avg_order_total_per_account_number_1day'].to_numpy(na_value=np.nan)>1.0)\",\n",
       " 'Rule20': \"(X['account_number_avg_order_total_per_account_number_1day'].to_numpy(na_value=np.nan)>1.0)\",\n",
       " 'Rule21': \"(X['sim_sc_ml'].to_numpy(na_value=np.nan)>0.5)\",\n",
       " 'Rule22': \"(X['is_billing_shipping_city_same'].to_numpy(na_value=np.nan)==True)\",\n",
       " 'Rule23': \"(X['is_billing_shipping_city_same'].to_numpy(na_value=np.nan)==True)\",\n",
       " 'Rule24': \"(X['account_number_avg_order_total_per_account_number_1day'].to_numpy(na_value=np.nan)>1.0)\",\n",
       " 'Rule25': \"(X['account_number_avg_order_total_per_account_number_1day'].to_numpy(na_value=np.nan)>1.0)\",\n",
       " 'Rule26': \"(X['is_billing_shipping_city_same'].to_numpy(na_value=np.nan)==True)\",\n",
       " 'Rule27': \"(X['account_number_avg_order_total_per_account_number_1day'].to_numpy(na_value=np.nan)>1.0)\",\n",
       " 'Rule28': \"(X['account_number_avg_order_total_per_account_number_1day'].to_numpy(na_value=np.nan)>1.0)\",\n",
       " 'Rule29': \"(X['account_number_avg_order_total_per_account_number_1day'].to_numpy(na_value=np.nan)>1.0)\",\n",
       " 'Rule30': \"(X['account_number_avg_order_total_per_account_number_1day'].to_numpy(na_value=np.nan)>1.0)\",\n",
       " 'Rule31': \"(X['is_billing_shipping_city_same'].to_numpy(na_value=np.nan)==True)\",\n",
       " 'Rule32': \"(X['is_billing_shipping_city_same'].to_numpy(na_value=np.nan)==True)\",\n",
       " 'Rule33': \"(X['is_billing_shipping_city_same'].to_numpy(na_value=np.nan)==True)\",\n",
       " 'Rule34': \"(X['sim_sc_ml'].to_numpy(na_value=np.nan)>0.5)\",\n",
       " 'Rule35': \"(X['is_billing_shipping_city_same'].to_numpy(na_value=np.nan)==True)\",\n",
       " 'Rule36': \"(X['is_billing_shipping_city_same'].to_numpy(na_value=np.nan)==True)\",\n",
       " 'Rule37': \"(X['is_billing_shipping_city_same'].to_numpy(na_value=np.nan)==True)\",\n",
       " 'Rule38': \"(X['is_billing_shipping_city_same'].to_numpy(na_value=np.nan)==True)\",\n",
       " 'Rule39': \"(X['account_number_avg_order_total_per_account_number_1day'].to_numpy(na_value=np.nan)>1.0)\",\n",
       " 'Rule40': \"(X['is_billing_shipping_city_same'].to_numpy(na_value=np.nan)==True)\",\n",
       " 'Rule41': \"(X['account_number_avg_order_total_per_account_number_1day'].to_numpy(na_value=np.nan)>1.0)\",\n",
       " 'Rule42': \"(X['sim_sc_ml'].to_numpy(na_value=np.nan)>0.5)\",\n",
       " 'Rule43': \"(X['account_number_avg_order_total_per_account_number_1day'].to_numpy(na_value=np.nan)>1.0)\",\n",
       " 'Rule44': \"(X['sim_sc_ml'].to_numpy(na_value=np.nan)>0.5)\",\n",
       " 'Rule45': \"(X['account_number_avg_order_total_per_account_number_1day'].to_numpy(na_value=np.nan)>1.0)\",\n",
       " 'Rule46': \"(X['sim_sc_ml'].to_numpy(na_value=np.nan)>0.5)\",\n",
       " 'Rule47': \"(X['account_number_avg_order_total_per_account_number_1day'].to_numpy(na_value=np.nan)>1.0)\",\n",
       " 'Rule48': \"(X['sim_sc_ml'].to_numpy(na_value=np.nan)>0.5)\",\n",
       " 'Rule49': \"(X['sim_sc_ml'].to_numpy(na_value=np.nan)>0.5)\",\n",
       " 'Rule50': \"(X['account_number_avg_order_total_per_account_number_1day'].to_numpy(na_value=np.nan)>1.0)\",\n",
       " 'Rule51': \"(X['sim_sc_ml'].to_numpy(na_value=np.nan)>0.5)\",\n",
       " 'Rule52': \"(X['sim_sc_ml'].to_numpy(na_value=np.nan)>0.5)\",\n",
       " 'Rule53': \"(X['is_billing_shipping_city_same'].to_numpy(na_value=np.nan)==True)\",\n",
       " 'Rule54': \"(X['sim_sc_ml'].to_numpy(na_value=np.nan)>0.5)\",\n",
       " 'Rule55': \"(X['is_billing_shipping_city_same'].to_numpy(na_value=np.nan)==True)\",\n",
       " 'Rule56': \"(X['is_billing_shipping_city_same'].to_numpy(na_value=np.nan)==True)\",\n",
       " 'Rule57': \"(X['sim_sc_ml'].to_numpy(na_value=np.nan)>0.5)\",\n",
       " 'Rule58': \"(X['account_number_avg_order_total_per_account_number_1day'].to_numpy(na_value=np.nan)>1.0)\",\n",
       " 'Rule59': \"(X['account_number_avg_order_total_per_account_number_1day'].to_numpy(na_value=np.nan)>1.0)\",\n",
       " 'Rule60': \"(X['sim_sc_ml'].to_numpy(na_value=np.nan)>0.5)\",\n",
       " 'Rule61': \"(X['is_billing_shipping_city_same'].to_numpy(na_value=np.nan)==True)\",\n",
       " 'Rule62': \"(X['account_number_avg_order_total_per_account_number_1day'].to_numpy(na_value=np.nan)>1.0)\",\n",
       " 'Rule63': \"(X['sim_sc_ml'].to_numpy(na_value=np.nan)>0.5)\",\n",
       " 'Rule64': \"(X['account_number_avg_order_total_per_account_number_1day'].to_numpy(na_value=np.nan)>1.0)\",\n",
       " 'Rule65': \"(X['is_billing_shipping_city_same'].to_numpy(na_value=np.nan)==True)\",\n",
       " 'Rule66': \"(X['account_number_avg_order_total_per_account_number_1day'].to_numpy(na_value=np.nan)>1.0)\",\n",
       " 'Rule67': \"(X['account_number_avg_order_total_per_account_number_1day'].to_numpy(na_value=np.nan)>1.0)\",\n",
       " 'Rule68': \"(X['account_number_avg_order_total_per_account_number_1day'].to_numpy(na_value=np.nan)>1.0)\",\n",
       " 'Rule69': \"(X['account_number_avg_order_total_per_account_number_1day'].to_numpy(na_value=np.nan)>1.0)\",\n",
       " 'Rule70': \"(X['is_billing_shipping_city_same'].to_numpy(na_value=np.nan)==True)\",\n",
       " 'Rule71': \"(X['is_billing_shipping_city_same'].to_numpy(na_value=np.nan)==True)\",\n",
       " 'Rule72': \"(X['sim_sc_ml'].to_numpy(na_value=np.nan)>0.5)\",\n",
       " 'Rule73': \"(X['account_number_avg_order_total_per_account_number_1day'].to_numpy(na_value=np.nan)>1.0)\",\n",
       " 'Rule74': \"(X['sim_sc_ml'].to_numpy(na_value=np.nan)>0.5)\",\n",
       " 'Rule75': \"(X['is_billing_shipping_city_same'].to_numpy(na_value=np.nan)==True)\",\n",
       " 'Rule76': \"(X['is_billing_shipping_city_same'].to_numpy(na_value=np.nan)==True)\",\n",
       " 'Rule77': \"(X['account_number_avg_order_total_per_account_number_1day'].to_numpy(na_value=np.nan)>1.0)\",\n",
       " 'Rule78': \"(X['is_billing_shipping_city_same'].to_numpy(na_value=np.nan)==True)\",\n",
       " 'Rule79': \"(X['is_billing_shipping_city_same'].to_numpy(na_value=np.nan)==True)\",\n",
       " 'Rule80': \"(X['sim_sc_ml'].to_numpy(na_value=np.nan)>0.5)\",\n",
       " 'Rule81': \"(X['account_number_avg_order_total_per_account_number_1day'].to_numpy(na_value=np.nan)>1.0)\",\n",
       " 'Rule82': \"(X['is_billing_shipping_city_same'].to_numpy(na_value=np.nan)==True)\",\n",
       " 'Rule83': \"(X['account_number_avg_order_total_per_account_number_1day'].to_numpy(na_value=np.nan)>1.0)\",\n",
       " 'Rule84': \"(X['account_number_avg_order_total_per_account_number_1day'].to_numpy(na_value=np.nan)>1.0)\",\n",
       " 'Rule85': \"(X['sim_sc_ml'].to_numpy(na_value=np.nan)>0.5)\",\n",
       " 'Rule86': \"(X['account_number_avg_order_total_per_account_number_1day'].to_numpy(na_value=np.nan)>1.0)\",\n",
       " 'Rule87': \"(X['account_number_avg_order_total_per_account_number_1day'].to_numpy(na_value=np.nan)>1.0)\",\n",
       " 'Rule88': \"(X['is_billing_shipping_city_same'].to_numpy(na_value=np.nan)==True)\",\n",
       " 'Rule89': \"(X['is_billing_shipping_city_same'].to_numpy(na_value=np.nan)==True)\",\n",
       " 'Rule90': \"(X['account_number_avg_order_total_per_account_number_1day'].to_numpy(na_value=np.nan)>1.0)\",\n",
       " 'Rule91': \"(X['is_billing_shipping_city_same'].to_numpy(na_value=np.nan)==True)\",\n",
       " 'Rule92': \"(X['is_billing_shipping_city_same'].to_numpy(na_value=np.nan)==True)\",\n",
       " 'Rule93': \"(X['sim_sc_ml'].to_numpy(na_value=np.nan)>0.5)\",\n",
       " 'Rule94': \"(X['account_number_avg_order_total_per_account_number_1day'].to_numpy(na_value=np.nan)>1.0)\",\n",
       " 'Rule95': \"(X['sim_sc_ml'].to_numpy(na_value=np.nan)>0.5)\",\n",
       " 'Rule96': \"(X['is_billing_shipping_city_same'].to_numpy(na_value=np.nan)==True)\",\n",
       " 'Rule97': \"(X['account_number_avg_order_total_per_account_number_1day'].to_numpy(na_value=np.nan)>1.0)\",\n",
       " 'Rule98': \"(X['is_billing_shipping_city_same'].to_numpy(na_value=np.nan)==True)\",\n",
       " 'Rule99': \"(X['account_number_avg_order_total_per_account_number_1day'].to_numpy(na_value=np.nan)>1.0)\",\n",
       " 'Rule100': \"(X['account_number_avg_order_total_per_account_number_1day'].to_numpy(na_value=np.nan)>1.0)\",\n",
       " 'Rule101': \"(X['sim_sc_ml'].to_numpy(na_value=np.nan)>0.5)\",\n",
       " 'Rule102': \"(X['sim_sc_ml'].to_numpy(na_value=np.nan)>0.5)\",\n",
       " 'Rule103': \"(X['is_billing_shipping_city_same'].to_numpy(na_value=np.nan)==True)\",\n",
       " 'Rule104': \"(X['sim_sc_ml'].to_numpy(na_value=np.nan)>0.5)\",\n",
       " 'Rule105': \"(X['sim_sc_ml'].to_numpy(na_value=np.nan)>0.5)\",\n",
       " 'Rule106': \"(X['is_billing_shipping_city_same'].to_numpy(na_value=np.nan)==True)\",\n",
       " 'Rule107': \"(X['sim_sc_ml'].to_numpy(na_value=np.nan)>0.5)\",\n",
       " 'Rule108': \"(X['is_billing_shipping_city_same'].to_numpy(na_value=np.nan)==True)\",\n",
       " 'Rule109': \"(X['sim_sc_ml'].to_numpy(na_value=np.nan)>0.5)\",\n",
       " 'Rule110': \"(X['account_number_avg_order_total_per_account_number_1day'].to_numpy(na_value=np.nan)>1.0)\",\n",
       " 'Rule111': \"(X['sim_sc_ml'].to_numpy(na_value=np.nan)>0.5)\",\n",
       " 'Rule112': \"(X['account_number_avg_order_total_per_account_number_1day'].to_numpy(na_value=np.nan)>1.0)\",\n",
       " 'Rule113': \"(X['account_number_avg_order_total_per_account_number_1day'].to_numpy(na_value=np.nan)>1.0)\",\n",
       " 'Rule114': \"(X['account_number_avg_order_total_per_account_number_1day'].to_numpy(na_value=np.nan)>1.0)\",\n",
       " 'Rule115': \"(X['sim_sc_ml'].to_numpy(na_value=np.nan)>0.5)\",\n",
       " 'Rule116': \"(X['is_billing_shipping_city_same'].to_numpy(na_value=np.nan)==True)\",\n",
       " 'Rule117': \"(X['account_number_avg_order_total_per_account_number_1day'].to_numpy(na_value=np.nan)>1.0)\",\n",
       " 'Rule118': \"(X['account_number_avg_order_total_per_account_number_1day'].to_numpy(na_value=np.nan)>1.0)\",\n",
       " 'Rule119': \"(X['is_billing_shipping_city_same'].to_numpy(na_value=np.nan)==True)\",\n",
       " 'Rule120': \"(X['is_billing_shipping_city_same'].to_numpy(na_value=np.nan)==True)\",\n",
       " 'Rule121': \"(X['sim_sc_ml'].to_numpy(na_value=np.nan)>0.5)\",\n",
       " 'Rule122': \"(X['account_number_avg_order_total_per_account_number_1day'].to_numpy(na_value=np.nan)>1.0)\",\n",
       " 'Rule123': \"(X['is_billing_shipping_city_same'].to_numpy(na_value=np.nan)==True)\",\n",
       " 'Rule124': \"(X['account_number_avg_order_total_per_account_number_1day'].to_numpy(na_value=np.nan)>1.0)\",\n",
       " 'Rule125': \"(X['is_billing_shipping_city_same'].to_numpy(na_value=np.nan)==True)\",\n",
       " 'Rule126': \"(X['is_billing_shipping_city_same'].to_numpy(na_value=np.nan)==True)\",\n",
       " 'Rule127': \"(X['is_billing_shipping_city_same'].to_numpy(na_value=np.nan)==True)\",\n",
       " 'Rule128': \"(X['is_billing_shipping_city_same'].to_numpy(na_value=np.nan)==True)\",\n",
       " 'Rule129': \"(X['account_number_avg_order_total_per_account_number_1day'].to_numpy(na_value=np.nan)>1.0)\",\n",
       " 'Rule130': \"(X['account_number_avg_order_total_per_account_number_1day'].to_numpy(na_value=np.nan)>1.0)\",\n",
       " 'Rule131': \"(X['account_number_avg_order_total_per_account_number_1day'].to_numpy(na_value=np.nan)>1.0)\",\n",
       " 'Rule132': \"(X['account_number_avg_order_total_per_account_number_1day'].to_numpy(na_value=np.nan)>1.0)\",\n",
       " 'Rule133': \"(X['sim_sc_ml'].to_numpy(na_value=np.nan)>0.5)\",\n",
       " 'Rule134': \"(X['sim_sc_ml'].to_numpy(na_value=np.nan)>0.5)\",\n",
       " 'Rule135': \"(X['is_billing_shipping_city_same'].to_numpy(na_value=np.nan)==True)\",\n",
       " 'Rule136': \"(X['account_number_avg_order_total_per_account_number_1day'].to_numpy(na_value=np.nan)>1.0)\",\n",
       " 'Rule137': \"(X['is_billing_shipping_city_same'].to_numpy(na_value=np.nan)==True)\",\n",
       " 'Rule138': \"(X['sim_sc_ml'].to_numpy(na_value=np.nan)>0.5)\",\n",
       " 'Rule139': \"(X['is_billing_shipping_city_same'].to_numpy(na_value=np.nan)==True)\",\n",
       " 'Rule140': \"(X['sim_sc_ml'].to_numpy(na_value=np.nan)>0.5)\",\n",
       " 'Rule141': \"(X['account_number_avg_order_total_per_account_number_1day'].to_numpy(na_value=np.nan)>1.0)\",\n",
       " 'Rule142': \"(X['is_billing_shipping_city_same'].to_numpy(na_value=np.nan)==True)\",\n",
       " 'Rule143': \"(X['sim_sc_ml'].to_numpy(na_value=np.nan)>0.5)\",\n",
       " 'Rule144': \"(X['account_number_avg_order_total_per_account_number_1day'].to_numpy(na_value=np.nan)>1.0)\",\n",
       " 'Rule145': \"(X['is_billing_shipping_city_same'].to_numpy(na_value=np.nan)==True)\",\n",
       " 'Rule146': \"(X['is_billing_shipping_city_same'].to_numpy(na_value=np.nan)==True)\",\n",
       " 'Rule147': \"(X['is_billing_shipping_city_same'].to_numpy(na_value=np.nan)==True)\",\n",
       " 'Rule148': \"(X['is_billing_shipping_city_same'].to_numpy(na_value=np.nan)==True)\",\n",
       " 'Rule149': \"(X['account_number_avg_order_total_per_account_number_1day'].to_numpy(na_value=np.nan)>1.0)\",\n",
       " 'Rule150': \"(X['is_billing_shipping_city_same'].to_numpy(na_value=np.nan)==True)\",\n",
       " 'Rule151': \"(X['sim_sc_ml'].to_numpy(na_value=np.nan)>0.5)\",\n",
       " 'Rule152': \"(X['sim_sc_ml'].to_numpy(na_value=np.nan)>0.5)\",\n",
       " 'Rule153': \"(X['account_number_avg_order_total_per_account_number_1day'].to_numpy(na_value=np.nan)>1.0)\",\n",
       " 'Rule154': \"(X['is_billing_shipping_city_same'].to_numpy(na_value=np.nan)==True)\",\n",
       " 'Rule155': \"(X['account_number_avg_order_total_per_account_number_1day'].to_numpy(na_value=np.nan)>1.0)\",\n",
       " 'Rule156': \"(X['sim_sc_ml'].to_numpy(na_value=np.nan)>0.5)\",\n",
       " 'Rule157': \"(X['account_number_avg_order_total_per_account_number_1day'].to_numpy(na_value=np.nan)>1.0)\",\n",
       " 'Rule158': \"(X['account_number_avg_order_total_per_account_number_1day'].to_numpy(na_value=np.nan)>1.0)\",\n",
       " 'Rule159': \"(X['account_number_avg_order_total_per_account_number_1day'].to_numpy(na_value=np.nan)>1.0)\",\n",
       " 'Rule160': \"(X['sim_sc_ml'].to_numpy(na_value=np.nan)>0.5)\",\n",
       " 'Rule161': \"(X['is_billing_shipping_city_same'].to_numpy(na_value=np.nan)==True)\",\n",
       " 'Rule162': \"(X['account_number_avg_order_total_per_account_number_1day'].to_numpy(na_value=np.nan)>1.0)\",\n",
       " 'Rule163': \"(X['is_billing_shipping_city_same'].to_numpy(na_value=np.nan)==True)\",\n",
       " 'Rule164': \"(X['sim_sc_ml'].to_numpy(na_value=np.nan)>0.5)\",\n",
       " 'Rule165': \"(X['is_billing_shipping_city_same'].to_numpy(na_value=np.nan)==True)\",\n",
       " 'Rule166': \"(X['is_billing_shipping_city_same'].to_numpy(na_value=np.nan)==True)\",\n",
       " 'Rule167': \"(X['is_billing_shipping_city_same'].to_numpy(na_value=np.nan)==True)\",\n",
       " 'Rule168': \"(X['sim_sc_ml'].to_numpy(na_value=np.nan)>0.5)\",\n",
       " 'Rule169': \"(X['is_billing_shipping_city_same'].to_numpy(na_value=np.nan)==True)\",\n",
       " 'Rule170': \"(X['sim_sc_ml'].to_numpy(na_value=np.nan)>0.5)\",\n",
       " 'Rule171': \"(X['sim_sc_ml'].to_numpy(na_value=np.nan)>0.5)\",\n",
       " 'Rule172': \"(X['account_number_avg_order_total_per_account_number_1day'].to_numpy(na_value=np.nan)>1.0)\",\n",
       " 'Rule173': \"(X['sim_sc_ml'].to_numpy(na_value=np.nan)>0.5)\",\n",
       " 'Rule174': \"(X['is_billing_shipping_city_same'].to_numpy(na_value=np.nan)==True)\",\n",
       " 'Rule175': \"(X['is_billing_shipping_city_same'].to_numpy(na_value=np.nan)==True)\",\n",
       " 'Rule176': \"(X['account_number_avg_order_total_per_account_number_1day'].to_numpy(na_value=np.nan)>1.0)\",\n",
       " 'Rule177': \"(X['is_billing_shipping_city_same'].to_numpy(na_value=np.nan)==True)\",\n",
       " 'Rule178': \"(X['account_number_avg_order_total_per_account_number_1day'].to_numpy(na_value=np.nan)>1.0)\",\n",
       " 'Rule179': \"(X['sim_sc_ml'].to_numpy(na_value=np.nan)>0.5)\",\n",
       " 'Rule180': \"(X['account_number_avg_order_total_per_account_number_1day'].to_numpy(na_value=np.nan)>1.0)\",\n",
       " 'Rule181': \"(X['account_number_avg_order_total_per_account_number_1day'].to_numpy(na_value=np.nan)>1.0)\",\n",
       " 'Rule182': \"(X['is_billing_shipping_city_same'].to_numpy(na_value=np.nan)==True)\",\n",
       " 'Rule183': \"(X['sim_sc_ml'].to_numpy(na_value=np.nan)>0.5)\",\n",
       " 'Rule184': \"(X['is_billing_shipping_city_same'].to_numpy(na_value=np.nan)==True)\",\n",
       " 'Rule185': \"(X['is_billing_shipping_city_same'].to_numpy(na_value=np.nan)==True)\",\n",
       " 'Rule186': \"(X['account_number_avg_order_total_per_account_number_1day'].to_numpy(na_value=np.nan)>1.0)\",\n",
       " 'Rule187': \"(X['account_number_avg_order_total_per_account_number_1day'].to_numpy(na_value=np.nan)>1.0)\",\n",
       " 'Rule188': \"(X['account_number_avg_order_total_per_account_number_1day'].to_numpy(na_value=np.nan)>1.0)\",\n",
       " 'Rule189': \"(X['is_billing_shipping_city_same'].to_numpy(na_value=np.nan)==True)\",\n",
       " 'Rule190': \"(X['sim_sc_ml'].to_numpy(na_value=np.nan)>0.5)\",\n",
       " 'Rule191': \"(X['is_billing_shipping_city_same'].to_numpy(na_value=np.nan)==True)\",\n",
       " 'Rule192': \"(X['sim_sc_ml'].to_numpy(na_value=np.nan)>0.5)\",\n",
       " 'Rule193': \"(X['account_number_avg_order_total_per_account_number_1day'].to_numpy(na_value=np.nan)>1.0)\",\n",
       " 'Rule194': \"(X['sim_sc_ml'].to_numpy(na_value=np.nan)>0.5)\",\n",
       " 'Rule195': \"(X['account_number_avg_order_total_per_account_number_1day'].to_numpy(na_value=np.nan)>1.0)\",\n",
       " 'Rule196': \"(X['sim_sc_ml'].to_numpy(na_value=np.nan)>0.5)\",\n",
       " 'Rule197': \"(X['is_billing_shipping_city_same'].to_numpy(na_value=np.nan)==True)\",\n",
       " 'Rule198': \"(X['is_billing_shipping_city_same'].to_numpy(na_value=np.nan)==True)\",\n",
       " 'Rule199': \"(X['sim_sc_ml'].to_numpy(na_value=np.nan)>0.5)\",\n",
       " 'Rule200': \"(X['account_number_avg_order_total_per_account_number_1day'].to_numpy(na_value=np.nan)>1.0)\",\n",
       " 'Rule201': \"(X['account_number_avg_order_total_per_account_number_1day'].to_numpy(na_value=np.nan)>1.0)\",\n",
       " 'Rule202': \"(X['is_billing_shipping_city_same'].to_numpy(na_value=np.nan)==True)\",\n",
       " 'Rule203': \"(X['sim_sc_ml'].to_numpy(na_value=np.nan)>0.5)\",\n",
       " 'Rule204': \"(X['is_billing_shipping_city_same'].to_numpy(na_value=np.nan)==True)\",\n",
       " 'Rule205': \"(X['is_billing_shipping_city_same'].to_numpy(na_value=np.nan)==True)\",\n",
       " 'Rule206': \"(X['account_number_avg_order_total_per_account_number_1day'].to_numpy(na_value=np.nan)>1.0)\",\n",
       " 'Rule207': \"(X['sim_sc_ml'].to_numpy(na_value=np.nan)>0.5)\",\n",
       " 'Rule208': \"(X['account_number_avg_order_total_per_account_number_1day'].to_numpy(na_value=np.nan)>1.0)\",\n",
       " 'Rule209': \"(X['account_number_avg_order_total_per_account_number_1day'].to_numpy(na_value=np.nan)>1.0)\",\n",
       " 'Rule210': \"(X['sim_sc_ml'].to_numpy(na_value=np.nan)>0.5)\",\n",
       " 'Rule211': \"(X['sim_sc_ml'].to_numpy(na_value=np.nan)>0.5)\",\n",
       " 'Rule212': \"(X['sim_sc_ml'].to_numpy(na_value=np.nan)>0.5)\",\n",
       " 'Rule213': \"(X['is_billing_shipping_city_same'].to_numpy(na_value=np.nan)==True)\",\n",
       " 'Rule214': \"(X['is_billing_shipping_city_same'].to_numpy(na_value=np.nan)==True)\",\n",
       " 'Rule215': \"(X['sim_sc_ml'].to_numpy(na_value=np.nan)>0.5)\",\n",
       " 'Rule216': \"(X['is_billing_shipping_city_same'].to_numpy(na_value=np.nan)==True)\",\n",
       " 'Rule217': \"(X['is_billing_shipping_city_same'].to_numpy(na_value=np.nan)==True)\",\n",
       " 'Rule218': \"(X['sim_sc_ml'].to_numpy(na_value=np.nan)>0.5)\",\n",
       " 'Rule219': \"(X['sim_sc_ml'].to_numpy(na_value=np.nan)>0.5)\",\n",
       " 'Rule220': \"(X['sim_sc_ml'].to_numpy(na_value=np.nan)>0.5)\",\n",
       " 'Rule221': \"(X['account_number_avg_order_total_per_account_number_1day'].to_numpy(na_value=np.nan)>1.0)\",\n",
       " 'Rule222': \"(X['sim_sc_ml'].to_numpy(na_value=np.nan)>0.5)\",\n",
       " 'Rule223': \"(X['sim_sc_ml'].to_numpy(na_value=np.nan)>0.5)\",\n",
       " 'Rule224': \"(X['is_billing_shipping_city_same'].to_numpy(na_value=np.nan)==True)\",\n",
       " 'Rule225': \"(X['account_number_avg_order_total_per_account_number_1day'].to_numpy(na_value=np.nan)>1.0)\",\n",
       " 'Rule226': \"(X['sim_sc_ml'].to_numpy(na_value=np.nan)>0.5)\",\n",
       " 'Rule227': \"(X['is_billing_shipping_city_same'].to_numpy(na_value=np.nan)==True)\",\n",
       " 'Rule228': \"(X['sim_sc_ml'].to_numpy(na_value=np.nan)>0.5)\",\n",
       " 'Rule229': \"(X['is_billing_shipping_city_same'].to_numpy(na_value=np.nan)==True)\",\n",
       " 'Rule230': \"(X['is_billing_shipping_city_same'].to_numpy(na_value=np.nan)==True)\",\n",
       " 'Rule231': \"(X['account_number_avg_order_total_per_account_number_1day'].to_numpy(na_value=np.nan)>1.0)\",\n",
       " 'Rule232': \"(X['sim_sc_ml'].to_numpy(na_value=np.nan)>0.5)\",\n",
       " 'Rule233': \"(X['sim_sc_ml'].to_numpy(na_value=np.nan)>0.5)\",\n",
       " 'Rule234': \"(X['sim_sc_ml'].to_numpy(na_value=np.nan)>0.5)\",\n",
       " 'Rule235': \"(X['is_billing_shipping_city_same'].to_numpy(na_value=np.nan)==True)\",\n",
       " 'Rule236': \"(X['is_billing_shipping_city_same'].to_numpy(na_value=np.nan)==True)\",\n",
       " 'Rule237': \"(X['sim_sc_ml'].to_numpy(na_value=np.nan)>0.5)\",\n",
       " 'Rule238': \"(X['is_billing_shipping_city_same'].to_numpy(na_value=np.nan)==True)\",\n",
       " 'Rule239': \"(X['account_number_avg_order_total_per_account_number_1day'].to_numpy(na_value=np.nan)>1.0)\",\n",
       " 'Rule240': \"(X['sim_sc_ml'].to_numpy(na_value=np.nan)>0.5)\",\n",
       " 'Rule241': \"(X['sim_sc_ml'].to_numpy(na_value=np.nan)>0.5)\",\n",
       " 'Rule242': \"(X['sim_sc_ml'].to_numpy(na_value=np.nan)>0.5)\",\n",
       " 'Rule243': \"(X['account_number_avg_order_total_per_account_number_1day'].to_numpy(na_value=np.nan)>1.0)\",\n",
       " 'Rule244': \"(X['sim_sc_ml'].to_numpy(na_value=np.nan)>0.5)\",\n",
       " 'Rule245': \"(X['account_number_avg_order_total_per_account_number_1day'].to_numpy(na_value=np.nan)>1.0)\",\n",
       " 'Rule246': \"(X['account_number_avg_order_total_per_account_number_1day'].to_numpy(na_value=np.nan)>1.0)\",\n",
       " 'Rule247': \"(X['sim_sc_ml'].to_numpy(na_value=np.nan)>0.5)\",\n",
       " 'Rule248': \"(X['sim_sc_ml'].to_numpy(na_value=np.nan)>0.5)\",\n",
       " 'Rule249': \"(X['account_number_avg_order_total_per_account_number_1day'].to_numpy(na_value=np.nan)>1.0)\",\n",
       " 'Rule250': \"(X['is_billing_shipping_city_same'].to_numpy(na_value=np.nan)==True)\",\n",
       " 'Rule251': \"(X['sim_sc_ml'].to_numpy(na_value=np.nan)>0.5)\",\n",
       " 'Rule252': \"(X['sim_sc_ml'].to_numpy(na_value=np.nan)>0.5)\",\n",
       " 'Rule253': \"(X['is_billing_shipping_city_same'].to_numpy(na_value=np.nan)==True)\",\n",
       " 'Rule254': \"(X['account_number_avg_order_total_per_account_number_1day'].to_numpy(na_value=np.nan)>1.0)\",\n",
       " 'Rule255': \"(X['sim_sc_ml'].to_numpy(na_value=np.nan)>0.5)\",\n",
       " 'Rule256': \"(X['account_number_avg_order_total_per_account_number_1day'].to_numpy(na_value=np.nan)>1.0)\",\n",
       " 'Rule257': \"(X['account_number_avg_order_total_per_account_number_1day'].to_numpy(na_value=np.nan)>1.0)\",\n",
       " 'Rule258': \"(X['sim_sc_ml'].to_numpy(na_value=np.nan)>0.5)\",\n",
       " 'Rule259': \"(X['account_number_avg_order_total_per_account_number_1day'].to_numpy(na_value=np.nan)>1.0)\",\n",
       " 'Rule260': \"(X['sim_sc_ml'].to_numpy(na_value=np.nan)>0.5)\",\n",
       " 'Rule261': \"(X['sim_sc_ml'].to_numpy(na_value=np.nan)>0.5)\",\n",
       " 'Rule262': \"(X['sim_sc_ml'].to_numpy(na_value=np.nan)>0.5)\",\n",
       " 'Rule263': \"(X['account_number_avg_order_total_per_account_number_1day'].to_numpy(na_value=np.nan)>1.0)\",\n",
       " 'Rule264': \"(X['is_billing_shipping_city_same'].to_numpy(na_value=np.nan)==True)\",\n",
       " 'Rule265': \"(X['sim_sc_ml'].to_numpy(na_value=np.nan)>0.5)\",\n",
       " 'Rule266': \"(X['is_billing_shipping_city_same'].to_numpy(na_value=np.nan)==True)\",\n",
       " 'Rule267': \"(X['account_number_avg_order_total_per_account_number_1day'].to_numpy(na_value=np.nan)>1.0)\",\n",
       " 'Rule268': \"(X['is_billing_shipping_city_same'].to_numpy(na_value=np.nan)==True)\",\n",
       " 'Rule269': \"(X['account_number_avg_order_total_per_account_number_1day'].to_numpy(na_value=np.nan)>1.0)\",\n",
       " 'Rule270': \"(X['account_number_avg_order_total_per_account_number_1day'].to_numpy(na_value=np.nan)>1.0)\",\n",
       " 'Rule271': \"(X['account_number_avg_order_total_per_account_number_1day'].to_numpy(na_value=np.nan)>1.0)\",\n",
       " 'Rule272': \"(X['account_number_avg_order_total_per_account_number_1day'].to_numpy(na_value=np.nan)>1.0)\",\n",
       " 'Rule273': \"(X['is_billing_shipping_city_same'].to_numpy(na_value=np.nan)==True)\",\n",
       " 'Rule274': \"(X['sim_sc_ml'].to_numpy(na_value=np.nan)>0.5)\",\n",
       " 'Rule275': \"(X['sim_sc_ml'].to_numpy(na_value=np.nan)>0.5)\",\n",
       " 'Rule276': \"(X['account_number_avg_order_total_per_account_number_1day'].to_numpy(na_value=np.nan)>1.0)\",\n",
       " 'Rule277': \"(X['sim_sc_ml'].to_numpy(na_value=np.nan)>0.5)\",\n",
       " 'Rule278': \"(X['sim_sc_ml'].to_numpy(na_value=np.nan)>0.5)\",\n",
       " 'Rule279': \"(X['sim_sc_ml'].to_numpy(na_value=np.nan)>0.5)\",\n",
       " 'Rule280': \"(X['sim_sc_ml'].to_numpy(na_value=np.nan)>0.5)\",\n",
       " 'Rule281': \"(X['is_billing_shipping_city_same'].to_numpy(na_value=np.nan)==True)\",\n",
       " 'Rule282': \"(X['account_number_avg_order_total_per_account_number_1day'].to_numpy(na_value=np.nan)>1.0)\",\n",
       " 'Rule283': \"(X['sim_sc_ml'].to_numpy(na_value=np.nan)>0.5)\",\n",
       " 'Rule284': \"(X['is_billing_shipping_city_same'].to_numpy(na_value=np.nan)==True)\",\n",
       " 'Rule285': \"(X['sim_sc_ml'].to_numpy(na_value=np.nan)>0.5)\",\n",
       " 'Rule286': \"(X['account_number_avg_order_total_per_account_number_1day'].to_numpy(na_value=np.nan)>1.0)\",\n",
       " 'Rule287': \"(X['sim_sc_ml'].to_numpy(na_value=np.nan)>0.5)\",\n",
       " 'Rule288': \"(X['sim_sc_ml'].to_numpy(na_value=np.nan)>0.5)\",\n",
       " 'Rule289': \"(X['account_number_avg_order_total_per_account_number_1day'].to_numpy(na_value=np.nan)>1.0)\",\n",
       " 'Rule290': \"(X['is_billing_shipping_city_same'].to_numpy(na_value=np.nan)==True)\",\n",
       " 'Rule291': \"(X['sim_sc_ml'].to_numpy(na_value=np.nan)>0.5)\",\n",
       " 'Rule292': \"(X['is_billing_shipping_city_same'].to_numpy(na_value=np.nan)==True)\",\n",
       " 'Rule293': \"(X['is_billing_shipping_city_same'].to_numpy(na_value=np.nan)==True)\",\n",
       " 'Rule294': \"(X['sim_sc_ml'].to_numpy(na_value=np.nan)>0.5)\",\n",
       " 'Rule295': \"(X['sim_sc_ml'].to_numpy(na_value=np.nan)>0.5)\",\n",
       " 'Rule296': \"(X['account_number_avg_order_total_per_account_number_1day'].to_numpy(na_value=np.nan)>1.0)\",\n",
       " 'Rule297': \"(X['sim_sc_ml'].to_numpy(na_value=np.nan)>0.5)\",\n",
       " 'Rule298': \"(X['account_number_avg_order_total_per_account_number_1day'].to_numpy(na_value=np.nan)>1.0)\",\n",
       " 'Rule299': \"(X['account_number_avg_order_total_per_account_number_1day'].to_numpy(na_value=np.nan)>1.0)\",\n",
       " 'Rule300': \"(X['is_billing_shipping_city_same'].to_numpy(na_value=np.nan)==True)\",\n",
       " 'Rule301': \"(X['is_billing_shipping_city_same'].to_numpy(na_value=np.nan)==True)\",\n",
       " 'Rule302': \"(X['sim_sc_ml'].to_numpy(na_value=np.nan)>0.5)\",\n",
       " 'Rule303': \"(X['account_number_avg_order_total_per_account_number_1day'].to_numpy(na_value=np.nan)>1.0)\",\n",
       " 'Rule304': \"(X['account_number_avg_order_total_per_account_number_1day'].to_numpy(na_value=np.nan)>1.0)\",\n",
       " 'Rule305': \"(X['account_number_avg_order_total_per_account_number_1day'].to_numpy(na_value=np.nan)>1.0)\",\n",
       " 'Rule306': \"(X['account_number_avg_order_total_per_account_number_1day'].to_numpy(na_value=np.nan)>1.0)\",\n",
       " 'Rule307': \"(X['account_number_avg_order_total_per_account_number_1day'].to_numpy(na_value=np.nan)>1.0)\",\n",
       " 'Rule308': \"(X['account_number_avg_order_total_per_account_number_1day'].to_numpy(na_value=np.nan)>1.0)\",\n",
       " 'Rule309': \"(X['account_number_avg_order_total_per_account_number_1day'].to_numpy(na_value=np.nan)>1.0)\",\n",
       " 'Rule310': \"(X['sim_sc_ml'].to_numpy(na_value=np.nan)>0.5)\",\n",
       " 'Rule311': \"(X['sim_sc_ml'].to_numpy(na_value=np.nan)>0.5)\",\n",
       " 'Rule312': \"(X['is_billing_shipping_city_same'].to_numpy(na_value=np.nan)==True)\",\n",
       " 'Rule313': \"(X['account_number_avg_order_total_per_account_number_1day'].to_numpy(na_value=np.nan)>1.0)\",\n",
       " 'Rule314': \"(X['sim_sc_ml'].to_numpy(na_value=np.nan)>0.5)\",\n",
       " 'Rule315': \"(X['is_billing_shipping_city_same'].to_numpy(na_value=np.nan)==True)\",\n",
       " 'Rule316': \"(X['is_billing_shipping_city_same'].to_numpy(na_value=np.nan)==True)\",\n",
       " 'Rule317': \"(X['sim_sc_ml'].to_numpy(na_value=np.nan)>0.5)\",\n",
       " 'Rule318': \"(X['is_billing_shipping_city_same'].to_numpy(na_value=np.nan)==True)\",\n",
       " 'Rule319': \"(X['is_billing_shipping_city_same'].to_numpy(na_value=np.nan)==True)\",\n",
       " 'Rule320': \"(X['sim_sc_ml'].to_numpy(na_value=np.nan)>0.5)\",\n",
       " 'Rule321': \"(X['account_number_avg_order_total_per_account_number_1day'].to_numpy(na_value=np.nan)>1.0)\",\n",
       " 'Rule322': \"(X['is_billing_shipping_city_same'].to_numpy(na_value=np.nan)==True)\",\n",
       " 'Rule323': \"(X['sim_sc_ml'].to_numpy(na_value=np.nan)>0.5)\",\n",
       " 'Rule324': \"(X['account_number_avg_order_total_per_account_number_1day'].to_numpy(na_value=np.nan)>1.0)\",\n",
       " 'Rule325': \"(X['sim_sc_ml'].to_numpy(na_value=np.nan)>0.5)\",\n",
       " 'Rule326': \"(X['sim_sc_ml'].to_numpy(na_value=np.nan)>0.5)\",\n",
       " 'Rule327': \"(X['account_number_avg_order_total_per_account_number_1day'].to_numpy(na_value=np.nan)>1.0)\",\n",
       " 'Rule328': \"(X['sim_sc_ml'].to_numpy(na_value=np.nan)>0.5)\",\n",
       " 'Rule329': \"(X['account_number_avg_order_total_per_account_number_1day'].to_numpy(na_value=np.nan)>1.0)\",\n",
       " 'Rule330': \"(X['sim_sc_ml'].to_numpy(na_value=np.nan)>0.5)\",\n",
       " 'Rule331': \"(X['is_billing_shipping_city_same'].to_numpy(na_value=np.nan)==True)\",\n",
       " 'Rule332': \"(X['sim_sc_ml'].to_numpy(na_value=np.nan)>0.5)\",\n",
       " 'Rule333': \"(X['is_billing_shipping_city_same'].to_numpy(na_value=np.nan)==True)\",\n",
       " 'Rule334': \"(X['account_number_avg_order_total_per_account_number_1day'].to_numpy(na_value=np.nan)>1.0)\",\n",
       " 'Rule335': \"(X['account_number_avg_order_total_per_account_number_1day'].to_numpy(na_value=np.nan)>1.0)\",\n",
       " 'Rule336': \"(X['is_billing_shipping_city_same'].to_numpy(na_value=np.nan)==True)\",\n",
       " 'Rule337': \"(X['is_billing_shipping_city_same'].to_numpy(na_value=np.nan)==True)\",\n",
       " 'Rule338': \"(X['sim_sc_ml'].to_numpy(na_value=np.nan)>0.5)\",\n",
       " 'Rule339': \"(X['is_billing_shipping_city_same'].to_numpy(na_value=np.nan)==True)\",\n",
       " 'Rule340': \"(X['is_billing_shipping_city_same'].to_numpy(na_value=np.nan)==True)\",\n",
       " 'Rule341': \"(X['account_number_avg_order_total_per_account_number_1day'].to_numpy(na_value=np.nan)>1.0)\",\n",
       " 'Rule342': \"(X['is_billing_shipping_city_same'].to_numpy(na_value=np.nan)==True)\",\n",
       " 'Rule343': \"(X['account_number_avg_order_total_per_account_number_1day'].to_numpy(na_value=np.nan)>1.0)\",\n",
       " 'Rule344': \"(X['account_number_avg_order_total_per_account_number_1day'].to_numpy(na_value=np.nan)>1.0)\",\n",
       " 'Rule345': \"(X['account_number_avg_order_total_per_account_number_1day'].to_numpy(na_value=np.nan)>1.0)\",\n",
       " 'Rule346': \"(X['account_number_avg_order_total_per_account_number_1day'].to_numpy(na_value=np.nan)>1.0)\",\n",
       " 'Rule347': \"(X['is_billing_shipping_city_same'].to_numpy(na_value=np.nan)==True)\",\n",
       " 'Rule348': \"(X['sim_sc_ml'].to_numpy(na_value=np.nan)>0.5)\",\n",
       " 'Rule349': \"(X['sim_sc_ml'].to_numpy(na_value=np.nan)>0.5)\",\n",
       " 'Rule350': \"(X['sim_sc_ml'].to_numpy(na_value=np.nan)>0.5)\",\n",
       " 'Rule351': \"(X['is_billing_shipping_city_same'].to_numpy(na_value=np.nan)==True)\",\n",
       " 'Rule352': \"(X['account_number_avg_order_total_per_account_number_1day'].to_numpy(na_value=np.nan)>1.0)\",\n",
       " 'Rule353': \"(X['is_billing_shipping_city_same'].to_numpy(na_value=np.nan)==True)\",\n",
       " 'Rule354': \"(X['sim_sc_ml'].to_numpy(na_value=np.nan)>0.5)\",\n",
       " 'Rule355': \"(X['is_billing_shipping_city_same'].to_numpy(na_value=np.nan)==True)\",\n",
       " 'Rule356': \"(X['account_number_avg_order_total_per_account_number_1day'].to_numpy(na_value=np.nan)>1.0)\",\n",
       " 'Rule357': \"(X['sim_sc_ml'].to_numpy(na_value=np.nan)>0.5)\",\n",
       " 'Rule358': \"(X['sim_sc_ml'].to_numpy(na_value=np.nan)>0.5)\",\n",
       " 'Rule359': \"(X['is_billing_shipping_city_same'].to_numpy(na_value=np.nan)==True)\",\n",
       " 'Rule360': \"(X['account_number_avg_order_total_per_account_number_1day'].to_numpy(na_value=np.nan)>1.0)\",\n",
       " 'Rule361': \"(X['account_number_avg_order_total_per_account_number_1day'].to_numpy(na_value=np.nan)>1.0)\",\n",
       " 'Rule362': \"(X['is_billing_shipping_city_same'].to_numpy(na_value=np.nan)==True)\",\n",
       " 'Rule363': \"(X['sim_sc_ml'].to_numpy(na_value=np.nan)>0.5)\",\n",
       " 'Rule364': \"(X['is_billing_shipping_city_same'].to_numpy(na_value=np.nan)==True)\",\n",
       " 'Rule365': \"(X['sim_sc_ml'].to_numpy(na_value=np.nan)>0.5)\",\n",
       " 'Rule366': \"(X['sim_sc_ml'].to_numpy(na_value=np.nan)>0.5)\",\n",
       " 'Rule367': \"(X['is_billing_shipping_city_same'].to_numpy(na_value=np.nan)==True)\",\n",
       " 'Rule368': \"(X['account_number_avg_order_total_per_account_number_1day'].to_numpy(na_value=np.nan)>1.0)\",\n",
       " 'Rule369': \"(X['is_billing_shipping_city_same'].to_numpy(na_value=np.nan)==True)\",\n",
       " 'Rule370': \"(X['account_number_avg_order_total_per_account_number_1day'].to_numpy(na_value=np.nan)>1.0)\",\n",
       " 'Rule371': \"(X['account_number_avg_order_total_per_account_number_1day'].to_numpy(na_value=np.nan)>1.0)\",\n",
       " 'Rule372': \"(X['is_billing_shipping_city_same'].to_numpy(na_value=np.nan)==True)\",\n",
       " 'Rule373': \"(X['is_billing_shipping_city_same'].to_numpy(na_value=np.nan)==True)\",\n",
       " 'Rule374': \"(X['is_billing_shipping_city_same'].to_numpy(na_value=np.nan)==True)\",\n",
       " 'Rule375': \"(X['sim_sc_ml'].to_numpy(na_value=np.nan)>0.5)\",\n",
       " 'Rule376': \"(X['is_billing_shipping_city_same'].to_numpy(na_value=np.nan)==True)\",\n",
       " 'Rule377': \"(X['sim_sc_ml'].to_numpy(na_value=np.nan)>0.5)\",\n",
       " 'Rule378': \"(X['account_number_avg_order_total_per_account_number_1day'].to_numpy(na_value=np.nan)>1.0)\",\n",
       " 'Rule379': \"(X['sim_sc_ml'].to_numpy(na_value=np.nan)>0.5)\",\n",
       " 'Rule380': \"(X['is_billing_shipping_city_same'].to_numpy(na_value=np.nan)==True)\",\n",
       " 'Rule381': \"(X['is_billing_shipping_city_same'].to_numpy(na_value=np.nan)==True)\",\n",
       " 'Rule382': \"(X['account_number_avg_order_total_per_account_number_1day'].to_numpy(na_value=np.nan)>1.0)\",\n",
       " 'Rule383': \"(X['sim_sc_ml'].to_numpy(na_value=np.nan)>0.5)\",\n",
       " 'Rule384': \"(X['account_number_avg_order_total_per_account_number_1day'].to_numpy(na_value=np.nan)>1.0)\",\n",
       " 'Rule385': \"(X['account_number_avg_order_total_per_account_number_1day'].to_numpy(na_value=np.nan)>1.0)\",\n",
       " 'Rule386': \"(X['sim_sc_ml'].to_numpy(na_value=np.nan)>0.5)\",\n",
       " 'Rule387': \"(X['is_billing_shipping_city_same'].to_numpy(na_value=np.nan)==True)\",\n",
       " 'Rule388': \"(X['sim_sc_ml'].to_numpy(na_value=np.nan)>0.5)\",\n",
       " 'Rule389': \"(X['account_number_avg_order_total_per_account_number_1day'].to_numpy(na_value=np.nan)>1.0)\",\n",
       " 'Rule390': \"(X['sim_sc_ml'].to_numpy(na_value=np.nan)>0.5)\",\n",
       " 'Rule391': \"(X['sim_sc_ml'].to_numpy(na_value=np.nan)>0.5)\",\n",
       " 'Rule392': \"(X['is_billing_shipping_city_same'].to_numpy(na_value=np.nan)==True)\",\n",
       " 'Rule393': \"(X['account_number_avg_order_total_per_account_number_1day'].to_numpy(na_value=np.nan)>1.0)\",\n",
       " 'Rule394': \"(X['is_billing_shipping_city_same'].to_numpy(na_value=np.nan)==True)\",\n",
       " 'Rule395': \"(X['is_billing_shipping_city_same'].to_numpy(na_value=np.nan)==True)\",\n",
       " 'Rule396': \"(X['is_billing_shipping_city_same'].to_numpy(na_value=np.nan)==True)\",\n",
       " 'Rule397': \"(X['is_billing_shipping_city_same'].to_numpy(na_value=np.nan)==True)\",\n",
       " 'Rule398': \"(X['is_billing_shipping_city_same'].to_numpy(na_value=np.nan)==True)\",\n",
       " 'Rule399': \"(X['sim_sc_ml'].to_numpy(na_value=np.nan)>0.5)\",\n",
       " 'Rule400': \"(X['sim_sc_ml'].to_numpy(na_value=np.nan)>0.5)\",\n",
       " 'Rule401': \"(X['account_number_avg_order_total_per_account_number_1day'].to_numpy(na_value=np.nan)>1.0)\",\n",
       " 'Rule402': \"(X['sim_sc_ml'].to_numpy(na_value=np.nan)>0.5)\",\n",
       " 'Rule403': \"(X['is_billing_shipping_city_same'].to_numpy(na_value=np.nan)==True)\",\n",
       " 'Rule404': \"(X['account_number_avg_order_total_per_account_number_1day'].to_numpy(na_value=np.nan)>1.0)\",\n",
       " 'Rule405': \"(X['account_number_avg_order_total_per_account_number_1day'].to_numpy(na_value=np.nan)>1.0)\",\n",
       " 'Rule406': \"(X['is_billing_shipping_city_same'].to_numpy(na_value=np.nan)==True)\",\n",
       " 'Rule407': \"(X['sim_sc_ml'].to_numpy(na_value=np.nan)>0.5)\",\n",
       " 'Rule408': \"(X['sim_sc_ml'].to_numpy(na_value=np.nan)>0.5)\",\n",
       " 'Rule409': \"(X['is_billing_shipping_city_same'].to_numpy(na_value=np.nan)==True)\",\n",
       " 'Rule410': \"(X['account_number_avg_order_total_per_account_number_1day'].to_numpy(na_value=np.nan)>1.0)\",\n",
       " 'Rule411': \"(X['is_billing_shipping_city_same'].to_numpy(na_value=np.nan)==True)\",\n",
       " 'Rule412': \"(X['sim_sc_ml'].to_numpy(na_value=np.nan)>0.5)\",\n",
       " 'Rule413': \"(X['sim_sc_ml'].to_numpy(na_value=np.nan)>0.5)\",\n",
       " 'Rule414': \"(X['is_billing_shipping_city_same'].to_numpy(na_value=np.nan)==True)\",\n",
       " 'Rule415': \"(X['is_billing_shipping_city_same'].to_numpy(na_value=np.nan)==True)\",\n",
       " 'Rule416': \"(X['sim_sc_ml'].to_numpy(na_value=np.nan)>0.5)\",\n",
       " 'Rule417': \"(X['sim_sc_ml'].to_numpy(na_value=np.nan)>0.5)\",\n",
       " 'Rule418': \"(X['account_number_avg_order_total_per_account_number_1day'].to_numpy(na_value=np.nan)>1.0)\",\n",
       " 'Rule419': \"(X['account_number_avg_order_total_per_account_number_1day'].to_numpy(na_value=np.nan)>1.0)\",\n",
       " 'Rule420': \"(X['sim_sc_ml'].to_numpy(na_value=np.nan)>0.5)\",\n",
       " 'Rule421': \"(X['account_number_avg_order_total_per_account_number_1day'].to_numpy(na_value=np.nan)>1.0)\",\n",
       " 'Rule422': \"(X['sim_sc_ml'].to_numpy(na_value=np.nan)>0.5)\",\n",
       " 'Rule423': \"(X['account_number_avg_order_total_per_account_number_1day'].to_numpy(na_value=np.nan)>1.0)\",\n",
       " 'Rule424': \"(X['is_billing_shipping_city_same'].to_numpy(na_value=np.nan)==True)\",\n",
       " 'Rule425': \"(X['account_number_avg_order_total_per_account_number_1day'].to_numpy(na_value=np.nan)>1.0)\",\n",
       " 'Rule426': \"(X['sim_sc_ml'].to_numpy(na_value=np.nan)>0.5)\",\n",
       " 'Rule427': \"(X['is_billing_shipping_city_same'].to_numpy(na_value=np.nan)==True)\",\n",
       " 'Rule428': \"(X['is_billing_shipping_city_same'].to_numpy(na_value=np.nan)==True)\",\n",
       " 'Rule429': \"(X['account_number_avg_order_total_per_account_number_1day'].to_numpy(na_value=np.nan)>1.0)\",\n",
       " 'Rule430': \"(X['sim_sc_ml'].to_numpy(na_value=np.nan)>0.5)\",\n",
       " 'Rule431': \"(X['is_billing_shipping_city_same'].to_numpy(na_value=np.nan)==True)\",\n",
       " 'Rule432': \"(X['account_number_avg_order_total_per_account_number_1day'].to_numpy(na_value=np.nan)>1.0)\",\n",
       " 'Rule433': \"(X['account_number_avg_order_total_per_account_number_1day'].to_numpy(na_value=np.nan)>1.0)\",\n",
       " 'Rule434': \"(X['sim_sc_ml'].to_numpy(na_value=np.nan)>0.5)\",\n",
       " 'Rule435': \"(X['account_number_avg_order_total_per_account_number_1day'].to_numpy(na_value=np.nan)>1.0)\",\n",
       " 'Rule436': \"(X['account_number_avg_order_total_per_account_number_1day'].to_numpy(na_value=np.nan)>1.0)\",\n",
       " 'Rule437': \"(X['account_number_avg_order_total_per_account_number_1day'].to_numpy(na_value=np.nan)>1.0)\",\n",
       " 'Rule438': \"(X['sim_sc_ml'].to_numpy(na_value=np.nan)>0.5)\",\n",
       " 'Rule439': \"(X['account_number_avg_order_total_per_account_number_1day'].to_numpy(na_value=np.nan)>1.0)\",\n",
       " 'Rule440': \"(X['account_number_avg_order_total_per_account_number_1day'].to_numpy(na_value=np.nan)>1.0)\",\n",
       " 'Rule441': \"(X['account_number_avg_order_total_per_account_number_1day'].to_numpy(na_value=np.nan)>1.0)\",\n",
       " 'Rule442': \"(X['sim_sc_ml'].to_numpy(na_value=np.nan)>0.5)\",\n",
       " 'Rule443': \"(X['sim_sc_ml'].to_numpy(na_value=np.nan)>0.5)\",\n",
       " 'Rule444': \"(X['account_number_avg_order_total_per_account_number_1day'].to_numpy(na_value=np.nan)>1.0)\",\n",
       " 'Rule445': \"(X['account_number_avg_order_total_per_account_number_1day'].to_numpy(na_value=np.nan)>1.0)\",\n",
       " 'Rule446': \"(X['is_billing_shipping_city_same'].to_numpy(na_value=np.nan)==True)\",\n",
       " 'Rule447': \"(X['account_number_avg_order_total_per_account_number_1day'].to_numpy(na_value=np.nan)>1.0)\",\n",
       " 'Rule448': \"(X['sim_sc_ml'].to_numpy(na_value=np.nan)>0.5)\",\n",
       " 'Rule449': \"(X['sim_sc_ml'].to_numpy(na_value=np.nan)>0.5)\",\n",
       " 'Rule450': \"(X['account_number_avg_order_total_per_account_number_1day'].to_numpy(na_value=np.nan)>1.0)\",\n",
       " 'Rule451': \"(X['sim_sc_ml'].to_numpy(na_value=np.nan)>0.5)\",\n",
       " 'Rule452': \"(X['is_billing_shipping_city_same'].to_numpy(na_value=np.nan)==True)\",\n",
       " 'Rule453': \"(X['sim_sc_ml'].to_numpy(na_value=np.nan)>0.5)\",\n",
       " 'Rule454': \"(X['is_billing_shipping_city_same'].to_numpy(na_value=np.nan)==True)\",\n",
       " 'Rule455': \"(X['sim_sc_ml'].to_numpy(na_value=np.nan)>0.5)\",\n",
       " 'Rule456': \"(X['is_billing_shipping_city_same'].to_numpy(na_value=np.nan)==True)\",\n",
       " 'Rule457': \"(X['account_number_avg_order_total_per_account_number_1day'].to_numpy(na_value=np.nan)>1.0)\",\n",
       " 'Rule458': \"(X['account_number_avg_order_total_per_account_number_1day'].to_numpy(na_value=np.nan)>1.0)\",\n",
       " 'Rule459': \"(X['account_number_avg_order_total_per_account_number_1day'].to_numpy(na_value=np.nan)>1.0)\",\n",
       " 'Rule460': \"(X['account_number_avg_order_total_per_account_number_1day'].to_numpy(na_value=np.nan)>1.0)\",\n",
       " 'Rule461': \"(X['account_number_avg_order_total_per_account_number_1day'].to_numpy(na_value=np.nan)>1.0)\",\n",
       " 'Rule462': \"(X['sim_sc_ml'].to_numpy(na_value=np.nan)>0.5)\",\n",
       " 'Rule463': \"(X['account_number_avg_order_total_per_account_number_1day'].to_numpy(na_value=np.nan)>1.0)\",\n",
       " 'Rule464': \"(X['sim_sc_ml'].to_numpy(na_value=np.nan)>0.5)\",\n",
       " 'Rule465': \"(X['sim_sc_ml'].to_numpy(na_value=np.nan)>0.5)\",\n",
       " 'Rule466': \"(X['sim_sc_ml'].to_numpy(na_value=np.nan)>0.5)\",\n",
       " 'Rule467': \"(X['account_number_avg_order_total_per_account_number_1day'].to_numpy(na_value=np.nan)>1.0)\",\n",
       " 'Rule468': \"(X['account_number_avg_order_total_per_account_number_1day'].to_numpy(na_value=np.nan)>1.0)\",\n",
       " 'Rule469': \"(X['account_number_avg_order_total_per_account_number_1day'].to_numpy(na_value=np.nan)>1.0)\",\n",
       " 'Rule470': \"(X['is_billing_shipping_city_same'].to_numpy(na_value=np.nan)==True)\",\n",
       " 'Rule471': \"(X['account_number_avg_order_total_per_account_number_1day'].to_numpy(na_value=np.nan)>1.0)\",\n",
       " 'Rule472': \"(X['sim_sc_ml'].to_numpy(na_value=np.nan)>0.5)\",\n",
       " 'Rule473': \"(X['sim_sc_ml'].to_numpy(na_value=np.nan)>0.5)\",\n",
       " 'Rule474': \"(X['is_billing_shipping_city_same'].to_numpy(na_value=np.nan)==True)\",\n",
       " 'Rule475': \"(X['is_billing_shipping_city_same'].to_numpy(na_value=np.nan)==True)\",\n",
       " 'Rule476': \"(X['account_number_avg_order_total_per_account_number_1day'].to_numpy(na_value=np.nan)>1.0)\",\n",
       " 'Rule477': \"(X['sim_sc_ml'].to_numpy(na_value=np.nan)>0.5)\",\n",
       " 'Rule478': \"(X['account_number_avg_order_total_per_account_number_1day'].to_numpy(na_value=np.nan)>1.0)\",\n",
       " 'Rule479': \"(X['account_number_avg_order_total_per_account_number_1day'].to_numpy(na_value=np.nan)>1.0)\",\n",
       " 'Rule480': \"(X['sim_sc_ml'].to_numpy(na_value=np.nan)>0.5)\",\n",
       " 'Rule481': \"(X['sim_sc_ml'].to_numpy(na_value=np.nan)>0.5)\",\n",
       " 'Rule482': \"(X['is_billing_shipping_city_same'].to_numpy(na_value=np.nan)==True)\",\n",
       " 'Rule483': \"(X['is_billing_shipping_city_same'].to_numpy(na_value=np.nan)==True)\",\n",
       " 'Rule484': \"(X['sim_sc_ml'].to_numpy(na_value=np.nan)>0.5)\",\n",
       " 'Rule485': \"(X['sim_sc_ml'].to_numpy(na_value=np.nan)>0.5)\",\n",
       " 'Rule486': \"(X['sim_sc_ml'].to_numpy(na_value=np.nan)>0.5)\",\n",
       " 'Rule487': \"(X['account_number_avg_order_total_per_account_number_1day'].to_numpy(na_value=np.nan)>1.0)\",\n",
       " 'Rule488': \"(X['sim_sc_ml'].to_numpy(na_value=np.nan)>0.5)\",\n",
       " 'Rule489': \"(X['sim_sc_ml'].to_numpy(na_value=np.nan)>0.5)\",\n",
       " 'Rule490': \"(X['is_billing_shipping_city_same'].to_numpy(na_value=np.nan)==True)\",\n",
       " 'Rule491': \"(X['account_number_avg_order_total_per_account_number_1day'].to_numpy(na_value=np.nan)>1.0)\",\n",
       " 'Rule492': \"(X['is_billing_shipping_city_same'].to_numpy(na_value=np.nan)==True)\",\n",
       " 'Rule493': \"(X['sim_sc_ml'].to_numpy(na_value=np.nan)>0.5)\",\n",
       " 'Rule494': \"(X['account_number_avg_order_total_per_account_number_1day'].to_numpy(na_value=np.nan)>1.0)\",\n",
       " 'Rule495': \"(X['is_billing_shipping_city_same'].to_numpy(na_value=np.nan)==True)\",\n",
       " 'Rule496': \"(X['sim_sc_ml'].to_numpy(na_value=np.nan)>0.5)\",\n",
       " 'Rule497': \"(X['account_number_avg_order_total_per_account_number_1day'].to_numpy(na_value=np.nan)>1.0)\",\n",
       " 'Rule498': \"(X['account_number_avg_order_total_per_account_number_1day'].to_numpy(na_value=np.nan)>1.0)\",\n",
       " 'Rule499': \"(X['sim_sc_ml'].to_numpy(na_value=np.nan)>0.5)\",\n",
       " 'Rule500': \"(X['is_billing_shipping_city_same'].to_numpy(na_value=np.nan)==True)\",\n",
       " 'Rule501': \"(X['sim_sc_ml'].to_numpy(na_value=np.nan)>0.5)\",\n",
       " 'Rule502': \"(X['sim_sc_ml'].to_numpy(na_value=np.nan)>0.5)\",\n",
       " 'Rule503': \"(X['is_billing_shipping_city_same'].to_numpy(na_value=np.nan)==True)\",\n",
       " 'Rule504': \"(X['account_number_avg_order_total_per_account_number_1day'].to_numpy(na_value=np.nan)>1.0)\",\n",
       " 'Rule505': \"(X['account_number_avg_order_total_per_account_number_1day'].to_numpy(na_value=np.nan)>1.0)\",\n",
       " 'Rule506': \"(X['sim_sc_ml'].to_numpy(na_value=np.nan)>0.5)\",\n",
       " 'Rule507': \"(X['account_number_avg_order_total_per_account_number_1day'].to_numpy(na_value=np.nan)>1.0)\",\n",
       " 'Rule508': \"(X['sim_sc_ml'].to_numpy(na_value=np.nan)>0.5)\",\n",
       " 'Rule509': \"(X['is_billing_shipping_city_same'].to_numpy(na_value=np.nan)==True)\",\n",
       " 'Rule510': \"(X['sim_sc_ml'].to_numpy(na_value=np.nan)>0.5)\",\n",
       " 'Rule511': \"(X['sim_sc_ml'].to_numpy(na_value=np.nan)>0.5)\",\n",
       " 'Rule512': \"(X['account_number_avg_order_total_per_account_number_1day'].to_numpy(na_value=np.nan)>1.0)\",\n",
       " 'Rule513': \"(X['account_number_avg_order_total_per_account_number_1day'].to_numpy(na_value=np.nan)>1.0)\",\n",
       " 'Rule514': \"(X['sim_sc_ml'].to_numpy(na_value=np.nan)>0.5)\",\n",
       " 'Rule515': \"(X['sim_sc_ml'].to_numpy(na_value=np.nan)>0.5)\",\n",
       " 'Rule516': \"(X['sim_sc_ml'].to_numpy(na_value=np.nan)>0.5)\",\n",
       " 'Rule517': \"(X['account_number_avg_order_total_per_account_number_1day'].to_numpy(na_value=np.nan)>1.0)\",\n",
       " 'Rule518': \"(X['is_billing_shipping_city_same'].to_numpy(na_value=np.nan)==True)\",\n",
       " 'Rule519': \"(X['account_number_avg_order_total_per_account_number_1day'].to_numpy(na_value=np.nan)>1.0)\",\n",
       " 'Rule520': \"(X['account_number_avg_order_total_per_account_number_1day'].to_numpy(na_value=np.nan)>1.0)\",\n",
       " 'Rule521': \"(X['account_number_avg_order_total_per_account_number_1day'].to_numpy(na_value=np.nan)>1.0)\",\n",
       " 'Rule522': \"(X['sim_sc_ml'].to_numpy(na_value=np.nan)>0.5)\",\n",
       " 'Rule523': \"(X['sim_sc_ml'].to_numpy(na_value=np.nan)>0.5)\",\n",
       " 'Rule524': \"(X['is_billing_shipping_city_same'].to_numpy(na_value=np.nan)==True)\",\n",
       " 'Rule525': \"(X['is_billing_shipping_city_same'].to_numpy(na_value=np.nan)==True)\",\n",
       " 'Rule526': \"(X['is_billing_shipping_city_same'].to_numpy(na_value=np.nan)==True)\",\n",
       " 'Rule527': \"(X['is_billing_shipping_city_same'].to_numpy(na_value=np.nan)==True)\",\n",
       " 'Rule528': \"(X['account_number_avg_order_total_per_account_number_1day'].to_numpy(na_value=np.nan)>1.0)\",\n",
       " 'Rule529': \"(X['account_number_avg_order_total_per_account_number_1day'].to_numpy(na_value=np.nan)>1.0)\",\n",
       " 'Rule530': \"(X['sim_sc_ml'].to_numpy(na_value=np.nan)>0.5)\",\n",
       " 'Rule531': \"(X['sim_sc_ml'].to_numpy(na_value=np.nan)>0.5)\",\n",
       " 'Rule532': \"(X['is_billing_shipping_city_same'].to_numpy(na_value=np.nan)==True)\",\n",
       " 'Rule533': \"(X['is_billing_shipping_city_same'].to_numpy(na_value=np.nan)==True)\",\n",
       " 'Rule534': \"(X['is_billing_shipping_city_same'].to_numpy(na_value=np.nan)==True)\",\n",
       " 'Rule535': \"(X['account_number_avg_order_total_per_account_number_1day'].to_numpy(na_value=np.nan)>1.0)\",\n",
       " 'Rule536': \"(X['is_billing_shipping_city_same'].to_numpy(na_value=np.nan)==True)\",\n",
       " 'Rule537': \"(X['is_billing_shipping_city_same'].to_numpy(na_value=np.nan)==True)\",\n",
       " 'Rule538': \"(X['sim_sc_ml'].to_numpy(na_value=np.nan)>0.5)\",\n",
       " 'Rule539': \"(X['is_billing_shipping_city_same'].to_numpy(na_value=np.nan)==True)\",\n",
       " 'Rule540': \"(X['sim_sc_ml'].to_numpy(na_value=np.nan)>0.5)\",\n",
       " 'Rule541': \"(X['account_number_avg_order_total_per_account_number_1day'].to_numpy(na_value=np.nan)>1.0)\",\n",
       " 'Rule542': \"(X['account_number_avg_order_total_per_account_number_1day'].to_numpy(na_value=np.nan)>1.0)\",\n",
       " 'Rule543': \"(X['account_number_avg_order_total_per_account_number_1day'].to_numpy(na_value=np.nan)>1.0)\",\n",
       " 'Rule544': \"(X['account_number_avg_order_total_per_account_number_1day'].to_numpy(na_value=np.nan)>1.0)\",\n",
       " 'Rule545': \"(X['account_number_avg_order_total_per_account_number_1day'].to_numpy(na_value=np.nan)>1.0)\",\n",
       " 'Rule546': \"(X['account_number_avg_order_total_per_account_number_1day'].to_numpy(na_value=np.nan)>1.0)\",\n",
       " 'Rule547': \"(X['account_number_avg_order_total_per_account_number_1day'].to_numpy(na_value=np.nan)>1.0)\",\n",
       " 'Rule548': \"(X['is_billing_shipping_city_same'].to_numpy(na_value=np.nan)==True)\",\n",
       " 'Rule549': \"(X['sim_sc_ml'].to_numpy(na_value=np.nan)>0.5)\",\n",
       " 'Rule550': \"(X['sim_sc_ml'].to_numpy(na_value=np.nan)>0.5)\",\n",
       " 'Rule551': \"(X['sim_sc_ml'].to_numpy(na_value=np.nan)>0.5)\",\n",
       " 'Rule552': \"(X['sim_sc_ml'].to_numpy(na_value=np.nan)>0.5)\",\n",
       " 'Rule553': \"(X['sim_sc_ml'].to_numpy(na_value=np.nan)>0.5)\",\n",
       " 'Rule554': \"(X['sim_sc_ml'].to_numpy(na_value=np.nan)>0.5)\",\n",
       " 'Rule555': \"(X['account_number_avg_order_total_per_account_number_1day'].to_numpy(na_value=np.nan)>1.0)\",\n",
       " 'Rule556': \"(X['sim_sc_ml'].to_numpy(na_value=np.nan)>0.5)\",\n",
       " 'Rule557': \"(X['is_billing_shipping_city_same'].to_numpy(na_value=np.nan)==True)\",\n",
       " 'Rule558': \"(X['sim_sc_ml'].to_numpy(na_value=np.nan)>0.5)\",\n",
       " 'Rule559': \"(X['account_number_avg_order_total_per_account_number_1day'].to_numpy(na_value=np.nan)>1.0)\",\n",
       " 'Rule560': \"(X['sim_sc_ml'].to_numpy(na_value=np.nan)>0.5)\",\n",
       " 'Rule561': \"(X['account_number_avg_order_total_per_account_number_1day'].to_numpy(na_value=np.nan)>1.0)\",\n",
       " 'Rule562': \"(X['account_number_avg_order_total_per_account_number_1day'].to_numpy(na_value=np.nan)>1.0)\",\n",
       " 'Rule563': \"(X['sim_sc_ml'].to_numpy(na_value=np.nan)>0.5)\",\n",
       " 'Rule564': \"(X['account_number_avg_order_total_per_account_number_1day'].to_numpy(na_value=np.nan)>1.0)\",\n",
       " 'Rule565': \"(X['sim_sc_ml'].to_numpy(na_value=np.nan)>0.5)\",\n",
       " 'Rule566': \"(X['account_number_avg_order_total_per_account_number_1day'].to_numpy(na_value=np.nan)>1.0)\",\n",
       " 'Rule567': \"(X['sim_sc_ml'].to_numpy(na_value=np.nan)>0.5)\",\n",
       " 'Rule568': \"(X['account_number_avg_order_total_per_account_number_1day'].to_numpy(na_value=np.nan)>1.0)\",\n",
       " 'Rule569': \"(X['is_billing_shipping_city_same'].to_numpy(na_value=np.nan)==True)\",\n",
       " 'Rule570': \"(X['sim_sc_ml'].to_numpy(na_value=np.nan)>0.5)\",\n",
       " 'Rule571': \"(X['account_number_avg_order_total_per_account_number_1day'].to_numpy(na_value=np.nan)>1.0)\",\n",
       " 'Rule572': \"(X['is_billing_shipping_city_same'].to_numpy(na_value=np.nan)==True)\",\n",
       " 'Rule573': \"(X['sim_sc_ml'].to_numpy(na_value=np.nan)>0.5)\",\n",
       " 'Rule574': \"(X['sim_sc_ml'].to_numpy(na_value=np.nan)>0.5)\",\n",
       " 'Rule575': \"(X['is_billing_shipping_city_same'].to_numpy(na_value=np.nan)==True)\",\n",
       " 'Rule576': \"(X['account_number_avg_order_total_per_account_number_1day'].to_numpy(na_value=np.nan)>1.0)\",\n",
       " 'Rule577': \"(X['account_number_avg_order_total_per_account_number_1day'].to_numpy(na_value=np.nan)>1.0)\",\n",
       " 'Rule578': \"(X['sim_sc_ml'].to_numpy(na_value=np.nan)>0.5)\",\n",
       " 'Rule579': \"(X['is_billing_shipping_city_same'].to_numpy(na_value=np.nan)==True)\",\n",
       " 'Rule580': \"(X['is_billing_shipping_city_same'].to_numpy(na_value=np.nan)==True)\",\n",
       " 'Rule581': \"(X['account_number_avg_order_total_per_account_number_1day'].to_numpy(na_value=np.nan)>1.0)\",\n",
       " 'Rule582': \"(X['is_billing_shipping_city_same'].to_numpy(na_value=np.nan)==True)\",\n",
       " 'Rule583': \"(X['is_billing_shipping_city_same'].to_numpy(na_value=np.nan)==True)\",\n",
       " 'Rule584': \"(X['is_billing_shipping_city_same'].to_numpy(na_value=np.nan)==True)\",\n",
       " 'Rule585': \"(X['sim_sc_ml'].to_numpy(na_value=np.nan)>0.5)\",\n",
       " 'Rule586': \"(X['sim_sc_ml'].to_numpy(na_value=np.nan)>0.5)\",\n",
       " 'Rule587': \"(X['account_number_avg_order_total_per_account_number_1day'].to_numpy(na_value=np.nan)>1.0)\",\n",
       " 'Rule588': \"(X['is_billing_shipping_city_same'].to_numpy(na_value=np.nan)==True)\",\n",
       " 'Rule589': \"(X['account_number_avg_order_total_per_account_number_1day'].to_numpy(na_value=np.nan)>1.0)\",\n",
       " 'Rule590': \"(X['sim_sc_ml'].to_numpy(na_value=np.nan)>0.5)\",\n",
       " 'Rule591': \"(X['sim_sc_ml'].to_numpy(na_value=np.nan)>0.5)\",\n",
       " 'Rule592': \"(X['sim_sc_ml'].to_numpy(na_value=np.nan)>0.5)\",\n",
       " 'Rule593': \"(X['sim_sc_ml'].to_numpy(na_value=np.nan)>0.5)\",\n",
       " 'Rule594': \"(X['is_billing_shipping_city_same'].to_numpy(na_value=np.nan)==True)\",\n",
       " 'Rule595': \"(X['sim_sc_ml'].to_numpy(na_value=np.nan)>0.5)\",\n",
       " 'Rule596': \"(X['is_billing_shipping_city_same'].to_numpy(na_value=np.nan)==True)\",\n",
       " 'Rule597': \"(X['sim_sc_ml'].to_numpy(na_value=np.nan)>0.5)\",\n",
       " 'Rule598': \"(X['account_number_avg_order_total_per_account_number_1day'].to_numpy(na_value=np.nan)>1.0)\",\n",
       " 'Rule599': \"(X['account_number_avg_order_total_per_account_number_1day'].to_numpy(na_value=np.nan)>1.0)\",\n",
       " 'Rule600': \"(X['sim_sc_ml'].to_numpy(na_value=np.nan)>0.5)\",\n",
       " 'Rule601': \"(X['is_billing_shipping_city_same'].to_numpy(na_value=np.nan)==True)\",\n",
       " 'Rule602': \"(X['sim_sc_ml'].to_numpy(na_value=np.nan)>0.5)\",\n",
       " 'Rule603': \"(X['sim_sc_ml'].to_numpy(na_value=np.nan)>0.5)\",\n",
       " 'Rule604': \"(X['is_billing_shipping_city_same'].to_numpy(na_value=np.nan)==True)\",\n",
       " 'Rule605': \"(X['is_billing_shipping_city_same'].to_numpy(na_value=np.nan)==True)\",\n",
       " 'Rule606': \"(X['is_billing_shipping_city_same'].to_numpy(na_value=np.nan)==True)\",\n",
       " 'Rule607': \"(X['is_billing_shipping_city_same'].to_numpy(na_value=np.nan)==True)\",\n",
       " 'Rule608': \"(X['sim_sc_ml'].to_numpy(na_value=np.nan)>0.5)\",\n",
       " 'Rule609': \"(X['account_number_avg_order_total_per_account_number_1day'].to_numpy(na_value=np.nan)>1.0)\",\n",
       " 'Rule610': \"(X['is_billing_shipping_city_same'].to_numpy(na_value=np.nan)==True)\",\n",
       " 'Rule611': \"(X['is_billing_shipping_city_same'].to_numpy(na_value=np.nan)==True)\",\n",
       " 'Rule612': \"(X['is_billing_shipping_city_same'].to_numpy(na_value=np.nan)==True)\",\n",
       " 'Rule613': \"(X['account_number_avg_order_total_per_account_number_1day'].to_numpy(na_value=np.nan)>1.0)\",\n",
       " 'Rule614': \"(X['is_billing_shipping_city_same'].to_numpy(na_value=np.nan)==True)\",\n",
       " 'Rule615': \"(X['sim_sc_ml'].to_numpy(na_value=np.nan)>0.5)\",\n",
       " 'Rule616': \"(X['is_billing_shipping_city_same'].to_numpy(na_value=np.nan)==True)\",\n",
       " 'Rule617': \"(X['is_billing_shipping_city_same'].to_numpy(na_value=np.nan)==True)\",\n",
       " 'Rule618': \"(X['account_number_avg_order_total_per_account_number_1day'].to_numpy(na_value=np.nan)>1.0)\",\n",
       " 'Rule619': \"(X['sim_sc_ml'].to_numpy(na_value=np.nan)>0.5)\",\n",
       " 'Rule620': \"(X['is_billing_shipping_city_same'].to_numpy(na_value=np.nan)==True)\",\n",
       " 'Rule621': \"(X['account_number_avg_order_total_per_account_number_1day'].to_numpy(na_value=np.nan)>1.0)\",\n",
       " 'Rule622': \"(X['sim_sc_ml'].to_numpy(na_value=np.nan)>0.5)\",\n",
       " 'Rule623': \"(X['is_billing_shipping_city_same'].to_numpy(na_value=np.nan)==True)\",\n",
       " 'Rule624': \"(X['account_number_avg_order_total_per_account_number_1day'].to_numpy(na_value=np.nan)>1.0)\",\n",
       " 'Rule625': \"(X['account_number_avg_order_total_per_account_number_1day'].to_numpy(na_value=np.nan)>1.0)\",\n",
       " 'Rule626': \"(X['account_number_avg_order_total_per_account_number_1day'].to_numpy(na_value=np.nan)>1.0)\",\n",
       " 'Rule627': \"(X['sim_sc_ml'].to_numpy(na_value=np.nan)>0.5)\",\n",
       " 'Rule628': \"(X['account_number_avg_order_total_per_account_number_1day'].to_numpy(na_value=np.nan)>1.0)\",\n",
       " 'Rule629': \"(X['is_billing_shipping_city_same'].to_numpy(na_value=np.nan)==True)\",\n",
       " 'Rule630': \"(X['account_number_avg_order_total_per_account_number_1day'].to_numpy(na_value=np.nan)>1.0)\",\n",
       " 'Rule631': \"(X['is_billing_shipping_city_same'].to_numpy(na_value=np.nan)==True)\",\n",
       " 'Rule632': \"(X['account_number_avg_order_total_per_account_number_1day'].to_numpy(na_value=np.nan)>1.0)\",\n",
       " 'Rule633': \"(X['sim_sc_ml'].to_numpy(na_value=np.nan)>0.5)\",\n",
       " 'Rule634': \"(X['account_number_avg_order_total_per_account_number_1day'].to_numpy(na_value=np.nan)>1.0)\",\n",
       " 'Rule635': \"(X['account_number_avg_order_total_per_account_number_1day'].to_numpy(na_value=np.nan)>1.0)\",\n",
       " 'Rule636': \"(X['account_number_avg_order_total_per_account_number_1day'].to_numpy(na_value=np.nan)>1.0)\",\n",
       " 'Rule637': \"(X['is_billing_shipping_city_same'].to_numpy(na_value=np.nan)==True)\",\n",
       " 'Rule638': \"(X['sim_sc_ml'].to_numpy(na_value=np.nan)>0.5)\",\n",
       " 'Rule639': \"(X['account_number_avg_order_total_per_account_number_1day'].to_numpy(na_value=np.nan)>1.0)\",\n",
       " 'Rule640': \"(X['is_billing_shipping_city_same'].to_numpy(na_value=np.nan)==True)\",\n",
       " 'Rule641': \"(X['sim_sc_ml'].to_numpy(na_value=np.nan)>0.5)\",\n",
       " 'Rule642': \"(X['sim_sc_ml'].to_numpy(na_value=np.nan)>0.5)\",\n",
       " 'Rule643': \"(X['sim_sc_ml'].to_numpy(na_value=np.nan)>0.5)\",\n",
       " 'Rule644': \"(X['sim_sc_ml'].to_numpy(na_value=np.nan)>0.5)\",\n",
       " 'Rule645': \"(X['sim_sc_ml'].to_numpy(na_value=np.nan)>0.5)\",\n",
       " 'Rule646': \"(X['account_number_avg_order_total_per_account_number_1day'].to_numpy(na_value=np.nan)>1.0)\",\n",
       " 'Rule647': \"(X['is_billing_shipping_city_same'].to_numpy(na_value=np.nan)==True)\",\n",
       " 'Rule648': \"(X['account_number_avg_order_total_per_account_number_1day'].to_numpy(na_value=np.nan)>1.0)\",\n",
       " 'Rule649': \"(X['is_billing_shipping_city_same'].to_numpy(na_value=np.nan)==True)\",\n",
       " 'Rule650': \"(X['account_number_avg_order_total_per_account_number_1day'].to_numpy(na_value=np.nan)>1.0)\",\n",
       " 'Rule651': \"(X['sim_sc_ml'].to_numpy(na_value=np.nan)>0.5)\",\n",
       " 'Rule652': \"(X['account_number_avg_order_total_per_account_number_1day'].to_numpy(na_value=np.nan)>1.0)\",\n",
       " 'Rule653': \"(X['is_billing_shipping_city_same'].to_numpy(na_value=np.nan)==True)\",\n",
       " 'Rule654': \"(X['is_billing_shipping_city_same'].to_numpy(na_value=np.nan)==True)\",\n",
       " 'Rule655': \"(X['account_number_avg_order_total_per_account_number_1day'].to_numpy(na_value=np.nan)>1.0)\",\n",
       " 'Rule656': \"(X['account_number_avg_order_total_per_account_number_1day'].to_numpy(na_value=np.nan)>1.0)\",\n",
       " 'Rule657': \"(X['is_billing_shipping_city_same'].to_numpy(na_value=np.nan)==True)\",\n",
       " 'Rule658': \"(X['is_billing_shipping_city_same'].to_numpy(na_value=np.nan)==True)\",\n",
       " 'Rule659': \"(X['sim_sc_ml'].to_numpy(na_value=np.nan)>0.5)\",\n",
       " 'Rule660': \"(X['sim_sc_ml'].to_numpy(na_value=np.nan)>0.5)\",\n",
       " 'Rule661': \"(X['sim_sc_ml'].to_numpy(na_value=np.nan)>0.5)\",\n",
       " 'Rule662': \"(X['is_billing_shipping_city_same'].to_numpy(na_value=np.nan)==True)\",\n",
       " 'Rule663': \"(X['account_number_avg_order_total_per_account_number_1day'].to_numpy(na_value=np.nan)>1.0)\",\n",
       " 'Rule664': \"(X['sim_sc_ml'].to_numpy(na_value=np.nan)>0.5)\",\n",
       " 'Rule665': \"(X['is_billing_shipping_city_same'].to_numpy(na_value=np.nan)==True)\",\n",
       " 'Rule666': \"(X['is_billing_shipping_city_same'].to_numpy(na_value=np.nan)==True)\",\n",
       " 'Rule667': \"(X['account_number_avg_order_total_per_account_number_1day'].to_numpy(na_value=np.nan)>1.0)\",\n",
       " 'Rule668': \"(X['account_number_avg_order_total_per_account_number_1day'].to_numpy(na_value=np.nan)>1.0)\",\n",
       " 'Rule669': \"(X['is_billing_shipping_city_same'].to_numpy(na_value=np.nan)==True)\",\n",
       " 'Rule670': \"(X['sim_sc_ml'].to_numpy(na_value=np.nan)>0.5)\",\n",
       " 'Rule671': \"(X['is_billing_shipping_city_same'].to_numpy(na_value=np.nan)==True)\",\n",
       " 'Rule672': \"(X['is_billing_shipping_city_same'].to_numpy(na_value=np.nan)==True)\",\n",
       " 'Rule673': \"(X['sim_sc_ml'].to_numpy(na_value=np.nan)>0.5)\",\n",
       " 'Rule674': \"(X['is_billing_shipping_city_same'].to_numpy(na_value=np.nan)==True)\",\n",
       " 'Rule675': \"(X['sim_sc_ml'].to_numpy(na_value=np.nan)>0.5)\",\n",
       " 'Rule676': \"(X['sim_sc_ml'].to_numpy(na_value=np.nan)>0.5)\",\n",
       " 'Rule677': \"(X['account_number_avg_order_total_per_account_number_1day'].to_numpy(na_value=np.nan)>1.0)\",\n",
       " 'Rule678': \"(X['sim_sc_ml'].to_numpy(na_value=np.nan)>0.5)\",\n",
       " 'Rule679': \"(X['sim_sc_ml'].to_numpy(na_value=np.nan)>0.5)\",\n",
       " 'Rule680': \"(X['account_number_avg_order_total_per_account_number_1day'].to_numpy(na_value=np.nan)>1.0)\",\n",
       " 'Rule681': \"(X['is_billing_shipping_city_same'].to_numpy(na_value=np.nan)==True)\",\n",
       " 'Rule682': \"(X['sim_sc_ml'].to_numpy(na_value=np.nan)>0.5)\",\n",
       " 'Rule683': \"(X['is_billing_shipping_city_same'].to_numpy(na_value=np.nan)==True)\",\n",
       " 'Rule684': \"(X['is_billing_shipping_city_same'].to_numpy(na_value=np.nan)==True)\",\n",
       " 'Rule685': \"(X['account_number_avg_order_total_per_account_number_1day'].to_numpy(na_value=np.nan)>1.0)\",\n",
       " 'Rule686': \"(X['sim_sc_ml'].to_numpy(na_value=np.nan)>0.5)\",\n",
       " 'Rule687': \"(X['account_number_avg_order_total_per_account_number_1day'].to_numpy(na_value=np.nan)>1.0)\",\n",
       " 'Rule688': \"(X['is_billing_shipping_city_same'].to_numpy(na_value=np.nan)==True)\",\n",
       " 'Rule689': \"(X['is_billing_shipping_city_same'].to_numpy(na_value=np.nan)==True)\",\n",
       " 'Rule690': \"(X['account_number_avg_order_total_per_account_number_1day'].to_numpy(na_value=np.nan)>1.0)\",\n",
       " 'Rule691': \"(X['account_number_avg_order_total_per_account_number_1day'].to_numpy(na_value=np.nan)>1.0)\",\n",
       " 'Rule692': \"(X['account_number_avg_order_total_per_account_number_1day'].to_numpy(na_value=np.nan)>1.0)\",\n",
       " 'Rule693': \"(X['sim_sc_ml'].to_numpy(na_value=np.nan)>0.5)\",\n",
       " 'Rule694': \"(X['sim_sc_ml'].to_numpy(na_value=np.nan)>0.5)\",\n",
       " 'Rule695': \"(X['sim_sc_ml'].to_numpy(na_value=np.nan)>0.5)\",\n",
       " 'Rule696': \"(X['is_billing_shipping_city_same'].to_numpy(na_value=np.nan)==True)\",\n",
       " 'Rule697': \"(X['account_number_avg_order_total_per_account_number_1day'].to_numpy(na_value=np.nan)>1.0)\",\n",
       " 'Rule698': \"(X['sim_sc_ml'].to_numpy(na_value=np.nan)>0.5)\",\n",
       " 'Rule699': \"(X['is_billing_shipping_city_same'].to_numpy(na_value=np.nan)==True)\",\n",
       " 'Rule700': \"(X['account_number_avg_order_total_per_account_number_1day'].to_numpy(na_value=np.nan)>1.0)\",\n",
       " 'Rule701': \"(X['sim_sc_ml'].to_numpy(na_value=np.nan)>0.5)\",\n",
       " 'Rule702': \"(X['sim_sc_ml'].to_numpy(na_value=np.nan)>0.5)\",\n",
       " 'Rule703': \"(X['is_billing_shipping_city_same'].to_numpy(na_value=np.nan)==True)\",\n",
       " 'Rule704': \"(X['is_billing_shipping_city_same'].to_numpy(na_value=np.nan)==True)\",\n",
       " 'Rule705': \"(X['is_billing_shipping_city_same'].to_numpy(na_value=np.nan)==True)\",\n",
       " 'Rule706': \"(X['account_number_avg_order_total_per_account_number_1day'].to_numpy(na_value=np.nan)>1.0)\",\n",
       " 'Rule707': \"(X['sim_sc_ml'].to_numpy(na_value=np.nan)>0.5)\",\n",
       " 'Rule708': \"(X['is_billing_shipping_city_same'].to_numpy(na_value=np.nan)==True)\",\n",
       " 'Rule709': \"(X['account_number_avg_order_total_per_account_number_1day'].to_numpy(na_value=np.nan)>1.0)\",\n",
       " 'Rule710': \"(X['account_number_avg_order_total_per_account_number_1day'].to_numpy(na_value=np.nan)>1.0)\",\n",
       " 'Rule711': \"(X['sim_sc_ml'].to_numpy(na_value=np.nan)>0.5)\",\n",
       " 'Rule712': \"(X['sim_sc_ml'].to_numpy(na_value=np.nan)>0.5)\",\n",
       " 'Rule713': \"(X['account_number_avg_order_total_per_account_number_1day'].to_numpy(na_value=np.nan)>1.0)\",\n",
       " 'Rule714': \"(X['sim_sc_ml'].to_numpy(na_value=np.nan)>0.5)\",\n",
       " 'Rule715': \"(X['is_billing_shipping_city_same'].to_numpy(na_value=np.nan)==True)\",\n",
       " 'Rule716': \"(X['is_billing_shipping_city_same'].to_numpy(na_value=np.nan)==True)\",\n",
       " 'Rule717': \"(X['account_number_avg_order_total_per_account_number_1day'].to_numpy(na_value=np.nan)>1.0)\",\n",
       " 'Rule718': \"(X['sim_sc_ml'].to_numpy(na_value=np.nan)>0.5)\",\n",
       " 'Rule719': \"(X['sim_sc_ml'].to_numpy(na_value=np.nan)>0.5)\",\n",
       " 'Rule720': \"(X['sim_sc_ml'].to_numpy(na_value=np.nan)>0.5)\",\n",
       " 'Rule721': \"(X['account_number_avg_order_total_per_account_number_1day'].to_numpy(na_value=np.nan)>1.0)\",\n",
       " 'Rule722': \"(X['account_number_avg_order_total_per_account_number_1day'].to_numpy(na_value=np.nan)>1.0)\",\n",
       " 'Rule723': \"(X['sim_sc_ml'].to_numpy(na_value=np.nan)>0.5)\",\n",
       " 'Rule724': \"(X['account_number_avg_order_total_per_account_number_1day'].to_numpy(na_value=np.nan)>1.0)\",\n",
       " 'Rule725': \"(X['sim_sc_ml'].to_numpy(na_value=np.nan)>0.5)\",\n",
       " 'Rule726': \"(X['is_billing_shipping_city_same'].to_numpy(na_value=np.nan)==True)\",\n",
       " 'Rule727': \"(X['account_number_avg_order_total_per_account_number_1day'].to_numpy(na_value=np.nan)>1.0)\",\n",
       " 'Rule728': \"(X['account_number_avg_order_total_per_account_number_1day'].to_numpy(na_value=np.nan)>1.0)\",\n",
       " 'Rule729': \"(X['sim_sc_ml'].to_numpy(na_value=np.nan)>0.5)\",\n",
       " 'Rule730': \"(X['is_billing_shipping_city_same'].to_numpy(na_value=np.nan)==True)\",\n",
       " 'Rule731': \"(X['account_number_avg_order_total_per_account_number_1day'].to_numpy(na_value=np.nan)>1.0)\",\n",
       " 'Rule732': \"(X['account_number_avg_order_total_per_account_number_1day'].to_numpy(na_value=np.nan)>1.0)\",\n",
       " 'Rule733': \"(X['sim_sc_ml'].to_numpy(na_value=np.nan)>0.5)\",\n",
       " 'Rule734': \"(X['account_number_avg_order_total_per_account_number_1day'].to_numpy(na_value=np.nan)>1.0)\",\n",
       " 'Rule735': \"(X['is_billing_shipping_city_same'].to_numpy(na_value=np.nan)==True)\",\n",
       " 'Rule736': \"(X['sim_sc_ml'].to_numpy(na_value=np.nan)>0.5)\",\n",
       " 'Rule737': \"(X['account_number_avg_order_total_per_account_number_1day'].to_numpy(na_value=np.nan)>1.0)\",\n",
       " 'Rule738': \"(X['sim_sc_ml'].to_numpy(na_value=np.nan)>0.5)\",\n",
       " 'Rule739': \"(X['account_number_avg_order_total_per_account_number_1day'].to_numpy(na_value=np.nan)>1.0)\",\n",
       " 'Rule740': \"(X['account_number_avg_order_total_per_account_number_1day'].to_numpy(na_value=np.nan)>1.0)\",\n",
       " 'Rule741': \"(X['sim_sc_ml'].to_numpy(na_value=np.nan)>0.5)\",\n",
       " 'Rule742': \"(X['account_number_avg_order_total_per_account_number_1day'].to_numpy(na_value=np.nan)>1.0)\",\n",
       " 'Rule743': \"(X['account_number_avg_order_total_per_account_number_1day'].to_numpy(na_value=np.nan)>1.0)\",\n",
       " 'Rule744': \"(X['sim_sc_ml'].to_numpy(na_value=np.nan)>0.5)\",\n",
       " 'Rule745': \"(X['is_billing_shipping_city_same'].to_numpy(na_value=np.nan)==True)\",\n",
       " 'Rule746': \"(X['sim_sc_ml'].to_numpy(na_value=np.nan)>0.5)\",\n",
       " 'Rule747': \"(X['account_number_avg_order_total_per_account_number_1day'].to_numpy(na_value=np.nan)>1.0)\",\n",
       " 'Rule748': \"(X['sim_sc_ml'].to_numpy(na_value=np.nan)>0.5)\",\n",
       " 'Rule749': \"(X['account_number_avg_order_total_per_account_number_1day'].to_numpy(na_value=np.nan)>1.0)\",\n",
       " 'Rule750': \"(X['is_billing_shipping_city_same'].to_numpy(na_value=np.nan)==True)\",\n",
       " 'Rule751': \"(X['sim_sc_ml'].to_numpy(na_value=np.nan)>0.5)\",\n",
       " 'Rule752': \"(X['sim_sc_ml'].to_numpy(na_value=np.nan)>0.5)\",\n",
       " 'Rule753': \"(X['sim_sc_ml'].to_numpy(na_value=np.nan)>0.5)\",\n",
       " 'Rule754': \"(X['sim_sc_ml'].to_numpy(na_value=np.nan)>0.5)\",\n",
       " 'Rule755': \"(X['is_billing_shipping_city_same'].to_numpy(na_value=np.nan)==True)\",\n",
       " 'Rule756': \"(X['is_billing_shipping_city_same'].to_numpy(na_value=np.nan)==True)\",\n",
       " 'Rule757': \"(X['account_number_avg_order_total_per_account_number_1day'].to_numpy(na_value=np.nan)>1.0)\",\n",
       " 'Rule758': \"(X['account_number_avg_order_total_per_account_number_1day'].to_numpy(na_value=np.nan)>1.0)\",\n",
       " 'Rule759': \"(X['is_billing_shipping_city_same'].to_numpy(na_value=np.nan)==True)\",\n",
       " 'Rule760': \"(X['is_billing_shipping_city_same'].to_numpy(na_value=np.nan)==True)\",\n",
       " 'Rule761': \"(X['sim_sc_ml'].to_numpy(na_value=np.nan)>0.5)\",\n",
       " 'Rule762': \"(X['is_billing_shipping_city_same'].to_numpy(na_value=np.nan)==True)\",\n",
       " 'Rule763': \"(X['account_number_avg_order_total_per_account_number_1day'].to_numpy(na_value=np.nan)>1.0)\",\n",
       " 'Rule764': \"(X['account_number_avg_order_total_per_account_number_1day'].to_numpy(na_value=np.nan)>1.0)\",\n",
       " 'Rule765': \"(X['account_number_avg_order_total_per_account_number_1day'].to_numpy(na_value=np.nan)>1.0)\",\n",
       " 'Rule766': \"(X['is_billing_shipping_city_same'].to_numpy(na_value=np.nan)==True)\",\n",
       " 'Rule767': \"(X['account_number_avg_order_total_per_account_number_1day'].to_numpy(na_value=np.nan)>1.0)\",\n",
       " 'Rule768': \"(X['sim_sc_ml'].to_numpy(na_value=np.nan)>0.5)\",\n",
       " 'Rule769': \"(X['is_billing_shipping_city_same'].to_numpy(na_value=np.nan)==True)\",\n",
       " 'Rule770': \"(X['account_number_avg_order_total_per_account_number_1day'].to_numpy(na_value=np.nan)>1.0)\",\n",
       " 'Rule771': \"(X['sim_sc_ml'].to_numpy(na_value=np.nan)>0.5)\",\n",
       " 'Rule772': \"(X['is_billing_shipping_city_same'].to_numpy(na_value=np.nan)==True)\",\n",
       " 'Rule773': \"(X['sim_sc_ml'].to_numpy(na_value=np.nan)>0.5)\",\n",
       " 'Rule774': \"(X['is_billing_shipping_city_same'].to_numpy(na_value=np.nan)==True)\",\n",
       " 'Rule775': \"(X['sim_sc_ml'].to_numpy(na_value=np.nan)>0.5)\",\n",
       " 'Rule776': \"(X['account_number_avg_order_total_per_account_number_1day'].to_numpy(na_value=np.nan)>1.0)\",\n",
       " 'Rule777': \"(X['account_number_avg_order_total_per_account_number_1day'].to_numpy(na_value=np.nan)>1.0)\",\n",
       " 'Rule778': \"(X['account_number_avg_order_total_per_account_number_1day'].to_numpy(na_value=np.nan)>1.0)\",\n",
       " 'Rule779': \"(X['account_number_avg_order_total_per_account_number_1day'].to_numpy(na_value=np.nan)>1.0)\",\n",
       " 'Rule780': \"(X['account_number_avg_order_total_per_account_number_1day'].to_numpy(na_value=np.nan)>1.0)\",\n",
       " 'Rule781': \"(X['account_number_avg_order_total_per_account_number_1day'].to_numpy(na_value=np.nan)>1.0)\",\n",
       " 'Rule782': \"(X['is_billing_shipping_city_same'].to_numpy(na_value=np.nan)==True)\",\n",
       " 'Rule783': \"(X['account_number_avg_order_total_per_account_number_1day'].to_numpy(na_value=np.nan)>1.0)\",\n",
       " 'Rule784': \"(X['account_number_avg_order_total_per_account_number_1day'].to_numpy(na_value=np.nan)>1.0)\",\n",
       " 'Rule785': \"(X['sim_sc_ml'].to_numpy(na_value=np.nan)>0.5)\",\n",
       " 'Rule786': \"(X['sim_sc_ml'].to_numpy(na_value=np.nan)>0.5)\",\n",
       " 'Rule787': \"(X['account_number_avg_order_total_per_account_number_1day'].to_numpy(na_value=np.nan)>1.0)\",\n",
       " 'Rule788': \"(X['account_number_avg_order_total_per_account_number_1day'].to_numpy(na_value=np.nan)>1.0)\",\n",
       " 'Rule789': \"(X['is_billing_shipping_city_same'].to_numpy(na_value=np.nan)==True)\",\n",
       " 'Rule790': \"(X['account_number_avg_order_total_per_account_number_1day'].to_numpy(na_value=np.nan)>1.0)\",\n",
       " 'Rule791': \"(X['account_number_avg_order_total_per_account_number_1day'].to_numpy(na_value=np.nan)>1.0)\",\n",
       " 'Rule792': \"(X['account_number_avg_order_total_per_account_number_1day'].to_numpy(na_value=np.nan)>1.0)\",\n",
       " 'Rule793': \"(X['is_billing_shipping_city_same'].to_numpy(na_value=np.nan)==True)\",\n",
       " 'Rule794': \"(X['account_number_avg_order_total_per_account_number_1day'].to_numpy(na_value=np.nan)>1.0)\",\n",
       " 'Rule795': \"(X['account_number_avg_order_total_per_account_number_1day'].to_numpy(na_value=np.nan)>1.0)\",\n",
       " 'Rule796': \"(X['sim_sc_ml'].to_numpy(na_value=np.nan)>0.5)\",\n",
       " 'Rule797': \"(X['account_number_avg_order_total_per_account_number_1day'].to_numpy(na_value=np.nan)>1.0)\",\n",
       " 'Rule798': \"(X['is_billing_shipping_city_same'].to_numpy(na_value=np.nan)==True)\",\n",
       " 'Rule799': \"(X['account_number_avg_order_total_per_account_number_1day'].to_numpy(na_value=np.nan)>1.0)\",\n",
       " 'Rule800': \"(X['sim_sc_ml'].to_numpy(na_value=np.nan)>0.5)\",\n",
       " 'Rule801': \"(X['sim_sc_ml'].to_numpy(na_value=np.nan)>0.5)\",\n",
       " 'Rule802': \"(X['account_number_avg_order_total_per_account_number_1day'].to_numpy(na_value=np.nan)>1.0)\",\n",
       " 'Rule803': \"(X['is_billing_shipping_city_same'].to_numpy(na_value=np.nan)==True)\",\n",
       " 'Rule804': \"(X['is_billing_shipping_city_same'].to_numpy(na_value=np.nan)==True)\",\n",
       " 'Rule805': \"(X['sim_sc_ml'].to_numpy(na_value=np.nan)>0.5)\",\n",
       " 'Rule806': \"(X['is_billing_shipping_city_same'].to_numpy(na_value=np.nan)==True)\",\n",
       " 'Rule807': \"(X['account_number_avg_order_total_per_account_number_1day'].to_numpy(na_value=np.nan)>1.0)\",\n",
       " 'Rule808': \"(X['is_billing_shipping_city_same'].to_numpy(na_value=np.nan)==True)\",\n",
       " 'Rule809': \"(X['account_number_avg_order_total_per_account_number_1day'].to_numpy(na_value=np.nan)>1.0)\",\n",
       " 'Rule810': \"(X['account_number_avg_order_total_per_account_number_1day'].to_numpy(na_value=np.nan)>1.0)\",\n",
       " 'Rule811': \"(X['account_number_avg_order_total_per_account_number_1day'].to_numpy(na_value=np.nan)>1.0)\",\n",
       " 'Rule812': \"(X['account_number_avg_order_total_per_account_number_1day'].to_numpy(na_value=np.nan)>1.0)\",\n",
       " 'Rule813': \"(X['account_number_avg_order_total_per_account_number_1day'].to_numpy(na_value=np.nan)>1.0)\",\n",
       " 'Rule814': \"(X['is_billing_shipping_city_same'].to_numpy(na_value=np.nan)==True)\",\n",
       " 'Rule815': \"(X['is_billing_shipping_city_same'].to_numpy(na_value=np.nan)==True)\",\n",
       " 'Rule816': \"(X['is_billing_shipping_city_same'].to_numpy(na_value=np.nan)==True)\",\n",
       " 'Rule817': \"(X['is_billing_shipping_city_same'].to_numpy(na_value=np.nan)==True)\",\n",
       " 'Rule818': \"(X['is_billing_shipping_city_same'].to_numpy(na_value=np.nan)==True)\",\n",
       " 'Rule819': \"(X['sim_sc_ml'].to_numpy(na_value=np.nan)>0.5)\",\n",
       " 'Rule820': \"(X['account_number_avg_order_total_per_account_number_1day'].to_numpy(na_value=np.nan)>1.0)\",\n",
       " 'Rule821': \"(X['is_billing_shipping_city_same'].to_numpy(na_value=np.nan)==True)\",\n",
       " 'Rule822': \"(X['account_number_avg_order_total_per_account_number_1day'].to_numpy(na_value=np.nan)>1.0)\",\n",
       " 'Rule823': \"(X['sim_sc_ml'].to_numpy(na_value=np.nan)>0.5)\",\n",
       " 'Rule824': \"(X['sim_sc_ml'].to_numpy(na_value=np.nan)>0.5)\",\n",
       " 'Rule825': \"(X['is_billing_shipping_city_same'].to_numpy(na_value=np.nan)==True)\",\n",
       " 'Rule826': \"(X['is_billing_shipping_city_same'].to_numpy(na_value=np.nan)==True)\",\n",
       " 'Rule827': \"(X['sim_sc_ml'].to_numpy(na_value=np.nan)>0.5)\",\n",
       " 'Rule828': \"(X['account_number_avg_order_total_per_account_number_1day'].to_numpy(na_value=np.nan)>1.0)\",\n",
       " 'Rule829': \"(X['sim_sc_ml'].to_numpy(na_value=np.nan)>0.5)\",\n",
       " 'Rule830': \"(X['is_billing_shipping_city_same'].to_numpy(na_value=np.nan)==True)\",\n",
       " 'Rule831': \"(X['is_billing_shipping_city_same'].to_numpy(na_value=np.nan)==True)\",\n",
       " 'Rule832': \"(X['sim_sc_ml'].to_numpy(na_value=np.nan)>0.5)\",\n",
       " 'Rule833': \"(X['is_billing_shipping_city_same'].to_numpy(na_value=np.nan)==True)\",\n",
       " 'Rule834': \"(X['account_number_avg_order_total_per_account_number_1day'].to_numpy(na_value=np.nan)>1.0)\",\n",
       " 'Rule835': \"(X['account_number_avg_order_total_per_account_number_1day'].to_numpy(na_value=np.nan)>1.0)\",\n",
       " 'Rule836': \"(X['is_billing_shipping_city_same'].to_numpy(na_value=np.nan)==True)\",\n",
       " 'Rule837': \"(X['account_number_avg_order_total_per_account_number_1day'].to_numpy(na_value=np.nan)>1.0)\",\n",
       " 'Rule838': \"(X['account_number_avg_order_total_per_account_number_1day'].to_numpy(na_value=np.nan)>1.0)\",\n",
       " 'Rule839': \"(X['is_billing_shipping_city_same'].to_numpy(na_value=np.nan)==True)\",\n",
       " 'Rule840': \"(X['account_number_avg_order_total_per_account_number_1day'].to_numpy(na_value=np.nan)>1.0)\",\n",
       " 'Rule841': \"(X['sim_sc_ml'].to_numpy(na_value=np.nan)>0.5)\",\n",
       " 'Rule842': \"(X['is_billing_shipping_city_same'].to_numpy(na_value=np.nan)==True)\",\n",
       " 'Rule843': \"(X['account_number_avg_order_total_per_account_number_1day'].to_numpy(na_value=np.nan)>1.0)\",\n",
       " 'Rule844': \"(X['account_number_avg_order_total_per_account_number_1day'].to_numpy(na_value=np.nan)>1.0)\",\n",
       " 'Rule845': \"(X['sim_sc_ml'].to_numpy(na_value=np.nan)>0.5)\",\n",
       " 'Rule846': \"(X['is_billing_shipping_city_same'].to_numpy(na_value=np.nan)==True)\",\n",
       " 'Rule847': \"(X['account_number_avg_order_total_per_account_number_1day'].to_numpy(na_value=np.nan)>1.0)\",\n",
       " 'Rule848': \"(X['account_number_avg_order_total_per_account_number_1day'].to_numpy(na_value=np.nan)>1.0)\",\n",
       " 'Rule849': \"(X['is_billing_shipping_city_same'].to_numpy(na_value=np.nan)==True)\",\n",
       " 'Rule850': \"(X['is_billing_shipping_city_same'].to_numpy(na_value=np.nan)==True)\",\n",
       " 'Rule851': \"(X['account_number_avg_order_total_per_account_number_1day'].to_numpy(na_value=np.nan)>1.0)\",\n",
       " 'Rule852': \"(X['is_billing_shipping_city_same'].to_numpy(na_value=np.nan)==True)\",\n",
       " 'Rule853': \"(X['sim_sc_ml'].to_numpy(na_value=np.nan)>0.5)\",\n",
       " 'Rule854': \"(X['is_billing_shipping_city_same'].to_numpy(na_value=np.nan)==True)\",\n",
       " 'Rule855': \"(X['is_billing_shipping_city_same'].to_numpy(na_value=np.nan)==True)\",\n",
       " 'Rule856': \"(X['is_billing_shipping_city_same'].to_numpy(na_value=np.nan)==True)\",\n",
       " 'Rule857': \"(X['account_number_avg_order_total_per_account_number_1day'].to_numpy(na_value=np.nan)>1.0)\",\n",
       " 'Rule858': \"(X['account_number_avg_order_total_per_account_number_1day'].to_numpy(na_value=np.nan)>1.0)\",\n",
       " 'Rule859': \"(X['account_number_avg_order_total_per_account_number_1day'].to_numpy(na_value=np.nan)>1.0)\",\n",
       " 'Rule860': \"(X['is_billing_shipping_city_same'].to_numpy(na_value=np.nan)==True)\",\n",
       " 'Rule861': \"(X['sim_sc_ml'].to_numpy(na_value=np.nan)>0.5)\",\n",
       " 'Rule862': \"(X['account_number_avg_order_total_per_account_number_1day'].to_numpy(na_value=np.nan)>1.0)\",\n",
       " 'Rule863': \"(X['is_billing_shipping_city_same'].to_numpy(na_value=np.nan)==True)\",\n",
       " 'Rule864': \"(X['sim_sc_ml'].to_numpy(na_value=np.nan)>0.5)\",\n",
       " 'Rule865': \"(X['is_billing_shipping_city_same'].to_numpy(na_value=np.nan)==True)\",\n",
       " 'Rule866': \"(X['is_billing_shipping_city_same'].to_numpy(na_value=np.nan)==True)\",\n",
       " 'Rule867': \"(X['sim_sc_ml'].to_numpy(na_value=np.nan)>0.5)\",\n",
       " 'Rule868': \"(X['account_number_avg_order_total_per_account_number_1day'].to_numpy(na_value=np.nan)>1.0)\",\n",
       " 'Rule869': \"(X['is_billing_shipping_city_same'].to_numpy(na_value=np.nan)==True)\",\n",
       " 'Rule870': \"(X['sim_sc_ml'].to_numpy(na_value=np.nan)>0.5)\",\n",
       " 'Rule871': \"(X['account_number_avg_order_total_per_account_number_1day'].to_numpy(na_value=np.nan)>1.0)\",\n",
       " 'Rule872': \"(X['is_billing_shipping_city_same'].to_numpy(na_value=np.nan)==True)\",\n",
       " 'Rule873': \"(X['account_number_avg_order_total_per_account_number_1day'].to_numpy(na_value=np.nan)>1.0)\",\n",
       " 'Rule874': \"(X['sim_sc_ml'].to_numpy(na_value=np.nan)>0.5)\",\n",
       " 'Rule875': \"(X['account_number_avg_order_total_per_account_number_1day'].to_numpy(na_value=np.nan)>1.0)\",\n",
       " 'Rule876': \"(X['is_billing_shipping_city_same'].to_numpy(na_value=np.nan)==True)\",\n",
       " 'Rule877': \"(X['account_number_avg_order_total_per_account_number_1day'].to_numpy(na_value=np.nan)>1.0)\",\n",
       " 'Rule878': \"(X['account_number_avg_order_total_per_account_number_1day'].to_numpy(na_value=np.nan)>1.0)\",\n",
       " 'Rule879': \"(X['account_number_avg_order_total_per_account_number_1day'].to_numpy(na_value=np.nan)>1.0)\",\n",
       " 'Rule880': \"(X['sim_sc_ml'].to_numpy(na_value=np.nan)>0.5)\",\n",
       " 'Rule881': \"(X['account_number_avg_order_total_per_account_number_1day'].to_numpy(na_value=np.nan)>1.0)\",\n",
       " 'Rule882': \"(X['account_number_avg_order_total_per_account_number_1day'].to_numpy(na_value=np.nan)>1.0)\",\n",
       " 'Rule883': \"(X['account_number_avg_order_total_per_account_number_1day'].to_numpy(na_value=np.nan)>1.0)\",\n",
       " 'Rule884': \"(X['account_number_avg_order_total_per_account_number_1day'].to_numpy(na_value=np.nan)>1.0)\",\n",
       " 'Rule885': \"(X['is_billing_shipping_city_same'].to_numpy(na_value=np.nan)==True)\",\n",
       " 'Rule886': \"(X['account_number_avg_order_total_per_account_number_1day'].to_numpy(na_value=np.nan)>1.0)\",\n",
       " 'Rule887': \"(X['sim_sc_ml'].to_numpy(na_value=np.nan)>0.5)\",\n",
       " 'Rule888': \"(X['sim_sc_ml'].to_numpy(na_value=np.nan)>0.5)\",\n",
       " 'Rule889': \"(X['is_billing_shipping_city_same'].to_numpy(na_value=np.nan)==True)\",\n",
       " 'Rule890': \"(X['sim_sc_ml'].to_numpy(na_value=np.nan)>0.5)\",\n",
       " 'Rule891': \"(X['account_number_avg_order_total_per_account_number_1day'].to_numpy(na_value=np.nan)>1.0)\",\n",
       " 'Rule892': \"(X['sim_sc_ml'].to_numpy(na_value=np.nan)>0.5)\",\n",
       " 'Rule893': \"(X['is_billing_shipping_city_same'].to_numpy(na_value=np.nan)==True)\",\n",
       " 'Rule894': \"(X['account_number_avg_order_total_per_account_number_1day'].to_numpy(na_value=np.nan)>1.0)\",\n",
       " 'Rule895': \"(X['account_number_avg_order_total_per_account_number_1day'].to_numpy(na_value=np.nan)>1.0)\",\n",
       " 'Rule896': \"(X['account_number_avg_order_total_per_account_number_1day'].to_numpy(na_value=np.nan)>1.0)\",\n",
       " 'Rule897': \"(X['is_billing_shipping_city_same'].to_numpy(na_value=np.nan)==True)\",\n",
       " 'Rule898': \"(X['is_billing_shipping_city_same'].to_numpy(na_value=np.nan)==True)\",\n",
       " 'Rule899': \"(X['account_number_avg_order_total_per_account_number_1day'].to_numpy(na_value=np.nan)>1.0)\",\n",
       " 'Rule900': \"(X['account_number_avg_order_total_per_account_number_1day'].to_numpy(na_value=np.nan)>1.0)\",\n",
       " 'Rule901': \"(X['is_billing_shipping_city_same'].to_numpy(na_value=np.nan)==True)\",\n",
       " 'Rule902': \"(X['is_billing_shipping_city_same'].to_numpy(na_value=np.nan)==True)\",\n",
       " 'Rule903': \"(X['is_billing_shipping_city_same'].to_numpy(na_value=np.nan)==True)\",\n",
       " 'Rule904': \"(X['is_billing_shipping_city_same'].to_numpy(na_value=np.nan)==True)\",\n",
       " 'Rule905': \"(X['is_billing_shipping_city_same'].to_numpy(na_value=np.nan)==True)\",\n",
       " 'Rule906': \"(X['sim_sc_ml'].to_numpy(na_value=np.nan)>0.5)\",\n",
       " 'Rule907': \"(X['sim_sc_ml'].to_numpy(na_value=np.nan)>0.5)\",\n",
       " 'Rule908': \"(X['sim_sc_ml'].to_numpy(na_value=np.nan)>0.5)\",\n",
       " 'Rule909': \"(X['account_number_avg_order_total_per_account_number_1day'].to_numpy(na_value=np.nan)>1.0)\",\n",
       " 'Rule910': \"(X['is_billing_shipping_city_same'].to_numpy(na_value=np.nan)==True)\",\n",
       " 'Rule911': \"(X['account_number_avg_order_total_per_account_number_1day'].to_numpy(na_value=np.nan)>1.0)\",\n",
       " 'Rule912': \"(X['account_number_avg_order_total_per_account_number_1day'].to_numpy(na_value=np.nan)>1.0)\",\n",
       " 'Rule913': \"(X['account_number_avg_order_total_per_account_number_1day'].to_numpy(na_value=np.nan)>1.0)\",\n",
       " 'Rule914': \"(X['account_number_avg_order_total_per_account_number_1day'].to_numpy(na_value=np.nan)>1.0)\",\n",
       " 'Rule915': \"(X['is_billing_shipping_city_same'].to_numpy(na_value=np.nan)==True)\",\n",
       " 'Rule916': \"(X['is_billing_shipping_city_same'].to_numpy(na_value=np.nan)==True)\",\n",
       " 'Rule917': \"(X['sim_sc_ml'].to_numpy(na_value=np.nan)>0.5)\",\n",
       " 'Rule918': \"(X['is_billing_shipping_city_same'].to_numpy(na_value=np.nan)==True)\",\n",
       " 'Rule919': \"(X['account_number_avg_order_total_per_account_number_1day'].to_numpy(na_value=np.nan)>1.0)\",\n",
       " 'Rule920': \"(X['is_billing_shipping_city_same'].to_numpy(na_value=np.nan)==True)\",\n",
       " 'Rule921': \"(X['account_number_avg_order_total_per_account_number_1day'].to_numpy(na_value=np.nan)>1.0)\",\n",
       " 'Rule922': \"(X['account_number_avg_order_total_per_account_number_1day'].to_numpy(na_value=np.nan)>1.0)\",\n",
       " 'Rule923': \"(X['is_billing_shipping_city_same'].to_numpy(na_value=np.nan)==True)\",\n",
       " 'Rule924': \"(X['account_number_avg_order_total_per_account_number_1day'].to_numpy(na_value=np.nan)>1.0)\",\n",
       " 'Rule925': \"(X['sim_sc_ml'].to_numpy(na_value=np.nan)>0.5)\",\n",
       " 'Rule926': \"(X['sim_sc_ml'].to_numpy(na_value=np.nan)>0.5)\",\n",
       " 'Rule927': \"(X['is_billing_shipping_city_same'].to_numpy(na_value=np.nan)==True)\",\n",
       " 'Rule928': \"(X['account_number_avg_order_total_per_account_number_1day'].to_numpy(na_value=np.nan)>1.0)\",\n",
       " 'Rule929': \"(X['sim_sc_ml'].to_numpy(na_value=np.nan)>0.5)\",\n",
       " 'Rule930': \"(X['is_billing_shipping_city_same'].to_numpy(na_value=np.nan)==True)\",\n",
       " 'Rule931': \"(X['is_billing_shipping_city_same'].to_numpy(na_value=np.nan)==True)\",\n",
       " 'Rule932': \"(X['is_billing_shipping_city_same'].to_numpy(na_value=np.nan)==True)\",\n",
       " 'Rule933': \"(X['sim_sc_ml'].to_numpy(na_value=np.nan)>0.5)\",\n",
       " 'Rule934': \"(X['account_number_avg_order_total_per_account_number_1day'].to_numpy(na_value=np.nan)>1.0)\",\n",
       " 'Rule935': \"(X['account_number_avg_order_total_per_account_number_1day'].to_numpy(na_value=np.nan)>1.0)\",\n",
       " 'Rule936': \"(X['is_billing_shipping_city_same'].to_numpy(na_value=np.nan)==True)\",\n",
       " 'Rule937': \"(X['is_billing_shipping_city_same'].to_numpy(na_value=np.nan)==True)\",\n",
       " 'Rule938': \"(X['is_billing_shipping_city_same'].to_numpy(na_value=np.nan)==True)\",\n",
       " 'Rule939': \"(X['account_number_avg_order_total_per_account_number_1day'].to_numpy(na_value=np.nan)>1.0)\",\n",
       " 'Rule940': \"(X['is_billing_shipping_city_same'].to_numpy(na_value=np.nan)==True)\",\n",
       " 'Rule941': \"(X['sim_sc_ml'].to_numpy(na_value=np.nan)>0.5)\",\n",
       " 'Rule942': \"(X['sim_sc_ml'].to_numpy(na_value=np.nan)>0.5)\",\n",
       " 'Rule943': \"(X['is_billing_shipping_city_same'].to_numpy(na_value=np.nan)==True)\",\n",
       " 'Rule944': \"(X['sim_sc_ml'].to_numpy(na_value=np.nan)>0.5)\",\n",
       " 'Rule945': \"(X['is_billing_shipping_city_same'].to_numpy(na_value=np.nan)==True)\",\n",
       " 'Rule946': \"(X['account_number_avg_order_total_per_account_number_1day'].to_numpy(na_value=np.nan)>1.0)\",\n",
       " 'Rule947': \"(X['account_number_avg_order_total_per_account_number_1day'].to_numpy(na_value=np.nan)>1.0)\",\n",
       " 'Rule948': \"(X['account_number_avg_order_total_per_account_number_1day'].to_numpy(na_value=np.nan)>1.0)\",\n",
       " 'Rule949': \"(X['account_number_avg_order_total_per_account_number_1day'].to_numpy(na_value=np.nan)>1.0)\",\n",
       " 'Rule950': \"(X['sim_sc_ml'].to_numpy(na_value=np.nan)>0.5)\",\n",
       " 'Rule951': \"(X['account_number_avg_order_total_per_account_number_1day'].to_numpy(na_value=np.nan)>1.0)\",\n",
       " 'Rule952': \"(X['sim_sc_ml'].to_numpy(na_value=np.nan)>0.5)\",\n",
       " 'Rule953': \"(X['account_number_avg_order_total_per_account_number_1day'].to_numpy(na_value=np.nan)>1.0)\",\n",
       " 'Rule954': \"(X['is_billing_shipping_city_same'].to_numpy(na_value=np.nan)==True)\",\n",
       " 'Rule955': \"(X['account_number_avg_order_total_per_account_number_1day'].to_numpy(na_value=np.nan)>1.0)\",\n",
       " 'Rule956': \"(X['is_billing_shipping_city_same'].to_numpy(na_value=np.nan)==True)\",\n",
       " 'Rule957': \"(X['account_number_avg_order_total_per_account_number_1day'].to_numpy(na_value=np.nan)>1.0)\",\n",
       " 'Rule958': \"(X['account_number_avg_order_total_per_account_number_1day'].to_numpy(na_value=np.nan)>1.0)\",\n",
       " 'Rule959': \"(X['account_number_avg_order_total_per_account_number_1day'].to_numpy(na_value=np.nan)>1.0)\",\n",
       " 'Rule960': \"(X['account_number_avg_order_total_per_account_number_1day'].to_numpy(na_value=np.nan)>1.0)\",\n",
       " 'Rule961': \"(X['is_billing_shipping_city_same'].to_numpy(na_value=np.nan)==True)\",\n",
       " 'Rule962': \"(X['is_billing_shipping_city_same'].to_numpy(na_value=np.nan)==True)\",\n",
       " 'Rule963': \"(X['account_number_avg_order_total_per_account_number_1day'].to_numpy(na_value=np.nan)>1.0)\",\n",
       " 'Rule964': \"(X['is_billing_shipping_city_same'].to_numpy(na_value=np.nan)==True)\",\n",
       " 'Rule965': \"(X['account_number_avg_order_total_per_account_number_1day'].to_numpy(na_value=np.nan)>1.0)\",\n",
       " 'Rule966': \"(X['account_number_avg_order_total_per_account_number_1day'].to_numpy(na_value=np.nan)>1.0)\",\n",
       " 'Rule967': \"(X['sim_sc_ml'].to_numpy(na_value=np.nan)>0.5)\",\n",
       " 'Rule968': \"(X['sim_sc_ml'].to_numpy(na_value=np.nan)>0.5)\",\n",
       " 'Rule969': \"(X['is_billing_shipping_city_same'].to_numpy(na_value=np.nan)==True)\",\n",
       " 'Rule970': \"(X['sim_sc_ml'].to_numpy(na_value=np.nan)>0.5)\",\n",
       " 'Rule971': \"(X['is_billing_shipping_city_same'].to_numpy(na_value=np.nan)==True)\",\n",
       " 'Rule972': \"(X['account_number_avg_order_total_per_account_number_1day'].to_numpy(na_value=np.nan)>1.0)\",\n",
       " 'Rule973': \"(X['sim_sc_ml'].to_numpy(na_value=np.nan)>0.5)\",\n",
       " 'Rule974': \"(X['account_number_avg_order_total_per_account_number_1day'].to_numpy(na_value=np.nan)>1.0)\",\n",
       " 'Rule975': \"(X['account_number_avg_order_total_per_account_number_1day'].to_numpy(na_value=np.nan)>1.0)\",\n",
       " 'Rule976': \"(X['account_number_avg_order_total_per_account_number_1day'].to_numpy(na_value=np.nan)>1.0)\",\n",
       " 'Rule977': \"(X['account_number_avg_order_total_per_account_number_1day'].to_numpy(na_value=np.nan)>1.0)\",\n",
       " 'Rule978': \"(X['is_billing_shipping_city_same'].to_numpy(na_value=np.nan)==True)\",\n",
       " 'Rule979': \"(X['is_billing_shipping_city_same'].to_numpy(na_value=np.nan)==True)\",\n",
       " 'Rule980': \"(X['is_billing_shipping_city_same'].to_numpy(na_value=np.nan)==True)\",\n",
       " 'Rule981': \"(X['account_number_avg_order_total_per_account_number_1day'].to_numpy(na_value=np.nan)>1.0)\",\n",
       " 'Rule982': \"(X['account_number_avg_order_total_per_account_number_1day'].to_numpy(na_value=np.nan)>1.0)\",\n",
       " 'Rule983': \"(X['sim_sc_ml'].to_numpy(na_value=np.nan)>0.5)\",\n",
       " 'Rule984': \"(X['sim_sc_ml'].to_numpy(na_value=np.nan)>0.5)\",\n",
       " 'Rule985': \"(X['is_billing_shipping_city_same'].to_numpy(na_value=np.nan)==True)\",\n",
       " 'Rule986': \"(X['is_billing_shipping_city_same'].to_numpy(na_value=np.nan)==True)\",\n",
       " 'Rule987': \"(X['is_billing_shipping_city_same'].to_numpy(na_value=np.nan)==True)\",\n",
       " 'Rule988': \"(X['account_number_avg_order_total_per_account_number_1day'].to_numpy(na_value=np.nan)>1.0)\",\n",
       " 'Rule989': \"(X['is_billing_shipping_city_same'].to_numpy(na_value=np.nan)==True)\",\n",
       " 'Rule990': \"(X['sim_sc_ml'].to_numpy(na_value=np.nan)>0.5)\",\n",
       " 'Rule991': \"(X['sim_sc_ml'].to_numpy(na_value=np.nan)>0.5)\",\n",
       " 'Rule992': \"(X['sim_sc_ml'].to_numpy(na_value=np.nan)>0.5)\",\n",
       " 'Rule993': \"(X['sim_sc_ml'].to_numpy(na_value=np.nan)>0.5)\",\n",
       " 'Rule994': \"(X['sim_sc_ml'].to_numpy(na_value=np.nan)>0.5)\",\n",
       " 'Rule995': \"(X['account_number_avg_order_total_per_account_number_1day'].to_numpy(na_value=np.nan)>1.0)\",\n",
       " 'Rule996': \"(X['account_number_avg_order_total_per_account_number_1day'].to_numpy(na_value=np.nan)>1.0)\",\n",
       " 'Rule997': \"(X['sim_sc_ml'].to_numpy(na_value=np.nan)>0.5)\",\n",
       " 'Rule998': \"(X['sim_sc_ml'].to_numpy(na_value=np.nan)>0.5)\",\n",
       " 'Rule999': \"(X['is_billing_shipping_city_same'].to_numpy(na_value=np.nan)==True)\",\n",
       " ...}"
      ]
     },
     "execution_count": 103,
     "metadata": {},
     "output_type": "execute_result"
    }
   ],
   "source": [
    "r3.as_rule_strings(as_numpy=True)"
   ]
  },
  {
   "cell_type": "markdown",
   "metadata": {},
   "source": [
    "# Unit Testing"
   ]
  },
  {
   "cell_type": "code",
   "execution_count": 16,
   "metadata": {},
   "outputs": [],
   "source": [
    "rule_dicts = {'Rule1': {'condition': 'AND',\n",
    "                            'rules': [{'condition': 'OR',\n",
    "                                       'rules': [{'field': 'payer_id_sum_approved_txn_amt_per_paypalid_1day',\n",
    "                                                  'operator': 'greater_or_equal',\n",
    "                                                  'value': 60.0},\n",
    "                                                 {'field': 'payer_id_sum_approved_txn_amt_per_paypalid_7day',\n",
    "                                                  'operator': 'greater',\n",
    "                                                  'value': 120.0},\n",
    "                                                 {'field': 'payer_id_sum_approved_txn_amt_per_paypalid_30day',\n",
    "                                                  'operator': 'less_or_equal',\n",
    "                                                  'value': 500.0}]},\n",
    "                                      {'field': 'num_items', 'operator': 'equal', 'value': 1.0}]},\n",
    "                  'Rule2': {'condition': 'AND',\n",
    "                            'rules': [{'field': 'ml_cc_v0', 'operator': 'less', 'value': 0.315},\n",
    "                                      {'condition': 'OR',\n",
    "                                       'rules': [{'field': 'method_clean',\n",
    "                                                  'operator': 'equal',\n",
    "                                                  'value': 'checkout'},\n",
    "                                                 {'field': 'method_clean',\n",
    "                                                  'operator': 'begins_with', 'value': 'checkout'},\n",
    "                                                 {'field': 'method_clean',\n",
    "                                                  'operator': 'ends_with', 'value': 'checkout'},\n",
    "                                                 {'field': 'method_clean',\n",
    "                                                  'operator': 'contains', 'value': 'checkout'},\n",
    "                                                 {'field': 'ip_address',\n",
    "                                                  'operator': 'is_not_null', 'value': None},\n",
    "                                                 {'field': 'ip_isp', 'operator': 'is_not_empty', 'value': None}]}]},\n",
    "                  'Rule3': {'condition': 'AND',\n",
    "                            'rules': [{'field': 'method_clean',\n",
    "                                       'operator': 'not_begins_with',\n",
    "                                       'value': 'checkout'},\n",
    "                                      {'field': 'method_clean',\n",
    "                                       'operator': 'not_ends_with', 'value': 'checkout'},\n",
    "                                      {'field': 'method_clean',\n",
    "                                       'operator': 'not_contains', 'value': 'checkout'},\n",
    "                                      {'condition': 'OR',\n",
    "                                       'rules': [{'field': 'ip_address', 'operator': 'is_null', 'value': None},\n",
    "                                                 {'field': 'ip_isp', 'operator': 'is_empty', 'value': None}]}]},\n",
    "                  'Rule4': {'condition': 'AND',\n",
    "                            'rules': [{'field': 'forwarder_address', 'operator': 'equal', 'value': True},\n",
    "                                      {'field': 'is_shipping_billing_address_same',\n",
    "                                       'operator': 'equal',\n",
    "                                       'value': False}]},\n",
    "                  'Rule5': {'condition': 'AND',\n",
    "                            'rules': [{'field': 'ad_price_type',\n",
    "                                       'operator': 'not_in',\n",
    "                                       'value': ['FREE', 'NEGOTIATION']},\n",
    "                                      {'field': 'ad_price_type', 'operator': 'in', 'value': ['FOO', 'BAR']}]},\n",
    "                  'Rule6': {'condition': 'AND',\n",
    "                            'rules': [{'field': 'ip_country_iso_code',\n",
    "                                       'operator': 'equal_field',\n",
    "                                       'value': 'billing_country'},\n",
    "                                      {'field': 'country_id',\n",
    "                                       'operator': 'not_equal_field',\n",
    "                                       'value': 'ip_country_iso_code'}]}}"
   ]
  },
  {
   "cell_type": "code",
   "execution_count": 84,
   "metadata": {},
   "outputs": [],
   "source": [
    "# r = Rules(rule_dicts={'Rule1': rule_dicts['Rule1']})\n",
    "r = Rules(rule_dicts=rule_dicts)\n",
    "rule_lambdas = r.as_rule_lambdas(as_numpy=False, with_kwargs=True)"
   ]
  },
  {
   "cell_type": "code",
   "execution_count": 85,
   "metadata": {},
   "outputs": [
    {
     "data": {
      "text/plain": [
       "{'Rule1': <function rules.convert_rule_dicts_to_rule_strings.ConvertRuleDictsToRuleStrings._convert_to_lambda.<locals>._make_lambda.<locals>.<lambda>(**kwargs)>,\n",
       " 'Rule2': <function rules.convert_rule_dicts_to_rule_strings.ConvertRuleDictsToRuleStrings._convert_to_lambda.<locals>._make_lambda.<locals>.<lambda>(**kwargs)>,\n",
       " 'Rule3': <function rules.convert_rule_dicts_to_rule_strings.ConvertRuleDictsToRuleStrings._convert_to_lambda.<locals>._make_lambda.<locals>.<lambda>(**kwargs)>,\n",
       " 'Rule4': <function rules.convert_rule_dicts_to_rule_strings.ConvertRuleDictsToRuleStrings._convert_to_lambda.<locals>._make_lambda.<locals>.<lambda>(**kwargs)>,\n",
       " 'Rule5': <function rules.convert_rule_dicts_to_rule_strings.ConvertRuleDictsToRuleStrings._convert_to_lambda.<locals>._make_lambda.<locals>.<lambda>(**kwargs)>,\n",
       " 'Rule6': <function rules.convert_rule_dicts_to_rule_strings.ConvertRuleDictsToRuleStrings._convert_to_lambda.<locals>._make_lambda.<locals>.<lambda>(**kwargs)>}"
      ]
     },
     "execution_count": 85,
     "metadata": {},
     "output_type": "execute_result"
    }
   ],
   "source": [
    "rule_lambdas"
   ]
  },
  {
   "cell_type": "code",
   "execution_count": 86,
   "metadata": {},
   "outputs": [
    {
     "data": {
      "text/plain": [
       "{'Rule1': {'payer_id_sum_approved_txn_amt_per_paypalid_1day': 60.0,\n",
       "  'payer_id_sum_approved_txn_amt_per_paypalid_7day': 120.0,\n",
       "  'payer_id_sum_approved_txn_amt_per_paypalid_30day': 500.0,\n",
       "  'num_items': 1.0},\n",
       " 'Rule2': {'ml_cc_v0': 0.315,\n",
       "  'method_clean': 'checkout',\n",
       "  'method_clean%0': 'checkout',\n",
       "  'method_clean%1': 'checkout',\n",
       "  'method_clean%2': 'checkout'},\n",
       " 'Rule3': {'method_clean': 'checkout',\n",
       "  'method_clean%3': 'checkout',\n",
       "  'method_clean%4': 'checkout'},\n",
       " 'Rule4': {'forwarder_address': True,\n",
       "  'is_shipping_billing_address_same': False},\n",
       " 'Rule5': {'ad_price_type': ['FREE', 'NEGOTIATION'],\n",
       "  'ad_price_type%5': ['FOO', 'BAR']},\n",
       " 'Rule6': {'ip_country_iso_code': 'billing_country',\n",
       "  'country_id': 'ip_country_iso_code'}}"
      ]
     },
     "execution_count": 86,
     "metadata": {},
     "output_type": "execute_result"
    }
   ],
   "source": [
    "r.lambda_kwargs"
   ]
  },
  {
   "cell_type": "code",
   "execution_count": 87,
   "metadata": {},
   "outputs": [
    {
     "name": "stdout",
     "output_type": "stream",
     "text": [
      "((X['payer_id_sum_approved_txn_amt_per_paypalid_1day']>=60.0)|(X['payer_id_sum_approved_txn_amt_per_paypalid_7day']>120.0)|(X['payer_id_sum_approved_txn_amt_per_paypalid_30day']<=500.0))&(X['num_items']==1.0)\n",
      "(X['ml_cc_v0']<0.315)&((X['method_clean']=='checkout')|(X['method_clean'].str.startswith('checkout', na=False))|(X['method_clean'].str.endswith('checkout', na=False))|(X['method_clean'].str.contains('checkout', na=False))|(~X['ip_address'].isna())|(X['ip_isp'].fillna('')!=''))\n",
      "(~X['method_clean'].str.startswith('checkout', na=False))&(~X['method_clean'].str.endswith('checkout', na=False))&(~X['method_clean'].str.contains('checkout', na=False))&((X['ip_address'].isna())|(X['ip_isp'].fillna('')==''))\n",
      "(X['forwarder_address']==True)&(X['is_shipping_billing_address_same']==False)\n",
      "(~X['ad_price_type'].isin(['FREE', 'NEGOTIATION']))&(X['ad_price_type'].isin(['FOO', 'BAR']))\n",
      "(X['ip_country_iso_code']==X['billing_country'])&(X['country_id']!=X['ip_country_iso_code'])\n"
     ]
    }
   ],
   "source": [
    "for rule_name, rule_lambda in rule_lambdas.items():\n",
    "    rule_string = rule_lambda(**r.lambda_kwargs[rule_name])\n",
    "    print(rule_string)"
   ]
  },
  {
   "cell_type": "code",
   "execution_count": 69,
   "metadata": {},
   "outputs": [
    {
     "data": {
      "text/plain": [
       "\"(X['ip_country_iso_code']==X['billing_country'])&(X['country_id']!=X['ip_country_iso_code'])\""
      ]
     },
     "execution_count": 69,
     "metadata": {},
     "output_type": "execute_result"
    }
   ],
   "source": [
    "rule_lambdas['Rule6'](**r.lambda_kwargs['Rule6'])"
   ]
  },
  {
   "cell_type": "code",
   "execution_count": 70,
   "metadata": {},
   "outputs": [],
   "source": [
    "from rules.convert_rule_dicts_to_rule_lambdas import ConvertRuleDictsToRuleLambdas"
   ]
  },
  {
   "cell_type": "code",
   "execution_count": 71,
   "metadata": {},
   "outputs": [],
   "source": [
    "tolambdas = ConvertRuleDictsToRuleLambdas(rule_dicts=rule_dicts)"
   ]
  },
  {
   "cell_type": "code",
   "execution_count": 72,
   "metadata": {},
   "outputs": [
    {
     "name": "stdout",
     "output_type": "stream",
     "text": [
      "((X['payer_id_sum_approved_txn_amt_per_paypalid_1day']>={payer_id_sum_approved_txn_amt_per_paypalid_1day})|(X['payer_id_sum_approved_txn_amt_per_paypalid_7day']>{payer_id_sum_approved_txn_amt_per_paypalid_7day})|(X['payer_id_sum_approved_txn_amt_per_paypalid_30day']<={payer_id_sum_approved_txn_amt_per_paypalid_30day}))&(X['num_items']=={num_items})\n",
      "(X['ml_cc_v0']<{ml_cc_v0})&((X['method_clean']=='{method_clean}')|(X['method_clean'].str.startswith('{method_clean%0}', na=False))|(X['method_clean'].str.endswith('{method_clean%1}', na=False))|(X['method_clean'].str.contains('{method_clean%2}', na=False))|(~X['ip_address'].isna())|(X['ip_isp'].fillna('')!=''))\n",
      "(~X['method_clean'].str.startswith('{method_clean}', na=False))&(~X['method_clean'].str.endswith('{method_clean%3}', na=False))&(~X['method_clean'].str.contains('{method_clean%4}', na=False))&((X['ip_address'].isna())|(X['ip_isp'].fillna('')==''))\n",
      "(X['forwarder_address']=={forwarder_address})&(X['is_shipping_billing_address_same']=={is_shipping_billing_address_same})\n",
      "(~X['ad_price_type'].isin({ad_price_type}))&(X['ad_price_type'].isin({ad_price_type%5}))\n",
      "(X['ip_country_iso_code']==X['{ip_country_iso_code}'])&(X['country_id']!=X['{country_id}'])\n"
     ]
    },
    {
     "data": {
      "text/plain": [
       "{'Rule1': <function rules.convert_rule_dicts_to_rule_strings.ConvertRuleDictsToRuleStrings._convert_to_lambda.<locals>.<lambda>(**kwargs)>,\n",
       " 'Rule2': <function rules.convert_rule_dicts_to_rule_strings.ConvertRuleDictsToRuleStrings._convert_to_lambda.<locals>.<lambda>(**kwargs)>,\n",
       " 'Rule3': <function rules.convert_rule_dicts_to_rule_strings.ConvertRuleDictsToRuleStrings._convert_to_lambda.<locals>.<lambda>(**kwargs)>,\n",
       " 'Rule4': <function rules.convert_rule_dicts_to_rule_strings.ConvertRuleDictsToRuleStrings._convert_to_lambda.<locals>.<lambda>(**kwargs)>,\n",
       " 'Rule5': <function rules.convert_rule_dicts_to_rule_strings.ConvertRuleDictsToRuleStrings._convert_to_lambda.<locals>.<lambda>(**kwargs)>,\n",
       " 'Rule6': <function rules.convert_rule_dicts_to_rule_strings.ConvertRuleDictsToRuleStrings._convert_to_lambda.<locals>.<lambda>(**kwargs)>}"
      ]
     },
     "execution_count": 72,
     "metadata": {},
     "output_type": "execute_result"
    }
   ],
   "source": [
    "tolambdas.convert(as_numpy=False, with_kwargs=True)"
   ]
  },
  {
   "cell_type": "code",
   "execution_count": 81,
   "metadata": {},
   "outputs": [
    {
     "data": {
      "text/plain": [
       "\"(X['ip_country_iso_code']==X['billing_country'])&(X['country_id']!=X['ip_country_iso_code'])\""
      ]
     },
     "execution_count": 81,
     "metadata": {},
     "output_type": "execute_result"
    }
   ],
   "source": [
    "tolambdas.rule_lambdas['Rule3'](**tolambdas.lambda_kwargs['Rule6'])"
   ]
  },
  {
   "cell_type": "code",
   "execution_count": null,
   "metadata": {},
   "outputs": [],
   "source": []
  },
  {
   "cell_type": "code",
   "execution_count": 40,
   "metadata": {},
   "outputs": [
    {
     "data": {
      "text/plain": [
       "{'payer_id_sum_approved_txn_amt_per_paypalid_1day': 60.0,\n",
       " 'payer_id_sum_approved_txn_amt_per_paypalid_7day': 120.0,\n",
       " 'payer_id_sum_approved_txn_amt_per_paypalid_30day': 500.0,\n",
       " 'num_items': 1.0}"
      ]
     },
     "execution_count": 40,
     "metadata": {},
     "output_type": "execute_result"
    }
   ],
   "source": [
    "r.lambda_kwargs['Rule1']"
   ]
  },
  {
   "cell_type": "code",
   "execution_count": 74,
   "metadata": {},
   "outputs": [
    {
     "ename": "KeyError",
     "evalue": "'ip_country_iso_code'",
     "output_type": "error",
     "traceback": [
      "\u001b[0;31m---------------------------------------------------------------------------\u001b[0m",
      "\u001b[0;31mKeyError\u001b[0m                                  Traceback (most recent call last)",
      "\u001b[0;32m<ipython-input-74-a6d6bb28caaf>\u001b[0m in \u001b[0;36m<module>\u001b[0;34m\u001b[0m\n\u001b[1;32m      1\u001b[0m \u001b[0;32mfor\u001b[0m \u001b[0mrule_name\u001b[0m\u001b[0;34m,\u001b[0m \u001b[0mrule_lambda\u001b[0m \u001b[0;32min\u001b[0m \u001b[0mrule_lambdas\u001b[0m\u001b[0;34m.\u001b[0m\u001b[0mitems\u001b[0m\u001b[0;34m(\u001b[0m\u001b[0;34m)\u001b[0m\u001b[0;34m:\u001b[0m\u001b[0;34m\u001b[0m\u001b[0;34m\u001b[0m\u001b[0m\n\u001b[0;32m----> 2\u001b[0;31m     \u001b[0mrule_string\u001b[0m \u001b[0;34m=\u001b[0m \u001b[0mrule_lambda\u001b[0m\u001b[0;34m(\u001b[0m\u001b[0;34m**\u001b[0m\u001b[0mr\u001b[0m\u001b[0;34m.\u001b[0m\u001b[0mlambda_kwargs\u001b[0m\u001b[0;34m[\u001b[0m\u001b[0mrule_name\u001b[0m\u001b[0;34m]\u001b[0m\u001b[0;34m)\u001b[0m\u001b[0;34m\u001b[0m\u001b[0;34m\u001b[0m\u001b[0m\n\u001b[0m\u001b[1;32m      3\u001b[0m \u001b[0;31m#     assert rule_string == rule_strings_pandas[rule_name]\u001b[0m\u001b[0;34m\u001b[0m\u001b[0;34m\u001b[0m\u001b[0;34m\u001b[0m\u001b[0m\n\u001b[1;32m      4\u001b[0m     \u001b[0mprint\u001b[0m\u001b[0;34m(\u001b[0m\u001b[0mrule_string\u001b[0m\u001b[0;34m)\u001b[0m\u001b[0;34m\u001b[0m\u001b[0;34m\u001b[0m\u001b[0m\n",
      "\u001b[0;32m~/Documents/tigress/tigress/argo/argo/rules/rules/convert_rule_dicts_to_rule_strings.py\u001b[0m in \u001b[0;36m<lambda>\u001b[0;34m(**kwargs)\u001b[0m\n\u001b[1;32m    174\u001b[0m                 \u001b[0;31m# rule_lambda = lambda **kwargs: rule_lambda_str.format(**kwargs)\u001b[0m\u001b[0;34m\u001b[0m\u001b[0;34m\u001b[0m\u001b[0;34m\u001b[0m\u001b[0m\n\u001b[1;32m    175\u001b[0m                 rule_lambdas[rule_name] = lambda **kwargs: rule_lambda_str.format(\n\u001b[0;32m--> 176\u001b[0;31m                     **kwargs)\n\u001b[0m\u001b[1;32m    177\u001b[0m             \u001b[0;32melse\u001b[0m\u001b[0;34m:\u001b[0m\u001b[0;34m\u001b[0m\u001b[0;34m\u001b[0m\u001b[0m\n\u001b[1;32m    178\u001b[0m                 \u001b[0;31m# rule_lambda = lambda *args: rule_lambda_str.format(*args)\u001b[0m\u001b[0;34m\u001b[0m\u001b[0;34m\u001b[0m\u001b[0;34m\u001b[0m\u001b[0m\n",
      "\u001b[0;31mKeyError\u001b[0m: 'ip_country_iso_code'"
     ]
    }
   ],
   "source": [
    "for rule_name, rule_lambda in rule_lambdas.items():\n",
    "    rule_string = rule_lambda(**r.lambda_kwargs[rule_name])\n",
    "#     assert rule_string == rule_strings_pandas[rule_name]\n",
    "    print(rule_string)"
   ]
  },
  {
   "cell_type": "code",
   "execution_count": 34,
   "metadata": {},
   "outputs": [
    {
     "data": {
      "text/plain": [
       "{'Rule1': {'payer_id_sum_approved_txn_amt_per_paypalid_1day': 60.0,\n",
       "  'payer_id_sum_approved_txn_amt_per_paypalid_7day': 120.0,\n",
       "  'payer_id_sum_approved_txn_amt_per_paypalid_30day': 500.0,\n",
       "  'num_items': 1.0},\n",
       " 'Rule2': {'payer_id_sum_approved_txn_amt_per_paypalid_1day': 60.0,\n",
       "  'payer_id_sum_approved_txn_amt_per_paypalid_7day': 120.0,\n",
       "  'payer_id_sum_approved_txn_amt_per_paypalid_30day': 500.0,\n",
       "  'num_items': 1.0,\n",
       "  'ml_cc_v0': 0.315,\n",
       "  'method_clean': 'checkout',\n",
       "  'method_clean%0': 'checkout',\n",
       "  'method_clean%1': 'checkout',\n",
       "  'method_clean%2': 'checkout'},\n",
       " 'Rule3': {'payer_id_sum_approved_txn_amt_per_paypalid_1day': 60.0,\n",
       "  'payer_id_sum_approved_txn_amt_per_paypalid_7day': 120.0,\n",
       "  'payer_id_sum_approved_txn_amt_per_paypalid_30day': 500.0,\n",
       "  'num_items': 1.0,\n",
       "  'ml_cc_v0': 0.315,\n",
       "  'method_clean': 'checkout',\n",
       "  'method_clean%0': 'checkout',\n",
       "  'method_clean%1': 'checkout',\n",
       "  'method_clean%2': 'checkout',\n",
       "  'method_clean%3': 'checkout',\n",
       "  'method_clean%4': 'checkout',\n",
       "  'method_clean%5': 'checkout'},\n",
       " 'Rule4': {'payer_id_sum_approved_txn_amt_per_paypalid_1day': 60.0,\n",
       "  'payer_id_sum_approved_txn_amt_per_paypalid_7day': 120.0,\n",
       "  'payer_id_sum_approved_txn_amt_per_paypalid_30day': 500.0,\n",
       "  'num_items': 1.0,\n",
       "  'ml_cc_v0': 0.315,\n",
       "  'method_clean': 'checkout',\n",
       "  'method_clean%0': 'checkout',\n",
       "  'method_clean%1': 'checkout',\n",
       "  'method_clean%2': 'checkout',\n",
       "  'method_clean%3': 'checkout',\n",
       "  'method_clean%4': 'checkout',\n",
       "  'method_clean%5': 'checkout',\n",
       "  'forwarder_address': True,\n",
       "  'is_shipping_billing_address_same': False},\n",
       " 'Rule5': {'payer_id_sum_approved_txn_amt_per_paypalid_1day': 60.0,\n",
       "  'payer_id_sum_approved_txn_amt_per_paypalid_7day': 120.0,\n",
       "  'payer_id_sum_approved_txn_amt_per_paypalid_30day': 500.0,\n",
       "  'num_items': 1.0,\n",
       "  'ml_cc_v0': 0.315,\n",
       "  'method_clean': 'checkout',\n",
       "  'method_clean%0': 'checkout',\n",
       "  'method_clean%1': 'checkout',\n",
       "  'method_clean%2': 'checkout',\n",
       "  'method_clean%3': 'checkout',\n",
       "  'method_clean%4': 'checkout',\n",
       "  'method_clean%5': 'checkout',\n",
       "  'forwarder_address': True,\n",
       "  'is_shipping_billing_address_same': False,\n",
       "  'ad_price_type': ['FREE', 'NEGOTIATION'],\n",
       "  'ad_price_type%6': ['FOO', 'BAR']},\n",
       " 'Rule6': {'payer_id_sum_approved_txn_amt_per_paypalid_1day': 60.0,\n",
       "  'payer_id_sum_approved_txn_amt_per_paypalid_7day': 120.0,\n",
       "  'payer_id_sum_approved_txn_amt_per_paypalid_30day': 500.0,\n",
       "  'num_items': 1.0,\n",
       "  'ml_cc_v0': 0.315,\n",
       "  'method_clean': 'checkout',\n",
       "  'method_clean%0': 'checkout',\n",
       "  'method_clean%1': 'checkout',\n",
       "  'method_clean%2': 'checkout',\n",
       "  'method_clean%3': 'checkout',\n",
       "  'method_clean%4': 'checkout',\n",
       "  'method_clean%5': 'checkout',\n",
       "  'forwarder_address': True,\n",
       "  'is_shipping_billing_address_same': False,\n",
       "  'ad_price_type': ['FREE', 'NEGOTIATION'],\n",
       "  'ad_price_type%6': ['FOO', 'BAR'],\n",
       "  'ip_country_iso_code': 'billing_country',\n",
       "  'country_id': 'ip_country_iso_code'}}"
      ]
     },
     "execution_count": 34,
     "metadata": {},
     "output_type": "execute_result"
    }
   ],
   "source": [
    "r.lambda_kwargs"
   ]
  },
  {
   "cell_type": "code",
   "execution_count": null,
   "metadata": {},
   "outputs": [],
   "source": []
  }
 ],
 "metadata": {
  "kernelspec": {
   "display_name": "argo",
   "language": "python",
   "name": "argo"
  },
  "language_info": {
   "codemirror_mode": {
    "name": "ipython",
    "version": 3
   },
   "file_extension": ".py",
   "mimetype": "text/x-python",
   "name": "python",
   "nbconvert_exporter": "python",
   "pygments_lexer": "ipython3",
   "version": "3.7.3"
  }
 },
 "nbformat": 4,
 "nbformat_minor": 4
}
