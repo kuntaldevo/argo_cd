{
 "cells": [
  {
   "cell_type": "code",
   "execution_count": 2,
   "metadata": {},
   "outputs": [],
   "source": [
    "%load_ext autoreload\n",
    "%autoreload 2"
   ]
  },
  {
   "cell_type": "code",
   "execution_count": 9,
   "metadata": {},
   "outputs": [],
   "source": [
    "from rule.rules import Rules\n",
    "import numpy as np\n",
    "import pandas as pd"
   ]
  },
  {
   "cell_type": "code",
   "execution_count": 55,
   "metadata": {},
   "outputs": [],
   "source": [
    "np.random.seed(0)\n",
    "X = pd.DataFrame(\n",
    "    {\n",
    "        'A': np.random.uniform(0, 100, 100),\n",
    "        'B': ['foo', 'bar'] * 50,\n",
    "        'C': [1.0, 2.0, 3.0, np.nan] * 25,\n",
    "        'D': ['foo', 'bar', np.nan, 'no'] * 25,\n",
    "        'E': [1.0,2.0,3.0,4.0] * 25,\n",
    "        'F': [1.0,2.0,3.0,5.0] * 25,\n",
    "        'G': ['foo', '', np.nan, ''] * 25,\n",
    "        \n",
    "    }\n",
    ")"
   ]
  },
  {
   "cell_type": "code",
   "execution_count": 60,
   "metadata": {},
   "outputs": [],
   "source": [
    "rule_dicts = {\n",
    "        'Rule1': {'condition': 'AND',\n",
    "                  'rules': [{'condition': 'OR',\n",
    "                             'rules': [{'field': 'A',\n",
    "                                        'operator': 'greater_or_equal',\n",
    "                                        'value': 60.0},\n",
    "                                       {'field': 'B',\n",
    "                                        'operator': 'begins_with',\n",
    "                                        'value': 'foo'},\n",
    "                                       {'field': 'C',\n",
    "                                        'operator': 'is_null',\n",
    "                                        'value': None}]},\n",
    "                            {'field': 'D',\n",
    "                             'operator': 'in', 'value': ['foo', 'bar']},\n",
    "                            {'field': 'E',\n",
    "                             'operator': 'equal_field',\n",
    "                             'value': 'F'},\n",
    "                            {'field': 'G',\n",
    "                             'operator': 'is_empty',\n",
    "                             'value': None}\n",
    "                            ]\n",
    "                  },\n",
    "        'Rule2': {'condition': 'AND',\n",
    "                  'rules': [{'condition': 'OR',\n",
    "                             'rules': [{'field': 'A',\n",
    "                                        'operator': 'less_or_equal',\n",
    "                                        'value': 60.0},\n",
    "                                       {'field': 'B',\n",
    "                                        'operator': 'not_begins_with',\n",
    "                                        'value': 'foo'},\n",
    "                                       {'field': 'C',\n",
    "                                        'operator': 'is_not_null',\n",
    "                                        'value': None}]},\n",
    "                            {'field': 'D',\n",
    "                             'operator': 'not_in', 'value': ['foo', 'bar']},\n",
    "                            {'field': 'E',\n",
    "                             'operator': 'not_equal_field',\n",
    "                             'value': 'F'},\n",
    "                            {'field': 'G',\n",
    "                             'operator': 'is_not_empty',\n",
    "                             'value': None}\n",
    "                            ]\n",
    "                  }\n",
    "\n",
    "    }"
   ]
  },
  {
   "cell_type": "code",
   "execution_count": 61,
   "metadata": {},
   "outputs": [
    {
     "data": {
      "text/plain": [
       "{'Rule1': \"((X['A'].to_numpy(na_value=np.nan)>=60.0)|(X['B'].str.startswith('foo', na=False))|(pd.isna(X['C'].to_numpy(na_value=np.nan))))&(X['D'].isin(['foo', 'bar']))&(X['E'].to_numpy(na_value=np.nan)==X['F'].to_numpy(na_value=np.nan))&(X['G'].fillna('')=='')\",\n",
       " 'Rule2': \"((X['A'].to_numpy(na_value=np.nan)<=60.0)|(~X['B'].str.startswith('foo', na=False))|(~pd.isna(X['C'].to_numpy(na_value=np.nan))))&(~X['D'].isin(['foo', 'bar']))&(X['E'].to_numpy(na_value=np.nan)!=X['F'].to_numpy(na_value=np.nan))&(X['G'].fillna('')!='')\"}"
      ]
     },
     "execution_count": 61,
     "metadata": {},
     "output_type": "execute_result"
    }
   ],
   "source": [
    "r = Rules(rule_dicts=rule_dicts)\n",
    "r.as_string(as_numpy=True)"
   ]
  },
  {
   "cell_type": "code",
   "execution_count": 58,
   "metadata": {},
   "outputs": [
    {
     "name": "stdout",
     "output_type": "stream",
     "text": [
      "11\n",
      "0\n"
     ]
    }
   ],
   "source": [
    "for rule_name, rule in r.rule_strings.items():\n",
    "    print(eval(rule).sum())"
   ]
  },
  {
   "cell_type": "code",
   "execution_count": 65,
   "metadata": {},
   "outputs": [],
   "source": [
    "rule_lambdas = r.as_lambda(as_numpy=True, with_kwargs=True)"
   ]
  },
  {
   "cell_type": "code",
   "execution_count": 69,
   "metadata": {},
   "outputs": [],
   "source": [
    "rule_strings = {}"
   ]
  },
  {
   "cell_type": "code",
   "execution_count": 71,
   "metadata": {},
   "outputs": [],
   "source": [
    "for rule_name, rule_lambda in rule_lambdas.items():\n",
    "    rule_strings[rule_name] = rule_lambda(**r.lambda_kwargs[rule_name])"
   ]
  },
  {
   "cell_type": "code",
   "execution_count": 72,
   "metadata": {},
   "outputs": [
    {
     "data": {
      "text/plain": [
       "{'Rule1': \"((X['A'].to_numpy(na_value=np.nan)>=60.0)|(X['B'].str.startswith('foo', na=False))|(pd.isna(X['C'].to_numpy(na_value=np.nan))))&(X['D'].isin(['foo', 'bar']))&(X['E'].to_numpy(na_value=np.nan)==X['F'].to_numpy(na_value=np.nan))&(X['G'].fillna('')=='')\",\n",
       " 'Rule2': \"((X['A'].to_numpy(na_value=np.nan)<=60.0)|(~X['B'].str.startswith('foo', na=False))|(~pd.isna(X['C'].to_numpy(na_value=np.nan))))&(~X['D'].isin(['foo', 'bar']))&(X['E'].to_numpy(na_value=np.nan)!=X['F'].to_numpy(na_value=np.nan))&(X['G'].fillna('')!='')\"}"
      ]
     },
     "execution_count": 72,
     "metadata": {},
     "output_type": "execute_result"
    }
   ],
   "source": [
    "rule_strings"
   ]
  },
  {
   "cell_type": "code",
   "execution_count": 68,
   "metadata": {},
   "outputs": [
    {
     "data": {
      "text/plain": [
       "{'Rule1': {'A': 60.0, 'B': \"'foo'\", 'D': ['foo', 'bar'], 'E': \"'F'\"},\n",
       " 'Rule2': {'A': 60.0, 'B': \"'foo'\", 'D': ['foo', 'bar'], 'E': \"'F'\"}}"
      ]
     },
     "execution_count": 68,
     "metadata": {},
     "output_type": "execute_result"
    }
   ],
   "source": [
    "r.lambda_kwargs"
   ]
  },
  {
   "cell_type": "code",
   "execution_count": 74,
   "metadata": {},
   "outputs": [],
   "source": [
    "from rule.convert_rule_dict_to_string import ConvertRuleDictToString"
   ]
  },
  {
   "cell_type": "code",
   "execution_count": 91,
   "metadata": {},
   "outputs": [
    {
     "data": {
      "text/plain": [
       "[\"((X['A']>={})|(X['B'].str.startswith({}, na=False))|(X['C'].isna()))\",\n",
       " \"(X['D'].isin({}))\",\n",
       " \"(X['E']==X[{}])\",\n",
       " \"(X['G'].fillna('')=='')\"]"
      ]
     },
     "execution_count": 91,
     "metadata": {},
     "output_type": "execute_result"
    }
   ],
   "source": [
    "rule_dict = rule_dicts['Rule1']\n",
    "rules_list = rule_dict['rules']\n",
    "r = ConvertRuleDictToString(rule_dict=rule_dict)\n",
    "r._convert_rule_dict_conditions(rules_list=rules_list, as_numpy=False, as_lambda=True, with_kwargs=False)"
   ]
  },
  {
   "cell_type": "code",
   "execution_count": 88,
   "metadata": {},
   "outputs": [
    {
     "data": {
      "text/plain": [
       "{'A': 60.0, 'B': \"'foo'\", 'D': ['foo', 'bar'], 'E': \"'F'\"}"
      ]
     },
     "execution_count": 88,
     "metadata": {},
     "output_type": "execute_result"
    }
   ],
   "source": [
    "r.lambda_kwargs"
   ]
  },
  {
   "cell_type": "code",
   "execution_count": 81,
   "metadata": {},
   "outputs": [],
   "source": [
    "from itertools import product"
   ]
  },
  {
   "cell_type": "code",
   "execution_count": 84,
   "metadata": {},
   "outputs": [
    {
     "data": {
      "text/plain": [
       "[(False, 'a'), (False, 'b'), (True, 'a'), (True, 'b')]"
      ]
     },
     "execution_count": 84,
     "metadata": {},
     "output_type": "execute_result"
    }
   ],
   "source": [
    "list(product([False, True], ['a', 'b']))"
   ]
  },
  {
   "cell_type": "markdown",
   "metadata": {},
   "source": [
    "# ConvertRuleStringToDict"
   ]
  },
  {
   "cell_type": "code",
   "execution_count": 13,
   "metadata": {},
   "outputs": [],
   "source": [
    "rule_strings = {\n",
    "    'Rule1_pd': \"((X['A']>=60.0)|(X['B'].str.startswith('foo', na=False))|(X['C'].isna()))&(X['D'].isin(['foo', 'bar']))&(X['E']==X['F'])&(X['G'].fillna('')=='')\",\n",
    "    'Rule1_np': \"((X['A'].to_numpy(na_value=np.nan)>=60.0)|(X['B'].str.startswith('foo', na=False))|(pd.isna(X['C'].to_numpy(na_value=np.nan))))&(X['D'].isin(['foo', 'bar']))&(X['E'].to_numpy(na_value=np.nan)==X['F'].to_numpy(na_value=np.nan))&(X['G'].fillna('')=='')\",\n",
    "    'Rule2': \"(X['A'].str.startswith(')('))\"\n",
    "}"
   ]
  },
  {
   "cell_type": "code",
   "execution_count": 10,
   "metadata": {},
   "outputs": [],
   "source": [
    "from rule.convert_rule_string_to_dict import ConvertRuleStringToDict"
   ]
  },
  {
   "cell_type": "code",
   "execution_count": 11,
   "metadata": {},
   "outputs": [],
   "source": [
    "r = ConvertRuleStringToDict(rule_strings['Rule2_pd'])"
   ]
  },
  {
   "cell_type": "code",
   "execution_count": 12,
   "metadata": {},
   "outputs": [
    {
     "data": {
      "text/plain": [
       "{'condition': 'AND',\n",
       " 'rules': [{'field': 'A', 'operator': 'begins_with', 'value': ')('}]}"
      ]
     },
     "execution_count": 12,
     "metadata": {},
     "output_type": "execute_result"
    }
   ],
   "source": [
    "r.convert()"
   ]
  },
  {
   "cell_type": "code",
   "execution_count": 21,
   "metadata": {},
   "outputs": [
    {
     "data": {
      "text/plain": [
       "{1: 72, 75: 102, 105: 119, 122: 143}"
      ]
     },
     "execution_count": 21,
     "metadata": {},
     "output_type": "execute_result"
    }
   ],
   "source": [
    "r._find_top_level_parentheses_idx(rule_string=rule_strings['Rule1_pd'])"
   ]
  },
  {
   "cell_type": "code",
   "execution_count": 22,
   "metadata": {},
   "outputs": [],
   "source": [
    "expected_results = {\n",
    "        'Rule1_pd': {1: 72, 75: 102, 105: 119, 122: 143},\n",
    "        'Rule1_np': {1: 126, 129: 156, 159: 225, 228: 249},\n",
    "        'Rule2': {1: 28},\n",
    "    }"
   ]
  },
  {
   "cell_type": "code",
   "execution_count": 25,
   "metadata": {},
   "outputs": [
    {
     "data": {
      "text/plain": [
       "[\"X['A'].str.startswith(')(')\"]"
      ]
     },
     "execution_count": 25,
     "metadata": {},
     "output_type": "execute_result"
    }
   ],
   "source": [
    "r._return_conditions_string_list(\n",
    "            parentheses_pair_idxs=expected_results['Rule2'],\n",
    "            rule_string=rule_strings['Rule2'])"
   ]
  },
  {
   "cell_type": "code",
   "execution_count": 27,
   "metadata": {},
   "outputs": [
    {
     "data": {
      "text/plain": [
       "['&', '&', '&']"
      ]
     },
     "execution_count": 27,
     "metadata": {},
     "output_type": "execute_result"
    }
   ],
   "source": [
    "r._find_connecting_conditions(parentheses_pair_idxs=expected_results['Rule1_pd'],\n",
    "                            rule_string=rule_strings['Rule1_pd'])"
   ]
  },
  {
   "cell_type": "code",
   "execution_count": 28,
   "metadata": {},
   "outputs": [],
   "source": [
    "expected_results = {\n",
    "        'Rule1_pd': [\"(X['A']>=60.0)|(X['B'].str.startswith('foo', na=False))|(X['C'].isna())\",\n",
    "                     \"X['D'].isin(['foo', 'bar'])\",\n",
    "                     \"X['E']==X['F']\",\n",
    "                     \"X['G'].fillna('')==''\"],\n",
    "        'Rule1_np': [\"(X['A'].to_numpy(na_value=np.nan)>=60.0)|(X['B'].str.startswith('foo', na=False))|(pd.isna(X['C'].to_numpy(na_value=np.nan)))\",\n",
    "                     \"X['D'].isin(['foo', 'bar'])\",\n",
    "                     \"X['E'].to_numpy(na_value=np.nan)==X['F'].to_numpy(na_value=np.nan)\",\n",
    "                     \"X['G'].fillna('')==''\"],\n",
    "        'Rule2': [\"X['A'].str.startswith(')(')\"]\n",
    "    }"
   ]
  },
  {
   "cell_type": "code",
   "execution_count": 31,
   "metadata": {},
   "outputs": [],
   "source": [
    "parent_dict = {\n",
    "            'condition': None,\n",
    "            'rules': []\n",
    "        }"
   ]
  },
  {
   "cell_type": "code",
   "execution_count": 32,
   "metadata": {},
   "outputs": [
    {
     "data": {
      "text/plain": [
       "{'condition': None,\n",
       " 'rules': [{'condition': 'OR',\n",
       "   'rules': [{'field': 'A', 'operator': 'greater_or_equal', 'value': 60.0},\n",
       "    {'field': 'B', 'operator': 'begins_with', 'value': 'foo'},\n",
       "    {'field': 'C', 'operator': 'is_null', 'value': None}]},\n",
       "  {'field': 'D', 'operator': 'in', 'value': ['foo', 'bar']},\n",
       "  {'field': 'E', 'operator': 'equal_field', 'value': 'F'},\n",
       "  {'field': 'G', 'operator': 'is_empty', 'value': None}]}"
      ]
     },
     "execution_count": 32,
     "metadata": {},
     "output_type": "execute_result"
    }
   ],
   "source": [
    "r._convert_rule_string_conditions(expected_results['Rule1_pd'], parent_dict=parent_dict)"
   ]
  },
  {
   "cell_type": "code",
   "execution_count": 33,
   "metadata": {},
   "outputs": [
    {
     "data": {
      "text/plain": [
       "{'condition': 'AND',\n",
       " 'rules': [{'condition': 'OR',\n",
       "   'rules': [{'field': 'A', 'operator': 'greater_or_equal', 'value': 60.0},\n",
       "    {'field': 'B', 'operator': 'begins_with', 'value': 'foo'},\n",
       "    {'field': 'C', 'operator': 'is_null', 'value': None}]},\n",
       "  {'field': 'D', 'operator': 'in', 'value': ['foo', 'bar']},\n",
       "  {'field': 'E', 'operator': 'equal_field', 'value': 'F'},\n",
       "  {'field': 'G', 'operator': 'is_empty', 'value': None}]}"
      ]
     },
     "execution_count": 33,
     "metadata": {},
     "output_type": "execute_result"
    }
   ],
   "source": [
    "{'condition': 'AND',\n",
    "                  'rules': [{'condition': 'OR',\n",
    "                             'rules': [{'field': 'A',\n",
    "                                        'operator': 'greater_or_equal',\n",
    "                                        'value': 60.0},\n",
    "                                       {'field': 'B',\n",
    "                                        'operator': 'begins_with',\n",
    "                                        'value': 'foo'},\n",
    "                                       {'field': 'C',\n",
    "                                        'operator': 'is_null',\n",
    "                                        'value': None}]},\n",
    "                            {'field': 'D',\n",
    "                             'operator': 'in', 'value': ['foo', 'bar']},\n",
    "                            {'field': 'E',\n",
    "                             'operator': 'equal_field',\n",
    "                             'value': 'F'},\n",
    "                            {'field': 'G',\n",
    "                             'operator': 'is_empty',\n",
    "                             'value': None}\n",
    "                            ]\n",
    "                  }"
   ]
  },
  {
   "cell_type": "code",
   "execution_count": null,
   "metadata": {},
   "outputs": [],
   "source": []
  }
 ],
 "metadata": {
  "kernelspec": {
   "display_name": "argo",
   "language": "python",
   "name": "argo"
  },
  "language_info": {
   "codemirror_mode": {
    "name": "ipython",
    "version": 3
   },
   "file_extension": ".py",
   "mimetype": "text/x-python",
   "name": "python",
   "nbconvert_exporter": "python",
   "pygments_lexer": "ipython3",
   "version": "3.7.3"
  }
 },
 "nbformat": 4,
 "nbformat_minor": 4
}
