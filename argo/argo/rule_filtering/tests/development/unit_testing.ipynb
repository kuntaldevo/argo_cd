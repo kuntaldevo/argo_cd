{
 "cells": [
  {
   "cell_type": "code",
   "execution_count": 1,
   "metadata": {},
   "outputs": [],
   "source": [
    "%load_ext autoreload\n",
    "%autoreload 2"
   ]
  },
  {
   "cell_type": "code",
   "execution_count": 2,
   "metadata": {},
   "outputs": [],
   "source": [
    "import pytest\n",
    "from rule_filtering.rule_filters import FilterRules, GreedyFilter, FilterCorrelatedRules\n",
    "from rule_optimisation.optimisation_functions import FScore, AlertsPerDay\n",
    "from correlation_reduction.similarity_functions import CosineSimilarity, JaccardSimilarity\n",
    "from correlation_reduction.correlation_reduction_methods import AgglomerativeClusteringFeatureReduction\n",
    "import argo_utils.argo_utils as argo_utils\n",
    "import numpy as np\n",
    "import pandas as pd\n",
    "import random\n",
    "from itertools import product\n",
    "\n",
    "\n",
    "def create_data():\n",
    "    def return_random_num(y, fraud_min, fraud_max, nonfraud_min, nonfraud_max, rand_func):\n",
    "        data = [rand_func(fraud_min, fraud_max) if i == 1 else rand_func(\n",
    "            nonfraud_min, nonfraud_max) for i in y]\n",
    "        return data\n",
    "\n",
    "    random.seed(0)\n",
    "    np.random.seed(0)\n",
    "    y = pd.Series(data=[0]*980 + [1]*20, index=list(range(0, 1000)))\n",
    "    X_rules = pd.DataFrame(data={\n",
    "        \"Rule1\": [0]*980 + [1]*6 + [0] * 14,\n",
    "        \"Rule2\": [0]*987 + [1]*6 + [0] * 7,\n",
    "        \"Rule3\": [0]*993 + [1]*6 + [0] * 1,\n",
    "        \"Rule4\": [round(max(i, 0)) for i in return_random_num(y, 0.4, 1, 0.5, 0.6, np.random.uniform)],\n",
    "        \"Rule5\": [round(max(i, 0)) for i in return_random_num(y, 0.2, 1, 0, 0.6, np.random.uniform)],\n",
    "    },\n",
    "        index=list(range(0, 1000))\n",
    "    )\n",
    "    weights = y.apply(lambda x: 10 if x == 1 else 1)\n",
    "    return X_rules, y, weights"
   ]
  },
  {
   "cell_type": "code",
   "execution_count": 3,
   "metadata": {},
   "outputs": [],
   "source": [
    "apd = AlertsPerDay(n_alerts_expected_per_day=10, no_of_days_in_file=10)"
   ]
  },
  {
   "cell_type": "code",
   "execution_count": 11,
   "metadata": {},
   "outputs": [],
   "source": [
    "X_rules, y, weights = create_data()"
   ]
  },
  {
   "cell_type": "code",
   "execution_count": 15,
   "metadata": {},
   "outputs": [],
   "source": [
    "filters={\n",
    "    'OptMetric': {\n",
    "            'Operator': '>=',\n",
    "            'Value': -100\n",
    "        }\n",
    "}"
   ]
  },
  {
   "cell_type": "code",
   "execution_count": 16,
   "metadata": {},
   "outputs": [],
   "source": [
    "fr = FilterRules(filters=filters, opt_func=apd.fit)"
   ]
  },
  {
   "cell_type": "code",
   "execution_count": 17,
   "metadata": {},
   "outputs": [],
   "source": [
    "fr.fit(X_rules=X_rules)"
   ]
  },
  {
   "cell_type": "code",
   "execution_count": 18,
   "metadata": {},
   "outputs": [
    {
     "data": {
      "text/plain": [
       "['Rule1', 'Rule2', 'Rule3', 'Rule5']"
      ]
     },
     "execution_count": 18,
     "metadata": {},
     "output_type": "execute_result"
    }
   ],
   "source": [
    "fr.rules_to_keep"
   ]
  },
  {
   "cell_type": "code",
   "execution_count": 22,
   "metadata": {},
   "outputs": [
    {
     "data": {
      "text/plain": [
       "Index(['Rule1', 'Rule2', 'Rule3', 'Rule4', 'Rule5'], dtype='object')"
      ]
     },
     "execution_count": 22,
     "metadata": {},
     "output_type": "execute_result"
    }
   ],
   "source": [
    "fr.rule_descriptions.index"
   ]
  },
  {
   "cell_type": "code",
   "execution_count": null,
   "metadata": {},
   "outputs": [],
   "source": []
  }
 ],
 "metadata": {
  "kernelspec": {
   "display_name": "argo",
   "language": "python",
   "name": "argo"
  },
  "language_info": {
   "codemirror_mode": {
    "name": "ipython",
    "version": 3
   },
   "file_extension": ".py",
   "mimetype": "text/x-python",
   "name": "python",
   "nbconvert_exporter": "python",
   "pygments_lexer": "ipython3",
   "version": "3.7.3"
  }
 },
 "nbformat": 4,
 "nbformat_minor": 4
}
