{
 "cells": [
  {
   "cell_type": "code",
   "execution_count": 1,
   "metadata": {},
   "outputs": [],
   "source": [
    "%load_ext memory_profiler"
   ]
  },
  {
   "cell_type": "code",
   "execution_count": 3,
   "metadata": {},
   "outputs": [],
   "source": [
    "from argo_utils.argo_utils import *"
   ]
  },
  {
   "cell_type": "markdown",
   "metadata": {},
   "source": [
    "# convert_conditions_to_argo_string"
   ]
  },
  {
   "cell_type": "code",
   "execution_count": 5,
   "metadata": {},
   "outputs": [],
   "source": [
    "_range = range(0, 100)\n",
    "\n",
    "X_list = [X for i in _range]\n",
    "\n",
    "col_name = [(f'int_col{i}', f'ohe_cat_col{i}', f'float_col{i}')for i in _range]\n",
    "\n",
    "col_name = [c for t in col_name for c in t]\n",
    "\n",
    "X_big = pd.concat(X_list, axis=1)"
   ]
  },
  {
   "cell_type": "code",
   "execution_count": 56,
   "metadata": {},
   "outputs": [
    {
     "name": "stdout",
     "output_type": "stream",
     "text": [
      "Overwriting test.py\n"
     ]
    }
   ],
   "source": [
    "%%file test.py\n",
    "\n",
    "import pandas as pd\n",
    "import numpy as np\n",
    "\n",
    "@profile\n",
    "def my_func():\n",
    "    l = [1] * 10**6\n",
    "#     l_ = l * 2\n",
    "    l = l * 2\n",
    "    return l\n",
    "#     X = pd.DataFrame({\n",
    "#         'int_col': np.random.randint(0, 10, 1000000),\n",
    "#         'ohe_cat_col': np.random.randint(0, 2, 1000000),\n",
    "#         'float_col': np.random.uniform(0, 1, 1000000)\n",
    "#     })\n",
    "    \n",
    "#     int_mask = (X - X.round()).sum() == 0\n",
    "#     int_cols = list(X.columns[int_mask])\n",
    "#     float_cols = list(X.columns[~int_mask])\n",
    "#     ohe_cat_cols = []\n",
    "#     for col in int_cols:\n",
    "#         unique_values = X[col].unique()\n",
    "#         unique_values.sort()\n",
    "#         unique_values = set(unique_values)\n",
    "#         if unique_values == {0, 1}:\n",
    "#             ohe_cat_cols.append(col)\n",
    "#     return int_cols, ohe_cat_cols, float_cols\n",
    "\n",
    "if __name__ == '__main__':\n",
    "    my_func()"
   ]
  },
  {
   "cell_type": "code",
   "execution_count": 57,
   "metadata": {},
   "outputs": [
    {
     "name": "stdout",
     "output_type": "stream",
     "text": [
      "Filename: test.py\n",
      "\n",
      "Line #    Mem usage    Increment  Occurences   Line Contents\n",
      "============================================================\n",
      "     5   67.699 MiB   67.699 MiB           1   @profile\n",
      "     6                                         def my_func():\n",
      "     7   75.332 MiB    7.633 MiB           1       l = [1] * 10**6\n",
      "     8                                         #     l_ = l * 2\n",
      "     9   90.594 MiB   15.262 MiB           1       l = l * 2\n",
      "    10   90.594 MiB    0.000 MiB           1       return l\n",
      "\n",
      "\n"
     ]
    }
   ],
   "source": [
    "!python -m memory_profiler test.py"
   ]
  },
  {
   "cell_type": "code",
   "execution_count": 58,
   "metadata": {},
   "outputs": [],
   "source": [
    "l = [\n",
    "    ('col_cat', '<=', 0.5), ('col_cat', '>', 0.5), ('col_float', '>=', 1.1), ('col_int', '>=', 1.2)\n",
    "]"
   ]
  },
  {
   "cell_type": "code",
   "execution_count": 59,
   "metadata": {},
   "outputs": [],
   "source": [
    "list_of_conditions = l * 10"
   ]
  },
  {
   "cell_type": "code",
   "execution_count": 60,
   "metadata": {},
   "outputs": [],
   "source": [
    "columns_int = ['col_int']\n",
    "columns_cat = ['col_cat']"
   ]
  },
  {
   "cell_type": "code",
   "execution_count": 61,
   "metadata": {},
   "outputs": [
    {
     "name": "stdout",
     "output_type": "stream",
     "text": [
      "peak memory: 123.23 MiB, increment: -0.18 MiB\n"
     ]
    }
   ],
   "source": [
    "%memit convert_conditions_to_argo_string(list_of_conditions, columns_int, columns_cat)"
   ]
  },
  {
   "cell_type": "code",
   "execution_count": 71,
   "metadata": {},
   "outputs": [
    {
     "name": "stdout",
     "output_type": "stream",
     "text": [
      "peak memory: 411.04 MiB, increment: 282.73 MiB\n"
     ]
    }
   ],
   "source": [
    "%memit [i for i in range(0, 10000000)]"
   ]
  },
  {
   "cell_type": "code",
   "execution_count": 78,
   "metadata": {},
   "outputs": [],
   "source": [
    "np.random.seed(0)\n",
    "X = pd.DataFrame({\n",
    "    'A': np.random.randint(0, 2, 1000000),\n",
    "    'B': np.random.randint(0, 2, 1000000)\n",
    "})\n",
    "y = pd.Series(np.random.randint(0, 2, 1000000))"
   ]
  },
  {
   "cell_type": "code",
   "execution_count": 79,
   "metadata": {},
   "outputs": [
    {
     "name": "stdout",
     "output_type": "stream",
     "text": [
      "peak memory: 195.46 MiB, increment: 30.52 MiB\n"
     ]
    }
   ],
   "source": [
    "%memit return_binary_pred_perf_of_set_numpy(y_true=y, y_preds=X, y_preds_columns=X.columns)"
   ]
  },
  {
   "cell_type": "code",
   "execution_count": 76,
   "metadata": {},
   "outputs": [
    {
     "name": "stdout",
     "output_type": "stream",
     "text": [
      "peak memory: 134.41 MiB, increment: 0.00 MiB\n"
     ]
    }
   ],
   "source": [
    "%memit [i for i in range(0, 10)]"
   ]
  },
  {
   "cell_type": "code",
   "execution_count": 86,
   "metadata": {},
   "outputs": [],
   "source": [
    "def sum_of_lists(N):\n",
    "    total = 0\n",
    "    for i in range(5):\n",
    "        L = [j ^ (j >> i) for j in range(N)]\n",
    "        total += sum(L)\n",
    "        del L # remove reference to L\n",
    "    return total"
   ]
  },
  {
   "cell_type": "code",
   "execution_count": 87,
   "metadata": {},
   "outputs": [
    {
     "name": "stdout",
     "output_type": "stream",
     "text": [
      "peak memory: 186.46 MiB, increment: 27.93 MiB\n"
     ]
    }
   ],
   "source": [
    "%memit sum_of_lists(1000000)"
   ]
  },
  {
   "cell_type": "code",
   "execution_count": 22,
   "metadata": {
    "collapsed": true,
    "jupyter": {
     "outputs_hidden": true
    }
   },
   "outputs": [
    {
     "name": "stdout",
     "output_type": "stream",
     "text": [
      "\n"
     ]
    },
    {
     "data": {
      "text/plain": [
       "Filename: /Users/jlaidler/Documents/tigress/tigress/argo/argo/argo_utils/argo_utils/argo_utils.py\n",
       "\n",
       "Line #    Mem usage    Increment  Occurences   Line Contents\n",
       "============================================================\n",
       "    10    277.0 MiB    277.0 MiB           1   def convert_conditions_to_argo_string(list_of_conditions: list, columns_int: list,\n",
       "    11                                                                               columns_cat: list) -> str:\n",
       "    12                                             \"\"\"\n",
       "    13                                             Converts a list of conditions to the standard ARGO string format.\n",
       "    14                                         \n",
       "    15                                             Args:\n",
       "    16                                                 list_of_conditions (list): Each element contains a tuple of the feature (str),\n",
       "    17                                                     operator (str) and value (numeric) for each condition in the rule.\n",
       "    18                                                 columns_int (list): List of integer columns.\n",
       "    19                                                 columns_cat (list): List of OHE categorical columns.\n",
       "    20                                         \n",
       "    21                                             Returns:\n",
       "    22                                                 str: The ARGO-readable rule name.\n",
       "    23                                             \"\"\"\n",
       "    24                                         \n",
       "    25    277.0 MiB      0.0 MiB          11       def convert_values_for_columns_int(feature, operator, value):\n",
       "    26                                                 \"\"\"Method for converting a condition containing an integer value from float to int\"\"\"\n",
       "    27    277.0 MiB      0.0 MiB          10           if operator in ['>=', '>']:\n",
       "    28    277.0 MiB      0.0 MiB          10               return feature, '>=', math.ceil(value)\n",
       "    29                                                 elif operator in ['<=', '<']:\n",
       "    30                                                     return feature, '<=', math.floor(value)\n",
       "    31                                                 else:\n",
       "    32                                                     return feature, operator, value\n",
       "    33                                         \n",
       "    34    277.0 MiB      0.0 MiB           1       conditions = []\n",
       "    35    277.0 MiB      0.0 MiB          41       for feature, operator, value in list_of_conditions:\n",
       "    36    277.0 MiB      0.0 MiB          40           if feature in columns_cat:\n",
       "    37    277.0 MiB      0.0 MiB          20               if (operator == '<=' and value < 1) or (operator == '==' and value == 0):\n",
       "    38    277.0 MiB      0.0 MiB          10                   condition = f\"(X['{feature}']==False)\"\n",
       "    39    277.0 MiB      0.0 MiB          10               elif (operator == '>' and value >= 0) or (operator == '==' and value == 1):\n",
       "    40    277.0 MiB      0.0 MiB          10                   condition = f\"(X['{feature}']==True)\"\n",
       "    41                                                 # If feature is an int, round the value\n",
       "    42    277.0 MiB      0.0 MiB          20           elif feature in columns_int:\n",
       "    43    277.0 MiB      0.0 MiB          10               feature, operator, value = convert_values_for_columns_int(\n",
       "    44    277.0 MiB      0.0 MiB          10                   feature, operator, value)\n",
       "    45    277.0 MiB      0.0 MiB          10               condition = f\"(X['{feature}']{operator}{value})\"\n",
       "    46                                                 else:\n",
       "    47    277.0 MiB      0.0 MiB          10               condition = f\"(X['{feature}']{operator}{value})\"\n",
       "    48    277.0 MiB      0.0 MiB          40           conditions.append(condition)\n",
       "    49    277.0 MiB      0.0 MiB           1       conditions.sort()\n",
       "    50    277.0 MiB      0.0 MiB           1       name = '&'.join(conditions)\n",
       "    51    277.0 MiB      0.0 MiB           1       return name"
      ]
     },
     "metadata": {},
     "output_type": "display_data"
    }
   ],
   "source": [
    "%mprun -f convert_conditions_to_argo_string convert_conditions_to_argo_string(list_of_conditions, columns_int, columns_cat)"
   ]
  },
  {
   "cell_type": "code",
   "execution_count": 11,
   "metadata": {},
   "outputs": [
    {
     "name": "stdout",
     "output_type": "stream",
     "text": [
      "\n"
     ]
    },
    {
     "data": {
      "text/plain": []
     },
     "metadata": {},
     "output_type": "display_data"
    }
   ],
   "source": [
    "%mprun con(list_of_conditions, columns_int, columns_cat)"
   ]
  },
  {
   "cell_type": "code",
   "execution_count": 4,
   "metadata": {},
   "outputs": [],
   "source": [
    "import memory_profiler"
   ]
  },
  {
   "cell_type": "code",
   "execution_count": 6,
   "metadata": {},
   "outputs": [
    {
     "name": "stdout",
     "output_type": "stream",
     "text": [
      "Writing test.py\n"
     ]
    }
   ],
   "source": [
    "%%writefile test.py\n",
    "@profile\n",
    "def test():\n",
    "    a = [1] * 1000000\n",
    "    b = [2] * 9000000\n",
    "    del b\n",
    "    return a"
   ]
  },
  {
   "cell_type": "code",
   "execution_count": 7,
   "metadata": {},
   "outputs": [
    {
     "ename": "NameError",
     "evalue": "name 'profile' is not defined",
     "output_type": "error",
     "traceback": [
      "\u001b[0;31m---------------------------------------------------------------------------\u001b[0m",
      "\u001b[0;31mNameError\u001b[0m                                 Traceback (most recent call last)",
      "\u001b[0;32m<ipython-input-7-97c829e5a53c>\u001b[0m in \u001b[0;36m<module>\u001b[0;34m\u001b[0m\n\u001b[0;32m----> 1\u001b[0;31m \u001b[0;32mfrom\u001b[0m \u001b[0mtest\u001b[0m \u001b[0;32mimport\u001b[0m \u001b[0mtest\u001b[0m\u001b[0;34m\u001b[0m\u001b[0;34m\u001b[0m\u001b[0m\n\u001b[0m",
      "\u001b[0;32m~/Documents/tigress/tigress/argo/argo/argo_utils/tests/development/test.py\u001b[0m in \u001b[0;36m<module>\u001b[0;34m\u001b[0m\n\u001b[0;32m----> 1\u001b[0;31m \u001b[0;34m@\u001b[0m\u001b[0mprofile\u001b[0m\u001b[0;34m\u001b[0m\u001b[0;34m\u001b[0m\u001b[0m\n\u001b[0m\u001b[1;32m      2\u001b[0m \u001b[0;32mdef\u001b[0m \u001b[0mtest\u001b[0m\u001b[0;34m(\u001b[0m\u001b[0;34m)\u001b[0m\u001b[0;34m:\u001b[0m\u001b[0;34m\u001b[0m\u001b[0;34m\u001b[0m\u001b[0m\n\u001b[1;32m      3\u001b[0m     \u001b[0ma\u001b[0m \u001b[0;34m=\u001b[0m \u001b[0;34m[\u001b[0m\u001b[0;36m1\u001b[0m\u001b[0;34m]\u001b[0m \u001b[0;34m*\u001b[0m \u001b[0;36m1000000\u001b[0m\u001b[0;34m\u001b[0m\u001b[0;34m\u001b[0m\u001b[0m\n\u001b[1;32m      4\u001b[0m     \u001b[0mb\u001b[0m \u001b[0;34m=\u001b[0m \u001b[0;34m[\u001b[0m\u001b[0;36m2\u001b[0m\u001b[0;34m]\u001b[0m \u001b[0;34m*\u001b[0m \u001b[0;36m9000000\u001b[0m\u001b[0;34m\u001b[0m\u001b[0;34m\u001b[0m\u001b[0m\n\u001b[1;32m      5\u001b[0m     \u001b[0;32mdel\u001b[0m \u001b[0mb\u001b[0m\u001b[0;34m\u001b[0m\u001b[0;34m\u001b[0m\u001b[0m\n",
      "\u001b[0;31mNameError\u001b[0m: name 'profile' is not defined"
     ]
    }
   ],
   "source": [
    "from test import test"
   ]
  },
  {
   "cell_type": "code",
   "execution_count": 52,
   "metadata": {},
   "outputs": [
    {
     "name": "stdout",
     "output_type": "stream",
     "text": [
      "\n",
      "\n",
      "*** Profile printout saved to text file mprof0. \n"
     ]
    },
    {
     "data": {
      "text/plain": [
       "Filename: /Users/jlaidler/Documents/tigress/tigress/argo/argo/argo_utils/tests/development/test.py\n",
       "\n",
       "Line #    Mem usage    Increment  Occurences   Line Contents\n",
       "============================================================\n",
       "     1    276.3 MiB    276.3 MiB           1   def test():\n",
       "     2    276.3 MiB      0.0 MiB       10003       a = [1] * 1000000\n",
       "     3    276.3 MiB      0.0 MiB           1       b = [2] * 9000000\n",
       "     4    276.3 MiB      0.0 MiB           1       del b\n",
       "     5                                             return a"
      ]
     },
     "metadata": {},
     "output_type": "display_data"
    }
   ],
   "source": [
    "%mprun -T mprof0 -f test test()"
   ]
  },
  {
   "cell_type": "code",
   "execution_count": 53,
   "metadata": {},
   "outputs": [
    {
     "name": "stdout",
     "output_type": "stream",
     "text": [
      "Filename: /Users/jlaidler/Documents/tigress/tigress/argo/argo/argo_utils/tests/development/test.py\n",
      "\n",
      "Line #    Mem usage    Increment  Occurences   Line Contents\n",
      "============================================================\n",
      "     1    276.3 MiB    276.3 MiB           1   def test():\n",
      "     2    276.3 MiB      0.0 MiB       10003       a = [1] * 1000000\n",
      "     3    276.3 MiB      0.0 MiB           1       b = [2] * 9000000\n",
      "     4    276.3 MiB      0.0 MiB           1       del b\n",
      "     5                                             return a\n"
     ]
    }
   ],
   "source": [
    "print(open('mprof0', 'r').read())"
   ]
  },
  {
   "cell_type": "code",
   "execution_count": null,
   "metadata": {},
   "outputs": [],
   "source": []
  }
 ],
 "metadata": {
  "kernelspec": {
   "display_name": "argo",
   "language": "python",
   "name": "argo"
  },
  "language_info": {
   "codemirror_mode": {
    "name": "ipython",
    "version": 3
   },
   "file_extension": ".py",
   "mimetype": "text/x-python",
   "name": "python",
   "nbconvert_exporter": "python",
   "pygments_lexer": "ipython3",
   "version": "3.7.3"
  }
 },
 "nbformat": 4,
 "nbformat_minor": 4
}
