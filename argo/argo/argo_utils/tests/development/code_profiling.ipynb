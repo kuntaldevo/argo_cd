{
 "cells": [
  {
   "cell_type": "code",
   "execution_count": 1,
   "metadata": {},
   "outputs": [],
   "source": [
    "%load_ext autoreload\n",
    "%autoreload 2"
   ]
  },
  {
   "cell_type": "markdown",
   "metadata": {},
   "source": [
    "## Import packages"
   ]
  },
  {
   "cell_type": "code",
   "execution_count": 2,
   "metadata": {},
   "outputs": [],
   "source": [
    "import argo_utils.argo_utils as argo_utils\n",
    "\n",
    "import cProfile, pstats\n",
    "import numpy as np\n",
    "import pandas as pd"
   ]
  },
  {
   "cell_type": "markdown",
   "metadata": {},
   "source": [
    "---"
   ]
  },
  {
   "cell_type": "markdown",
   "metadata": {},
   "source": [
    "# convert_conditions_to_argo_string"
   ]
  },
  {
   "cell_type": "code",
   "execution_count": 3,
   "metadata": {},
   "outputs": [],
   "source": [
    "l = [\n",
    "    ('col_cat', '<=', 0.5), ('col_cat', '>', 0.5), ('col_float', '>=', 1.1), ('col_int', '>=', 1.2)\n",
    "]"
   ]
  },
  {
   "cell_type": "code",
   "execution_count": 4,
   "metadata": {},
   "outputs": [],
   "source": [
    "list_of_conditions = l * 1000000"
   ]
  },
  {
   "cell_type": "code",
   "execution_count": 5,
   "metadata": {},
   "outputs": [],
   "source": [
    "columns_int = ['col_int']\n",
    "columns_cat = ['col_cat']"
   ]
  },
  {
   "cell_type": "markdown",
   "metadata": {},
   "source": [
    "## OLD"
   ]
  },
  {
   "cell_type": "code",
   "execution_count": 6,
   "metadata": {},
   "outputs": [],
   "source": [
    "filename = 'convert_conditions_to_argo_string_old'"
   ]
  },
  {
   "cell_type": "code",
   "execution_count": 7,
   "metadata": {},
   "outputs": [],
   "source": [
    "cProfile.run('argo_utils.convert_conditions_to_argo_string(list_of_conditions, columns_int, columns_cat)', sort='cumtime', filename=f'{filename}.dat')"
   ]
  },
  {
   "cell_type": "code",
   "execution_count": 8,
   "metadata": {},
   "outputs": [
    {
     "name": "stdout",
     "output_type": "stream",
     "text": [
      "Mon Jan 18 13:42:32 2021    convert_conditions_to_argo_string_old.dat\n",
      "\n",
      "         6000006 function calls in 3.418 seconds\n",
      "\n",
      "   Ordered by: cumulative time\n",
      "\n",
      "   ncalls  tottime  percall  cumtime  percall filename:lineno(function)\n",
      "        1    0.000    0.000    3.418    3.418 {built-in method builtins.exec}\n",
      "        1    0.154    0.154    3.418    3.418 <string>:1(<module>)\n",
      "        1    1.980    1.980    3.263    3.263 /Users/jlaidler/Documents/tigress/tigress/argo/argo/argo_utils/argo_utils/argo_utils.py:10(convert_conditions_to_argo_string)\n",
      "        1    0.452    0.452    0.452    0.452 {method 'sort' of 'list' objects}\n",
      "  1000000    0.249    0.000    0.351    0.000 /Users/jlaidler/Documents/tigress/tigress/argo/argo/argo_utils/argo_utils/argo_utils.py:25(convert_values_for_columns_int)\n",
      "  4000000    0.240    0.000    0.240    0.000 {method 'append' of 'list' objects}\n",
      "        1    0.240    0.240    0.240    0.240 {method 'join' of 'str' objects}\n",
      "  1000000    0.103    0.000    0.103    0.000 {built-in method math.ceil}\n",
      "        1    0.000    0.000    0.000    0.000 {method 'disable' of '_lsprof.Profiler' objects}\n",
      "\n",
      "\n"
     ]
    },
    {
     "data": {
      "text/plain": [
       "<pstats.Stats at 0x12346d320>"
      ]
     },
     "execution_count": 8,
     "metadata": {},
     "output_type": "execute_result"
    }
   ],
   "source": [
    "p = pstats.Stats(f'{filename}.dat')\n",
    "p.sort_stats('cumtime').print_stats()"
   ]
  },
  {
   "cell_type": "markdown",
   "metadata": {},
   "source": [
    "Already fast enough."
   ]
  },
  {
   "cell_type": "markdown",
   "metadata": {},
   "source": [
    "# clean_dup_features_from_conditions"
   ]
  },
  {
   "cell_type": "code",
   "execution_count": 9,
   "metadata": {},
   "outputs": [],
   "source": [
    "l = [\n",
    "    ('col_cat', '<=', 0.5), ('col_cat', '<', 0.3), ('col_float', '>=', 1.1), ('col_float', '>=', 1.2)\n",
    "]"
   ]
  },
  {
   "cell_type": "code",
   "execution_count": 10,
   "metadata": {},
   "outputs": [],
   "source": [
    "list_of_conditions = l * 1000000"
   ]
  },
  {
   "cell_type": "markdown",
   "metadata": {},
   "source": [
    "## OLD"
   ]
  },
  {
   "cell_type": "code",
   "execution_count": 11,
   "metadata": {},
   "outputs": [],
   "source": [
    "filename = 'clean_dup_features_from_conditions_old'"
   ]
  },
  {
   "cell_type": "code",
   "execution_count": 12,
   "metadata": {},
   "outputs": [],
   "source": [
    "cProfile.run('argo_utils.clean_dup_features_from_conditions(list_of_conditions)', sort='cumtime', filename=f'{filename}.dat')"
   ]
  },
  {
   "cell_type": "code",
   "execution_count": 13,
   "metadata": {},
   "outputs": [
    {
     "name": "stdout",
     "output_type": "stream",
     "text": [
      "Mon Jan 18 13:45:13 2021    clean_dup_features_from_conditions_old.dat\n",
      "\n",
      "         16 function calls in 1.062 seconds\n",
      "\n",
      "   Ordered by: cumulative time\n",
      "\n",
      "   ncalls  tottime  percall  cumtime  percall filename:lineno(function)\n",
      "        1    0.000    0.000    1.062    1.062 {built-in method builtins.exec}\n",
      "        1    0.000    0.000    1.062    1.062 <string>:1(<module>)\n",
      "        1    0.000    0.000    1.062    1.062 /Users/jlaidler/Documents/tigress/tigress/argo/argo/argo_utils/argo_utils/argo_utils.py:54(clean_dup_features_from_conditions)\n",
      "        1    0.007    0.007    0.722    0.722 /Users/jlaidler/Documents/tigress/tigress/argo/argo/argo_utils/argo_utils/argo_utils.py:74(<listcomp>)\n",
      "        3    0.000    0.000    0.715    0.238 /Users/jlaidler/Documents/tigress/tigress/argo/argo/argo_utils/argo_utils/argo_utils.py:65(dedupe_conditions)\n",
      "        3    0.664    0.221    0.664    0.221 /Users/jlaidler/Documents/tigress/tigress/argo/argo/argo_utils/argo_utils/argo_utils.py:67(<listcomp>)\n",
      "        1    0.339    0.339    0.339    0.339 /Users/jlaidler/Documents/tigress/tigress/argo/argo/argo_utils/argo_utils/argo_utils.py:73(<setcomp>)\n",
      "        2    0.026    0.013    0.026    0.013 {built-in method builtins.min}\n",
      "        1    0.025    0.025    0.025    0.025 {built-in method builtins.max}\n",
      "        1    0.000    0.000    0.000    0.000 {method 'sort' of 'list' objects}\n",
      "        1    0.000    0.000    0.000    0.000 {method 'disable' of '_lsprof.Profiler' objects}\n",
      "\n",
      "\n"
     ]
    },
    {
     "data": {
      "text/plain": [
       "<pstats.Stats at 0x12346d780>"
      ]
     },
     "execution_count": 13,
     "metadata": {},
     "output_type": "execute_result"
    }
   ],
   "source": [
    "p = pstats.Stats(f'{filename}.dat')\n",
    "p.sort_stats('cumtime').print_stats()"
   ]
  },
  {
   "cell_type": "markdown",
   "metadata": {},
   "source": [
    "# return_columns_types"
   ]
  },
  {
   "cell_type": "code",
   "execution_count": 3,
   "metadata": {},
   "outputs": [],
   "source": [
    "import pandas as pd\n",
    "import numpy as np"
   ]
  },
  {
   "cell_type": "code",
   "execution_count": 4,
   "metadata": {},
   "outputs": [],
   "source": [
    "X = pd.DataFrame({\n",
    "    'int_col': np.random.randint(0, 10, 1000000),\n",
    "    'ohe_cat_col': np.random.randint(0, 2, 1000000),\n",
    "    'float_col': np.random.uniform(0, 1, 1000000)\n",
    "})"
   ]
  },
  {
   "cell_type": "code",
   "execution_count": 5,
   "metadata": {},
   "outputs": [],
   "source": [
    "_range = range(0, 100)"
   ]
  },
  {
   "cell_type": "code",
   "execution_count": 6,
   "metadata": {},
   "outputs": [],
   "source": [
    "X_list = [X for i in _range]"
   ]
  },
  {
   "cell_type": "code",
   "execution_count": 7,
   "metadata": {},
   "outputs": [],
   "source": [
    "col_name = [(f'int_col{i}', f'ohe_cat_col{i}', f'float_col{i}')for i in _range]"
   ]
  },
  {
   "cell_type": "code",
   "execution_count": 8,
   "metadata": {},
   "outputs": [],
   "source": [
    "col_name = [c for t in col_name for c in t]"
   ]
  },
  {
   "cell_type": "code",
   "execution_count": 9,
   "metadata": {},
   "outputs": [],
   "source": [
    "X_big = pd.concat(X_list, axis=1)"
   ]
  },
  {
   "cell_type": "code",
   "execution_count": 10,
   "metadata": {},
   "outputs": [
    {
     "data": {
      "text/plain": [
       "(1000000, 300)"
      ]
     },
     "execution_count": 10,
     "metadata": {},
     "output_type": "execute_result"
    }
   ],
   "source": [
    "X_big.shape"
   ]
  },
  {
   "cell_type": "code",
   "execution_count": 11,
   "metadata": {},
   "outputs": [],
   "source": [
    "X_big.columns = col_name"
   ]
  },
  {
   "cell_type": "markdown",
   "metadata": {},
   "source": [
    "## OLD"
   ]
  },
  {
   "cell_type": "code",
   "execution_count": 63,
   "metadata": {},
   "outputs": [],
   "source": [
    "filename = 'return_columns_types'"
   ]
  },
  {
   "cell_type": "code",
   "execution_count": 64,
   "metadata": {},
   "outputs": [],
   "source": [
    "cProfile.run('argo_utils.return_columns_types(X_big)', sort='cumtime', filename=f'{filename}.dat')"
   ]
  },
  {
   "cell_type": "code",
   "execution_count": 65,
   "metadata": {
    "collapsed": true,
    "jupyter": {
     "outputs_hidden": true
    }
   },
   "outputs": [
    {
     "name": "stdout",
     "output_type": "stream",
     "text": [
      "Mon Jan 18 13:58:59 2021    return_columns_types.dat\n",
      "\n",
      "         307795 function calls (306124 primitive calls) in 16.455 seconds\n",
      "\n",
      "   Ordered by: cumulative time\n",
      "\n",
      "   ncalls  tottime  percall  cumtime  percall filename:lineno(function)\n",
      "        1    0.000    0.000   16.455   16.455 {built-in method builtins.exec}\n",
      "        1    0.000    0.000   16.455   16.455 <string>:1(<module>)\n",
      "        1    0.481    0.481   16.455   16.455 /Users/jlaidler/Documents/tigress/tigress/argo/argo/argo_utils/argo_utils/argo_utils.py:96(return_columns_types)\n",
      "        1    0.000    0.000    7.151    7.151 /Users/jlaidler/venvs/argo/lib/python3.7/site-packages/pandas/core/generic.py:11389(stat_func)\n",
      "        1    0.000    0.000    7.151    7.151 /Users/jlaidler/venvs/argo/lib/python3.7/site-packages/pandas/core/frame.py:8531(_reduce)\n",
      "      601    0.001    0.000    6.220    0.010 /Users/jlaidler/venvs/argo/lib/python3.7/site-packages/pandas/core/generic.py:5197(_protect_consolidate)\n",
      "        1    0.000    0.000    6.219    6.219 /Users/jlaidler/venvs/argo/lib/python3.7/site-packages/pandas/core/frame.py:607(_is_homogeneous_type)\n",
      "        1    0.000    0.000    6.219    6.219 /Users/jlaidler/venvs/argo/lib/python3.7/site-packages/pandas/core/generic.py:5238(_is_mixed_type)\n",
      "        1    0.000    0.000    6.219    6.219 /Users/jlaidler/venvs/argo/lib/python3.7/site-packages/pandas/core/generic.py:5240(<lambda>)\n",
      "        1    0.000    0.000    6.219    6.219 /Users/jlaidler/venvs/argo/lib/python3.7/site-packages/pandas/core/internals/managers.py:688(is_mixed_type)\n",
      "        2    0.364    0.182    6.219    3.109 /Users/jlaidler/venvs/argo/lib/python3.7/site-packages/pandas/core/internals/managers.py:977(_consolidate_inplace)\n",
      "        1    0.000    0.000    5.854    5.854 /Users/jlaidler/venvs/argo/lib/python3.7/site-packages/pandas/core/internals/managers.py:1889(_consolidate)\n",
      "        2    3.594    1.797    5.849    2.924 /Users/jlaidler/venvs/argo/lib/python3.7/site-packages/pandas/core/internals/managers.py:1906(_merge_blocks)\n",
      "        1    0.000    0.000    4.081    4.081 /Users/jlaidler/venvs/argo/lib/python3.7/site-packages/pandas/core/frame.py:7966(round)\n",
      "        1    0.000    0.000    3.335    3.335 /Users/jlaidler/venvs/argo/lib/python3.7/site-packages/pandas/core/reshape/concat.py:70(concat)\n",
      "        4    0.000    0.000    3.331    0.833 /Users/jlaidler/venvs/argo/lib/python3.7/site-packages/pandas/core/frame.py:441(__init__)\n",
      "        1    0.000    0.000    3.331    3.331 /Users/jlaidler/venvs/argo/lib/python3.7/site-packages/pandas/core/reshape/concat.py:456(get_result)\n",
      "        1    0.000    0.000    3.331    3.331 /Users/jlaidler/venvs/argo/lib/python3.7/site-packages/pandas/core/internals/construction.py:237(init_dict)\n",
      "        1    0.000    0.000    3.328    3.328 /Users/jlaidler/venvs/argo/lib/python3.7/site-packages/pandas/core/internals/construction.py:60(arrays_to_mgr)\n",
      "        1    0.000    0.000    3.323    3.323 /Users/jlaidler/venvs/argo/lib/python3.7/site-packages/pandas/core/internals/managers.py:1675(create_block_manager_from_arrays)\n",
      "        1    0.001    0.001    3.323    3.323 /Users/jlaidler/venvs/argo/lib/python3.7/site-packages/pandas/core/internals/managers.py:1715(form_blocks)\n",
      "        2    0.000    0.000    3.313    1.656 /Users/jlaidler/venvs/argo/lib/python3.7/site-packages/pandas/core/internals/managers.py:1827(_multi_blockify)\n",
      "        2    3.305    1.652    3.312    1.656 /Users/jlaidler/venvs/argo/lib/python3.7/site-packages/pandas/core/internals/managers.py:1843(_stack_arrays)\n",
      "        1    0.000    0.000    3.191    3.191 /Users/jlaidler/venvs/argo/lib/python3.7/site-packages/pandas/core/ops/__init__.py:630(f)\n",
      "        1    0.000    0.000    3.191    3.191 /Users/jlaidler/venvs/argo/lib/python3.7/site-packages/pandas/core/frame.py:5853(_combine_frame)\n",
      "        1    0.000    0.000    3.190    3.190 /Users/jlaidler/venvs/argo/lib/python3.7/site-packages/pandas/core/ops/__init__.py:243(dispatch_to_series)\n",
      "        1    0.000    0.000    3.190    3.190 /Users/jlaidler/venvs/argo/lib/python3.7/site-packages/pandas/core/internals/managers.py:360(operate_blockwise)\n",
      "        1    0.004    0.004    3.190    3.190 /Users/jlaidler/venvs/argo/lib/python3.7/site-packages/pandas/core/internals/ops.py:12(operate_blockwise)\n",
      "      200    0.002    0.000    3.135    0.016 /Users/jlaidler/venvs/argo/lib/python3.7/site-packages/pandas/core/ops/array_ops.py:160(arithmetic_op)\n",
      "      201    0.002    0.000    3.126    0.016 /Users/jlaidler/venvs/argo/lib/python3.7/site-packages/pandas/core/ops/array_ops.py:119(na_arithmetic_op)\n",
      "      201    0.001    0.000    3.123    0.016 /Users/jlaidler/venvs/argo/lib/python3.7/site-packages/pandas/core/computation/expressions.py:217(evaluate)\n",
      "      201    0.002    0.000    3.122    0.016 /Users/jlaidler/venvs/argo/lib/python3.7/site-packages/pandas/core/computation/expressions.py:61(_evaluate_standard)\n",
      "      200    3.113    0.016    3.113    0.016 {built-in method _operator.sub}\n",
      "    15/11    2.251    0.150    2.252    0.205 {built-in method numpy.core._multiarray_umath.implement_array_function}\n",
      "        2    0.000    0.000    2.251    1.126 <__array_function__ internals>:2(vstack)\n",
      "        2    0.000    0.000    2.251    1.126 /Users/jlaidler/venvs/argo/lib/python3.7/site-packages/numpy/core/shape_base.py:223(vstack)\n",
      "        4    0.000    0.000    2.251    0.563 <__array_function__ internals>:2(concatenate)\n",
      "      200    0.001    0.000    1.542    0.008 /Users/jlaidler/venvs/argo/lib/python3.7/site-packages/pandas/core/series.py:1819(unique)\n",
      "      200    0.295    0.001    1.541    0.008 /Users/jlaidler/venvs/argo/lib/python3.7/site-packages/pandas/core/base.py:1255(unique)\n",
      "      200    0.003    0.000    1.244    0.006 /Users/jlaidler/venvs/argo/lib/python3.7/site-packages/pandas/core/algorithms.py:301(unique)\n",
      "      200    1.218    0.006    1.218    0.006 {method 'unique' of 'pandas._libs.hashtable.Int64HashTable' objects}\n",
      "        1    0.000    0.000    0.929    0.929 /Users/jlaidler/venvs/argo/lib/python3.7/site-packages/pandas/core/apply.py:140(get_result)\n",
      "        1    0.000    0.000    0.929    0.929 /Users/jlaidler/venvs/argo/lib/python3.7/site-packages/pandas/core/apply.py:270(apply_standard)\n",
      "        1    0.002    0.002    0.922    0.922 /Users/jlaidler/venvs/argo/lib/python3.7/site-packages/pandas/core/apply.py:276(apply_series_generator)\n",
      "      300    0.001    0.000    0.896    0.003 /Users/jlaidler/venvs/argo/lib/python3.7/site-packages/pandas/core/frame.py:8571(func)\n",
      "      300    0.005    0.000    0.892    0.003 /Users/jlaidler/venvs/argo/lib/python3.7/site-packages/pandas/core/nanops.py:61(_f)\n",
      "      300    0.002    0.000    0.877    0.003 /Users/jlaidler/venvs/argo/lib/python3.7/site-packages/pandas/core/nanops.py:470(nansum)\n",
      "        1    0.000    0.000    0.746    0.746 /Users/jlaidler/venvs/argo/lib/python3.7/site-packages/pandas/core/frame.py:8066(<listcomp>)\n",
      "      300    0.001    0.000    0.720    0.002 /Users/jlaidler/venvs/argo/lib/python3.7/site-packages/pandas/core/frame.py:8052(_series_round)\n",
      "      300    0.004    0.000    0.713    0.002 /Users/jlaidler/venvs/argo/lib/python3.7/site-packages/pandas/core/series.py:2185(round)\n",
      "      300    0.642    0.002    0.642    0.002 {method 'round' of 'numpy.ndarray' objects}\n",
      "      300    0.003    0.000    0.473    0.002 /Users/jlaidler/venvs/argo/lib/python3.7/site-packages/pandas/core/nanops.py:237(_get_values)\n",
      "      708    0.423    0.001    0.423    0.001 {method 'reduce' of 'numpy.ufunc' objects}\n",
      "      300    0.001    0.000    0.399    0.001 {method 'sum' of 'numpy.ndarray' objects}\n",
      "      300    0.000    0.000    0.398    0.001 /Users/jlaidler/venvs/argo/lib/python3.7/site-packages/numpy/core/_methods.py:45(_sum)\n",
      "      300    0.001    0.000    0.330    0.001 /Users/jlaidler/venvs/argo/lib/python3.7/site-packages/pandas/core/nanops.py:193(_maybe_get_mask)\n",
      "      101    0.000    0.000    0.325    0.003 /Users/jlaidler/venvs/argo/lib/python3.7/site-packages/pandas/core/dtypes/missing.py:47(isna)\n",
      "      101    0.000    0.000    0.325    0.003 /Users/jlaidler/venvs/argo/lib/python3.7/site-packages/pandas/core/dtypes/missing.py:130(_isna)\n",
      "      100    0.321    0.003    0.324    0.003 /Users/jlaidler/venvs/argo/lib/python3.7/site-packages/pandas/core/dtypes/missing.py:193(_isna_ndarraylike)\n",
      "      100    0.098    0.001    0.098    0.001 {method 'copy' of 'numpy.ndarray' objects}\n",
      "  904/903    0.008    0.000    0.082    0.000 /Users/jlaidler/venvs/argo/lib/python3.7/site-packages/pandas/core/series.py:201(__init__)\n",
      "      507    0.003    0.000    0.037    0.000 /Users/jlaidler/venvs/argo/lib/python3.7/site-packages/pandas/core/internals/blocks.py:2701(make_block)\n",
      "    53801    0.022    0.000    0.035    0.000 {built-in method builtins.isinstance}\n",
      "      807    0.005    0.000    0.035    0.000 /Users/jlaidler/venvs/argo/lib/python3.7/site-packages/pandas/core/internals/blocks.py:2655(get_block_type)\n",
      "      302    0.003    0.000    0.027    0.000 /Users/jlaidler/venvs/argo/lib/python3.7/site-packages/pandas/core/construction.py:390(sanitize_array)\n",
      "      301    0.001    0.000    0.026    0.000 /Users/jlaidler/venvs/argo/lib/python3.7/site-packages/pandas/core/frame.py:953(items)\n",
      "      500    0.002    0.000    0.025    0.000 /Users/jlaidler/venvs/argo/lib/python3.7/site-packages/pandas/core/generic.py:3532(_get_item_cache)\n",
      "      301    0.001    0.000    0.024    0.000 /Users/jlaidler/venvs/argo/lib/python3.7/site-packages/pandas/core/apply.py:342(<genexpr>)\n",
      "      300    0.002    0.000    0.023    0.000 /Users/jlaidler/venvs/argo/lib/python3.7/site-packages/pandas/core/frame.py:2816(_ixs)\n",
      "      200    0.007    0.000    0.022    0.000 /Users/jlaidler/venvs/argo/lib/python3.7/site-packages/pandas/core/internals/managers.py:1300(_slice_take_blocks_ax0)\n",
      "      204    0.000    0.000    0.021    0.000 {method 'any' of 'numpy.ndarray' objects}\n",
      "      204    0.000    0.000    0.021    0.000 /Users/jlaidler/venvs/argo/lib/python3.7/site-packages/numpy/core/_methods.py:53(_any)\n",
      "      302    0.001    0.000    0.020    0.000 /Users/jlaidler/venvs/argo/lib/python3.7/site-packages/pandas/core/internals/managers.py:1564(from_array)\n",
      "      201    0.001    0.000    0.020    0.000 /Users/jlaidler/venvs/argo/lib/python3.7/site-packages/pandas/core/internals/blocks.py:350(_split_op_result)\n",
      "      301    0.001    0.000    0.018    0.000 /Users/jlaidler/venvs/argo/lib/python3.7/site-packages/pandas/core/construction.py:520(_try_cast)\n",
      "      600    0.002    0.000    0.018    0.000 /Users/jlaidler/venvs/argo/lib/python3.7/site-packages/pandas/core/frame.py:3184(_box_col_values)\n",
      "     4958    0.004    0.000    0.017    0.000 /Users/jlaidler/venvs/argo/lib/python3.7/site-packages/pandas/core/dtypes/base.py:256(is_dtype)\n",
      "      600    0.006    0.000    0.017    0.000 /Users/jlaidler/venvs/argo/lib/python3.7/site-packages/pandas/core/internals/managers.py:984(iget)\n",
      "      201    0.001    0.000    0.017    0.000 /Users/jlaidler/venvs/argo/lib/python3.7/site-packages/pandas/core/internals/blocks.py:244(make_block)\n",
      "      200    0.001    0.000    0.014    0.000 /Users/jlaidler/venvs/argo/lib/python3.7/site-packages/pandas/core/algorithms.py:237(_get_hashtable_algo)\n",
      "    22565    0.009    0.000    0.014    0.000 /Users/jlaidler/venvs/argo/lib/python3.7/site-packages/pandas/core/dtypes/generic.py:10(_check)\n",
      "     3438    0.006    0.000    0.013    0.000 /Users/jlaidler/venvs/argo/lib/python3.7/site-packages/pandas/core/dtypes/common.py:1460(is_extension_array_dtype)\n",
      "     2409    0.005    0.000    0.013    0.000 /Users/jlaidler/venvs/argo/lib/python3.7/site-packages/pandas/core/generic.py:5141(__setattr__)\n",
      "     3637    0.005    0.000    0.012    0.000 /Users/jlaidler/venvs/argo/lib/python3.7/site-packages/pandas/core/dtypes/common.py:1600(_is_dtype_type)\n",
      "     1406    0.004    0.000    0.012    0.000 /Users/jlaidler/venvs/argo/lib/python3.7/site-packages/numpy/core/_ufunc_config.py:32(seterr)\n",
      "      700    0.001    0.000    0.011    0.000 /Users/jlaidler/venvs/argo/lib/python3.7/site-packages/pandas/core/dtypes/common.py:1180(needs_i8_conversion)\n",
      "      907    0.004    0.000    0.011    0.000 /Users/jlaidler/venvs/argo/lib/python3.7/site-packages/numpy/core/_dtype.py:321(_name_get)\n",
      "     1111    0.005    0.000    0.011    0.000 /Users/jlaidler/venvs/argo/lib/python3.7/site-packages/pandas/core/internals/blocks.py:124(__init__)\n",
      "      804    0.002    0.000    0.010    0.000 /Users/jlaidler/venvs/argo/lib/python3.7/site-packages/pandas/core/construction.py:339(extract_array)\n",
      "      703    0.002    0.000    0.010    0.000 /Users/jlaidler/venvs/argo/lib/python3.7/site-packages/numpy/core/_ufunc_config.py:438(__exit__)\n",
      "      100    0.000    0.000    0.009    0.000 /Users/jlaidler/venvs/argo/lib/python3.7/site-packages/pandas/core/dtypes/cast.py:360(maybe_upcast_putmask)\n",
      "     1311    0.004    0.000    0.009    0.000 /Users/jlaidler/venvs/argo/lib/python3.7/site-packages/pandas/core/internals/blocks.py:237(mgr_locs)\n",
      "     1526    0.002    0.000    0.009    0.000 /Users/jlaidler/venvs/argo/lib/python3.7/site-packages/pandas/core/dtypes/common.py:456(is_period_dtype)\n",
      "     1103    0.002    0.000    0.009    0.000 /Users/jlaidler/venvs/argo/lib/python3.7/site-packages/pandas/core/dtypes/common.py:696(is_integer_dtype)\n",
      "      200    0.002    0.000    0.009    0.000 /Users/jlaidler/venvs/argo/lib/python3.7/site-packages/pandas/core/algorithms.py:69(_ensure_data)\n",
      "     1807    0.002    0.000    0.008    0.000 /Users/jlaidler/venvs/argo/lib/python3.7/site-packages/pandas/core/dtypes/common.py:381(is_datetime64tz_dtype)\n",
      "      301    0.003    0.000    0.008    0.000 /Users/jlaidler/venvs/argo/lib/python3.7/site-packages/pandas/core/dtypes/cast.py:1187(maybe_castable)\n",
      "      200    0.002    0.000    0.008    0.000 /Users/jlaidler/venvs/argo/lib/python3.7/site-packages/pandas/core/internals/ops.py:64(_reset_block_mgr_locs)\n",
      "     1006    0.002    0.000    0.008    0.000 /Users/jlaidler/venvs/argo/lib/python3.7/site-packages/pandas/core/dtypes/common.py:1330(is_bool_dtype)\n",
      "    33196    0.007    0.000    0.007    0.000 {built-in method builtins.getattr}\n",
      "      300    0.002    0.000    0.007    0.000 /Users/jlaidler/venvs/argo/lib/python3.7/site-packages/pandas/core/internals/managers.py:1846(_asarray_compat)\n",
      "     1517    0.002    0.000    0.007    0.000 /Users/jlaidler/venvs/argo/lib/python3.7/site-packages/pandas/core/dtypes/dtypes.py:906(is_dtype)\n",
      "      201    0.002    0.000    0.007    0.000 /Users/jlaidler/venvs/argo/lib/python3.7/site-packages/pandas/core/dtypes/cast.py:1310(maybe_cast_to_datetime)\n",
      "8886/7535    0.005    0.000    0.006    0.000 {built-in method builtins.len}\n",
      "        1    0.000    0.000    0.006    0.006 /Users/jlaidler/venvs/argo/lib/python3.7/site-packages/pandas/core/apply.py:308(wrap_results)\n",
      "     3504    0.002    0.000    0.006    0.000 /Users/jlaidler/venvs/argo/lib/python3.7/site-packages/pandas/core/series.py:427(dtype)\n",
      "      604    0.001    0.000    0.006    0.000 /Users/jlaidler/venvs/argo/lib/python3.7/site-packages/pandas/core/internals/blocks.py:256(make_block_same_class)\n",
      "      826    0.001    0.000    0.006    0.000 /Users/jlaidler/venvs/argo/lib/python3.7/site-packages/pandas/core/dtypes/common.py:492(is_interval_dtype)\n",
      "      907    0.001    0.000    0.006    0.000 /Users/jlaidler/venvs/argo/lib/python3.7/site-packages/numpy/core/_dtype.py:307(_name_includes_bit_suffix)\n",
      "     3438    0.004    0.000    0.006    0.000 /Users/jlaidler/venvs/argo/lib/python3.7/site-packages/pandas/core/dtypes/base.py:413(find)\n",
      "     1202    0.004    0.000    0.006    0.000 /Users/jlaidler/venvs/argo/lib/python3.7/site-packages/pandas/core/indexes/base.py:4083(__getitem__)\n",
      "      200    0.001    0.000    0.006    0.000 /Users/jlaidler/venvs/argo/lib/python3.7/site-packages/pandas/core/algorithms.py:178(_reconstruct_data)\n",
      "      807    0.003    0.000    0.006    0.000 /Users/jlaidler/venvs/argo/lib/python3.7/site-packages/pandas/core/dtypes/common.py:224(is_sparse)\n",
      "      703    0.001    0.000    0.006    0.000 /Users/jlaidler/venvs/argo/lib/python3.7/site-packages/numpy/core/_ufunc_config.py:433(__enter__)\n",
      "     1434    0.003    0.000    0.005    0.000 <frozen importlib._bootstrap>:1009(_handle_fromlist)\n",
      "        1    0.000    0.000    0.005    0.005 /Users/jlaidler/venvs/argo/lib/python3.7/site-packages/pandas/core/internals/construction.py:329(_homogenize)\n",
      "      826    0.001    0.000    0.005    0.000 /Users/jlaidler/venvs/argo/lib/python3.7/site-packages/pandas/core/dtypes/common.py:530(is_categorical_dtype)\n",
      "      2/1    0.000    0.000    0.005    0.005 /Users/jlaidler/venvs/argo/lib/python3.7/site-packages/pandas/core/construction.py:600(create_series_with_explicit_dtype)\n",
      "      200    0.001    0.000    0.005    0.000 {method 'max' of 'numpy.ndarray' objects}\n",
      "      200    0.003    0.000    0.005    0.000 /Users/jlaidler/venvs/argo/lib/python3.7/site-packages/pandas/core/frame.py:2869(__getitem__)\n",
      "     1808    0.003    0.000    0.005    0.000 /Users/jlaidler/venvs/argo/lib/python3.7/site-packages/pandas/core/series.py:442(name)\n",
      "     1105    0.002    0.000    0.005    0.000 /Users/jlaidler/venvs/argo/lib/python3.7/site-packages/pandas/core/dtypes/common.py:194(is_object_dtype)\n",
      "        1    0.002    0.002    0.005    0.005 /Users/jlaidler/venvs/argo/lib/python3.7/site-packages/pandas/core/series.py:335(_init_dict)\n",
      "     1406    0.005    0.000    0.005    0.000 /Users/jlaidler/venvs/argo/lib/python3.7/site-packages/numpy/core/_ufunc_config.py:132(geterr)\n",
      "     5589    0.003    0.000    0.005    0.000 {built-in method builtins.hasattr}\n",
      "      200    0.002    0.000    0.005    0.000 /Users/jlaidler/venvs/argo/lib/python3.7/site-packages/pandas/core/algorithms.py:272(_check_object_for_strings)\n",
      "      204    0.003    0.000    0.005    0.000 /Users/jlaidler/venvs/argo/lib/python3.7/site-packages/numpy/core/_asarray.py:221(require)\n",
      "      200    0.000    0.000    0.005    0.000 /Users/jlaidler/venvs/argo/lib/python3.7/site-packages/numpy/core/_methods.py:37(_amax)\n",
      "      300    0.000    0.000    0.005    0.000 /Users/jlaidler/venvs/argo/lib/python3.7/site-packages/pandas/core/series.py:4403(reindex)\n",
      "      817    0.002    0.000    0.005    0.000 /Users/jlaidler/venvs/argo/lib/python3.7/site-packages/pandas/core/dtypes/dtypes.py:1119(is_dtype)\n",
      "     1101    0.001    0.000    0.005    0.000 /Users/jlaidler/venvs/argo/lib/python3.7/site-packages/pandas/core/series.py:540(_values)\n",
      "     1015    0.002    0.000    0.005    0.000 {pandas._libs.lib.is_list_like}\n",
      "      902    0.001    0.000    0.004    0.000 /Users/jlaidler/venvs/argo/lib/python3.7/site-packages/numpy/core/numerictypes.py:360(issubdtype)\n",
      "      300    0.001    0.000    0.004    0.000 /Users/jlaidler/venvs/argo/lib/python3.7/site-packages/pandas/core/generic.py:4214(reindex)\n",
      "      400    0.000    0.000    0.004    0.000 /Users/jlaidler/venvs/argo/lib/python3.7/site-packages/pandas/core/internals/managers.py:1894(<lambda>)\n",
      "     3504    0.002    0.000    0.004    0.000 /Users/jlaidler/venvs/argo/lib/python3.7/site-packages/pandas/core/internals/managers.py:1602(dtype)\n",
      "      200    0.001    0.000    0.004    0.000 /Users/jlaidler/venvs/argo/lib/python3.7/site-packages/pandas/core/dtypes/cast.py:1201(maybe_infer_to_datetimelike)\n",
      "      400    0.001    0.000    0.004    0.000 /Users/jlaidler/venvs/argo/lib/python3.7/site-packages/pandas/core/internals/blocks.py:176(_consolidate_key)\n",
      "      300    0.000    0.000    0.004    0.000 /Users/jlaidler/venvs/argo/lib/python3.7/site-packages/pandas/core/nanops.py:322(_na_ok_dtype)\n",
      "      908    0.004    0.000    0.004    0.000 /Users/jlaidler/venvs/argo/lib/python3.7/site-packages/pandas/core/generic.py:195(__init__)\n",
      "        1    0.000    0.000    0.004    0.004 /Users/jlaidler/venvs/argo/lib/python3.7/site-packages/pandas/core/reshape/concat.py:295(__init__)\n",
      "      302    0.000    0.000    0.004    0.000 {built-in method builtins.any}\n",
      "    16541    0.003    0.000    0.003    0.000 {built-in method builtins.issubclass}\n",
      "      300    0.001    0.000    0.003    0.000 /Users/jlaidler/venvs/argo/lib/python3.7/site-packages/pandas/core/indexes/base.py:2851(get_loc)\n",
      "      303    0.000    0.000    0.003    0.000 /Users/jlaidler/venvs/argo/lib/python3.7/site-packages/pandas/core/series.py:574(array)\n",
      "      209    0.001    0.000    0.003    0.000 /Users/jlaidler/venvs/argo/lib/python3.7/site-packages/pandas/core/internals/managers.py:212(shape)\n",
      "     1101    0.002    0.000    0.003    0.000 /Users/jlaidler/venvs/argo/lib/python3.7/site-packages/pandas/core/internals/managers.py:1613(internal_values)\n",
      "     1500    0.001    0.000    0.003    0.000 /Users/jlaidler/venvs/argo/lib/python3.7/site-packages/pandas/core/nanops.py:64(<genexpr>)\n",
      "      303    0.001    0.000    0.003    0.000 /Users/jlaidler/venvs/argo/lib/python3.7/site-packages/pandas/core/internals/blocks.py:207(array_values)\n",
      "        4    0.002    0.000    0.003    0.001 /Users/jlaidler/venvs/argo/lib/python3.7/site-packages/pandas/core/internals/managers.py:238(_rebuild_blknos_and_blklocs)\n",
      "     1804    0.002    0.000    0.003    0.000 /Users/jlaidler/venvs/argo/lib/python3.7/site-packages/numpy/core/numerictypes.py:286(issubclass_)\n",
      "     1100    0.001    0.000    0.003    0.000 /Users/jlaidler/venvs/argo/lib/python3.7/site-packages/pandas/core/internals/managers.py:163(blknos)\n",
      "      903    0.002    0.000    0.003    0.000 /Users/jlaidler/venvs/argo/lib/python3.7/site-packages/pandas/core/internals/managers.py:1532(__init__)\n",
      "      9/3    0.000    0.000    0.003    0.001 /Users/jlaidler/venvs/argo/lib/python3.7/site-packages/pandas/core/indexes/base.py:293(__new__)\n",
      "     1207    0.001    0.000    0.003    0.000 /Users/jlaidler/venvs/argo/lib/python3.7/site-packages/pandas/core/series.py:492(name)\n",
      "      305    0.000    0.000    0.003    0.000 /Users/jlaidler/venvs/argo/lib/python3.7/site-packages/pandas/core/construction.py:580(is_empty_data)\n",
      "      200    0.003    0.000    0.003    0.000 {pandas._libs.lib.maybe_indices_to_slice}\n",
      "      908    0.002    0.000    0.002    0.000 /Users/jlaidler/venvs/argo/lib/python3.7/site-packages/pandas/core/generic.py:5123(__getattr__)\n",
      "      700    0.001    0.000    0.002    0.000 /Users/jlaidler/venvs/argo/lib/python3.7/site-packages/pandas/core/dtypes/common.py:1025(is_datetime_or_timedelta_dtype)\n",
      "      324    0.000    0.000    0.002    0.000 /Users/jlaidler/venvs/argo/lib/python3.7/site-packages/pandas/core/indexes/base.py:5559(ensure_index)\n",
      "      600    0.001    0.000    0.002    0.000 /Users/jlaidler/venvs/argo/lib/python3.7/site-packages/pandas/core/generic.py:3180(_set_as_cached)\n",
      "        1    0.000    0.000    0.002    0.002 {built-in method builtins.sorted}\n",
      "      303    0.002    0.000    0.002    0.000 /Users/jlaidler/venvs/argo/lib/python3.7/site-packages/pandas/core/arrays/numpy_.py:162(__init__)\n",
      "        1    0.000    0.000    0.002    0.002 /Users/jlaidler/venvs/argo/lib/python3.7/site-packages/pandas/core/frame.py:8546(<listcomp>)\n",
      "     1618    0.001    0.000    0.002    0.000 //anaconda3/lib/python3.7/abc.py:137(__instancecheck__)\n",
      "1129/1125    0.002    0.000    0.002    0.000 {built-in method numpy.array}\n",
      "     1200    0.001    0.000    0.002    0.000 /Users/jlaidler/venvs/argo/lib/python3.7/site-packages/pandas/core/nanops.py:57(check)\n",
      "      303    0.001    0.000    0.002    0.000 /Users/jlaidler/venvs/argo/lib/python3.7/site-packages/pandas/core/generic.py:5095(__finalize__)\n",
      "      200    0.001    0.000    0.002    0.000 /Users/jlaidler/venvs/argo/lib/python3.7/site-packages/pandas/core/ops/array_ops.py:429(maybe_upcast_for_op)\n",
      "      315    0.001    0.000    0.002    0.000 /Users/jlaidler/venvs/argo/lib/python3.7/site-packages/pandas/core/indexes/base.py:5656(maybe_extract_name)\n",
      "      627    0.000    0.000    0.002    0.000 /Users/jlaidler/venvs/argo/lib/python3.7/site-packages/pandas/core/internals/managers.py:214(<genexpr>)\n",
      "      505    0.001    0.000    0.002    0.000 /Users/jlaidler/venvs/argo/lib/python3.7/site-packages/pandas/core/dtypes/common.py:1296(is_float_dtype)\n",
      "      904    0.002    0.000    0.002    0.000 /Users/jlaidler/venvs/argo/lib/python3.7/site-packages/pandas/core/series.py:398(_set_axis)\n",
      "        1    0.000    0.000    0.002    0.002 /Users/jlaidler/venvs/argo/lib/python3.7/site-packages/pandas/core/ops/common.py:50(new_method)\n",
      "      301    0.000    0.000    0.002    0.000 /Users/jlaidler/venvs/argo/lib/python3.7/site-packages/pandas/core/frame.py:2861(_iter_column_arrays)\n",
      "        1    0.001    0.001    0.002    0.002 /Users/jlaidler/venvs/argo/lib/python3.7/site-packages/pandas/core/ops/__init__.py:359(wrapper)\n",
      "     1722    0.001    0.000    0.002    0.000 /Users/jlaidler/venvs/argo/lib/python3.7/site-packages/pandas/core/dtypes/inference.py:322(is_hashable)\n",
      "      200    0.000    0.000    0.002    0.000 /Users/jlaidler/venvs/argo/lib/python3.7/site-packages/pandas/core/algorithms.py:213(_ensure_arraylike)\n",
      "     4908    0.002    0.000    0.002    0.000 /Users/jlaidler/venvs/argo/lib/python3.7/site-packages/pandas/core/internals/managers.py:1575(_block)\n",
      "      200    0.001    0.000    0.002    0.000 /Users/jlaidler/venvs/argo/lib/python3.7/site-packages/pandas/core/internals/blocks.py:292(getitem_block)\n",
      "      300    0.000    0.000    0.002    0.000 /Users/jlaidler/venvs/argo/lib/python3.7/site-packages/pandas/core/frame.py:2854(_get_column_array)\n",
      "     1406    0.002    0.000    0.002    0.000 {built-in method numpy.seterrobj}\n",
      "      600    0.000    0.000    0.002    0.000 /Users/jlaidler/venvs/argo/lib/python3.7/site-packages/pandas/core/generic.py:5208(_consolidate_inplace)\n",
      "      300    0.001    0.000    0.002    0.000 /Users/jlaidler/venvs/argo/lib/python3.7/site-packages/pandas/core/indexes/base.py:4976(_maybe_cast_indexer)\n",
      "      900    0.002    0.000    0.002    0.000 /Users/jlaidler/venvs/argo/lib/python3.7/site-packages/pandas/core/internals/blocks.py:319(iget)\n",
      "  609/309    0.000    0.000    0.002    0.000 {built-in method builtins.all}\n",
      "     1318    0.001    0.000    0.002    0.000 /Users/jlaidler/venvs/argo/lib/python3.7/site-packages/pandas/core/dtypes/common.py:188(<lambda>)\n",
      "      200    0.000    0.000    0.002    0.000 /Users/jlaidler/venvs/argo/lib/python3.7/site-packages/pandas/core/dtypes/inference.py:185(is_array_like)\n",
      "      300    0.000    0.000    0.002    0.000 /Users/jlaidler/venvs/argo/lib/python3.7/site-packages/pandas/core/internals/managers.py:999(iget_values)\n",
      "      600    0.000    0.000    0.002    0.000 /Users/jlaidler/venvs/argo/lib/python3.7/site-packages/pandas/core/generic.py:4448(<genexpr>)\n",
      "      300    0.001    0.000    0.002    0.000 /Users/jlaidler/venvs/argo/lib/python3.7/site-packages/pandas/core/nanops.py:328(_wrap_results)\n",
      "     1618    0.002    0.000    0.002    0.000 {built-in method _abc._abc_instancecheck}\n",
      "     1500    0.001    0.000    0.001    0.000 /Users/jlaidler/venvs/argo/lib/python3.7/site-packages/pandas/core/common.py:149(cast_scalar_indexer)\n",
      "     1209    0.001    0.000    0.001    0.000 /Users/jlaidler/venvs/argo/lib/python3.7/site-packages/pandas/core/dtypes/common.py:1733(pandas_dtype)\n",
      "        1    0.000    0.000    0.001    0.001 /Users/jlaidler/venvs/argo/lib/python3.7/site-packages/pandas/core/internals/construction.py:281(<listcomp>)\n",
      "      208    0.000    0.000    0.001    0.000 /Users/jlaidler/venvs/argo/lib/python3.7/site-packages/pandas/core/dtypes/common.py:750(is_signed_integer_dtype)\n",
      "     1116    0.001    0.000    0.001    0.000 /Users/jlaidler/venvs/argo/lib/python3.7/site-packages/pandas/core/indexes/range.py:687(__len__)\n",
      "     2319    0.001    0.000    0.001    0.000 /Users/jlaidler/venvs/argo/lib/python3.7/site-packages/pandas/core/dtypes/common.py:180(<lambda>)\n",
      "      300    0.000    0.000    0.001    0.000 /Users/jlaidler/venvs/argo/lib/python3.7/site-packages/pandas/core/generic.py:5216(_consolidate)\n",
      "     1410    0.001    0.000    0.001    0.000 {method 'append' of 'list' objects}\n",
      "     2812    0.001    0.000    0.001    0.000 {built-in method numpy.geterrobj}\n",
      "      912    0.001    0.000    0.001    0.000 /Users/jlaidler/venvs/argo/lib/python3.7/site-packages/pandas/core/dtypes/common.py:1565(_get_dtype)\n",
      "        1    0.000    0.000    0.001    0.001 /Users/jlaidler/venvs/argo/lib/python3.7/site-packages/pandas/core/reshape/concat.py:517(_get_new_axes)\n",
      "        1    0.000    0.000    0.001    0.001 /Users/jlaidler/venvs/argo/lib/python3.7/site-packages/pandas/core/reshape/concat.py:520(<listcomp>)\n",
      "      200    0.001    0.000    0.001    0.000 {method 'sort' of 'numpy.ndarray' objects}\n",
      "      301    0.001    0.000    0.001    0.000 /Users/jlaidler/venvs/argo/lib/python3.7/site-packages/pandas/core/arrays/numpy_.py:414(to_numpy)\n",
      "     4106    0.001    0.000    0.001    0.000 /Users/jlaidler/venvs/argo/lib/python3.7/site-packages/pandas/core/internals/blocks.py:315(dtype)\n",
      "      300    0.000    0.000    0.001    0.000 /Users/jlaidler/venvs/argo/lib/python3.7/site-packages/pandas/core/indexes/base.py:4275(identical)\n",
      "     1111    0.001    0.000    0.001    0.000 /Users/jlaidler/venvs/argo/lib/python3.7/site-packages/pandas/core/internals/blocks.py:135(_check_ndim)\n",
      "      204    0.001    0.000    0.001    0.000 /Users/jlaidler/venvs/argo/lib/python3.7/site-packages/numpy/core/_asarray.py:298(<setcomp>)\n",
      "      201    0.000    0.000    0.001    0.000 /Users/jlaidler/venvs/argo/lib/python3.7/site-packages/pandas/core/computation/expressions.py:195(_bool_arith_check)\n",
      "      300    0.001    0.000    0.001    0.000 {method 'get_loc' of 'pandas._libs.index.IndexEngine' objects}\n",
      "      902    0.001    0.000    0.001    0.000 {method 'format' of 'str' objects}\n",
      "        1    0.000    0.000    0.001    0.001 /Users/jlaidler/venvs/argo/lib/python3.7/site-packages/pandas/core/ops/array_ops.py:195(comparison_op)\n",
      "      600    0.000    0.000    0.001    0.000 /Users/jlaidler/venvs/argo/lib/python3.7/site-packages/pandas/core/generic.py:5211(f)\n",
      "      618    0.001    0.000    0.001    0.000 /Users/jlaidler/venvs/argo/lib/python3.7/site-packages/pandas/core/dtypes/common.py:905(is_datetime64_any_dtype)\n",
      "     2722    0.001    0.000    0.001    0.000 /Users/jlaidler/venvs/argo/lib/python3.7/site-packages/pandas/core/internals/blocks.py:233(mgr_locs)\n",
      "      200    0.001    0.000    0.001    0.000 /Users/jlaidler/venvs/argo/lib/python3.7/site-packages/pandas/core/internals/ops.py:76(_get_same_shape_values)\n",
      "     2319    0.001    0.000    0.001    0.000 /Users/jlaidler/venvs/argo/lib/python3.7/site-packages/pandas/core/dtypes/common.py:178(classes)\n",
      "      200    0.001    0.000    0.001    0.000 /Users/jlaidler/venvs/argo/lib/python3.7/site-packages/pandas/core/indexes/base.py:4036(__contains__)\n",
      "      201    0.000    0.000    0.001    0.000 /Users/jlaidler/venvs/argo/lib/python3.7/site-packages/pandas/core/ops/dispatch.py:11(should_extension_dispatch)\n",
      "      300    0.001    0.000    0.001    0.000 /Users/jlaidler/venvs/argo/lib/python3.7/site-packages/pandas/core/nanops.py:1258(_maybe_null_out)\n",
      "        1    0.000    0.000    0.001    0.001 /Users/jlaidler/venvs/argo/lib/python3.7/site-packages/pandas/core/reshape/concat.py:534(_get_concat_axis)\n",
      "        3    0.000    0.000    0.001    0.000 /Users/jlaidler/venvs/argo/lib/python3.7/site-packages/pandas/core/indexes/base.py:5726(_maybe_cast_data_without_dtype)\n",
      "  322/318    0.000    0.000    0.001    0.000 /Users/jlaidler/venvs/argo/lib/python3.7/site-packages/numpy/core/_asarray.py:14(asarray)\n",
      "      718    0.001    0.000    0.001    0.000 /Users/jlaidler/venvs/argo/lib/python3.7/site-packages/pandas/core/dtypes/common.py:422(is_timedelta64_dtype)\n",
      "      302    0.001    0.000    0.001    0.000 /Users/jlaidler/venvs/argo/lib/python3.7/site-packages/pandas/core/series.py:381(_constructor)\n",
      "      401    0.001    0.000    0.001    0.000 /Users/jlaidler/venvs/argo/lib/python3.7/site-packages/pandas/core/ops/array_ops.py:404(maybe_upcast_datetimelike_array)\n",
      "        1    0.000    0.000    0.001    0.001 /Users/jlaidler/venvs/argo/lib/python3.7/site-packages/pandas/core/reshape/concat.py:380(<listcomp>)\n",
      "      703    0.001    0.000    0.001    0.000 /Users/jlaidler/venvs/argo/lib/python3.7/site-packages/numpy/core/_ufunc_config.py:429(__init__)\n",
      "      201    0.000    0.000    0.001    0.000 /Users/jlaidler/venvs/argo/lib/python3.7/site-packages/pandas/core/computation/expressions.py:186(_has_bool_dtype)\n",
      "        1    0.000    0.000    0.001    0.001 /Users/jlaidler/venvs/argo/lib/python3.7/site-packages/pandas/core/internals/construction.py:274(<listcomp>)\n",
      "      201    0.001    0.000    0.001    0.000 /Users/jlaidler/venvs/argo/lib/python3.7/site-packages/pandas/core/ops/missing.py:136(dispatch_fill_zeros)\n",
      "     1710    0.001    0.000    0.001    0.000 {pandas._libs.lib.is_scalar}\n",
      "      200    0.000    0.000    0.001    0.000 /Users/jlaidler/venvs/argo/lib/python3.7/site-packages/pandas/core/internals/blocks.py:111(_simple_new)\n",
      "     1101    0.001    0.000    0.001    0.000 /Users/jlaidler/venvs/argo/lib/python3.7/site-packages/pandas/core/internals/blocks.py:201(internal_values)\n",
      "      500    0.001    0.000    0.001    0.000 {method 'get' of 'dict' objects}\n",
      "     1922    0.001    0.000    0.001    0.000 {built-in method builtins.hash}\n",
      "      204    0.001    0.000    0.001    0.000 {method 'astype' of 'numpy.ndarray' objects}\n",
      "        2    0.000    0.000    0.001    0.000 <__array_function__ internals>:2(atleast_2d)\n",
      "     1318    0.001    0.000    0.001    0.000 /Users/jlaidler/venvs/argo/lib/python3.7/site-packages/pandas/core/dtypes/common.py:183(classes_and_not_datetimelike)\n",
      "      101    0.000    0.000    0.001    0.000 /Users/jlaidler/venvs/argo/lib/python3.7/site-packages/pandas/core/dtypes/common.py:566(is_string_dtype)\n",
      "        2    0.000    0.000    0.001    0.000 /Users/jlaidler/venvs/argo/lib/python3.7/site-packages/numpy/core/shape_base.py:82(atleast_2d)\n",
      "      907    0.001    0.000    0.001    0.000 /Users/jlaidler/venvs/argo/lib/python3.7/site-packages/numpy/core/_dtype.py:24(_kind_name)\n",
      "      300    0.000    0.000    0.001    0.000 /Users/jlaidler/venvs/argo/lib/python3.7/site-packages/pandas/core/internals/managers.py:1830(<lambda>)\n",
      "        6    0.000    0.000    0.001    0.000 {pandas._libs.lib.infer_dtype}\n",
      "      300    0.000    0.000    0.001    0.000 /Users/jlaidler/venvs/argo/lib/python3.7/site-packages/pandas/core/indexes/base.py:1755(is_floating)\n",
      "      301    0.000    0.000    0.001    0.000 /Users/jlaidler/venvs/argo/lib/python3.7/site-packages/pandas/core/common.py:274(maybe_iterable_to_list)\n",
      "        1    0.000    0.000    0.000    0.000 /Users/jlaidler/venvs/argo/lib/python3.7/site-packages/pandas/core/dtypes/cast.py:88(maybe_convert_platform)\n",
      "      300    0.000    0.000    0.000    0.000 /Users/jlaidler/venvs/argo/lib/python3.7/site-packages/pandas/core/base.py:626(shape)\n",
      "      200    0.000    0.000    0.000    0.000 /Users/jlaidler/venvs/argo/lib/python3.7/site-packages/pandas/core/internals/managers.py:2015(_preprocess_slice_or_indexer)\n",
      "      604    0.000    0.000    0.000    0.000 /Users/jlaidler/venvs/argo/lib/python3.7/site-packages/pandas/core/generic.py:377(_get_axis)\n",
      "      303    0.000    0.000    0.000    0.000 /Users/jlaidler/venvs/argo/lib/python3.7/site-packages/pandas/core/arrays/numpy_.py:50(__init__)\n",
      "      200    0.000    0.000    0.000    0.000 {built-in method builtins.max}\n",
      "     1100    0.000    0.000    0.000    0.000 /Users/jlaidler/venvs/argo/lib/python3.7/site-packages/pandas/core/internals/managers.py:179(blklocs)\n",
      "      600    0.000    0.000    0.000    0.000 /Users/jlaidler/venvs/argo/lib/python3.7/site-packages/pandas/core/indexes/base.py:4289(<genexpr>)\n",
      "        1    0.000    0.000    0.000    0.000 {pandas._libs.lib.maybe_convert_objects}\n",
      "      232    0.000    0.000    0.000    0.000 /Users/jlaidler/venvs/argo/lib/python3.7/site-packages/pandas/core/indexes/base.py:567(__len__)\n",
      "      300    0.000    0.000    0.000    0.000 /Users/jlaidler/venvs/argo/lib/python3.7/site-packages/pandas/core/generic.py:334(_construct_axes_from_arguments)\n",
      "        3    0.000    0.000    0.000    0.000 /Users/jlaidler/venvs/argo/lib/python3.7/site-packages/pandas/core/indexes/base.py:5672(_maybe_cast_with_dtype)\n",
      "        1    0.000    0.000    0.000    0.000 /Users/jlaidler/venvs/argo/lib/python3.7/site-packages/pandas/core/reshape/concat.py:524(_get_comb_axis)\n",
      "        1    0.000    0.000    0.000    0.000 /Users/jlaidler/venvs/argo/lib/python3.7/site-packages/pandas/core/indexes/api.py:65(get_objs_combined_axis)\n",
      "     1500    0.000    0.000    0.000    0.000 {pandas._libs.lib.is_float}\n",
      "      102    0.000    0.000    0.000    0.000 /Users/jlaidler/venvs/argo/lib/python3.7/site-packages/pandas/core/dtypes/common.py:1541(_is_dtype)\n",
      "      200    0.000    0.000    0.000    0.000 {pandas._libs.internals.get_blkno_placements}\n",
      "      405    0.000    0.000    0.000    0.000 {built-in method numpy.arange}\n",
      "        1    0.000    0.000    0.000    0.000 /Users/jlaidler/venvs/argo/lib/python3.7/site-packages/pandas/core/generic.py:212(_init_mgr)\n",
      "        1    0.000    0.000    0.000    0.000 /Users/jlaidler/venvs/argo/lib/python3.7/site-packages/pandas/core/series.py:2740(_construct_result)\n",
      "     2400    0.000    0.000    0.000    0.000 {method 'pop' of 'dict' objects}\n",
      "        2    0.000    0.000    0.000    0.000 /Users/jlaidler/venvs/argo/lib/python3.7/site-packages/pandas/core/internals/managers.py:1217(reindex_axis)\n",
      "      200    0.000    0.000    0.000    0.000 /Users/jlaidler/venvs/argo/lib/python3.7/site-packages/pandas/core/dtypes/common.py:348(is_datetime64_dtype)\n",
      "        1    0.000    0.000    0.000    0.000 /Users/jlaidler/venvs/argo/lib/python3.7/site-packages/pandas/core/indexes/api.py:91(<listcomp>)\n",
      "      200    0.000    0.000    0.000    0.000 /Users/jlaidler/venvs/argo/lib/python3.7/site-packages/pandas/core/internals/blocks.py:287(_slice)\n",
      "      200    0.000    0.000    0.000    0.000 /Users/jlaidler/venvs/argo/lib/python3.7/site-packages/pandas/core/dtypes/cast.py:1595(construct_1d_ndarray_preserving_na)\n",
      "      600    0.000    0.000    0.000    0.000 /Users/jlaidler/venvs/argo/lib/python3.7/site-packages/pandas/core/internals/managers.py:961(consolidate)\n",
      "      200    0.000    0.000    0.000    0.000 /Users/jlaidler/venvs/argo/lib/python3.7/site-packages/pandas/core/internals/managers.py:233(_is_single_block)\n",
      "        2    0.000    0.000    0.000    0.000 /Users/jlaidler/venvs/argo/lib/python3.7/site-packages/pandas/core/indexes/base.py:5797(_try_convert_to_int_array)\n",
      "        3    0.000    0.000    0.000    0.000 /Users/jlaidler/venvs/argo/lib/python3.7/site-packages/pandas/core/internals/managers.py:366(apply)\n",
      "        1    0.000    0.000    0.000    0.000 /Users/jlaidler/venvs/argo/lib/python3.7/site-packages/pandas/core/internals/construction.py:278(<listcomp>)\n",
      "        4    0.000    0.000    0.000    0.000 /Users/jlaidler/venvs/argo/lib/python3.7/site-packages/pandas/core/internals/managers.py:132(__init__)\n",
      "      200    0.000    0.000    0.000    0.000 /Users/jlaidler/venvs/argo/lib/python3.7/site-packages/pandas/core/common.py:329(apply_if_callable)\n",
      "        2    0.000    0.000    0.000    0.000 /Users/jlaidler/venvs/argo/lib/python3.7/site-packages/pandas/core/indexes/numeric.py:50(__new__)\n",
      "      902    0.000    0.000    0.000    0.000 /Users/jlaidler/venvs/argo/lib/python3.7/site-packages/pandas/core/indexes/numeric.py:150(is_all_dates)\n",
      "        1    0.000    0.000    0.000    0.000 /Users/jlaidler/venvs/argo/lib/python3.7/site-packages/pandas/core/generic.py:1319(__invert__)\n",
      "        1    0.000    0.000    0.000    0.000 /Users/jlaidler/venvs/argo/lib/python3.7/site-packages/pandas/core/apply.py:23(frame_apply)\n",
      "      300    0.000    0.000    0.000    0.000 /Users/jlaidler/venvs/argo/lib/python3.7/site-packages/pandas/util/_validators.py:208(validate_bool_kwarg)\n",
      "      302    0.000    0.000    0.000    0.000 /Users/jlaidler/venvs/argo/lib/python3.7/site-packages/pandas/compat/numpy/function.py:48(__call__)\n",
      "        7    0.000    0.000    0.000    0.000 /Users/jlaidler/venvs/argo/lib/python3.7/site-packages/pandas/core/common.py:218(asarray_tuplesafe)\n",
      "        5    0.000    0.000    0.000    0.000 /Users/jlaidler/venvs/argo/lib/python3.7/site-packages/pandas/core/indexes/base.py:463(_simple_new)\n",
      "      206    0.000    0.000    0.000    0.000 {built-in method __new__ of type object at 0x106d8f778}\n",
      "      204    0.000    0.000    0.000    0.000 {method 'upper' of 'str' objects}\n",
      "        2    0.000    0.000    0.000    0.000 /Users/jlaidler/venvs/argo/lib/python3.7/site-packages/pandas/core/indexes/base.py:3291(reindex)\n",
      "      610    0.000    0.000    0.000    0.000 /Users/jlaidler/venvs/argo/lib/python3.7/site-packages/pandas/core/generic.py:365(_get_axis_number)\n",
      "       14    0.000    0.000    0.000    0.000 {built-in method numpy.empty}\n",
      "        2    0.000    0.000    0.000    0.000 /Users/jlaidler/venvs/argo/lib/python3.7/site-packages/pandas/core/dtypes/cast.py:1630(maybe_cast_to_integer_array)\n",
      "      300    0.000    0.000    0.000    0.000 /Users/jlaidler/venvs/argo/lib/python3.7/site-packages/pandas/core/generic.py:362(<dictcomp>)\n",
      "      303    0.000    0.000    0.000    0.000 /Users/jlaidler/venvs/argo/lib/python3.7/site-packages/pandas/core/indexes/range.py:452(equals)\n",
      "      300    0.000    0.000    0.000    0.000 /Users/jlaidler/venvs/argo/lib/python3.7/site-packages/pandas/core/missing.py:665(clean_reindex_fill_method)\n",
      "        7    0.000    0.000    0.000    0.000 /Users/jlaidler/venvs/argo/lib/python3.7/site-packages/pandas/core/indexes/base.py:4196(equals)\n",
      "      200    0.000    0.000    0.000    0.000 {built-in method pandas._libs.internals.slice_len}\n",
      "      203    0.000    0.000    0.000    0.000 {pandas._libs.lib.item_from_zerodim}\n",
      "      101    0.000    0.000    0.000    0.000 /Users/jlaidler/venvs/argo/lib/python3.7/site-packages/pandas/core/dtypes/common.py:595(condition)\n",
      "      302    0.000    0.000    0.000    0.000 /Users/jlaidler/venvs/argo/lib/python3.7/site-packages/pandas/core/generic.py:232(attrs)\n",
      "      200    0.000    0.000    0.000    0.000 /Users/jlaidler/venvs/argo/lib/python3.7/site-packages/numpy/core/_asarray.py:86(asanyarray)\n",
      "        1    0.000    0.000    0.000    0.000 /Users/jlaidler/venvs/argo/lib/python3.7/site-packages/pandas/core/internals/blocks.py:340(apply)\n",
      "      300    0.000    0.000    0.000    0.000 /Users/jlaidler/venvs/argo/lib/python3.7/site-packages/pandas/core/nanops.py:1290(check_below_min_count)\n",
      "        1    0.000    0.000    0.000    0.000 /Users/jlaidler/venvs/argo/lib/python3.7/site-packages/pandas/core/indexes/base.py:2007(is_all_dates)\n",
      "      202    0.000    0.000    0.000    0.000 {method 'extend' of 'list' objects}\n",
      "      200    0.000    0.000    0.000    0.000 {pandas._libs.algos.ensure_int64}\n",
      "      300    0.000    0.000    0.000    0.000 {method 'values' of 'dict' objects}\n",
      "        2    0.000    0.000    0.000    0.000 <__array_function__ internals>:2(array_equal)\n",
      "        2    0.000    0.000    0.000    0.000 /Users/jlaidler/venvs/argo/lib/python3.7/site-packages/pandas/core/internals/managers.py:1921(<listcomp>)\n",
      "        2    0.000    0.000    0.000    0.000 /Users/jlaidler/venvs/argo/lib/python3.7/site-packages/pandas/core/internals/managers.py:1238(reindex_indexer)\n",
      "        1    0.000    0.000    0.000    0.000 //anaconda3/lib/python3.7/warnings.py:474(__enter__)\n",
      "        1    0.000    0.000    0.000    0.000 /Users/jlaidler/venvs/argo/lib/python3.7/site-packages/pandas/core/indexes/api.py:109(_get_combined_index)\n",
      "        2    0.000    0.000    0.000    0.000 /Users/jlaidler/venvs/argo/lib/python3.7/site-packages/pandas/core/internals/managers.py:777(copy)\n",
      "      611    0.000    0.000    0.000    0.000 /Users/jlaidler/venvs/argo/lib/python3.7/site-packages/pandas/core/indexes/base.py:1175(name)\n",
      "        1    0.000    0.000    0.000    0.000 /Users/jlaidler/venvs/argo/lib/python3.7/site-packages/numpy/core/numeric.py:268(full)\n",
      "        3    0.000    0.000    0.000    0.000 /Users/jlaidler/venvs/argo/lib/python3.7/site-packages/pandas/core/dtypes/cast.py:1570(construct_1d_object_array_from_listlike)\n",
      "        1    0.000    0.000    0.000    0.000 /Users/jlaidler/venvs/argo/lib/python3.7/site-packages/pandas/core/dtypes/missing.py:358(array_equivalent)\n",
      "        2    0.000    0.000    0.000    0.000 /Users/jlaidler/venvs/argo/lib/python3.7/site-packages/pandas/core/internals/managers.py:675(is_consolidated)\n",
      "        1    0.000    0.000    0.000    0.000 //anaconda3/lib/python3.7/warnings.py:165(simplefilter)\n",
      "        2    0.000    0.000    0.000    0.000 <__array_function__ internals>:2(argsort)\n",
      "        2    0.000    0.000    0.000    0.000 /Users/jlaidler/venvs/argo/lib/python3.7/site-packages/pandas/core/internals/managers.py:683(_consolidate_check)\n",
      "        2    0.000    0.000    0.000    0.000 /Users/jlaidler/venvs/argo/lib/python3.7/site-packages/pandas/core/internals/managers.py:684(<listcomp>)\n",
      "        1    0.000    0.000    0.000    0.000 /Users/jlaidler/venvs/argo/lib/python3.7/site-packages/pandas/core/apply.py:81(__init__)\n",
      "      600    0.000    0.000    0.000    0.000 /Users/jlaidler/venvs/argo/lib/python3.7/site-packages/pandas/core/internals/managers.py:1621(is_consolidated)\n",
      "        2    0.000    0.000    0.000    0.000 /Users/jlaidler/venvs/argo/lib/python3.7/site-packages/numpy/core/fromnumeric.py:999(argsort)\n",
      "        4    0.000    0.000    0.000    0.000 {method 'all' of 'numpy.ndarray' objects}\n",
      "        1    0.000    0.000    0.000    0.000 /Users/jlaidler/venvs/argo/lib/python3.7/site-packages/pandas/core/indexes/api.py:95(_get_distinct_objs)\n",
      "        3    0.000    0.000    0.000    0.000 /Users/jlaidler/venvs/argo/lib/python3.7/site-packages/pandas/core/dtypes/inference.py:263(is_dict_like)\n",
      "        1    0.000    0.000    0.000    0.000 /Users/jlaidler/venvs/argo/lib/python3.7/site-packages/pandas/core/ops/__init__.py:524(_should_reindex_frame_op)\n",
      "        1    0.000    0.000    0.000    0.000 //anaconda3/lib/python3.7/warnings.py:453(__init__)\n",
      "      200    0.000    0.000    0.000    0.000 /Users/jlaidler/venvs/argo/lib/python3.7/site-packages/pandas/core/indexes/base.py:1378(nlevels)\n",
      "      205    0.000    0.000    0.000    0.000 {built-in method builtins.callable}\n",
      "      300    0.000    0.000    0.000    0.000 /Users/jlaidler/venvs/argo/lib/python3.7/site-packages/pandas/core/nanops.py:168(_get_fill_value)\n",
      "        2    0.000    0.000    0.000    0.000 /Users/jlaidler/venvs/argo/lib/python3.7/site-packages/numpy/core/fromnumeric.py:52(_wrapfunc)\n",
      "      207    0.000    0.000    0.000    0.000 /Users/jlaidler/venvs/argo/lib/python3.7/site-packages/pandas/core/internals/managers.py:216(ndim)\n",
      "        2    0.000    0.000    0.000    0.000 /Users/jlaidler/venvs/argo/lib/python3.7/site-packages/pandas/core/indexes/base.py:498(_shallow_copy)\n",
      "        2    0.000    0.000    0.000    0.000 /Users/jlaidler/venvs/argo/lib/python3.7/site-packages/pandas/core/series.py:750(__array__)\n",
      "        4    0.000    0.000    0.000    0.000 /Users/jlaidler/venvs/argo/lib/python3.7/site-packages/numpy/core/_methods.py:56(_all)\n",
      "        1    0.000    0.000    0.000    0.000 //anaconda3/lib/python3.7/warnings.py:181(_add_filter)\n",
      "      302    0.000    0.000    0.000    0.000 /Users/jlaidler/venvs/argo/lib/python3.7/site-packages/pandas/core/base.py:637(ndim)\n",
      "      300    0.000    0.000    0.000    0.000 /Users/jlaidler/venvs/argo/lib/python3.7/site-packages/pandas/core/generic.py:294(_data)\n",
      "        4    0.000    0.000    0.000    0.000 /Users/jlaidler/venvs/argo/lib/python3.7/site-packages/pandas/core/generic.py:3250(_clear_item_cache)\n",
      "      300    0.000    0.000    0.000    0.000 /Users/jlaidler/venvs/argo/lib/python3.7/site-packages/pandas/core/missing.py:75(clean_fill_method)\n",
      "        1    0.000    0.000    0.000    0.000 /Users/jlaidler/venvs/argo/lib/python3.7/site-packages/pandas/core/indexes/base.py:1646(is_unique)\n",
      "        1    0.000    0.000    0.000    0.000 /Users/jlaidler/venvs/argo/lib/python3.7/site-packages/pandas/core/dtypes/inference.py:360(is_sequence)\n",
      "        1    0.000    0.000    0.000    0.000 /Users/jlaidler/venvs/argo/lib/python3.7/site-packages/pandas/core/internals/managers.py:698(any_extension_types)\n",
      "        2    0.000    0.000    0.000    0.000 /Users/jlaidler/venvs/argo/lib/python3.7/site-packages/numpy/core/numeric.py:2317(array_equal)\n",
      "        3    0.000    0.000    0.000    0.000 /Users/jlaidler/venvs/argo/lib/python3.7/site-packages/pandas/core/generic.py:562(_set_axis)\n",
      "        1    0.000    0.000    0.000    0.000 /Users/jlaidler/venvs/argo/lib/python3.7/site-packages/pandas/core/dtypes/common.py:1064(is_numeric_v_string_like)\n",
      "      302    0.000    0.000    0.000    0.000 {method 'items' of 'dict' objects}\n",
      "        1    0.000    0.000    0.000    0.000 {built-in method pandas._libs.lib.is_datetime_array}\n",
      "        2    0.000    0.000    0.000    0.000 /Users/jlaidler/venvs/argo/lib/python3.7/site-packages/pandas/core/common.py:97(is_bool_indexer)\n",
      "      301    0.000    0.000    0.000    0.000 {built-in method builtins.sum}\n",
      "        1    0.000    0.000    0.000    0.000 /Users/jlaidler/venvs/argo/lib/python3.7/site-packages/pandas/core/dtypes/missing.py:456(_array_equivalent_object)\n",
      "        1    0.000    0.000    0.000    0.000 /Users/jlaidler/venvs/argo/lib/python3.7/site-packages/pandas/core/indexes/base.py:2619(intersection)\n",
      "        1    0.000    0.000    0.000    0.000 {method 'remove' of 'list' objects}\n",
      "        1    0.000    0.000    0.000    0.000 /Users/jlaidler/venvs/argo/lib/python3.7/site-packages/pandas/core/indexes/base.py:2000(inferred_type)\n",
      "        1    0.000    0.000    0.000    0.000 /Users/jlaidler/venvs/argo/lib/python3.7/site-packages/pandas/core/frame.py:5873(_construct_result)\n",
      "        1    0.000    0.000    0.000    0.000 /Users/jlaidler/venvs/argo/lib/python3.7/site-packages/pandas/core/ops/__init__.py:433(_align_method_FRAME)\n",
      "        1    0.000    0.000    0.000    0.000 /Users/jlaidler/venvs/argo/lib/python3.7/site-packages/pandas/core/generic.py:471(ndim)\n",
      "        2    0.000    0.000    0.000    0.000 {method 'argsort' of 'numpy.ndarray' objects}\n",
      "      300    0.000    0.000    0.000    0.000 {pandas._libs.lib.is_bool}\n",
      "        1    0.000    0.000    0.000    0.000 /Users/jlaidler/venvs/argo/lib/python3.7/site-packages/pandas/core/dtypes/common.py:598(is_excluded_dtype)\n",
      "        3    0.000    0.000    0.000    0.000 /Users/jlaidler/venvs/argo/lib/python3.7/site-packages/pandas/core/base.py:1032(__iter__)\n",
      "        4    0.000    0.000    0.000    0.000 /Users/jlaidler/venvs/argo/lib/python3.7/site-packages/pandas/core/indexes/numeric.py:81(_validate_dtype)\n",
      "        4    0.000    0.000    0.000    0.000 /Users/jlaidler/venvs/argo/lib/python3.7/site-packages/pandas/core/internals/blocks.py:675(copy)\n",
      "        1    0.000    0.000    0.000    0.000 /Users/jlaidler/venvs/argo/lib/python3.7/site-packages/pandas/core/internals/managers.py:321(_verify_integrity)\n",
      "        6    0.000    0.000    0.000    0.000 /Users/jlaidler/venvs/argo/lib/python3.7/site-packages/pandas/core/dtypes/common.py:806(is_unsigned_integer_dtype)\n",
      "        6    0.000    0.000    0.000    0.000 /Users/jlaidler/venvs/argo/lib/python3.7/site-packages/pandas/core/indexes/base.py:544(_reset_identity)\n",
      "        1    0.000    0.000    0.000    0.000 /Users/jlaidler/venvs/argo/lib/python3.7/site-packages/pandas/core/frame.py:1099(__len__)\n",
      "      301    0.000    0.000    0.000    0.000 /Users/jlaidler/venvs/argo/lib/python3.7/site-packages/pandas/core/common.py:180(<genexpr>)\n",
      "        4    0.000    0.000    0.000    0.000 /Users/jlaidler/venvs/argo/lib/python3.7/site-packages/pandas/core/dtypes/common.py:603(<genexpr>)\n",
      "        2    0.000    0.000    0.000    0.000 /Users/jlaidler/venvs/argo/lib/python3.7/site-packages/pandas/core/internals/managers.py:1922(<listcomp>)\n",
      "        1    0.000    0.000    0.000    0.000 /Users/jlaidler/venvs/argo/lib/python3.7/site-packages/pandas/core/apply.py:340(series_generator)\n",
      "        2    0.000    0.000    0.000    0.000 <__array_function__ internals>:2(ndim)\n",
      "        7    0.000    0.000    0.000    0.000 /Users/jlaidler/venvs/argo/lib/python3.7/site-packages/pandas/core/internals/blocks.py:2728(_extend_blocks)\n",
      "      201    0.000    0.000    0.000    0.000 /Users/jlaidler/venvs/argo/lib/python3.7/site-packages/pandas/core/internals/managers.py:701(<genexpr>)\n",
      "        2    0.000    0.000    0.000    0.000 /Users/jlaidler/venvs/argo/lib/python3.7/site-packages/pandas/core/internals/managers.py:1852(_shape_compat)\n",
      "      301    0.000    0.000    0.000    0.000 {method 'add' of 'set' objects}\n",
      "        1    0.000    0.000    0.000    0.000 {built-in method _operator.eq}\n",
      "        4    0.000    0.000    0.000    0.000 /Users/jlaidler/venvs/argo/lib/python3.7/site-packages/pandas/core/internals/managers.py:220(set_axis)\n",
      "        1    0.000    0.000    0.000    0.000 {pandas._libs.lib.array_equivalent_object}\n",
      "        9    0.000    0.000    0.000    0.000 /Users/jlaidler/venvs/argo/lib/python3.7/site-packages/pandas/core/dtypes/inference.py:289(<genexpr>)\n",
      "        1    0.000    0.000    0.000    0.000 /Users/jlaidler/venvs/argo/lib/python3.7/site-packages/pandas/core/indexes/range.py:404(copy)\n",
      "        1    0.000    0.000    0.000    0.000 <__array_function__ internals>:2(copyto)\n",
      "        1    0.000    0.000    0.000    0.000 /Users/jlaidler/venvs/argo/lib/python3.7/site-packages/pandas/core/dtypes/common.py:1265(is_string_like_dtype)\n",
      "        1    0.000    0.000    0.000    0.000 /Users/jlaidler/venvs/argo/lib/python3.7/site-packages/pandas/core/generic.py:1193(_indexed_same)\n",
      "        6    0.000    0.000    0.000    0.000 /Users/jlaidler/venvs/argo/lib/python3.7/site-packages/pandas/core/indexes/base.py:424(<genexpr>)\n",
      "        4    0.000    0.000    0.000    0.000 /Users/jlaidler/venvs/argo/lib/python3.7/site-packages/pandas/core/internals/managers.py:138(<listcomp>)\n",
      "        2    0.000    0.000    0.000    0.000 /Users/jlaidler/venvs/argo/lib/python3.7/site-packages/pandas/core/ops/__init__.py:88(get_op_result_name)\n",
      "        1    0.000    0.000    0.000    0.000 /Users/jlaidler/venvs/argo/lib/python3.7/site-packages/pandas/core/frame.py:585(shape)\n",
      "        1    0.000    0.000    0.000    0.000 /Users/jlaidler/venvs/argo/lib/python3.7/site-packages/pandas/core/base.py:669(size)\n",
      "        1    0.000    0.000    0.000    0.000 /Users/jlaidler/venvs/argo/lib/python3.7/site-packages/pandas/core/indexes/range.py:116(from_range)\n",
      "        2    0.000    0.000    0.000    0.000 /Users/jlaidler/venvs/argo/lib/python3.7/site-packages/pandas/core/internals/managers.py:156(from_blocks)\n",
      "        3    0.000    0.000    0.000    0.000 /Users/jlaidler/venvs/argo/lib/python3.7/site-packages/pandas/core/apply.py:120(columns)\n",
      "      301    0.000    0.000    0.000    0.000 {built-in method builtins.id}\n",
      "       14    0.000    0.000    0.000    0.000 /Users/jlaidler/venvs/argo/lib/python3.7/site-packages/pandas/core/indexes/base.py:3870(_values)\n",
      "        3    0.000    0.000    0.000    0.000 /Users/jlaidler/venvs/argo/lib/python3.7/site-packages/pandas/core/generic.py:1195(<genexpr>)\n",
      "        2    0.000    0.000    0.000    0.000 /Users/jlaidler/venvs/argo/lib/python3.7/site-packages/pandas/core/series.py:595(__len__)\n",
      "        1    0.000    0.000    0.000    0.000 /Users/jlaidler/venvs/argo/lib/python3.7/site-packages/pandas/core/indexes/range.py:134(_simple_new)\n",
      "        8    0.000    0.000    0.000    0.000 {method 'fill' of 'numpy.ndarray' objects}\n",
      "        1    0.000    0.000    0.000    0.000 /Users/jlaidler/venvs/argo/lib/python3.7/site-packages/pandas/core/dtypes/common.py:1223(is_numeric_dtype)\n",
      "        1    0.000    0.000    0.000    0.000 /Users/jlaidler/venvs/argo/lib/python3.7/site-packages/pandas/core/indexes/base.py:2429(_get_reconciled_name_object)\n",
      "        2    0.000    0.000    0.000    0.000 /Users/jlaidler/venvs/argo/lib/python3.7/site-packages/pandas/core/arrays/numpy_.py:210(__array__)\n",
      "        1    0.000    0.000    0.000    0.000 /Users/jlaidler/venvs/argo/lib/python3.7/site-packages/pandas/core/indexes/base.py:2835(_assert_can_do_setop)\n",
      "        2    0.000    0.000    0.000    0.000 /Users/jlaidler/venvs/argo/lib/python3.7/site-packages/pandas/core/internals/managers.py:306(__len__)\n",
      "        1    0.000    0.000    0.000    0.000 /Users/jlaidler/venvs/argo/lib/python3.7/site-packages/pandas/core/indexes/base.py:554(_engine)\n",
      "        2    0.000    0.000    0.000    0.000 /Users/jlaidler/venvs/argo/lib/python3.7/site-packages/pandas/core/series.py:385(_constructor_expanddim)\n",
      "        3    0.000    0.000    0.000    0.000 /Users/jlaidler/venvs/argo/lib/python3.7/site-packages/pandas/core/generic.py:382(_get_block_manager_axis)\n",
      "        7    0.000    0.000    0.000    0.000 /Users/jlaidler/venvs/argo/lib/python3.7/site-packages/pandas/core/indexes/base.py:520(is_)\n",
      "        2    0.000    0.000    0.000    0.000 /Users/jlaidler/venvs/argo/lib/python3.7/site-packages/pandas/core/indexes/base.py:5623(ensure_has_len)\n",
      "        1    0.000    0.000    0.000    0.000 /Users/jlaidler/venvs/argo/lib/python3.7/site-packages/pandas/core/internals/managers.py:1553(from_blocks)\n",
      "        1    0.000    0.000    0.000    0.000 /Users/jlaidler/venvs/argo/lib/python3.7/site-packages/pandas/core/apply.py:344(result_index)\n",
      "        2    0.000    0.000    0.000    0.000 /Users/jlaidler/venvs/argo/lib/python3.7/site-packages/numpy/core/shape_base.py:219(_vhstack_dispatcher)\n",
      "        2    0.000    0.000    0.000    0.000 /Users/jlaidler/venvs/argo/lib/python3.7/site-packages/numpy/core/fromnumeric.py:3075(ndim)\n",
      "        1    0.000    0.000    0.000    0.000 /Users/jlaidler/venvs/argo/lib/python3.7/site-packages/pandas/core/ops/__init__.py:111(_maybe_match_name)\n",
      "        1    0.000    0.000    0.000    0.000 /Users/jlaidler/venvs/argo/lib/python3.7/site-packages/pandas/core/indexes/base.py:1182(name)\n",
      "        1    0.000    0.000    0.000    0.000 {built-in method _operator.invert}\n",
      "        2    0.000    0.000    0.000    0.000 /Users/jlaidler/venvs/argo/lib/python3.7/site-packages/pandas/core/dtypes/common.py:608(is_dtype_equal)\n",
      "        1    0.000    0.000    0.000    0.000 {built-in method builtins.iter}\n",
      "        1    0.000    0.000    0.000    0.000 //anaconda3/lib/python3.7/warnings.py:493(__exit__)\n",
      "        2    0.000    0.000    0.000    0.000 /Users/jlaidler/venvs/argo/lib/python3.7/site-packages/numpy/core/shape_base.py:208(_arrays_for_stack_dispatcher)\n",
      "        3    0.000    0.000    0.000    0.000 /Users/jlaidler/venvs/argo/lib/python3.7/site-packages/pandas/core/frame.py:421(_constructor)\n",
      "        3    0.000    0.000    0.000    0.000 /Users/jlaidler/venvs/argo/lib/python3.7/site-packages/pandas/core/internals/managers.py:259(items)\n",
      "        3    0.000    0.000    0.000    0.000 /Users/jlaidler/venvs/argo/lib/python3.7/site-packages/pandas/core/internals/managers.py:323(<genexpr>)\n",
      "        4    0.000    0.000    0.000    0.000 {method 'clear' of 'dict' objects}\n",
      "        4    0.000    0.000    0.000    0.000 /Users/jlaidler/venvs/argo/lib/python3.7/site-packages/numpy/core/multiarray.py:143(concatenate)\n",
      "        2    0.000    0.000    0.000    0.000 {method 'ravel' of 'numpy.ndarray' objects}\n",
      "        2    0.000    0.000    0.000    0.000 /Users/jlaidler/venvs/argo/lib/python3.7/site-packages/numpy/core/fromnumeric.py:995(_argsort_dispatcher)\n",
      "        1    0.000    0.000    0.000    0.000 /Users/jlaidler/venvs/argo/lib/python3.7/site-packages/pandas/core/indexes/base.py:2480(_validate_sort_keyword)\n",
      "        1    0.000    0.000    0.000    0.000 /Users/jlaidler/venvs/argo/lib/python3.7/site-packages/pandas/core/indexes/base.py:3896(_get_engine_target)\n",
      "        3    0.000    0.000    0.000    0.000 /Users/jlaidler/venvs/argo/lib/python3.7/site-packages/pandas/core/internals/managers.py:385(<dictcomp>)\n",
      "        3    0.000    0.000    0.000    0.000 /Users/jlaidler/venvs/argo/lib/python3.7/site-packages/pandas/core/internals/managers.py:1680(<genexpr>)\n",
      "        1    0.000    0.000    0.000    0.000 /Users/jlaidler/venvs/argo/lib/python3.7/site-packages/pandas/core/frame.py:8883(_get_agg_axis)\n",
      "        1    0.000    0.000    0.000    0.000 {method 'insert' of 'list' objects}\n",
      "        2    0.000    0.000    0.000    0.000 /Users/jlaidler/venvs/argo/lib/python3.7/site-packages/numpy/core/numeric.py:2313(_array_equal_dispatcher)\n",
      "        2    0.000    0.000    0.000    0.000 /Users/jlaidler/venvs/argo/lib/python3.7/site-packages/numpy/core/shape_base.py:78(_atleast_2d_dispatcher)\n",
      "        2    0.000    0.000    0.000    0.000 /Users/jlaidler/venvs/argo/lib/python3.7/site-packages/numpy/core/fromnumeric.py:3071(_ndim_dispatcher)\n",
      "        1    0.000    0.000    0.000    0.000 {built-in method pandas._libs.missing.checknull}\n",
      "        4    0.000    0.000    0.000    0.000 {pandas._libs.lib.is_iterator}\n",
      "        1    0.000    0.000    0.000    0.000 {pandas._libs.lib.is_integer}\n",
      "        1    0.000    0.000    0.000    0.000 /Users/jlaidler/venvs/argo/lib/python3.7/site-packages/pandas/core/dtypes/common.py:1293(<lambda>)\n",
      "        1    0.000    0.000    0.000    0.000 /Users/jlaidler/venvs/argo/lib/python3.7/site-packages/pandas/core/common.py:176(not_none)\n",
      "        1    0.000    0.000    0.000    0.000 /Users/jlaidler/venvs/argo/lib/python3.7/site-packages/pandas/core/ops/array_ops.py:362(get_array_op)\n",
      "        2    0.000    0.000    0.000    0.000 /Users/jlaidler/venvs/argo/lib/python3.7/site-packages/pandas/core/indexes/base.py:590(dtype)\n",
      "        2    0.000    0.000    0.000    0.000 /Users/jlaidler/venvs/argo/lib/python3.7/site-packages/pandas/core/internals/blocks.py:311(shape)\n",
      "        1    0.000    0.000    0.000    0.000 {method 'keys' of 'dict' objects}\n",
      "        3    0.000    0.000    0.000    0.000 {built-in method _warnings._filters_mutated}\n",
      "        1    0.000    0.000    0.000    0.000 {method 'disable' of '_lsprof.Profiler' objects}\n",
      "        1    0.000    0.000    0.000    0.000 /Users/jlaidler/venvs/argo/lib/python3.7/site-packages/numpy/core/multiarray.py:1043(copyto)\n",
      "        3    0.000    0.000    0.000    0.000 {pandas._libs.algos.ensure_object}\n",
      "        1    0.000    0.000    0.000    0.000 /Users/jlaidler/venvs/argo/lib/python3.7/site-packages/pandas/core/indexes/base.py:561(<lambda>)\n",
      "        1    0.000    0.000    0.000    0.000 /Users/jlaidler/venvs/argo/lib/python3.7/site-packages/pandas/core/reshape/concat.py:511(_get_result_dim)\n",
      "\n",
      "\n"
     ]
    },
    {
     "data": {
      "text/plain": [
       "<pstats.Stats at 0x1259045f8>"
      ]
     },
     "execution_count": 65,
     "metadata": {},
     "output_type": "execute_result"
    }
   ],
   "source": [
    "p = pstats.Stats(f'{filename}.dat')\n",
    "p.sort_stats('cumtime').print_stats()"
   ]
  },
  {
   "cell_type": "code",
   "execution_count": 79,
   "metadata": {},
   "outputs": [
    {
     "name": "stdout",
     "output_type": "stream",
     "text": [
      "22.6 ms ± 894 µs per loop (mean ± std. dev. of 7 runs, 10 loops each)\n"
     ]
    }
   ],
   "source": [
    "%%timeit \n",
    "X_values = X.values\n",
    "(X_values - X_values.round()).sum(axis=0) == 0"
   ]
  },
  {
   "cell_type": "code",
   "execution_count": 91,
   "metadata": {},
   "outputs": [
    {
     "name": "stdout",
     "output_type": "stream",
     "text": [
      "26.6 ms ± 2.31 ms per loop (mean ± std. dev. of 7 runs, 10 loops each)\n"
     ]
    }
   ],
   "source": [
    "%timeit (X - X.round()).sum(axis=0) == 0"
   ]
  },
  {
   "cell_type": "code",
   "execution_count": 101,
   "metadata": {},
   "outputs": [
    {
     "name": "stdout",
     "output_type": "stream",
     "text": [
      "6.45 ms ± 282 µs per loop (mean ± std. dev. of 7 runs, 100 loops each)\n"
     ]
    }
   ],
   "source": [
    "%%timeit \n",
    "unique_values = X['int_col'].unique()\n",
    "unique_values.sort()"
   ]
  },
  {
   "cell_type": "code",
   "execution_count": 94,
   "metadata": {},
   "outputs": [
    {
     "name": "stdout",
     "output_type": "stream",
     "text": [
      "31.5 ms ± 1.83 ms per loop (mean ± std. dev. of 7 runs, 10 loops each)\n"
     ]
    }
   ],
   "source": [
    "%timeit np.unique(X['int_col'].values)"
   ]
  },
  {
   "cell_type": "code",
   "execution_count": 98,
   "metadata": {},
   "outputs": [
    {
     "name": "stdout",
     "output_type": "stream",
     "text": [
      "118 ms ± 2.47 ms per loop (mean ± std. dev. of 7 runs, 10 loops each)\n"
     ]
    }
   ],
   "source": [
    "%timeit set(X['int_col'].values)"
   ]
  },
  {
   "cell_type": "code",
   "execution_count": 99,
   "metadata": {},
   "outputs": [
    {
     "data": {
      "text/plain": [
       "True"
      ]
     },
     "execution_count": 99,
     "metadata": {},
     "output_type": "execute_result"
    }
   ],
   "source": [
    "[1, 2] == [1, 2]"
   ]
  },
  {
   "cell_type": "code",
   "execution_count": 100,
   "metadata": {},
   "outputs": [
    {
     "data": {
      "text/plain": [
       "array([3, 7, 1, 8, 0, 5, 4, 9, 6, 2])"
      ]
     },
     "execution_count": 100,
     "metadata": {},
     "output_type": "execute_result"
    }
   ],
   "source": [
    "X['int_col'].unique()"
   ]
  },
  {
   "cell_type": "code",
   "execution_count": 102,
   "metadata": {},
   "outputs": [],
   "source": [
    "unique_values = X['int_col'].unique()\n",
    "unique_values.sort()"
   ]
  },
  {
   "cell_type": "code",
   "execution_count": 105,
   "metadata": {},
   "outputs": [
    {
     "name": "stderr",
     "output_type": "stream",
     "text": [
      "/Users/jlaidler/venvs/argo/lib/python3.7/site-packages/ipykernel_launcher.py:1: DeprecationWarning: elementwise comparison failed; this will raise an error in the future.\n",
      "  \"\"\"Entry point for launching an IPython kernel.\n"
     ]
    },
    {
     "data": {
      "text/plain": [
       "False"
      ]
     },
     "execution_count": 105,
     "metadata": {},
     "output_type": "execute_result"
    }
   ],
   "source": [
    "unique_values == [1, 2]"
   ]
  },
  {
   "cell_type": "markdown",
   "metadata": {},
   "source": [
    "Can't easily improve, already pretty quick."
   ]
  },
  {
   "cell_type": "markdown",
   "metadata": {},
   "source": [
    "# return_binary_pred_perf_of_set_numpy"
   ]
  },
  {
   "cell_type": "code",
   "execution_count": 12,
   "metadata": {},
   "outputs": [],
   "source": [
    "X_rules = X_big >= 0.9"
   ]
  },
  {
   "cell_type": "code",
   "execution_count": 13,
   "metadata": {},
   "outputs": [],
   "source": [
    "y = np.random.randint(0, 2, 1000000)"
   ]
  },
  {
   "cell_type": "code",
   "execution_count": 14,
   "metadata": {},
   "outputs": [
    {
     "data": {
      "text/plain": [
       "'150.19109999999998'"
      ]
     },
     "execution_count": 14,
     "metadata": {},
     "output_type": "execute_result"
    }
   ],
   "source": [
    "perf = argo_utils.return_binary_pred_perf_of_set_numpy(y_true=y, y_preds=X_rules, y_preds_columns=X_rules.columns)\n",
    "'150.19109999999998'"
   ]
  },
  {
   "cell_type": "markdown",
   "metadata": {},
   "source": [
    "## OLD"
   ]
  },
  {
   "cell_type": "code",
   "execution_count": 111,
   "metadata": {},
   "outputs": [],
   "source": [
    "filename = 'return_binary_pred_perf_of_set_numpy_no_opt_or_weight_old'"
   ]
  },
  {
   "cell_type": "code",
   "execution_count": 114,
   "metadata": {},
   "outputs": [],
   "source": [
    "cProfile.run('argo_utils.return_binary_pred_perf_of_set_numpy(y_true=y, y_preds=X_rules, y_preds_columns=X_rules.columns)', sort='cumtime', filename=f'{filename}.dat')"
   ]
  },
  {
   "cell_type": "code",
   "execution_count": 115,
   "metadata": {
    "collapsed": true,
    "jupyter": {
     "outputs_hidden": true
    }
   },
   "outputs": [
    {
     "name": "stdout",
     "output_type": "stream",
     "text": [
      "Mon Jan 18 14:23:02 2021    return_binary_pred_perf_of_set_numpy_no_opt_or_weight_old.dat\n",
      "\n",
      "         1524 function calls (1504 primitive calls) in 5.990 seconds\n",
      "\n",
      "   Ordered by: cumulative time\n",
      "\n",
      "   ncalls  tottime  percall  cumtime  percall filename:lineno(function)\n",
      "        1    0.000    0.000    5.990    5.990 {built-in method builtins.exec}\n",
      "        1    0.377    0.377    5.989    5.989 <string>:1(<module>)\n",
      "        1    2.319    2.319    5.613    5.613 /Users/jlaidler/Documents/tigress/tigress/argo/argo/argo_utils/argo_utils/argo_utils.py:139(return_binary_pred_perf_of_set_numpy)\n",
      "        4    1.795    0.449    1.795    0.449 {method 'reduce' of 'numpy.ufunc' objects}\n",
      "     14/4    0.000    0.000    1.495    0.374 {built-in method numpy.core._multiarray_umath.implement_array_function}\n",
      "        1    0.000    0.000    1.494    1.494 <__array_function__ internals>:2(tile)\n",
      "        1    0.000    0.000    1.494    1.494 /Users/jlaidler/venvs/argo/lib/python3.7/site-packages/numpy/lib/shape_base.py:1171(tile)\n",
      "        1    1.494    1.494    1.494    1.494 {method 'repeat' of 'numpy.ndarray' objects}\n",
      "        3    0.000    0.000    1.086    0.362 {method 'sum' of 'numpy.ndarray' objects}\n",
      "        3    0.000    0.000    1.086    0.362 /Users/jlaidler/venvs/argo/lib/python3.7/site-packages/numpy/core/_methods.py:45(_sum)\n",
      "        1    0.000    0.000    0.709    0.709 {method 'mean' of 'numpy.ndarray' objects}\n",
      "        1    0.000    0.000    0.709    0.709 /Users/jlaidler/venvs/argo/lib/python3.7/site-packages/numpy/core/_methods.py:143(_mean)\n",
      "        1    0.000    0.000    0.003    0.003 /Users/jlaidler/venvs/argo/lib/python3.7/site-packages/pandas/core/frame.py:441(__init__)\n",
      "        1    0.000    0.000    0.003    0.003 /Users/jlaidler/venvs/argo/lib/python3.7/site-packages/pandas/core/internals/construction.py:237(init_dict)\n",
      "        1    0.000    0.000    0.003    0.003 /Users/jlaidler/venvs/argo/lib/python3.7/site-packages/pandas/core/internals/construction.py:60(arrays_to_mgr)\n",
      "        1    0.000    0.000    0.002    0.002 /Users/jlaidler/venvs/argo/lib/python3.7/site-packages/pandas/core/internals/managers.py:1675(create_block_manager_from_arrays)\n",
      "        1    0.000    0.000    0.002    0.002 /Users/jlaidler/venvs/argo/lib/python3.7/site-packages/pandas/core/internals/managers.py:1715(form_blocks)\n",
      "        2    0.001    0.001    0.001    0.001 /Users/jlaidler/venvs/argo/lib/python3.7/site-packages/pandas/core/internals/blocks.py:2701(make_block)\n",
      "        1    0.000    0.000    0.001    0.001 /Users/jlaidler/venvs/argo/lib/python3.7/site-packages/pandas/core/internals/managers.py:1812(_simple_blockify)\n",
      "        2    0.000    0.000    0.001    0.001 <__array_function__ internals>:2(nan_to_num)\n",
      "        2    0.000    0.000    0.001    0.001 /Users/jlaidler/venvs/argo/lib/python3.7/site-packages/numpy/lib/type_check.py:367(nan_to_num)\n",
      "        1    0.000    0.000    0.001    0.001 /Users/jlaidler/venvs/argo/lib/python3.7/site-packages/pandas/core/internals/construction.py:329(_homogenize)\n",
      "        2    0.001    0.000    0.001    0.000 /Users/jlaidler/venvs/argo/lib/python3.7/site-packages/numpy/lib/type_check.py:357(_getmaxmin)\n",
      "        4    0.000    0.000    0.001    0.000 /Users/jlaidler/venvs/argo/lib/python3.7/site-packages/pandas/core/construction.py:390(sanitize_array)\n",
      "      341    0.000    0.000    0.001    0.000 {built-in method builtins.isinstance}\n",
      "       11    0.000    0.000    0.001    0.000 //anaconda3/lib/python3.7/abc.py:137(__instancecheck__)\n",
      "       11    0.001    0.000    0.001    0.000 {built-in method _abc._abc_instancecheck}\n",
      "      3/1    0.000    0.000    0.000    0.000 /Users/jlaidler/venvs/argo/lib/python3.7/site-packages/pandas/core/indexes/base.py:293(__new__)\n",
      "        6    0.000    0.000    0.000    0.000 /Users/jlaidler/venvs/argo/lib/python3.7/site-packages/pandas/core/internals/blocks.py:2655(get_block_type)\n",
      "        4    0.000    0.000    0.000    0.000 /Users/jlaidler/venvs/argo/lib/python3.7/site-packages/pandas/core/construction.py:520(_try_cast)\n",
      "        2    0.000    0.000    0.000    0.000 /Users/jlaidler/venvs/argo/lib/python3.7/site-packages/pandas/core/internals/blocks.py:124(__init__)\n",
      "        1    0.000    0.000    0.000    0.000 /Users/jlaidler/venvs/argo/lib/python3.7/site-packages/pandas/core/internals/blocks.py:2374(__init__)\n",
      "        1    0.000    0.000    0.000    0.000 /Users/jlaidler/venvs/argo/lib/python3.7/site-packages/pandas/core/internals/managers.py:1827(_multi_blockify)\n",
      "       36    0.000    0.000    0.000    0.000 /Users/jlaidler/venvs/argo/lib/python3.7/site-packages/pandas/core/dtypes/base.py:256(is_dtype)\n",
      "        2    0.000    0.000    0.000    0.000 /Users/jlaidler/venvs/argo/lib/python3.7/site-packages/pandas/core/internals/blocks.py:237(mgr_locs)\n",
      "        1    0.000    0.000    0.000    0.000 /Users/jlaidler/venvs/argo/lib/python3.7/site-packages/pandas/core/generic.py:5268(values)\n",
      "        2    0.000    0.000    0.000    0.000 <__array_function__ internals>:2(isposinf)\n",
      "        1    0.000    0.000    0.000    0.000 /Users/jlaidler/venvs/argo/lib/python3.7/site-packages/pandas/core/dtypes/cast.py:1310(maybe_cast_to_datetime)\n",
      "        1    0.000    0.000    0.000    0.000 /Users/jlaidler/venvs/argo/lib/python3.7/site-packages/pandas/core/dtypes/cast.py:1201(maybe_infer_to_datetimelike)\n",
      "       24    0.000    0.000    0.000    0.000 /Users/jlaidler/venvs/argo/lib/python3.7/site-packages/pandas/core/dtypes/common.py:1460(is_extension_array_dtype)\n",
      "      154    0.000    0.000    0.000    0.000 /Users/jlaidler/venvs/argo/lib/python3.7/site-packages/pandas/core/dtypes/generic.py:10(_check)\n",
      "        4    0.000    0.000    0.000    0.000 /Users/jlaidler/venvs/argo/lib/python3.7/site-packages/numpy/lib/ufunclike.py:48(func)\n",
      "       16    0.000    0.000    0.000    0.000 {built-in method numpy.array}\n",
      "        2    0.000    0.000    0.000    0.000 /Users/jlaidler/venvs/argo/lib/python3.7/site-packages/numpy/core/_asarray.py:221(require)\n",
      "       16    0.000    0.000    0.000    0.000 <frozen importlib._bootstrap>:1009(_handle_fromlist)\n",
      "        1    0.000    0.000    0.000    0.000 /Users/jlaidler/venvs/argo/lib/python3.7/site-packages/pandas/core/internals/managers.py:132(__init__)\n",
      "       12    0.000    0.000    0.000    0.000 /Users/jlaidler/venvs/argo/lib/python3.7/site-packages/pandas/core/dtypes/common.py:492(is_interval_dtype)\n",
      "        3    0.000    0.000    0.000    0.000 /Users/jlaidler/venvs/argo/lib/python3.7/site-packages/pandas/core/common.py:218(asarray_tuplesafe)\n",
      "        2    0.000    0.000    0.000    0.000 /Users/jlaidler/venvs/argo/lib/python3.7/site-packages/numpy/lib/ufunclike.py:127(isposinf)\n",
      "       12    0.000    0.000    0.000    0.000 /Users/jlaidler/venvs/argo/lib/python3.7/site-packages/pandas/core/dtypes/common.py:456(is_period_dtype)\n",
      "        3    0.000    0.000    0.000    0.000 /Users/jlaidler/venvs/argo/lib/python3.7/site-packages/pandas/core/dtypes/cast.py:1187(maybe_castable)\n",
      "       12    0.000    0.000    0.000    0.000 /Users/jlaidler/venvs/argo/lib/python3.7/site-packages/pandas/core/dtypes/common.py:530(is_categorical_dtype)\n",
      "        6    0.000    0.000    0.000    0.000 <__array_function__ internals>:2(copyto)\n",
      "        1    0.000    0.000    0.000    0.000 /Users/jlaidler/venvs/argo/lib/python3.7/site-packages/pandas/core/internals/managers.py:806(as_array)\n",
      "        2    0.000    0.000    0.000    0.000 /Users/jlaidler/venvs/argo/lib/python3.7/site-packages/pandas/core/internals/managers.py:1843(_stack_arrays)\n",
      "    50/42    0.000    0.000    0.000    0.000 {built-in method builtins.len}\n",
      "        4    0.000    0.000    0.000    0.000 /Users/jlaidler/venvs/argo/lib/python3.7/site-packages/numpy/core/_dtype.py:321(_name_get)\n",
      "        9    0.000    0.000    0.000    0.000 /Users/jlaidler/venvs/argo/lib/python3.7/site-packages/pandas/core/dtypes/dtypes.py:1119(is_dtype)\n",
      "       21    0.000    0.000    0.000    0.000 /Users/jlaidler/venvs/argo/lib/python3.7/site-packages/pandas/core/dtypes/common.py:1600(_is_dtype_type)\n",
      "        1    0.000    0.000    0.000    0.000 /Users/jlaidler/venvs/argo/lib/python3.7/site-packages/numpy/core/_methods.py:59(_count_reduce_items)\n",
      "        2    0.000    0.000    0.000    0.000 /Users/jlaidler/venvs/argo/lib/python3.7/site-packages/numpy/core/getlimits.py:366(__new__)\n",
      "        9    0.000    0.000    0.000    0.000 /Users/jlaidler/venvs/argo/lib/python3.7/site-packages/pandas/core/dtypes/dtypes.py:906(is_dtype)\n",
      "        1    0.000    0.000    0.000    0.000 /Users/jlaidler/venvs/argo/lib/python3.7/site-packages/pandas/core/internals/managers.py:321(_verify_integrity)\n",
      "       24    0.000    0.000    0.000    0.000 /Users/jlaidler/venvs/argo/lib/python3.7/site-packages/pandas/core/dtypes/base.py:413(find)\n",
      "        8    0.000    0.000    0.000    0.000 /Users/jlaidler/venvs/argo/lib/python3.7/site-packages/pandas/core/dtypes/common.py:194(is_object_dtype)\n",
      "       10    0.000    0.000    0.000    0.000 /Users/jlaidler/venvs/argo/lib/python3.7/site-packages/pandas/core/dtypes/common.py:381(is_datetime64tz_dtype)\n",
      "        1    0.000    0.000    0.000    0.000 /Users/jlaidler/venvs/argo/lib/python3.7/site-packages/pandas/core/indexes/base.py:5726(_maybe_cast_data_without_dtype)\n",
      "       34    0.000    0.000    0.000    0.000 {built-in method builtins.hasattr}\n",
      "        4    0.000    0.000    0.000    0.000 {built-in method numpy.empty}\n",
      "      228    0.000    0.000    0.000    0.000 {built-in method builtins.getattr}\n",
      "        1    0.000    0.000    0.000    0.000 /Users/jlaidler/venvs/argo/lib/python3.7/site-packages/pandas/core/dtypes/cast.py:1570(construct_1d_object_array_from_listlike)\n",
      "        1    0.000    0.000    0.000    0.000 {pandas._libs.lib.infer_dtype}\n",
      "        6    0.000    0.000    0.000    0.000 /Users/jlaidler/venvs/argo/lib/python3.7/site-packages/pandas/core/dtypes/common.py:224(is_sparse)\n",
      "        1    0.000    0.000    0.000    0.000 /Users/jlaidler/venvs/argo/lib/python3.7/site-packages/pandas/core/dtypes/cast.py:1530(construct_1d_arraylike_from_scalar)\n",
      "        2    0.000    0.000    0.000    0.000 <__array_function__ internals>:2(isneginf)\n",
      "        3    0.000    0.000    0.000    0.000 /Users/jlaidler/venvs/argo/lib/python3.7/site-packages/pandas/core/indexes/base.py:5656(maybe_extract_name)\n",
      "        4    0.000    0.000    0.000    0.000 /Users/jlaidler/venvs/argo/lib/python3.7/site-packages/numpy/core/_dtype.py:307(_name_includes_bit_suffix)\n",
      "        6    0.000    0.000    0.000    0.000 /Users/jlaidler/venvs/argo/lib/python3.7/site-packages/pandas/core/dtypes/common.py:422(is_timedelta64_dtype)\n",
      "        2    0.000    0.000    0.000    0.000 /Users/jlaidler/venvs/argo/lib/python3.7/site-packages/pandas/core/dtypes/common.py:1330(is_bool_dtype)\n",
      "        1    0.000    0.000    0.000    0.000 /Users/jlaidler/venvs/argo/lib/python3.7/site-packages/pandas/core/generic.py:5208(_consolidate_inplace)\n",
      "        2    0.000    0.000    0.000    0.000 {method 'get' of 'dict' objects}\n",
      "       92    0.000    0.000    0.000    0.000 {built-in method builtins.issubclass}\n",
      "        1    0.000    0.000    0.000    0.000 <__array_function__ internals>:2(where)\n",
      "        4    0.000    0.000    0.000    0.000 /Users/jlaidler/venvs/argo/lib/python3.7/site-packages/numpy/lib/ufunclike.py:22(func)\n",
      "        1    0.000    0.000    0.000    0.000 /Users/jlaidler/venvs/argo/lib/python3.7/site-packages/pandas/core/dtypes/cast.py:643(infer_dtype_from_scalar)\n",
      "        4    0.000    0.000    0.000    0.000 /Users/jlaidler/venvs/argo/lib/python3.7/site-packages/pandas/core/indexes/base.py:4083(__getitem__)\n",
      "        1    0.000    0.000    0.000    0.000 /Users/jlaidler/venvs/argo/lib/python3.7/site-packages/pandas/core/generic.py:5197(_protect_consolidate)\n",
      "        1    0.000    0.000    0.000    0.000 /Users/jlaidler/venvs/argo/lib/python3.7/site-packages/pandas/core/internals/construction.py:274(<listcomp>)\n",
      "        1    0.000    0.000    0.000    0.000 /Users/jlaidler/venvs/argo/lib/python3.7/site-packages/pandas/core/internals/construction.py:281(<listcomp>)\n",
      "        1    0.000    0.000    0.000    0.000 /Users/jlaidler/venvs/argo/lib/python3.7/site-packages/pandas/core/internals/blocks.py:213(get_values)\n",
      "        2    0.000    0.000    0.000    0.000 {method 'reshape' of 'numpy.ndarray' objects}\n",
      "        7    0.000    0.000    0.000    0.000 /Users/jlaidler/venvs/argo/lib/python3.7/site-packages/numpy/core/_asarray.py:14(asarray)\n",
      "       14    0.000    0.000    0.000    0.000 /Users/jlaidler/venvs/argo/lib/python3.7/site-packages/pandas/core/dtypes/common.py:180(<lambda>)\n",
      "        3    0.000    0.000    0.000    0.000 /Users/jlaidler/venvs/argo/lib/python3.7/site-packages/pandas/core/dtypes/common.py:696(is_integer_dtype)\n",
      "        1    0.000    0.000    0.000    0.000 /Users/jlaidler/venvs/argo/lib/python3.7/site-packages/pandas/core/indexes/base.py:463(_simple_new)\n",
      "        1    0.000    0.000    0.000    0.000 /Users/jlaidler/venvs/argo/lib/python3.7/site-packages/pandas/core/internals/managers.py:212(shape)\n",
      "        3    0.000    0.000    0.000    0.000 /Users/jlaidler/venvs/argo/lib/python3.7/site-packages/numpy/core/numerictypes.py:360(issubdtype)\n",
      "        2    0.000    0.000    0.000    0.000 /Users/jlaidler/venvs/argo/lib/python3.7/site-packages/numpy/core/_asarray.py:298(<setcomp>)\n",
      "        4    0.000    0.000    0.000    0.000 /Users/jlaidler/venvs/argo/lib/python3.7/site-packages/pandas/core/construction.py:339(extract_array)\n",
      "        4    0.000    0.000    0.000    0.000 /Users/jlaidler/venvs/argo/lib/python3.7/site-packages/pandas/core/common.py:274(maybe_iterable_to_list)\n",
      "        2    0.000    0.000    0.000    0.000 /Users/jlaidler/venvs/argo/lib/python3.7/site-packages/numpy/lib/shape_base.py:1243(<genexpr>)\n",
      "        2    0.000    0.000    0.000    0.000 {pandas._libs.lib.is_list_like}\n",
      "        2    0.000    0.000    0.000    0.000 /Users/jlaidler/venvs/argo/lib/python3.7/site-packages/pandas/core/internals/managers.py:675(is_consolidated)\n",
      "        1    0.000    0.000    0.000    0.000 /Users/jlaidler/venvs/argo/lib/python3.7/site-packages/pandas/core/internals/managers.py:977(_consolidate_inplace)\n",
      "        4    0.000    0.000    0.000    0.000 /Users/jlaidler/venvs/argo/lib/python3.7/site-packages/pandas/core/internals/managers.py:1846(_asarray_compat)\n",
      "        3    0.000    0.000    0.000    0.000 {built-in method builtins.all}\n",
      "        2    0.000    0.000    0.000    0.000 /Users/jlaidler/venvs/argo/lib/python3.7/site-packages/numpy/lib/ufunclike.py:198(isneginf)\n",
      "        1    0.000    0.000    0.000    0.000 /Users/jlaidler/venvs/argo/lib/python3.7/site-packages/pandas/core/indexes/base.py:5672(_maybe_cast_with_dtype)\n",
      "        1    0.000    0.000    0.000    0.000 /Users/jlaidler/venvs/argo/lib/python3.7/site-packages/pandas/core/generic.py:195(__init__)\n",
      "        8    0.000    0.000    0.000    0.000 /Users/jlaidler/venvs/argo/lib/python3.7/site-packages/pandas/core/indexes/base.py:567(__len__)\n",
      "        1    0.000    0.000    0.000    0.000 /Users/jlaidler/venvs/argo/lib/python3.7/site-packages/pandas/core/generic.py:5211(f)\n",
      "        3    0.000    0.000    0.000    0.000 /Users/jlaidler/venvs/argo/lib/python3.7/site-packages/pandas/core/internals/managers.py:214(<genexpr>)\n",
      "        1    0.000    0.000    0.000    0.000 /Users/jlaidler/venvs/argo/lib/python3.7/site-packages/pandas/core/internals/managers.py:683(_consolidate_check)\n",
      "        6    0.000    0.000    0.000    0.000 /Users/jlaidler/venvs/argo/lib/python3.7/site-packages/numpy/core/numerictypes.py:286(issubclass_)\n",
      "        2    0.000    0.000    0.000    0.000 /Users/jlaidler/venvs/argo/lib/python3.7/site-packages/numpy/lib/type_check.py:363(_nan_to_num_dispatcher)\n",
      "        2    0.000    0.000    0.000    0.000 /Users/jlaidler/venvs/argo/lib/python3.7/site-packages/pandas/core/dtypes/common.py:750(is_signed_integer_dtype)\n",
      "        2    0.000    0.000    0.000    0.000 /Users/jlaidler/venvs/argo/lib/python3.7/site-packages/pandas/core/dtypes/common.py:1565(_get_dtype)\n",
      "        1    0.000    0.000    0.000    0.000 /Users/jlaidler/venvs/argo/lib/python3.7/site-packages/pandas/core/internals/managers.py:138(<listcomp>)\n",
      "        1    0.000    0.000    0.000    0.000 {built-in method builtins.sum}\n",
      "       14    0.000    0.000    0.000    0.000 /Users/jlaidler/venvs/argo/lib/python3.7/site-packages/pandas/core/dtypes/common.py:178(classes)\n",
      "        3    0.000    0.000    0.000    0.000 /Users/jlaidler/venvs/argo/lib/python3.7/site-packages/pandas/core/dtypes/common.py:1296(is_float_dtype)\n",
      "        1    0.000    0.000    0.000    0.000 {built-in method numpy.arange}\n",
      "        2    0.000    0.000    0.000    0.000 /Users/jlaidler/venvs/argo/lib/python3.7/site-packages/pandas/core/dtypes/common.py:806(is_unsigned_integer_dtype)\n",
      "        6    0.000    0.000    0.000    0.000 /Users/jlaidler/venvs/argo/lib/python3.7/site-packages/pandas/core/dtypes/common.py:905(is_datetime64_any_dtype)\n",
      "        4    0.000    0.000    0.000    0.000 /Users/jlaidler/venvs/argo/lib/python3.7/site-packages/pandas/core/dtypes/common.py:1733(pandas_dtype)\n",
      "        1    0.000    0.000    0.000    0.000 /Users/jlaidler/venvs/argo/lib/python3.7/site-packages/pandas/core/internals/construction.py:278(<listcomp>)\n",
      "        1    0.000    0.000    0.000    0.000 {method 'transpose' of 'numpy.ndarray' objects}\n",
      "        6    0.000    0.000    0.000    0.000 {pandas._libs.lib.is_scalar}\n",
      "        1    0.000    0.000    0.000    0.000 /Users/jlaidler/venvs/argo/lib/python3.7/site-packages/pandas/core/dtypes/cast.py:1595(construct_1d_ndarray_preserving_na)\n",
      "        4    0.000    0.000    0.000    0.000 /Users/jlaidler/venvs/argo/lib/python3.7/site-packages/pandas/core/common.py:149(cast_scalar_indexer)\n",
      "        2    0.000    0.000    0.000    0.000 /Users/jlaidler/venvs/argo/lib/python3.7/site-packages/pandas/core/internals/blocks.py:135(_check_ndim)\n",
      "        3    0.000    0.000    0.000    0.000 /Users/jlaidler/venvs/argo/lib/python3.7/site-packages/pandas/core/internals/managers.py:323(<genexpr>)\n",
      "        2    0.000    0.000    0.000    0.000 /Users/jlaidler/venvs/argo/lib/python3.7/site-packages/pandas/core/internals/managers.py:1852(_shape_compat)\n",
      "        1    0.000    0.000    0.000    0.000 {method 'fill' of 'numpy.ndarray' objects}\n",
      "        3    0.000    0.000    0.000    0.000 /Users/jlaidler/venvs/argo/lib/python3.7/site-packages/pandas/core/dtypes/inference.py:322(is_hashable)\n",
      "        7    0.000    0.000    0.000    0.000 /Users/jlaidler/venvs/argo/lib/python3.7/site-packages/pandas/core/dtypes/common.py:188(<lambda>)\n",
      "        7    0.000    0.000    0.000    0.000 /Users/jlaidler/venvs/argo/lib/python3.7/site-packages/pandas/core/dtypes/common.py:183(classes_and_not_datetimelike)\n",
      "        1    0.000    0.000    0.000    0.000 /Users/jlaidler/venvs/argo/lib/python3.7/site-packages/pandas/core/indexes/base.py:4196(equals)\n",
      "        5    0.000    0.000    0.000    0.000 /Users/jlaidler/venvs/argo/lib/python3.7/site-packages/pandas/core/indexes/base.py:5559(ensure_index)\n",
      "        1    0.000    0.000    0.000    0.000 /Users/jlaidler/venvs/argo/lib/python3.7/site-packages/pandas/core/generic.py:5141(__setattr__)\n",
      "        1    0.000    0.000    0.000    0.000 /Users/jlaidler/venvs/argo/lib/python3.7/site-packages/pandas/core/internals/managers.py:684(<listcomp>)\n",
      "        1    0.000    0.000    0.000    0.000 /Users/jlaidler/venvs/argo/lib/python3.7/site-packages/pandas/core/internals/managers.py:961(consolidate)\n",
      "        2    0.000    0.000    0.000    0.000 {method 'upper' of 'str' objects}\n",
      "        6    0.000    0.000    0.000    0.000 /Users/jlaidler/venvs/argo/lib/python3.7/site-packages/numpy/core/multiarray.py:1043(copyto)\n",
      "        4    0.000    0.000    0.000    0.000 /Users/jlaidler/venvs/argo/lib/python3.7/site-packages/numpy/core/_dtype.py:24(_kind_name)\n",
      "        4    0.000    0.000    0.000    0.000 /Users/jlaidler/venvs/argo/lib/python3.7/site-packages/numpy/lib/ufunclike.py:68(_dispatcher)\n",
      "        2    0.000    0.000    0.000    0.000 /Users/jlaidler/venvs/argo/lib/python3.7/site-packages/pandas/core/indexes/base.py:424(<genexpr>)\n",
      "        4    0.000    0.000    0.000    0.000 /Users/jlaidler/venvs/argo/lib/python3.7/site-packages/pandas/core/internals/blocks.py:233(mgr_locs)\n",
      "        2    0.000    0.000    0.000    0.000 /Users/jlaidler/venvs/argo/lib/python3.7/site-packages/pandas/core/internals/managers.py:216(ndim)\n",
      "        3    0.000    0.000    0.000    0.000 /Users/jlaidler/venvs/argo/lib/python3.7/site-packages/pandas/core/internals/managers.py:1680(<genexpr>)\n",
      "        1    0.000    0.000    0.000    0.000 {built-in method __new__ of type object at 0x106d8f778}\n",
      "        3    0.000    0.000    0.000    0.000 {method 'format' of 'str' objects}\n",
      "        3    0.000    0.000    0.000    0.000 {built-in method builtins.hash}\n",
      "        1    0.000    0.000    0.000    0.000 {method 'disable' of '_lsprof.Profiler' objects}\n",
      "        1    0.000    0.000    0.000    0.000 /Users/jlaidler/venvs/argo/lib/python3.7/site-packages/numpy/core/multiarray.py:311(where)\n",
      "        1    0.000    0.000    0.000    0.000 {built-in method numpy.core._multiarray_umath.normalize_axis_index}\n",
      "        1    0.000    0.000    0.000    0.000 /Users/jlaidler/venvs/argo/lib/python3.7/site-packages/numpy/core/_asarray.py:86(asanyarray)\n",
      "        1    0.000    0.000    0.000    0.000 /Users/jlaidler/venvs/argo/lib/python3.7/site-packages/numpy/lib/shape_base.py:1167(_tile_dispatcher)\n",
      "        3    0.000    0.000    0.000    0.000 /Users/jlaidler/venvs/argo/lib/python3.7/site-packages/numpy/lib/shape_base.py:1253(<genexpr>)\n",
      "        5    0.000    0.000    0.000    0.000 {pandas._libs.lib.is_float}\n",
      "        1    0.000    0.000    0.000    0.000 {pandas._libs.lib.is_bool}\n",
      "        1    0.000    0.000    0.000    0.000 {pandas._libs.lib.infer_datetimelike_array}\n",
      "        1    0.000    0.000    0.000    0.000 {pandas._libs.algos.ensure_object}\n",
      "        1    0.000    0.000    0.000    0.000 /Users/jlaidler/venvs/argo/lib/python3.7/site-packages/pandas/core/indexes/base.py:520(is_)\n",
      "        1    0.000    0.000    0.000    0.000 /Users/jlaidler/venvs/argo/lib/python3.7/site-packages/pandas/core/indexes/base.py:544(_reset_identity)\n",
      "        2    0.000    0.000    0.000    0.000 /Users/jlaidler/venvs/argo/lib/python3.7/site-packages/pandas/core/internals/blocks.py:311(shape)\n",
      "        2    0.000    0.000    0.000    0.000 /Users/jlaidler/venvs/argo/lib/python3.7/site-packages/pandas/core/internals/blocks.py:315(dtype)\n",
      "        1    0.000    0.000    0.000    0.000 /Users/jlaidler/venvs/argo/lib/python3.7/site-packages/pandas/core/internals/managers.py:233(_is_single_block)\n",
      "        1    0.000    0.000    0.000    0.000 /Users/jlaidler/venvs/argo/lib/python3.7/site-packages/pandas/core/internals/managers.py:259(items)\n",
      "        3    0.000    0.000    0.000    0.000 /Users/jlaidler/venvs/argo/lib/python3.7/site-packages/pandas/core/internals/managers.py:1830(<lambda>)\n",
      "        9    0.000    0.000    0.000    0.000 {method 'append' of 'list' objects}\n",
      "        2    0.000    0.000    0.000    0.000 {method 'extend' of 'list' objects}\n",
      "        1    0.000    0.000    0.000    0.000 {method 'keys' of 'dict' objects}\n",
      "        1    0.000    0.000    0.000    0.000 {pandas._libs.lib.is_iterator}\n",
      "        1    0.000    0.000    0.000    0.000 {pandas._libs.lib.is_integer}\n",
      "        1    0.000    0.000    0.000    0.000 {pandas._libs.lib.is_complex}\n",
      "\n",
      "\n"
     ]
    },
    {
     "data": {
      "text/plain": [
       "<pstats.Stats at 0x6c7ae26d8>"
      ]
     },
     "execution_count": 115,
     "metadata": {},
     "output_type": "execute_result"
    }
   ],
   "source": [
    "p = pstats.Stats(f'{filename}.dat')\n",
    "p.sort_stats('cumtime').print_stats()"
   ]
  },
  {
   "cell_type": "markdown",
   "metadata": {},
   "source": [
    "## OLD (with weight)"
   ]
  },
  {
   "cell_type": "code",
   "execution_count": 63,
   "metadata": {},
   "outputs": [],
   "source": [
    "filename = 'return_binary_pred_perf_of_set_numpy_no_opt_with_weight_old'"
   ]
  },
  {
   "cell_type": "code",
   "execution_count": 19,
   "metadata": {},
   "outputs": [],
   "source": [
    "weights = np.random.randint(0, 10, X_rules.shape[0])"
   ]
  },
  {
   "cell_type": "code",
   "execution_count": 65,
   "metadata": {},
   "outputs": [],
   "source": [
    "cProfile.run('argo_utils.return_binary_pred_perf_of_set_numpy(y_true=y, y_preds=X_rules, y_preds_columns=X_rules.columns, sample_weight=weights)', sort='cumtime', filename=f'{filename}.dat')"
   ]
  },
  {
   "cell_type": "code",
   "execution_count": 66,
   "metadata": {
    "collapsed": true,
    "jupyter": {
     "outputs_hidden": true
    }
   },
   "outputs": [
    {
     "name": "stdout",
     "output_type": "stream",
     "text": [
      "Mon Jan 18 15:18:01 2021    return_binary_pred_perf_of_set_numpy_no_opt_with_weight_old.dat\n",
      "\n",
      "         3391 function calls (3365 primitive calls) in 31.095 seconds\n",
      "\n",
      "   Ordered by: cumulative time\n",
      "\n",
      "   ncalls  tottime  percall  cumtime  percall filename:lineno(function)\n",
      "        1    0.000    0.000   31.095   31.095 {built-in method builtins.exec}\n",
      "        1    0.787    0.787   31.095   31.095 <string>:1(<module>)\n",
      "        1   13.496   13.496   30.307   30.307 /Users/jlaidler/Documents/tigress/tigress/argo/argo/argo_utils/argo_utils/argo_utils.py:139(return_binary_pred_perf_of_set_numpy)\n",
      "        4    8.630    2.158    8.630    2.158 {method 'reduce' of 'numpy.ufunc' objects}\n",
      "     21/6    0.012    0.001    8.137    1.356 {built-in method numpy.core._multiarray_umath.implement_array_function}\n",
      "        3    0.002    0.001    7.981    2.660 {method 'sum' of 'numpy.ndarray' objects}\n",
      "        3    0.000    0.000    7.980    2.660 /Users/jlaidler/venvs/argo/lib/python3.7/site-packages/numpy/core/_methods.py:45(_sum)\n",
      "        1    0.003    0.003    4.593    4.593 <__array_function__ internals>:2(apply_along_axis)\n",
      "        1    2.457    2.457    4.587    4.587 /Users/jlaidler/venvs/argo/lib/python3.7/site-packages/numpy/lib/shape_base.py:267(apply_along_axis)\n",
      "        2    0.000    0.000    3.532    1.766 <__array_function__ internals>:2(tile)\n",
      "        2    0.000    0.000    3.531    1.766 /Users/jlaidler/venvs/argo/lib/python3.7/site-packages/numpy/lib/shape_base.py:1171(tile)\n",
      "        2    3.531    1.766    3.531    1.766 {method 'repeat' of 'numpy.ndarray' objects}\n",
      "      300    2.106    0.007    2.106    0.007 /Users/jlaidler/Documents/tigress/tigress/argo/argo/argo_utils/argo_utils/argo_utils.py:180(<lambda>)\n",
      "        1    0.000    0.000    0.651    0.651 {method 'mean' of 'numpy.ndarray' objects}\n",
      "        1    0.000    0.000    0.651    0.651 /Users/jlaidler/venvs/argo/lib/python3.7/site-packages/numpy/core/_methods.py:143(_mean)\n",
      "        1    0.003    0.003    0.038    0.038 /Users/jlaidler/venvs/argo/lib/python3.7/site-packages/pandas/core/frame.py:441(__init__)\n",
      "        1    0.002    0.002    0.034    0.034 /Users/jlaidler/venvs/argo/lib/python3.7/site-packages/pandas/core/internals/construction.py:237(init_dict)\n",
      "      3/1    0.003    0.001    0.018    0.018 /Users/jlaidler/venvs/argo/lib/python3.7/site-packages/pandas/core/indexes/base.py:293(__new__)\n",
      "        2    0.001    0.000    0.016    0.008 <__array_function__ internals>:2(nan_to_num)\n",
      "        2    0.002    0.001    0.014    0.007 /Users/jlaidler/venvs/argo/lib/python3.7/site-packages/numpy/lib/type_check.py:367(nan_to_num)\n",
      "        1    0.001    0.001    0.012    0.012 /Users/jlaidler/venvs/argo/lib/python3.7/site-packages/pandas/core/internals/construction.py:60(arrays_to_mgr)\n",
      "        1    0.002    0.002    0.009    0.009 /Users/jlaidler/venvs/argo/lib/python3.7/site-packages/numpy/lib/index_tricks.py:634(__init__)\n",
      "      301    0.003    0.000    0.009    0.000 /Users/jlaidler/venvs/argo/lib/python3.7/site-packages/numpy/lib/shape_base.py:370(<genexpr>)\n",
      "        7    0.000    0.000    0.007    0.001 <__array_function__ internals>:2(copyto)\n",
      "        1    0.000    0.000    0.007    0.007 /Users/jlaidler/venvs/argo/lib/python3.7/site-packages/pandas/core/internals/managers.py:1675(create_block_manager_from_arrays)\n",
      "      301    0.003    0.000    0.006    0.000 /Users/jlaidler/venvs/argo/lib/python3.7/site-packages/numpy/lib/index_tricks.py:653(__next__)\n",
      "        1    0.001    0.001    0.005    0.005 /Users/jlaidler/venvs/argo/lib/python3.7/site-packages/pandas/core/internals/managers.py:1715(form_blocks)\n",
      "       11    0.003    0.000    0.005    0.000 //anaconda3/lib/python3.7/abc.py:137(__instancecheck__)\n",
      "        2    0.001    0.001    0.005    0.002 {pandas._libs.lib.is_list_like}\n",
      "        1    0.004    0.004    0.005    0.005 /Users/jlaidler/venvs/argo/lib/python3.7/site-packages/numpy/lib/stride_tricks.py:37(as_strided)\n",
      "        2    0.004    0.002    0.005    0.002 /Users/jlaidler/venvs/argo/lib/python3.7/site-packages/numpy/lib/type_check.py:357(_getmaxmin)\n",
      "        1    0.000    0.000    0.004    0.004 /Users/jlaidler/venvs/argo/lib/python3.7/site-packages/pandas/core/internals/construction.py:329(_homogenize)\n",
      "        4    0.001    0.000    0.004    0.001 /Users/jlaidler/venvs/argo/lib/python3.7/site-packages/pandas/core/construction.py:390(sanitize_array)\n",
      "        1    0.001    0.001    0.003    0.003 /Users/jlaidler/venvs/argo/lib/python3.7/site-packages/pandas/core/internals/managers.py:1827(_multi_blockify)\n",
      "  302/301    0.003    0.000    0.003    0.000 {built-in method builtins.next}\n",
      "      320    0.003    0.000    0.003    0.000 {built-in method numpy.array}\n",
      "      302    0.001    0.000    0.003    0.000 /Users/jlaidler/venvs/argo/lib/python3.7/site-packages/numpy/core/_asarray.py:86(asanyarray)\n",
      "        1    0.000    0.000    0.002    0.002 <__array_function__ internals>:2(zeros_like)\n",
      "        1    0.002    0.002    0.002    0.002 /Users/jlaidler/venvs/argo/lib/python3.7/site-packages/pandas/core/indexes/base.py:463(_simple_new)\n",
      "        4    0.000    0.000    0.002    0.001 /Users/jlaidler/venvs/argo/lib/python3.7/site-packages/pandas/core/construction.py:520(_try_cast)\n",
      "      344    0.000    0.000    0.002    0.000 {built-in method builtins.isinstance}\n",
      "        2    0.001    0.000    0.002    0.001 <__array_function__ internals>:2(transpose)\n",
      "        1    0.001    0.001    0.002    0.002 /Users/jlaidler/venvs/argo/lib/python3.7/site-packages/numpy/core/numeric.py:75(zeros_like)\n",
      "        1    0.001    0.001    0.002    0.002 /Users/jlaidler/venvs/argo/lib/python3.7/site-packages/pandas/core/dtypes/cast.py:1310(maybe_cast_to_datetime)\n",
      "        3    0.001    0.000    0.002    0.001 /Users/jlaidler/venvs/argo/lib/python3.7/site-packages/pandas/core/indexes/base.py:5656(maybe_extract_name)\n",
      "       11    0.002    0.000    0.002    0.000 {built-in method _abc._abc_instancecheck}\n",
      "        3    0.001    0.000    0.002    0.001 /Users/jlaidler/venvs/argo/lib/python3.7/site-packages/pandas/core/common.py:218(asarray_tuplesafe)\n",
      "        6    0.001    0.000    0.001    0.000 /Users/jlaidler/venvs/argo/lib/python3.7/site-packages/pandas/core/dtypes/common.py:422(is_timedelta64_dtype)\n",
      "        2    0.000    0.000    0.001    0.001 /Users/jlaidler/venvs/argo/lib/python3.7/site-packages/numpy/core/fromnumeric.py:601(transpose)\n",
      "        2    0.001    0.000    0.001    0.001 /Users/jlaidler/venvs/argo/lib/python3.7/site-packages/numpy/core/fromnumeric.py:52(_wrapfunc)\n",
      "        1    0.000    0.000    0.001    0.001 /Users/jlaidler/venvs/argo/lib/python3.7/site-packages/pandas/core/internals/construction.py:274(<listcomp>)\n",
      "        1    0.001    0.001    0.001    0.001 /Users/jlaidler/venvs/argo/lib/python3.7/site-packages/pandas/core/indexes/base.py:5726(_maybe_cast_data_without_dtype)\n",
      "        2    0.000    0.000    0.001    0.001 /Users/jlaidler/venvs/argo/lib/python3.7/site-packages/pandas/core/internals/blocks.py:2701(make_block)\n",
      "        4    0.000    0.000    0.001    0.000 /Users/jlaidler/venvs/argo/lib/python3.7/site-packages/pandas/core/common.py:274(maybe_iterable_to_list)\n",
      "        2    0.001    0.001    0.001    0.001 /Users/jlaidler/venvs/argo/lib/python3.7/site-packages/pandas/core/internals/managers.py:1843(_stack_arrays)\n",
      "        1    0.000    0.000    0.001    0.001 /Users/jlaidler/venvs/argo/lib/python3.7/site-packages/pandas/core/internals/managers.py:977(_consolidate_inplace)\n",
      "        2    0.001    0.000    0.001    0.001 /Users/jlaidler/venvs/argo/lib/python3.7/site-packages/pandas/core/internals/managers.py:675(is_consolidated)\n",
      "        2    0.000    0.000    0.001    0.001 <__array_function__ internals>:2(isposinf)\n",
      "        1    0.000    0.000    0.001    0.001 <__array_function__ internals>:2(empty_like)\n",
      "        1    0.001    0.001    0.001    0.001 /Users/jlaidler/venvs/argo/lib/python3.7/site-packages/pandas/core/dtypes/cast.py:1570(construct_1d_object_array_from_listlike)\n",
      "        2    0.000    0.000    0.001    0.000 /Users/jlaidler/venvs/argo/lib/python3.7/site-packages/pandas/core/internals/blocks.py:124(__init__)\n",
      "       12    0.001    0.000    0.001    0.000 /Users/jlaidler/venvs/argo/lib/python3.7/site-packages/pandas/core/dtypes/common.py:530(is_categorical_dtype)\n",
      "        1    0.001    0.001    0.001    0.001 /Users/jlaidler/venvs/argo/lib/python3.7/site-packages/pandas/core/generic.py:195(__init__)\n",
      "        1    0.000    0.000    0.001    0.001 <__array_function__ internals>:2(where)\n",
      "        2    0.000    0.000    0.001    0.000 /Users/jlaidler/venvs/argo/lib/python3.7/site-packages/pandas/core/internals/blocks.py:237(mgr_locs)\n",
      "       24    0.001    0.000    0.001    0.000 /Users/jlaidler/venvs/argo/lib/python3.7/site-packages/pandas/core/dtypes/common.py:1460(is_extension_array_dtype)\n",
      "        3    0.001    0.000    0.001    0.000 {built-in method numpy.zeros}\n",
      "        4    0.000    0.000    0.001    0.000 /Users/jlaidler/venvs/argo/lib/python3.7/site-packages/numpy/lib/ufunclike.py:48(func)\n",
      "        1    0.001    0.001    0.001    0.001 /Users/jlaidler/venvs/argo/lib/python3.7/site-packages/pandas/core/indexes/base.py:4196(equals)\n",
      "        2    0.001    0.000    0.001    0.000 /Users/jlaidler/venvs/argo/lib/python3.7/site-packages/numpy/lib/type_check.py:363(_nan_to_num_dispatcher)\n",
      "        1    0.001    0.001    0.001    0.001 {pandas._libs.lib.infer_dtype}\n",
      "        2    0.001    0.000    0.001    0.000 /Users/jlaidler/venvs/argo/lib/python3.7/site-packages/numpy/core/_asarray.py:221(require)\n",
      "        2    0.001    0.000    0.001    0.000 /Users/jlaidler/venvs/argo/lib/python3.7/site-packages/numpy/lib/ufunclike.py:127(isposinf)\n",
      "        2    0.001    0.000    0.001    0.000 /Users/jlaidler/venvs/argo/lib/python3.7/site-packages/numpy/core/getlimits.py:366(__new__)\n",
      "        1    0.001    0.001    0.001    0.001 /Users/jlaidler/venvs/argo/lib/python3.7/site-packages/pandas/core/dtypes/cast.py:1530(construct_1d_arraylike_from_scalar)\n",
      "      230    0.001    0.000    0.001    0.000 {built-in method builtins.getattr}\n",
      "        8    0.000    0.000    0.001    0.000 /Users/jlaidler/venvs/argo/lib/python3.7/site-packages/numpy/core/_asarray.py:14(asarray)\n",
      "        1    0.001    0.001    0.001    0.001 /Users/jlaidler/venvs/argo/lib/python3.7/site-packages/numpy/core/multiarray.py:75(empty_like)\n",
      "        4    0.001    0.000    0.001    0.000 /Users/jlaidler/venvs/argo/lib/python3.7/site-packages/numpy/lib/ufunclike.py:22(func)\n",
      "        1    0.000    0.000    0.000    0.000 /Users/jlaidler/venvs/argo/lib/python3.7/site-packages/pandas/core/dtypes/cast.py:1201(maybe_infer_to_datetimelike)\n",
      "        3    0.000    0.000    0.000    0.000 /Users/jlaidler/venvs/argo/lib/python3.7/site-packages/pandas/core/dtypes/inference.py:322(is_hashable)\n",
      "        1    0.000    0.000    0.000    0.000 /Users/jlaidler/venvs/argo/lib/python3.7/site-packages/pandas/core/internals/managers.py:683(_consolidate_check)\n",
      "        6    0.000    0.000    0.000    0.000 /Users/jlaidler/venvs/argo/lib/python3.7/site-packages/pandas/core/internals/blocks.py:2655(get_block_type)\n",
      "        1    0.000    0.000    0.000    0.000 {built-in method __new__ of type object at 0x10aaae778}\n",
      "        1    0.000    0.000    0.000    0.000 {method 'keys' of 'dict' objects}\n",
      "    52/44    0.000    0.000    0.000    0.000 {built-in method builtins.len}\n",
      "       12    0.000    0.000    0.000    0.000 /Users/jlaidler/venvs/argo/lib/python3.7/site-packages/pandas/core/dtypes/common.py:492(is_interval_dtype)\n",
      "      154    0.000    0.000    0.000    0.000 /Users/jlaidler/venvs/argo/lib/python3.7/site-packages/pandas/core/dtypes/generic.py:10(_check)\n",
      "       16    0.000    0.000    0.000    0.000 <frozen importlib._bootstrap>:1009(_handle_fromlist)\n",
      "        1    0.000    0.000    0.000    0.000 /Users/jlaidler/venvs/argo/lib/python3.7/site-packages/pandas/core/internals/managers.py:132(__init__)\n",
      "        1    0.000    0.000    0.000    0.000 /Users/jlaidler/venvs/argo/lib/python3.7/site-packages/pandas/core/internals/managers.py:1812(_simple_blockify)\n",
      "        4    0.000    0.000    0.000    0.000 /Users/jlaidler/venvs/argo/lib/python3.7/site-packages/numpy/core/_dtype.py:321(_name_get)\n",
      "        4    0.000    0.000    0.000    0.000 /Users/jlaidler/venvs/argo/lib/python3.7/site-packages/pandas/core/construction.py:339(extract_array)\n",
      "       36    0.000    0.000    0.000    0.000 /Users/jlaidler/venvs/argo/lib/python3.7/site-packages/pandas/core/dtypes/base.py:256(is_dtype)\n",
      "        3    0.000    0.000    0.000    0.000 /Users/jlaidler/venvs/argo/lib/python3.7/site-packages/pandas/core/dtypes/cast.py:1187(maybe_castable)\n",
      "       34    0.000    0.000    0.000    0.000 {built-in method builtins.hasattr}\n",
      "        1    0.000    0.000    0.000    0.000 /Users/jlaidler/venvs/argo/lib/python3.7/site-packages/pandas/core/internals/managers.py:684(<listcomp>)\n",
      "        4    0.000    0.000    0.000    0.000 {built-in method numpy.empty}\n",
      "       12    0.000    0.000    0.000    0.000 /Users/jlaidler/venvs/argo/lib/python3.7/site-packages/pandas/core/dtypes/common.py:456(is_period_dtype)\n",
      "        4    0.000    0.000    0.000    0.000 /Users/jlaidler/venvs/argo/lib/python3.7/site-packages/pandas/core/indexes/base.py:4083(__getitem__)\n",
      "        6    0.000    0.000    0.000    0.000 /Users/jlaidler/venvs/argo/lib/python3.7/site-packages/pandas/core/dtypes/common.py:224(is_sparse)\n",
      "        1    0.000    0.000    0.000    0.000 /Users/jlaidler/venvs/argo/lib/python3.7/site-packages/pandas/core/indexes/base.py:544(_reset_identity)\n",
      "        8    0.000    0.000    0.000    0.000 /Users/jlaidler/venvs/argo/lib/python3.7/site-packages/pandas/core/indexes/base.py:567(__len__)\n",
      "        3    0.000    0.000    0.000    0.000 {method 'transpose' of 'numpy.ndarray' objects}\n",
      "        1    0.000    0.000    0.000    0.000 /Users/jlaidler/venvs/argo/lib/python3.7/site-packages/pandas/core/internals/construction.py:281(<listcomp>)\n",
      "        4    0.000    0.000    0.000    0.000 /Users/jlaidler/venvs/argo/lib/python3.7/site-packages/numpy/core/_dtype.py:307(_name_includes_bit_suffix)\n",
      "        1    0.000    0.000    0.000    0.000 /Users/jlaidler/venvs/argo/lib/python3.7/site-packages/pandas/core/internals/managers.py:321(_verify_integrity)\n",
      "        9    0.000    0.000    0.000    0.000 /Users/jlaidler/venvs/argo/lib/python3.7/site-packages/pandas/core/dtypes/dtypes.py:906(is_dtype)\n",
      "        9    0.000    0.000    0.000    0.000 /Users/jlaidler/venvs/argo/lib/python3.7/site-packages/pandas/core/dtypes/dtypes.py:1119(is_dtype)\n",
      "        1    0.000    0.000    0.000    0.000 /Users/jlaidler/venvs/argo/lib/python3.7/site-packages/pandas/core/internals/blocks.py:2374(__init__)\n",
      "       10    0.000    0.000    0.000    0.000 /Users/jlaidler/venvs/argo/lib/python3.7/site-packages/pandas/core/dtypes/common.py:381(is_datetime64tz_dtype)\n",
      "       24    0.000    0.000    0.000    0.000 /Users/jlaidler/venvs/argo/lib/python3.7/site-packages/pandas/core/dtypes/base.py:413(find)\n",
      "       21    0.000    0.000    0.000    0.000 /Users/jlaidler/venvs/argo/lib/python3.7/site-packages/pandas/core/dtypes/common.py:1600(_is_dtype_type)\n",
      "        2    0.000    0.000    0.000    0.000 /Users/jlaidler/venvs/argo/lib/python3.7/site-packages/pandas/core/dtypes/common.py:1330(is_bool_dtype)\n",
      "        1    0.000    0.000    0.000    0.000 /Users/jlaidler/venvs/argo/lib/python3.7/site-packages/pandas/core/generic.py:5268(values)\n",
      "        2    0.000    0.000    0.000    0.000 /Users/jlaidler/venvs/argo/lib/python3.7/site-packages/pandas/core/internals/blocks.py:135(_check_ndim)\n",
      "        3    0.000    0.000    0.000    0.000 /Users/jlaidler/venvs/argo/lib/python3.7/site-packages/numpy/core/numerictypes.py:360(issubdtype)\n",
      "        1    0.000    0.000    0.000    0.000 {pandas._libs.lib.infer_datetimelike_array}\n",
      "        6    0.000    0.000    0.000    0.000 /Users/jlaidler/venvs/argo/lib/python3.7/site-packages/numpy/core/numerictypes.py:286(issubclass_)\n",
      "        8    0.000    0.000    0.000    0.000 /Users/jlaidler/venvs/argo/lib/python3.7/site-packages/pandas/core/dtypes/common.py:194(is_object_dtype)\n",
      "        1    0.000    0.000    0.000    0.000 /Users/jlaidler/venvs/argo/lib/python3.7/site-packages/pandas/core/internals/construction.py:278(<listcomp>)\n",
      "        1    0.000    0.000    0.000    0.000 /Users/jlaidler/venvs/argo/lib/python3.7/site-packages/numpy/lib/stride_tricks.py:19(__init__)\n",
      "        1    0.000    0.000    0.000    0.000 /Users/jlaidler/venvs/argo/lib/python3.7/site-packages/pandas/core/dtypes/cast.py:643(infer_dtype_from_scalar)\n",
      "        1    0.000    0.000    0.000    0.000 {built-in method numpy.arange}\n",
      "        4    0.000    0.000    0.000    0.000 {method 'reshape' of 'numpy.ndarray' objects}\n",
      "        2    0.000    0.000    0.000    0.000 <__array_function__ internals>:2(isneginf)\n",
      "        6    0.000    0.000    0.000    0.000 {pandas._libs.lib.is_scalar}\n",
      "       92    0.000    0.000    0.000    0.000 {built-in method builtins.issubclass}\n",
      "        1    0.000    0.000    0.000    0.000 {pandas._libs.algos.ensure_object}\n",
      "        6    0.000    0.000    0.000    0.000 /Users/jlaidler/venvs/argo/lib/python3.7/site-packages/pandas/core/dtypes/common.py:905(is_datetime64_any_dtype)\n",
      "        1    0.000    0.000    0.000    0.000 /Users/jlaidler/venvs/argo/lib/python3.7/site-packages/numpy/lib/shape_base.py:263(_apply_along_axis_dispatcher)\n",
      "        2    0.000    0.000    0.000    0.000 /Users/jlaidler/venvs/argo/lib/python3.7/site-packages/numpy/lib/ufunclike.py:198(isneginf)\n",
      "        1    0.000    0.000    0.000    0.000 /Users/jlaidler/venvs/argo/lib/python3.7/site-packages/pandas/core/indexes/base.py:5672(_maybe_cast_with_dtype)\n",
      "        2    0.000    0.000    0.000    0.000 /Users/jlaidler/venvs/argo/lib/python3.7/site-packages/pandas/core/dtypes/common.py:806(is_unsigned_integer_dtype)\n",
      "        1    0.000    0.000    0.000    0.000 /Users/jlaidler/venvs/argo/lib/python3.7/site-packages/pandas/core/internals/managers.py:806(as_array)\n",
      "        4    0.000    0.000    0.000    0.000 {built-in method builtins.all}\n",
      "        3    0.000    0.000    0.000    0.000 /Users/jlaidler/venvs/argo/lib/python3.7/site-packages/pandas/core/dtypes/common.py:1296(is_float_dtype)\n",
      "        2    0.000    0.000    0.000    0.000 /Users/jlaidler/venvs/argo/lib/python3.7/site-packages/pandas/core/dtypes/common.py:1565(_get_dtype)\n",
      "        1    0.000    0.000    0.000    0.000 /Users/jlaidler/venvs/argo/lib/python3.7/site-packages/numpy/core/numeric.py:71(_zeros_like_dispatcher)\n",
      "        2    0.000    0.000    0.000    0.000 /Users/jlaidler/venvs/argo/lib/python3.7/site-packages/numpy/core/_asarray.py:298(<setcomp>)\n",
      "        4    0.000    0.000    0.000    0.000 /Users/jlaidler/venvs/argo/lib/python3.7/site-packages/pandas/core/internals/managers.py:1846(_asarray_compat)\n",
      "       14    0.000    0.000    0.000    0.000 /Users/jlaidler/venvs/argo/lib/python3.7/site-packages/pandas/core/dtypes/common.py:178(classes)\n",
      "        5    0.000    0.000    0.000    0.000 /Users/jlaidler/venvs/argo/lib/python3.7/site-packages/pandas/core/indexes/base.py:5559(ensure_index)\n",
      "        4    0.000    0.000    0.000    0.000 /Users/jlaidler/venvs/argo/lib/python3.7/site-packages/numpy/core/_dtype.py:24(_kind_name)\n",
      "        2    0.000    0.000    0.000    0.000 /Users/jlaidler/venvs/argo/lib/python3.7/site-packages/pandas/core/dtypes/common.py:750(is_signed_integer_dtype)\n",
      "        4    0.000    0.000    0.000    0.000 /Users/jlaidler/venvs/argo/lib/python3.7/site-packages/pandas/core/common.py:149(cast_scalar_indexer)\n",
      "        3    0.000    0.000    0.000    0.000 /Users/jlaidler/venvs/argo/lib/python3.7/site-packages/pandas/core/internals/managers.py:1830(<lambda>)\n",
      "        3    0.000    0.000    0.000    0.000 {method 'format' of 'str' objects}\n",
      "        1    0.000    0.000    0.000    0.000 /Users/jlaidler/venvs/argo/lib/python3.7/site-packages/numpy/lib/stride_tricks.py:24(_maybe_view_as_subclass)\n",
      "       14    0.000    0.000    0.000    0.000 /Users/jlaidler/venvs/argo/lib/python3.7/site-packages/pandas/core/dtypes/common.py:180(<lambda>)\n",
      "        3    0.000    0.000    0.000    0.000 /Users/jlaidler/venvs/argo/lib/python3.7/site-packages/pandas/core/dtypes/common.py:696(is_integer_dtype)\n",
      "        2    0.000    0.000    0.000    0.000 /Users/jlaidler/venvs/argo/lib/python3.7/site-packages/pandas/core/indexes/base.py:424(<genexpr>)\n",
      "        1    0.000    0.000    0.000    0.000 /Users/jlaidler/venvs/argo/lib/python3.7/site-packages/pandas/core/generic.py:5208(_consolidate_inplace)\n",
      "        1    0.000    0.000    0.000    0.000 /Users/jlaidler/venvs/argo/lib/python3.7/site-packages/pandas/core/internals/managers.py:212(shape)\n",
      "        3    0.000    0.000    0.000    0.000 /Users/jlaidler/venvs/argo/lib/python3.7/site-packages/pandas/core/internals/managers.py:1680(<genexpr>)\n",
      "        1    0.000    0.000    0.000    0.000 {method 'fill' of 'numpy.ndarray' objects}\n",
      "        1    0.000    0.000    0.000    0.000 /Users/jlaidler/venvs/argo/lib/python3.7/site-packages/pandas/core/indexes/base.py:520(is_)\n",
      "        1    0.000    0.000    0.000    0.000 /Users/jlaidler/venvs/argo/lib/python3.7/site-packages/pandas/core/generic.py:5197(_protect_consolidate)\n",
      "        7    0.000    0.000    0.000    0.000 /Users/jlaidler/venvs/argo/lib/python3.7/site-packages/numpy/core/multiarray.py:1043(copyto)\n",
      "        2    0.000    0.000    0.000    0.000 /Users/jlaidler/venvs/argo/lib/python3.7/site-packages/pandas/core/internals/managers.py:1852(_shape_compat)\n",
      "        1    0.000    0.000    0.000    0.000 /Users/jlaidler/venvs/argo/lib/python3.7/site-packages/pandas/core/internals/blocks.py:213(get_values)\n",
      "        2    0.000    0.000    0.000    0.000 /Users/jlaidler/venvs/argo/lib/python3.7/site-packages/pandas/core/internals/blocks.py:315(dtype)\n",
      "        2    0.000    0.000    0.000    0.000 /Users/jlaidler/venvs/argo/lib/python3.7/site-packages/numpy/core/fromnumeric.py:597(_transpose_dispatcher)\n",
      "        1    0.000    0.000    0.000    0.000 /Users/jlaidler/venvs/argo/lib/python3.7/site-packages/numpy/lib/index_tricks.py:642(__iter__)\n",
      "        1    0.000    0.000    0.000    0.000 /Users/jlaidler/venvs/argo/lib/python3.7/site-packages/pandas/core/dtypes/cast.py:1595(construct_1d_ndarray_preserving_na)\n",
      "        4    0.000    0.000    0.000    0.000 /Users/jlaidler/venvs/argo/lib/python3.7/site-packages/pandas/core/internals/blocks.py:233(mgr_locs)\n",
      "        9    0.000    0.000    0.000    0.000 {method 'append' of 'list' objects}\n",
      "        2    0.000    0.000    0.000    0.000 {method 'get' of 'dict' objects}\n",
      "        1    0.000    0.000    0.000    0.000 /Users/jlaidler/venvs/argo/lib/python3.7/site-packages/numpy/core/_methods.py:59(_count_reduce_items)\n",
      "        7    0.000    0.000    0.000    0.000 /Users/jlaidler/venvs/argo/lib/python3.7/site-packages/pandas/core/dtypes/common.py:183(classes_and_not_datetimelike)\n",
      "        1    0.000    0.000    0.000    0.000 /Users/jlaidler/venvs/argo/lib/python3.7/site-packages/pandas/core/generic.py:5211(f)\n",
      "        3    0.000    0.000    0.000    0.000 /Users/jlaidler/venvs/argo/lib/python3.7/site-packages/pandas/core/internals/managers.py:214(<genexpr>)\n",
      "        7    0.000    0.000    0.000    0.000 /Users/jlaidler/venvs/argo/lib/python3.7/site-packages/pandas/core/dtypes/common.py:188(<lambda>)\n",
      "        4    0.000    0.000    0.000    0.000 /Users/jlaidler/venvs/argo/lib/python3.7/site-packages/pandas/core/dtypes/common.py:1733(pandas_dtype)\n",
      "        1    0.000    0.000    0.000    0.000 {built-in method builtins.sum}\n",
      "        6    0.000    0.000    0.000    0.000 /Users/jlaidler/venvs/argo/lib/python3.7/site-packages/numpy/lib/shape_base.py:1253(<genexpr>)\n",
      "        1    0.000    0.000    0.000    0.000 /Users/jlaidler/venvs/argo/lib/python3.7/site-packages/pandas/core/internals/managers.py:138(<listcomp>)\n",
      "        2    0.000    0.000    0.000    0.000 {built-in method numpy.core._multiarray_umath.normalize_axis_index}\n",
      "        1    0.000    0.000    0.000    0.000 /Users/jlaidler/venvs/argo/lib/python3.7/site-packages/pandas/core/generic.py:5141(__setattr__)\n",
      "        3    0.000    0.000    0.000    0.000 /Users/jlaidler/venvs/argo/lib/python3.7/site-packages/pandas/core/internals/managers.py:323(<genexpr>)\n",
      "        4    0.000    0.000    0.000    0.000 /Users/jlaidler/venvs/argo/lib/python3.7/site-packages/numpy/lib/shape_base.py:1243(<genexpr>)\n",
      "        2    0.000    0.000    0.000    0.000 /Users/jlaidler/venvs/argo/lib/python3.7/site-packages/pandas/core/internals/managers.py:216(ndim)\n",
      "        1    0.000    0.000    0.000    0.000 /Users/jlaidler/venvs/argo/lib/python3.7/site-packages/pandas/core/internals/managers.py:961(consolidate)\n",
      "        2    0.000    0.000    0.000    0.000 {method 'extend' of 'list' objects}\n",
      "        2    0.000    0.000    0.000    0.000 {method 'upper' of 'str' objects}\n",
      "        3    0.000    0.000    0.000    0.000 {built-in method builtins.hash}\n",
      "        1    0.000    0.000    0.000    0.000 {method 'disable' of '_lsprof.Profiler' objects}\n",
      "        1    0.000    0.000    0.000    0.000 {method '__array_prepare__' of 'numpy.ndarray' objects}\n",
      "        1    0.000    0.000    0.000    0.000 {method '__array_wrap__' of 'numpy.ndarray' objects}\n",
      "        4    0.000    0.000    0.000    0.000 /Users/jlaidler/venvs/argo/lib/python3.7/site-packages/numpy/lib/ufunclike.py:68(_dispatcher)\n",
      "        2    0.000    0.000    0.000    0.000 /Users/jlaidler/venvs/argo/lib/python3.7/site-packages/numpy/lib/shape_base.py:1167(_tile_dispatcher)\n",
      "        5    0.000    0.000    0.000    0.000 {pandas._libs.lib.is_float}\n",
      "        1    0.000    0.000    0.000    0.000 {pandas._libs.lib.is_bool}\n",
      "        1    0.000    0.000    0.000    0.000 /Users/jlaidler/venvs/argo/lib/python3.7/site-packages/pandas/core/internals/managers.py:233(_is_single_block)\n",
      "        1    0.000    0.000    0.000    0.000 /Users/jlaidler/venvs/argo/lib/python3.7/site-packages/numpy/core/multiarray.py:311(where)\n",
      "        1    0.000    0.000    0.000    0.000 {pandas._libs.lib.is_iterator}\n",
      "        1    0.000    0.000    0.000    0.000 {pandas._libs.lib.is_integer}\n",
      "        1    0.000    0.000    0.000    0.000 {pandas._libs.lib.is_complex}\n",
      "        2    0.000    0.000    0.000    0.000 /Users/jlaidler/venvs/argo/lib/python3.7/site-packages/pandas/core/internals/blocks.py:311(shape)\n",
      "        1    0.000    0.000    0.000    0.000 /Users/jlaidler/venvs/argo/lib/python3.7/site-packages/pandas/core/internals/managers.py:259(items)\n",
      "\n",
      "\n"
     ]
    },
    {
     "data": {
      "text/plain": [
       "<pstats.Stats at 0x1b75e9390>"
      ]
     },
     "execution_count": 66,
     "metadata": {},
     "output_type": "execute_result"
    }
   ],
   "source": [
    "p = pstats.Stats(f'{filename}.dat')\n",
    "p.sort_stats('cumtime').print_stats()"
   ]
  },
  {
   "cell_type": "markdown",
   "metadata": {},
   "source": [
    "## NEW (with weight)"
   ]
  },
  {
   "cell_type": "code",
   "execution_count": 90,
   "metadata": {},
   "outputs": [],
   "source": [
    "filename = 'return_binary_pred_perf_of_set_numpy_no_opt_with_weight_new'"
   ]
  },
  {
   "cell_type": "code",
   "execution_count": 91,
   "metadata": {},
   "outputs": [],
   "source": [
    "cProfile.run('argo_utils.return_binary_pred_perf_of_set_numpy(y_true=y, y_preds=X_rules, y_preds_columns=X_rules.columns, sample_weight=weights)', sort='cumtime', filename=f'{filename}.dat')"
   ]
  },
  {
   "cell_type": "code",
   "execution_count": 92,
   "metadata": {
    "collapsed": true,
    "jupyter": {
     "outputs_hidden": true
    }
   },
   "outputs": [
    {
     "name": "stdout",
     "output_type": "stream",
     "text": [
      "Mon Jan 18 15:33:09 2021    return_binary_pred_perf_of_set_numpy_no_opt_with_weight_new.dat\n",
      "\n",
      "         1539 function calls (1519 primitive calls) in 19.449 seconds\n",
      "\n",
      "   Ordered by: cumulative time\n",
      "\n",
      "   ncalls  tottime  percall  cumtime  percall filename:lineno(function)\n",
      "        1    0.000    0.000   19.449   19.449 {built-in method builtins.exec}\n",
      "        1    0.695    0.695   19.449   19.449 <string>:1(<module>)\n",
      "        1   10.100   10.100   18.754   18.754 /Users/jlaidler/Documents/tigress/tigress/argo/argo/argo_utils/argo_utils/argo_utils.py:139(return_binary_pred_perf_of_set_numpy)\n",
      "        4    5.733    1.433    5.733    1.433 {method 'reduce' of 'numpy.ufunc' objects}\n",
      "        3    0.001    0.000    4.339    1.446 {method 'sum' of 'numpy.ndarray' objects}\n",
      "        3    0.000    0.000    4.339    1.446 /Users/jlaidler/venvs/argo/lib/python3.7/site-packages/numpy/core/_methods.py:45(_sum)\n",
      "     15/5    0.001    0.000    2.913    0.583 {built-in method numpy.core._multiarray_umath.implement_array_function}\n",
      "        2    0.000    0.000    2.910    1.455 <__array_function__ internals>:2(tile)\n",
      "        2    0.000    0.000    2.910    1.455 /Users/jlaidler/venvs/argo/lib/python3.7/site-packages/numpy/lib/shape_base.py:1171(tile)\n",
      "        2    2.909    1.455    2.909    1.455 {method 'repeat' of 'numpy.ndarray' objects}\n",
      "        1    0.000    0.000    1.395    1.395 {method 'mean' of 'numpy.ndarray' objects}\n",
      "        1    0.000    0.000    1.395    1.395 /Users/jlaidler/venvs/argo/lib/python3.7/site-packages/numpy/core/_methods.py:143(_mean)\n",
      "        1    0.000    0.000    0.007    0.007 /Users/jlaidler/venvs/argo/lib/python3.7/site-packages/pandas/core/frame.py:441(__init__)\n",
      "        1    0.000    0.000    0.006    0.006 /Users/jlaidler/venvs/argo/lib/python3.7/site-packages/pandas/core/internals/construction.py:237(init_dict)\n",
      "      3/1    0.001    0.000    0.003    0.003 /Users/jlaidler/venvs/argo/lib/python3.7/site-packages/pandas/core/indexes/base.py:293(__new__)\n",
      "        1    0.000    0.000    0.003    0.003 /Users/jlaidler/venvs/argo/lib/python3.7/site-packages/pandas/core/internals/construction.py:60(arrays_to_mgr)\n",
      "        2    0.000    0.000    0.003    0.001 <__array_function__ internals>:2(nan_to_num)\n",
      "        2    0.000    0.000    0.003    0.001 /Users/jlaidler/venvs/argo/lib/python3.7/site-packages/numpy/lib/type_check.py:367(nan_to_num)\n",
      "        1    0.000    0.000    0.002    0.002 /Users/jlaidler/venvs/argo/lib/python3.7/site-packages/pandas/core/internals/managers.py:1675(create_block_manager_from_arrays)\n",
      "        1    0.000    0.000    0.001    0.001 /Users/jlaidler/venvs/argo/lib/python3.7/site-packages/pandas/core/internals/managers.py:1715(form_blocks)\n",
      "        1    0.000    0.000    0.001    0.001 /Users/jlaidler/venvs/argo/lib/python3.7/site-packages/pandas/core/internals/construction.py:329(_homogenize)\n",
      "        1    0.000    0.000    0.001    0.001 <__array_function__ internals>:2(where)\n",
      "        4    0.000    0.000    0.001    0.000 /Users/jlaidler/venvs/argo/lib/python3.7/site-packages/pandas/core/construction.py:390(sanitize_array)\n",
      "        1    0.000    0.000    0.001    0.001 /Users/jlaidler/venvs/argo/lib/python3.7/site-packages/pandas/core/internals/managers.py:1827(_multi_blockify)\n",
      "       17    0.001    0.000    0.001    0.000 {built-in method numpy.array}\n",
      "        4    0.000    0.000    0.001    0.000 /Users/jlaidler/venvs/argo/lib/python3.7/site-packages/numpy/lib/ufunclike.py:48(func)\n",
      "        2    0.000    0.000    0.001    0.000 /Users/jlaidler/venvs/argo/lib/python3.7/site-packages/pandas/core/internals/blocks.py:2701(make_block)\n",
      "        2    0.000    0.000    0.001    0.000 /Users/jlaidler/venvs/argo/lib/python3.7/site-packages/numpy/lib/type_check.py:357(_getmaxmin)\n",
      "        2    0.000    0.000    0.001    0.000 <__array_function__ internals>:2(isneginf)\n",
      "        2    0.001    0.000    0.001    0.000 /Users/jlaidler/venvs/argo/lib/python3.7/site-packages/numpy/lib/ufunclike.py:198(isneginf)\n",
      "        4    0.000    0.000    0.000    0.000 /Users/jlaidler/venvs/argo/lib/python3.7/site-packages/pandas/core/construction.py:520(_try_cast)\n",
      "      341    0.000    0.000    0.000    0.000 {built-in method builtins.isinstance}\n",
      "        2    0.000    0.000    0.000    0.000 /Users/jlaidler/venvs/argo/lib/python3.7/site-packages/pandas/core/internals/blocks.py:124(__init__)\n",
      "        1    0.000    0.000    0.000    0.000 /Users/jlaidler/venvs/argo/lib/python3.7/site-packages/pandas/core/indexes/base.py:5726(_maybe_cast_data_without_dtype)\n",
      "        3    0.000    0.000    0.000    0.000 /Users/jlaidler/venvs/argo/lib/python3.7/site-packages/pandas/core/common.py:218(asarray_tuplesafe)\n",
      "        1    0.000    0.000    0.000    0.000 /Users/jlaidler/venvs/argo/lib/python3.7/site-packages/pandas/core/dtypes/cast.py:1310(maybe_cast_to_datetime)\n",
      "        6    0.000    0.000    0.000    0.000 /Users/jlaidler/venvs/argo/lib/python3.7/site-packages/pandas/core/internals/blocks.py:2655(get_block_type)\n",
      "        2    0.000    0.000    0.000    0.000 /Users/jlaidler/venvs/argo/lib/python3.7/site-packages/pandas/core/internals/blocks.py:237(mgr_locs)\n",
      "        2    0.000    0.000    0.000    0.000 <__array_function__ internals>:2(isposinf)\n",
      "       11    0.000    0.000    0.000    0.000 //anaconda3/lib/python3.7/abc.py:137(__instancecheck__)\n",
      "        1    0.000    0.000    0.000    0.000 {pandas._libs.lib.infer_dtype}\n",
      "        2    0.000    0.000    0.000    0.000 {pandas._libs.lib.is_list_like}\n",
      "        6    0.000    0.000    0.000    0.000 <__array_function__ internals>:2(copyto)\n",
      "        3    0.000    0.000    0.000    0.000 /Users/jlaidler/venvs/argo/lib/python3.7/site-packages/pandas/core/indexes/base.py:5656(maybe_extract_name)\n",
      "       16    0.000    0.000    0.000    0.000 <frozen importlib._bootstrap>:1009(_handle_fromlist)\n",
      "       12    0.000    0.000    0.000    0.000 /Users/jlaidler/venvs/argo/lib/python3.7/site-packages/pandas/core/dtypes/common.py:530(is_categorical_dtype)\n",
      "        1    0.000    0.000    0.000    0.000 /Users/jlaidler/venvs/argo/lib/python3.7/site-packages/pandas/core/indexes/base.py:463(_simple_new)\n",
      "        1    0.000    0.000    0.000    0.000 /Users/jlaidler/venvs/argo/lib/python3.7/site-packages/pandas/core/dtypes/cast.py:1201(maybe_infer_to_datetimelike)\n",
      "        1    0.000    0.000    0.000    0.000 /Users/jlaidler/venvs/argo/lib/python3.7/site-packages/pandas/core/internals/managers.py:1812(_simple_blockify)\n",
      "        4    0.000    0.000    0.000    0.000 /Users/jlaidler/venvs/argo/lib/python3.7/site-packages/numpy/core/_dtype.py:321(_name_get)\n",
      "       11    0.000    0.000    0.000    0.000 {built-in method _abc._abc_instancecheck}\n",
      "        2    0.000    0.000    0.000    0.000 /Users/jlaidler/venvs/argo/lib/python3.7/site-packages/numpy/lib/ufunclike.py:127(isposinf)\n",
      "        6    0.000    0.000    0.000    0.000 /Users/jlaidler/venvs/argo/lib/python3.7/site-packages/pandas/core/dtypes/common.py:422(is_timedelta64_dtype)\n",
      "        2    0.000    0.000    0.000    0.000 /Users/jlaidler/venvs/argo/lib/python3.7/site-packages/pandas/core/internals/managers.py:1843(_stack_arrays)\n",
      "        1    0.000    0.000    0.000    0.000 /Users/jlaidler/venvs/argo/lib/python3.7/site-packages/pandas/core/internals/managers.py:132(__init__)\n",
      "      154    0.000    0.000    0.000    0.000 /Users/jlaidler/venvs/argo/lib/python3.7/site-packages/pandas/core/dtypes/generic.py:10(_check)\n",
      "       36    0.000    0.000    0.000    0.000 /Users/jlaidler/venvs/argo/lib/python3.7/site-packages/pandas/core/dtypes/base.py:256(is_dtype)\n",
      "        1    0.000    0.000    0.000    0.000 /Users/jlaidler/venvs/argo/lib/python3.7/site-packages/pandas/core/dtypes/cast.py:1570(construct_1d_object_array_from_listlike)\n",
      "        3    0.000    0.000    0.000    0.000 /Users/jlaidler/venvs/argo/lib/python3.7/site-packages/pandas/core/dtypes/cast.py:1187(maybe_castable)\n",
      "       12    0.000    0.000    0.000    0.000 /Users/jlaidler/venvs/argo/lib/python3.7/site-packages/pandas/core/dtypes/common.py:492(is_interval_dtype)\n",
      "        2    0.000    0.000    0.000    0.000 /Users/jlaidler/venvs/argo/lib/python3.7/site-packages/numpy/core/getlimits.py:366(__new__)\n",
      "        1    0.000    0.000    0.000    0.000 /Users/jlaidler/venvs/argo/lib/python3.7/site-packages/pandas/core/generic.py:5268(values)\n",
      "        1    0.000    0.000    0.000    0.000 /Users/jlaidler/venvs/argo/lib/python3.7/site-packages/pandas/core/internals/construction.py:274(<listcomp>)\n",
      "        2    0.000    0.000    0.000    0.000 /Users/jlaidler/venvs/argo/lib/python3.7/site-packages/numpy/core/_asarray.py:221(require)\n",
      "       24    0.000    0.000    0.000    0.000 /Users/jlaidler/venvs/argo/lib/python3.7/site-packages/pandas/core/dtypes/common.py:1460(is_extension_array_dtype)\n",
      "       34    0.000    0.000    0.000    0.000 {built-in method builtins.hasattr}\n",
      "       12    0.000    0.000    0.000    0.000 /Users/jlaidler/venvs/argo/lib/python3.7/site-packages/pandas/core/dtypes/common.py:456(is_period_dtype)\n",
      "        4    0.000    0.000    0.000    0.000 {built-in method numpy.empty}\n",
      "        4    0.000    0.000    0.000    0.000 /Users/jlaidler/venvs/argo/lib/python3.7/site-packages/pandas/core/common.py:274(maybe_iterable_to_list)\n",
      "    51/43    0.000    0.000    0.000    0.000 {built-in method builtins.len}\n",
      "        6    0.000    0.000    0.000    0.000 /Users/jlaidler/venvs/argo/lib/python3.7/site-packages/pandas/core/dtypes/common.py:224(is_sparse)\n",
      "        4    0.000    0.000    0.000    0.000 /Users/jlaidler/venvs/argo/lib/python3.7/site-packages/numpy/lib/ufunclike.py:22(func)\n",
      "        9    0.000    0.000    0.000    0.000 /Users/jlaidler/venvs/argo/lib/python3.7/site-packages/pandas/core/dtypes/dtypes.py:906(is_dtype)\n",
      "       21    0.000    0.000    0.000    0.000 /Users/jlaidler/venvs/argo/lib/python3.7/site-packages/pandas/core/dtypes/common.py:1600(_is_dtype_type)\n",
      "        9    0.000    0.000    0.000    0.000 /Users/jlaidler/venvs/argo/lib/python3.7/site-packages/pandas/core/dtypes/dtypes.py:1119(is_dtype)\n",
      "        1    0.000    0.000    0.000    0.000 /Users/jlaidler/venvs/argo/lib/python3.7/site-packages/pandas/core/internals/managers.py:321(_verify_integrity)\n",
      "        1    0.000    0.000    0.000    0.000 /Users/jlaidler/venvs/argo/lib/python3.7/site-packages/pandas/core/internals/managers.py:977(_consolidate_inplace)\n",
      "        4    0.000    0.000    0.000    0.000 /Users/jlaidler/venvs/argo/lib/python3.7/site-packages/numpy/core/_dtype.py:307(_name_includes_bit_suffix)\n",
      "        4    0.000    0.000    0.000    0.000 /Users/jlaidler/venvs/argo/lib/python3.7/site-packages/pandas/core/indexes/base.py:4083(__getitem__)\n",
      "        1    0.000    0.000    0.000    0.000 /Users/jlaidler/venvs/argo/lib/python3.7/site-packages/pandas/core/generic.py:195(__init__)\n",
      "        2    0.000    0.000    0.000    0.000 /Users/jlaidler/venvs/argo/lib/python3.7/site-packages/pandas/core/dtypes/common.py:1330(is_bool_dtype)\n",
      "        2    0.000    0.000    0.000    0.000 /Users/jlaidler/venvs/argo/lib/python3.7/site-packages/pandas/core/internals/blocks.py:135(_check_ndim)\n",
      "        1    0.000    0.000    0.000    0.000 /Users/jlaidler/venvs/argo/lib/python3.7/site-packages/pandas/core/internals/managers.py:806(as_array)\n",
      "        2    0.000    0.000    0.000    0.000 /Users/jlaidler/venvs/argo/lib/python3.7/site-packages/pandas/core/internals/managers.py:675(is_consolidated)\n",
      "      228    0.000    0.000    0.000    0.000 {built-in method builtins.getattr}\n",
      "        7    0.000    0.000    0.000    0.000 /Users/jlaidler/venvs/argo/lib/python3.7/site-packages/numpy/core/_asarray.py:14(asarray)\n",
      "       10    0.000    0.000    0.000    0.000 /Users/jlaidler/venvs/argo/lib/python3.7/site-packages/pandas/core/dtypes/common.py:381(is_datetime64tz_dtype)\n",
      "        1    0.000    0.000    0.000    0.000 /Users/jlaidler/venvs/argo/lib/python3.7/site-packages/pandas/core/dtypes/cast.py:643(infer_dtype_from_scalar)\n",
      "        1    0.000    0.000    0.000    0.000 /Users/jlaidler/venvs/argo/lib/python3.7/site-packages/pandas/core/generic.py:5208(_consolidate_inplace)\n",
      "        1    0.000    0.000    0.000    0.000 /Users/jlaidler/venvs/argo/lib/python3.7/site-packages/pandas/core/internals/blocks.py:2374(__init__)\n",
      "        1    0.000    0.000    0.000    0.000 /Users/jlaidler/venvs/argo/lib/python3.7/site-packages/pandas/core/indexes/base.py:5672(_maybe_cast_with_dtype)\n",
      "        3    0.000    0.000    0.000    0.000 /Users/jlaidler/venvs/argo/lib/python3.7/site-packages/numpy/core/numerictypes.py:360(issubdtype)\n",
      "       24    0.000    0.000    0.000    0.000 /Users/jlaidler/venvs/argo/lib/python3.7/site-packages/pandas/core/dtypes/base.py:413(find)\n",
      "        8    0.000    0.000    0.000    0.000 /Users/jlaidler/venvs/argo/lib/python3.7/site-packages/pandas/core/indexes/base.py:567(__len__)\n",
      "       92    0.000    0.000    0.000    0.000 {built-in method builtins.issubclass}\n",
      "        3    0.000    0.000    0.000    0.000 /Users/jlaidler/venvs/argo/lib/python3.7/site-packages/pandas/core/dtypes/inference.py:322(is_hashable)\n",
      "        1    0.000    0.000    0.000    0.000 /Users/jlaidler/venvs/argo/lib/python3.7/site-packages/pandas/core/dtypes/cast.py:1530(construct_1d_arraylike_from_scalar)\n",
      "        6    0.000    0.000    0.000    0.000 {pandas._libs.lib.is_scalar}\n",
      "        8    0.000    0.000    0.000    0.000 /Users/jlaidler/venvs/argo/lib/python3.7/site-packages/pandas/core/dtypes/common.py:194(is_object_dtype)\n",
      "        1    0.000    0.000    0.000    0.000 /Users/jlaidler/venvs/argo/lib/python3.7/site-packages/pandas/core/generic.py:5197(_protect_consolidate)\n",
      "        6    0.000    0.000    0.000    0.000 /Users/jlaidler/venvs/argo/lib/python3.7/site-packages/numpy/core/numerictypes.py:286(issubclass_)\n",
      "        1    0.000    0.000    0.000    0.000 /Users/jlaidler/venvs/argo/lib/python3.7/site-packages/pandas/core/internals/construction.py:281(<listcomp>)\n",
      "        1    0.000    0.000    0.000    0.000 /Users/jlaidler/venvs/argo/lib/python3.7/site-packages/pandas/core/internals/managers.py:683(_consolidate_check)\n",
      "       14    0.000    0.000    0.000    0.000 /Users/jlaidler/venvs/argo/lib/python3.7/site-packages/pandas/core/dtypes/common.py:178(classes)\n",
      "        1    0.000    0.000    0.000    0.000 /Users/jlaidler/venvs/argo/lib/python3.7/site-packages/pandas/core/indexes/base.py:4196(equals)\n",
      "        6    0.000    0.000    0.000    0.000 /Users/jlaidler/venvs/argo/lib/python3.7/site-packages/pandas/core/dtypes/common.py:905(is_datetime64_any_dtype)\n",
      "        4    0.000    0.000    0.000    0.000 {built-in method builtins.all}\n",
      "        2    0.000    0.000    0.000    0.000 /Users/jlaidler/venvs/argo/lib/python3.7/site-packages/pandas/core/dtypes/common.py:806(is_unsigned_integer_dtype)\n",
      "        1    0.000    0.000    0.000    0.000 /Users/jlaidler/venvs/argo/lib/python3.7/site-packages/pandas/core/indexes/base.py:544(_reset_identity)\n",
      "        4    0.000    0.000    0.000    0.000 /Users/jlaidler/venvs/argo/lib/python3.7/site-packages/pandas/core/construction.py:339(extract_array)\n",
      "        4    0.000    0.000    0.000    0.000 {method 'reshape' of 'numpy.ndarray' objects}\n",
      "        2    0.000    0.000    0.000    0.000 /Users/jlaidler/venvs/argo/lib/python3.7/site-packages/numpy/core/_asarray.py:298(<setcomp>)\n",
      "        3    0.000    0.000    0.000    0.000 /Users/jlaidler/venvs/argo/lib/python3.7/site-packages/pandas/core/dtypes/common.py:1296(is_float_dtype)\n",
      "        1    0.000    0.000    0.000    0.000 /Users/jlaidler/venvs/argo/lib/python3.7/site-packages/pandas/core/generic.py:5211(f)\n",
      "        4    0.000    0.000    0.000    0.000 /Users/jlaidler/venvs/argo/lib/python3.7/site-packages/pandas/core/internals/managers.py:1846(_asarray_compat)\n",
      "        1    0.000    0.000    0.000    0.000 {built-in method numpy.arange}\n",
      "        1    0.000    0.000    0.000    0.000 /Users/jlaidler/venvs/argo/lib/python3.7/site-packages/numpy/core/_methods.py:59(_count_reduce_items)\n",
      "        2    0.000    0.000    0.000    0.000 /Users/jlaidler/venvs/argo/lib/python3.7/site-packages/pandas/core/dtypes/common.py:1565(_get_dtype)\n",
      "        2    0.000    0.000    0.000    0.000 /Users/jlaidler/venvs/argo/lib/python3.7/site-packages/numpy/lib/type_check.py:363(_nan_to_num_dispatcher)\n",
      "       14    0.000    0.000    0.000    0.000 /Users/jlaidler/venvs/argo/lib/python3.7/site-packages/pandas/core/dtypes/common.py:180(<lambda>)\n",
      "        1    0.000    0.000    0.000    0.000 /Users/jlaidler/venvs/argo/lib/python3.7/site-packages/numpy/core/multiarray.py:311(where)\n",
      "        2    0.000    0.000    0.000    0.000 /Users/jlaidler/venvs/argo/lib/python3.7/site-packages/pandas/core/indexes/base.py:424(<genexpr>)\n",
      "        1    0.000    0.000    0.000    0.000 /Users/jlaidler/venvs/argo/lib/python3.7/site-packages/pandas/core/generic.py:5141(__setattr__)\n",
      "        1    0.000    0.000    0.000    0.000 {built-in method __new__ of type object at 0x10aaae778}\n",
      "        4    0.000    0.000    0.000    0.000 /Users/jlaidler/venvs/argo/lib/python3.7/site-packages/numpy/core/_dtype.py:24(_kind_name)\n",
      "        1    0.000    0.000    0.000    0.000 /Users/jlaidler/venvs/argo/lib/python3.7/site-packages/pandas/core/internals/managers.py:684(<listcomp>)\n",
      "        2    0.000    0.000    0.000    0.000 {method 'get' of 'dict' objects}\n",
      "        3    0.000    0.000    0.000    0.000 {method 'format' of 'str' objects}\n",
      "        4    0.000    0.000    0.000    0.000 /Users/jlaidler/venvs/argo/lib/python3.7/site-packages/numpy/lib/shape_base.py:1243(<genexpr>)\n",
      "        1    0.000    0.000    0.000    0.000 /Users/jlaidler/venvs/argo/lib/python3.7/site-packages/pandas/core/internals/construction.py:278(<listcomp>)\n",
      "        3    0.000    0.000    0.000    0.000 /Users/jlaidler/venvs/argo/lib/python3.7/site-packages/pandas/core/dtypes/common.py:696(is_integer_dtype)\n",
      "        5    0.000    0.000    0.000    0.000 /Users/jlaidler/venvs/argo/lib/python3.7/site-packages/pandas/core/indexes/base.py:5559(ensure_index)\n",
      "        3    0.000    0.000    0.000    0.000 {built-in method builtins.hash}\n",
      "        4    0.000    0.000    0.000    0.000 /Users/jlaidler/venvs/argo/lib/python3.7/site-packages/numpy/lib/ufunclike.py:68(_dispatcher)\n",
      "        2    0.000    0.000    0.000    0.000 /Users/jlaidler/venvs/argo/lib/python3.7/site-packages/pandas/core/dtypes/common.py:750(is_signed_integer_dtype)\n",
      "        1    0.000    0.000    0.000    0.000 /Users/jlaidler/venvs/argo/lib/python3.7/site-packages/pandas/core/internals/blocks.py:213(get_values)\n",
      "        3    0.000    0.000    0.000    0.000 /Users/jlaidler/venvs/argo/lib/python3.7/site-packages/pandas/core/internals/managers.py:1830(<lambda>)\n",
      "        1    0.000    0.000    0.000    0.000 {pandas._libs.lib.infer_datetimelike_array}\n",
      "        3    0.000    0.000    0.000    0.000 /Users/jlaidler/venvs/argo/lib/python3.7/site-packages/pandas/core/internals/managers.py:1680(<genexpr>)\n",
      "        1    0.000    0.000    0.000    0.000 {method 'keys' of 'dict' objects}\n",
      "        2    0.000    0.000    0.000    0.000 /Users/jlaidler/venvs/argo/lib/python3.7/site-packages/pandas/core/internals/blocks.py:315(dtype)\n",
      "        1    0.000    0.000    0.000    0.000 /Users/jlaidler/venvs/argo/lib/python3.7/site-packages/pandas/core/internals/managers.py:212(shape)\n",
      "        4    0.000    0.000    0.000    0.000 /Users/jlaidler/venvs/argo/lib/python3.7/site-packages/pandas/core/common.py:149(cast_scalar_indexer)\n",
      "        4    0.000    0.000    0.000    0.000 /Users/jlaidler/venvs/argo/lib/python3.7/site-packages/pandas/core/internals/blocks.py:233(mgr_locs)\n",
      "        2    0.000    0.000    0.000    0.000 /Users/jlaidler/venvs/argo/lib/python3.7/site-packages/numpy/lib/shape_base.py:1167(_tile_dispatcher)\n",
      "        1    0.000    0.000    0.000    0.000 {pandas._libs.algos.ensure_object}\n",
      "        5    0.000    0.000    0.000    0.000 {pandas._libs.lib.is_float}\n",
      "        1    0.000    0.000    0.000    0.000 {built-in method builtins.sum}\n",
      "        1    0.000    0.000    0.000    0.000 {method 'fill' of 'numpy.ndarray' objects}\n",
      "        4    0.000    0.000    0.000    0.000 /Users/jlaidler/venvs/argo/lib/python3.7/site-packages/pandas/core/dtypes/common.py:1733(pandas_dtype)\n",
      "        1    0.000    0.000    0.000    0.000 /Users/jlaidler/venvs/argo/lib/python3.7/site-packages/pandas/core/dtypes/cast.py:1595(construct_1d_ndarray_preserving_na)\n",
      "        3    0.000    0.000    0.000    0.000 /Users/jlaidler/venvs/argo/lib/python3.7/site-packages/pandas/core/internals/managers.py:214(<genexpr>)\n",
      "        2    0.000    0.000    0.000    0.000 /Users/jlaidler/venvs/argo/lib/python3.7/site-packages/pandas/core/internals/managers.py:1852(_shape_compat)\n",
      "        6    0.000    0.000    0.000    0.000 /Users/jlaidler/venvs/argo/lib/python3.7/site-packages/numpy/lib/shape_base.py:1253(<genexpr>)\n",
      "        7    0.000    0.000    0.000    0.000 /Users/jlaidler/venvs/argo/lib/python3.7/site-packages/pandas/core/dtypes/common.py:188(<lambda>)\n",
      "        7    0.000    0.000    0.000    0.000 /Users/jlaidler/venvs/argo/lib/python3.7/site-packages/pandas/core/dtypes/common.py:183(classes_and_not_datetimelike)\n",
      "        1    0.000    0.000    0.000    0.000 /Users/jlaidler/venvs/argo/lib/python3.7/site-packages/pandas/core/internals/managers.py:138(<listcomp>)\n",
      "        9    0.000    0.000    0.000    0.000 {method 'append' of 'list' objects}\n",
      "        2    0.000    0.000    0.000    0.000 {method 'upper' of 'str' objects}\n",
      "        6    0.000    0.000    0.000    0.000 /Users/jlaidler/venvs/argo/lib/python3.7/site-packages/numpy/core/multiarray.py:1043(copyto)\n",
      "        1    0.000    0.000    0.000    0.000 {method 'transpose' of 'numpy.ndarray' objects}\n",
      "        1    0.000    0.000    0.000    0.000 /Users/jlaidler/venvs/argo/lib/python3.7/site-packages/pandas/core/indexes/base.py:520(is_)\n",
      "        2    0.000    0.000    0.000    0.000 /Users/jlaidler/venvs/argo/lib/python3.7/site-packages/pandas/core/internals/managers.py:216(ndim)\n",
      "        1    0.000    0.000    0.000    0.000 {method 'disable' of '_lsprof.Profiler' objects}\n",
      "        1    0.000    0.000    0.000    0.000 {built-in method numpy.core._multiarray_umath.normalize_axis_index}\n",
      "        1    0.000    0.000    0.000    0.000 /Users/jlaidler/venvs/argo/lib/python3.7/site-packages/numpy/core/_asarray.py:86(asanyarray)\n",
      "        1    0.000    0.000    0.000    0.000 {pandas._libs.lib.is_integer}\n",
      "        1    0.000    0.000    0.000    0.000 {pandas._libs.lib.is_bool}\n",
      "        1    0.000    0.000    0.000    0.000 {pandas._libs.lib.is_complex}\n",
      "        2    0.000    0.000    0.000    0.000 /Users/jlaidler/venvs/argo/lib/python3.7/site-packages/pandas/core/internals/blocks.py:311(shape)\n",
      "        1    0.000    0.000    0.000    0.000 /Users/jlaidler/venvs/argo/lib/python3.7/site-packages/pandas/core/internals/managers.py:233(_is_single_block)\n",
      "        1    0.000    0.000    0.000    0.000 /Users/jlaidler/venvs/argo/lib/python3.7/site-packages/pandas/core/internals/managers.py:259(items)\n",
      "        3    0.000    0.000    0.000    0.000 /Users/jlaidler/venvs/argo/lib/python3.7/site-packages/pandas/core/internals/managers.py:323(<genexpr>)\n",
      "        1    0.000    0.000    0.000    0.000 /Users/jlaidler/venvs/argo/lib/python3.7/site-packages/pandas/core/internals/managers.py:961(consolidate)\n",
      "        2    0.000    0.000    0.000    0.000 {method 'extend' of 'list' objects}\n",
      "        1    0.000    0.000    0.000    0.000 {pandas._libs.lib.is_iterator}\n",
      "\n",
      "\n"
     ]
    },
    {
     "data": {
      "text/plain": [
       "<pstats.Stats at 0x1b75e9400>"
      ]
     },
     "execution_count": 92,
     "metadata": {},
     "output_type": "execute_result"
    }
   ],
   "source": [
    "p = pstats.Stats(f'{filename}.dat')\n",
    "p.sort_stats('cumtime').print_stats()"
   ]
  },
  {
   "cell_type": "markdown",
   "metadata": {},
   "source": [
    "## NEW (with weight and opt_func)"
   ]
  },
  {
   "cell_type": "code",
   "execution_count": 20,
   "metadata": {},
   "outputs": [],
   "source": [
    "from rule_optimisation.optimisation_functions import Precision\n",
    "precision = Precision()"
   ]
  },
  {
   "cell_type": "code",
   "execution_count": 17,
   "metadata": {},
   "outputs": [],
   "source": [
    "filename = 'return_binary_pred_perf_of_set_numpy_with_opt_and_weight_new'"
   ]
  },
  {
   "cell_type": "code",
   "execution_count": 21,
   "metadata": {},
   "outputs": [],
   "source": [
    "cProfile.run('argo_utils.return_binary_pred_perf_of_set_numpy(y_true=y, y_preds=X_rules, y_preds_columns=X_rules.columns, sample_weight=weights, opt_func=precision.fit)', sort='cumtime', filename=f'{filename}.dat')"
   ]
  },
  {
   "cell_type": "code",
   "execution_count": 22,
   "metadata": {
    "collapsed": true,
    "jupyter": {
     "outputs_hidden": true
    }
   },
   "outputs": [
    {
     "name": "stdout",
     "output_type": "stream",
     "text": [
      "Mon Jan 18 16:59:39 2021    return_binary_pred_perf_of_set_numpy_with_opt_and_weight_new.dat\n",
      "\n",
      "         755314 function calls (745496 primitive calls) in 28.322 seconds\n",
      "\n",
      "   Ordered by: cumulative time\n",
      "\n",
      "   ncalls  tottime  percall  cumtime  percall filename:lineno(function)\n",
      "        1    0.001    0.001   28.322   28.322 {built-in method builtins.exec}\n",
      "        1    0.891    0.891   28.321   28.321 <string>:1(<module>)\n",
      "    301/1   17.849    0.059   27.430   27.430 /Users/jlaidler/Documents/tigress/tigress/argo/argo/argo_utils/argo_utils/argo_utils.py:139(return_binary_pred_perf_of_set_numpy)\n",
      "   3921/6    0.015    0.000    7.566    1.261 {built-in method numpy.core._multiarray_umath.implement_array_function}\n",
      "     1204    5.066    0.004    5.066    0.004 {method 'reduce' of 'numpy.ufunc' objects}\n",
      "        1    0.000    0.000    3.983    3.983 <__array_function__ internals>:2(apply_along_axis)\n",
      "        1    0.002    0.002    3.983    3.983 /Users/jlaidler/venvs/argo/lib/python3.7/site-packages/numpy/lib/shape_base.py:267(apply_along_axis)\n",
      "      300    0.000    0.000    3.978    0.013 /Users/jlaidler/Documents/tigress/tigress/argo/argo/argo_utils/argo_utils/argo_utils.py:164(<lambda>)\n",
      "      300    0.381    0.001    3.978    0.013 /Users/jlaidler/Documents/tigress/tigress/argo/argo/rule_optimisation/rule_optimisation/optimisation_functions.py:10(fit)\n",
      "      903    0.003    0.000    3.588    0.004 {method 'sum' of 'numpy.ndarray' objects}\n",
      "      903    0.001    0.000    3.585    0.004 /Users/jlaidler/venvs/argo/lib/python3.7/site-packages/numpy/core/_methods.py:45(_sum)\n",
      "        2    0.000    0.000    3.566    1.783 <__array_function__ internals>:2(tile)\n",
      "        2    0.001    0.000    3.566    1.783 /Users/jlaidler/venvs/argo/lib/python3.7/site-packages/numpy/lib/shape_base.py:1171(tile)\n",
      "        2    3.565    1.782    3.565    1.782 {method 'repeat' of 'numpy.ndarray' objects}\n",
      "      301    0.001    0.000    1.488    0.005 {method 'mean' of 'numpy.ndarray' objects}\n",
      "      301    0.004    0.000    1.487    0.005 /Users/jlaidler/venvs/argo/lib/python3.7/site-packages/numpy/core/_methods.py:143(_mean)\n",
      "      301    0.003    0.000    0.376    0.001 /Users/jlaidler/venvs/argo/lib/python3.7/site-packages/pandas/core/frame.py:441(__init__)\n",
      "      301    0.005    0.000    0.371    0.001 /Users/jlaidler/venvs/argo/lib/python3.7/site-packages/pandas/core/internals/construction.py:237(init_dict)\n",
      "      301    0.002    0.000    0.266    0.001 /Users/jlaidler/venvs/argo/lib/python3.7/site-packages/pandas/core/internals/construction.py:60(arrays_to_mgr)\n",
      " 1503/601    0.025    0.000    0.138    0.000 /Users/jlaidler/venvs/argo/lib/python3.7/site-packages/pandas/core/indexes/base.py:293(__new__)\n",
      "      301    0.002    0.000    0.113    0.000 /Users/jlaidler/venvs/argo/lib/python3.7/site-packages/pandas/core/internals/managers.py:1675(create_block_manager_from_arrays)\n",
      "     1504    0.012    0.000    0.109    0.000 /Users/jlaidler/venvs/argo/lib/python3.7/site-packages/pandas/core/construction.py:390(sanitize_array)\n",
      "      301    0.011    0.000    0.100    0.000 /Users/jlaidler/venvs/argo/lib/python3.7/site-packages/pandas/core/internals/managers.py:1715(form_blocks)\n",
      "      300    0.001    0.000    0.094    0.000 /Users/jlaidler/venvs/argo/lib/python3.7/site-packages/pandas/core/indexing.py:864(__getitem__)\n",
      "      300    0.002    0.000    0.093    0.000 /Users/jlaidler/venvs/argo/lib/python3.7/site-packages/pandas/core/indexing.py:1474(_getitem_axis)\n",
      "      301    0.002    0.000    0.092    0.000 /Users/jlaidler/venvs/argo/lib/python3.7/site-packages/pandas/core/internals/construction.py:329(_homogenize)\n",
      "      300    0.002    0.000    0.085    0.000 /Users/jlaidler/venvs/argo/lib/python3.7/site-packages/pandas/core/frame.py:2816(_ixs)\n",
      "   178202    0.047    0.000    0.079    0.000 {built-in method builtins.isinstance}\n",
      "     1805    0.002    0.000    0.059    0.000 /Users/jlaidler/venvs/argo/lib/python3.7/site-packages/pandas/core/indexes/base.py:5559(ensure_index)\n",
      "      602    0.002    0.000    0.059    0.000 <__array_function__ internals>:2(nan_to_num)\n",
      "     2105    0.009    0.000    0.057    0.000 /Users/jlaidler/venvs/argo/lib/python3.7/site-packages/pandas/core/internals/blocks.py:2655(get_block_type)\n",
      "      602    0.012    0.000    0.055    0.000 /Users/jlaidler/venvs/argo/lib/python3.7/site-packages/numpy/lib/type_check.py:367(nan_to_num)\n",
      "     1504    0.005    0.000    0.054    0.000 /Users/jlaidler/venvs/argo/lib/python3.7/site-packages/pandas/core/construction.py:520(_try_cast)\n",
      "      300    0.004    0.000    0.051    0.000 /Users/jlaidler/venvs/argo/lib/python3.7/site-packages/pandas/core/series.py:201(__init__)\n",
      "      901    0.003    0.000    0.049    0.000 /Users/jlaidler/venvs/argo/lib/python3.7/site-packages/pandas/core/internals/blocks.py:2701(make_block)\n",
      "    15033    0.010    0.000    0.042    0.000 /Users/jlaidler/venvs/argo/lib/python3.7/site-packages/pandas/core/dtypes/base.py:256(is_dtype)\n",
      "     1500    0.006    0.000    0.032    0.000 /Users/jlaidler/venvs/argo/lib/python3.7/site-packages/pandas/core/dtypes/cast.py:1310(maybe_cast_to_datetime)\n",
      "    12921    0.012    0.000    0.030    0.000 /Users/jlaidler/venvs/argo/lib/python3.7/site-packages/pandas/core/dtypes/common.py:1460(is_extension_array_dtype)\n",
      "      300    0.003    0.000    0.030    0.000 /Users/jlaidler/venvs/argo/lib/python3.7/site-packages/pandas/core/internals/managers.py:926(fast_xs)\n",
      "      301    0.002    0.000    0.029    0.000 /Users/jlaidler/venvs/argo/lib/python3.7/site-packages/pandas/core/internals/managers.py:1827(_multi_blockify)\n",
      "    69137    0.020    0.000    0.028    0.000 /Users/jlaidler/venvs/argo/lib/python3.7/site-packages/pandas/core/dtypes/generic.py:10(_check)\n",
      "      300    0.001    0.000    0.022    0.000 /Users/jlaidler/venvs/argo/lib/python3.7/site-packages/pandas/core/internals/managers.py:1870(_interleaved_dtype)\n",
      "      300    0.003    0.000    0.021    0.000 /Users/jlaidler/venvs/argo/lib/python3.7/site-packages/pandas/core/dtypes/cast.py:1448(find_common_type)\n",
      "      300    0.001    0.000    0.020    0.000 /Users/jlaidler/venvs/argo/lib/python3.7/site-packages/pandas/core/internals/managers.py:1812(_simple_blockify)\n",
      "     1200    0.003    0.000    0.020    0.000 /Users/jlaidler/venvs/argo/lib/python3.7/site-packages/pandas/core/dtypes/cast.py:1201(maybe_infer_to_datetimelike)\n",
      "    13816    0.010    0.000    0.020    0.000 /Users/jlaidler/venvs/argo/lib/python3.7/site-packages/pandas/core/dtypes/common.py:1600(_is_dtype_type)\n",
      "     5111    0.004    0.000    0.019    0.000 /Users/jlaidler/venvs/argo/lib/python3.7/site-packages/pandas/core/dtypes/common.py:492(is_interval_dtype)\n",
      "     5111    0.003    0.000    0.019    0.000 /Users/jlaidler/venvs/argo/lib/python3.7/site-packages/pandas/core/dtypes/common.py:456(is_period_dtype)\n",
      "      901    0.003    0.000    0.018    0.000 /Users/jlaidler/venvs/argo/lib/python3.7/site-packages/pandas/core/internals/blocks.py:124(__init__)\n",
      "     7817    0.018    0.000    0.018    0.000 {built-in method numpy.array}\n",
      "     9313    0.007    0.000    0.017    0.000 <frozen importlib._bootstrap>:1009(_handle_fromlist)\n",
      "     5111    0.004    0.000    0.016    0.000 /Users/jlaidler/venvs/argo/lib/python3.7/site-packages/pandas/core/dtypes/common.py:530(is_categorical_dtype)\n",
      "      300    0.001    0.000    0.016    0.000 /Users/jlaidler/venvs/argo/lib/python3.7/site-packages/pandas/core/series.py:868(__getitem__)\n",
      "     3908    0.004    0.000    0.015    0.000 /Users/jlaidler/venvs/argo/lib/python3.7/site-packages/pandas/core/dtypes/dtypes.py:1119(is_dtype)\n",
      "    12921    0.010    0.000    0.015    0.000 /Users/jlaidler/venvs/argo/lib/python3.7/site-packages/pandas/core/dtypes/base.py:413(find)\n",
      "      300    0.001    0.000    0.015    0.000 /Users/jlaidler/venvs/argo/lib/python3.7/site-packages/pandas/core/internals/managers.py:1564(from_array)\n",
      "      300    0.001    0.000    0.015    0.000 /Users/jlaidler/venvs/argo/lib/python3.7/site-packages/pandas/core/series.py:972(_get_value)\n",
      "     3908    0.004    0.000    0.014    0.000 /Users/jlaidler/venvs/argo/lib/python3.7/site-packages/pandas/core/dtypes/dtypes.py:906(is_dtype)\n",
      "     1204    0.001    0.000    0.014    0.000 /Users/jlaidler/venvs/argo/lib/python3.7/site-packages/numpy/lib/ufunclike.py:48(func)\n",
      "      601    0.002    0.000    0.013    0.000 /Users/jlaidler/venvs/argo/lib/python3.7/site-packages/pandas/core/indexes/base.py:5726(_maybe_cast_data_without_dtype)\n",
      "     1503    0.004    0.000    0.013    0.000 /Users/jlaidler/venvs/argo/lib/python3.7/site-packages/pandas/core/common.py:218(asarray_tuplesafe)\n",
      "      901    0.009    0.000    0.013    0.000 {pandas._libs.lib.infer_dtype}\n",
      "     1802    0.003    0.000    0.013    0.000 /Users/jlaidler/venvs/argo/lib/python3.7/site-packages/pandas/core/dtypes/common.py:1330(is_bool_dtype)\n",
      "     4805    0.004    0.000    0.013    0.000 /Users/jlaidler/venvs/argo/lib/python3.7/site-packages/pandas/core/dtypes/common.py:194(is_object_dtype)\n",
      "     3609    0.003    0.000    0.013    0.000 /Users/jlaidler/venvs/argo/lib/python3.7/site-packages/pandas/core/dtypes/common.py:381(is_datetime64tz_dtype)\n",
      "   102806    0.013    0.000    0.013    0.000 {built-in method builtins.getattr}\n",
      "      602    0.001    0.000    0.013    0.000 <__array_function__ internals>:2(isposinf)\n",
      "     1200    0.003    0.000    0.012    0.000 /Users/jlaidler/venvs/argo/lib/python3.7/site-packages/pandas/core/dtypes/cast.py:1530(construct_1d_arraylike_from_scalar)\n",
      "      300    0.001    0.000    0.012    0.000 /Users/jlaidler/venvs/argo/lib/python3.7/site-packages/pandas/core/indexes/base.py:2851(get_loc)\n",
      "      602    0.008    0.000    0.012    0.000 /Users/jlaidler/venvs/argo/lib/python3.7/site-packages/numpy/lib/type_check.py:357(_getmaxmin)\n",
      "      901    0.003    0.000    0.011    0.000 /Users/jlaidler/venvs/argo/lib/python3.7/site-packages/pandas/core/internals/blocks.py:237(mgr_locs)\n",
      "25847/21339    0.008    0.000    0.011    0.000 {built-in method builtins.len}\n",
      "    19229    0.010    0.000    0.010    0.000 {built-in method builtins.hasattr}\n",
      "      601    0.004    0.000    0.010    0.000 /Users/jlaidler/venvs/argo/lib/python3.7/site-packages/pandas/core/internals/managers.py:1843(_stack_arrays)\n",
      "      602    0.009    0.000    0.009    0.000 /Users/jlaidler/venvs/argo/lib/python3.7/site-packages/numpy/lib/ufunclike.py:127(isposinf)\n",
      "      600    0.001    0.000    0.009    0.000 /Users/jlaidler/venvs/argo/lib/python3.7/site-packages/pandas/core/internals/blocks.py:2374(__init__)\n",
      "     1807    0.002    0.000    0.009    0.000 <__array_function__ internals>:2(copyto)\n",
      "      300    0.004    0.000    0.009    0.000 {pandas._libs.lib.clean_index_list}\n",
      "      300    0.001    0.000    0.009    0.000 /Users/jlaidler/venvs/argo/lib/python3.7/site-packages/numpy/core/numerictypes.py:569(find_common_type)\n",
      "      301    0.002    0.000    0.008    0.000 /Users/jlaidler/venvs/argo/lib/python3.7/site-packages/pandas/core/internals/managers.py:132(__init__)\n",
      "     2702    0.008    0.000    0.008    0.000 {built-in method numpy.empty}\n",
      "     3301    0.003    0.000    0.008    0.000 /Users/jlaidler/venvs/argo/lib/python3.7/site-packages/pandas/core/dtypes/common.py:696(is_integer_dtype)\n",
      "     1803    0.003    0.000    0.008    0.000 /Users/jlaidler/venvs/argo/lib/python3.7/site-packages/pandas/core/indexes/base.py:5656(maybe_extract_name)\n",
      "      600    0.006    0.000    0.008    0.000 /Users/jlaidler/venvs/argo/lib/python3.7/site-packages/numpy/core/numerictypes.py:545(_can_coerce_all)\n",
      "      601    0.003    0.000    0.008    0.000 /Users/jlaidler/venvs/argo/lib/python3.7/site-packages/numpy/core/_asarray.py:221(require)\n",
      "     2105    0.003    0.000    0.007    0.000 /Users/jlaidler/venvs/argo/lib/python3.7/site-packages/pandas/core/dtypes/common.py:224(is_sparse)\n",
      "     3606    0.003    0.000    0.007    0.000 /Users/jlaidler/venvs/argo/lib/python3.7/site-packages/pandas/core/dtypes/common.py:422(is_timedelta64_dtype)\n",
      "     6609    0.002    0.000    0.007    0.000 //anaconda3/lib/python3.7/abc.py:137(__instancecheck__)\n",
      "     3001    0.003    0.000    0.007    0.000 {pandas._libs.lib.is_list_like}\n",
      "      601    0.003    0.000    0.006    0.000 /Users/jlaidler/venvs/argo/lib/python3.7/site-packages/pandas/core/dtypes/cast.py:1570(construct_1d_object_array_from_listlike)\n",
      "    42979    0.006    0.000    0.006    0.000 {built-in method builtins.issubclass}\n",
      "     1505    0.004    0.000    0.006    0.000 /Users/jlaidler/venvs/argo/lib/python3.7/site-packages/numpy/core/_dtype.py:321(_name_get)\n",
      "     1200    0.004    0.000    0.006    0.000 /Users/jlaidler/venvs/argo/lib/python3.7/site-packages/pandas/core/dtypes/cast.py:643(infer_dtype_from_scalar)\n",
      "      300    0.000    0.000    0.006    0.000 /Users/jlaidler/venvs/argo/lib/python3.7/site-packages/pandas/core/indexes/base.py:4976(_maybe_cast_indexer)\n",
      "      301    0.001    0.000    0.006    0.000 <__array_function__ internals>:2(where)\n",
      "     1504    0.004    0.000    0.006    0.000 /Users/jlaidler/venvs/argo/lib/python3.7/site-packages/pandas/core/indexes/base.py:4083(__getitem__)\n",
      "      602    0.000    0.000    0.005    0.000 <__array_function__ internals>:2(isneginf)\n",
      "      600    0.001    0.000    0.005    0.000 {built-in method builtins.any}\n",
      "     2103    0.002    0.000    0.005    0.000 /Users/jlaidler/venvs/argo/lib/python3.7/site-packages/pandas/core/dtypes/common.py:1296(is_float_dtype)\n",
      "      301    0.002    0.000    0.005    0.000 /Users/jlaidler/venvs/argo/lib/python3.7/site-packages/pandas/core/internals/managers.py:321(_verify_integrity)\n",
      "      300    0.000    0.000    0.005    0.000 /Users/jlaidler/venvs/argo/lib/python3.7/site-packages/pandas/core/indexes/base.py:1755(is_floating)\n",
      "     1504    0.001    0.000    0.005    0.000 /Users/jlaidler/venvs/argo/lib/python3.7/site-packages/pandas/core/construction.py:339(extract_array)\n",
      "      601    0.001    0.000    0.005    0.000 /Users/jlaidler/venvs/argo/lib/python3.7/site-packages/pandas/core/indexes/base.py:5672(_maybe_cast_with_dtype)\n",
      "      300    0.000    0.000    0.005    0.000 /Users/jlaidler/venvs/argo/lib/python3.7/site-packages/pandas/core/indexes/base.py:2000(inferred_type)\n",
      "      601    0.002    0.000    0.005    0.000 /Users/jlaidler/venvs/argo/lib/python3.7/site-packages/pandas/core/generic.py:5141(__setattr__)\n",
      "     6609    0.004    0.000    0.004    0.000 {built-in method _abc._abc_instancecheck}\n",
      "     8111    0.003    0.000    0.004    0.000 /Users/jlaidler/venvs/argo/lib/python3.7/site-packages/pandas/core/dtypes/common.py:180(<lambda>)\n",
      "      900    0.000    0.000    0.004    0.000 /Users/jlaidler/venvs/argo/lib/python3.7/site-packages/pandas/core/dtypes/cast.py:1494(<genexpr>)\n",
      "      301    0.000    0.000    0.004    0.000 /Users/jlaidler/venvs/argo/lib/python3.7/site-packages/pandas/core/internals/construction.py:281(<listcomp>)\n",
      "     2708    0.001    0.000    0.004    0.000 /Users/jlaidler/venvs/argo/lib/python3.7/site-packages/numpy/core/_asarray.py:14(asarray)\n",
      "     1504    0.001    0.000    0.004    0.000 {built-in method builtins.all}\n",
      "     2402    0.002    0.000    0.004    0.000 /Users/jlaidler/venvs/argo/lib/python3.7/site-packages/pandas/core/dtypes/common.py:1565(_get_dtype)\n",
      "      300    0.004    0.000    0.004    0.000 {method 'get_loc' of 'pandas._libs.index.IndexEngine' objects}\n",
      "      301    0.001    0.000    0.004    0.000 /Users/jlaidler/venvs/argo/lib/python3.7/site-packages/pandas/core/internals/construction.py:274(<listcomp>)\n",
      "      602    0.004    0.000    0.004    0.000 /Users/jlaidler/venvs/argo/lib/python3.7/site-packages/numpy/lib/ufunclike.py:198(isneginf)\n",
      "     3303    0.002    0.000    0.003    0.000 /Users/jlaidler/venvs/argo/lib/python3.7/site-packages/pandas/core/dtypes/common.py:1733(pandas_dtype)\n",
      "     1202    0.001    0.000    0.003    0.000 /Users/jlaidler/venvs/argo/lib/python3.7/site-packages/pandas/core/dtypes/common.py:750(is_signed_integer_dtype)\n",
      "      601    0.002    0.000    0.003    0.000 /Users/jlaidler/venvs/argo/lib/python3.7/site-packages/pandas/core/indexes/base.py:463(_simple_new)\n",
      "      304    0.002    0.000    0.003    0.000 /Users/jlaidler/venvs/argo/lib/python3.7/site-packages/pandas/core/dtypes/cast.py:1187(maybe_castable)\n",
      "     1204    0.001    0.000    0.003    0.000 /Users/jlaidler/venvs/argo/lib/python3.7/site-packages/pandas/core/internals/managers.py:1846(_asarray_compat)\n",
      "      300    0.001    0.000    0.003    0.000 /Users/jlaidler/venvs/argo/lib/python3.7/site-packages/pandas/core/common.py:97(is_bool_indexer)\n",
      "     1500    0.001    0.000    0.003    0.000 /Users/jlaidler/venvs/argo/lib/python3.7/site-packages/pandas/core/dtypes/cast.py:1595(construct_1d_ndarray_preserving_na)\n",
      "      300    0.001    0.000    0.003    0.000 /Users/jlaidler/venvs/argo/lib/python3.7/site-packages/pandas/core/series.py:398(_set_axis)\n",
      "     1204    0.001    0.000    0.003    0.000 /Users/jlaidler/venvs/argo/lib/python3.7/site-packages/pandas/core/common.py:274(maybe_iterable_to_list)\n",
      "     5705    0.002    0.000    0.003    0.000 /Users/jlaidler/venvs/argo/lib/python3.7/site-packages/pandas/core/dtypes/common.py:188(<lambda>)\n",
      "     1202    0.001    0.000    0.003    0.000 /Users/jlaidler/venvs/argo/lib/python3.7/site-packages/pandas/core/dtypes/common.py:806(is_unsigned_integer_dtype)\n",
      "      601    0.003    0.000    0.003    0.000 /Users/jlaidler/venvs/argo/lib/python3.7/site-packages/pandas/core/generic.py:195(__init__)\n",
      "     3006    0.002    0.000    0.002    0.000 /Users/jlaidler/venvs/argo/lib/python3.7/site-packages/pandas/core/dtypes/common.py:905(is_datetime64_any_dtype)\n",
      "     4208    0.002    0.000    0.002    0.000 /Users/jlaidler/venvs/argo/lib/python3.7/site-packages/pandas/core/indexes/base.py:567(__len__)\n",
      "     8111    0.002    0.000    0.002    0.000 /Users/jlaidler/venvs/argo/lib/python3.7/site-packages/pandas/core/dtypes/common.py:178(classes)\n",
      "      300    0.001    0.000    0.002    0.000 /Users/jlaidler/venvs/argo/lib/python3.7/site-packages/pandas/core/indexing.py:1419(_validate_integer)\n",
      "      300    0.002    0.000    0.002    0.000 /Users/jlaidler/venvs/argo/lib/python3.7/site-packages/pandas/core/series.py:442(name)\n",
      "      602    0.002    0.000    0.002    0.000 /Users/jlaidler/venvs/argo/lib/python3.7/site-packages/numpy/core/getlimits.py:366(__new__)\n",
      "      301    0.000    0.000    0.002    0.000 /Users/jlaidler/venvs/argo/lib/python3.7/site-packages/pandas/core/internals/managers.py:977(_consolidate_inplace)\n",
      "      300    0.001    0.000    0.002    0.000 /Users/jlaidler/venvs/argo/lib/python3.7/site-packages/pandas/core/indexes/base.py:2007(is_all_dates)\n",
      "     2103    0.001    0.000    0.002    0.000 /Users/jlaidler/venvs/argo/lib/python3.7/site-packages/pandas/core/dtypes/inference.py:322(is_hashable)\n",
      "      302    0.000    0.000    0.002    0.000 /Users/jlaidler/venvs/argo/lib/python3.7/site-packages/pandas/core/internals/managers.py:675(is_consolidated)\n",
      "     1204    0.001    0.000    0.002    0.000 /Users/jlaidler/venvs/argo/lib/python3.7/site-packages/numpy/lib/ufunclike.py:22(func)\n",
      "      301    0.001    0.000    0.002    0.000 /Users/jlaidler/venvs/argo/lib/python3.7/site-packages/pandas/core/internals/managers.py:212(shape)\n",
      "      301    0.001    0.000    0.002    0.000 /Users/jlaidler/venvs/argo/lib/python3.7/site-packages/numpy/lib/shape_base.py:370(<genexpr>)\n",
      "      300    0.001    0.000    0.002    0.000 /Users/jlaidler/venvs/argo/lib/python3.7/site-packages/pandas/core/indexes/base.py:554(_engine)\n",
      "      300    0.001    0.000    0.002    0.000 /Users/jlaidler/venvs/argo/lib/python3.7/site-packages/pandas/core/indexes/base.py:4623(_get_values_for_loc)\n",
      "     5700    0.001    0.000    0.001    0.000 /Users/jlaidler/venvs/argo/lib/python3.7/site-packages/numpy/core/numerictypes.py:554(<listcomp>)\n",
      "      301    0.001    0.000    0.001    0.000 /Users/jlaidler/venvs/argo/lib/python3.7/site-packages/pandas/core/internals/managers.py:683(_consolidate_check)\n",
      "     1804    0.001    0.000    0.001    0.000 /Users/jlaidler/venvs/argo/lib/python3.7/site-packages/pandas/core/common.py:149(cast_scalar_indexer)\n",
      "      602    0.000    0.000    0.001    0.000 /Users/jlaidler/venvs/argo/lib/python3.7/site-packages/numpy/core/_asarray.py:86(asanyarray)\n",
      "      301    0.000    0.000    0.001    0.000 /Users/jlaidler/venvs/argo/lib/python3.7/site-packages/pandas/core/internals/construction.py:278(<listcomp>)\n",
      "      600    0.000    0.000    0.001    0.000 /Users/jlaidler/venvs/argo/lib/python3.7/site-packages/pandas/core/dtypes/cast.py:1472(<genexpr>)\n",
      "      301    0.001    0.000    0.001    0.000 {built-in method numpy.arange}\n",
      "      300    0.000    0.000    0.001    0.000 /Users/jlaidler/venvs/argo/lib/python3.7/site-packages/pandas/core/dtypes/inference.py:185(is_array_like)\n",
      "      301    0.001    0.000    0.001    0.000 /Users/jlaidler/venvs/argo/lib/python3.7/site-packages/numpy/core/_methods.py:59(_count_reduce_items)\n",
      "     5705    0.001    0.000    0.001    0.000 /Users/jlaidler/venvs/argo/lib/python3.7/site-packages/pandas/core/dtypes/common.py:183(classes_and_not_datetimelike)\n",
      "      300    0.001    0.000    0.001    0.000 /Users/jlaidler/venvs/argo/lib/python3.7/site-packages/pandas/core/generic.py:377(_get_axis)\n",
      "      300    0.001    0.000    0.001    0.000 {built-in method pandas._libs.lib.is_datetime_array}\n",
      "     1200    0.001    0.000    0.001    0.000 {method 'fill' of 'numpy.ndarray' objects}\n",
      "      301    0.000    0.000    0.001    0.000 {built-in method builtins.sum}\n",
      "      300    0.000    0.000    0.001    0.000 /Users/jlaidler/venvs/argo/lib/python3.7/site-packages/pandas/core/construction.py:580(is_empty_data)\n",
      "     3305    0.001    0.000    0.001    0.000 {pandas._libs.lib.is_scalar}\n",
      "      601    0.001    0.000    0.001    0.000 /Users/jlaidler/venvs/argo/lib/python3.7/site-packages/numpy/core/_asarray.py:298(<setcomp>)\n",
      "      601    0.000    0.000    0.001    0.000 /Users/jlaidler/venvs/argo/lib/python3.7/site-packages/pandas/core/internals/managers.py:1852(_shape_compat)\n",
      "      300    0.000    0.000    0.001    0.000 /Users/jlaidler/venvs/argo/lib/python3.7/site-packages/pandas/core/series.py:540(_values)\n",
      "      601    0.001    0.000    0.001    0.000 /Users/jlaidler/venvs/argo/lib/python3.7/site-packages/pandas/core/indexes/base.py:544(_reset_identity)\n",
      "      301    0.001    0.000    0.001    0.000 /Users/jlaidler/venvs/argo/lib/python3.7/site-packages/numpy/lib/index_tricks.py:653(__next__)\n",
      "      903    0.000    0.000    0.001    0.000 /Users/jlaidler/venvs/argo/lib/python3.7/site-packages/pandas/core/internals/managers.py:214(<genexpr>)\n",
      "      300    0.000    0.000    0.001    0.000 /Users/jlaidler/venvs/argo/lib/python3.7/site-packages/pandas/core/dtypes/common.py:608(is_dtype_equal)\n",
      "      300    0.001    0.000    0.001    0.000 /Users/jlaidler/venvs/argo/lib/python3.7/site-packages/pandas/core/generic.py:3582(_set_is_copy)\n",
      "     1505    0.001    0.000    0.001    0.000 /Users/jlaidler/venvs/argo/lib/python3.7/site-packages/numpy/core/_dtype.py:24(_kind_name)\n",
      "      300    0.000    0.000    0.001    0.000 /Users/jlaidler/venvs/argo/lib/python3.7/site-packages/pandas/core/generic.py:249(_validate_dtype)\n",
      "      300    0.001    0.000    0.001    0.000 /Users/jlaidler/venvs/argo/lib/python3.7/site-packages/pandas/core/internals/managers.py:1532(__init__)\n",
      "      902    0.000    0.000    0.001    0.000 /Users/jlaidler/venvs/argo/lib/python3.7/site-packages/pandas/core/internals/managers.py:323(<genexpr>)\n",
      "      301    0.000    0.000    0.001    0.000 /Users/jlaidler/venvs/argo/lib/python3.7/site-packages/pandas/core/indexes/base.py:4196(equals)\n",
      "      301    0.000    0.000    0.001    0.000 /Users/jlaidler/venvs/argo/lib/python3.7/site-packages/pandas/core/internals/managers.py:138(<listcomp>)\n",
      "      300    0.000    0.000    0.001    0.000 /Users/jlaidler/venvs/argo/lib/python3.7/site-packages/pandas/core/internals/managers.py:306(__len__)\n",
      "     1505    0.001    0.000    0.001    0.000 /Users/jlaidler/venvs/argo/lib/python3.7/site-packages/numpy/core/_dtype.py:307(_name_includes_bit_suffix)\n",
      "      600    0.000    0.000    0.001    0.000 /Users/jlaidler/venvs/argo/lib/python3.7/site-packages/pandas/core/dtypes/cast.py:1487(<genexpr>)\n",
      "      900    0.001    0.000    0.001    0.000 /Users/jlaidler/venvs/argo/lib/python3.7/site-packages/pandas/core/dtypes/common.py:348(is_datetime64_dtype)\n",
      "      300    0.000    0.000    0.001    0.000 /Users/jlaidler/venvs/argo/lib/python3.7/site-packages/pandas/core/internals/managers.py:1613(internal_values)\n",
      "     2102    0.001    0.000    0.001    0.000 /Users/jlaidler/venvs/argo/lib/python3.7/site-packages/pandas/core/internals/blocks.py:233(mgr_locs)\n",
      "      901    0.001    0.000    0.001    0.000 /Users/jlaidler/venvs/argo/lib/python3.7/site-packages/pandas/core/internals/blocks.py:135(_check_ndim)\n",
      "      300    0.000    0.000    0.001    0.000 /Users/jlaidler/venvs/argo/lib/python3.7/site-packages/pandas/core/internals/managers.py:1886(<listcomp>)\n",
      "     1200    0.001    0.000    0.001    0.000 /Users/jlaidler/venvs/argo/lib/python3.7/site-packages/pandas/core/internals/blocks.py:319(iget)\n",
      "      300    0.000    0.000    0.001    0.000 /Users/jlaidler/venvs/argo/lib/python3.7/site-packages/pandas/core/series.py:492(name)\n",
      "      600    0.000    0.000    0.001    0.000 /Users/jlaidler/venvs/argo/lib/python3.7/site-packages/pandas/core/common.py:329(apply_if_callable)\n",
      "      300    0.001    0.000    0.001    0.000 /Users/jlaidler/venvs/argo/lib/python3.7/site-packages/pandas/core/generic.py:5123(__getattr__)\n",
      "      301    0.000    0.000    0.001    0.000 /Users/jlaidler/venvs/argo/lib/python3.7/site-packages/pandas/core/internals/managers.py:684(<listcomp>)\n",
      "     3004    0.001    0.000    0.001    0.000 {pandas._libs.lib.is_float}\n",
      "      602    0.000    0.000    0.001    0.000 /Users/jlaidler/venvs/argo/lib/python3.7/site-packages/pandas/core/indexes/base.py:424(<genexpr>)\n",
      "     2103    0.001    0.000    0.001    0.000 {built-in method builtins.hash}\n",
      "      300    0.000    0.000    0.001    0.000 /Users/jlaidler/venvs/argo/lib/python3.7/site-packages/pandas/core/indexers.py:52(is_list_like_indexer)\n",
      "     2709    0.000    0.000    0.000    0.000 {method 'append' of 'list' objects}\n",
      "      300    0.000    0.000    0.000    0.000 /Users/jlaidler/venvs/argo/lib/python3.7/site-packages/pandas/core/indexing.py:100(iloc)\n",
      "      900    0.000    0.000    0.000    0.000 /Users/jlaidler/venvs/argo/lib/python3.7/site-packages/pandas/core/dtypes/cast.py:1478(<genexpr>)\n",
      "      600    0.000    0.000    0.000    0.000 /Users/jlaidler/venvs/argo/lib/python3.7/site-packages/pandas/core/dtypes/cast.py:1489(<genexpr>)\n",
      "     1201    0.000    0.000    0.000    0.000 /Users/jlaidler/venvs/argo/lib/python3.7/site-packages/pandas/core/internals/blocks.py:315(dtype)\n",
      "      301    0.000    0.000    0.000    0.000 /Users/jlaidler/venvs/argo/lib/python3.7/site-packages/pandas/core/indexes/base.py:520(is_)\n",
      "     2100    0.000    0.000    0.000    0.000 {pandas._libs.lib.is_integer}\n",
      "      903    0.000    0.000    0.000    0.000 /Users/jlaidler/venvs/argo/lib/python3.7/site-packages/pandas/core/internals/managers.py:1680(<genexpr>)\n",
      "      601    0.000    0.000    0.000    0.000 {built-in method __new__ of type object at 0x103c48778}\n",
      "      300    0.000    0.000    0.000    0.000 /Users/jlaidler/venvs/argo/lib/python3.7/site-packages/numpy/core/numerictypes.py:621(<listcomp>)\n",
      "     1807    0.000    0.000    0.000    0.000 /Users/jlaidler/venvs/argo/lib/python3.7/site-packages/numpy/core/multiarray.py:1043(copyto)\n",
      "  302/301    0.000    0.000    0.000    0.000 {built-in method builtins.next}\n",
      "      602    0.000    0.000    0.000    0.000 {method 'get' of 'dict' objects}\n",
      "      300    0.000    0.000    0.000    0.000 {built-in method fromkeys}\n",
      "      601    0.000    0.000    0.000    0.000 /Users/jlaidler/venvs/argo/lib/python3.7/site-packages/pandas/core/internals/managers.py:216(ndim)\n",
      "      300    0.000    0.000    0.000    0.000 /Users/jlaidler/venvs/argo/lib/python3.7/site-packages/pandas/core/generic.py:365(_get_axis_number)\n",
      "      600    0.000    0.000    0.000    0.000 {pandas._libs.algos.ensure_object}\n",
      "     1204    0.000    0.000    0.000    0.000 /Users/jlaidler/venvs/argo/lib/python3.7/site-packages/numpy/lib/ufunclike.py:68(_dispatcher)\n",
      "     1200    0.000    0.000    0.000    0.000 {pandas._libs.lib.is_bool}\n",
      "      904    0.000    0.000    0.000    0.000 /Users/jlaidler/venvs/argo/lib/python3.7/site-packages/pandas/core/internals/managers.py:1830(<lambda>)\n",
      "      602    0.000    0.000    0.000    0.000 /Users/jlaidler/venvs/argo/lib/python3.7/site-packages/numpy/lib/type_check.py:363(_nan_to_num_dispatcher)\n",
      "      900    0.000    0.000    0.000    0.000 /Users/jlaidler/venvs/argo/lib/python3.7/site-packages/pandas/core/indexes/base.py:3870(_values)\n",
      "      601    0.000    0.000    0.000    0.000 /Users/jlaidler/venvs/argo/lib/python3.7/site-packages/pandas/core/internals/blocks.py:311(shape)\n",
      "      601    0.000    0.000    0.000    0.000 {method 'upper' of 'str' objects}\n",
      "      302    0.000    0.000    0.000    0.000 {built-in method numpy.core._multiarray_umath.normalize_axis_index}\n",
      "      300    0.000    0.000    0.000    0.000 {pandas._libs.lib.infer_datetimelike_array}\n",
      "      300    0.000    0.000    0.000    0.000 /Users/jlaidler/venvs/argo/lib/python3.7/site-packages/pandas/core/indexes/base.py:3896(_get_engine_target)\n",
      "     98/2    0.000    0.000    0.000    0.000 //anaconda3/lib/python3.7/abc.py:141(__subclasscheck__)\n",
      "     98/2    0.000    0.000    0.000    0.000 {built-in method _abc._abc_subclasscheck}\n",
      "      601    0.000    0.000    0.000    0.000 /Users/jlaidler/venvs/argo/lib/python3.7/site-packages/pandas/core/internals/managers.py:259(items)\n",
      "      300    0.000    0.000    0.000    0.000 /Users/jlaidler/venvs/argo/lib/python3.7/site-packages/pandas/core/internals/managers.py:1575(_block)\n",
      "      601    0.000    0.000    0.000    0.000 {method 'keys' of 'dict' objects}\n",
      "      901    0.000    0.000    0.000    0.000 {pandas._libs.lib.is_iterator}\n",
      "      600    0.000    0.000    0.000    0.000 {built-in method builtins.callable}\n",
      "      301    0.000    0.000    0.000    0.000 /Users/jlaidler/venvs/argo/lib/python3.7/site-packages/numpy/core/multiarray.py:311(where)\n",
      "        1    0.000    0.000    0.000    0.000 /Users/jlaidler/venvs/argo/lib/python3.7/site-packages/numpy/lib/index_tricks.py:634(__init__)\n",
      "      601    0.000    0.000    0.000    0.000 {method 'extend' of 'list' objects}\n",
      "      300    0.000    0.000    0.000    0.000 /Users/jlaidler/venvs/argo/lib/python3.7/site-packages/pandas/core/internals/blocks.py:201(internal_values)\n",
      "      300    0.000    0.000    0.000    0.000 {pandas._libs.lib.item_from_zerodim}\n",
      "        1    0.000    0.000    0.000    0.000 /Users/jlaidler/venvs/argo/lib/python3.7/site-packages/pandas/core/generic.py:5268(values)\n",
      "        1    0.000    0.000    0.000    0.000 /Users/jlaidler/venvs/argo/lib/python3.7/site-packages/numpy/lib/stride_tricks.py:37(as_strided)\n",
      "      300    0.000    0.000    0.000    0.000 /Users/jlaidler/venvs/argo/lib/python3.7/site-packages/pandas/core/indexes/base.py:561(<lambda>)\n",
      "      300    0.000    0.000    0.000    0.000 /Users/jlaidler/venvs/argo/lib/python3.7/site-packages/numpy/core/numerictypes.py:622(<listcomp>)\n",
      "      300    0.000    0.000    0.000    0.000 {pandas._libs.lib.is_complex}\n",
      "        4    0.000    0.000    0.000    0.000 /Users/jlaidler/venvs/argo/lib/python3.7/site-packages/numpy/core/numerictypes.py:360(issubdtype)\n",
      "        1    0.000    0.000    0.000    0.000 /Users/jlaidler/venvs/argo/lib/python3.7/site-packages/pandas/core/internals/managers.py:806(as_array)\n",
      "        8    0.000    0.000    0.000    0.000 /Users/jlaidler/venvs/argo/lib/python3.7/site-packages/numpy/core/numerictypes.py:286(issubclass_)\n",
      "        1    0.000    0.000    0.000    0.000 <__array_function__ internals>:2(zeros_like)\n",
      "        1    0.000    0.000    0.000    0.000 /Users/jlaidler/venvs/argo/lib/python3.7/site-packages/numpy/core/numeric.py:75(zeros_like)\n",
      "        1    0.000    0.000    0.000    0.000 /Users/jlaidler/venvs/argo/lib/python3.7/site-packages/pandas/core/generic.py:5208(_consolidate_inplace)\n",
      "        1    0.000    0.000    0.000    0.000 /Users/jlaidler/venvs/argo/lib/python3.7/site-packages/pandas/core/generic.py:5197(_protect_consolidate)\n",
      "        4    0.000    0.000    0.000    0.000 {method 'reshape' of 'numpy.ndarray' objects}\n",
      "        2    0.000    0.000    0.000    0.000 <__array_function__ internals>:2(transpose)\n",
      "        1    0.000    0.000    0.000    0.000 /Users/jlaidler/venvs/argo/lib/python3.7/site-packages/pandas/core/generic.py:5211(f)\n",
      "       60    0.000    0.000    0.000    0.000 //anaconda3/lib/python3.7/_collections_abc.py:392(__subclasshook__)\n",
      "        2    0.000    0.000    0.000    0.000 /Users/jlaidler/venvs/argo/lib/python3.7/site-packages/numpy/core/fromnumeric.py:601(transpose)\n",
      "        1    0.000    0.000    0.000    0.000 /Users/jlaidler/venvs/argo/lib/python3.7/site-packages/pandas/core/internals/blocks.py:213(get_values)\n",
      "       10    0.000    0.000    0.000    0.000 //anaconda3/lib/python3.7/_collections_abc.py:72(_check_methods)\n",
      "        1    0.000    0.000    0.000    0.000 /Users/jlaidler/venvs/argo/lib/python3.7/site-packages/numpy/lib/stride_tricks.py:19(__init__)\n",
      "        4    0.000    0.000    0.000    0.000 {method 'format' of 'str' objects}\n",
      "        1    0.000    0.000    0.000    0.000 <__array_function__ internals>:2(empty_like)\n",
      "        3    0.000    0.000    0.000    0.000 {built-in method numpy.zeros}\n",
      "        2    0.000    0.000    0.000    0.000 /Users/jlaidler/venvs/argo/lib/python3.7/site-packages/numpy/core/fromnumeric.py:52(_wrapfunc)\n",
      "        4    0.000    0.000    0.000    0.000 //anaconda3/lib/python3.7/_collections_abc.py:252(__subclasshook__)\n",
      "        3    0.000    0.000    0.000    0.000 {method 'transpose' of 'numpy.ndarray' objects}\n",
      "        1    0.000    0.000    0.000    0.000 /Users/jlaidler/venvs/argo/lib/python3.7/site-packages/numpy/lib/stride_tricks.py:24(_maybe_view_as_subclass)\n",
      "        1    0.000    0.000    0.000    0.000 /Users/jlaidler/venvs/argo/lib/python3.7/site-packages/numpy/lib/shape_base.py:263(_apply_along_axis_dispatcher)\n",
      "       12    0.000    0.000    0.000    0.000 //anaconda3/lib/python3.7/_collections_abc.py:271(__subclasshook__)\n",
      "       18    0.000    0.000    0.000    0.000 //anaconda3/lib/python3.7/_collections_abc.py:302(__subclasshook__)\n",
      "        2    0.000    0.000    0.000    0.000 //anaconda3/lib/python3.7/_collections_abc.py:349(__subclasshook__)\n",
      "        4    0.000    0.000    0.000    0.000 /Users/jlaidler/venvs/argo/lib/python3.7/site-packages/numpy/lib/shape_base.py:1243(<genexpr>)\n",
      "        6    0.000    0.000    0.000    0.000 /Users/jlaidler/venvs/argo/lib/python3.7/site-packages/numpy/lib/shape_base.py:1253(<genexpr>)\n",
      "        1    0.000    0.000    0.000    0.000 /Users/jlaidler/venvs/argo/lib/python3.7/site-packages/pandas/core/internals/managers.py:961(consolidate)\n",
      "        1    0.000    0.000    0.000    0.000 {method '__array_wrap__' of 'numpy.ndarray' objects}\n",
      "        2    0.000    0.000    0.000    0.000 /Users/jlaidler/venvs/argo/lib/python3.7/site-packages/numpy/core/fromnumeric.py:597(_transpose_dispatcher)\n",
      "        1    0.000    0.000    0.000    0.000 /Users/jlaidler/venvs/argo/lib/python3.7/site-packages/numpy/lib/index_tricks.py:642(__iter__)\n",
      "        2    0.000    0.000    0.000    0.000 /Users/jlaidler/venvs/argo/lib/python3.7/site-packages/numpy/lib/shape_base.py:1167(_tile_dispatcher)\n",
      "        1    0.000    0.000    0.000    0.000 {method 'disable' of '_lsprof.Profiler' objects}\n",
      "        1    0.000    0.000    0.000    0.000 /Users/jlaidler/venvs/argo/lib/python3.7/site-packages/numpy/core/multiarray.py:75(empty_like)\n",
      "        1    0.000    0.000    0.000    0.000 {method '__array_prepare__' of 'numpy.ndarray' objects}\n",
      "        1    0.000    0.000    0.000    0.000 /Users/jlaidler/venvs/argo/lib/python3.7/site-packages/numpy/core/numeric.py:71(_zeros_like_dispatcher)\n",
      "        1    0.000    0.000    0.000    0.000 /Users/jlaidler/venvs/argo/lib/python3.7/site-packages/pandas/core/internals/managers.py:233(_is_single_block)\n",
      "\n",
      "\n"
     ]
    },
    {
     "data": {
      "text/plain": [
       "<pstats.Stats at 0x1afdcf0b8>"
      ]
     },
     "execution_count": 22,
     "metadata": {},
     "output_type": "execute_result"
    }
   ],
   "source": [
    "p = pstats.Stats(f'{filename}.dat')\n",
    "p.sort_stats('cumtime').print_stats()"
   ]
  },
  {
   "cell_type": "code",
   "execution_count": 95,
   "metadata": {},
   "outputs": [],
   "source": [
    "X_rules_ones = np.ones((X_rules.shape[0], X_rules.shape[1]))"
   ]
  },
  {
   "cell_type": "code",
   "execution_count": 102,
   "metadata": {},
   "outputs": [
    {
     "name": "stdout",
     "output_type": "stream",
     "text": [
      "1.54 s ± 112 ms per loop (mean ± std. dev. of 7 runs, 1 loop each)\n"
     ]
    }
   ],
   "source": [
    "%timeit y_arr = X_rules_ones * y[:, None]"
   ]
  },
  {
   "cell_type": "code",
   "execution_count": 103,
   "metadata": {},
   "outputs": [
    {
     "name": "stdout",
     "output_type": "stream",
     "text": [
      "1.45 s ± 31.8 ms per loop (mean ± std. dev. of 7 runs, 1 loop each)\n"
     ]
    }
   ],
   "source": [
    "%timeit y_arr_old = np.tile(y, (X_rules.shape[1], 1)).T"
   ]
  },
  {
   "cell_type": "code",
   "execution_count": 15,
   "metadata": {},
   "outputs": [],
   "source": [
    "y_rep = np.repeat(y, X_rules.shape[1])"
   ]
  },
  {
   "cell_type": "code",
   "execution_count": 16,
   "metadata": {},
   "outputs": [
    {
     "data": {
      "text/plain": [
       "(300000000,)"
      ]
     },
     "execution_count": 16,
     "metadata": {},
     "output_type": "execute_result"
    }
   ],
   "source": [
    "y_rep.shape"
   ]
  },
  {
   "cell_type": "code",
   "execution_count": 110,
   "metadata": {},
   "outputs": [
    {
     "data": {
      "text/plain": [
       "(1000000,)"
      ]
     },
     "execution_count": 110,
     "metadata": {},
     "output_type": "execute_result"
    }
   ],
   "source": [
    "y.shape"
   ]
  },
  {
   "cell_type": "code",
   "execution_count": 112,
   "metadata": {},
   "outputs": [
    {
     "data": {
      "text/plain": [
       "array([[1, 0, 0, ..., 1, 0, 1]])"
      ]
     },
     "execution_count": 112,
     "metadata": {},
     "output_type": "execute_result"
    }
   ],
   "source": [
    "np.broadcast_to(y, (1, y.shape[0]))"
   ]
  },
  {
   "cell_type": "code",
   "execution_count": 108,
   "metadata": {},
   "outputs": [
    {
     "ename": "ValueError",
     "evalue": "operands could not be broadcast together with remapped shapes [original->remapped]: (1000000,) and requested shape (1000000,300)",
     "output_type": "error",
     "traceback": [
      "\u001b[0;31m---------------------------------------------------------------------------\u001b[0m",
      "\u001b[0;31mValueError\u001b[0m                                Traceback (most recent call last)",
      "\u001b[0;32m<ipython-input-108-40a8c27897a6>\u001b[0m in \u001b[0;36m<module>\u001b[0;34m\u001b[0m\n\u001b[0;32m----> 1\u001b[0;31m \u001b[0mnp\u001b[0m\u001b[0;34m.\u001b[0m\u001b[0mbroadcast_to\u001b[0m\u001b[0;34m(\u001b[0m\u001b[0my\u001b[0m\u001b[0;34m,\u001b[0m \u001b[0;34m(\u001b[0m\u001b[0mX_rules\u001b[0m\u001b[0;34m.\u001b[0m\u001b[0mshape\u001b[0m\u001b[0;34m[\u001b[0m\u001b[0;36m0\u001b[0m\u001b[0;34m]\u001b[0m\u001b[0;34m,\u001b[0m \u001b[0mX_rules\u001b[0m\u001b[0;34m.\u001b[0m\u001b[0mshape\u001b[0m\u001b[0;34m[\u001b[0m\u001b[0;36m1\u001b[0m\u001b[0;34m]\u001b[0m\u001b[0;34m)\u001b[0m\u001b[0;34m)\u001b[0m\u001b[0;34m.\u001b[0m\u001b[0mshape\u001b[0m\u001b[0;34m\u001b[0m\u001b[0;34m\u001b[0m\u001b[0m\n\u001b[0m",
      "\u001b[0;32m<__array_function__ internals>\u001b[0m in \u001b[0;36mbroadcast_to\u001b[0;34m(*args, **kwargs)\u001b[0m\n",
      "\u001b[0;32m~/venvs/argo/lib/python3.7/site-packages/numpy/lib/stride_tricks.py\u001b[0m in \u001b[0;36mbroadcast_to\u001b[0;34m(array, shape, subok)\u001b[0m\n\u001b[1;32m    178\u001b[0m            [1, 2, 3]])\n\u001b[1;32m    179\u001b[0m     \"\"\"\n\u001b[0;32m--> 180\u001b[0;31m     \u001b[0;32mreturn\u001b[0m \u001b[0m_broadcast_to\u001b[0m\u001b[0;34m(\u001b[0m\u001b[0marray\u001b[0m\u001b[0;34m,\u001b[0m \u001b[0mshape\u001b[0m\u001b[0;34m,\u001b[0m \u001b[0msubok\u001b[0m\u001b[0;34m=\u001b[0m\u001b[0msubok\u001b[0m\u001b[0;34m,\u001b[0m \u001b[0mreadonly\u001b[0m\u001b[0;34m=\u001b[0m\u001b[0;32mTrue\u001b[0m\u001b[0;34m)\u001b[0m\u001b[0;34m\u001b[0m\u001b[0;34m\u001b[0m\u001b[0m\n\u001b[0m\u001b[1;32m    181\u001b[0m \u001b[0;34m\u001b[0m\u001b[0m\n\u001b[1;32m    182\u001b[0m \u001b[0;34m\u001b[0m\u001b[0m\n",
      "\u001b[0;32m~/venvs/argo/lib/python3.7/site-packages/numpy/lib/stride_tricks.py\u001b[0m in \u001b[0;36m_broadcast_to\u001b[0;34m(array, shape, subok, readonly)\u001b[0m\n\u001b[1;32m    123\u001b[0m     it = np.nditer(\n\u001b[1;32m    124\u001b[0m         \u001b[0;34m(\u001b[0m\u001b[0marray\u001b[0m\u001b[0;34m,\u001b[0m\u001b[0;34m)\u001b[0m\u001b[0;34m,\u001b[0m \u001b[0mflags\u001b[0m\u001b[0;34m=\u001b[0m\u001b[0;34m[\u001b[0m\u001b[0;34m'multi_index'\u001b[0m\u001b[0;34m,\u001b[0m \u001b[0;34m'refs_ok'\u001b[0m\u001b[0;34m,\u001b[0m \u001b[0;34m'zerosize_ok'\u001b[0m\u001b[0;34m]\u001b[0m \u001b[0;34m+\u001b[0m \u001b[0mextras\u001b[0m\u001b[0;34m,\u001b[0m\u001b[0;34m\u001b[0m\u001b[0;34m\u001b[0m\u001b[0m\n\u001b[0;32m--> 125\u001b[0;31m         op_flags=['readonly'], itershape=shape, order='C')\n\u001b[0m\u001b[1;32m    126\u001b[0m     \u001b[0;32mwith\u001b[0m \u001b[0mit\u001b[0m\u001b[0;34m:\u001b[0m\u001b[0;34m\u001b[0m\u001b[0;34m\u001b[0m\u001b[0m\n\u001b[1;32m    127\u001b[0m         \u001b[0;31m# never really has writebackifcopy semantics\u001b[0m\u001b[0;34m\u001b[0m\u001b[0;34m\u001b[0m\u001b[0;34m\u001b[0m\u001b[0m\n",
      "\u001b[0;31mValueError\u001b[0m: operands could not be broadcast together with remapped shapes [original->remapped]: (1000000,) and requested shape (1000000,300)"
     ]
    }
   ],
   "source": [
    "np.broadcast_to(y, (X_rules.shape[0], X_rules.shape[1])).shape"
   ]
  },
  {
   "cell_type": "code",
   "execution_count": 16,
   "metadata": {},
   "outputs": [],
   "source": [
    "y_T = y.T"
   ]
  },
  {
   "cell_type": "code",
   "execution_count": 20,
   "metadata": {},
   "outputs": [
    {
     "data": {
      "text/plain": [
       "((1000000,), (1000000,))"
      ]
     },
     "execution_count": 20,
     "metadata": {},
     "output_type": "execute_result"
    }
   ],
   "source": [
    "y_T.shape, y.shape"
   ]
  },
  {
   "cell_type": "code",
   "execution_count": null,
   "metadata": {},
   "outputs": [],
   "source": [
    "np.tile(y, (1, X_rules.shape[0])).shape"
   ]
  },
  {
   "cell_type": "code",
   "execution_count": 114,
   "metadata": {},
   "outputs": [
    {
     "data": {
      "text/plain": [
       "(300, 1000000)"
      ]
     },
     "execution_count": 114,
     "metadata": {},
     "output_type": "execute_result"
    }
   ],
   "source": [
    "np.tile(y, (X_rules.shape[1], 1)).shape"
   ]
  },
  {
   "cell_type": "code",
   "execution_count": 101,
   "metadata": {},
   "outputs": [
    {
     "data": {
      "text/plain": [
       "1.0"
      ]
     },
     "execution_count": 101,
     "metadata": {},
     "output_type": "execute_result"
    }
   ],
   "source": [
    "(y_arr == y_arr_old).mean().mean()"
   ]
  },
  {
   "cell_type": "code",
   "execution_count": null,
   "metadata": {},
   "outputs": [],
   "source": []
  },
  {
   "cell_type": "code",
   "execution_count": null,
   "metadata": {},
   "outputs": [],
   "source": []
  },
  {
   "cell_type": "code",
   "execution_count": 84,
   "metadata": {},
   "outputs": [],
   "source": [
    "perf_old = argo_utils.return_binary_pred_perf_of_set_numpy(y_true=y, y_preds=X_rules, y_preds_columns=X_rules.columns, sample_weight=weights)"
   ]
  },
  {
   "cell_type": "code",
   "execution_count": 82,
   "metadata": {},
   "outputs": [],
   "source": [
    "perf_new = argo_utils.return_binary_pred_perf_of_set_numpy(y_true=y, y_preds=X_rules, y_preds_columns=X_rules.columns, sample_weight=weights)"
   ]
  },
  {
   "cell_type": "code",
   "execution_count": 85,
   "metadata": {},
   "outputs": [
    {
     "data": {
      "text/plain": [
       "Precision          1.0\n",
       "Recall             1.0\n",
       "PercDataFlagged    1.0\n",
       "OptMetric          0.0\n",
       "dtype: float64"
      ]
     },
     "execution_count": 85,
     "metadata": {},
     "output_type": "execute_result"
    }
   ],
   "source": [
    "(perf_new == perf_old).mean()"
   ]
  },
  {
   "cell_type": "code",
   "execution_count": null,
   "metadata": {},
   "outputs": [],
   "source": []
  },
  {
   "cell_type": "code",
   "execution_count": 128,
   "metadata": {},
   "outputs": [],
   "source": [
    "X_rules_mean_np = X_rules.values.mean(0)"
   ]
  },
  {
   "cell_type": "code",
   "execution_count": 122,
   "metadata": {},
   "outputs": [],
   "source": [
    "tot_num_records = X_rules.values.shape[0]"
   ]
  },
  {
   "cell_type": "code",
   "execution_count": 129,
   "metadata": {},
   "outputs": [],
   "source": [
    "X_rules_mean_man = X_rules.values.sum(0)/tot_num_records"
   ]
  },
  {
   "cell_type": "code",
   "execution_count": 131,
   "metadata": {
    "collapsed": true,
    "jupyter": {
     "outputs_hidden": true
    }
   },
   "outputs": [
    {
     "data": {
      "text/plain": [
       "array([ True,  True,  True,  True,  True,  True,  True,  True,  True,\n",
       "        True,  True,  True,  True,  True,  True,  True,  True,  True,\n",
       "        True,  True,  True,  True,  True,  True,  True,  True,  True,\n",
       "        True,  True,  True,  True,  True,  True,  True,  True,  True,\n",
       "        True,  True,  True,  True,  True,  True,  True,  True,  True,\n",
       "        True,  True,  True,  True,  True,  True,  True,  True,  True,\n",
       "        True,  True,  True,  True,  True,  True,  True,  True,  True,\n",
       "        True,  True,  True,  True,  True,  True,  True,  True,  True,\n",
       "        True,  True,  True,  True,  True,  True,  True,  True,  True,\n",
       "        True,  True,  True,  True,  True,  True,  True,  True,  True,\n",
       "        True,  True,  True,  True,  True,  True,  True,  True,  True,\n",
       "        True,  True,  True,  True,  True,  True,  True,  True,  True,\n",
       "        True,  True,  True,  True,  True,  True,  True,  True,  True,\n",
       "        True,  True,  True,  True,  True,  True,  True,  True,  True,\n",
       "        True,  True,  True,  True,  True,  True,  True,  True,  True,\n",
       "        True,  True,  True,  True,  True,  True,  True,  True,  True,\n",
       "        True,  True,  True,  True,  True,  True,  True,  True,  True,\n",
       "        True,  True,  True,  True,  True,  True,  True,  True,  True,\n",
       "        True,  True,  True,  True,  True,  True,  True,  True,  True,\n",
       "        True,  True,  True,  True,  True,  True,  True,  True,  True,\n",
       "        True,  True,  True,  True,  True,  True,  True,  True,  True,\n",
       "        True,  True,  True,  True,  True,  True,  True,  True,  True,\n",
       "        True,  True,  True,  True,  True,  True,  True,  True,  True,\n",
       "        True,  True,  True,  True,  True,  True,  True,  True,  True,\n",
       "        True,  True,  True,  True,  True,  True,  True,  True,  True,\n",
       "        True,  True,  True,  True,  True,  True,  True,  True,  True,\n",
       "        True,  True,  True,  True,  True,  True,  True,  True,  True,\n",
       "        True,  True,  True,  True,  True,  True,  True,  True,  True,\n",
       "        True,  True,  True,  True,  True,  True,  True,  True,  True,\n",
       "        True,  True,  True,  True,  True,  True,  True,  True,  True,\n",
       "        True,  True,  True,  True,  True,  True,  True,  True,  True,\n",
       "        True,  True,  True,  True,  True,  True,  True,  True,  True,\n",
       "        True,  True,  True,  True,  True,  True,  True,  True,  True,\n",
       "        True,  True,  True])"
      ]
     },
     "execution_count": 131,
     "metadata": {},
     "output_type": "execute_result"
    }
   ],
   "source": [
    "X_rules_mean_np == X_rules_mean_man"
   ]
  },
  {
   "cell_type": "code",
   "execution_count": 126,
   "metadata": {
    "collapsed": true,
    "jupyter": {
     "outputs_hidden": true
    }
   },
   "outputs": [
    {
     "data": {
      "text/plain": [
       "array([0.900383, 0.501554, 0.099974, 0.900383, 0.501554, 0.099974,\n",
       "       0.900383, 0.501554, 0.099974, 0.900383, 0.501554, 0.099974,\n",
       "       0.900383, 0.501554, 0.099974, 0.900383, 0.501554, 0.099974,\n",
       "       0.900383, 0.501554, 0.099974, 0.900383, 0.501554, 0.099974,\n",
       "       0.900383, 0.501554, 0.099974, 0.900383, 0.501554, 0.099974,\n",
       "       0.900383, 0.501554, 0.099974, 0.900383, 0.501554, 0.099974,\n",
       "       0.900383, 0.501554, 0.099974, 0.900383, 0.501554, 0.099974,\n",
       "       0.900383, 0.501554, 0.099974, 0.900383, 0.501554, 0.099974,\n",
       "       0.900383, 0.501554, 0.099974, 0.900383, 0.501554, 0.099974,\n",
       "       0.900383, 0.501554, 0.099974, 0.900383, 0.501554, 0.099974,\n",
       "       0.900383, 0.501554, 0.099974, 0.900383, 0.501554, 0.099974,\n",
       "       0.900383, 0.501554, 0.099974, 0.900383, 0.501554, 0.099974,\n",
       "       0.900383, 0.501554, 0.099974, 0.900383, 0.501554, 0.099974,\n",
       "       0.900383, 0.501554, 0.099974, 0.900383, 0.501554, 0.099974,\n",
       "       0.900383, 0.501554, 0.099974, 0.900383, 0.501554, 0.099974,\n",
       "       0.900383, 0.501554, 0.099974, 0.900383, 0.501554, 0.099974,\n",
       "       0.900383, 0.501554, 0.099974, 0.900383, 0.501554, 0.099974,\n",
       "       0.900383, 0.501554, 0.099974, 0.900383, 0.501554, 0.099974,\n",
       "       0.900383, 0.501554, 0.099974, 0.900383, 0.501554, 0.099974,\n",
       "       0.900383, 0.501554, 0.099974, 0.900383, 0.501554, 0.099974,\n",
       "       0.900383, 0.501554, 0.099974, 0.900383, 0.501554, 0.099974,\n",
       "       0.900383, 0.501554, 0.099974, 0.900383, 0.501554, 0.099974,\n",
       "       0.900383, 0.501554, 0.099974, 0.900383, 0.501554, 0.099974,\n",
       "       0.900383, 0.501554, 0.099974, 0.900383, 0.501554, 0.099974,\n",
       "       0.900383, 0.501554, 0.099974, 0.900383, 0.501554, 0.099974,\n",
       "       0.900383, 0.501554, 0.099974, 0.900383, 0.501554, 0.099974,\n",
       "       0.900383, 0.501554, 0.099974, 0.900383, 0.501554, 0.099974,\n",
       "       0.900383, 0.501554, 0.099974, 0.900383, 0.501554, 0.099974,\n",
       "       0.900383, 0.501554, 0.099974, 0.900383, 0.501554, 0.099974,\n",
       "       0.900383, 0.501554, 0.099974, 0.900383, 0.501554, 0.099974,\n",
       "       0.900383, 0.501554, 0.099974, 0.900383, 0.501554, 0.099974,\n",
       "       0.900383, 0.501554, 0.099974, 0.900383, 0.501554, 0.099974,\n",
       "       0.900383, 0.501554, 0.099974, 0.900383, 0.501554, 0.099974,\n",
       "       0.900383, 0.501554, 0.099974, 0.900383, 0.501554, 0.099974,\n",
       "       0.900383, 0.501554, 0.099974, 0.900383, 0.501554, 0.099974,\n",
       "       0.900383, 0.501554, 0.099974, 0.900383, 0.501554, 0.099974,\n",
       "       0.900383, 0.501554, 0.099974, 0.900383, 0.501554, 0.099974,\n",
       "       0.900383, 0.501554, 0.099974, 0.900383, 0.501554, 0.099974,\n",
       "       0.900383, 0.501554, 0.099974, 0.900383, 0.501554, 0.099974,\n",
       "       0.900383, 0.501554, 0.099974, 0.900383, 0.501554, 0.099974,\n",
       "       0.900383, 0.501554, 0.099974, 0.900383, 0.501554, 0.099974,\n",
       "       0.900383, 0.501554, 0.099974, 0.900383, 0.501554, 0.099974,\n",
       "       0.900383, 0.501554, 0.099974, 0.900383, 0.501554, 0.099974,\n",
       "       0.900383, 0.501554, 0.099974, 0.900383, 0.501554, 0.099974,\n",
       "       0.900383, 0.501554, 0.099974, 0.900383, 0.501554, 0.099974,\n",
       "       0.900383, 0.501554, 0.099974, 0.900383, 0.501554, 0.099974,\n",
       "       0.900383, 0.501554, 0.099974, 0.900383, 0.501554, 0.099974,\n",
       "       0.900383, 0.501554, 0.099974, 0.900383, 0.501554, 0.099974,\n",
       "       0.900383, 0.501554, 0.099974, 0.900383, 0.501554, 0.099974,\n",
       "       0.900383, 0.501554, 0.099974, 0.900383, 0.501554, 0.099974])"
      ]
     },
     "execution_count": 126,
     "metadata": {},
     "output_type": "execute_result"
    }
   ],
   "source": [
    "X_rules.values.sum(0)/tot_num_records"
   ]
  },
  {
   "cell_type": "code",
   "execution_count": 4,
   "metadata": {},
   "outputs": [],
   "source": [
    "import string"
   ]
  },
  {
   "cell_type": "code",
   "execution_count": 10,
   "metadata": {},
   "outputs": [],
   "source": [
    "np.random.seed(0)\n",
    "y_preds = pd.DataFrame(np.random.randint(0, 2, size=(1000, 10)), columns=[\n",
    "                       i for i in string.ascii_letters[:10]])\n",
    "y_true = pd.Series(np.random.randint(0, 2, 1000))\n",
    "sample_weight = y_true * 10"
   ]
  },
  {
   "cell_type": "code",
   "execution_count": 12,
   "metadata": {},
   "outputs": [
    {
     "data": {
      "text/html": [
       "<div>\n",
       "<style scoped>\n",
       "    .dataframe tbody tr th:only-of-type {\n",
       "        vertical-align: middle;\n",
       "    }\n",
       "\n",
       "    .dataframe tbody tr th {\n",
       "        vertical-align: top;\n",
       "    }\n",
       "\n",
       "    .dataframe thead th {\n",
       "        text-align: right;\n",
       "    }\n",
       "</style>\n",
       "<table border=\"1\" class=\"dataframe\">\n",
       "  <thead>\n",
       "    <tr style=\"text-align: right;\">\n",
       "      <th></th>\n",
       "      <th>Precision</th>\n",
       "      <th>Recall</th>\n",
       "      <th>PercDataFlagged</th>\n",
       "      <th>OptMetric</th>\n",
       "    </tr>\n",
       "  </thead>\n",
       "  <tbody>\n",
       "    <tr>\n",
       "      <th>a</th>\n",
       "      <td>0.509728</td>\n",
       "      <td>0.513725</td>\n",
       "      <td>0.514</td>\n",
       "      <td>None</td>\n",
       "    </tr>\n",
       "    <tr>\n",
       "      <th>b</th>\n",
       "      <td>0.518664</td>\n",
       "      <td>0.517647</td>\n",
       "      <td>0.509</td>\n",
       "      <td>None</td>\n",
       "    </tr>\n",
       "    <tr>\n",
       "      <th>c</th>\n",
       "      <td>0.513462</td>\n",
       "      <td>0.523529</td>\n",
       "      <td>0.520</td>\n",
       "      <td>None</td>\n",
       "    </tr>\n",
       "    <tr>\n",
       "      <th>d</th>\n",
       "      <td>0.533597</td>\n",
       "      <td>0.529412</td>\n",
       "      <td>0.506</td>\n",
       "      <td>None</td>\n",
       "    </tr>\n",
       "    <tr>\n",
       "      <th>e</th>\n",
       "      <td>0.532803</td>\n",
       "      <td>0.525490</td>\n",
       "      <td>0.503</td>\n",
       "      <td>None</td>\n",
       "    </tr>\n",
       "    <tr>\n",
       "      <th>f</th>\n",
       "      <td>0.545455</td>\n",
       "      <td>0.529412</td>\n",
       "      <td>0.495</td>\n",
       "      <td>None</td>\n",
       "    </tr>\n",
       "    <tr>\n",
       "      <th>g</th>\n",
       "      <td>0.507216</td>\n",
       "      <td>0.482353</td>\n",
       "      <td>0.485</td>\n",
       "      <td>None</td>\n",
       "    </tr>\n",
       "    <tr>\n",
       "      <th>h</th>\n",
       "      <td>0.516252</td>\n",
       "      <td>0.529412</td>\n",
       "      <td>0.523</td>\n",
       "      <td>None</td>\n",
       "    </tr>\n",
       "    <tr>\n",
       "      <th>i</th>\n",
       "      <td>0.507576</td>\n",
       "      <td>0.525490</td>\n",
       "      <td>0.528</td>\n",
       "      <td>None</td>\n",
       "    </tr>\n",
       "    <tr>\n",
       "      <th>j</th>\n",
       "      <td>0.505976</td>\n",
       "      <td>0.498039</td>\n",
       "      <td>0.502</td>\n",
       "      <td>None</td>\n",
       "    </tr>\n",
       "  </tbody>\n",
       "</table>\n",
       "</div>"
      ],
      "text/plain": [
       "   Precision    Recall  PercDataFlagged OptMetric\n",
       "a   0.509728  0.513725            0.514      None\n",
       "b   0.518664  0.517647            0.509      None\n",
       "c   0.513462  0.523529            0.520      None\n",
       "d   0.533597  0.529412            0.506      None\n",
       "e   0.532803  0.525490            0.503      None\n",
       "f   0.545455  0.529412            0.495      None\n",
       "g   0.507216  0.482353            0.485      None\n",
       "h   0.516252  0.529412            0.523      None\n",
       "i   0.507576  0.525490            0.528      None\n",
       "j   0.505976  0.498039            0.502      None"
      ]
     },
     "execution_count": 12,
     "metadata": {},
     "output_type": "execute_result"
    }
   ],
   "source": [
    "argo_utils.return_binary_pred_perf_of_set_numpy(y_true=y_true, y_preds=y_preds, y_preds_columns=y_preds.columns)"
   ]
  },
  {
   "cell_type": "code",
   "execution_count": 143,
   "metadata": {},
   "outputs": [
    {
     "data": {
      "text/plain": [
       "0.514"
      ]
     },
     "execution_count": 143,
     "metadata": {},
     "output_type": "execute_result"
    }
   ],
   "source": [
    "y_preds['a'].mean(0)"
   ]
  },
  {
   "cell_type": "code",
   "execution_count": 25,
   "metadata": {},
   "outputs": [],
   "source": [
    "X_rules_sum = X_rules.values.sum(0)"
   ]
  },
  {
   "cell_type": "code",
   "execution_count": 27,
   "metadata": {},
   "outputs": [
    {
     "name": "stdout",
     "output_type": "stream",
     "text": [
      "3.03 µs ± 384 ns per loop (mean ± std. dev. of 7 runs, 100000 loops each)\n"
     ]
    }
   ],
   "source": [
    "%%timeit\n",
    "X_rules_sum/X_rules.shape[0]"
   ]
  },
  {
   "cell_type": "code",
   "execution_count": 28,
   "metadata": {},
   "outputs": [
    {
     "name": "stdout",
     "output_type": "stream",
     "text": [
      "265 ms ± 18.7 ms per loop (mean ± std. dev. of 7 runs, 1 loop each)\n"
     ]
    }
   ],
   "source": [
    "%%timeit\n",
    "X_rules.mean()"
   ]
  },
  {
   "cell_type": "code",
   "execution_count": 33,
   "metadata": {},
   "outputs": [],
   "source": [
    "%load_ext memory_profiler"
   ]
  },
  {
   "cell_type": "code",
   "execution_count": 36,
   "metadata": {},
   "outputs": [
    {
     "name": "stdout",
     "output_type": "stream",
     "text": [
      "peak memory: 2610.25 MiB, increment: -0.53 MiB\n"
     ]
    }
   ],
   "source": [
    "%memit argo_utils.return_binary_pred_perf_of_set_numpy(y_true=y_true, y_preds=y_preds, y_preds_columns=y_preds.columns)"
   ]
  },
  {
   "cell_type": "code",
   "execution_count": 44,
   "metadata": {},
   "outputs": [],
   "source": [
    "from rule_optimisation.optimisation_functions import Precision\n",
    "precision = Precision()"
   ]
  },
  {
   "cell_type": "code",
   "execution_count": 49,
   "metadata": {},
   "outputs": [
    {
     "name": "stdout",
     "output_type": "stream",
     "text": [
      "80152\n",
      "8152\n"
     ]
    }
   ],
   "source": [
    "import sys\n",
    "print(sys.getsizeof(y_preds))\n",
    "print(sys.getsizeof(y_true))"
   ]
  },
  {
   "cell_type": "code",
   "execution_count": 51,
   "metadata": {},
   "outputs": [],
   "source": [
    "from argo_utils.argo_utils import return_binary_pred_perf_of_set_numpy"
   ]
  },
  {
   "cell_type": "code",
   "execution_count": 52,
   "metadata": {
    "collapsed": true,
    "jupyter": {
     "outputs_hidden": true
    }
   },
   "outputs": [
    {
     "name": "stdout",
     "output_type": "stream",
     "text": [
      "\n"
     ]
    },
    {
     "data": {
      "text/plain": [
       "Filename: /Users/jlaidler/Documents/tigress/tigress/argo/argo/argo_utils/argo_utils/argo_utils.py\n",
       "\n",
       "Line #    Mem usage    Increment  Occurences   Line Contents\n",
       "============================================================\n",
       "   139   1233.7 MiB   1233.7 MiB           1   def return_binary_pred_perf_of_set_numpy(y_true: np.ndarray, y_preds: np.ndarray, y_preds_columns: list,\n",
       "   140                                                                                  sample_weight=None, opt_func=None) -> pd.DataFrame:\n",
       "   141                                             \"\"\"\n",
       "   142                                             Calculates the performance of a set of binary predictors given a target column.\n",
       "   143                                         \n",
       "   144                                             Args:\n",
       "   145                                                 y_true (np.ndarray): Binary integer target column.\n",
       "   146                                                 y_preds (np.ndarray): Set of binary integer predictors. Can also be a single predictor.\n",
       "   147                                                 y_preds_columns (list): Column names for the y_preds array.\n",
       "   148                                                 sample_weight (np.ndarray, optional): Row-wise sample_weights to apply. Defaults to None.\n",
       "   149                                                 opt_func (object, optional): A function/method which calculates a custom metric (e.g. Fbeta score) for each column. Defaults to None.\n",
       "   150                                         \n",
       "   151                                             Returns:\n",
       "   152                                                 pd.DataFrame: Dataframe containing the performance metrics for each binary predictor.\n",
       "   153                                             \"\"\"\n",
       "   154                                             # Convert relavent args to numpy arrays\n",
       "   155   1233.7 MiB      0.0 MiB           1       if isinstance(y_true, pd.Series):\n",
       "   156                                                 y_true = y_true.values\n",
       "   157   1233.7 MiB      0.0 MiB           1       if isinstance(y_preds, (pd.Series, pd.DataFrame)):\n",
       "   158   1233.7 MiB      0.0 MiB           1           y_preds = y_preds.values\n",
       "   159   1233.7 MiB      0.0 MiB           1       if isinstance(sample_weight, pd.Series) and sample_weight is not None:\n",
       "   160                                                 sample_weight = sample_weight.values\n",
       "   161   1233.7 MiB      0.0 MiB           1       perc_data_flagged = y_preds.mean(0)\n",
       "   162                                             # Calculate opt_metric\n",
       "   163   1233.7 MiB      0.0 MiB           1       if opt_func is not None:\n",
       "   164                                                 opt_metric_results = np.apply_along_axis(lambda x: opt_func(\n",
       "   165                                                     y_pred=x, y_true=y_true, sample_weight=sample_weight), 0, y_preds)\n",
       "   166                                             else:\n",
       "   167   1233.7 MiB      0.0 MiB           1           opt_metric_results = None\n",
       "   168                                             # Reshape y_true into same shape as pairwise array\n",
       "   169   1233.7 MiB      0.0 MiB           1       if y_preds.shape != y_true.shape:\n",
       "   170   2759.3 MiB   1525.6 MiB           1           y_true_arr = np.tile(y_true, (y_preds.shape[1], 1)).T\n",
       "   171                                             else:\n",
       "   172                                                 y_true_arr = y_true\n",
       "   173                                             # Calculate intersection of pairwise binary cols and y_true\n",
       "   174   2759.3 MiB      0.0 MiB           1       if sample_weight is not None:\n",
       "   175                                                 if y_preds.shape != sample_weight.shape:\n",
       "   176                                                     sample_weight_arr = np.tile(sample_weight, (y_preds.shape[1], 1)).T\n",
       "   177                                                 else:\n",
       "   178                                                     sample_weight_arr = sample_weight\n",
       "   179                                                 binary_y_intersect = y_preds * y_true_arr * sample_weight_arr\n",
       "   180                                                 y_preds = np.apply_along_axis(lambda x: x * sample_weight, 0, y_preds)\n",
       "   181                                                 y_true = y_true * sample_weight\n",
       "   182                                             else:\n",
       "   183   4794.6 MiB   2035.3 MiB           1           binary_y_intersect = y_preds * y_true_arr\n",
       "   184                                             # Calculate num records flagged and ratio flagged per rule\n",
       "   185   4785.0 MiB     -9.6 MiB           1       y_preds_sums = y_preds.sum(0)\n",
       "   186   4785.0 MiB      0.0 MiB           1       y_preds_sums = np.where(y_preds_sums == 0, np.nan, y_preds_sums)\n",
       "   187                                             # Calculate num records flagged in intersection\n",
       "   188   5004.0 MiB    219.0 MiB           1       binary_y_intersect_sum = binary_y_intersect.sum(0)\n",
       "   189                                             # Calculate precision, recall and fscore of pairwise rules\n",
       "   190   5004.0 MiB      0.0 MiB           1       precisions = np.nan_to_num(np.divide(binary_y_intersect_sum, y_preds_sums))\n",
       "   191   5004.0 MiB      0.0 MiB           1       recalls = np.nan_to_num(np.divide(binary_y_intersect_sum, y_true.sum()))\n",
       "   192   5004.0 MiB      0.0 MiB           1       results = pd.DataFrame({\n",
       "   193   5004.0 MiB      0.0 MiB           1           'Precision': precisions,\n",
       "   194   5004.0 MiB      0.0 MiB           1           'Recall': recalls,\n",
       "   195   5004.0 MiB      0.0 MiB           1           'PercDataFlagged': perc_data_flagged,\n",
       "   196   5004.0 MiB      0.0 MiB           1           'OptMetric': opt_metric_results,\n",
       "   197   5004.0 MiB      0.0 MiB           1       }, index=y_preds_columns)\n",
       "   198                                         \n",
       "   199   5004.0 MiB      0.0 MiB           1       return results"
      ]
     },
     "metadata": {},
     "output_type": "display_data"
    }
   ],
   "source": [
    "%mprun -f return_binary_pred_perf_of_set_numpy return_binary_pred_perf_of_set_numpy(y_true=y, y_preds=X_rules, y_preds_columns=X_rules.columns)#, opt_func=precision.fit)"
   ]
  },
  {
   "cell_type": "code",
   "execution_count": 60,
   "metadata": {},
   "outputs": [
    {
     "name": "stderr",
     "output_type": "stream",
     "text": [
      "/Users/jlaidler/venvs/argo/lib/python3.7/site-packages/ipykernel_launcher.py:1: RuntimeWarning: divide by zero encountered in true_divide\n",
      "  \"\"\"Entry point for launching an IPython kernel.\n"
     ]
    },
    {
     "data": {
      "text/plain": [
       "array([ 1., inf,  1.])"
      ]
     },
     "execution_count": 60,
     "metadata": {},
     "output_type": "execute_result"
    }
   ],
   "source": [
    "np.divide(np.array([1,2,3]), np.array([1,0,3]))"
   ]
  },
  {
   "cell_type": "code",
   "execution_count": null,
   "metadata": {},
   "outputs": [],
   "source": []
  }
 ],
 "metadata": {
  "kernelspec": {
   "display_name": "argo",
   "language": "python",
   "name": "argo"
  },
  "language_info": {
   "codemirror_mode": {
    "name": "ipython",
    "version": 3
   },
   "file_extension": ".py",
   "mimetype": "text/x-python",
   "name": "python",
   "nbconvert_exporter": "python",
   "pygments_lexer": "ipython3",
   "version": "3.7.3"
  }
 },
 "nbformat": 4,
 "nbformat_minor": 4
}
