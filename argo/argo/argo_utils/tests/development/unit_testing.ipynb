{
 "cells": [
  {
   "cell_type": "code",
   "execution_count": 1,
   "metadata": {},
   "outputs": [],
   "source": [
    "%load_ext autoreload\n",
    "%autoreload 2"
   ]
  },
  {
   "cell_type": "code",
   "execution_count": 25,
   "metadata": {},
   "outputs": [],
   "source": [
    "import pytest\n",
    "import numpy as np\n",
    "import pandas as pd\n",
    "import json\n",
    "import argo_utils.argo_utils as argo_utils\n",
    "from sklearn.metrics import fbeta_score, precision_score, recall_score\n",
    "import string\n",
    "from rule_optimisation.optimisation_functions import FScore, AlertsPerDay\n",
    "import argo_utils.argo_utils as argo_utils"
   ]
  },
  {
   "cell_type": "code",
   "execution_count": 49,
   "metadata": {},
   "outputs": [],
   "source": [
    "def create_data():\n",
    "    np.random.seed(0)\n",
    "    y_preds = pd.DataFrame(np.random.randint(0, 2, size=(1000, 10)), columns=[\n",
    "                           i for i in string.ascii_letters[:10]])\n",
    "    y_true = pd.Series(np.random.randint(0, 2, 1000))\n",
    "    sample_weight = y_true * 10\n",
    "    return (y_true, y_preds, sample_weight)"
   ]
  },
  {
   "cell_type": "code",
   "execution_count": 50,
   "metadata": {},
   "outputs": [],
   "source": [
    "y_true, y_preds, sample_weight = create_data()"
   ]
  },
  {
   "cell_type": "code",
   "execution_count": 51,
   "metadata": {},
   "outputs": [],
   "source": [
    "apd = AlertsPerDay(n_alerts_expected_per_day=10, no_of_days_in_file=10)"
   ]
  },
  {
   "cell_type": "code",
   "execution_count": 52,
   "metadata": {},
   "outputs": [],
   "source": [
    "opt_metrics = argo_utils.return_opt_func_perf(opt_func=apd.fit, y_preds=y_preds)"
   ]
  },
  {
   "cell_type": "code",
   "execution_count": 56,
   "metadata": {},
   "outputs": [
    {
     "data": {
      "text/plain": [
       "Index(['a', 'b', 'c', 'd', 'e', 'f', 'g', 'h', 'i', 'j'], dtype='object', name='Rule')"
      ]
     },
     "execution_count": 56,
     "metadata": {},
     "output_type": "execute_result"
    }
   ],
   "source": [
    "argo_utils.return_rule_descriptions_from_X_rules(X_rules=y_preds,\n",
    "                                                 X_rules_cols=y_preds.columns, y_true=None, sample_weight=None, opt_func=apd.fit).index"
   ]
  },
  {
   "cell_type": "code",
   "execution_count": null,
   "metadata": {},
   "outputs": [],
   "source": []
  }
 ],
 "metadata": {
  "kernelspec": {
   "display_name": "argo",
   "language": "python",
   "name": "argo"
  },
  "language_info": {
   "codemirror_mode": {
    "name": "ipython",
    "version": 3
   },
   "file_extension": ".py",
   "mimetype": "text/x-python",
   "name": "python",
   "nbconvert_exporter": "python",
   "pygments_lexer": "ipython3",
   "version": "3.7.3"
  }
 },
 "nbformat": 4,
 "nbformat_minor": 4
}
