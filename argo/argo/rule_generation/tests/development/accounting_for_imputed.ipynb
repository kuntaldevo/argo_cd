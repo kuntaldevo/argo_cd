{
 "cells": [
  {
   "cell_type": "code",
   "execution_count": 1,
   "metadata": {},
   "outputs": [],
   "source": [
    "%load_ext autoreload\n",
    "%autoreload 2"
   ]
  },
  {
   "cell_type": "code",
   "execution_count": 2,
   "metadata": {},
   "outputs": [],
   "source": [
    "from rule_generation.rule_generator_opt import RuleGeneratorOpt\n",
    "from rule_generation.rule_generator_dt import RuleGeneratorDT\n",
    "from sklearn.metrics import precision_score\n",
    "\n",
    "import pandas as pd\n",
    "import numpy as np\n",
    "import json"
   ]
  },
  {
   "cell_type": "code",
   "execution_count": 3,
   "metadata": {},
   "outputs": [],
   "source": [
    "X = pd.DataFrame(\n",
    "    {\n",
    "        'A': np.array([-1, 1, np.nan, 2] * 250),\n",
    "        'country': ['GB', 'US', 'FR', np.nan] * 250\n",
    "    }\n",
    ")\n",
    "y = X['A'].apply(lambda x: 1 if x < 0 or np.isnan(x) else 0)"
   ]
  },
  {
   "cell_type": "code",
   "execution_count": 4,
   "metadata": {},
   "outputs": [],
   "source": [
    "X_orig = X.copy()"
   ]
  },
  {
   "cell_type": "code",
   "execution_count": 5,
   "metadata": {},
   "outputs": [],
   "source": [
    "X['A'] = X['A'].fillna(0)"
   ]
  },
  {
   "cell_type": "code",
   "execution_count": 6,
   "metadata": {},
   "outputs": [],
   "source": [
    "X['country'] = X['country'].fillna('missing')"
   ]
  },
  {
   "cell_type": "code",
   "execution_count": 7,
   "metadata": {},
   "outputs": [
    {
     "data": {
      "text/html": [
       "<div>\n",
       "<style scoped>\n",
       "    .dataframe tbody tr th:only-of-type {\n",
       "        vertical-align: middle;\n",
       "    }\n",
       "\n",
       "    .dataframe tbody tr th {\n",
       "        vertical-align: top;\n",
       "    }\n",
       "\n",
       "    .dataframe thead th {\n",
       "        text-align: right;\n",
       "    }\n",
       "</style>\n",
       "<table border=\"1\" class=\"dataframe\">\n",
       "  <thead>\n",
       "    <tr style=\"text-align: right;\">\n",
       "      <th></th>\n",
       "      <th>A</th>\n",
       "      <th>country</th>\n",
       "    </tr>\n",
       "  </thead>\n",
       "  <tbody>\n",
       "    <tr>\n",
       "      <th>0</th>\n",
       "      <td>-1.0</td>\n",
       "      <td>GB</td>\n",
       "    </tr>\n",
       "    <tr>\n",
       "      <th>1</th>\n",
       "      <td>1.0</td>\n",
       "      <td>US</td>\n",
       "    </tr>\n",
       "    <tr>\n",
       "      <th>2</th>\n",
       "      <td>0.0</td>\n",
       "      <td>FR</td>\n",
       "    </tr>\n",
       "    <tr>\n",
       "      <th>3</th>\n",
       "      <td>2.0</td>\n",
       "      <td>missing</td>\n",
       "    </tr>\n",
       "    <tr>\n",
       "      <th>4</th>\n",
       "      <td>-1.0</td>\n",
       "      <td>GB</td>\n",
       "    </tr>\n",
       "  </tbody>\n",
       "</table>\n",
       "</div>"
      ],
      "text/plain": [
       "     A  country\n",
       "0 -1.0       GB\n",
       "1  1.0       US\n",
       "2  0.0       FR\n",
       "3  2.0  missing\n",
       "4 -1.0       GB"
      ]
     },
     "execution_count": 7,
     "metadata": {},
     "output_type": "execute_result"
    }
   ],
   "source": [
    "X.head()"
   ]
  },
  {
   "cell_type": "code",
   "execution_count": 8,
   "metadata": {},
   "outputs": [],
   "source": [
    "X = pd.get_dummies(X)"
   ]
  },
  {
   "cell_type": "code",
   "execution_count": 9,
   "metadata": {},
   "outputs": [],
   "source": [
    "imputed_values = {\n",
    "    'A': 0,\n",
    "    'country': 'missing'\n",
    "}"
   ]
  },
  {
   "cell_type": "markdown",
   "metadata": {},
   "source": [
    "# Numeric conditions"
   ]
  },
  {
   "cell_type": "code",
   "execution_count": 167,
   "metadata": {},
   "outputs": [],
   "source": [
    "rule_strings = {\n",
    "    'nan_low': \"X['A']>= 0\",\n",
    "    'nan_middle': \"X['A'] >= -1\",\n",
    "    'nan_high': \"X['A'] <= 0\",\n",
    "    'no_nan': \"X['A'] >= 2\"\n",
    "}\n",
    "\n",
    "rule_comps = {\n",
    "    'nan_low': ('A', '>=', 0),\n",
    "    'nan_middle': ('A', '>=', -1),\n",
    "    'nan_high': ('A', '<=', 0),\n",
    "    'no_nan': ('A', '>=', 2)\n",
    "}"
   ]
  },
  {
   "cell_type": "markdown",
   "metadata": {},
   "source": [
    "- Imputed value is the minimum value in the range\n",
    "- Imputed value is the maximum value in the range\n",
    "- Imputed value is somewhere in the middle"
   ]
  },
  {
   "cell_type": "code",
   "execution_count": 168,
   "metadata": {},
   "outputs": [],
   "source": [
    "def add_null_condition(feature, operator, value, null_value):\n",
    "    X_rule_str = f\"X['{feature}']{operator}{value}\"\n",
    "    X_rule_null_value_str = f\"(X['{feature}']{operator}{null_value}\"\n",
    "    is_null_in_rule_str = f'{null_value}{operator}{value}'\n",
    "    X_is_null_str = f\"(X['{feature}']=={null_value})\"\n",
    "    if eval(is_null_in_rule_str):\n",
    "        if all(eval(X_rule_str) == eval(X_is_null_str)):\n",
    "            clean_condition = f\"(X['{feature}'].isna())\"\n",
    "        elif null_value == value and operator == '>=':\n",
    "            next_lowest_value = eval(f\"X[{X_rule_str}]['{feature}'].drop_duplicates().nsmallest(2).iloc[-1]\")\n",
    "            clean_condition = f\"(X['{feature}']>={next_lowest_value})|(X['{feature}'].isna())\"\n",
    "        elif null_value == value and operator == '<=':\n",
    "            next_highest_value = eval(f\"X[{X_rule_str}]['{feature}'].drop_duplicates().nlargest(2).iloc[-1]\")\n",
    "            clean_condition = f\"(X['{feature}']<={next_highest_value})|(X['{feature}'].isna())\"\n",
    "        else:\n",
    "            clean_condition = f\"(X['{feature}']{operator}{value})|(X['{feature}'].isna())\"\n",
    "    else:\n",
    "        clean_condition = f\"(X['{feature}']{operator}{value})\"\n",
    "    return clean_condition"
   ]
  },
  {
   "cell_type": "code",
   "execution_count": 169,
   "metadata": {},
   "outputs": [],
   "source": [
    "# add_null_condition('A', '<=', 2, 0)"
   ]
  },
  {
   "cell_type": "code",
   "execution_count": 170,
   "metadata": {},
   "outputs": [],
   "source": [
    "cleaned_rules = {}\n",
    "for rule_name, args in rule_comps.items():\n",
    "    null_value = imputed_values[args[0]]\n",
    "    cleaned_rules[rule_name] = add_null_condition(*args, null_value)"
   ]
  },
  {
   "cell_type": "code",
   "execution_count": 171,
   "metadata": {},
   "outputs": [
    {
     "data": {
      "text/plain": [
       "{'nan_low': \"(X['A']>=1.0)|(X['A'].isna())\",\n",
       " 'nan_middle': \"(X['A']>=-1)|(X['A'].isna())\",\n",
       " 'nan_high': \"(X['A']<=-1.0)|(X['A'].isna())\",\n",
       " 'no_nan': \"(X['A']>=2)\"}"
      ]
     },
     "execution_count": 171,
     "metadata": {},
     "output_type": "execute_result"
    }
   ],
   "source": [
    "cleaned_rules"
   ]
  },
  {
   "cell_type": "code",
   "execution_count": 172,
   "metadata": {},
   "outputs": [],
   "source": [
    "from rule_application.argo_rule_applier import ArgoRuleApplier"
   ]
  },
  {
   "cell_type": "code",
   "execution_count": 173,
   "metadata": {},
   "outputs": [],
   "source": [
    "apply_cleaned = ArgoRuleApplier(rule_strings = cleaned_rules)"
   ]
  },
  {
   "cell_type": "code",
   "execution_count": 174,
   "metadata": {},
   "outputs": [],
   "source": [
    "X_rules_cleaned = apply_cleaned.apply(pd.DataFrame(X['A'].apply(lambda x: np.nan if x == 0 else x)))"
   ]
  },
  {
   "cell_type": "code",
   "execution_count": 175,
   "metadata": {},
   "outputs": [],
   "source": [
    "apply_orig = ArgoRuleApplier(rule_strings = rule_strings)"
   ]
  },
  {
   "cell_type": "code",
   "execution_count": 176,
   "metadata": {},
   "outputs": [],
   "source": [
    "X_rules_orig = apply_orig.apply(X)"
   ]
  },
  {
   "cell_type": "code",
   "execution_count": 177,
   "metadata": {},
   "outputs": [
    {
     "data": {
      "text/plain": [
       "nan_low       1.0\n",
       "nan_middle    1.0\n",
       "nan_high      1.0\n",
       "no_nan        1.0\n",
       "dtype: float64"
      ]
     },
     "execution_count": 177,
     "metadata": {},
     "output_type": "execute_result"
    }
   ],
   "source": [
    "(X_rules_orig == X_rules_cleaned).mean()"
   ]
  },
  {
   "cell_type": "markdown",
   "metadata": {},
   "source": [
    "# Categorical conditions"
   ]
  },
  {
   "cell_type": "code",
   "execution_count": 146,
   "metadata": {},
   "outputs": [],
   "source": [
    "ohe_cols_cats = {\n",
    "    'country_GB': 'GB',\n",
    "    'country_US': 'US',\n",
    "    'country_FR': 'FR',\n",
    "    'country_missing': 'missing',\n",
    "}\n",
    "null_ohe_cols = ['country_missing']"
   ]
  },
  {
   "cell_type": "code",
   "execution_count": 221,
   "metadata": {},
   "outputs": [],
   "source": [
    "rule_strings = {\n",
    "    'is_GB': \"(X['country_GB']==True)\",\n",
    "    'is_not_FR': \"(X['country_FR']==False)\",\n",
    "    'is_missing': \"(X['country_missing']==True)\",\n",
    "    'is_not_missing': \"(X['country_missing']==False)\",\n",
    "}\n",
    "\n",
    "rule_comps = {\n",
    "    'is_GB': ('country_GB', '==', 'True'),\n",
    "    'is_not_FR': ('country_FR', '==', 'False'),\n",
    "    'is_missing': ('country_missing', '==', 'True'),\n",
    "    'is_not_missing': ('country_missing', '==', 'False'),\n",
    "}"
   ]
  },
  {
   "cell_type": "code",
   "execution_count": 190,
   "metadata": {},
   "outputs": [],
   "source": [
    "def convert_ohe_condition(feature, operator, value, category, is_null_col):\n",
    "    original_feature = feature.split(f\"_{category}\")[0]\n",
    "    if is_null_col:\n",
    "        if value == 'True':\n",
    "            cleaned_condition = f\"(X['{original_feature}'].isna())\"\n",
    "        elif value == 'False':\n",
    "            cleaned_condition = f\"(~X['{original_feature}'].isna())\"\n",
    "    else:\n",
    "        if (operator == '==' and value == 'True') or (operator == '!=' and value == 'False'):\n",
    "            cleaned_condition = f\"(X['{original_feature}']=='{category}')\"\n",
    "        elif (operator == '==' and value == 'False') or (operator == '!=' and value == 'True'):\n",
    "            cleaned_condition = f\"(X['{original_feature}']!='{category}')\"\n",
    "    return cleaned_condition"
   ]
  },
  {
   "cell_type": "code",
   "execution_count": 194,
   "metadata": {},
   "outputs": [],
   "source": [
    "cleaned_conditions = {}\n",
    "for rule_name, args in rule_comps.items():\n",
    "    feature = args[0]\n",
    "    category = ohe_cols_cats[feature]\n",
    "    original_feature = feature.split(f\"_{category}\")[0]\n",
    "    if imputed_values[original_feature] == category:\n",
    "        is_null_col = True\n",
    "    else:\n",
    "        is_null_col = False\n",
    "    cleaned_conditions[rule_name] = convert_ohe_condition(*args, category, is_null_col)"
   ]
  },
  {
   "cell_type": "code",
   "execution_count": 195,
   "metadata": {},
   "outputs": [
    {
     "data": {
      "text/plain": [
       "{'is_GB': \"(X['country']=='GB')\",\n",
       " 'is_not_FR': \"(X['country']!='FR')\",\n",
       " 'is_missing': \"(X['country'].isna())\",\n",
       " 'is_not_missing': \"(~X['country'].isna())\"}"
      ]
     },
     "execution_count": 195,
     "metadata": {},
     "output_type": "execute_result"
    }
   ],
   "source": [
    "cleaned_conditions"
   ]
  },
  {
   "cell_type": "markdown",
   "metadata": {},
   "source": [
    "# Test class"
   ]
  },
  {
   "cell_type": "code",
   "execution_count": 152,
   "metadata": {},
   "outputs": [],
   "source": [
    "imputed_values = {\n",
    "    'A': 0,\n",
    "    'country': 'missing'\n",
    "}\n",
    "ohe_categories = {\n",
    "    'country_GB': 'GB',\n",
    "    'country_US': 'US',\n",
    "    'country_FR': 'FR',\n",
    "    'country_missing': 'missing',\n",
    "}\n",
    "\n",
    "\n",
    "rule_strings = {\n",
    "    'nan_low': \"(X['A']>=0)\",\n",
    "    'nan_middle': \"(X['A']>=-1)\",\n",
    "    'nan_high': \"(X['A']<=0)\",\n",
    "    'no_nan': \"(X['A']>=2)\",\n",
    "    'is_GB': \"(X['country_GB']==True)\",\n",
    "    'is_not_FR': \"(X['country_FR']==False)\",\n",
    "    'is_missing': \"(X['country_missing']==True)\",\n",
    "    'is_not_missing': \"(X['country_missing']==False)\",\n",
    "}\n",
    "\n",
    "rule_comps = {\n",
    "    'nan_low': ('A', '>=', 0),\n",
    "    'nan_middle': ('A', '>=', -1),\n",
    "    'nan_high': ('A', '<=', 0),\n",
    "    'no_nan': ('A', '>=', 2),\n",
    "    'is_GB': ('country_GB', '==', 'True'),\n",
    "    'is_not_FR': ('country_FR', '==', 'False'),\n",
    "    'is_missing': ('country_missing', '==', 'True'),\n",
    "    'is_not_missing': ('country_missing', '==', 'False'),\n",
    "}"
   ]
  },
  {
   "cell_type": "code",
   "execution_count": 157,
   "metadata": {},
   "outputs": [],
   "source": [
    "from itertools import combinations"
   ]
  },
  {
   "cell_type": "code",
   "execution_count": 161,
   "metadata": {},
   "outputs": [],
   "source": [
    "comb_rules = {}\n",
    "for i, (r1, r2) in enumerate(list(combinations(list(rule_strings.values()), r=2))):\n",
    "    comb_rules[f'combined_rule_{i}'] = f'{r1}&{r2}'"
   ]
  },
  {
   "cell_type": "code",
   "execution_count": 162,
   "metadata": {},
   "outputs": [
    {
     "data": {
      "text/plain": [
       "{'combined_rule_0': \"(X['A']>=0)&(X['A']>=-1)\",\n",
       " 'combined_rule_1': \"(X['A']>=0)&(X['A']<=0)\",\n",
       " 'combined_rule_2': \"(X['A']>=0)&(X['A']>=2)\",\n",
       " 'combined_rule_3': \"(X['A']>=0)&(X['country_GB']==True)\",\n",
       " 'combined_rule_4': \"(X['A']>=0)&(X['country_FR']==False)\",\n",
       " 'combined_rule_5': \"(X['A']>=0)&(X['country_missing']==True)\",\n",
       " 'combined_rule_6': \"(X['A']>=0)&(X['country_missing']==False)\",\n",
       " 'combined_rule_7': \"(X['A']>=-1)&(X['A']<=0)\",\n",
       " 'combined_rule_8': \"(X['A']>=-1)&(X['A']>=2)\",\n",
       " 'combined_rule_9': \"(X['A']>=-1)&(X['country_GB']==True)\",\n",
       " 'combined_rule_10': \"(X['A']>=-1)&(X['country_FR']==False)\",\n",
       " 'combined_rule_11': \"(X['A']>=-1)&(X['country_missing']==True)\",\n",
       " 'combined_rule_12': \"(X['A']>=-1)&(X['country_missing']==False)\",\n",
       " 'combined_rule_13': \"(X['A']<=0)&(X['A']>=2)\",\n",
       " 'combined_rule_14': \"(X['A']<=0)&(X['country_GB']==True)\",\n",
       " 'combined_rule_15': \"(X['A']<=0)&(X['country_FR']==False)\",\n",
       " 'combined_rule_16': \"(X['A']<=0)&(X['country_missing']==True)\",\n",
       " 'combined_rule_17': \"(X['A']<=0)&(X['country_missing']==False)\",\n",
       " 'combined_rule_18': \"(X['A']>=2)&(X['country_GB']==True)\",\n",
       " 'combined_rule_19': \"(X['A']>=2)&(X['country_FR']==False)\",\n",
       " 'combined_rule_20': \"(X['A']>=2)&(X['country_missing']==True)\",\n",
       " 'combined_rule_21': \"(X['A']>=2)&(X['country_missing']==False)\",\n",
       " 'combined_rule_22': \"(X['country_GB']==True)&(X['country_FR']==False)\",\n",
       " 'combined_rule_23': \"(X['country_GB']==True)&(X['country_missing']==True)\",\n",
       " 'combined_rule_24': \"(X['country_GB']==True)&(X['country_missing']==False)\",\n",
       " 'combined_rule_25': \"(X['country_FR']==False)&(X['country_missing']==True)\",\n",
       " 'combined_rule_26': \"(X['country_FR']==False)&(X['country_missing']==False)\",\n",
       " 'combined_rule_27': \"(X['country_missing']==True)&(X['country_missing']==False)\"}"
      ]
     },
     "execution_count": 162,
     "metadata": {},
     "output_type": "execute_result"
    }
   ],
   "source": [
    "comb_rules"
   ]
  },
  {
   "cell_type": "code",
   "execution_count": 11,
   "metadata": {},
   "outputs": [],
   "source": [
    "from rule_generation.condition_cleaner import ConditionCleaner\n",
    "import argo_utils.argo_utils as argo_utils"
   ]
  },
  {
   "cell_type": "code",
   "execution_count": 12,
   "metadata": {},
   "outputs": [],
   "source": [
    "# cc = ConditionCleaner(imputed_values=imputed_values, ohe_categories=ohe_categories)"
   ]
  },
  {
   "cell_type": "code",
   "execution_count": 21,
   "metadata": {},
   "outputs": [],
   "source": [
    "cleaned_results = {}\n",
    "ohe_cols = list(ohe_categories.keys())\n",
    "for rule_name, rule_comp in rule_comps.items():\n",
    "#     cleaned_results[rule_name] = cc.clean(*rule_comp, X=X)\n",
    "    if rule_comp[0] in ohe_cols:\n",
    "        cleaned_results[rule_name] = argo_utils.convert_ohe_rule(*rule_comp, ohe_categories=ohe_categories, imputed_values=imputed_values)\n",
    "    else:\n",
    "        cleaned_results[rule_name] = argo_utils.add_null_condition_to_imputed_numeric_rule(*rule_comp, imputed_values=imputed_values, X=X)"
   ]
  },
  {
   "cell_type": "code",
   "execution_count": 22,
   "metadata": {},
   "outputs": [
    {
     "data": {
      "text/plain": [
       "{'nan_low': \"(X['A']>=1.0)|(X['A'].isna())\",\n",
       " 'nan_middle': \"(X['A']>=-1)|(X['A'].isna())\",\n",
       " 'nan_high': \"(X['A']<=-1.0)|(X['A'].isna())\",\n",
       " 'no_nan': \"(X['A']>=2)\",\n",
       " 'is_GB': \"(X['country']=='GB')\",\n",
       " 'is_not_FR': \"(X['country']!='FR')\",\n",
       " 'is_missing': \"(X['country'].isna())\",\n",
       " 'is_not_missing': \"(~X['country'].isna())\"}"
      ]
     },
     "execution_count": 22,
     "metadata": {},
     "output_type": "execute_result"
    }
   ],
   "source": [
    "cleaned_results"
   ]
  },
  {
   "cell_type": "code",
   "execution_count": 23,
   "metadata": {},
   "outputs": [],
   "source": [
    "from rule_application.argo_rule_applier import ArgoRuleApplier"
   ]
  },
  {
   "cell_type": "code",
   "execution_count": 24,
   "metadata": {},
   "outputs": [],
   "source": [
    "apply_cleaned = ArgoRuleApplier(rule_strings=cleaned_results)"
   ]
  },
  {
   "cell_type": "code",
   "execution_count": 25,
   "metadata": {},
   "outputs": [],
   "source": [
    "X_rules_cleaned = apply_cleaned.apply(X=X_orig)"
   ]
  },
  {
   "cell_type": "code",
   "execution_count": 26,
   "metadata": {},
   "outputs": [],
   "source": [
    "apply_orig = ArgoRuleApplier(rule_strings=rule_strings)"
   ]
  },
  {
   "cell_type": "code",
   "execution_count": 27,
   "metadata": {},
   "outputs": [],
   "source": [
    "X_rules_orig = apply_orig.apply(X)"
   ]
  },
  {
   "cell_type": "code",
   "execution_count": 28,
   "metadata": {},
   "outputs": [
    {
     "data": {
      "text/plain": [
       "nan_low           1.0\n",
       "nan_middle        1.0\n",
       "nan_high          1.0\n",
       "no_nan            1.0\n",
       "is_GB             1.0\n",
       "is_not_FR         1.0\n",
       "is_missing        1.0\n",
       "is_not_missing    1.0\n",
       "dtype: float64"
      ]
     },
     "execution_count": 28,
     "metadata": {},
     "output_type": "execute_result"
    }
   ],
   "source": [
    "(X_rules_cleaned == X_rules_orig).mean()"
   ]
  },
  {
   "cell_type": "code",
   "execution_count": 31,
   "metadata": {},
   "outputs": [
    {
     "ename": "TypeError",
     "evalue": "'NoneType' object is not subscriptable",
     "output_type": "error",
     "traceback": [
      "\u001b[0;31m---------------------------------------------------------------------------\u001b[0m",
      "\u001b[0;31mTypeError\u001b[0m                                 Traceback (most recent call last)",
      "\u001b[0;32m<ipython-input-31-f835d7c076be>\u001b[0m in \u001b[0;36m<module>\u001b[0;34m\u001b[0m\n\u001b[0;32m----> 1\u001b[0;31m \u001b[0margo_utils\u001b[0m\u001b[0;34m.\u001b[0m\u001b[0mconvert_ohe_condition_to_general\u001b[0m\u001b[0;34m(\u001b[0m\u001b[0mfeature\u001b[0m\u001b[0;34m=\u001b[0m\u001b[0;34m'country_GB'\u001b[0m\u001b[0;34m,\u001b[0m \u001b[0moperator\u001b[0m\u001b[0;34m=\u001b[0m\u001b[0;34m'=='\u001b[0m\u001b[0;34m,\u001b[0m \u001b[0mvalue\u001b[0m\u001b[0;34m=\u001b[0m\u001b[0;34m''\u001b[0m\u001b[0;34m,\u001b[0m \u001b[0mohe_categories\u001b[0m\u001b[0;34m=\u001b[0m\u001b[0;34m{\u001b[0m\u001b[0;34m'country_GB'\u001b[0m\u001b[0;34m:\u001b[0m \u001b[0;34m'GB'\u001b[0m\u001b[0;34m}\u001b[0m\u001b[0;34m,\u001b[0m \u001b[0mimputed_values\u001b[0m\u001b[0;34m=\u001b[0m\u001b[0;32mNone\u001b[0m\u001b[0;34m)\u001b[0m\u001b[0;34m\u001b[0m\u001b[0;34m\u001b[0m\u001b[0m\n\u001b[0m",
      "\u001b[0;32m~/Documents/tigress/tigress/argo/argo/argo_utils/argo_utils/argo_utils.py\u001b[0m in \u001b[0;36mconvert_ohe_condition_to_general\u001b[0;34m(feature, operator, value, ohe_categories, imputed_values)\u001b[0m\n\u001b[1;32m    296\u001b[0m     \u001b[0mcategory\u001b[0m \u001b[0;34m=\u001b[0m \u001b[0mohe_categories\u001b[0m\u001b[0;34m[\u001b[0m\u001b[0mfeature\u001b[0m\u001b[0;34m]\u001b[0m\u001b[0;34m\u001b[0m\u001b[0;34m\u001b[0m\u001b[0m\n\u001b[1;32m    297\u001b[0m     \u001b[0moriginal_feature\u001b[0m \u001b[0;34m=\u001b[0m \u001b[0mfeature\u001b[0m\u001b[0;34m.\u001b[0m\u001b[0msplit\u001b[0m\u001b[0;34m(\u001b[0m\u001b[0;34mf\"_{category}\"\u001b[0m\u001b[0;34m)\u001b[0m\u001b[0;34m[\u001b[0m\u001b[0;36m0\u001b[0m\u001b[0;34m]\u001b[0m\u001b[0;34m\u001b[0m\u001b[0;34m\u001b[0m\u001b[0m\n\u001b[0;32m--> 298\u001b[0;31m     \u001b[0mis_null_col\u001b[0m \u001b[0;34m=\u001b[0m \u001b[0;32mTrue\u001b[0m \u001b[0;32mif\u001b[0m \u001b[0mimputed_values\u001b[0m\u001b[0;34m[\u001b[0m\u001b[0moriginal_feature\u001b[0m\u001b[0;34m]\u001b[0m \u001b[0;34m==\u001b[0m \u001b[0mcategory\u001b[0m \u001b[0;32melse\u001b[0m \u001b[0;32mFalse\u001b[0m\u001b[0;34m\u001b[0m\u001b[0;34m\u001b[0m\u001b[0m\n\u001b[0m\u001b[1;32m    299\u001b[0m     \u001b[0;32mif\u001b[0m \u001b[0mis_null_col\u001b[0m\u001b[0;34m:\u001b[0m\u001b[0;34m\u001b[0m\u001b[0;34m\u001b[0m\u001b[0m\n\u001b[1;32m    300\u001b[0m         \u001b[0;32mif\u001b[0m \u001b[0mvalue\u001b[0m \u001b[0;34m==\u001b[0m \u001b[0;34m'True'\u001b[0m\u001b[0;34m:\u001b[0m\u001b[0;34m\u001b[0m\u001b[0;34m\u001b[0m\u001b[0m\n",
      "\u001b[0;31mTypeError\u001b[0m: 'NoneType' object is not subscriptable"
     ]
    }
   ],
   "source": [
    "argo_utils.convert_ohe_condition_to_general(feature='country_GB', operator='==', value='', ohe_categories={'country_GB': 'GB'}, imputed_values=None)"
   ]
  },
  {
   "cell_type": "markdown",
   "metadata": {},
   "source": [
    "# Try with rule gen"
   ]
  },
  {
   "cell_type": "code",
   "execution_count": 91,
   "metadata": {},
   "outputs": [],
   "source": [
    "import random"
   ]
  },
  {
   "cell_type": "code",
   "execution_count": 92,
   "metadata": {},
   "outputs": [],
   "source": [
    "X_orig = pd.DataFrame(\n",
    "    {\n",
    "        'A': np.array([-1, 1, np.nan, 2] * 250),\n",
    "        'B': np.array([0, np.nan, 2, 4] * 250),\n",
    "        'C': ['GB', 'US', 'FR', np.nan] * 250\n",
    "    }\n",
    ")\n",
    "y = X_orig['B'].apply(lambda x: 1 if x >= 2  else 0)"
   ]
  },
  {
   "cell_type": "code",
   "execution_count": 93,
   "metadata": {},
   "outputs": [],
   "source": [
    "X_processed = X_orig.fillna({'A': 0, 'B':-1, 'C': 'missing'})"
   ]
  },
  {
   "cell_type": "code",
   "execution_count": 94,
   "metadata": {},
   "outputs": [],
   "source": [
    "X_processed = pd.get_dummies(X_processed)"
   ]
  },
  {
   "cell_type": "code",
   "execution_count": 95,
   "metadata": {},
   "outputs": [],
   "source": [
    "rgo_wo_imputed = RuleGeneratorOpt(opt_func=precision_score, n_total_conditions=4, num_rules_keep=50, remove_corr_rules=False)"
   ]
  },
  {
   "cell_type": "code",
   "execution_count": 96,
   "metadata": {},
   "outputs": [
    {
     "name": "stderr",
     "output_type": "stream",
     "text": [
      "/Users/jlaidler/venvs/argo/lib/python3.7/site-packages/sklearn/metrics/_classification.py:1221: UndefinedMetricWarning: Precision is ill-defined and being set to 0.0 due to no predicted samples. Use `zero_division` parameter to control this behavior.\n",
      "  _warn_prf(average, modifier, msg_start, len(result))\n"
     ]
    },
    {
     "data": {
      "text/html": [
       "<div>\n",
       "<style scoped>\n",
       "    .dataframe tbody tr th:only-of-type {\n",
       "        vertical-align: middle;\n",
       "    }\n",
       "\n",
       "    .dataframe tbody tr th {\n",
       "        vertical-align: top;\n",
       "    }\n",
       "\n",
       "    .dataframe thead th {\n",
       "        text-align: right;\n",
       "    }\n",
       "</style>\n",
       "<table border=\"1\" class=\"dataframe\">\n",
       "  <thead>\n",
       "    <tr style=\"text-align: right;\">\n",
       "      <th></th>\n",
       "      <th>RGO_Rule4</th>\n",
       "      <th>RGO_Rule10</th>\n",
       "      <th>RGO_Rule1</th>\n",
       "      <th>RGO_Rule30</th>\n",
       "      <th>RGO_Rule34</th>\n",
       "      <th>RGO_Rule7</th>\n",
       "      <th>RGO_Rule9</th>\n",
       "      <th>RGO_Rule0</th>\n",
       "      <th>RGO_Rule2</th>\n",
       "      <th>RGO_Rule3</th>\n",
       "    </tr>\n",
       "  </thead>\n",
       "  <tbody>\n",
       "    <tr>\n",
       "      <th>0</th>\n",
       "      <td>0</td>\n",
       "      <td>0</td>\n",
       "      <td>0</td>\n",
       "      <td>0</td>\n",
       "      <td>0</td>\n",
       "      <td>0</td>\n",
       "      <td>1</td>\n",
       "      <td>0</td>\n",
       "      <td>1</td>\n",
       "      <td>1</td>\n",
       "    </tr>\n",
       "    <tr>\n",
       "      <th>1</th>\n",
       "      <td>0</td>\n",
       "      <td>0</td>\n",
       "      <td>0</td>\n",
       "      <td>0</td>\n",
       "      <td>0</td>\n",
       "      <td>1</td>\n",
       "      <td>0</td>\n",
       "      <td>1</td>\n",
       "      <td>1</td>\n",
       "      <td>1</td>\n",
       "    </tr>\n",
       "    <tr>\n",
       "      <th>2</th>\n",
       "      <td>1</td>\n",
       "      <td>0</td>\n",
       "      <td>1</td>\n",
       "      <td>1</td>\n",
       "      <td>1</td>\n",
       "      <td>1</td>\n",
       "      <td>1</td>\n",
       "      <td>1</td>\n",
       "      <td>1</td>\n",
       "      <td>1</td>\n",
       "    </tr>\n",
       "    <tr>\n",
       "      <th>3</th>\n",
       "      <td>0</td>\n",
       "      <td>1</td>\n",
       "      <td>1</td>\n",
       "      <td>1</td>\n",
       "      <td>1</td>\n",
       "      <td>1</td>\n",
       "      <td>1</td>\n",
       "      <td>1</td>\n",
       "      <td>1</td>\n",
       "      <td>1</td>\n",
       "    </tr>\n",
       "    <tr>\n",
       "      <th>4</th>\n",
       "      <td>0</td>\n",
       "      <td>0</td>\n",
       "      <td>0</td>\n",
       "      <td>0</td>\n",
       "      <td>0</td>\n",
       "      <td>0</td>\n",
       "      <td>1</td>\n",
       "      <td>0</td>\n",
       "      <td>1</td>\n",
       "      <td>1</td>\n",
       "    </tr>\n",
       "    <tr>\n",
       "      <th>...</th>\n",
       "      <td>...</td>\n",
       "      <td>...</td>\n",
       "      <td>...</td>\n",
       "      <td>...</td>\n",
       "      <td>...</td>\n",
       "      <td>...</td>\n",
       "      <td>...</td>\n",
       "      <td>...</td>\n",
       "      <td>...</td>\n",
       "      <td>...</td>\n",
       "    </tr>\n",
       "    <tr>\n",
       "      <th>995</th>\n",
       "      <td>0</td>\n",
       "      <td>1</td>\n",
       "      <td>1</td>\n",
       "      <td>1</td>\n",
       "      <td>1</td>\n",
       "      <td>1</td>\n",
       "      <td>1</td>\n",
       "      <td>1</td>\n",
       "      <td>1</td>\n",
       "      <td>1</td>\n",
       "    </tr>\n",
       "    <tr>\n",
       "      <th>996</th>\n",
       "      <td>0</td>\n",
       "      <td>0</td>\n",
       "      <td>0</td>\n",
       "      <td>0</td>\n",
       "      <td>0</td>\n",
       "      <td>0</td>\n",
       "      <td>1</td>\n",
       "      <td>0</td>\n",
       "      <td>1</td>\n",
       "      <td>1</td>\n",
       "    </tr>\n",
       "    <tr>\n",
       "      <th>997</th>\n",
       "      <td>0</td>\n",
       "      <td>0</td>\n",
       "      <td>0</td>\n",
       "      <td>0</td>\n",
       "      <td>0</td>\n",
       "      <td>1</td>\n",
       "      <td>0</td>\n",
       "      <td>1</td>\n",
       "      <td>1</td>\n",
       "      <td>1</td>\n",
       "    </tr>\n",
       "    <tr>\n",
       "      <th>998</th>\n",
       "      <td>1</td>\n",
       "      <td>0</td>\n",
       "      <td>1</td>\n",
       "      <td>1</td>\n",
       "      <td>1</td>\n",
       "      <td>1</td>\n",
       "      <td>1</td>\n",
       "      <td>1</td>\n",
       "      <td>1</td>\n",
       "      <td>1</td>\n",
       "    </tr>\n",
       "    <tr>\n",
       "      <th>999</th>\n",
       "      <td>0</td>\n",
       "      <td>1</td>\n",
       "      <td>1</td>\n",
       "      <td>1</td>\n",
       "      <td>1</td>\n",
       "      <td>1</td>\n",
       "      <td>1</td>\n",
       "      <td>1</td>\n",
       "      <td>1</td>\n",
       "      <td>1</td>\n",
       "    </tr>\n",
       "  </tbody>\n",
       "</table>\n",
       "<p>1000 rows × 10 columns</p>\n",
       "</div>"
      ],
      "text/plain": [
       "     RGO_Rule4  RGO_Rule10  RGO_Rule1  RGO_Rule30  RGO_Rule34  RGO_Rule7  \\\n",
       "0            0           0          0           0           0          0   \n",
       "1            0           0          0           0           0          1   \n",
       "2            1           0          1           1           1          1   \n",
       "3            0           1          1           1           1          1   \n",
       "4            0           0          0           0           0          0   \n",
       "..         ...         ...        ...         ...         ...        ...   \n",
       "995          0           1          1           1           1          1   \n",
       "996          0           0          0           0           0          0   \n",
       "997          0           0          0           0           0          1   \n",
       "998          1           0          1           1           1          1   \n",
       "999          0           1          1           1           1          1   \n",
       "\n",
       "     RGO_Rule9  RGO_Rule0  RGO_Rule2  RGO_Rule3  \n",
       "0            1          0          1          1  \n",
       "1            0          1          1          1  \n",
       "2            1          1          1          1  \n",
       "3            1          1          1          1  \n",
       "4            1          0          1          1  \n",
       "..         ...        ...        ...        ...  \n",
       "995          1          1          1          1  \n",
       "996          1          0          1          1  \n",
       "997          0          1          1          1  \n",
       "998          1          1          1          1  \n",
       "999          1          1          1          1  \n",
       "\n",
       "[1000 rows x 10 columns]"
      ]
     },
     "execution_count": 96,
     "metadata": {},
     "output_type": "execute_result"
    }
   ],
   "source": [
    "rgo_wo_imputed.fit(X_processed, y)"
   ]
  },
  {
   "cell_type": "code",
   "execution_count": 97,
   "metadata": {},
   "outputs": [
    {
     "data": {
      "text/html": [
       "<div>\n",
       "<style scoped>\n",
       "    .dataframe tbody tr th:only-of-type {\n",
       "        vertical-align: middle;\n",
       "    }\n",
       "\n",
       "    .dataframe tbody tr th {\n",
       "        vertical-align: top;\n",
       "    }\n",
       "\n",
       "    .dataframe thead th {\n",
       "        text-align: right;\n",
       "    }\n",
       "</style>\n",
       "<table border=\"1\" class=\"dataframe\">\n",
       "  <thead>\n",
       "    <tr style=\"text-align: right;\">\n",
       "      <th></th>\n",
       "      <th>Logic</th>\n",
       "      <th>Precision</th>\n",
       "      <th>Recall</th>\n",
       "      <th>nConditions</th>\n",
       "      <th>PercDataFlagged</th>\n",
       "      <th>OptMetric</th>\n",
       "    </tr>\n",
       "    <tr>\n",
       "      <th>Rule</th>\n",
       "      <th></th>\n",
       "      <th></th>\n",
       "      <th></th>\n",
       "      <th></th>\n",
       "      <th></th>\n",
       "      <th></th>\n",
       "    </tr>\n",
       "  </thead>\n",
       "  <tbody>\n",
       "    <tr>\n",
       "      <th>RGO_Rule4</th>\n",
       "      <td>(X['C_FR']==True)</td>\n",
       "      <td>1.000000</td>\n",
       "      <td>0.5</td>\n",
       "      <td>1</td>\n",
       "      <td>0.25</td>\n",
       "      <td>1.000000</td>\n",
       "    </tr>\n",
       "    <tr>\n",
       "      <th>RGO_Rule10</th>\n",
       "      <td>(X['C_missing']==True)</td>\n",
       "      <td>1.000000</td>\n",
       "      <td>0.5</td>\n",
       "      <td>1</td>\n",
       "      <td>0.25</td>\n",
       "      <td>1.000000</td>\n",
       "    </tr>\n",
       "    <tr>\n",
       "      <th>RGO_Rule1</th>\n",
       "      <td>(X['B']&gt;=2)</td>\n",
       "      <td>1.000000</td>\n",
       "      <td>1.0</td>\n",
       "      <td>1</td>\n",
       "      <td>0.50</td>\n",
       "      <td>1.000000</td>\n",
       "    </tr>\n",
       "    <tr>\n",
       "      <th>RGO_Rule30</th>\n",
       "      <td>(X['C_GB']==False)&amp;(X['C_US']==False)</td>\n",
       "      <td>1.000000</td>\n",
       "      <td>1.0</td>\n",
       "      <td>2</td>\n",
       "      <td>0.50</td>\n",
       "      <td>1.000000</td>\n",
       "    </tr>\n",
       "    <tr>\n",
       "      <th>RGO_Rule34</th>\n",
       "      <td>(X['A']&gt;=0)&amp;(X['C_US']==False)</td>\n",
       "      <td>1.000000</td>\n",
       "      <td>1.0</td>\n",
       "      <td>2</td>\n",
       "      <td>0.50</td>\n",
       "      <td>1.000000</td>\n",
       "    </tr>\n",
       "    <tr>\n",
       "      <th>RGO_Rule7</th>\n",
       "      <td>(X['C_GB']==False)</td>\n",
       "      <td>0.666667</td>\n",
       "      <td>1.0</td>\n",
       "      <td>1</td>\n",
       "      <td>0.75</td>\n",
       "      <td>0.666667</td>\n",
       "    </tr>\n",
       "    <tr>\n",
       "      <th>RGO_Rule9</th>\n",
       "      <td>(X['C_US']==False)</td>\n",
       "      <td>0.666667</td>\n",
       "      <td>1.0</td>\n",
       "      <td>1</td>\n",
       "      <td>0.75</td>\n",
       "      <td>0.666667</td>\n",
       "    </tr>\n",
       "    <tr>\n",
       "      <th>RGO_Rule0</th>\n",
       "      <td>(X['A']&gt;=0)</td>\n",
       "      <td>0.666667</td>\n",
       "      <td>1.0</td>\n",
       "      <td>1</td>\n",
       "      <td>0.75</td>\n",
       "      <td>0.666667</td>\n",
       "    </tr>\n",
       "    <tr>\n",
       "      <th>RGO_Rule2</th>\n",
       "      <td>(X['A']&lt;=2)</td>\n",
       "      <td>0.500000</td>\n",
       "      <td>1.0</td>\n",
       "      <td>1</td>\n",
       "      <td>1.00</td>\n",
       "      <td>0.500000</td>\n",
       "    </tr>\n",
       "    <tr>\n",
       "      <th>RGO_Rule3</th>\n",
       "      <td>(X['B']&lt;=4)</td>\n",
       "      <td>0.500000</td>\n",
       "      <td>1.0</td>\n",
       "      <td>1</td>\n",
       "      <td>1.00</td>\n",
       "      <td>0.500000</td>\n",
       "    </tr>\n",
       "  </tbody>\n",
       "</table>\n",
       "</div>"
      ],
      "text/plain": [
       "                                            Logic  Precision  Recall  \\\n",
       "Rule                                                                   \n",
       "RGO_Rule4                       (X['C_FR']==True)   1.000000     0.5   \n",
       "RGO_Rule10                 (X['C_missing']==True)   1.000000     0.5   \n",
       "RGO_Rule1                             (X['B']>=2)   1.000000     1.0   \n",
       "RGO_Rule30  (X['C_GB']==False)&(X['C_US']==False)   1.000000     1.0   \n",
       "RGO_Rule34         (X['A']>=0)&(X['C_US']==False)   1.000000     1.0   \n",
       "RGO_Rule7                      (X['C_GB']==False)   0.666667     1.0   \n",
       "RGO_Rule9                      (X['C_US']==False)   0.666667     1.0   \n",
       "RGO_Rule0                             (X['A']>=0)   0.666667     1.0   \n",
       "RGO_Rule2                             (X['A']<=2)   0.500000     1.0   \n",
       "RGO_Rule3                             (X['B']<=4)   0.500000     1.0   \n",
       "\n",
       "           nConditions  PercDataFlagged  OptMetric  \n",
       "Rule                                                \n",
       "RGO_Rule4            1             0.25   1.000000  \n",
       "RGO_Rule10           1             0.25   1.000000  \n",
       "RGO_Rule1            1             0.50   1.000000  \n",
       "RGO_Rule30           2             0.50   1.000000  \n",
       "RGO_Rule34           2             0.50   1.000000  \n",
       "RGO_Rule7            1             0.75   0.666667  \n",
       "RGO_Rule9            1             0.75   0.666667  \n",
       "RGO_Rule0            1             0.75   0.666667  \n",
       "RGO_Rule2            1             1.00   0.500000  \n",
       "RGO_Rule3            1             1.00   0.500000  "
      ]
     },
     "execution_count": 97,
     "metadata": {},
     "output_type": "execute_result"
    }
   ],
   "source": [
    "rgo_wo_imputed.rule_descriptions"
   ]
  },
  {
   "cell_type": "code",
   "execution_count": 100,
   "metadata": {},
   "outputs": [],
   "source": [
    "imputed_values={'A': 0, 'B':-1, 'C': 'missing'}\n",
    "ohe_categories={'C_US': 'US', 'C_GB': 'GB', 'C_FR': 'FR', 'C_missing': 'missing'}\n",
    "rule_strings = rgo_wo_imputed.rules.rule_strings"
   ]
  },
  {
   "cell_type": "code",
   "execution_count": 116,
   "metadata": {},
   "outputs": [],
   "source": [
    "from rules.convert_processed_conditions_to_general import ConvertProcessedConditionsToGeneral"
   ]
  },
  {
   "cell_type": "code",
   "execution_count": 134,
   "metadata": {},
   "outputs": [],
   "source": [
    "c = ConvertProcessedConditionsToGeneral(imputed_values=imputed_values, ohe_categories=ohe_categories)"
   ]
  },
  {
   "cell_type": "code",
   "execution_count": 135,
   "metadata": {},
   "outputs": [],
   "source": [
    "# c._recurse_create_condition_replacement_dict(rule_string=\"(X['C_GB']==False)&(X['C_US']==False)\", X=X_processed)"
   ]
  },
  {
   "cell_type": "code",
   "execution_count": 136,
   "metadata": {},
   "outputs": [],
   "source": [
    "# c.condition_replacement_dict"
   ]
  },
  {
   "cell_type": "code",
   "execution_count": 137,
   "metadata": {},
   "outputs": [
    {
     "data": {
      "text/plain": [
       "{'RGO_Rule4': \"(X['C']=='FR')\",\n",
       " 'RGO_Rule10': \"(X['C'].isna())\",\n",
       " 'RGO_Rule1': \"(X['B']>=2)\",\n",
       " 'RGO_Rule30': \"(X['C']!='GB')&(X['C']!='US')\",\n",
       " 'RGO_Rule34': \"((X['A']>=0)|(X['A'].isna()))&(X['C']!='US')\",\n",
       " 'RGO_Rule7': \"(X['C']!='GB')\",\n",
       " 'RGO_Rule9': \"(X['C']!='US')\",\n",
       " 'RGO_Rule0': \"((X['A']>=0)|(X['A'].isna()))\",\n",
       " 'RGO_Rule2': \"((X['A']<=2)|(X['A'].isna()))\",\n",
       " 'RGO_Rule3': \"((X['B']<=4)|(X['B'].isna()))\"}"
      ]
     },
     "execution_count": 137,
     "metadata": {},
     "output_type": "execute_result"
    }
   ],
   "source": [
    "c.convert(rule_strings=rule_strings, X=X_processed)"
   ]
  },
  {
   "cell_type": "markdown",
   "metadata": {},
   "source": [
    "## Compare application of rules "
   ]
  },
  {
   "cell_type": "code",
   "execution_count": 139,
   "metadata": {},
   "outputs": [],
   "source": [
    "apply_processed = ArgoRuleApplier(rule_strings = rgo_wo_imputed.rules.rule_strings)"
   ]
  },
  {
   "cell_type": "code",
   "execution_count": 141,
   "metadata": {},
   "outputs": [],
   "source": [
    "X_rules_processed = apply_processed.apply(X_processed, y)"
   ]
  },
  {
   "cell_type": "code",
   "execution_count": 144,
   "metadata": {},
   "outputs": [],
   "source": [
    "apply_general = ArgoRuleApplier(rule_strings = c.rules.rule_strings)"
   ]
  },
  {
   "cell_type": "code",
   "execution_count": 145,
   "metadata": {},
   "outputs": [],
   "source": [
    "X_rules_general = apply_general.apply(X_orig, y)"
   ]
  },
  {
   "cell_type": "code",
   "execution_count": 147,
   "metadata": {},
   "outputs": [
    {
     "data": {
      "text/plain": [
       "RGO_Rule4     1.0\n",
       "RGO_Rule10    1.0\n",
       "RGO_Rule1     1.0\n",
       "RGO_Rule30    1.0\n",
       "RGO_Rule34    1.0\n",
       "RGO_Rule7     1.0\n",
       "RGO_Rule9     1.0\n",
       "RGO_Rule0     1.0\n",
       "RGO_Rule2     1.0\n",
       "RGO_Rule3     1.0\n",
       "dtype: float64"
      ]
     },
     "execution_count": 147,
     "metadata": {},
     "output_type": "execute_result"
    }
   ],
   "source": [
    "(X_rules_processed == X_rules_general).mean()"
   ]
  },
  {
   "cell_type": "markdown",
   "metadata": {},
   "source": [
    "# Unit testing"
   ]
  },
  {
   "cell_type": "code",
   "execution_count": 186,
   "metadata": {},
   "outputs": [],
   "source": [
    "X_orig = pd.DataFrame(\n",
    "    {\n",
    "        'A': np.array([-1, 1, np.nan, 2] * 250),\n",
    "        'country': ['GB', 'US', 'FR', np.nan] * 250\n",
    "    }\n",
    ")\n",
    "imputed_values = {\n",
    "    'A': 0,\n",
    "    'country': 'missing'\n",
    "}\n",
    "ohe_categories = {\n",
    "    'country_GB': 'GB',\n",
    "    'country_US': 'US',\n",
    "    'country_FR': 'FR',\n",
    "    'country_missing': 'missing',\n",
    "}\n",
    "X_processed = X_orig.fillna(imputed_values)\n",
    "X_processed = pd.get_dummies(X_processed)\n",
    "rule_strings = {\n",
    "    'nan_low': \"(X['A']>=0)\",\n",
    "    'nan_middle': \"(X['A']>=-1)\",\n",
    "    'nan_high': \"(X['A']<=0)\",\n",
    "    'no_nan': \"(X['A']>=2)\",\n",
    "    'is_GB': \"(X['country_GB']==True)\",\n",
    "    'is_not_FR': \"(X['country_FR']==False)\",\n",
    "    'is_missing': \"(X['country_missing']==True)\",\n",
    "    'is_not_missing': \"(X['country_missing']==False)\",\n",
    "    'combined_rule_0': \"(X['A']>=0)&(X['A']>=-1)\",\n",
    "    'combined_rule_1': \"(X['A']>=0)&(X['A']<=0)\",\n",
    "    'combined_rule_2': \"(X['A']>=0)&(X['A']>=2)\",\n",
    "    'combined_rule_3': \"(X['A']>=0)&(X['country_GB']==True)\",\n",
    "    'combined_rule_4': \"(X['A']>=0)&(X['country_FR']==False)\",\n",
    "    'combined_rule_5': \"(X['A']>=0)&(X['country_missing']==True)\",\n",
    "    'combined_rule_6': \"(X['A']>=0)&(X['country_missing']==False)\",\n",
    "    'combined_rule_7': \"(X['A']>=-1)&(X['A']<=0)\",\n",
    "    'combined_rule_8': \"(X['A']>=-1)&(X['A']>=2)\",\n",
    "    'combined_rule_9': \"(X['A']>=-1)&(X['country_GB']==True)\",\n",
    "    'combined_rule_10': \"(X['A']>=-1)&(X['country_FR']==False)\",\n",
    "    'combined_rule_11': \"(X['A']>=-1)&(X['country_missing']==True)\",\n",
    "    'combined_rule_12': \"(X['A']>=-1)&(X['country_missing']==False)\",\n",
    "    'combined_rule_13': \"(X['A']<=0)&(X['A']>=2)\",\n",
    "    'combined_rule_14': \"(X['A']<=0)&(X['country_GB']==True)\",\n",
    "    'combined_rule_15': \"(X['A']<=0)&(X['country_FR']==False)\",\n",
    "    'combined_rule_16': \"(X['A']<=0)&(X['country_missing']==True)\",\n",
    "    'combined_rule_17': \"(X['A']<=0)&(X['country_missing']==False)\",\n",
    "    'combined_rule_18': \"(X['A']>=2)&(X['country_GB']==True)\",\n",
    "    'combined_rule_19': \"(X['A']>=2)&(X['country_FR']==False)\",\n",
    "    'combined_rule_20': \"(X['A']>=2)&(X['country_missing']==True)\",\n",
    "    'combined_rule_21': \"(X['A']>=2)&(X['country_missing']==False)\",\n",
    "    'combined_rule_22': \"(X['country_GB']==True)&(X['country_FR']==False)\",\n",
    "    'combined_rule_23': \"(X['country_GB']==True)&(X['country_missing']==True)\",\n",
    "    'combined_rule_24': \"(X['country_GB']==True)&(X['country_missing']==False)\",\n",
    "    'combined_rule_25': \"(X['country_FR']==False)&(X['country_missing']==True)\",\n",
    "    'combined_rule_26': \"(X['country_FR']==False)&(X['country_missing']==False)\",\n",
    "    'combined_rule_27': \"(X['country_missing']==True)&(X['country_missing']==False)\"\n",
    "}\n",
    "c = ConvertProcessedConditionsToGeneral(imputed_values, ohe_categories)"
   ]
  },
  {
   "cell_type": "code",
   "execution_count": 172,
   "metadata": {},
   "outputs": [
    {
     "data": {
      "text/plain": [
       "{'nan_low': \"((X['A']>=0)|(X['A'].isna()))\",\n",
       " 'nan_middle': \"((X['A']>=-1)|(X['A'].isna()))\",\n",
       " 'nan_high': \"((X['A']<=0)|(X['A'].isna()))\",\n",
       " 'no_nan': \"(X['A']>=2)\",\n",
       " 'is_GB': \"(X['country']=='GB')\",\n",
       " 'is_not_FR': \"(X['country']!='FR')\",\n",
       " 'is_missing': \"(X['country'].isna())\",\n",
       " 'is_not_missing': \"(~X['country'].isna())\",\n",
       " 'combined_rule_0': \"((X['A']>=0)|(X['A'].isna()))&((X['A']>=-1)|(X['A'].isna()))\",\n",
       " 'combined_rule_1': \"((X['A']>=0)|(X['A'].isna()))&((X['A']<=0)|(X['A'].isna()))\",\n",
       " 'combined_rule_2': \"((X['A']>=0)|(X['A'].isna()))&(X['A']>=2)\",\n",
       " 'combined_rule_3': \"((X['A']>=0)|(X['A'].isna()))&(X['country']=='GB')\",\n",
       " 'combined_rule_4': \"((X['A']>=0)|(X['A'].isna()))&(X['country']!='FR')\",\n",
       " 'combined_rule_5': \"((X['A']>=0)|(X['A'].isna()))&(X['country'].isna())\",\n",
       " 'combined_rule_6': \"((X['A']>=0)|(X['A'].isna()))&(~X['country'].isna())\",\n",
       " 'combined_rule_7': \"((X['A']>=-1)|(X['A'].isna()))&((X['A']<=0)|(X['A'].isna()))\",\n",
       " 'combined_rule_8': \"((X['A']>=-1)|(X['A'].isna()))&(X['A']>=2)\",\n",
       " 'combined_rule_9': \"((X['A']>=-1)|(X['A'].isna()))&(X['country']=='GB')\",\n",
       " 'combined_rule_10': \"((X['A']>=-1)|(X['A'].isna()))&(X['country']!='FR')\",\n",
       " 'combined_rule_11': \"((X['A']>=-1)|(X['A'].isna()))&(X['country'].isna())\",\n",
       " 'combined_rule_12': \"((X['A']>=-1)|(X['A'].isna()))&(~X['country'].isna())\",\n",
       " 'combined_rule_13': \"((X['A']<=0)|(X['A'].isna()))&(X['A']>=2)\",\n",
       " 'combined_rule_14': \"((X['A']<=0)|(X['A'].isna()))&(X['country']=='GB')\",\n",
       " 'combined_rule_15': \"((X['A']<=0)|(X['A'].isna()))&(X['country']!='FR')\",\n",
       " 'combined_rule_16': \"((X['A']<=0)|(X['A'].isna()))&(X['country'].isna())\",\n",
       " 'combined_rule_17': \"((X['A']<=0)|(X['A'].isna()))&(~X['country'].isna())\",\n",
       " 'combined_rule_18': \"(X['A']>=2)&(X['country']=='GB')\",\n",
       " 'combined_rule_19': \"(X['A']>=2)&(X['country']!='FR')\",\n",
       " 'combined_rule_20': \"(X['A']>=2)&(X['country'].isna())\",\n",
       " 'combined_rule_21': \"(X['A']>=2)&(~X['country'].isna())\",\n",
       " 'combined_rule_22': \"(X['country']=='GB')&(X['country']!='FR')\",\n",
       " 'combined_rule_23': \"(X['country']=='GB')&(X['country'].isna())\",\n",
       " 'combined_rule_24': \"(X['country']=='GB')&(~X['country'].isna())\",\n",
       " 'combined_rule_25': \"(X['country']!='FR')&(X['country'].isna())\",\n",
       " 'combined_rule_26': \"(X['country']!='FR')&(~X['country'].isna())\",\n",
       " 'combined_rule_27': \"(X['country'].isna())&(~X['country'].isna())\"}"
      ]
     },
     "execution_count": 172,
     "metadata": {},
     "output_type": "execute_result"
    }
   ],
   "source": [
    "c.convert(rule_strings, X_processed)"
   ]
  },
  {
   "cell_type": "code",
   "execution_count": 182,
   "metadata": {},
   "outputs": [],
   "source": [
    "expected_general_rule_strings = {'nan_low': \"((X['A']>=0)|(X['A'].isna()))\", 'nan_middle': \"((X['A']>=-1)|(X['A'].isna()))\", 'nan_high': \"((X['A']<=0)|(X['A'].isna()))\", 'no_nan': \"(X['A']>=2)\", 'is_GB': \"(X['country']=='GB')\", 'is_not_FR': \"(X['country']!='FR')\", 'is_missing': \"(X['country'].isna())\", 'is_not_missing': \"(~X['country'].isna())\", 'combined_rule_0': \"((X['A']>=0)|(X['A'].isna()))&((X['A']>=-1)|(X['A'].isna()))\", 'combined_rule_1': \"((X['A']>=0)|(X['A'].isna()))&((X['A']<=0)|(X['A'].isna()))\", 'combined_rule_2': \"((X['A']>=0)|(X['A'].isna()))&(X['A']>=2)\", 'combined_rule_3': \"((X['A']>=0)|(X['A'].isna()))&(X['country']=='GB')\", 'combined_rule_4': \"((X['A']>=0)|(X['A'].isna()))&(X['country']!='FR')\", 'combined_rule_5': \"((X['A']>=0)|(X['A'].isna()))&(X['country'].isna())\", 'combined_rule_6': \"((X['A']>=0)|(X['A'].isna()))&(~X['country'].isna())\", 'combined_rule_7': \"((X['A']>=-1)|(X['A'].isna()))&((X['A']<=0)|(X['A'].isna()))\", 'combined_rule_8': \"((X['A']>=-1)|(X['A'].isna()))&(X['A']>=2)\", 'combined_rule_9': \"((X['A']>=-1)|(X['A'].isna()))&(X['country']=='GB')\", 'combined_rule_10': \"((X['A']>=-1)|(X['A'].isna()))&(X['country']!='FR')\", 'combined_rule_11': \"((X['A']>=-1)|(X['A'].isna()))&(X['country'].isna())\", 'combined_rule_12': \"((X['A']>=-1)|(X['A'].isna()))&(~X['country'].isna())\", 'combined_rule_13': \"((X['A']<=0)|(X['A'].isna()))&(X['A']>=2)\", 'combined_rule_14': \"((X['A']<=0)|(X['A'].isna()))&(X['country']=='GB')\", 'combined_rule_15': \"((X['A']<=0)|(X['A'].isna()))&(X['country']!='FR')\", 'combined_rule_16': \"((X['A']<=0)|(X['A'].isna()))&(X['country'].isna())\", 'combined_rule_17': \"((X['A']<=0)|(X['A'].isna()))&(~X['country'].isna())\", 'combined_rule_18': \"(X['A']>=2)&(X['country']=='GB')\", 'combined_rule_19': \"(X['A']>=2)&(X['country']!='FR')\", 'combined_rule_20': \"(X['A']>=2)&(X['country'].isna())\", 'combined_rule_21': \"(X['A']>=2)&(~X['country'].isna())\", 'combined_rule_22': \"(X['country']=='GB')&(X['country']!='FR')\", 'combined_rule_23': \"(X['country']=='GB')&(X['country'].isna())\", 'combined_rule_24': \"(X['country']=='GB')&(~X['country'].isna())\", 'combined_rule_25': \"(X['country']!='FR')&(X['country'].isna())\", 'combined_rule_26': \"(X['country']!='FR')&(~X['country'].isna())\", 'combined_rule_27': \"(X['country'].isna())&(~X['country'].isna())\"}"
   ]
  },
  {
   "cell_type": "code",
   "execution_count": 183,
   "metadata": {},
   "outputs": [
    {
     "data": {
      "text/plain": [
       "True"
      ]
     },
     "execution_count": 183,
     "metadata": {},
     "output_type": "execute_result"
    }
   ],
   "source": [
    "expected_general_rule_strings == c.rules.rule_strings"
   ]
  },
  {
   "cell_type": "code",
   "execution_count": 189,
   "metadata": {},
   "outputs": [],
   "source": [
    "c.condition_replacement_dict = {}\n",
    "c._recurse_create_condition_replacement_dict(rule_string=rule_strings['combined_rule_5'], X=X_processed)"
   ]
  },
  {
   "cell_type": "code",
   "execution_count": 190,
   "metadata": {},
   "outputs": [
    {
     "data": {
      "text/plain": [
       "{\"(X['A']>=0)\": \"((X['A']>=0)|(X['A'].isna()))\",\n",
       " \"(X['country_missing']==True)\": \"(X['country'].isna())\"}"
      ]
     },
     "execution_count": 190,
     "metadata": {},
     "output_type": "execute_result"
    }
   ],
   "source": [
    "c.condition_replacement_dict"
   ]
  },
  {
   "cell_type": "code",
   "execution_count": 173,
   "metadata": {},
   "outputs": [],
   "source": [
    "from rule_application.argo_rule_applier import ArgoRuleApplier"
   ]
  },
  {
   "cell_type": "code",
   "execution_count": 175,
   "metadata": {},
   "outputs": [],
   "source": [
    "apply_processed = ArgoRuleApplier(rule_strings=rule_strings)\n",
    "X_rules_processed = apply_processed.apply(X_processed)"
   ]
  },
  {
   "cell_type": "code",
   "execution_count": 177,
   "metadata": {},
   "outputs": [],
   "source": [
    "apply_general = ArgoRuleApplier(rule_strings=c.rules.rule_strings)\n",
    "X_rules_general = apply_general.apply(X_orig)"
   ]
  },
  {
   "cell_type": "code",
   "execution_count": 180,
   "metadata": {},
   "outputs": [
    {
     "data": {
      "text/plain": [
       "1.0"
      ]
     },
     "execution_count": 180,
     "metadata": {},
     "output_type": "execute_result"
    }
   ],
   "source": [
    "(X_rules_processed == X_rules_general).mean().mean()"
   ]
  },
  {
   "cell_type": "code",
   "execution_count": 191,
   "metadata": {},
   "outputs": [],
   "source": [
    "test = {'A':1, 'B':2}"
   ]
  },
  {
   "cell_type": "code",
   "execution_count": 193,
   "metadata": {},
   "outputs": [
    {
     "ename": "KeyError",
     "evalue": "('A', 'B')",
     "output_type": "error",
     "traceback": [
      "\u001b[0;31m---------------------------------------------------------------------------\u001b[0m",
      "\u001b[0;31mKeyError\u001b[0m                                  Traceback (most recent call last)",
      "\u001b[0;32m<ipython-input-193-1a469c18645f>\u001b[0m in \u001b[0;36m<module>\u001b[0;34m\u001b[0m\n\u001b[0;32m----> 1\u001b[0;31m \u001b[0mtest\u001b[0m\u001b[0;34m[\u001b[0m\u001b[0;34m'A'\u001b[0m\u001b[0;34m,\u001b[0m \u001b[0;34m'B'\u001b[0m\u001b[0;34m]\u001b[0m\u001b[0;34m\u001b[0m\u001b[0;34m\u001b[0m\u001b[0m\n\u001b[0m",
      "\u001b[0;31mKeyError\u001b[0m: ('A', 'B')"
     ]
    }
   ],
   "source": [
    "test['A', 'B']"
   ]
  },
  {
   "cell_type": "code",
   "execution_count": null,
   "metadata": {},
   "outputs": [],
   "source": []
  }
 ],
 "metadata": {
  "kernelspec": {
   "display_name": "argo",
   "language": "python",
   "name": "argo"
  },
  "language_info": {
   "codemirror_mode": {
    "name": "ipython",
    "version": 3
   },
   "file_extension": ".py",
   "mimetype": "text/x-python",
   "name": "python",
   "nbconvert_exporter": "python",
   "pygments_lexer": "ipython3",
   "version": "3.7.3"
  }
 },
 "nbformat": 4,
 "nbformat_minor": 4
}
